{
  "cells": [
    {
      "cell_type": "markdown",
      "metadata": {
        "colab_type": "text",
        "id": "view-in-github"
      },
      "source": [
        "<a href=\"https://colab.research.google.com/github/Ads369/Ads_2s/blob/main/5_3_%D0%94%D0%BE%D0%BC%D0%B0%D1%88%D0%BD%D1%8F%D1%8F_%D1%80%D0%B0%D0%B1%D0%BE%D1%82%D0%B0.ipynb\" target=\"_parent\"><img src=\"https://colab.research.google.com/assets/colab-badge.svg\" alt=\"Open In Colab\"/></a>"
      ]
    },
    {
      "cell_type": "markdown",
      "metadata": {
        "id": "8LIWrmOPjBO6"
      },
      "source": [
        "**Навигация по уроку**\n",
        "\n",
        "1. [Нейронные сети. Математическая модель нейрона.](https://colab.research.google.com/drive/1XXxO2vyd9IDYT23tQrVMAAYeHYn-Awww)\n",
        "2. [Нейронные сети. Функции активации](https://colab.research.google.com/drive/1mhEEhb3mdE5mKFIvOiC5tHvkPiWD8DBj)\n",
        "3. Домашняя работа"
      ]
    },
    {
      "cell_type": "markdown",
      "metadata": {
        "id": "B5IghQAm20sG"
      },
      "source": [
        "## Задача 1. Класс Neuron"
      ]
    },
    {
      "cell_type": "markdown",
      "metadata": {
        "id": "BxRUPNKFrxow"
      },
      "source": [
        "**Условие** Используя примеры из теоретической части 5.1 и 5.2, составьте класс Neuron модели нейрона, принимающего на вход от одного до 10 входных параметров. Запрещается пользоваться библиотекой numpy. На вход подается список. Матричное умножение реализуется с помощью циклов самостоятельно. Класс содержит методы для вычисления взвешенной суммы, а также содержит функции активации из урока."
      ]
    },
    {
      "cell_type": "code",
      "execution_count": null,
      "metadata": {
        "id": "El4o9_QWeq78"
      },
      "outputs": [],
      "source": [
        "%%writefile neuron.py\n",
        "import numpy as np\n",
        "\n",
        "class Neuron:\n",
        "    def __init__(self, w):\n",
        "        if 1 <= len(w) <= 10:\n",
        "            self.w = w\n",
        "        else:\n",
        "            raise ValueError\n",
        "\n",
        "    def multiply(self, x):\n",
        "        return sum(map(lambda x, y: x * y, self.w, x))\n",
        "    \n",
        "    # Функция Хевисайда\n",
        "    def one_step(self, x): \n",
        "        if x >= 0:\n",
        "            return 1\n",
        "        else:\n",
        "            return 0\n",
        "        \n",
        "    # функция активации (сигмоида)\n",
        "    def sigmoid(self, x):\n",
        "        return 1 / (1 + np.exp(-x))\n",
        "    \n",
        "    # Гиперболический тангенс\n",
        "    def tanh(self, x):\n",
        "        return np.tanh(x)\n",
        "    \n",
        "    def relu(self, x):\n",
        "        return np.max(0, x)\n",
        "    \n",
        "    def leaky_relu(self, x, alfa = 0.01):\n",
        "        return np.max(alfa * x, x)\n",
        "    \n",
        "    def elu(self, x, alfa = 0.01):\n",
        "        return np.max(alfa * (np.exp(x) - 1), x)\n"
      ]
    },
    {
      "cell_type": "markdown",
      "metadata": {
        "id": "BXPoR8av3AUx"
      },
      "source": [
        "## Задача 2. Класс Neuron (продолжение)"
      ]
    },
    {
      "cell_type": "markdown",
      "metadata": {
        "id": "KLC5Gv3L3CP_"
      },
      "source": [
        "**Условие.** Используя класс Neuron из первой задачи, придумать свой пример на принятие решения (по аналогии с задачей \"о рыбаке и рыбке\"), не менее 4 входных параметров, веса установить произвольно из логики задачи, произвести расчёт функций активаций, определённых в классе первой задачи."
      ]
    },
    {
      "cell_type": "code",
      "execution_count": null,
      "metadata": {
        "id": "yr-i4FFg3DAf"
      },
      "outputs": [],
      "source": [
        "from neuron import Neuron\n",
        "\n",
        "'''\n",
        "Поробуем сохдать модель судейства в танцах\n",
        "\n",
        "1) Ритмичность - Самый важный аспект который показывает танцует ли танцор в музыку или нет\n",
        "2) Техника - Второй по важности аспект который указывает насколько технично движется танцор\n",
        "3) Сложность элементов - Аспект отвечающий за хареографическую сложность элементов\n",
        "4) Музыкальность - Отвечает за то как качественно танцор обыгрывает музыкальные акценты в музыке\n",
        "\n",
        "'''    \n",
        "    \n",
        "# Исходя из этого составим вектор весов\n",
        "Wi = (5, 4, 2, 3)\n",
        "# Задаем входной вектор\n",
        "Xi = (1, 0, 0, 1)\n",
        "\n",
        "# По моему \"экспетному\" мнению должен быть такой сдвиг\n",
        "bis = 9\n",
        "\n",
        "n = Neuron(Wi)\n",
        "s = n.multiply(Xi) - bis\n",
        "print('S =', s)\n",
        "print('Y1 =', n.one_step(s))\n",
        "print('Y2 =', n.sigmoid(s))\n",
        "print('Y3 =', n.tanh(s))\n",
        "print('Y4 =', n.relu(s))\n",
        "print('Y5 =', n.leaky_relu(s))\n",
        "print('Y6 =', n.elu(s))"
      ]
    }
  ],
  "metadata": {
    "colab": {
      "include_colab_link": true,
      "provenance": []
    },
    "kernelspec": {
      "display_name": "Python 3",
      "name": "python3"
    },
    "language_info": {
      "name": "python"
    }
  },
  "nbformat": 4,
  "nbformat_minor": 0
}
