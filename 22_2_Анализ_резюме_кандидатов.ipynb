{
  "nbformat": 4,
  "nbformat_minor": 0,
  "metadata": {
    "colab": {
      "provenance": [],
      "gpuType": "T4",
      "include_colab_link": true
    },
    "kernelspec": {
      "name": "python3",
      "display_name": "Python 3"
    },
    "language_info": {
      "name": "python"
    },
    "accelerator": "GPU"
  },
  "cells": [
    {
      "cell_type": "markdown",
      "metadata": {
        "id": "view-in-github",
        "colab_type": "text"
      },
      "source": [
        "<a href=\"https://colab.research.google.com/github/Ads369/Ads_2s/blob/main/22_2_%D0%90%D0%BD%D0%B0%D0%BB%D0%B8%D0%B7_%D1%80%D0%B5%D0%B7%D1%8E%D0%BC%D0%B5_%D0%BA%D0%B0%D0%BD%D0%B4%D0%B8%D0%B4%D0%B0%D1%82%D0%BE%D0%B2.ipynb\" target=\"_parent\"><img src=\"https://colab.research.google.com/assets/colab-badge.svg\" alt=\"Open In Colab\"/></a>"
      ]
    },
    {
      "cell_type": "markdown",
      "source": [
        " **Навигация по уроку**\n",
        "\n",
        "1. [Решение задач регрессии с помощью НС](https://colab.research.google.com/drive/1GbXbqPbC4A2NVJEj-5pOOySN3gyalBQN)\n",
        "2. Анализ резюме кандидатов\n",
        "3. [Домашняя работа](https://colab.research.google.com/drive/1iPTkGZ_AEUpl5l6DR__J021gHR61RRfQ)"
      ],
      "metadata": {
        "id": "Oh5y9k76hVn5"
      }
    },
    {
      "cell_type": "markdown",
      "source": [
        "В данном практическом Блокноте мы обучим НС на наборе данных [Резюме из ЕЦП «Работа в России»](https://opendata.trudvsem.ru/csv/cv.csv) предсказывать ожидаемую зарплату соискателя по его резюме. Датасет можно получить по [ссылке](https://opendata.trudvsem.ru/csv/cv.csv) из официального источника. Однако, он периодически обновляется, имеет размер более 20Гб и может содержать ошибки, что усложняет его загрузку и обработку. Для обучающего примера, он слишком велик. Поэтому предлагается использовать его обрезанную до 100 тыс резюме [копию](https://storage.yandexcloud.net/academy.ai/cv_100000.csv) не превышающую 230Мб с исправленными ошибками.\n",
        "\n",
        "Как всегда мы начинаем работу с импорта необходимых библиотек."
      ],
      "metadata": {
        "id": "fi7HrzSZa_nG"
      }
    },
    {
      "cell_type": "markdown",
      "source": [
        "## Импорт библиотек"
      ],
      "metadata": {
        "id": "7Qo2vGNbbAFb"
      }
    },
    {
      "cell_type": "code",
      "source": [
        "# Для работы с массивами данных\n",
        "import numpy as np\n",
        "\n",
        "# Для работы с табличными данными\n",
        "import pandas as pd\n",
        "\n",
        "# Библиотека утилит\n",
        "from keras import utils\n",
        "\n",
        "# Для работы с моделями\n",
        "from keras.models import Sequential, Model\n",
        "\n",
        "# Слои\n",
        "from keras.layers import Dense, Dropout, SpatialDropout1D, BatchNormalization, Embedding, Flatten, Activation, Input, concatenate\n",
        "from keras.layers import SimpleRNN, GRU, LSTM, Bidirectional, Conv1D, MaxPooling1D, GlobalMaxPooling1D\n",
        "\n",
        "# Оптимизаторы\n",
        "from keras.optimizers import Adam, Adadelta, SGD, Adagrad, RMSprop\n",
        "\n",
        "# Токенизатор\n",
        "from tensorflow.keras.preprocessing.text import Tokenizer\n",
        "\n",
        "# Нормализация данных\n",
        "from sklearn.preprocessing import StandardScaler\n",
        "\n",
        "# Регулярные выражения\n",
        "import re\n",
        "\n",
        "# Для работы с графиками\n",
        "import matplotlib.pyplot as plt\n",
        "\n",
        "# Метрики для расчета ошибок\n",
        "from sklearn.metrics import mean_squared_error, mean_absolute_error\n",
        "\n",
        "# Для преобразования строки в json формат\n",
        "import json\n",
        "\n",
        "%matplotlib inline"
      ],
      "metadata": {
        "id": "_pVP7VJubG8f"
      },
      "execution_count": null,
      "outputs": []
    },
    {
      "cell_type": "markdown",
      "source": [
        "## Загрузка данных"
      ],
      "metadata": {
        "id": "JXP1J32Ub-FK"
      }
    },
    {
      "cell_type": "markdown",
      "source": [
        "Далее мы загружаем облегченную версию датасета. Порядок и набор полей сохранен как в оригинальном датасете."
      ],
      "metadata": {
        "id": "K9VwbXqmimwl"
      }
    },
    {
      "cell_type": "code",
      "execution_count": null,
      "metadata": {
        "id": "JgEFjaeyKGjf",
        "colab": {
          "base_uri": "https://localhost:8080/"
        },
        "outputId": "2aca5c70-7f39-4fcc-85c7-465cae811ba7"
      },
      "outputs": [
        {
          "output_type": "stream",
          "name": "stdout",
          "text": [
            "--2024-03-20 11:52:15--  https://storage.yandexcloud.net/academy.ai/cv_100000.csv\n",
            "Resolving storage.yandexcloud.net (storage.yandexcloud.net)... 213.180.193.243, 2a02:6b8::1d9\n",
            "Connecting to storage.yandexcloud.net (storage.yandexcloud.net)|213.180.193.243|:443... connected.\n",
            "HTTP request sent, awaiting response... 200 OK\n",
            "Length: 237228370 (226M) [text/csv]\n",
            "Saving to: ‘cv_100000.csv.1’\n",
            "\n",
            "cv_100000.csv.1     100%[===================>] 226.24M  10.8MB/s    in 23s     \n",
            "\n",
            "2024-03-20 11:52:40 (9.70 MB/s) - ‘cv_100000.csv.1’ saved [237228370/237228370]\n",
            "\n"
          ]
        }
      ],
      "source": [
        "!wget https://storage.yandexcloud.net/academy.ai/cv_100000.csv"
      ]
    },
    {
      "cell_type": "code",
      "source": [
        "# Чтение файла базы данных\n",
        "df = pd.read_csv('cv_100000.csv', delimiter='|', on_bad_lines='skip', low_memory=False, index_col=0)\n",
        "\n",
        "# Вывод количества резюме и числа признаков\n",
        "print('Форма данных: ', df.shape)\n"
      ],
      "metadata": {
        "colab": {
          "base_uri": "https://localhost:8080/"
        },
        "id": "3aW4tAhacRK-",
        "outputId": "c67e1a14-aa8d-4f76-af6a-5ad64a108ffe"
      },
      "execution_count": null,
      "outputs": [
        {
          "output_type": "stream",
          "name": "stdout",
          "text": [
            "Форма данных:  (100000, 40)\n"
          ]
        }
      ]
    },
    {
      "cell_type": "code",
      "source": [
        "# Вывод первых 10 значений датасета\n",
        "df.head(10)"
      ],
      "metadata": {
        "colab": {
          "base_uri": "https://localhost:8080/",
          "height": 1000
        },
        "id": "gc_bXDhhzqy6",
        "outputId": "5cfc41fb-75f6-41fc-be95-3158d5ba29b8"
      },
      "execution_count": null,
      "outputs": [
        {
          "output_type": "execute_result",
          "data": {
            "text/plain": [
              "                                     id                           candidateId  \\\n",
              "0  06a51a80-e0c7-11ec-a466-839f0d9a4379  430cbd70-b770-11ea-a28e-79a78a7da306   \n",
              "1  06a507f0-172d-11ee-aa0e-336eacb7e7a3  514b3560-172b-11ee-b7c8-2fa181561f9c   \n",
              "2  06a50500-3b29-11ee-ad55-336eacb7e7a3  7ef22ae0-3b26-11ee-b4e7-df76e8ab7d11   \n",
              "3  06a4f560-7f1b-11ea-92f6-bfd13399602c  6b920b10-7f17-11ea-92f6-bfd13399602c   \n",
              "4  06a4f310-5ebf-11eb-9dd3-b905beff6f7a  20a02cd0-3b51-11eb-83b1-25bddbcbae91   \n",
              "5  06a4eda0-b219-11ea-bc60-03fd6b4dc11f  08248690-b20a-11ea-b5eb-3bfa22f2d66b   \n",
              "6  06a4eba0-56cd-11ee-9cf2-01e20877b34e  a6b061e0-5625-11ee-a3d8-df76e8ab7d11   \n",
              "7  06a4df80-2325-11e7-a962-037acc02728d  4ebdd690-231c-11e7-a962-037acc02728d   \n",
              "8  06a4d0a0-4bc1-11ee-b6ed-01e20877b34e  51cde9b0-4bbf-11ee-b05a-4981f9eef779   \n",
              "9  06a4cf70-7ff9-11ea-9162-e736a3d3ed84  4a467360-7fe9-11ea-9162-e736a3d3ed84   \n",
              "\n",
              "   stateRegionCode      locality  \\\n",
              "0     2.700000e+12  2.700000e+12   \n",
              "1     7.400000e+12  7.404200e+12   \n",
              "2     3.000000e+12  3.001000e+12   \n",
              "3     7.800000e+12  7.800000e+12   \n",
              "4     2.700000e+12  2.700000e+12   \n",
              "5     7.600000e+12  7.600000e+12   \n",
              "6     7.400000e+12  7.400001e+12   \n",
              "7     5.500000e+12  5.500000e+12   \n",
              "8     6.300000e+12  6.300001e+12   \n",
              "9     5.700000e+12  5.700000e+12   \n",
              "\n",
              "                                        localityName  \\\n",
              "0                                   Хабаровский-край   \n",
              "1  Челябинская-область,-Чебаркульский-район,-Малк...   \n",
              "2  Астраханская-область,-Приволжский-район,-Фунто...   \n",
              "3                                  г-Санкт-Петербург   \n",
              "4                                   Хабаровский-край   \n",
              "5                                Ярославская-область   \n",
              "6                       Челябинская-область,-г-Миасс   \n",
              "7                                     Омская-область   \n",
              "8                      Самарская-область,-г-Тольятти   \n",
              "9                                  Орловская-область   \n",
              "\n",
              "                   birthday   gender   age  \\\n",
              "0  1970-04-20T00:00:00+0300  Женский  53.0   \n",
              "1  2006-08-03T16:00:00+0400  Мужской  17.0   \n",
              "2  2005-05-11T16:00:00+0400  Мужской  18.0   \n",
              "3  1987-08-17T16:00:00+0400  Женский  36.0   \n",
              "4  1977-12-20T15:00:00+0300  Мужской  46.0   \n",
              "5  1968-04-06T00:00:00+0300  Мужской  55.0   \n",
              "6  1975-11-24T15:00:00+0300  Женский  48.0   \n",
              "7  1981-09-30T00:00:00+0400  Мужской  42.0   \n",
              "8  1969-03-06T15:00:00+0300  Мужской  55.0   \n",
              "9  1996-07-19T00:00:00+0400  Мужской  27.0   \n",
              "\n",
              "                                        positionName  \\\n",
              "0                                              Повар   \n",
              "1                                            Рабочий   \n",
              "2                 Помощник-системного-администратора   \n",
              "3                           Специалист-по-маркетингу   \n",
              "4  подручный-сталевара-,разнорабочий-,-подсобный-...   \n",
              "5                               Оперативный-дежурный   \n",
              "6                                        оператор-пк   \n",
              "7  Электромонтёр-по-обслуживанию-и-ремонту-воздуш...   \n",
              "8                                водитель-автомобиля   \n",
              "9                                          экономист   \n",
              "\n",
              "                 dateCreate  ... softSkills  \\\n",
              "0  2022-05-31T12:49:55+0300  ...         []   \n",
              "1  2023-06-30T13:01:04+0300  ...         []   \n",
              "2  2023-08-15T08:03:08+0300  ...         []   \n",
              "3  2020-04-15T16:14:24+0300  ...         []   \n",
              "4  2021-01-25T06:40:10+0300  ...         []   \n",
              "5  2020-06-19T13:38:34+0300  ...         []   \n",
              "6  2023-09-19T12:15:07+0300  ...         []   \n",
              "7  2017-04-17T07:19:19+0300  ...         []   \n",
              "8  2023-09-05T10:51:30+0300  ...         []   \n",
              "9  2020-04-16T18:43:32+0300  ...         []   \n",
              "\n",
              "                                  workExperienceList  \\\n",
              "0                                                 []   \n",
              "1                                                 []   \n",
              "2                                                 []   \n",
              "3  [{\"companyName\": \"ФГУП \\\"Гос. НИИ ОЧБ\\\" ФМБА Р...   \n",
              "4  [{\"achievements\": \"<p>повышение разрядов , пов...   \n",
              "5  [{\"companyName\": \"ООО оп оса\", \"dateFrom\": \"20...   \n",
              "6  [{\"achievements\": \"<p>Компьютерные курсы,владе...   \n",
              "7  [{\"achievements\": \"<p>Повысил разряд от 2 до 4...   \n",
              "8  [{\"companyName\": \"оао волгоцеммаш\", \"dateFrom\"...   \n",
              "9  [{\"companyName\": \"Общество с ограниченной отве...   \n",
              "\n",
              "                         scheduleType   salary          busyType  \\\n",
              "0                 Полный-рабочий-день  15000.0  Полная-занятость   \n",
              "1               Неполный-рабочий-день  18000.0               NaN   \n",
              "2                 Полный-рабочий-день  20000.0               NaN   \n",
              "3                 Полный-рабочий-день  70000.0  Полная-занятость   \n",
              "4                 Полный-рабочий-день  30000.0  Полная-занятость   \n",
              "5  Сменный-график,Полный-рабочий-день  20000.0  Полная-занятость   \n",
              "6                 Полный-рабочий-день  30000.0               NaN   \n",
              "7                      Вахтовый-метод  50000.0  Полная-занятость   \n",
              "8                 Полный-рабочий-день  35000.0               NaN   \n",
              "9                 Полный-рабочий-день  20000.0  Полная-занятость   \n",
              "\n",
              "      retrainingCapability              businessTrip  \\\n",
              "0  Не-готов-к-переобучению  Не-готов-к-командировкам   \n",
              "1  Не-готов-к-переобучению  Не-готов-к-командировкам   \n",
              "2  Не-готов-к-переобучению     Готов-к-командировкам   \n",
              "3  Не-готов-к-переобучению     Готов-к-командировкам   \n",
              "4     Готов-к-переобучению     Готов-к-командировкам   \n",
              "5  Не-готов-к-переобучению  Не-готов-к-командировкам   \n",
              "6     Готов-к-переобучению  Не-готов-к-командировкам   \n",
              "7     Готов-к-переобучению     Готов-к-командировкам   \n",
              "8  Не-готов-к-переобучению  Не-готов-к-командировкам   \n",
              "9  Не-готов-к-переобучению  Не-готов-к-командировкам   \n",
              "\n",
              "                                   languageKnowledge           relocation  \\\n",
              "0                                                 []  Не-готов-к-переезду   \n",
              "1                                                 []  Не-готов-к-переезду   \n",
              "2  [{\"codeLanguage\": \"Русский\", \"level\": \"Базовый...  Не-готов-к-переезду   \n",
              "3  [{\"codeLanguage\": \"Английский\", \"level\": \"Своб...  Не-готов-к-переезду   \n",
              "4  [{\"codeLanguage\": \"Русский\", \"level\": \"Родной\"...  Не-готов-к-переезду   \n",
              "5                                                 []  Не-готов-к-переезду   \n",
              "6                                                 []  Не-готов-к-переезду   \n",
              "7  [{\"codeLanguage\": \"Английский\", \"level\": \"Чтен...  Не-готов-к-переезду   \n",
              "8                                                 []  Не-готов-к-переезду   \n",
              "9                                                 []  Не-готов-к-переезду   \n",
              "\n",
              "                                           innerInfo  \n",
              "0  {\"idUser\": \"aa5b6fa0-1426-11e5-8a60-1ff7059456...  \n",
              "1  {\"idUser\": \"312ee5b0-1fef-11e5-8442-1ff7059456...  \n",
              "2  {\"idUser\": \"f3b58240-dda3-11ed-8edf-1f7ebff536...  \n",
              "3  {\"idUser\": \"ef454300-7c5c-11e9-add8-5d9e90ab95...  \n",
              "4  {\"idUser\": \"bc610280-8f3e-11ea-abb6-c3d833d640...  \n",
              "5  {\"idUser\": \"35b59df0-1ffd-11e5-8442-1ff7059456...  \n",
              "6  {\"idUser\": \"9f224950-1fee-11e5-8442-1ff7059456...  \n",
              "7  {\"idUser\": \"235fd4b0-1ef2-11e5-8442-1ff7059456...  \n",
              "8  {\"idUser\": \"21acffa0-2026-11e5-8442-1ff7059456...  \n",
              "9  {\"idUser\": \"77237c40-208d-11e5-8442-1ff7059456...  \n",
              "\n",
              "[10 rows x 40 columns]"
            ],
            "text/html": [
              "\n",
              "  <div id=\"df-42c90310-cf7a-4fc9-9b06-9fcc5bf4fa7e\" class=\"colab-df-container\">\n",
              "    <div>\n",
              "<style scoped>\n",
              "    .dataframe tbody tr th:only-of-type {\n",
              "        vertical-align: middle;\n",
              "    }\n",
              "\n",
              "    .dataframe tbody tr th {\n",
              "        vertical-align: top;\n",
              "    }\n",
              "\n",
              "    .dataframe thead th {\n",
              "        text-align: right;\n",
              "    }\n",
              "</style>\n",
              "<table border=\"1\" class=\"dataframe\">\n",
              "  <thead>\n",
              "    <tr style=\"text-align: right;\">\n",
              "      <th></th>\n",
              "      <th>id</th>\n",
              "      <th>candidateId</th>\n",
              "      <th>stateRegionCode</th>\n",
              "      <th>locality</th>\n",
              "      <th>localityName</th>\n",
              "      <th>birthday</th>\n",
              "      <th>gender</th>\n",
              "      <th>age</th>\n",
              "      <th>positionName</th>\n",
              "      <th>dateCreate</th>\n",
              "      <th>...</th>\n",
              "      <th>softSkills</th>\n",
              "      <th>workExperienceList</th>\n",
              "      <th>scheduleType</th>\n",
              "      <th>salary</th>\n",
              "      <th>busyType</th>\n",
              "      <th>retrainingCapability</th>\n",
              "      <th>businessTrip</th>\n",
              "      <th>languageKnowledge</th>\n",
              "      <th>relocation</th>\n",
              "      <th>innerInfo</th>\n",
              "    </tr>\n",
              "  </thead>\n",
              "  <tbody>\n",
              "    <tr>\n",
              "      <th>0</th>\n",
              "      <td>06a51a80-e0c7-11ec-a466-839f0d9a4379</td>\n",
              "      <td>430cbd70-b770-11ea-a28e-79a78a7da306</td>\n",
              "      <td>2.700000e+12</td>\n",
              "      <td>2.700000e+12</td>\n",
              "      <td>Хабаровский-край</td>\n",
              "      <td>1970-04-20T00:00:00+0300</td>\n",
              "      <td>Женский</td>\n",
              "      <td>53.0</td>\n",
              "      <td>Повар</td>\n",
              "      <td>2022-05-31T12:49:55+0300</td>\n",
              "      <td>...</td>\n",
              "      <td>[]</td>\n",
              "      <td>[]</td>\n",
              "      <td>Полный-рабочий-день</td>\n",
              "      <td>15000.0</td>\n",
              "      <td>Полная-занятость</td>\n",
              "      <td>Не-готов-к-переобучению</td>\n",
              "      <td>Не-готов-к-командировкам</td>\n",
              "      <td>[]</td>\n",
              "      <td>Не-готов-к-переезду</td>\n",
              "      <td>{\"idUser\": \"aa5b6fa0-1426-11e5-8a60-1ff7059456...</td>\n",
              "    </tr>\n",
              "    <tr>\n",
              "      <th>1</th>\n",
              "      <td>06a507f0-172d-11ee-aa0e-336eacb7e7a3</td>\n",
              "      <td>514b3560-172b-11ee-b7c8-2fa181561f9c</td>\n",
              "      <td>7.400000e+12</td>\n",
              "      <td>7.404200e+12</td>\n",
              "      <td>Челябинская-область,-Чебаркульский-район,-Малк...</td>\n",
              "      <td>2006-08-03T16:00:00+0400</td>\n",
              "      <td>Мужской</td>\n",
              "      <td>17.0</td>\n",
              "      <td>Рабочий</td>\n",
              "      <td>2023-06-30T13:01:04+0300</td>\n",
              "      <td>...</td>\n",
              "      <td>[]</td>\n",
              "      <td>[]</td>\n",
              "      <td>Неполный-рабочий-день</td>\n",
              "      <td>18000.0</td>\n",
              "      <td>NaN</td>\n",
              "      <td>Не-готов-к-переобучению</td>\n",
              "      <td>Не-готов-к-командировкам</td>\n",
              "      <td>[]</td>\n",
              "      <td>Не-готов-к-переезду</td>\n",
              "      <td>{\"idUser\": \"312ee5b0-1fef-11e5-8442-1ff7059456...</td>\n",
              "    </tr>\n",
              "    <tr>\n",
              "      <th>2</th>\n",
              "      <td>06a50500-3b29-11ee-ad55-336eacb7e7a3</td>\n",
              "      <td>7ef22ae0-3b26-11ee-b4e7-df76e8ab7d11</td>\n",
              "      <td>3.000000e+12</td>\n",
              "      <td>3.001000e+12</td>\n",
              "      <td>Астраханская-область,-Приволжский-район,-Фунто...</td>\n",
              "      <td>2005-05-11T16:00:00+0400</td>\n",
              "      <td>Мужской</td>\n",
              "      <td>18.0</td>\n",
              "      <td>Помощник-системного-администратора</td>\n",
              "      <td>2023-08-15T08:03:08+0300</td>\n",
              "      <td>...</td>\n",
              "      <td>[]</td>\n",
              "      <td>[]</td>\n",
              "      <td>Полный-рабочий-день</td>\n",
              "      <td>20000.0</td>\n",
              "      <td>NaN</td>\n",
              "      <td>Не-готов-к-переобучению</td>\n",
              "      <td>Готов-к-командировкам</td>\n",
              "      <td>[{\"codeLanguage\": \"Русский\", \"level\": \"Базовый...</td>\n",
              "      <td>Не-готов-к-переезду</td>\n",
              "      <td>{\"idUser\": \"f3b58240-dda3-11ed-8edf-1f7ebff536...</td>\n",
              "    </tr>\n",
              "    <tr>\n",
              "      <th>3</th>\n",
              "      <td>06a4f560-7f1b-11ea-92f6-bfd13399602c</td>\n",
              "      <td>6b920b10-7f17-11ea-92f6-bfd13399602c</td>\n",
              "      <td>7.800000e+12</td>\n",
              "      <td>7.800000e+12</td>\n",
              "      <td>г-Санкт-Петербург</td>\n",
              "      <td>1987-08-17T16:00:00+0400</td>\n",
              "      <td>Женский</td>\n",
              "      <td>36.0</td>\n",
              "      <td>Специалист-по-маркетингу</td>\n",
              "      <td>2020-04-15T16:14:24+0300</td>\n",
              "      <td>...</td>\n",
              "      <td>[]</td>\n",
              "      <td>[{\"companyName\": \"ФГУП \\\"Гос. НИИ ОЧБ\\\" ФМБА Р...</td>\n",
              "      <td>Полный-рабочий-день</td>\n",
              "      <td>70000.0</td>\n",
              "      <td>Полная-занятость</td>\n",
              "      <td>Не-готов-к-переобучению</td>\n",
              "      <td>Готов-к-командировкам</td>\n",
              "      <td>[{\"codeLanguage\": \"Английский\", \"level\": \"Своб...</td>\n",
              "      <td>Не-готов-к-переезду</td>\n",
              "      <td>{\"idUser\": \"ef454300-7c5c-11e9-add8-5d9e90ab95...</td>\n",
              "    </tr>\n",
              "    <tr>\n",
              "      <th>4</th>\n",
              "      <td>06a4f310-5ebf-11eb-9dd3-b905beff6f7a</td>\n",
              "      <td>20a02cd0-3b51-11eb-83b1-25bddbcbae91</td>\n",
              "      <td>2.700000e+12</td>\n",
              "      <td>2.700000e+12</td>\n",
              "      <td>Хабаровский-край</td>\n",
              "      <td>1977-12-20T15:00:00+0300</td>\n",
              "      <td>Мужской</td>\n",
              "      <td>46.0</td>\n",
              "      <td>подручный-сталевара-,разнорабочий-,-подсобный-...</td>\n",
              "      <td>2021-01-25T06:40:10+0300</td>\n",
              "      <td>...</td>\n",
              "      <td>[]</td>\n",
              "      <td>[{\"achievements\": \"&lt;p&gt;повышение разрядов , пов...</td>\n",
              "      <td>Полный-рабочий-день</td>\n",
              "      <td>30000.0</td>\n",
              "      <td>Полная-занятость</td>\n",
              "      <td>Готов-к-переобучению</td>\n",
              "      <td>Готов-к-командировкам</td>\n",
              "      <td>[{\"codeLanguage\": \"Русский\", \"level\": \"Родной\"...</td>\n",
              "      <td>Не-готов-к-переезду</td>\n",
              "      <td>{\"idUser\": \"bc610280-8f3e-11ea-abb6-c3d833d640...</td>\n",
              "    </tr>\n",
              "    <tr>\n",
              "      <th>5</th>\n",
              "      <td>06a4eda0-b219-11ea-bc60-03fd6b4dc11f</td>\n",
              "      <td>08248690-b20a-11ea-b5eb-3bfa22f2d66b</td>\n",
              "      <td>7.600000e+12</td>\n",
              "      <td>7.600000e+12</td>\n",
              "      <td>Ярославская-область</td>\n",
              "      <td>1968-04-06T00:00:00+0300</td>\n",
              "      <td>Мужской</td>\n",
              "      <td>55.0</td>\n",
              "      <td>Оперативный-дежурный</td>\n",
              "      <td>2020-06-19T13:38:34+0300</td>\n",
              "      <td>...</td>\n",
              "      <td>[]</td>\n",
              "      <td>[{\"companyName\": \"ООО оп оса\", \"dateFrom\": \"20...</td>\n",
              "      <td>Сменный-график,Полный-рабочий-день</td>\n",
              "      <td>20000.0</td>\n",
              "      <td>Полная-занятость</td>\n",
              "      <td>Не-готов-к-переобучению</td>\n",
              "      <td>Не-готов-к-командировкам</td>\n",
              "      <td>[]</td>\n",
              "      <td>Не-готов-к-переезду</td>\n",
              "      <td>{\"idUser\": \"35b59df0-1ffd-11e5-8442-1ff7059456...</td>\n",
              "    </tr>\n",
              "    <tr>\n",
              "      <th>6</th>\n",
              "      <td>06a4eba0-56cd-11ee-9cf2-01e20877b34e</td>\n",
              "      <td>a6b061e0-5625-11ee-a3d8-df76e8ab7d11</td>\n",
              "      <td>7.400000e+12</td>\n",
              "      <td>7.400001e+12</td>\n",
              "      <td>Челябинская-область,-г-Миасс</td>\n",
              "      <td>1975-11-24T15:00:00+0300</td>\n",
              "      <td>Женский</td>\n",
              "      <td>48.0</td>\n",
              "      <td>оператор-пк</td>\n",
              "      <td>2023-09-19T12:15:07+0300</td>\n",
              "      <td>...</td>\n",
              "      <td>[]</td>\n",
              "      <td>[{\"achievements\": \"&lt;p&gt;Компьютерные курсы,владе...</td>\n",
              "      <td>Полный-рабочий-день</td>\n",
              "      <td>30000.0</td>\n",
              "      <td>NaN</td>\n",
              "      <td>Готов-к-переобучению</td>\n",
              "      <td>Не-готов-к-командировкам</td>\n",
              "      <td>[]</td>\n",
              "      <td>Не-готов-к-переезду</td>\n",
              "      <td>{\"idUser\": \"9f224950-1fee-11e5-8442-1ff7059456...</td>\n",
              "    </tr>\n",
              "    <tr>\n",
              "      <th>7</th>\n",
              "      <td>06a4df80-2325-11e7-a962-037acc02728d</td>\n",
              "      <td>4ebdd690-231c-11e7-a962-037acc02728d</td>\n",
              "      <td>5.500000e+12</td>\n",
              "      <td>5.500000e+12</td>\n",
              "      <td>Омская-область</td>\n",
              "      <td>1981-09-30T00:00:00+0400</td>\n",
              "      <td>Мужской</td>\n",
              "      <td>42.0</td>\n",
              "      <td>Электромонтёр-по-обслуживанию-и-ремонту-воздуш...</td>\n",
              "      <td>2017-04-17T07:19:19+0300</td>\n",
              "      <td>...</td>\n",
              "      <td>[]</td>\n",
              "      <td>[{\"achievements\": \"&lt;p&gt;Повысил разряд от 2 до 4...</td>\n",
              "      <td>Вахтовый-метод</td>\n",
              "      <td>50000.0</td>\n",
              "      <td>Полная-занятость</td>\n",
              "      <td>Готов-к-переобучению</td>\n",
              "      <td>Готов-к-командировкам</td>\n",
              "      <td>[{\"codeLanguage\": \"Английский\", \"level\": \"Чтен...</td>\n",
              "      <td>Не-готов-к-переезду</td>\n",
              "      <td>{\"idUser\": \"235fd4b0-1ef2-11e5-8442-1ff7059456...</td>\n",
              "    </tr>\n",
              "    <tr>\n",
              "      <th>8</th>\n",
              "      <td>06a4d0a0-4bc1-11ee-b6ed-01e20877b34e</td>\n",
              "      <td>51cde9b0-4bbf-11ee-b05a-4981f9eef779</td>\n",
              "      <td>6.300000e+12</td>\n",
              "      <td>6.300001e+12</td>\n",
              "      <td>Самарская-область,-г-Тольятти</td>\n",
              "      <td>1969-03-06T15:00:00+0300</td>\n",
              "      <td>Мужской</td>\n",
              "      <td>55.0</td>\n",
              "      <td>водитель-автомобиля</td>\n",
              "      <td>2023-09-05T10:51:30+0300</td>\n",
              "      <td>...</td>\n",
              "      <td>[]</td>\n",
              "      <td>[{\"companyName\": \"оао волгоцеммаш\", \"dateFrom\"...</td>\n",
              "      <td>Полный-рабочий-день</td>\n",
              "      <td>35000.0</td>\n",
              "      <td>NaN</td>\n",
              "      <td>Не-готов-к-переобучению</td>\n",
              "      <td>Не-готов-к-командировкам</td>\n",
              "      <td>[]</td>\n",
              "      <td>Не-готов-к-переезду</td>\n",
              "      <td>{\"idUser\": \"21acffa0-2026-11e5-8442-1ff7059456...</td>\n",
              "    </tr>\n",
              "    <tr>\n",
              "      <th>9</th>\n",
              "      <td>06a4cf70-7ff9-11ea-9162-e736a3d3ed84</td>\n",
              "      <td>4a467360-7fe9-11ea-9162-e736a3d3ed84</td>\n",
              "      <td>5.700000e+12</td>\n",
              "      <td>5.700000e+12</td>\n",
              "      <td>Орловская-область</td>\n",
              "      <td>1996-07-19T00:00:00+0400</td>\n",
              "      <td>Мужской</td>\n",
              "      <td>27.0</td>\n",
              "      <td>экономист</td>\n",
              "      <td>2020-04-16T18:43:32+0300</td>\n",
              "      <td>...</td>\n",
              "      <td>[]</td>\n",
              "      <td>[{\"companyName\": \"Общество с ограниченной отве...</td>\n",
              "      <td>Полный-рабочий-день</td>\n",
              "      <td>20000.0</td>\n",
              "      <td>Полная-занятость</td>\n",
              "      <td>Не-готов-к-переобучению</td>\n",
              "      <td>Не-готов-к-командировкам</td>\n",
              "      <td>[]</td>\n",
              "      <td>Не-готов-к-переезду</td>\n",
              "      <td>{\"idUser\": \"77237c40-208d-11e5-8442-1ff7059456...</td>\n",
              "    </tr>\n",
              "  </tbody>\n",
              "</table>\n",
              "<p>10 rows × 40 columns</p>\n",
              "</div>\n",
              "    <div class=\"colab-df-buttons\">\n",
              "\n",
              "  <div class=\"colab-df-container\">\n",
              "    <button class=\"colab-df-convert\" onclick=\"convertToInteractive('df-42c90310-cf7a-4fc9-9b06-9fcc5bf4fa7e')\"\n",
              "            title=\"Convert this dataframe to an interactive table.\"\n",
              "            style=\"display:none;\">\n",
              "\n",
              "  <svg xmlns=\"http://www.w3.org/2000/svg\" height=\"24px\" viewBox=\"0 -960 960 960\">\n",
              "    <path d=\"M120-120v-720h720v720H120Zm60-500h600v-160H180v160Zm220 220h160v-160H400v160Zm0 220h160v-160H400v160ZM180-400h160v-160H180v160Zm440 0h160v-160H620v160ZM180-180h160v-160H180v160Zm440 0h160v-160H620v160Z\"/>\n",
              "  </svg>\n",
              "    </button>\n",
              "\n",
              "  <style>\n",
              "    .colab-df-container {\n",
              "      display:flex;\n",
              "      gap: 12px;\n",
              "    }\n",
              "\n",
              "    .colab-df-convert {\n",
              "      background-color: #E8F0FE;\n",
              "      border: none;\n",
              "      border-radius: 50%;\n",
              "      cursor: pointer;\n",
              "      display: none;\n",
              "      fill: #1967D2;\n",
              "      height: 32px;\n",
              "      padding: 0 0 0 0;\n",
              "      width: 32px;\n",
              "    }\n",
              "\n",
              "    .colab-df-convert:hover {\n",
              "      background-color: #E2EBFA;\n",
              "      box-shadow: 0px 1px 2px rgba(60, 64, 67, 0.3), 0px 1px 3px 1px rgba(60, 64, 67, 0.15);\n",
              "      fill: #174EA6;\n",
              "    }\n",
              "\n",
              "    .colab-df-buttons div {\n",
              "      margin-bottom: 4px;\n",
              "    }\n",
              "\n",
              "    [theme=dark] .colab-df-convert {\n",
              "      background-color: #3B4455;\n",
              "      fill: #D2E3FC;\n",
              "    }\n",
              "\n",
              "    [theme=dark] .colab-df-convert:hover {\n",
              "      background-color: #434B5C;\n",
              "      box-shadow: 0px 1px 3px 1px rgba(0, 0, 0, 0.15);\n",
              "      filter: drop-shadow(0px 1px 2px rgba(0, 0, 0, 0.3));\n",
              "      fill: #FFFFFF;\n",
              "    }\n",
              "  </style>\n",
              "\n",
              "    <script>\n",
              "      const buttonEl =\n",
              "        document.querySelector('#df-42c90310-cf7a-4fc9-9b06-9fcc5bf4fa7e button.colab-df-convert');\n",
              "      buttonEl.style.display =\n",
              "        google.colab.kernel.accessAllowed ? 'block' : 'none';\n",
              "\n",
              "      async function convertToInteractive(key) {\n",
              "        const element = document.querySelector('#df-42c90310-cf7a-4fc9-9b06-9fcc5bf4fa7e');\n",
              "        const dataTable =\n",
              "          await google.colab.kernel.invokeFunction('convertToInteractive',\n",
              "                                                    [key], {});\n",
              "        if (!dataTable) return;\n",
              "\n",
              "        const docLinkHtml = 'Like what you see? Visit the ' +\n",
              "          '<a target=\"_blank\" href=https://colab.research.google.com/notebooks/data_table.ipynb>data table notebook</a>'\n",
              "          + ' to learn more about interactive tables.';\n",
              "        element.innerHTML = '';\n",
              "        dataTable['output_type'] = 'display_data';\n",
              "        await google.colab.output.renderOutput(dataTable, element);\n",
              "        const docLink = document.createElement('div');\n",
              "        docLink.innerHTML = docLinkHtml;\n",
              "        element.appendChild(docLink);\n",
              "      }\n",
              "    </script>\n",
              "  </div>\n",
              "\n",
              "\n",
              "<div id=\"df-0fe625c9-c881-4927-a8bd-510dd85967ea\">\n",
              "  <button class=\"colab-df-quickchart\" onclick=\"quickchart('df-0fe625c9-c881-4927-a8bd-510dd85967ea')\"\n",
              "            title=\"Suggest charts\"\n",
              "            style=\"display:none;\">\n",
              "\n",
              "<svg xmlns=\"http://www.w3.org/2000/svg\" height=\"24px\"viewBox=\"0 0 24 24\"\n",
              "     width=\"24px\">\n",
              "    <g>\n",
              "        <path d=\"M19 3H5c-1.1 0-2 .9-2 2v14c0 1.1.9 2 2 2h14c1.1 0 2-.9 2-2V5c0-1.1-.9-2-2-2zM9 17H7v-7h2v7zm4 0h-2V7h2v10zm4 0h-2v-4h2v4z\"/>\n",
              "    </g>\n",
              "</svg>\n",
              "  </button>\n",
              "\n",
              "<style>\n",
              "  .colab-df-quickchart {\n",
              "      --bg-color: #E8F0FE;\n",
              "      --fill-color: #1967D2;\n",
              "      --hover-bg-color: #E2EBFA;\n",
              "      --hover-fill-color: #174EA6;\n",
              "      --disabled-fill-color: #AAA;\n",
              "      --disabled-bg-color: #DDD;\n",
              "  }\n",
              "\n",
              "  [theme=dark] .colab-df-quickchart {\n",
              "      --bg-color: #3B4455;\n",
              "      --fill-color: #D2E3FC;\n",
              "      --hover-bg-color: #434B5C;\n",
              "      --hover-fill-color: #FFFFFF;\n",
              "      --disabled-bg-color: #3B4455;\n",
              "      --disabled-fill-color: #666;\n",
              "  }\n",
              "\n",
              "  .colab-df-quickchart {\n",
              "    background-color: var(--bg-color);\n",
              "    border: none;\n",
              "    border-radius: 50%;\n",
              "    cursor: pointer;\n",
              "    display: none;\n",
              "    fill: var(--fill-color);\n",
              "    height: 32px;\n",
              "    padding: 0;\n",
              "    width: 32px;\n",
              "  }\n",
              "\n",
              "  .colab-df-quickchart:hover {\n",
              "    background-color: var(--hover-bg-color);\n",
              "    box-shadow: 0 1px 2px rgba(60, 64, 67, 0.3), 0 1px 3px 1px rgba(60, 64, 67, 0.15);\n",
              "    fill: var(--button-hover-fill-color);\n",
              "  }\n",
              "\n",
              "  .colab-df-quickchart-complete:disabled,\n",
              "  .colab-df-quickchart-complete:disabled:hover {\n",
              "    background-color: var(--disabled-bg-color);\n",
              "    fill: var(--disabled-fill-color);\n",
              "    box-shadow: none;\n",
              "  }\n",
              "\n",
              "  .colab-df-spinner {\n",
              "    border: 2px solid var(--fill-color);\n",
              "    border-color: transparent;\n",
              "    border-bottom-color: var(--fill-color);\n",
              "    animation:\n",
              "      spin 1s steps(1) infinite;\n",
              "  }\n",
              "\n",
              "  @keyframes spin {\n",
              "    0% {\n",
              "      border-color: transparent;\n",
              "      border-bottom-color: var(--fill-color);\n",
              "      border-left-color: var(--fill-color);\n",
              "    }\n",
              "    20% {\n",
              "      border-color: transparent;\n",
              "      border-left-color: var(--fill-color);\n",
              "      border-top-color: var(--fill-color);\n",
              "    }\n",
              "    30% {\n",
              "      border-color: transparent;\n",
              "      border-left-color: var(--fill-color);\n",
              "      border-top-color: var(--fill-color);\n",
              "      border-right-color: var(--fill-color);\n",
              "    }\n",
              "    40% {\n",
              "      border-color: transparent;\n",
              "      border-right-color: var(--fill-color);\n",
              "      border-top-color: var(--fill-color);\n",
              "    }\n",
              "    60% {\n",
              "      border-color: transparent;\n",
              "      border-right-color: var(--fill-color);\n",
              "    }\n",
              "    80% {\n",
              "      border-color: transparent;\n",
              "      border-right-color: var(--fill-color);\n",
              "      border-bottom-color: var(--fill-color);\n",
              "    }\n",
              "    90% {\n",
              "      border-color: transparent;\n",
              "      border-bottom-color: var(--fill-color);\n",
              "    }\n",
              "  }\n",
              "</style>\n",
              "\n",
              "  <script>\n",
              "    async function quickchart(key) {\n",
              "      const quickchartButtonEl =\n",
              "        document.querySelector('#' + key + ' button');\n",
              "      quickchartButtonEl.disabled = true;  // To prevent multiple clicks.\n",
              "      quickchartButtonEl.classList.add('colab-df-spinner');\n",
              "      try {\n",
              "        const charts = await google.colab.kernel.invokeFunction(\n",
              "            'suggestCharts', [key], {});\n",
              "      } catch (error) {\n",
              "        console.error('Error during call to suggestCharts:', error);\n",
              "      }\n",
              "      quickchartButtonEl.classList.remove('colab-df-spinner');\n",
              "      quickchartButtonEl.classList.add('colab-df-quickchart-complete');\n",
              "    }\n",
              "    (() => {\n",
              "      let quickchartButtonEl =\n",
              "        document.querySelector('#df-0fe625c9-c881-4927-a8bd-510dd85967ea button');\n",
              "      quickchartButtonEl.style.display =\n",
              "        google.colab.kernel.accessAllowed ? 'block' : 'none';\n",
              "    })();\n",
              "  </script>\n",
              "</div>\n",
              "    </div>\n",
              "  </div>\n"
            ],
            "application/vnd.google.colaboratory.intrinsic+json": {
              "type": "dataframe",
              "variable_name": "df"
            }
          },
          "metadata": {},
          "execution_count": 4
        }
      ]
    },
    {
      "cell_type": "markdown",
      "source": [
        "Удалим ненужные столбцы, чтобы не перегружать оперативную память при работе с данными:"
      ],
      "metadata": {
        "id": "oR673xC1Oj3E"
      }
    },
    {
      "cell_type": "code",
      "source": [
        "df.drop(['id', 'candidateId', 'stateRegionCode', 'locality', 'birthday', 'gender', 'dateCreate', 'dateModify',\n",
        "         'publishedDate', 'academicDegree', 'worldskills', 'worldskillsInspectionStatus', 'abilympicsInspectionStatus',\n",
        "         'abilympicsParticipation', 'volunteersInspectionStatus', 'volunteersParticipation', 'driveLicenses', 'professionsList',\n",
        "         'otherCertificates', 'narkCertificate', 'narkInspectionStatus', 'codeExternalSystem', 'country', 'additionalEducationList',\n",
        "         'hardSkills', 'softSkills', 'retrainingCapability', 'businessTrip', 'languageKnowledge', 'relocation', 'innerInfo'\n",
        "\n",
        "         ], inplace=True, axis=1)"
      ],
      "metadata": {
        "id": "LWBtQD_sOjSC"
      },
      "execution_count": null,
      "outputs": []
    },
    {
      "cell_type": "markdown",
      "source": [
        "## Обработка данных"
      ],
      "metadata": {
        "id": "ZS10gGv1gYC_"
      }
    },
    {
      "cell_type": "markdown",
      "source": [
        "Выведем произвольный пример и внимательно посмотрим на данные:"
      ],
      "metadata": {
        "id": "wAFTXhiCfnhG"
      }
    },
    {
      "cell_type": "code",
      "source": [
        "# Пример данных\n",
        "\n",
        "n = 3                                     # Индекс в таблице резюме\n",
        "for i in range(len(df.values[n])):        # Вывод значения каждого столбца\n",
        "    print('{:>2} {:>30}  {}'.format(i, df.columns[i], df.values[n][i]))"
      ],
      "metadata": {
        "colab": {
          "base_uri": "https://localhost:8080/"
        },
        "id": "kHTZOEW4foAa",
        "outputId": "b3aa813d-7898-4de1-fbdb-8f3a5275d2b9"
      },
      "execution_count": null,
      "outputs": [
        {
          "output_type": "stream",
          "name": "stdout",
          "text": [
            " 0                   localityName  г-Санкт-Петербург\n",
            " 1                            age  36.0\n",
            " 2                   positionName  Специалист-по-маркетингу\n",
            " 3                     experience  2\n",
            " 4                  educationList  [{\"faculty\": \"Экономический\", \"graduateYear\": 2010, \"instituteName\": \"«Санкт-Петербургский государственный университет аэрокосмического приборостроения»\", \"qualification\": \"Специалист по рекламе\", \"type\": \"Education\"}]\n",
            " 5             workExperienceList  [{\"companyName\": \"ФГУП \\\"Гос. НИИ ОЧБ\\\" ФМБА России\", \"dateFrom\": \"2018-02-01T00:00:00+0300\", \"dateTo\": \"2019-10-01T00:00:00+0300\", \"demands\": \"<p>- Аналитика, подготовка маркетинговых исследований, отчетов;- Ведение проектов по контактному производству (также и стратегическое принятие решений во главе рабочей группы);- Мониторинг активности конкурентов;- Разработка и реализация выхода продукта на рынок;- Ценообразование;- Выработка стратегии по PR и событийному маркетингу;- Организация и участие в конференциях, форумах и других мероприятиях (GR, PR, продвижение);- Создание бренд-бука, промо-продукции, рекламных материалов (совместная работа с подрядчиками).</p>\", \"jobTitle\": \"Ведущий специалист по маркетингу\", \"relevant\": false, \"type\": \"WorkExperience\"}]\n",
            " 6                   scheduleType  Полный-рабочий-день\n",
            " 7                         salary  70000.0\n",
            " 8                       busyType  Полная-занятость\n"
          ]
        }
      ]
    },
    {
      "cell_type": "markdown",
      "source": [
        "Для наглядности представим в виде таблицы доступное на [портале](https://trudvsem.ru/opendata/datasets) описание полей атрибутов данного датасета в формате json."
      ],
      "metadata": {
        "id": "5UqW7tPZ7u8U"
      }
    },
    {
      "cell_type": "markdown",
      "source": [
        "<table>\n",
        "<tr><th>Код</th><th>Имя</th><th>Тип</th><th>Пример</th></tr>\n",
        "<tr><td>id</td><td>Идентификатор резюме на Портале</td><td>timeuuid</td><td>08b23f30-3eb7-11ed-be3b-f5407cdefa62</td></tr>\n",
        "<tr><td>stateRegionCode</td><td>Код федерального региона</td><td>varchar</td><td>9900000000000</td></tr>\n",
        "<tr><td>locality</td><td>Код населенного пункта</td><td>varchar</td><td>4000000100000</td></tr>\n",
        "<tr><td>localityName</td><td>Наименование населенного пункта</td><td>varchar</td><td>Калужская область, г. Калуга</td></tr>\n",
        "<tr><td>birthday</td><td>Дата рождения</td><td>date</td><td>2018-11-30</td></tr>\n",
        "<tr><td>age</td><td>Возраст</td><td>int</td><td>25</td></tr>\n",
        "<tr><td>gender</td><td>Пол</td><td>varchar</td><td>Мужской</td></tr>\n",
        "<tr><td>positionName</td><td>Наименование резюме</td><td>varchar</td><td>Воспитатель</td></tr>\n",
        "<tr><td>dateCreate</td><td>Дата создания</td><td>date</td><td>2022-12-01T14:54:42+0000</td></tr>\n",
        "<tr><td>dateModify</td><td>Дата изменения</td><td>date</td><td>2022-12-01T14:54:42+0000</td></tr>\n",
        "<tr><td>publishedDate</td><td>Дата публикации</td><td>date</td><td>2022-12-01T14:54:42+0000</td></tr>\n",
        "<tr><td>academicDegree</td><td>Ученая степень</td><td>varchar</td><td>Кандидат наук</td></tr>\n",
        "<tr><td>worldskills</td><td>Информация о компетенции Worldskills</td><td> - </td><td> - </td></tr>\n",
        "<tr><td>Worldskills</td><td>Компетенции Worldskills</td><td> - </td><td> - </td></tr>\n",
        "<tr><td>type</td><td>Тип</td><td>varchar</td><td>Participation</td></tr>\n",
        "<tr><td>russianName</td><td>Наименование компетенции на русском</td><td>varchar</td><td>Дизайн</td></tr>\n",
        "<tr><td>internationalName</td><td>Наименование компетенции на английском</td><td>varchar</td><td>Design</td></tr>\n",
        "<tr><td>isInternational</td><td>Является компетенция международной (WSR)</td><td>boolean</td><td>true</td></tr>\n",
        "<tr><td>skillAbbreviation</td><td>Номер компетенции</td><td>varchar</td><td>T29</td></tr>\n",
        "<tr><td>worldskillsInspectionStatus</td><td>Статус подтверждения участия в чемпионате WordSkills</td><td>varchar</td><td>Участие в чемпионате WordSkills подтверждено</td></tr>\n",
        "<tr><td>сompetitions</td><td>Компетенции</td><td> - </td><td> - </td></tr>\n",
        "<tr><td>abilympics</td><td>Международное движение Абилимпикс</td><td> - </td><td> - </td></tr>\n",
        "<tr><td>abilympicsParticipation</td><td>Признак участия в движении Абилимпикc</td><td>boolean</td><td>true</td></tr>\n",
        "<tr><td>abilympicsInspectionStatus</td><td>Статус подтверждения участия в движении Абилимпикc</td><td>varchar</td><td>Участие в движении Абилимпикc подтверждено</td></tr>\n",
        "<tr><td>driveLicenses</td><td>Водительские права</td><td>varchar</td><td>A</td></tr>\n",
        "<tr><td>volunteers</td><td>Участие в движении DOBRO.RU</td><td> - </td><td> - </td></tr>\n",
        "<tr><td>volunteers</td><td>Движение DOBRO.RU</td><td> - </td><td> - </td></tr>\n",
        "<tr><td>volunteersParticipation</td><td>Признак участия в движении DOBRO.RU</td><td>boolean</td><td>true</td></tr>\n",
        "<tr><td>volunteersInspectionStatus</td><td>Статус участия в движении DOBRO.RU</td><td>varchar</td><td>Участие в движении DOBRO.RU подтверждено</td></tr>\n",
        "<tr><td>nark</td><td>Проверка сертификата НАРК</td><td> - </td><td> - </td></tr>\n",
        "<tr><td>narkCertificate</td><td>Флаг проверки сертификата национальным агентством развития квалификаций</td><td>boolean</td><td>true</td></tr>\n",
        "<tr><td>narkInspectionStatus</td><td>Статус проверки квалификации НАРК</td><td>varchar</td><td>Получено свидетельство о независимой оценке квалификации</td></tr>\n",
        "<tr><td>experience</td><td>Опыт работы</td><td>int</td><td>5</td></tr>\n",
        "<tr><td>workExperienceList</td><td>Информация об опыте работы</td><td> - </td><td> - </td></tr>\n",
        "<tr><td>workExperience</td><td>Опыт работы</td><td> - </td><td> - </td></tr>\n",
        "<tr><td>dateFrom</td><td>Дата начала работы</td><td>date</td><td>2013-09-01</td></tr>\n",
        "<tr><td>dateTo</td><td>Дата увольнения</td><td>date</td><td>2017-12-01</td></tr>\n",
        "<tr><td>companyName</td><td>Название компании</td><td>varchar</td><td>МБДОУ  г.Калуги</td></tr>\n",
        "<tr><td>jobTitle</td><td>Название должности</td><td>varchar</td><td>Воспитатель</td></tr>\n",
        "<tr><td>achievements</td><td>Достижения</td><td>varchar</td><td>Улучшение производительности отдела на 15%</td></tr>\n",
        "<tr><td>type</td><td>Тип записи</td><td>varchar</td><td>WorkExperience</td></tr>\n",
        "<tr><td>demands</td><td>Должностные обязанности</td><td>varchar</td><td>Присмотр и уход за детьми дошкольного учреждения, выполнение режима дня и сетки занятий</td></tr>\n",
        "<tr><td>relevant</td><td>Опыт является релевантным</td><td>boolean</td><td>true</td></tr>\n",
        "<tr><td>professionList</td><td>Профессиональная сфера</td><td> - </td><td> - </td></tr>\n",
        "<tr><td>type</td><td>Тип</td><td>varchar</td><td>CandidateProfession</td></tr>\n",
        "<tr><td>codeProfessionalSphere</td><td>Код сферы</td><td>varchar</td><td>Finances</td></tr>\n",
        "<tr><td>codeProfession</td><td>Код профессии</td><td>varchar</td><td>233699</td></tr>\n",
        "<tr><td>educationList</td><td>Информация об образовании</td><td> - </td><td> - </td></tr>\n",
        "<tr><td>education</td><td>Образование</td><td> - </td><td> - </td></tr>\n",
        "<tr><td>type</td><td>Вид образования</td><td>varchar</td><td>Education</td></tr>\n",
        "<tr><td>level</td><td>Уровень образования</td><td>varchar</td><td>Среднее</td></tr>\n",
        "<tr><td>diplomaName</td><td>Наименование диплома</td><td>varchar</td><td>Совершенствование контрольной работы в Межрайонной инспекции ФНС России №7 по Курганской области</td></tr>\n",
        "<tr><td>instituteName</td><td>Название учебного заведения</td><td>varchar</td><td>БГТУ</td></tr>\n",
        "<tr><td>graduateYear</td><td>Год окончания</td><td>data</td><td>2017-12-01</td></tr>\n",
        "<tr><td>faculty</td><td>Факультет</td><td>varchar</td><td>Факультет физической культуры</td></tr>\n",
        "<tr><td>specialty</td><td>Специальность</td><td>varchar</td><td>Учитель начальных классов</td></tr>\n",
        "<tr><td>qualification</td><td>Квалификация</td><td>varchar</td><td>Экономист</td></tr>\n",
        "<tr><td>otherCertificates</td><td>Иные сертификаты соискателя</td><td>varchar</td><td>Справка об отсутствии судимости, сертификат COVID</td></tr>\n",
        "<tr><td>additionalEducationList</td><td>Информация о прохождении курсов</td><td> - </td><td> - </td></tr>\n",
        "<tr><td>additionalEducation</td><td>Дополнительное образование</td><td> - </td><td> - </td></tr>\n",
        "<tr><td>graduateYear</td><td>Год окончания</td><td>data</td><td>2017-12-01</td></tr>\n",
        "<tr><td>type</td><td>Тип</td><td>varchar</td><td>Course</td></tr>\n",
        "<tr><td>courseName</td><td>Название курса</td><td>varchar</td><td>Курсы для педагогов</td></tr>\n",
        "<tr><td>hardSkills</td><td>Профессиональные навыки</td><td> - </td><td> - </td></tr>\n",
        "<tr><td>hardSkill</td><td>Профессиональные навыки</td><td> - </td><td> - </td></tr>\n",
        "<tr><td>softskills</td><td>Гибкие навыки</td><td> - </td><td> - </td></tr>\n",
        "<tr><td>softskill</td><td>Гибкие навыки</td><td> - </td><td> - </td></tr>\n",
        "<tr><td>codeExternalSystem</td><td>Код внешней системы</td><td>varchar</td><td>CZN</td></tr>\n",
        "<tr><td>country</td><td>Страна проживания</td><td> - </td><td> - </td></tr>\n",
        "<tr><td>countryName</td><td>Название станы проживания</td><td>varchar</td><td>Российская Федерация</td></tr>\n",
        "<tr><td>countryCode</td><td>Код страны</td><td>varchar</td><td>255</td></tr>\n",
        "<tr><td>scheduleType</td><td>Желаемый график работы</td><td>varchar</td><td>Полный рабочий день</td></tr>\n",
        "<tr><td>salary</td><td>Желаемая зарплата</td><td>int</td><td>22000</td></tr>\n",
        "<tr><td>desirableRelocationRegions</td><td>Желаемые регионы переезда</td><td> - </td><td> - </td></tr>\n",
        "<tr><td>RelocationRegions</td><td>Регион переезда</td><td> - </td><td> - </td></tr>\n",
        "<tr><td>regionCode</td><td>Код региона</td><td>varchar</td><td>2400000000000</td></tr>\n",
        "<tr><td>type</td><td>Тип</td><td>varchar</td><td>CandidateRelocation</td></tr>\n",
        "<tr><td>busyType</td><td>Тип занятости</td><td>varchar</td><td>Полная занятость</td></tr>\n",
        "<tr><td>relocation</td><td>Готовность к переезду</td><td>varchar</td><td>Нет</td></tr>\n",
        "<tr><td>languageKnowledge</td><td>Знание иностранных языков</td><td> - </td><td> - </td></tr>\n",
        "<tr><td>languageKnowledge</td><td>Знание иностранных языков</td><td> - </td><td> - </td></tr>\n",
        "<tr><td>codeLanguage</td><td>Язык</td><td>varchar</td><td>Английский</td></tr>\n",
        "<tr><td>level</td><td>Уровень владения</td><td>varchar</td><td>BASIC</td></tr>\n",
        "<tr><td>isPreferred</td><td>Родной язык</td><td>boolean</td><td>false</td></tr>\n",
        "<tr><td>type</td><td>Тип</td><td>varchar</td><td>LanguageKnowledge</td></tr>\n",
        "<tr><td>businessTrips</td><td>Готовность к командировкам</td><td>varchar</td><td>Не готов к командировкам</td></tr>\n",
        "<tr><td>retrainingCapability</td><td>Возможность переобучения</td><td>varchar</td><td>Готов к переобучению</td></tr>\n",
        "<tr><td>innerinfo</td><td>Дополнительная информация</td><td> - </td><td> - </td></tr>\n",
        "<tr><td>idUser</td><td>Код пользователя</td><td>timeuuid</td><td>a296d280-352a-11e5-abfd-1ff705945672</td></tr>\n",
        "<tr><td>rfCitizen</td><td>Признак гражданства РФ</td><td>boolean</td><td>true</td></tr>\n",
        "<tr><td>visibility</td><td>Видимость</td><td></td><td>Видно всем</td></tr>\n",
        "<tr><td>dateModify</td><td>Дата изменения</td><td>date</td><td>2020-03-26</td></tr>\n",
        "<tr><td>deleted</td><td>Признак удаления</td><td>boolean</td><td>false</td></tr>\n",
        "<tr><td>fullnessRate</td><td>Процент заполнения</td><td>int</td><td>76</td></tr>\n",
        "\n",
        "</table>"
      ],
      "metadata": {
        "id": "gjPgz0sD06QP"
      }
    },
    {
      "cell_type": "markdown",
      "source": [
        "Удалим все резюме, в которых не указана ожидаемая должность и размер зарплаты."
      ],
      "metadata": {
        "id": "amSq6T7aoj9k"
      }
    },
    {
      "cell_type": "code",
      "source": [
        "df = df[df['salary'].notna()]\n",
        "df = df[df['positionName'].notna()]"
      ],
      "metadata": {
        "id": "pzoO6O4XpZPQ"
      },
      "execution_count": null,
      "outputs": []
    },
    {
      "cell_type": "code",
      "source": [
        "df.info()"
      ],
      "metadata": {
        "colab": {
          "base_uri": "https://localhost:8080/"
        },
        "id": "nREjw7wjoy2A",
        "outputId": "9f160d2f-cf86-461c-b406-c8edee7a88b2"
      },
      "execution_count": null,
      "outputs": [
        {
          "output_type": "stream",
          "name": "stdout",
          "text": [
            "<class 'pandas.core.frame.DataFrame'>\n",
            "Int64Index: 99992 entries, 0 to 99999\n",
            "Data columns (total 9 columns):\n",
            " #   Column              Non-Null Count  Dtype  \n",
            "---  ------              --------------  -----  \n",
            " 0   localityName        99946 non-null  object \n",
            " 1   age                 98180 non-null  float64\n",
            " 2   positionName        99992 non-null  object \n",
            " 3   experience          99992 non-null  object \n",
            " 4   educationList       99992 non-null  object \n",
            " 5   workExperienceList  99992 non-null  object \n",
            " 6   scheduleType        99992 non-null  object \n",
            " 7   salary              99992 non-null  float64\n",
            " 8   busyType            68098 non-null  object \n",
            "dtypes: float64(2), object(7)\n",
            "memory usage: 7.6+ MB\n"
          ]
        }
      ]
    },
    {
      "cell_type": "markdown",
      "source": [
        "Некоторые колонки имеют формат JSON (вложенная структура), сохраненные как текст. Чтобы с ними работать нам необходимо их преобразовать из текста в JSON:"
      ],
      "metadata": {
        "id": "4ctVVdpX0OYd"
      }
    },
    {
      "cell_type": "code",
      "source": [
        "def load_json(js):\n",
        "  try:\n",
        "    return json.loads(js)\n",
        "  except:\n",
        "    return  []"
      ],
      "metadata": {
        "id": "7EPspvxPxugR"
      },
      "execution_count": null,
      "outputs": []
    },
    {
      "cell_type": "code",
      "source": [
        "df['workExperienceList']      = df['workExperienceList'].apply(load_json)\n",
        "df['educationList']           = df['educationList'].apply(load_json)"
      ],
      "metadata": {
        "id": "wNwj6COpUsYS"
      },
      "execution_count": null,
      "outputs": []
    },
    {
      "cell_type": "markdown",
      "source": [
        "Мы видим, что в таблице 40 столбцов. В качестве целевого параметра, который будет предсказывать нейронная сеть, выберем колонку со значением желаемой зарплаты `salary`.\n",
        "\n",
        "Теперь нам необходимо из датасета извлечь данные, которые мы считаем значимыми для обучения модели, и представить их в формате пригодном для обучения нашей модели."
      ],
      "metadata": {
        "id": "pD-rehzygPw7"
      }
    },
    {
      "cell_type": "markdown",
      "source": [
        "### Извлечение классов из данных"
      ],
      "metadata": {
        "id": "D4OCu9QjAkYN"
      }
    },
    {
      "cell_type": "markdown",
      "source": [
        "#### Извлечение города"
      ],
      "metadata": {
        "id": "l46VnZUVAuGB"
      }
    },
    {
      "cell_type": "markdown",
      "source": [
        "Нам необходимо научиться извлекать из данных город проживания нашего соискателя, так как в разных регионах страны будут разные уровни зарплат и, соответственно, разные ожидания у соискателей. Города разделим на 4 класса: Москва, Санкт-Петербург, города-миллионники и остальные города. А также учтем варианты написания городов, а точнее областей, в датасете.  "
      ],
      "metadata": {
        "id": "dEJifftjBXit"
      }
    },
    {
      "cell_type": "code",
      "source": [
        "city_class =  {'Московская-область'          : 0,\n",
        "               'г-Москва'                    : 0,\n",
        "               'Ленинградская-область'       : 1,\n",
        "               'г-Санкт-Петербург'           : 1,\n",
        "               'Новосибирская-область'       : 2,\n",
        "               'Свердловская-область'        : 2,\n",
        "               'Татарстан-республика'        : 2,\n",
        "               'Нижегородская-область'       : 2,\n",
        "               'Красноярский-край'           : 2,\n",
        "               'Челябинская-область'         : 2,\n",
        "               'Самарская-область'           : 2,\n",
        "               'Башкортостан-республика'     : 2,\n",
        "               'Ростовская-область'          : 2,\n",
        "               'Краснодарский-край'          : 2,\n",
        "               'Омская-область'              : 2,\n",
        "               'Воронежская-область'         : 2,\n",
        "               'Пермский-край'               : 2,\n",
        "               'Волгоградская-область'       : 2,\n",
        "               'Прочие-города'               : 3\n",
        "              }"
      ],
      "metadata": {
        "id": "wEepw_7sAugE"
      },
      "execution_count": null,
      "outputs": []
    },
    {
      "cell_type": "markdown",
      "source": [
        "Ранее мы обсуждали, что НС хорошо работают с данными представленными в формате `one hot encoding` (`OHE`), поэтому распределим данные по категориям городов соискателей и получим вектора распределения `OHE`."
      ],
      "metadata": {
        "id": "EHbokpXNEpWX"
      }
    },
    {
      "cell_type": "code",
      "source": [
        "#  Преобразование информации о городе в one hot encoding\n",
        "\n",
        "def city2OHE(param):\n",
        "    # Определение размерности выходного вектора, как число уникальных классов\n",
        "    num_classes = len(set(city_class.values()))\n",
        "\n",
        "    # Если не смогли распарсить, то поле не заполнено\n",
        "    # Устанавливаем значение по умолчанию (последний элемент в словаре)\n",
        "    if not isinstance(param, str):\n",
        "        param = list(city_class.keys())[-1]\n",
        "\n",
        "    # Разбиваем строку на слова\n",
        "    split_array = re.split(r'[ ,.:()?!]', param)\n",
        "\n",
        "    # Поиск города в строке и присвоение ему класса\n",
        "    for word in split_array:\n",
        "        city_cls = city_class.get(word, -1)\n",
        "        if city_cls >= 0:\n",
        "            break\n",
        "    else:\n",
        "        # Обратите внимание, что у for имеется интересная конструкция for/else\n",
        "        # Город не в city_class - значит его класс \"Прочие-города\"\n",
        "        city_cls = num_classes - 1\n",
        "\n",
        "    # Возврат в виде one hot encoding-вектора\n",
        "    return utils.to_categorical(city_cls, num_classes)"
      ],
      "metadata": {
        "id": "FOpzG-AgDB0Q"
      },
      "execution_count": null,
      "outputs": []
    },
    {
      "cell_type": "markdown",
      "source": [
        "Обратите внимание, что мы используем конструкцию `for/else`. Блок `else` в конструкции `for/else` будет выполнен, если цикл полностью завершил итерацию, но не будет выполнен, если цикл прерван оператором `break`. Эта конструкция позволит все не найденные города отнести к 3 классу `прочие города`."
      ],
      "metadata": {
        "id": "8LU_Pg79Fbv5"
      }
    },
    {
      "cell_type": "markdown",
      "source": [
        "Приведем произвольный пример преобразования из датасета по полю `localityName` (*Наименование населенного пункта*):"
      ],
      "metadata": {
        "id": "NNSpjBkZGVTp"
      }
    },
    {
      "cell_type": "code",
      "source": [
        "N = 8\n",
        "print('Наименование населенного пункта: ', df.localityName[N])\n",
        "print('Наименование населенного пункта в формате OHE:', city2OHE(df.localityName[N]))"
      ],
      "metadata": {
        "colab": {
          "base_uri": "https://localhost:8080/"
        },
        "id": "V7RSLOizDC-M",
        "outputId": "c16642cc-056a-41b8-8b98-3c4be917bf84"
      },
      "execution_count": null,
      "outputs": [
        {
          "output_type": "stream",
          "name": "stdout",
          "text": [
            "Наименование населенного пункта:  Самарская-область,-г-Тольятти\n",
            "Наименование населенного пункта в формате OHE: [0. 0. 1. 0.]\n"
          ]
        }
      ]
    },
    {
      "cell_type": "markdown",
      "source": [
        "### Извлечение возраста и стажа"
      ],
      "metadata": {
        "id": "msaUSdIFLv4C"
      }
    },
    {
      "cell_type": "markdown",
      "source": [
        "Возраст и стаж соискателя мы также превратим в one hot encoding (OHE) формат. Для этого зададим пороговые значения:"
      ],
      "metadata": {
        "id": "YnUIFmet2ftV"
      }
    },
    {
      "cell_type": "code",
      "source": [
        "# Список порогов возраста\n",
        "age_class = [18, 25, 32, 39, 46, 53, 60]\n",
        "\n",
        "# Список порогов опыта работы лет\n",
        "experience_class = [1, 3, 5, 7, 10, 15]"
      ],
      "metadata": {
        "id": "RZZnC6wW2S60"
      },
      "execution_count": null,
      "outputs": []
    },
    {
      "cell_type": "markdown",
      "source": [
        "Определим универсальную функцию перевода числа в диапазон OHE:"
      ],
      "metadata": {
        "id": "viqDTJW4534Q"
      }
    },
    {
      "cell_type": "code",
      "source": [
        "def range2OHE(param, class_list):\n",
        "\n",
        "   # Определение размерности выходного вектора, как число уникальных классов\n",
        "    num_classes = len(class_list)+1\n",
        "\n",
        "    # Поиск интервала для входного значения\n",
        "    for i in range(num_classes - 1):\n",
        "        if float(param) < class_list[i]:\n",
        "            cls = i                       # Интервал найден, выбор класса\n",
        "            break\n",
        "    else:\n",
        "        cls = num_classes - 1             # Интервал не найден, выбор последнего класса\n",
        "\n",
        "    # Возврат в виде one hot encoding-вектора\n",
        "    return utils.to_categorical(cls, num_classes)"
      ],
      "metadata": {
        "id": "V6vaQD936Ne3"
      },
      "execution_count": null,
      "outputs": []
    },
    {
      "cell_type": "code",
      "source": [
        "N = 8\n",
        "print('Стаж работы: ', df.experience[N])\n",
        "print('Стаж работы в формате OHE: ',range2OHE(df.experience[N], experience_class))\n",
        "\n",
        "print('Возраст соискателя: ', df.age[N])\n",
        "print('Возраст соискателя в формате OHE: ', range2OHE(df.age[N], age_class))"
      ],
      "metadata": {
        "colab": {
          "base_uri": "https://localhost:8080/"
        },
        "id": "VcG3wuig82SG",
        "outputId": "07fd749b-0ec5-4a14-f6c5-7e78264da415"
      },
      "execution_count": null,
      "outputs": [
        {
          "output_type": "stream",
          "name": "stdout",
          "text": [
            "Стаж работы:  2\n",
            "Стаж работы в формате OHE:  [0. 1. 0. 0. 0. 0. 0.]\n",
            "Возраст соискателя:  55.0\n",
            "Возраст соискателя в формате OHE:  [0. 0. 0. 0. 0. 0. 1. 0.]\n"
          ]
        }
      ]
    },
    {
      "cell_type": "markdown",
      "source": [
        "### Извлечение графика работы и типа занятости"
      ],
      "metadata": {
        "id": "LQarexL22Ohz"
      }
    },
    {
      "cell_type": "markdown",
      "source": [
        "Для того чтобы правильно сформировать классы, нам необходимо вывести все возможные уникальные значения требуемого столбца нашего DataFrame."
      ],
      "metadata": {
        "id": "-RKLM6-q-a_i"
      }
    },
    {
      "cell_type": "markdown",
      "source": [
        "Для типа занятости, где возможно только одно значение список довольно лаконичный:"
      ],
      "metadata": {
        "id": "MxSznbibAL2N"
      }
    },
    {
      "cell_type": "code",
      "source": [
        "df.busyType.apply(lambda x: x if isinstance(x, str) else 'Полная-занятость').unique()"
      ],
      "metadata": {
        "colab": {
          "base_uri": "https://localhost:8080/"
        },
        "id": "gO-zF9H8_6Hj",
        "outputId": "cb6ae9f6-3aaa-4004-9610-6c442aeb623d"
      },
      "execution_count": null,
      "outputs": [
        {
          "output_type": "execute_result",
          "data": {
            "text/plain": [
              "array(['Полная-занятость', 'Удаленная', 'Частичная-занятость',\n",
              "       'Временная', 'Сезонная', 'Стажировка'], dtype=object)"
            ]
          },
          "metadata": {},
          "execution_count": 17
        }
      ]
    },
    {
      "cell_type": "markdown",
      "source": [
        "Если занятость не задана, т.е. тип значения отличен от строки (`isinstance(x, str)`), тогда для таких значений проставляем тип `Полная-занятость`, считаем его значением по умолчанию."
      ],
      "metadata": {
        "id": "n1PZQAoQTSHZ"
      }
    },
    {
      "cell_type": "markdown",
      "source": [
        "В резюме соискателя может быть указано несколько различных типов графика работы:"
      ],
      "metadata": {
        "id": "zrfjrHvJCy85"
      }
    },
    {
      "cell_type": "code",
      "source": [
        "df.scheduleType.apply(lambda x: x if isinstance(x, str) else 'Полный-рабочий-день').unique()"
      ],
      "metadata": {
        "colab": {
          "base_uri": "https://localhost:8080/"
        },
        "id": "ofaB_aGN_8Rm",
        "outputId": "c7ce25cf-533d-4a02-8a81-0f526abf2f8a"
      },
      "execution_count": null,
      "outputs": [
        {
          "output_type": "execute_result",
          "data": {
            "text/plain": [
              "array(['Полный-рабочий-день', 'Неполный-рабочий-день',\n",
              "       'Сменный-график,Полный-рабочий-день', 'Вахтовый-метод',\n",
              "       'Сменный-график',\n",
              "       'Гибкий-график,Неполный-рабочий-день,Полный-рабочий-день',\n",
              "       'Неполный-рабочий-день,Полный-рабочий-день', 'Гибкий-график',\n",
              "       'Сменный-график,Полный-рабочий-день,Вахтовый-метод',\n",
              "       'Гибкий-график,Неполный-рабочий-день',\n",
              "       'Полный-рабочий-день,Неполный-рабочий-день',\n",
              "       'Гибкий-график,Сменный-график,Полный-рабочий-день',\n",
              "       'Сменный-график,Неполный-рабочий-день',\n",
              "       'Гибкий-график,Полный-рабочий-день',\n",
              "       'Ненормированный-рабочий-день',\n",
              "       'Гибкий-график,Сменный-график,Неполный-рабочий-день',\n",
              "       'Ненормированный-рабочий-день,Гибкий-график,Сменный-график,Полный-рабочий-день,Вахтовый-метод',\n",
              "       'Сменный-график,Вахтовый-метод',\n",
              "       'Гибкий-график,Полный-рабочий-день,Неполный-рабочий-день',\n",
              "       'Гибкий-график,Сменный-график',\n",
              "       'Гибкий-график,Сменный-график,Неполный-рабочий-день,Полный-рабочий-день',\n",
              "       'Гибкий-график,Сменный-график,Полный-рабочий-день,Вахтовый-метод',\n",
              "       'Полный-рабочий-день,Вахтовый-метод',\n",
              "       'Ненормированный-рабочий-день,Сменный-график',\n",
              "       'Сменный-график,Полный-рабочий-день,Неполный-рабочий-день',\n",
              "       'Гибкий-график,Сменный-график,Полный-рабочий-день,Неполный-рабочий-день',\n",
              "       'Сменный-график,Неполный-рабочий-день,Полный-рабочий-день',\n",
              "       'Ненормированный-рабочий-день,Гибкий-график,Сменный-график',\n",
              "       'Гибкий-график,Ненормированный-рабочий-день,Сменный-график,Неполный-рабочий-день,Полный-рабочий-день,Вахтовый-метод',\n",
              "       'Гибкий-график,Вахтовый-метод',\n",
              "       'Ненормированный-рабочий-день,Гибкий-график,Сменный-график,Полный-рабочий-день,Неполный-рабочий-день',\n",
              "       'Гибкий-график,Ненормированный-рабочий-день,Сменный-график,Полный-рабочий-день,Вахтовый-метод',\n",
              "       'Ненормированный-рабочий-день,Сменный-график,Полный-рабочий-день,Вахтовый-метод',\n",
              "       'Ненормированный-рабочий-день,Полный-рабочий-день',\n",
              "       'Гибкий-график,Сменный-график,Вахтовый-метод',\n",
              "       'Гибкий-график,Сменный-график,Неполный-рабочий-день,Вахтовый-метод',\n",
              "       'Ненормированный-рабочий-день,Неполный-рабочий-день',\n",
              "       'Гибкий-график,Ненормированный-рабочий-день,Сменный-график,Неполный-рабочий-день',\n",
              "       'Гибкий-график,Полный-рабочий-день,Вахтовый-метод',\n",
              "       'Ненормированный-рабочий-день,Гибкий-график,Сменный-график,Полный-рабочий-день,Неполный-рабочий-день,Вахтовый-метод',\n",
              "       'Гибкий-график,Ненормированный-рабочий-день,Сменный-график,Неполный-рабочий-день,Полный-рабочий-день',\n",
              "       'Ненормированный-рабочий-день,Гибкий-график,Сменный-график,Неполный-рабочий-день',\n",
              "       'Ненормированный-рабочий-день,Сменный-график,Полный-рабочий-день',\n",
              "       'Ненормированный-рабочий-день,Гибкий-график,Неполный-рабочий-день',\n",
              "       'Полный-рабочий-день,Неполный-рабочий-день,Вахтовый-метод',\n",
              "       'Неполный-рабочий-день,Вахтовый-метод',\n",
              "       'Гибкий-график,Ненормированный-рабочий-день,Полный-рабочий-день',\n",
              "       'Сменный-график,Полный-рабочий-день,Неполный-рабочий-день,Вахтовый-метод',\n",
              "       'Ненормированный-рабочий-день,Сменный-график,Неполный-рабочий-день',\n",
              "       'Гибкий-график,Ненормированный-рабочий-день',\n",
              "       'Ненормированный-рабочий-день,Гибкий-график',\n",
              "       'Гибкий-график,Ненормированный-рабочий-день,Неполный-рабочий-день',\n",
              "       'Ненормированный-рабочий-день,Гибкий-график,Сменный-график,Полный-рабочий-день',\n",
              "       'Гибкий-график,Сменный-график,Неполный-рабочий-день,Полный-рабочий-день,Вахтовый-метод',\n",
              "       'Ненормированный-рабочий-день,Полный-рабочий-день,Вахтовый-метод',\n",
              "       'Гибкий-график,Ненормированный-рабочий-день,Сменный-график,Полный-рабочий-день',\n",
              "       'Ненормированный-рабочий-день,Гибкий-график,Полный-рабочий-день,Неполный-рабочий-день',\n",
              "       'Ненормированный-рабочий-день,Гибкий-график,Сменный-график,Неполный-рабочий-день,Вахтовый-метод',\n",
              "       'Гибкий-график,Ненормированный-рабочий-день,Сменный-график,Неполный-рабочий-день,Вахтовый-метод',\n",
              "       'Гибкий-график,Ненормированный-рабочий-день,Неполный-рабочий-день,Полный-рабочий-день',\n",
              "       'Гибкий-график,Ненормированный-рабочий-день,Неполный-рабочий-день,Вахтовый-метод',\n",
              "       'Ненормированный-рабочий-день,Сменный-график,Неполный-рабочий-день,Полный-рабочий-день',\n",
              "       'Ненормированный-рабочий-день,Гибкий-график,Неполный-рабочий-день,Полный-рабочий-день',\n",
              "       'Сменный-график,Неполный-рабочий-день,Вахтовый-метод',\n",
              "       'Ненормированный-рабочий-день,Неполный-рабочий-день,Вахтовый-метод',\n",
              "       'Ненормированный-рабочий-день,Гибкий-график,Сменный-график,Неполный-рабочий-день,Полный-рабочий-день,Вахтовый-метод',\n",
              "       'Гибкий-график,Неполный-рабочий-день,Вахтовый-метод',\n",
              "       'Ненормированный-рабочий-день,Гибкий-график,Полный-рабочий-день,Вахтовый-метод',\n",
              "       'Гибкий-график,Сменный-график,Полный-рабочий-день,Неполный-рабочий-день,Вахтовый-метод',\n",
              "       'Ненормированный-рабочий-день,Неполный-рабочий-день,Полный-рабочий-день',\n",
              "       'Неполный-рабочий-день,Полный-рабочий-день,Вахтовый-метод',\n",
              "       'Сменный-график,Неполный-рабочий-день,Полный-рабочий-день,Вахтовый-метод',\n",
              "       'Ненормированный-рабочий-день,Гибкий-график,Полный-рабочий-день',\n",
              "       'Гибкий-график,Ненормированный-рабочий-день,Сменный-график',\n",
              "       'Ненормированный-рабочий-день,Неполный-рабочий-день,Полный-рабочий-день,Вахтовый-метод',\n",
              "       'Гибкий-график,Ненормированный-рабочий-день,Сменный-график,Полный-рабочий-день,Неполный-рабочий-день,Вахтовый-метод',\n",
              "       'Ненормированный-рабочий-день,Гибкий-график,Сменный-график,Неполный-рабочий-день,Полный-рабочий-день',\n",
              "       'Гибкий-график,Ненормированный-рабочий-день,Сменный-график,Полный-рабочий-день,Неполный-рабочий-день',\n",
              "       'Гибкий-график,Полный-рабочий-день,Неполный-рабочий-день,Вахтовый-метод',\n",
              "       'Ненормированный-рабочий-день,Сменный-график,Вахтовый-метод',\n",
              "       'Ненормированный-рабочий-день,Полный-рабочий-день,Неполный-рабочий-день',\n",
              "       'Ненормированный-рабочий-день,Сменный-график,Полный-рабочий-день,Неполный-рабочий-день',\n",
              "       'Гибкий-график,Ненормированный-рабочий-день,Полный-рабочий-день,Вахтовый-метод',\n",
              "       'Ненормированный-рабочий-день,Сменный-график,Неполный-рабочий-день,Полный-рабочий-день,Вахтовый-метод',\n",
              "       'Ненормированный-рабочий-день,Вахтовый-метод',\n",
              "       'Гибкий-график,Неполный-рабочий-день,Полный-рабочий-день,Вахтовый-метод',\n",
              "       'Ненормированный-рабочий-день,Гибкий-график,Вахтовый-метод',\n",
              "       'Гибкий-график,Ненормированный-рабочий-день,Полный-рабочий-день,Неполный-рабочий-день'],\n",
              "      dtype=object)"
            ]
          },
          "metadata": {},
          "execution_count": 18
        }
      ]
    },
    {
      "cell_type": "markdown",
      "source": [
        "Извлечем уникальные значения:"
      ],
      "metadata": {
        "id": "2bS7oV_OC_Mw"
      }
    },
    {
      "cell_type": "code",
      "source": [
        "unique_list = df.scheduleType.apply(lambda x: x if isinstance(x, str) else 'Полный-рабочий-день').unique()\n",
        "\n",
        "shedule_list = []\n",
        "\n",
        "for uniq_str in unique_list:\n",
        "  row_array = uniq_str.replace(' ', '').split(',')\n",
        "  shedule_list = list(set(shedule_list + row_array))\n",
        "\n",
        "print(shedule_list)"
      ],
      "metadata": {
        "colab": {
          "base_uri": "https://localhost:8080/"
        },
        "id": "D9nC8h0_IzJR",
        "outputId": "33569bb1-a6de-4338-f782-a3620b4c36f0"
      },
      "execution_count": null,
      "outputs": [
        {
          "output_type": "stream",
          "name": "stdout",
          "text": [
            "['Полный-рабочий-день', 'Вахтовый-метод', 'Неполный-рабочий-день', 'Ненормированный-рабочий-день', 'Сменный-график', 'Гибкий-график']\n"
          ]
        }
      ]
    },
    {
      "cell_type": "markdown",
      "source": [
        "Здесь как и для типа занятости, все не строковые значения заменяем на 'Полный-рабочий-день'."
      ],
      "metadata": {
        "id": "yd9wxr1_Ul85"
      }
    },
    {
      "cell_type": "markdown",
      "source": [
        "В итоге для типов занятости и графиков работы мы получаем следующие возможные значения (классы):"
      ],
      "metadata": {
        "id": "OFPKjHhvU27m"
      }
    },
    {
      "cell_type": "code",
      "source": [
        "# Типы занятости\n",
        "employment_class = {\n",
        "                    'Стажировка'          : 0,\n",
        "                    'Временная'           : 1,\n",
        "                    'Сезонная'            : 2,\n",
        "                    'Частичная-занятость' : 3,\n",
        "                    'Удаленная'           : 4,\n",
        "                    'Полная-занятость'    : 5\n",
        "                   }\n",
        "\n",
        "# Графики работы\n",
        "schedule_class = {\n",
        "                  'Сменный-график'              : 0,\n",
        "                  'Ненормированный-рабочий-день': 1,\n",
        "                  'Вахтовый-метод'              : 2,\n",
        "                  'Гибкий-график'               : 3,\n",
        "                  'Неполный-рабочий-день'       : 4,\n",
        "                  'Полный-рабочий-день'         : 5,\n",
        "\n",
        "                 }"
      ],
      "metadata": {
        "id": "TpXdbhGV-bcM"
      },
      "execution_count": null,
      "outputs": []
    },
    {
      "cell_type": "code",
      "source": [
        "# Общая функция преобразования строки к multi-вектору\n",
        "# На входе данные и словарь сопоставления подстрок классам\n",
        "\n",
        "def str2multiOHE(param, class_dict):\n",
        "\n",
        "    # Определение размерности выходного вектора, как число уникальных классов\n",
        "    num_classes = len(set(class_dict.values()))\n",
        "\n",
        "    # Создание нулевого вектора\n",
        "    result = np.zeros(num_classes)\n",
        "\n",
        "    # Если не смогли распарсить, то поле не заполнено\n",
        "    # Устанавливаем значение по умолчанию (последний элемент в словаре)\n",
        "    if not isinstance(param, str):\n",
        "        param = list(class_dict.keys())[-1]\n",
        "\n",
        "    # Поиск значения в словаре и, если нашли, то проставляем 1 в найденной позиции\n",
        "    for value, cls in class_dict.items():\n",
        "        if value in param:\n",
        "            result[cls] = 1.\n",
        "\n",
        "    return result"
      ],
      "metadata": {
        "id": "3JfDwaXuWU_a"
      },
      "execution_count": null,
      "outputs": []
    },
    {
      "cell_type": "markdown",
      "source": [
        "Сформируем OHE для произвольного резюме:"
      ],
      "metadata": {
        "id": "3I5ZF4_qWTM3"
      }
    },
    {
      "cell_type": "code",
      "source": [
        "N = 154\n",
        "print('Тип занятости: ', df.busyType[N])\n",
        "print('Тип занятости в формате OHE: ', str2multiOHE(df.busyType[N], employment_class))\n",
        "print()\n",
        "print('График работы: ', df.scheduleType[N])\n",
        "print('График работы в формате OHE: ', str2multiOHE(df.scheduleType[N], schedule_class))"
      ],
      "metadata": {
        "colab": {
          "base_uri": "https://localhost:8080/"
        },
        "id": "kq1MXe87Xi4t",
        "outputId": "fb60ec70-2410-4a2d-a7b8-2c7e07918633"
      },
      "execution_count": null,
      "outputs": [
        {
          "output_type": "stream",
          "name": "stdout",
          "text": [
            "Тип занятости:  nan\n",
            "Тип занятости в формате OHE:  [0. 0. 0. 0. 0. 1.]\n",
            "\n",
            "График работы:  Гибкий-график,Полный-рабочий-день\n",
            "График работы в формате OHE:  [0. 0. 0. 1. 0. 1.]\n"
          ]
        }
      ]
    },
    {
      "cell_type": "markdown",
      "source": [
        "Если указано несколько значений, то в каждом классе, к которому подходят значения, проставляем `1`. `nan` в данном датасете означает незаполненное поле. Для таких полей задаем значение по умолчанию (последний класс в словаре)."
      ],
      "metadata": {
        "id": "-iM6R6W6dv8A"
      }
    },
    {
      "cell_type": "markdown",
      "source": [
        "### Обучающая выборка по числовым данным"
      ],
      "metadata": {
        "id": "z6t_PJXAm2Mv"
      }
    },
    {
      "cell_type": "markdown",
      "source": [
        "Прежде чем мы приступим к обработке текстовых данных, давайте сформируем обучающую выборку по уже извлеченным числовым данным в формате OHE."
      ],
      "metadata": {
        "id": "hDqNqG9Wm-2r"
      }
    },
    {
      "cell_type": "code",
      "source": [
        "# Фиксация индексов столбцов\n",
        "COL_LOCALITY     = df.columns.get_loc('localityName')\n",
        "COL_EXPERIENCE   = df.columns.get_loc('experience')\n",
        "COL_AGE          = df.columns.get_loc('age')\n",
        "COL_BUSY         = df.columns.get_loc('busyType')\n",
        "COL_SCHED        = df.columns.get_loc('scheduleType')\n",
        "COL_SALARY       = df.columns.get_loc('salary')\n",
        "\n",
        "\n",
        "def get_row_data(row):\n",
        "    # Объединение всех входных данных в один общий вектор\n",
        "    x_data = np.hstack([\n",
        "                city2OHE(row[COL_LOCALITY]),\n",
        "                range2OHE(row[COL_EXPERIENCE], experience_class),\n",
        "                range2OHE(row[COL_AGE], age_class),\n",
        "                str2multiOHE(row[COL_BUSY], employment_class),\n",
        "                str2multiOHE(row[COL_SCHED], schedule_class)\n",
        "              ])\n",
        "\n",
        "    # Вектор зарплат в тысячах рублей\n",
        "    y_data = np.array([row[COL_SALARY]]) / 1000\n",
        "\n",
        "\n",
        "    return x_data, y_data\n",
        "\n",
        "def get_train_data(dataFrame):\n",
        "    x_data = []\n",
        "    y_data = []\n",
        "\n",
        "    for row in dataFrame.values:\n",
        "        x, y = get_row_data(row)\n",
        "        x_data.append(x)\n",
        "        y_data.append(y)\n",
        "\n",
        "    return np.array(x_data), np.array(y_data)\n"
      ],
      "metadata": {
        "id": "MsQeih6TnZ5A"
      },
      "execution_count": null,
      "outputs": []
    },
    {
      "cell_type": "code",
      "source": [
        "# Формирование выборки из загруженного набора данных\n",
        "x_train, y_train = get_train_data(df)"
      ],
      "metadata": {
        "id": "qnwaMvr3nWEB"
      },
      "execution_count": null,
      "outputs": []
    },
    {
      "cell_type": "markdown",
      "source": [
        "### Извлечение данных об образовании"
      ],
      "metadata": {
        "id": "slMvGQ7CeRr5"
      }
    },
    {
      "cell_type": "markdown",
      "source": [
        "Сведения об образовании мы передадим в модель в виде текста, поэтому создадим новую колонку `education` в нашем наборе данных и поместим в нее сведения об учебном заведении, год окончания, факультет, специальность и полученная квалификация:"
      ],
      "metadata": {
        "id": "-wsmR3ZB0XgN"
      }
    },
    {
      "cell_type": "code",
      "source": [
        "def extract_education(param):\n",
        "  edu_text = []\n",
        "  for edu in param:\n",
        "    if edu.get('instituteName'):\n",
        "        edu_text.append(edu.get('instituteName'))\n",
        "        if  edu.get('qualification'):\n",
        "            edu_text.append(edu.get('qualification'))\n",
        "        if  edu.get('specialty'):\n",
        "            edu_text.append(edu.get('specialty'))\n",
        "        if  edu.get('faculty'):\n",
        "            edu_text.append(edu.get('faculty'))\n",
        "        if  edu.get('graduateYear'):\n",
        "            edu_text.append(str(edu.get('graduateYear')))\n",
        "\n",
        "\n",
        "  return '. '.join(edu_text)\n",
        "\n",
        "\n",
        "df['education'] = df['educationList'].apply(extract_education)"
      ],
      "metadata": {
        "id": "kOgHwLnm3sh1"
      },
      "execution_count": null,
      "outputs": []
    },
    {
      "cell_type": "code",
      "source": [
        "df['education'][5]"
      ],
      "metadata": {
        "colab": {
          "base_uri": "https://localhost:8080/",
          "height": 36
        },
        "id": "24CPCBzX5j80",
        "outputId": "b4d34a29-e050-4d24-a579-317b373b3f42"
      },
      "execution_count": null,
      "outputs": [
        {
          "output_type": "execute_result",
          "data": {
            "text/plain": [
              "'Московская школа милиции. 1994'"
            ],
            "application/vnd.google.colaboratory.intrinsic+json": {
              "type": "string"
            }
          },
          "metadata": {},
          "execution_count": 26
        }
      ]
    },
    {
      "cell_type": "markdown",
      "source": [
        "Преобразуем текстовые данные в числовые для обучения нейросети:\n"
      ],
      "metadata": {
        "id": "K4lD3cHX__J4"
      }
    },
    {
      "cell_type": "code",
      "source": [
        "\n",
        "# Используется встроенный в Keras токенизатор для разбиения текста и построения частотного словаря\n",
        "tokenizer = Tokenizer(\n",
        "    num_words=3000,                                          # объем словаря\n",
        "    filters='!\"«»#$№%&()*+,-–—./:;<=>?@[\\\\]^_`{|}~\\t\\n\\xa0', # убираемые из текста ненужные символы\n",
        "    lower=True,                                              # приведение слов к нижнему регистру\n",
        "    split=' ',                                               # разделитель слов\n",
        "    oov_token='unknown',                                     # токен для слов, которые не вошли в словарь\n",
        "    char_level=False                                         # разделяем по словам, а не по единичным символам\n",
        ")\n",
        "\n",
        "# Построение частотного словаря по текстам образования\n",
        "tokenizer.fit_on_texts(df['education'])"
      ],
      "metadata": {
        "id": "6d4m9_Og_Un3"
      },
      "execution_count": null,
      "outputs": []
    },
    {
      "cell_type": "code",
      "source": [
        "items = list(tokenizer.word_index.items())       # Получение индексов слов\n",
        "print(items[:50])                                # Посмотр 50 самых часто встречающихся слов\n",
        "print(\"Размер словаря\", len(items))              # Длина словаря"
      ],
      "metadata": {
        "colab": {
          "base_uri": "https://localhost:8080/"
        },
        "id": "89zH6MzB_VeS",
        "outputId": "3df0c88b-d5a8-45ca-85e8-6d9b6d2b99d2"
      },
      "execution_count": null,
      "outputs": [
        {
          "output_type": "stream",
          "name": "stdout",
          "text": [
            "[('unknown', 1), ('университет', 2), ('и', 3), ('государственный', 4), ('школа', 5), ('г', 6), ('институт', 7), ('колледж', 8), ('техникум', 9), ('сош', 10), ('экономический', 11), ('академия', 12), ('училище', 13), ('экономист', 14), ('имени', 15), ('средняя', 16), ('технический', 17), ('инженер', 18), ('педагогический', 19), ('им', 20), ('в', 21), ('по', 22), ('техник', 23), ('филиал', 24), ('экономики', 25), ('бакалавр', 26), ('2023', 27), ('московский', 28), ('профессиональное', 29), ('2010', 30), ('2009', 31), ('2015', 32), ('экономика', 33), ('2008', 34), ('менеджер', 35), ('2012', 36), ('2007', 37), ('2011', 38), ('2006', 39), ('2014', 40), ('юрист', 41), ('2005', 42), ('2013', 43), ('2016', 44), ('мбоу', 45), ('с', 46), ('образования', 47), ('2004', 48), ('учреждение', 49), ('управления', 50)]\n",
            "Размер словаря 23880\n"
          ]
        }
      ]
    },
    {
      "cell_type": "code",
      "source": [
        "# Преобразование текстов в последовательность индексов согласно частотному словарю\n",
        "education_seq = tokenizer.texts_to_sequences(df['education'])"
      ],
      "metadata": {
        "id": "32l_ER-S_YP8"
      },
      "execution_count": null,
      "outputs": []
    },
    {
      "cell_type": "code",
      "source": [
        "# Преобразование последовательностей индексов в bag of words\n",
        "x_train_education = tokenizer.sequences_to_matrix(education_seq)"
      ],
      "metadata": {
        "id": "87sJTeSk_f7K"
      },
      "execution_count": null,
      "outputs": []
    },
    {
      "cell_type": "code",
      "source": [
        "# Проверка результата\n",
        "print(x_train_education.shape)\n",
        "print(x_train_education[5][0:100])"
      ],
      "metadata": {
        "colab": {
          "base_uri": "https://localhost:8080/"
        },
        "id": "7sRhz7hW_ghs",
        "outputId": "8f93cf46-7ec6-416d-9fc3-04352660fab5"
      },
      "execution_count": null,
      "outputs": [
        {
          "output_type": "stream",
          "name": "stdout",
          "text": [
            "(99992, 3000)\n",
            "[0. 0. 0. 0. 0. 1. 0. 0. 0. 0. 0. 0. 0. 0. 0. 0. 0. 0. 0. 0. 0. 0. 0. 0.\n",
            " 0. 0. 0. 0. 0. 0. 0. 0. 0. 0. 0. 0. 0. 0. 0. 0. 0. 0. 0. 0. 0. 0. 0. 0.\n",
            " 0. 0. 0. 0. 0. 0. 0. 0. 0. 0. 0. 0. 0. 0. 0. 0. 0. 0. 0. 0. 0. 0. 0. 0.\n",
            " 0. 0. 0. 0. 0. 0. 0. 0. 0. 0. 0. 0. 0. 0. 0. 0. 0. 0. 0. 0. 0. 0. 0. 0.\n",
            " 0. 0. 0. 0.]\n"
          ]
        }
      ]
    },
    {
      "cell_type": "code",
      "source": [
        "# Проверка получившихся данных\n",
        "n = 5\n",
        "print(df['education'][n])                   # Данные об образовании в тексте\n",
        "print(education_seq[n])                     # Данные об образовании в индексах слов\n",
        "print(x_train_education[n][0:100])          # Данные об образовании в bag of words"
      ],
      "metadata": {
        "colab": {
          "base_uri": "https://localhost:8080/"
        },
        "id": "agtgG7X3_lBv",
        "outputId": "94ff7e69-bdc2-4966-8a77-0293ede9f953"
      },
      "execution_count": null,
      "outputs": [
        {
          "output_type": "stream",
          "name": "stdout",
          "text": [
            "Московская школа милиции. 1994\n",
            "[220, 5, 2031, 109]\n",
            "[0. 0. 0. 0. 0. 1. 0. 0. 0. 0. 0. 0. 0. 0. 0. 0. 0. 0. 0. 0. 0. 0. 0. 0.\n",
            " 0. 0. 0. 0. 0. 0. 0. 0. 0. 0. 0. 0. 0. 0. 0. 0. 0. 0. 0. 0. 0. 0. 0. 0.\n",
            " 0. 0. 0. 0. 0. 0. 0. 0. 0. 0. 0. 0. 0. 0. 0. 0. 0. 0. 0. 0. 0. 0. 0. 0.\n",
            " 0. 0. 0. 0. 0. 0. 0. 0. 0. 0. 0. 0. 0. 0. 0. 0. 0. 0. 0. 0. 0. 0. 0. 0.\n",
            " 0. 0. 0. 0.]\n"
          ]
        }
      ]
    },
    {
      "cell_type": "code",
      "source": [
        "# Освобождение памяти от промежуточных данных\n",
        "del education_seq, tokenizer"
      ],
      "metadata": {
        "id": "xo_TszFy_s-W"
      },
      "execution_count": null,
      "outputs": []
    },
    {
      "cell_type": "markdown",
      "source": [
        "### Извлечение данных о предыдущей работе"
      ],
      "metadata": {
        "id": "fgugo7tz_tvR"
      }
    },
    {
      "cell_type": "markdown",
      "source": [
        "Извлечение данных о предыдущих местах работы соискателя производится по аналогичной схеме, что мы делали выше при извлечении образовательных учреждений соискателя."
      ],
      "metadata": {
        "id": "Ei_PCTr5J61R"
      }
    },
    {
      "cell_type": "code",
      "source": [
        "# Библиотека для работы с датой и временем\n",
        "# https://docs.python.org/3/library/datetime.html - ссылка на документацию\n",
        "import datetime\n",
        "\n",
        "def extract_works(param):\n",
        "  edu_text = []\n",
        "  for edu in param:\n",
        "    if edu.get('companyName'):\n",
        "        edu_text.append(edu.get('companyName'))\n",
        "        if  edu.get('dateFrom') and edu.get('dateTo'):\n",
        "            # Преобразуем строку в формат даты и времени (дата увольнения)\n",
        "            dateT = datetime.datetime.strptime(edu.get('dateTo'), '%Y-%m-%dT%H:%M:%S%z')\n",
        "\n",
        "            # Преобразуем строку в формат даты и времени (дата приема на работу)\n",
        "            dateF = datetime.datetime.strptime(edu.get('dateFrom'), '%Y-%m-%dT%H:%M:%S%z')\n",
        "\n",
        "            # разницу дат делим на число секунд в месяц\n",
        "            edu_text.append(f\"Стаж {int((dateT - dateF).total_seconds() / 2628000) } месяцев\")\n",
        "\n",
        "        if  edu.get('jobTitle'):\n",
        "            edu_text.append(edu.get('jobTitle'))\n",
        "        if  edu.get('achievements'):\n",
        "            edu_text.append(edu.get('achievements'))\n",
        "        if  edu.get('demands'):\n",
        "            edu_text.append(edu.get('demands').replace('<p>', '').replace('</p>', ''))\n",
        "\n",
        "\n",
        "\n",
        "  return '. '.join(edu_text)\n",
        "\n",
        "\n",
        "df['works'] = df['workExperienceList'].apply(extract_works)\n",
        "\n",
        "df['works'][9]"
      ],
      "metadata": {
        "colab": {
          "base_uri": "https://localhost:8080/",
          "height": 140
        },
        "id": "pbv2w5kQJ7iV",
        "outputId": "8ba0c07d-6813-44cc-8af5-03c1db854a8b"
      },
      "execution_count": null,
      "outputs": [
        {
          "output_type": "execute_result",
          "data": {
            "text/plain": [
              "'Общество с ограниченной ответственностью \"Газпром межрегионгаз Орёл\". Стаж 13 месяцев. Экономист финансового отдела. Экономист по финансовой работе выполняет работу по осуществлению финансовой деятельности, которая направлена на выполнение плана сбора денежных средств за реализованный природный газ, на повышение эффективности и рентабельности работы ООО «Газпром межрегионгаз Орел».Составляет установленную отчетность о результатах финансовой деятельности.Проводит сверку взаимных расчетов с ООО «Газпром межрегионгаз Орел» и ОАО «Газпром», учувствует в формировании и подписании ежемесячных актов сверок взаимных расчетов в установленные сроки.Производит сверку расчетов с потребителями газа по оперативным данным.Производит работы по подписанию квартальных актов сверки расчетов с потребителями газа по данным бухгалтерского учета.Осуществляет контроль возвратности подписанных актов сверки.Выполняет работу по контролю расчетов потребителей за поставленный газ.Оформляет с потребителями соглашения о зачете взаимных требований.Подготавливает необходимые материалы для подписания соглашений по реструктуризации долга, об уступке прав требований с предприятиями – дебиторами, договоров перевода долга.Выписывает счета на предоплату газа, оплату дополнительных объемов газа, коммерческого газа.Принимает участие в сборе необходимой информации по предприятиям договорникам.Выполняет отдельные служебные распоряжения своего непосредственного руководителя.. Публичное акционерное общество \"Сбербанк России\". Стаж 4 месяцев. Консультант. Помощь клиентам в обращении с банкоматами, терминалами самообслуживания, продажи, кросс-продажи.'"
            ],
            "application/vnd.google.colaboratory.intrinsic+json": {
              "type": "string"
            }
          },
          "metadata": {},
          "execution_count": 34
        }
      ]
    },
    {
      "cell_type": "code",
      "source": [
        "# Используется встроенный в Keras токенизатор для разбиения текста и построения частотного словаря\n",
        "tokenizer = Tokenizer(\n",
        "    num_words=3000,                                          # объем словаря\n",
        "    filters='!\"«»#$№%&()*+,-–—./:;<=>?@[\\\\]^_`{|}~\\t\\n\\xa0', # убираемые из текста ненужные символы\n",
        "    lower=True,                                              # приведение слов к нижнему регистру\n",
        "    split=' ',                                               # разделитель слов\n",
        "    oov_token='unknown',                                     # токен для слов, которые не вошли в словарь\n",
        "    char_level=False                                         # разделяем по словам, а не по единичным символам\n",
        ")\n",
        "\n",
        "# Построение частотного словаря по текстам с опытом работы\n",
        "tokenizer.fit_on_texts(df['works'])"
      ],
      "metadata": {
        "id": "f7Z91646TODw"
      },
      "execution_count": null,
      "outputs": []
    },
    {
      "cell_type": "code",
      "source": [
        "items = list(tokenizer.word_index.items())       # Получение индексов слов\n",
        "print(items[:50])                                # Посмотр 50 самых часто встречающихся слов\n",
        "print(\"Размер словаря\", len(items))              # Длина словаря"
      ],
      "metadata": {
        "id": "6Gs_hZa8Y6RX",
        "colab": {
          "base_uri": "https://localhost:8080/"
        },
        "outputId": "1eb5820f-59b7-42ce-d0c2-8f85e7f2e211"
      },
      "execution_count": null,
      "outputs": [
        {
          "output_type": "stream",
          "name": "stdout",
          "text": [
            "[('unknown', 1), ('и', 2), ('стаж', 3), ('месяцев', 4), ('nbsp', 5), ('в', 6), ('по', 7), ('с', 8), ('p', 9), ('li', 10), ('\\r', 11), ('ооо', 12), ('на', 13), ('работа', 14), ('контроль', 15), ('ведение', 16), ('работы', 17), ('за', 18), ('для', 19), ('организация', 20), ('span', 21), ('2', 22), ('документов', 23), ('проведение', 24), ('подготовка', 25), ('документации', 26), ('1', 27), ('составление', 28), ('оформление', 29), ('товара', 30), ('клиентов', 31), ('специалист', 32), ('ul', 33), ('3', 34), ('отдела', 35), ('strong', 36), ('договоров', 37), ('менеджер', 38), ('4', 39), ('работ', 40), ('ип', 41), ('5', 42), ('разработка', 43), ('продавец', 44), ('оборудования', 45), ('г', 46), ('управление', 47), ('обеспечение', 48), ('обслуживание', 49), ('ао', 50)]\n",
            "Размер словаря 136866\n"
          ]
        }
      ]
    },
    {
      "cell_type": "code",
      "source": [
        "# Преобразование текстов в последовательность индексов согласно частотному словарю\n",
        "works_seq = tokenizer.texts_to_sequences(df['works'])\n",
        "\n",
        "# Преобразование последовательностей индексов в bag of words\n",
        "x_train_works = tokenizer.sequences_to_matrix(works_seq)\n",
        "\n",
        "print('Форма обучающей выборке по опыту работы:', x_train_works.shape)\n",
        "print()\n",
        "\n",
        "# Проверка получившихся данных\n",
        "n = 5\n",
        "print(df['works'][n])                      # Опыт работы в тексте\n",
        "print(works_seq[n])                        # Опыт работы в индексах слов\n",
        "print(x_train_works[n][0:100])             # Опыт работы в bag of words"
      ],
      "metadata": {
        "id": "6seOHdiuY-pY",
        "colab": {
          "base_uri": "https://localhost:8080/"
        },
        "outputId": "2b0b1323-c6a0-4c49-f992-ad1dd6f6bb59"
      },
      "execution_count": null,
      "outputs": [
        {
          "output_type": "stream",
          "name": "stdout",
          "text": [
            "Форма обучающей выборке по опыту работу: (99992, 3000)\n",
            "\n",
            "ООО оп оса. Стаж 42 месяцев. Помощник оперативного дежурного. Обязанности оперативного дежурного\n",
            "[12, 2037, 1, 3, 1052, 4, 217, 1710, 1, 177, 1710, 1]\n",
            "[0. 1. 0. 1. 1. 0. 0. 0. 0. 0. 0. 0. 1. 0. 0. 0. 0. 0. 0. 0. 0. 0. 0. 0.\n",
            " 0. 0. 0. 0. 0. 0. 0. 0. 0. 0. 0. 0. 0. 0. 0. 0. 0. 0. 0. 0. 0. 0. 0. 0.\n",
            " 0. 0. 0. 0. 0. 0. 0. 0. 0. 0. 0. 0. 0. 0. 0. 0. 0. 0. 0. 0. 0. 0. 0. 0.\n",
            " 0. 0. 0. 0. 0. 0. 0. 0. 0. 0. 0. 0. 0. 0. 0. 0. 0. 0. 0. 0. 0. 0. 0. 0.\n",
            " 0. 0. 0. 0.]\n"
          ]
        }
      ]
    },
    {
      "cell_type": "code",
      "source": [
        "# Освобождение памяти от промежуточных данных\n",
        "del works_seq, tokenizer"
      ],
      "metadata": {
        "id": "FQv6XnVgY_JR"
      },
      "execution_count": null,
      "outputs": []
    },
    {
      "cell_type": "markdown",
      "source": [
        "### Извлечение данных о желаемой Должности"
      ],
      "metadata": {
        "id": "mghCS7-xc49j"
      }
    },
    {
      "cell_type": "markdown",
      "source": [
        "Данные о должности хранятся в столбце `positionName` и не требуют изменений и сложных извлечений. Однако для передачи данных в нейронную сеть их тоже необходимо привести к формату `bag of words`."
      ],
      "metadata": {
        "id": "otFcmo4xc49j"
      }
    },
    {
      "cell_type": "code",
      "source": [
        "\n",
        "pd.Series(df['positionName'].unique()).to_csv('test.csv')"
      ],
      "metadata": {
        "id": "GKZiSJRqR1Jh"
      },
      "execution_count": null,
      "outputs": []
    },
    {
      "cell_type": "code",
      "source": [
        "# Используется встроенный в Keras токенизатор для разбиения текста и построения частотного словаря\n",
        "tokenizer = Tokenizer(\n",
        "    num_words=3000,                                          # объем словаря\n",
        "    filters='!\"«»#$№%&()*+,-–—./:;<=>?@[\\\\]^_`{|}~\\t\\n\\r\\xa0', # убираемые из текста ненужные символы\n",
        "    lower=True,                                              # приведение слов к нижнему регистру\n",
        "    split=' ',                                               # разделитель слов\n",
        "    oov_token='unknown',                                     # токен для слов, которые не вошли в словарь\n",
        "    char_level=False                                         # разделяем по словам, а не по единичным символам\n",
        ")\n",
        "\n",
        "# Построение частотного словаря по текстам с опытом работы\n",
        "# Мы используем принудительное преобразование данных к строке, чтобы избежать ошибок в случае пропуска данных\n",
        "tokenizer.fit_on_texts(df['positionName'].apply(str))"
      ],
      "metadata": {
        "id": "A0bHRAY5c49j"
      },
      "execution_count": null,
      "outputs": []
    },
    {
      "cell_type": "code",
      "source": [
        "items = list(tokenizer.word_index.items())       # Получение индексов слов\n",
        "print(items[:50])                                # Посмотр 50 самых часто встречающихся слов\n",
        "print(\"Размер словаря\", len(items))              # Длина словаря"
      ],
      "metadata": {
        "colab": {
          "base_uri": "https://localhost:8080/"
        },
        "outputId": "794da3c1-50a1-4f9d-f664-bc70a700ae5d",
        "id": "o6QJZBtwc49k"
      },
      "execution_count": null,
      "outputs": [
        {
          "output_type": "stream",
          "name": "stdout",
          "text": [
            "[('unknown', 1), ('рабочий', 2), ('по', 3), ('подсобный', 4), ('продавец', 5), ('специалист', 6), ('менеджер', 7), ('водитель', 8), ('администратор', 9), ('трудоустройство', 10), ('временное', 11), ('несовершеннолетних', 12), ('оператор', 13), ('бухгалтер', 14), ('уборщик', 15), ('разнорабочий', 16), ('инженер', 17), ('и', 18), ('помощник', 19), ('повар', 20), ('сторож', 21), ('машинист', 22), ('благоустройству', 23), ('котельной', 24), ('кассир', 25), ('слесарь', 26), ('охранник', 27), ('руководитель', 28), ('помещений', 29), ('отдела', 30), ('мастер', 31), ('консультант', 32), ('кочегар', 33), ('экономист', 34), ('юрист', 35), ('служебных', 36), ('воспитатель', 37), ('в', 38), ('учитель', 39), ('начальник', 40), ('кладовщик', 41), ('пунктов', 42), ('с', 43), ('директор', 44), ('секретарь', 45), ('работник', 46), ('автомобиля', 47), ('населенных', 48), ('уборщица', 49), ('делопроизводитель', 50)]\n",
            "Размер словаря 9234\n"
          ]
        }
      ]
    },
    {
      "cell_type": "code",
      "source": [
        "# Преобразование текстов в последовательность индексов согласно частотному словарю\n",
        "position_seq = tokenizer.texts_to_sequences(df['positionName'].apply(str))\n",
        "\n",
        "# Преобразование последовательностей индексов в bag of words\n",
        "x_train_position = tokenizer.sequences_to_matrix(position_seq)\n",
        "\n",
        "print('Форма обучающей выборке по опыту работу:', x_train_position.shape)\n",
        "print()\n",
        "\n",
        "# Проверка получившихся данных\n",
        "n = 5\n",
        "print(df['positionName'][n])                  # Опыт работы в тексте\n",
        "print(position_seq[n])                        # Опыт работы в индексах слов\n",
        "print(x_train_position[n][0:100])             # Опыт работы в bag of words"
      ],
      "metadata": {
        "colab": {
          "base_uri": "https://localhost:8080/"
        },
        "outputId": "bba90458-f088-4e3f-e04a-88d0ebecbcb5",
        "id": "1v1elf4Xc49k"
      },
      "execution_count": null,
      "outputs": [
        {
          "output_type": "stream",
          "name": "stdout",
          "text": [
            "Форма обучающей выборке по опыту работу: (99992, 3000)\n",
            "\n",
            "Оперативный-дежурный\n",
            "[1243, 227]\n",
            "[0. 0. 0. 0. 0. 0. 0. 0. 0. 0. 0. 0. 0. 0. 0. 0. 0. 0. 0. 0. 0. 0. 0. 0.\n",
            " 0. 0. 0. 0. 0. 0. 0. 0. 0. 0. 0. 0. 0. 0. 0. 0. 0. 0. 0. 0. 0. 0. 0. 0.\n",
            " 0. 0. 0. 0. 0. 0. 0. 0. 0. 0. 0. 0. 0. 0. 0. 0. 0. 0. 0. 0. 0. 0. 0. 0.\n",
            " 0. 0. 0. 0. 0. 0. 0. 0. 0. 0. 0. 0. 0. 0. 0. 0. 0. 0. 0. 0. 0. 0. 0. 0.\n",
            " 0. 0. 0. 0.]\n"
          ]
        }
      ]
    },
    {
      "cell_type": "code",
      "source": [
        "# Освобождение памяти от промежуточных данных\n",
        "del position_seq, tokenizer, items, df"
      ],
      "metadata": {
        "id": "lBWR143ac49k"
      },
      "execution_count": null,
      "outputs": []
    },
    {
      "cell_type": "markdown",
      "source": [
        "### Нормализация зарплат"
      ],
      "metadata": {
        "id": "7ay-ckqIEXBm"
      }
    },
    {
      "cell_type": "markdown",
      "source": [
        "Мы уже говорили, что выходные данные, на которых обучается наша модель необходимо нормализовать, поэтому нормализуем уровень зарплат с помощью инструмента `StandardScaler`:"
      ],
      "metadata": {
        "id": "hbSeLDVHExm1"
      }
    },
    {
      "cell_type": "code",
      "source": [
        "# Для нормализации данных используется готовый инструмент\n",
        "y_scaler = StandardScaler()\n",
        "\n",
        "# Нормализация выходных данных по стандартному нормальному распределению\n",
        "y_train_scaled = y_scaler.fit_transform(y_train)"
      ],
      "metadata": {
        "id": "PLfWWuNysekZ"
      },
      "execution_count": null,
      "outputs": []
    },
    {
      "cell_type": "markdown",
      "source": [
        "## Архитектура модели"
      ],
      "metadata": {
        "id": "4Rpvqo6rc49k"
      }
    },
    {
      "cell_type": "markdown",
      "source": [
        "Давайте остановимся и немного поразмышляем какой должна быть модель, чтобы решить задачу регрессии с 4 наборами данных! Именно так у нас получилось 4 набора данных:\n",
        "* числовой набор - это совокупность наших OHE-векторов, которые мы подадим одним вектором на вход модели;\n",
        "* текстовый набор с данными об образовании;\n",
        "* текстовый набор с данными об опыте работы;\n",
        "* текстовый набор с данными о желаемой должности.\n",
        "\n",
        "Получается, что наша модель должна иметь 4 входа и один выходной регрессирующий нейрон, который может выдавать любое положительное значение на выходе из сети.\n"
      ],
      "metadata": {
        "id": "N_gMHiLHj104"
      }
    },
    {
      "cell_type": "code",
      "source": [
        "input1 = Input((x_train.shape[1],))\n",
        "input2 = Input((x_train_education.shape[1],))\n",
        "input3 = Input((x_train_works.shape[1],))\n",
        "input4 = Input((x_train_position.shape[1],))\n",
        "\n",
        "# Первый вход для числовых данных\n",
        "x1 = input1\n",
        "x1 = Dense(20, activation=\"relu\")(x1)\n",
        "x1 = Dense(500, activation=\"relu\")(x1)\n",
        "x1 = Dense(200, activation=\"relu\")(x1)\n",
        "\n",
        "\n",
        "# Второй вход для данных об образовании\n",
        "x2 = input2\n",
        "x2 = Dense(20, activation=\"relu\")(x2)\n",
        "x2 = Dense(200, activation=\"relu\")(x2)\n",
        "x2 = Dropout(0.3)(x2)\n",
        "\n",
        "# Третий вход для данных об опыте\n",
        "x3 = input3\n",
        "x3 = Dense(20, activation=\"relu\")(x3)\n",
        "x3 = Dense(200, activation=\"relu\")(x3)\n",
        "x3 = Dropout(0.3)(x3)\n",
        "\n",
        "# Четвертый вход для данных о желаемой должности\n",
        "x4 = input4\n",
        "x4 = Dense(20, activation=\"relu\")(x4)\n",
        "x4 = Dense(200, activation=\"relu\")(x4)\n",
        "x4 = Dropout(0.3)(x4)\n",
        "\n",
        "\n",
        "# Объединение четырех веток\n",
        "x = concatenate([x1, x2, x3, x4])\n",
        "\n",
        "# Промежуточный слой\n",
        "x = Dense(30, activation='relu')(x)\n",
        "x = Dropout(0.5)(x)\n",
        "\n",
        "# Финальный регрессирующий нейрон\n",
        "x = Dense(1, activation='linear')(x)\n",
        "\n",
        "# В Model передаются входы и выход\n",
        "model = Model((input1, input2, input3, input4), x)"
      ],
      "metadata": {
        "id": "xfNi9SSTlVta"
      },
      "execution_count": null,
      "outputs": []
    },
    {
      "cell_type": "markdown",
      "source": [
        "Построим схему нашей модели:"
      ],
      "metadata": {
        "id": "oubVZizqc49k"
      }
    },
    {
      "cell_type": "code",
      "source": [
        "utils.plot_model(model, dpi=96, show_shapes=True, show_layer_activations=True)"
      ],
      "metadata": {
        "colab": {
          "base_uri": "https://localhost:8080/",
          "height": 768
        },
        "id": "A1144jaF7vNM",
        "outputId": "a28d73a6-bc8d-411d-9d46-67a9489dd359"
      },
      "execution_count": null,
      "outputs": [
        {
          "output_type": "execute_result",
          "data": {
            "image/png": "[encoded data removed]",
            "text/plain": [
              "<IPython.core.display.Image object>"
            ]
          },
          "metadata": {},
          "execution_count": 46
        }
      ]
    },
    {
      "cell_type": "markdown",
      "source": [
        "Мы видим, что модель состоит из четырех входов, где слои и гиперпараметры подобраны случайным образом и не оптимизированы, однако, логика в построении архитектуры все же соблюдалась.\n",
        "\n",
        "А именно:\n",
        "* добавленны слои регуляризации `Dropout`, на выходе из веток с текстовыми данными\n",
        "* выходы из каждой ветки перед операцией объединения веток (операция `concatenate` в Keras) имеют одинаковую размерность\n",
        "* выходной слой состоит из одного регрессирующего нейрона с линейной функцией активации, перед которым используется слой регуляризации `Dropout`."
      ],
      "metadata": {
        "id": "UkTxQCPIGYvn"
      }
    },
    {
      "cell_type": "markdown",
      "source": [
        "**Обучим модель**\n",
        "\n",
        "Обратите внимание, что `model.fit()` мы передаем в списке весь наш массив обучающих данных, в том же порядке, что мы определили в моделе `Model((input1, input2, input3, input4), x)`. В качестве функции потерь мы используем среднюю квадратичную ошибку (`mse`). В качестве метрики анализируем cреднюю абсолютную ошибку (`mae`), которая должна снижаться в процессе обучения."
      ],
      "metadata": {
        "id": "SP_7_7PeWBO4"
      }
    },
    {
      "cell_type": "code",
      "source": [
        "model.compile(optimizer=Adam(learning_rate=1e-5), loss='mse', metrics=['mae'])\n",
        "\n",
        "history = model.fit([x_train[:8000], x_train_education[:8000], x_train_works[:8000], x_train_position[:8000]],\n",
        "                           y_train_scaled[:8000],\n",
        "                           batch_size=256,\n",
        "                           epochs=100,\n",
        "                           validation_data=([x_train[8000:], x_train_education[8000:], x_train_works[8000:], x_train_position[8000:]], y_train_scaled[8000:]),\n",
        "                           verbose=1)"
      ],
      "metadata": {
        "colab": {
          "base_uri": "https://localhost:8080/"
        },
        "id": "w_oEW_Yd8djx",
        "outputId": "e8289ca8-5b85-4953-dcf3-613cf2f90fca"
      },
      "execution_count": null,
      "outputs": [
        {
          "output_type": "stream",
          "name": "stdout",
          "text": [
            "Epoch 1/100\n",
            "32/32 [==============================] - 22s 465ms/step - loss: 1.0502 - mae: 0.5187 - val_loss: 0.9820 - val_mae: 0.5228\n",
            "Epoch 2/100\n",
            "32/32 [==============================] - 2s 68ms/step - loss: 1.0419 - mae: 0.5124 - val_loss: 0.9741 - val_mae: 0.5170\n",
            "Epoch 3/100\n",
            "32/32 [==============================] - 2s 68ms/step - loss: 1.0345 - mae: 0.5061 - val_loss: 0.9674 - val_mae: 0.5122\n",
            "Epoch 4/100\n",
            "32/32 [==============================] - 3s 92ms/step - loss: 1.0268 - mae: 0.5022 - val_loss: 0.9613 - val_mae: 0.5082\n",
            "Epoch 5/100\n",
            "32/32 [==============================] - 6s 180ms/step - loss: 1.0231 - mae: 0.4999 - val_loss: 0.9559 - val_mae: 0.5054\n",
            "Epoch 6/100\n",
            "32/32 [==============================] - 2s 68ms/step - loss: 1.0150 - mae: 0.4949 - val_loss: 0.9510 - val_mae: 0.5012\n",
            "Epoch 7/100\n",
            "32/32 [==============================] - 2s 69ms/step - loss: 1.0095 - mae: 0.4904 - val_loss: 0.9460 - val_mae: 0.4975\n",
            "Epoch 8/100\n",
            "32/32 [==============================] - 3s 92ms/step - loss: 1.0057 - mae: 0.4877 - val_loss: 0.9415 - val_mae: 0.4951\n",
            "Epoch 9/100\n",
            "32/32 [==============================] - 3s 85ms/step - loss: 1.0042 - mae: 0.4846 - val_loss: 0.9372 - val_mae: 0.4911\n",
            "Epoch 10/100\n",
            "32/32 [==============================] - 3s 102ms/step - loss: 0.9993 - mae: 0.4814 - val_loss: 0.9330 - val_mae: 0.4880\n",
            "Epoch 11/100\n",
            "32/32 [==============================] - 2s 77ms/step - loss: 0.9944 - mae: 0.4793 - val_loss: 0.9292 - val_mae: 0.4859\n",
            "Epoch 12/100\n",
            "32/32 [==============================] - 3s 81ms/step - loss: 0.9899 - mae: 0.4762 - val_loss: 0.9256 - val_mae: 0.4837\n",
            "Epoch 13/100\n",
            "32/32 [==============================] - 2s 68ms/step - loss: 0.9881 - mae: 0.4743 - val_loss: 0.9224 - val_mae: 0.4807\n",
            "Epoch 14/100\n",
            "32/32 [==============================] - 2s 67ms/step - loss: 0.9853 - mae: 0.4735 - val_loss: 0.9197 - val_mae: 0.4785\n",
            "Epoch 15/100\n",
            "32/32 [==============================] - 3s 92ms/step - loss: 0.9824 - mae: 0.4698 - val_loss: 0.9169 - val_mae: 0.4762\n",
            "Epoch 16/100\n",
            "32/32 [==============================] - 6s 180ms/step - loss: 0.9802 - mae: 0.4685 - val_loss: 0.9146 - val_mae: 0.4752\n",
            "Epoch 17/100\n",
            "32/32 [==============================] - 3s 92ms/step - loss: 0.9758 - mae: 0.4688 - val_loss: 0.9119 - val_mae: 0.4745\n",
            "Epoch 18/100\n",
            "32/32 [==============================] - 3s 92ms/step - loss: 0.9759 - mae: 0.4667 - val_loss: 0.9098 - val_mae: 0.4717\n",
            "Epoch 19/100\n",
            "32/32 [==============================] - 3s 92ms/step - loss: 0.9744 - mae: 0.4650 - val_loss: 0.9076 - val_mae: 0.4711\n",
            "Epoch 20/100\n",
            "32/32 [==============================] - 3s 99ms/step - loss: 0.9722 - mae: 0.4647 - val_loss: 0.9057 - val_mae: 0.4694\n",
            "Epoch 21/100\n",
            "32/32 [==============================] - 3s 98ms/step - loss: 0.9645 - mae: 0.4630 - val_loss: 0.9036 - val_mae: 0.4677\n",
            "Epoch 22/100\n",
            "32/32 [==============================] - 3s 92ms/step - loss: 0.9674 - mae: 0.4628 - val_loss: 0.9018 - val_mae: 0.4665\n",
            "Epoch 23/100\n",
            "32/32 [==============================] - 3s 92ms/step - loss: 0.9636 - mae: 0.4619 - val_loss: 0.8997 - val_mae: 0.4658\n",
            "Epoch 24/100\n",
            "32/32 [==============================] - 2s 67ms/step - loss: 0.9604 - mae: 0.4598 - val_loss: 0.8980 - val_mae: 0.4648\n",
            "Epoch 25/100\n",
            "32/32 [==============================] - 3s 91ms/step - loss: 0.9587 - mae: 0.4592 - val_loss: 0.8963 - val_mae: 0.4633\n",
            "Epoch 26/100\n",
            "32/32 [==============================] - 3s 102ms/step - loss: 0.9560 - mae: 0.4577 - val_loss: 0.8946 - val_mae: 0.4626\n",
            "Epoch 27/100\n",
            "32/32 [==============================] - 3s 97ms/step - loss: 0.9605 - mae: 0.4591 - val_loss: 0.8931 - val_mae: 0.4609\n",
            "Epoch 28/100\n",
            "32/32 [==============================] - 2s 69ms/step - loss: 0.9555 - mae: 0.4590 - val_loss: 0.8916 - val_mae: 0.4600\n",
            "Epoch 29/100\n",
            "32/32 [==============================] - 3s 92ms/step - loss: 0.9543 - mae: 0.4569 - val_loss: 0.8901 - val_mae: 0.4599\n",
            "Epoch 30/100\n",
            "32/32 [==============================] - 2s 67ms/step - loss: 0.9515 - mae: 0.4550 - val_loss: 0.8886 - val_mae: 0.4576\n",
            "Epoch 31/100\n",
            "32/32 [==============================] - 3s 89ms/step - loss: 0.9497 - mae: 0.4549 - val_loss: 0.8871 - val_mae: 0.4567\n",
            "Epoch 32/100\n",
            "32/32 [==============================] - 6s 180ms/step - loss: 0.9463 - mae: 0.4554 - val_loss: 0.8856 - val_mae: 0.4577\n",
            "Epoch 33/100\n",
            "32/32 [==============================] - 2s 66ms/step - loss: 0.9516 - mae: 0.4556 - val_loss: 0.8842 - val_mae: 0.4564\n",
            "Epoch 34/100\n",
            "32/32 [==============================] - 2s 66ms/step - loss: 0.9445 - mae: 0.4526 - val_loss: 0.8830 - val_mae: 0.4548\n",
            "Epoch 35/100\n",
            "32/32 [==============================] - 3s 92ms/step - loss: 0.9430 - mae: 0.4523 - val_loss: 0.8815 - val_mae: 0.4556\n",
            "Epoch 36/100\n",
            "32/32 [==============================] - 3s 92ms/step - loss: 0.9381 - mae: 0.4507 - val_loss: 0.8799 - val_mae: 0.4544\n",
            "Epoch 37/100\n",
            "32/32 [==============================] - 6s 180ms/step - loss: 0.9359 - mae: 0.4491 - val_loss: 0.8786 - val_mae: 0.4534\n",
            "Epoch 38/100\n",
            "32/32 [==============================] - 3s 92ms/step - loss: 0.9365 - mae: 0.4502 - val_loss: 0.8774 - val_mae: 0.4525\n",
            "Epoch 39/100\n",
            "32/32 [==============================] - 2s 67ms/step - loss: 0.9360 - mae: 0.4480 - val_loss: 0.8762 - val_mae: 0.4517\n",
            "Epoch 40/100\n",
            "32/32 [==============================] - 2s 67ms/step - loss: 0.9364 - mae: 0.4484 - val_loss: 0.8750 - val_mae: 0.4513\n",
            "Epoch 41/100\n",
            "32/32 [==============================] - 3s 83ms/step - loss: 0.9316 - mae: 0.4479 - val_loss: 0.8738 - val_mae: 0.4506\n",
            "Epoch 42/100\n",
            "32/32 [==============================] - 6s 179ms/step - loss: 0.9328 - mae: 0.4480 - val_loss: 0.8726 - val_mae: 0.4493\n",
            "Epoch 43/100\n",
            "32/32 [==============================] - 2s 67ms/step - loss: 0.9311 - mae: 0.4441 - val_loss: 0.8714 - val_mae: 0.4481\n",
            "Epoch 44/100\n",
            "32/32 [==============================] - 3s 92ms/step - loss: 0.9260 - mae: 0.4428 - val_loss: 0.8704 - val_mae: 0.4479\n",
            "Epoch 45/100\n",
            "32/32 [==============================] - 2s 68ms/step - loss: 0.9213 - mae: 0.4447 - val_loss: 0.8690 - val_mae: 0.4468\n",
            "Epoch 46/100\n",
            "32/32 [==============================] - 3s 83ms/step - loss: 0.9191 - mae: 0.4434 - val_loss: 0.8676 - val_mae: 0.4471\n",
            "Epoch 47/100\n",
            "32/32 [==============================] - 3s 101ms/step - loss: 0.9199 - mae: 0.4422 - val_loss: 0.8665 - val_mae: 0.4472\n",
            "Epoch 48/100\n",
            "32/32 [==============================] - 3s 88ms/step - loss: 0.9184 - mae: 0.4426 - val_loss: 0.8654 - val_mae: 0.4468\n",
            "Epoch 49/100\n",
            "32/32 [==============================] - 2s 70ms/step - loss: 0.9175 - mae: 0.4426 - val_loss: 0.8643 - val_mae: 0.4466\n",
            "Epoch 50/100\n",
            "32/32 [==============================] - 2s 66ms/step - loss: 0.9168 - mae: 0.4405 - val_loss: 0.8632 - val_mae: 0.4447\n",
            "Epoch 51/100\n",
            "32/32 [==============================] - 3s 92ms/step - loss: 0.9124 - mae: 0.4418 - val_loss: 0.8620 - val_mae: 0.4453\n",
            "Epoch 52/100\n",
            "32/32 [==============================] - 3s 92ms/step - loss: 0.9133 - mae: 0.4399 - val_loss: 0.8610 - val_mae: 0.4440\n",
            "Epoch 53/100\n",
            "32/32 [==============================] - 3s 101ms/step - loss: 0.9101 - mae: 0.4400 - val_loss: 0.8601 - val_mae: 0.4433\n",
            "Epoch 54/100\n",
            "32/32 [==============================] - 2s 73ms/step - loss: 0.9092 - mae: 0.4367 - val_loss: 0.8590 - val_mae: 0.4425\n",
            "Epoch 55/100\n",
            "32/32 [==============================] - 3s 91ms/step - loss: 0.9085 - mae: 0.4347 - val_loss: 0.8579 - val_mae: 0.4408\n",
            "Epoch 56/100\n",
            "32/32 [==============================] - 3s 92ms/step - loss: 0.9126 - mae: 0.4367 - val_loss: 0.8568 - val_mae: 0.4410\n",
            "Epoch 57/100\n",
            "32/32 [==============================] - 2s 69ms/step - loss: 0.9055 - mae: 0.4339 - val_loss: 0.8560 - val_mae: 0.4393\n",
            "Epoch 58/100\n",
            "32/32 [==============================] - 3s 92ms/step - loss: 0.9071 - mae: 0.4351 - val_loss: 0.8550 - val_mae: 0.4390\n",
            "Epoch 59/100\n",
            "32/32 [==============================] - 6s 181ms/step - loss: 0.9004 - mae: 0.4330 - val_loss: 0.8538 - val_mae: 0.4392\n",
            "Epoch 60/100\n",
            "32/32 [==============================] - 2s 67ms/step - loss: 0.9017 - mae: 0.4349 - val_loss: 0.8531 - val_mae: 0.4397\n",
            "Epoch 61/100\n",
            "32/32 [==============================] - 2s 67ms/step - loss: 0.9029 - mae: 0.4324 - val_loss: 0.8519 - val_mae: 0.4378\n",
            "Epoch 62/100\n",
            "32/32 [==============================] - 2s 67ms/step - loss: 0.8954 - mae: 0.4291 - val_loss: 0.8507 - val_mae: 0.4365\n",
            "Epoch 63/100\n",
            "32/32 [==============================] - 2s 77ms/step - loss: 0.8991 - mae: 0.4306 - val_loss: 0.8494 - val_mae: 0.4368\n",
            "Epoch 64/100\n",
            "32/32 [==============================] - 3s 100ms/step - loss: 0.8934 - mae: 0.4305 - val_loss: 0.8485 - val_mae: 0.4371\n",
            "Epoch 65/100\n",
            "32/32 [==============================] - 3s 83ms/step - loss: 0.8887 - mae: 0.4290 - val_loss: 0.8474 - val_mae: 0.4360\n",
            "Epoch 66/100\n",
            "32/32 [==============================] - 2s 66ms/step - loss: 0.8919 - mae: 0.4284 - val_loss: 0.8465 - val_mae: 0.4358\n",
            "Epoch 67/100\n",
            "32/32 [==============================] - 3s 92ms/step - loss: 0.8828 - mae: 0.4281 - val_loss: 0.8456 - val_mae: 0.4353\n",
            "Epoch 68/100\n",
            "32/32 [==============================] - 2s 67ms/step - loss: 0.8884 - mae: 0.4284 - val_loss: 0.8446 - val_mae: 0.4335\n",
            "Epoch 69/100\n",
            "32/32 [==============================] - 2s 73ms/step - loss: 0.8884 - mae: 0.4255 - val_loss: 0.8435 - val_mae: 0.4331\n",
            "Epoch 70/100\n",
            "32/32 [==============================] - 6s 179ms/step - loss: 0.8849 - mae: 0.4259 - val_loss: 0.8425 - val_mae: 0.4329\n",
            "Epoch 71/100\n",
            "32/32 [==============================] - 3s 92ms/step - loss: 0.8743 - mae: 0.4205 - val_loss: 0.8413 - val_mae: 0.4321\n",
            "Epoch 72/100\n",
            "32/32 [==============================] - 3s 91ms/step - loss: 0.8849 - mae: 0.4229 - val_loss: 0.8402 - val_mae: 0.4319\n",
            "Epoch 73/100\n",
            "32/32 [==============================] - 2s 67ms/step - loss: 0.8790 - mae: 0.4219 - val_loss: 0.8393 - val_mae: 0.4293\n",
            "Epoch 74/100\n",
            "32/32 [==============================] - 3s 92ms/step - loss: 0.8760 - mae: 0.4207 - val_loss: 0.8381 - val_mae: 0.4297\n",
            "Epoch 75/100\n",
            "32/32 [==============================] - 6s 180ms/step - loss: 0.8733 - mae: 0.4190 - val_loss: 0.8370 - val_mae: 0.4286\n",
            "Epoch 76/100\n",
            "32/32 [==============================] - 2s 68ms/step - loss: 0.8630 - mae: 0.4162 - val_loss: 0.8360 - val_mae: 0.4284\n",
            "Epoch 77/100\n",
            "32/32 [==============================] - 2s 66ms/step - loss: 0.8712 - mae: 0.4186 - val_loss: 0.8348 - val_mae: 0.4280\n",
            "Epoch 78/100\n",
            "32/32 [==============================] - 2s 68ms/step - loss: 0.8669 - mae: 0.4172 - val_loss: 0.8339 - val_mae: 0.4280\n",
            "Epoch 79/100\n",
            "32/32 [==============================] - 2s 76ms/step - loss: 0.8644 - mae: 0.4165 - val_loss: 0.8329 - val_mae: 0.4278\n",
            "Epoch 80/100\n",
            "32/32 [==============================] - 3s 96ms/step - loss: 0.8671 - mae: 0.4176 - val_loss: 0.8319 - val_mae: 0.4272\n",
            "Epoch 81/100\n",
            "32/32 [==============================] - 3s 90ms/step - loss: 0.8607 - mae: 0.4130 - val_loss: 0.8311 - val_mae: 0.4266\n",
            "Epoch 82/100\n",
            "32/32 [==============================] - 2s 67ms/step - loss: 0.8627 - mae: 0.4106 - val_loss: 0.8302 - val_mae: 0.4264\n",
            "Epoch 83/100\n",
            "32/32 [==============================] - 3s 91ms/step - loss: 0.8512 - mae: 0.4123 - val_loss: 0.8292 - val_mae: 0.4256\n",
            "Epoch 84/100\n",
            "32/32 [==============================] - 2s 68ms/step - loss: 0.8488 - mae: 0.4101 - val_loss: 0.8281 - val_mae: 0.4250\n",
            "Epoch 85/100\n",
            "32/32 [==============================] - 3s 92ms/step - loss: 0.8606 - mae: 0.4137 - val_loss: 0.8272 - val_mae: 0.4250\n",
            "Epoch 86/100\n",
            "32/32 [==============================] - 6s 179ms/step - loss: 0.8556 - mae: 0.4114 - val_loss: 0.8264 - val_mae: 0.4227\n",
            "Epoch 87/100\n",
            "32/32 [==============================] - 2s 66ms/step - loss: 0.8574 - mae: 0.4104 - val_loss: 0.8256 - val_mae: 0.4220\n",
            "Epoch 88/100\n",
            "32/32 [==============================] - 3s 92ms/step - loss: 0.8494 - mae: 0.4080 - val_loss: 0.8246 - val_mae: 0.4230\n",
            "Epoch 89/100\n",
            "32/32 [==============================] - 2s 67ms/step - loss: 0.8492 - mae: 0.4081 - val_loss: 0.8237 - val_mae: 0.4220\n",
            "Epoch 90/100\n",
            "32/32 [==============================] - 2s 75ms/step - loss: 0.8494 - mae: 0.4071 - val_loss: 0.8230 - val_mae: 0.4217\n",
            "Epoch 91/100\n",
            "32/32 [==============================] - 3s 99ms/step - loss: 0.8439 - mae: 0.4064 - val_loss: 0.8219 - val_mae: 0.4219\n",
            "Epoch 92/100\n",
            "32/32 [==============================] - 3s 97ms/step - loss: 0.8494 - mae: 0.4058 - val_loss: 0.8212 - val_mae: 0.4206\n",
            "Epoch 93/100\n",
            "32/32 [==============================] - 2s 66ms/step - loss: 0.8357 - mae: 0.4049 - val_loss: 0.8208 - val_mae: 0.4226\n",
            "Epoch 94/100\n",
            "32/32 [==============================] - 2s 68ms/step - loss: 0.8385 - mae: 0.4030 - val_loss: 0.8198 - val_mae: 0.4204\n",
            "Epoch 95/100\n",
            "32/32 [==============================] - 3s 92ms/step - loss: 0.8384 - mae: 0.4028 - val_loss: 0.8190 - val_mae: 0.4196\n",
            "Epoch 96/100\n",
            "32/32 [==============================] - 4s 119ms/step - loss: 0.8378 - mae: 0.4009 - val_loss: 0.8183 - val_mae: 0.4192\n",
            "Epoch 97/100\n",
            "32/32 [==============================] - 4s 141ms/step - loss: 0.8394 - mae: 0.3998 - val_loss: 0.8178 - val_mae: 0.4176\n",
            "Epoch 98/100\n",
            "32/32 [==============================] - 3s 96ms/step - loss: 0.8330 - mae: 0.4018 - val_loss: 0.8169 - val_mae: 0.4188\n",
            "Epoch 99/100\n",
            "32/32 [==============================] - 6s 182ms/step - loss: 0.8295 - mae: 0.4009 - val_loss: 0.8163 - val_mae: 0.4186\n",
            "Epoch 100/100\n",
            "32/32 [==============================] - 2s 78ms/step - loss: 0.8279 - mae: 0.4008 - val_loss: 0.8156 - val_mae: 0.4191\n"
          ]
        }
      ]
    },
    {
      "cell_type": "markdown",
      "source": [
        "**Визуализируем процесс обучения**"
      ],
      "metadata": {
        "id": "dQxM46PD0Qbm"
      }
    },
    {
      "cell_type": "markdown",
      "source": [
        "Средняя абсолютная ошибка показывает нам на сколько в абсолютных величинах ошибается наша модель. Если бы мы не нормализовали данные, то каждая точка на графике соответствовала бы среднему отклонению в тысячах рублей предсказанного значения от реального."
      ],
      "metadata": {
        "id": "Gom2iZS81gX0"
      }
    },
    {
      "cell_type": "code",
      "source": [
        "plt.plot(history.history['mae'], label='Средняя абсолютная ошибка на обучающем наборе')\n",
        "plt.plot(history.history['val_mae'], label='Средняя абсолютная ошибка на проверочном наборе')\n",
        "plt.xlabel('Эпоха обучения')\n",
        "plt.ylabel('Средняя абсолютная ошибка')\n",
        "plt.legend()\n",
        "plt.show()"
      ],
      "metadata": {
        "colab": {
          "base_uri": "https://localhost:8080/",
          "height": 449
        },
        "id": "dBtC94118xw_",
        "outputId": "1aef8168-fc6c-4566-c050-c1bbb69342c7"
      },
      "execution_count": null,
      "outputs": [
        {
          "output_type": "display_data",
          "data": {
            "text/plain": [
              "<Figure size 640x480 with 1 Axes>"
            ],
            "image/png": "[encoded data removed]"
          },
          "metadata": {}
        }
      ]
    },
    {
      "cell_type": "markdown",
      "source": [
        "По графику обучения, мы видим, что ошибка продолжает снижаться, переобучения не наблюдается, можно и дальше продолжать обучение."
      ],
      "metadata": {
        "id": "V-gFxz4FfJ52"
      }
    },
    {
      "cell_type": "markdown",
      "source": [
        "Выведем 100 точек из проверочной выборки и отобразим их на диагональной линии ожидаемых значений. Также выведем среднюю абсолютную ошибку."
      ],
      "metadata": {
        "id": "zGkwMDtub8Rj"
      }
    },
    {
      "cell_type": "code",
      "source": [
        "\n",
        "pred = model.predict([x_train[8000:8100], x_train_education[8000:8100], x_train_works[8000:8100], x_train_position[8000:8100]])\n",
        "\n",
        "pred = y_scaler.inverse_transform(pred)    # Обратная нормированию процедура\n",
        "\n",
        "print('Средняя абсолютная ошибка:', mean_absolute_error(pred, y_train[8000:8100]), '\\n') # расчет средней абсолютной ошибки\n",
        "\n",
        "for i in range(10):\n",
        "    print('Реальное значение: {:6.2f}  Предсказанное значение: {:6.2f}  Разница: {:6.2f}'.format(y_train[8000:8100][i, 0],\n",
        "                                                                                                pred[i, 0],\n",
        "                                                                                                abs(y_train[8000:8100][i, 0] - pred[i, 0])))\n",
        "fig, ax = plt.subplots(figsize=(6, 6))\n",
        "ax.scatter(y_train[8000:8100], pred)          # Отрисовка точечного графика\n",
        "ax.set_xlim(0, 100)                           # Ограничение оси по x\n",
        "ax.set_ylim(0, 100)                           # Ограничение оси по x\n",
        "ax.plot(plt.xlim(), plt.ylim(), 'r')          # Отрисовка диагональной линии\n",
        "plt.xlabel('Правильные значения')\n",
        "plt.ylabel('Предсказания')\n",
        "plt.grid()\n",
        "plt.show()"
      ],
      "metadata": {
        "colab": {
          "base_uri": "https://localhost:8080/",
          "height": 773
        },
        "id": "DOiNFCS6_MlS",
        "outputId": "3cc00afd-3fc9-4d5e-957f-32ebdadd8fca"
      },
      "execution_count": null,
      "outputs": [
        {
          "output_type": "stream",
          "name": "stdout",
          "text": [
            "4/4 [==============================] - 0s 12ms/step\n",
            "Средняя абсолютная ошибка: 10.798620958099363 \n",
            "\n",
            "Реальное значение:  20.00  Предсказанное значение:  28.80  Разница:   8.80\n",
            "Реальное значение:  20.00  Предсказанное значение:  28.60  Разница:   8.60\n",
            "Реальное значение:  40.00  Предсказанное значение:  35.10  Разница:   4.90\n",
            "Реальное значение:   6.00  Предсказанное значение:  16.09  Разница:  10.09\n",
            "Реальное значение:  15.28  Предсказанное значение:  24.92  Разница:   9.65\n",
            "Реальное значение: 150.00  Предсказанное значение:  54.19  Разница:  95.81\n",
            "Реальное значение:  25.00  Предсказанное значение:  27.50  Разница:   2.50\n",
            "Реальное значение:  80.00  Предсказанное значение:  41.11  Разница:  38.89\n",
            "Реальное значение:  30.00  Предсказанное значение:  34.62  Разница:   4.62\n",
            "Реальное значение:  30.00  Предсказанное значение:  25.76  Разница:   4.24\n"
          ]
        },
        {
          "output_type": "display_data",
          "data": {
            "text/plain": [
              "<Figure size 600x600 with 1 Axes>"
            ],
            "image/png": "[encoded data removed]"
          },
          "metadata": {}
        }
      ]
    },
    {
      "cell_type": "markdown",
      "source": [
        "Значение средней абсолютной ошибки в 10.7, говорит о том, что наша модель в среднем ошибается на 10700 рублей при предсказании ожидаемой зарплаты от указанной в резюме."
      ],
      "metadata": {
        "id": "bF-Ub-0Zc49k"
      }
    },
    {
      "cell_type": "code",
      "source": [
        "# Освобождение памяти от промежуточных данных\n",
        "del history, model, pred"
      ],
      "metadata": {
        "id": "G5UJ5EqspFGH"
      },
      "execution_count": null,
      "outputs": []
    },
    {
      "cell_type": "markdown",
      "source": [
        "## Упрощенная модель"
      ],
      "metadata": {
        "id": "9Yk8eAhd6h7m"
      }
    },
    {
      "cell_type": "markdown",
      "source": [
        "Рассмотрим еще одну упрощенную модель. Для упрощения модели сделаем следующее допущение: вся информация об опыте работы соискателя содержится в его общем опыте работы `experience` и должности, на которую претендует соискатель. Т.е., выставляя свое резюме, соискатель будет ориентироваться на цену по рынку, а не на свои прежние места работы и знания. Надо понимать, что резюме - это всего лишь пожелания соискателя, а не его реальная зарплата!\n",
        "\n",
        "При таком допущении нам достаточно использовать 2 ветки НС вместо 4-х. Первая ветка - это все наши числовые данные, а вторая ветка - текстовое значение должности."
      ],
      "metadata": {
        "id": "rE0JEsDG60Rm"
      }
    },
    {
      "cell_type": "markdown",
      "source": [
        "**Архитектура упрощенной модели**"
      ],
      "metadata": {
        "id": "ztSnaX6y9JqK"
      }
    },
    {
      "cell_type": "code",
      "source": [
        "input1 = Input((x_train.shape[1],))\n",
        "input2 = Input((x_train_position.shape[1],))\n",
        "\n",
        "# Первый вход для числовых данных\n",
        "x1 = input1\n",
        "x1 = Dense(20, activation=\"relu\")(x1)\n",
        "x1 = Dense(500, activation=\"relu\")(x1)\n",
        "x1 = Dense(200, activation=\"relu\")(x1)\n",
        "\n",
        "# Второй вход для данных о желаемой должности\n",
        "x2 = input2\n",
        "x2 = Dense(20, activation=\"relu\")(x2)\n",
        "x2 = Dense(200, activation=\"relu\")(x2)\n",
        "x2 = Dropout(0.3)(x2)\n",
        "\n",
        "\n",
        "# Объединение четырех веток\n",
        "x = concatenate([x1, x2])\n",
        "\n",
        "# Промежуточный слой\n",
        "x = Dense(30, activation='relu')(x)\n",
        "x = Dropout(0.5)(x)\n",
        "\n",
        "# Финальный регрессирующий нейрон\n",
        "x = Dense(1, activation='linear')(x)\n",
        "\n",
        "# В Model передаются входы и выход\n",
        "model = Model((input1, input2), x)"
      ],
      "metadata": {
        "id": "8mwjmizzVwh-"
      },
      "execution_count": null,
      "outputs": []
    },
    {
      "cell_type": "code",
      "source": [
        "utils.plot_model(model, dpi=96, show_shapes=True, show_layer_activations=True)"
      ],
      "metadata": {
        "colab": {
          "base_uri": "https://localhost:8080/",
          "height": 865
        },
        "id": "gy21mqs1WfyB",
        "outputId": "8e4b5d9d-b0da-42b9-b79e-173b1eb8c2c6"
      },
      "execution_count": null,
      "outputs": [
        {
          "output_type": "execute_result",
          "data": {
            "image/png": "[encoded data removed]",
            "text/plain": [
              "<IPython.core.display.Image object>"
            ]
          },
          "metadata": {},
          "execution_count": 52
        }
      ]
    },
    {
      "cell_type": "markdown",
      "source": [
        "**Обучим модель**"
      ],
      "metadata": {
        "id": "XnkVrKAh9Q3E"
      }
    },
    {
      "cell_type": "code",
      "source": [
        "model.compile(optimizer=Adam(learning_rate=1e-5), loss='mse', metrics=['mae'])\n",
        "\n",
        "history = model.fit([x_train[:8000], x_train_position[:8000]],\n",
        "                           y_train_scaled[:8000],\n",
        "                           batch_size=256,\n",
        "                           epochs=100,\n",
        "                           validation_data=([x_train[8000:], x_train_position[8000:]], y_train_scaled[8000:]),\n",
        "                           verbose=1)"
      ],
      "metadata": {
        "colab": {
          "base_uri": "https://localhost:8080/"
        },
        "id": "UEcg-N0qWkhM",
        "outputId": "cc6cc35a-5d96-4817-c77e-ec8b19549aab"
      },
      "execution_count": null,
      "outputs": [
        {
          "output_type": "stream",
          "name": "stdout",
          "text": [
            "Epoch 1/100\n",
            "32/32 [==============================] - 8s 203ms/step - loss: 1.0531 - mae: 0.5202 - val_loss: 0.9890 - val_mae: 0.5249\n",
            "Epoch 2/100\n",
            "32/32 [==============================] - 2s 50ms/step - loss: 1.0523 - mae: 0.5159 - val_loss: 0.9841 - val_mae: 0.5204\n",
            "Epoch 3/100\n",
            "32/32 [==============================] - 3s 90ms/step - loss: 1.0431 - mae: 0.5116 - val_loss: 0.9799 - val_mae: 0.5171\n",
            "Epoch 4/100\n",
            "32/32 [==============================] - 2s 59ms/step - loss: 1.0413 - mae: 0.5089 - val_loss: 0.9762 - val_mae: 0.5149\n",
            "Epoch 5/100\n",
            "32/32 [==============================] - 1s 44ms/step - loss: 1.0386 - mae: 0.5079 - val_loss: 0.9727 - val_mae: 0.5125\n",
            "Epoch 6/100\n",
            "32/32 [==============================] - 1s 39ms/step - loss: 1.0322 - mae: 0.5026 - val_loss: 0.9691 - val_mae: 0.5098\n",
            "Epoch 7/100\n",
            "32/32 [==============================] - 1s 38ms/step - loss: 1.0295 - mae: 0.5021 - val_loss: 0.9659 - val_mae: 0.5077\n",
            "Epoch 8/100\n",
            "32/32 [==============================] - 1s 46ms/step - loss: 1.0273 - mae: 0.4988 - val_loss: 0.9627 - val_mae: 0.5047\n",
            "Epoch 9/100\n",
            "32/32 [==============================] - 1s 47ms/step - loss: 1.0230 - mae: 0.4973 - val_loss: 0.9595 - val_mae: 0.5034\n",
            "Epoch 10/100\n",
            "32/32 [==============================] - 1s 47ms/step - loss: 1.0188 - mae: 0.4943 - val_loss: 0.9565 - val_mae: 0.5011\n",
            "Epoch 11/100\n",
            "32/32 [==============================] - 1s 38ms/step - loss: 1.0178 - mae: 0.4914 - val_loss: 0.9536 - val_mae: 0.4983\n",
            "Epoch 12/100\n",
            "32/32 [==============================] - 1s 36ms/step - loss: 1.0155 - mae: 0.4906 - val_loss: 0.9505 - val_mae: 0.4979\n",
            "Epoch 13/100\n",
            "32/32 [==============================] - 2s 53ms/step - loss: 1.0130 - mae: 0.4904 - val_loss: 0.9480 - val_mae: 0.4963\n",
            "Epoch 14/100\n",
            "32/32 [==============================] - 2s 56ms/step - loss: 1.0093 - mae: 0.4906 - val_loss: 0.9452 - val_mae: 0.4957\n",
            "Epoch 15/100\n",
            "32/32 [==============================] - 3s 91ms/step - loss: 1.0079 - mae: 0.4876 - val_loss: 0.9426 - val_mae: 0.4932\n",
            "Epoch 16/100\n",
            "32/32 [==============================] - 1s 47ms/step - loss: 1.0028 - mae: 0.4838 - val_loss: 0.9400 - val_mae: 0.4912\n",
            "Epoch 17/100\n",
            "32/32 [==============================] - 1s 47ms/step - loss: 1.0009 - mae: 0.4826 - val_loss: 0.9377 - val_mae: 0.4891\n",
            "Epoch 18/100\n",
            "32/32 [==============================] - 1s 47ms/step - loss: 1.0009 - mae: 0.4832 - val_loss: 0.9352 - val_mae: 0.4868\n",
            "Epoch 19/100\n",
            "32/32 [==============================] - 1s 47ms/step - loss: 0.9949 - mae: 0.4774 - val_loss: 0.9327 - val_mae: 0.4842\n",
            "Epoch 20/100\n",
            "32/32 [==============================] - 1s 47ms/step - loss: 0.9978 - mae: 0.4801 - val_loss: 0.9301 - val_mae: 0.4830\n",
            "Epoch 21/100\n",
            "32/32 [==============================] - 1s 39ms/step - loss: 0.9989 - mae: 0.4760 - val_loss: 0.9282 - val_mae: 0.4785\n",
            "Epoch 22/100\n",
            "32/32 [==============================] - 1s 47ms/step - loss: 0.9897 - mae: 0.4741 - val_loss: 0.9257 - val_mae: 0.4783\n",
            "Epoch 23/100\n",
            "32/32 [==============================] - 2s 53ms/step - loss: 0.9891 - mae: 0.4753 - val_loss: 0.9236 - val_mae: 0.4776\n",
            "Epoch 24/100\n",
            "32/32 [==============================] - 2s 58ms/step - loss: 0.9857 - mae: 0.4718 - val_loss: 0.9216 - val_mae: 0.4767\n",
            "Epoch 25/100\n",
            "32/32 [==============================] - 1s 42ms/step - loss: 0.9876 - mae: 0.4727 - val_loss: 0.9200 - val_mae: 0.4751\n",
            "Epoch 26/100\n",
            "32/32 [==============================] - 1s 47ms/step - loss: 0.9870 - mae: 0.4723 - val_loss: 0.9186 - val_mae: 0.4755\n",
            "Epoch 27/100\n",
            "32/32 [==============================] - 1s 47ms/step - loss: 0.9840 - mae: 0.4710 - val_loss: 0.9173 - val_mae: 0.4725\n",
            "Epoch 28/100\n",
            "32/32 [==============================] - 1s 47ms/step - loss: 0.9800 - mae: 0.4678 - val_loss: 0.9158 - val_mae: 0.4713\n",
            "Epoch 29/100\n",
            "32/32 [==============================] - 1s 37ms/step - loss: 0.9850 - mae: 0.4700 - val_loss: 0.9145 - val_mae: 0.4724\n",
            "Epoch 30/100\n",
            "32/32 [==============================] - 1s 37ms/step - loss: 0.9812 - mae: 0.4691 - val_loss: 0.9132 - val_mae: 0.4712\n",
            "Epoch 31/100\n",
            "32/32 [==============================] - 1s 47ms/step - loss: 0.9806 - mae: 0.4688 - val_loss: 0.9122 - val_mae: 0.4697\n",
            "Epoch 32/100\n",
            "32/32 [==============================] - 1s 47ms/step - loss: 0.9745 - mae: 0.4678 - val_loss: 0.9109 - val_mae: 0.4705\n",
            "Epoch 33/100\n",
            "32/32 [==============================] - 3s 91ms/step - loss: 0.9757 - mae: 0.4682 - val_loss: 0.9099 - val_mae: 0.4714\n",
            "Epoch 34/100\n",
            "32/32 [==============================] - 3s 93ms/step - loss: 0.9756 - mae: 0.4657 - val_loss: 0.9086 - val_mae: 0.4690\n",
            "Epoch 35/100\n",
            "32/32 [==============================] - 1s 47ms/step - loss: 0.9733 - mae: 0.4676 - val_loss: 0.9076 - val_mae: 0.4686\n",
            "Epoch 36/100\n",
            "32/32 [==============================] - 1s 38ms/step - loss: 0.9689 - mae: 0.4638 - val_loss: 0.9065 - val_mae: 0.4674\n",
            "Epoch 37/100\n",
            "32/32 [==============================] - 1s 47ms/step - loss: 0.9738 - mae: 0.4650 - val_loss: 0.9055 - val_mae: 0.4657\n",
            "Epoch 38/100\n",
            "32/32 [==============================] - 1s 37ms/step - loss: 0.9696 - mae: 0.4648 - val_loss: 0.9045 - val_mae: 0.4668\n",
            "Epoch 39/100\n",
            "32/32 [==============================] - 1s 37ms/step - loss: 0.9684 - mae: 0.4658 - val_loss: 0.9034 - val_mae: 0.4657\n",
            "Epoch 40/100\n",
            "32/32 [==============================] - 1s 37ms/step - loss: 0.9690 - mae: 0.4629 - val_loss: 0.9024 - val_mae: 0.4643\n",
            "Epoch 41/100\n",
            "32/32 [==============================] - 1s 48ms/step - loss: 0.9668 - mae: 0.4635 - val_loss: 0.9016 - val_mae: 0.4645\n",
            "Epoch 42/100\n",
            "32/32 [==============================] - 2s 53ms/step - loss: 0.9624 - mae: 0.4626 - val_loss: 0.9005 - val_mae: 0.4639\n",
            "Epoch 43/100\n",
            "32/32 [==============================] - 2s 59ms/step - loss: 0.9662 - mae: 0.4600 - val_loss: 0.8996 - val_mae: 0.4625\n",
            "Epoch 44/100\n",
            "32/32 [==============================] - 2s 50ms/step - loss: 0.9633 - mae: 0.4617 - val_loss: 0.8987 - val_mae: 0.4617\n",
            "Epoch 45/100\n",
            "32/32 [==============================] - 1s 36ms/step - loss: 0.9679 - mae: 0.4620 - val_loss: 0.8980 - val_mae: 0.4618\n",
            "Epoch 46/100\n",
            "32/32 [==============================] - 1s 46ms/step - loss: 0.9626 - mae: 0.4602 - val_loss: 0.8971 - val_mae: 0.4607\n",
            "Epoch 47/100\n",
            "32/32 [==============================] - 1s 47ms/step - loss: 0.9618 - mae: 0.4591 - val_loss: 0.8960 - val_mae: 0.4605\n",
            "Epoch 48/100\n",
            "32/32 [==============================] - 1s 37ms/step - loss: 0.9585 - mae: 0.4593 - val_loss: 0.8950 - val_mae: 0.4596\n",
            "Epoch 49/100\n",
            "32/32 [==============================] - 1s 37ms/step - loss: 0.9613 - mae: 0.4589 - val_loss: 0.8943 - val_mae: 0.4601\n",
            "Epoch 50/100\n",
            "32/32 [==============================] - 1s 37ms/step - loss: 0.9557 - mae: 0.4600 - val_loss: 0.8936 - val_mae: 0.4619\n",
            "Epoch 51/100\n",
            "32/32 [==============================] - 1s 47ms/step - loss: 0.9629 - mae: 0.4632 - val_loss: 0.8927 - val_mae: 0.4590\n",
            "Epoch 52/100\n",
            "32/32 [==============================] - 3s 88ms/step - loss: 0.9600 - mae: 0.4557 - val_loss: 0.8919 - val_mae: 0.4578\n",
            "Epoch 53/100\n",
            "32/32 [==============================] - 2s 58ms/step - loss: 0.9509 - mae: 0.4564 - val_loss: 0.8910 - val_mae: 0.4581\n",
            "Epoch 54/100\n",
            "32/32 [==============================] - 1s 41ms/step - loss: 0.9584 - mae: 0.4572 - val_loss: 0.8902 - val_mae: 0.4590\n",
            "Epoch 55/100\n",
            "32/32 [==============================] - 1s 37ms/step - loss: 0.9529 - mae: 0.4567 - val_loss: 0.8892 - val_mae: 0.4581\n",
            "Epoch 56/100\n",
            "32/32 [==============================] - 1s 47ms/step - loss: 0.9523 - mae: 0.4548 - val_loss: 0.8884 - val_mae: 0.4555\n",
            "Epoch 57/100\n",
            "32/32 [==============================] - 1s 47ms/step - loss: 0.9550 - mae: 0.4532 - val_loss: 0.8877 - val_mae: 0.4548\n",
            "Epoch 58/100\n",
            "32/32 [==============================] - 1s 47ms/step - loss: 0.9558 - mae: 0.4562 - val_loss: 0.8870 - val_mae: 0.4557\n",
            "Epoch 59/100\n",
            "32/32 [==============================] - 1s 47ms/step - loss: 0.9509 - mae: 0.4542 - val_loss: 0.8862 - val_mae: 0.4541\n",
            "Epoch 60/100\n",
            "32/32 [==============================] - 1s 47ms/step - loss: 0.9513 - mae: 0.4550 - val_loss: 0.8853 - val_mae: 0.4549\n",
            "Epoch 61/100\n",
            "32/32 [==============================] - 3s 88ms/step - loss: 0.9552 - mae: 0.4551 - val_loss: 0.8847 - val_mae: 0.4534\n",
            "Epoch 62/100\n",
            "32/32 [==============================] - 2s 58ms/step - loss: 0.9478 - mae: 0.4513 - val_loss: 0.8837 - val_mae: 0.4527\n",
            "Epoch 63/100\n",
            "32/32 [==============================] - 1s 43ms/step - loss: 0.9497 - mae: 0.4545 - val_loss: 0.8827 - val_mae: 0.4534\n",
            "Epoch 64/100\n",
            "32/32 [==============================] - 1s 47ms/step - loss: 0.9467 - mae: 0.4509 - val_loss: 0.8820 - val_mae: 0.4503\n",
            "Epoch 65/100\n",
            "32/32 [==============================] - 1s 47ms/step - loss: 0.9456 - mae: 0.4498 - val_loss: 0.8811 - val_mae: 0.4519\n",
            "Epoch 66/100\n",
            "32/32 [==============================] - 1s 47ms/step - loss: 0.9460 - mae: 0.4501 - val_loss: 0.8800 - val_mae: 0.4514\n",
            "Epoch 67/100\n",
            "32/32 [==============================] - 1s 48ms/step - loss: 0.9466 - mae: 0.4498 - val_loss: 0.8793 - val_mae: 0.4498\n",
            "Epoch 68/100\n",
            "32/32 [==============================] - 1s 36ms/step - loss: 0.9431 - mae: 0.4471 - val_loss: 0.8785 - val_mae: 0.4486\n",
            "Epoch 69/100\n",
            "32/32 [==============================] - 1s 37ms/step - loss: 0.9416 - mae: 0.4485 - val_loss: 0.8777 - val_mae: 0.4496\n",
            "Epoch 70/100\n",
            "32/32 [==============================] - 1s 37ms/step - loss: 0.9397 - mae: 0.4483 - val_loss: 0.8768 - val_mae: 0.4488\n",
            "Epoch 71/100\n",
            "32/32 [==============================] - 3s 90ms/step - loss: 0.9413 - mae: 0.4502 - val_loss: 0.8758 - val_mae: 0.4487\n",
            "Epoch 72/100\n",
            "32/32 [==============================] - 3s 92ms/step - loss: 0.9455 - mae: 0.4488 - val_loss: 0.8750 - val_mae: 0.4475\n",
            "Epoch 73/100\n",
            "32/32 [==============================] - 1s 47ms/step - loss: 0.9396 - mae: 0.4487 - val_loss: 0.8743 - val_mae: 0.4470\n",
            "Epoch 74/100\n",
            "32/32 [==============================] - 1s 47ms/step - loss: 0.9341 - mae: 0.4454 - val_loss: 0.8734 - val_mae: 0.4471\n",
            "Epoch 75/100\n",
            "32/32 [==============================] - 1s 37ms/step - loss: 0.9350 - mae: 0.4461 - val_loss: 0.8724 - val_mae: 0.4480\n",
            "Epoch 76/100\n",
            "32/32 [==============================] - 1s 36ms/step - loss: 0.9305 - mae: 0.4450 - val_loss: 0.8714 - val_mae: 0.4460\n",
            "Epoch 77/100\n",
            "32/32 [==============================] - 1s 36ms/step - loss: 0.9324 - mae: 0.4457 - val_loss: 0.8705 - val_mae: 0.4441\n",
            "Epoch 78/100\n",
            "32/32 [==============================] - 1s 47ms/step - loss: 0.9342 - mae: 0.4449 - val_loss: 0.8695 - val_mae: 0.4454\n",
            "Epoch 79/100\n",
            "32/32 [==============================] - 1s 38ms/step - loss: 0.9280 - mae: 0.4448 - val_loss: 0.8685 - val_mae: 0.4448\n",
            "Epoch 80/100\n",
            "32/32 [==============================] - 2s 52ms/step - loss: 0.9311 - mae: 0.4432 - val_loss: 0.8678 - val_mae: 0.4442\n",
            "Epoch 81/100\n",
            "32/32 [==============================] - 3s 92ms/step - loss: 0.9246 - mae: 0.4429 - val_loss: 0.8668 - val_mae: 0.4431\n",
            "Epoch 82/100\n",
            "32/32 [==============================] - 2s 49ms/step - loss: 0.9299 - mae: 0.4407 - val_loss: 0.8659 - val_mae: 0.4421\n",
            "Epoch 83/100\n",
            "32/32 [==============================] - 1s 37ms/step - loss: 0.9290 - mae: 0.4399 - val_loss: 0.8651 - val_mae: 0.4410\n",
            "Epoch 84/100\n",
            "32/32 [==============================] - 1s 36ms/step - loss: 0.9253 - mae: 0.4409 - val_loss: 0.8640 - val_mae: 0.4407\n",
            "Epoch 85/100\n",
            "32/32 [==============================] - 1s 40ms/step - loss: 0.9295 - mae: 0.4381 - val_loss: 0.8633 - val_mae: 0.4398\n",
            "Epoch 86/100\n",
            "32/32 [==============================] - 1s 37ms/step - loss: 0.9249 - mae: 0.4396 - val_loss: 0.8625 - val_mae: 0.4397\n",
            "Epoch 87/100\n",
            "32/32 [==============================] - 1s 37ms/step - loss: 0.9227 - mae: 0.4395 - val_loss: 0.8615 - val_mae: 0.4406\n",
            "Epoch 88/100\n",
            "32/32 [==============================] - 1s 47ms/step - loss: 0.9174 - mae: 0.4386 - val_loss: 0.8604 - val_mae: 0.4380\n",
            "Epoch 89/100\n",
            "32/32 [==============================] - 1s 37ms/step - loss: 0.9189 - mae: 0.4367 - val_loss: 0.8595 - val_mae: 0.4380\n",
            "Epoch 90/100\n",
            "32/32 [==============================] - 3s 90ms/step - loss: 0.9211 - mae: 0.4372 - val_loss: 0.8585 - val_mae: 0.4373\n",
            "Epoch 91/100\n",
            "32/32 [==============================] - 3s 92ms/step - loss: 0.9187 - mae: 0.4380 - val_loss: 0.8575 - val_mae: 0.4375\n",
            "Epoch 92/100\n",
            "32/32 [==============================] - 1s 47ms/step - loss: 0.9173 - mae: 0.4363 - val_loss: 0.8565 - val_mae: 0.4359\n",
            "Epoch 93/100\n",
            "32/32 [==============================] - 1s 37ms/step - loss: 0.9232 - mae: 0.4371 - val_loss: 0.8558 - val_mae: 0.4346\n",
            "Epoch 94/100\n",
            "32/32 [==============================] - 1s 47ms/step - loss: 0.9205 - mae: 0.4345 - val_loss: 0.8551 - val_mae: 0.4339\n",
            "Epoch 95/100\n",
            "32/32 [==============================] - 1s 37ms/step - loss: 0.9150 - mae: 0.4347 - val_loss: 0.8541 - val_mae: 0.4355\n",
            "Epoch 96/100\n",
            "32/32 [==============================] - 1s 37ms/step - loss: 0.9126 - mae: 0.4342 - val_loss: 0.8530 - val_mae: 0.4348\n",
            "Epoch 97/100\n",
            "32/32 [==============================] - 1s 36ms/step - loss: 0.9091 - mae: 0.4331 - val_loss: 0.8520 - val_mae: 0.4341\n",
            "Epoch 98/100\n",
            "32/32 [==============================] - 1s 37ms/step - loss: 0.9051 - mae: 0.4316 - val_loss: 0.8511 - val_mae: 0.4313\n",
            "Epoch 99/100\n",
            "32/32 [==============================] - 2s 49ms/step - loss: 0.9122 - mae: 0.4312 - val_loss: 0.8500 - val_mae: 0.4310\n",
            "Epoch 100/100\n",
            "32/32 [==============================] - 2s 55ms/step - loss: 0.9146 - mae: 0.4315 - val_loss: 0.8492 - val_mae: 0.4312\n"
          ]
        }
      ]
    },
    {
      "cell_type": "markdown",
      "source": [
        "**Визуализируем результат обучения**"
      ],
      "metadata": {
        "id": "i1mWEDv-9Skn"
      }
    },
    {
      "cell_type": "code",
      "source": [
        "plt.plot(history.history['mae'], label='Средняя абсолютная ошибка на обучающем наборе')\n",
        "plt.plot(history.history['val_mae'], label='Средняя абсолютная ошибка на проверочном наборе')\n",
        "plt.xlabel('Эпоха обучения')\n",
        "plt.ylabel('Средняя абсолютная ошибка')\n",
        "plt.legend()\n",
        "plt.show()"
      ],
      "metadata": {
        "id": "eHULwjQrW0aj",
        "colab": {
          "base_uri": "https://localhost:8080/",
          "height": 449
        },
        "outputId": "57a5b3ad-697d-45c0-dc0d-c24f05387569"
      },
      "execution_count": null,
      "outputs": [
        {
          "output_type": "display_data",
          "data": {
            "text/plain": [
              "<Figure size 640x480 with 1 Axes>"
            ],
            "image/png": "[encoded data removed]"
          },
          "metadata": {}
        }
      ]
    },
    {
      "cell_type": "code",
      "source": [
        "pred = model.predict([x_train[8000:8100], x_train_position[8000:8100]])  # Предсказание на новых данных (контрольный образец)\n",
        "\n",
        "pred = y_scaler.inverse_transform(pred)    # Обратная нормированию процедура\n",
        "\n",
        "\n",
        "print('Средняя абсолютная ошибка:', mean_absolute_error(pred, y_train[8000:8100]), '\\n') # расчет средней абсолютной ошибки\n",
        "\n",
        "for i in range(10):\n",
        "    print('Реальное значение: {:6.2f}  Предсказанное значение: {:6.2f}  Разница: {:6.2f}'.format(y_train[8000:8100][i, 0],\n",
        "                                                                                                pred[i, 0],\n",
        "                                                                                                abs(y_train[8000:8100][i, 0] - pred[i, 0])))\n",
        "fig, ax = plt.subplots(figsize=(6, 6))\n",
        "\n",
        "ax.scatter(y_train[8000:8100], pred)          # Отрисовка точечного графика\n",
        "ax.set_xlim(0, 100)                           # Ограничение оси по x\n",
        "ax.set_ylim(0, 100)                           # Ограничение оси по x\n",
        "ax.plot(plt.xlim(), plt.ylim(), 'r')          # Отрисовка диагональной линии\n",
        "plt.xlabel('Правильные значения')\n",
        "plt.ylabel('Предсказания')\n",
        "plt.grid()\n",
        "plt.show()"
      ],
      "metadata": {
        "id": "wsS2lmS2W_a5",
        "colab": {
          "base_uri": "https://localhost:8080/",
          "height": 773
        },
        "outputId": "936974b2-5ea7-49c8-c86b-b938fb36662e"
      },
      "execution_count": null,
      "outputs": [
        {
          "output_type": "stream",
          "name": "stdout",
          "text": [
            "4/4 [==============================] - 0s 3ms/step\n",
            "Средняя абсолютная ошибка: 10.431022831192017 \n",
            "\n",
            "Реальное значение:  20.00  Предсказанное значение:  27.95  Разница:   7.95\n",
            "Реальное значение:  20.00  Предсказанное значение:  26.25  Разница:   6.25\n",
            "Реальное значение:  40.00  Предсказанное значение:  45.96  Разница:   5.96\n",
            "Реальное значение:   6.00  Предсказанное значение:  16.04  Разница:  10.04\n",
            "Реальное значение:  15.28  Предсказанное значение:  22.77  Разница:   7.50\n",
            "Реальное значение: 150.00  Предсказанное значение:  42.10  Разница: 107.90\n",
            "Реальное значение:  25.00  Предсказанное значение:  29.66  Разница:   4.66\n",
            "Реальное значение:  80.00  Предсказанное значение:  39.72  Разница:  40.28\n",
            "Реальное значение:  30.00  Предсказанное значение:  31.23  Разница:   1.23\n",
            "Реальное значение:  30.00  Предсказанное значение:  23.15  Разница:   6.85\n"
          ]
        },
        {
          "output_type": "display_data",
          "data": {
            "text/plain": [
              "<Figure size 600x600 with 1 Axes>"
            ],
            "image/png": "[encoded data removed]"
          },
          "metadata": {}
        }
      ]
    },
    {
      "cell_type": "markdown",
      "source": [
        "Значение средней абсолютной ошибки в 10.4 для упрощенной модели, говорит о том, что наша модель в среднем ошибается на 10400, что немного лучше прежнего результата. Может показаться, что упрощенная модель лучше? Но это не совсем так. Более тяжелая модель с 4 ветками будет дольше обучаться. Тем более мы видим, что нет переобучения, что даже на 100 эпохах обе модели продолжают обучаться и дальше.  "
      ],
      "metadata": {
        "id": "nC0qz0r4glN8"
      }
    },
    {
      "cell_type": "markdown",
      "source": [
        "На этом наше знакомство с регрессионными моделями подошло к концу и пора приступить к выполнению [домашней работы](https://colab.research.google.com/drive/1iPTkGZ_AEUpl5l6DR__J021gHR61RRfQ)."
      ],
      "metadata": {
        "id": "Jq2QG-4YglDe"
      }
    }
  ]
}