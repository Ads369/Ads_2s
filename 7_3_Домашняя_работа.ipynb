{
  "cells": [
    {
      "cell_type": "markdown",
      "metadata": {
        "colab_type": "text",
        "id": "view-in-github"
      },
      "source": [
        "<a href=\"https://colab.research.google.com/github/Ads369/Ads_2s/blob/main/7_3_%D0%94%D0%BE%D0%BC%D0%B0%D1%88%D0%BD%D1%8F%D1%8F_%D1%80%D0%B0%D0%B1%D0%BE%D1%82%D0%B0.ipynb\" target=\"_parent\"><img src=\"https://colab.research.google.com/assets/colab-badge.svg\" alt=\"Open In Colab\"/></a>"
      ]
    },
    {
      "cell_type": "markdown",
      "metadata": {
        "id": "8LIWrmOPjBO6"
      },
      "source": [
        "**Навигация по уроку**\n",
        "\n",
        "1. [Библиотеки Python для Data Science](https://colab.research.google.com/drive/1VKRkuVNaSRPy6uNRhWLIlfaTnLPuyWcC)\n",
        "2. [Отзывы к фильмам (исследуем датасет IMDB)](https://colab.research.google.com/drive/1jL4XbkAMuMNVPXhfsE8Z2Z4h-sGtyAq1)\n",
        "3. Домашняя работа"
      ]
    },
    {
      "cell_type": "markdown",
      "metadata": {
        "id": "295t3FpUh8SP"
      },
      "source": [
        "Используя базу данных фильмов из практической части урока, проверте следующие гипотезы:\n",
        "\n",
        "1. Большинство фильмов выпускаются по пятницам\n",
        "2. Известные актеры снимаются в самых кассовых фильмах\n",
        "3. Известные актеры снимаются в самыx дорогих фильмах\n",
        "\n",
        "Построить графики по гипотезам. Сколько актеров из вашего результата вам знакомы?"
      ]
    },
    {
      "cell_type": "code",
      "execution_count": null,
      "metadata": {
        "id": "El4o9_QWeq78"
      },
      "outputs": [],
      "source": [
        "from requests import get\n",
        "\n",
        "response = get(\"https://storage.yandexcloud.net/academy.ai/the_movies_dataset.zip\")\n",
        "with open(\"the_movies_dataset.zip\", \"wb\") as f:\n",
        "    f.write(response.content)\n",
        "\n",
        "# Разархивация датасета в директорию 'the_movies_dataset'\n",
        "!unzip -qo \"the_movies_dataset.zip\" -d ./the_movies_dataset"
      ]
    },
    {
      "cell_type": "code",
      "execution_count": null,
      "metadata": {},
      "outputs": [],
      "source": [
        "import os\n",
        "import warnings\n",
        "\n",
        "import pandas as pd\n",
        "import numpy as np\n",
        "import matplotlib.pyplot as plt\n",
        "import seaborn as sns\n",
        "import ast\n",
        "\n",
        "DIR_PATH = \"./the_movies_dataset\"\n",
        "WEEK_DAYS_ORDER = [\n",
        "    \"Monday\",\n",
        "    \"Tuesday\",\n",
        "    \"Wednesday\",\n",
        "    \"Thursday\",\n",
        "    \"Friday\",\n",
        "    \"Saturday\",\n",
        "    \"Sunday\",\n",
        "]\n",
        "\n",
        "warnings.filterwarnings(\"ignore\")\n",
        "\n",
        "\n",
        "def load_data(file_name: str) -> pd.DataFrame:\n",
        "    return pd.read_csv(f\"{DIR_PATH}/{file_name}\")\n",
        "\n",
        "\n",
        "def count_movies_by_weekday(df: pd.DataFrame) -> pd.DataFrame:\n",
        "    sns.countplot(x=\"release_weekday\", data=df, order=WEEK_DAYS_ORDER)\n",
        "    plt.show()\n",
        "\n",
        "\n",
        "def _data_to_weekday(df: pd.DataFrame) -> pd.DataFrame:\n",
        "    # Не использую lambda, т.к. в данном случае c ней программа работает дольше\n",
        "    df = df.drop(df[df[\"release_date\"].isnull()].index)\n",
        "    df[\"release_date\"] = pd.to_datetime(df[\"release_date\"], errors=\"coerce\")\n",
        "    df[\"release_weekday\"] = df[\"release_date\"].dt.day_name()\n",
        "    return df\n",
        "\n",
        "\n",
        "def _prepare_numeric_columns(df: pd.DataFrame, columns: list[str]) -> pd.DataFrame:\n",
        "    for column in columns:\n",
        "        df[column] = pd.to_numeric(df[column], errors=\"coerce\")\n",
        "        df[column] = df[column].fillna(0)\n",
        "        df = df.drop(df[df[column].isnull()].index)\n",
        "    return df\n",
        "\n",
        "\n",
        "def get_actors(cast: str) -> list:\n",
        "    actors = []\n",
        "    for i in ast.literal_eval(cast):\n",
        "        actors.append(i[\"name\"])\n",
        "    return actors\n"
      ]
    },
    {
      "cell_type": "code",
      "execution_count": null,
      "metadata": {},
      "outputs": [],
      "source": [
        "\n",
        "move_metadata = load_data(\"movies_metadata.csv\")\n",
        "move_metadata = move_metadata[[\"id\", \"release_date\", \"budget\", \"revenue\"]]\n",
        "move_metadata = _data_to_weekday(move_metadata)\n",
        "move_metadata = _prepare_numeric_columns(move_metadata, [\"id\", \"budget\", \"revenue\"])\n",
        "\n",
        "credits_metadata = load_data(\"credits.csv\")\n",
        "credits_metadata = _prepare_numeric_columns(credits_metadata, [\"id\"])\n",
        "\n",
        "merged_metadata = move_metadata.merge(credits_metadata, on=\"id\")\n",
        "merged_metadata[\"actors\"] = merged_metadata[\"cast\"].apply(get_actors)\n",
        "merged_metadata = merged_metadata[[\"actors\", \"budget\", \"revenue\"]]"
      ]
    },
    {
      "cell_type": "code",
      "execution_count": null,
      "metadata": {},
      "outputs": [],
      "source": [
        "## №1\n",
        "# count_movies_by_weekday(move_metadata)\n",
        "sns.countplot(x=\"release_weekday\", data=move_metadata, order=WEEK_DAYS_ORDER)\n",
        "plt.show()\n"
      ]
    },
    {
      "cell_type": "code",
      "execution_count": null,
      "metadata": {},
      "outputs": [],
      "source": [
        "## №2\n",
        "plt.title(\"Актеры с лучшими показателями по кассовым сборам\")\n",
        "merged_metadata.explode(\"actors\").groupby(\"actors\")[\"revenue\"].sum().sort_values(\n",
        "    ascending=False\n",
        ").head(10).plot(kind=\"bar\")\n",
        "plt.show()"
      ]
    },
    {
      "cell_type": "code",
      "execution_count": null,
      "metadata": {},
      "outputs": [],
      "source": [
        "## №3\n",
        "plt.title(\"Актеры в самых бюджетных фильмах\")\n",
        "merged_metadata.explode(\"actors\").groupby(\"actors\")[\"budget\"].sum().sort_values(\n",
        "    ascending=False\n",
        ").head(10).plot(kind=\"bar\")\n",
        "plt.show()"
      ]
    }
  ],
  "metadata": {
    "colab": {
      "include_colab_link": true,
      "provenance": []
    },
    "kernelspec": {
      "display_name": "Python 3",
      "name": "python3"
    },
    "language_info": {
      "name": "python"
    }
  },
  "nbformat": 4,
  "nbformat_minor": 0
}
