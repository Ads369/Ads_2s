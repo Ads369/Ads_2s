{
  "cells": [
    {
      "cell_type": "markdown",
      "metadata": {
        "colab_type": "text",
        "id": "view-in-github"
      },
      "source": [
        "<a href=\"https://colab.research.google.com/github/Ads369/Ads_2s/blob/main/2_3_%D0%94%D0%BE%D0%BC%D0%B0%D1%88%D0%BD%D1%8F%D1%8F_%D1%80%D0%B0%D0%B1%D0%BE%D1%82%D0%B0.ipynb\" target=\"_parent\"><img src=\"https://colab.research.google.com/assets/colab-badge.svg\" alt=\"Open In Colab\"/></a>"
      ]
    },
    {
      "cell_type": "markdown",
      "metadata": {
        "id": "ARGgA85EgS0p"
      },
      "source": [
        "**Навигация по уроку**\n",
        "\n",
        "1. [Введение в Python. Синтаксис](https://colab.research.google.com/drive/1YBLgd6tZYlkhwpnEc4IM8tVnewLUnlUO#scrollTo=yqZjRAldfz_L)\n",
        "2. [Практика кода](https://colab.research.google.com/drive/1m-Ph90c-9S_gZchdG1ARoY2YjMTryKkl#scrollTo=UdxWiGmA63K2)\n",
        "3. Домашняя работа"
      ]
    },
    {
      "cell_type": "markdown",
      "metadata": {
        "id": "EdiQPIVgklWr"
      },
      "source": [
        "В домашней работе необходимо, используя знания теоретической части занятия и полученные практические навыки, решить, представленные ниже задачи. Для этого необходимо скопировать Блокнот (см. раздел 1.1.), решить в нем все задач, открыть общий доступ к Блокноту ((см. раздел 1.1.) и отправить ссылку на Блокнот куратору на проверку. Для прохождения урока необходимо решить минимум 2 задачи. Желаем удачи!"
      ]
    },
    {
      "cell_type": "markdown",
      "metadata": {
        "id": "ZzjUAyrL6jgO"
      },
      "source": [
        "## Задача 1. Приветствие."
      ]
    },
    {
      "cell_type": "markdown",
      "metadata": {
        "id": "M4OAOB6s6mU7"
      },
      "source": [
        "**Условие.** Напишите программу, запрашивающую у пользователя его имя. В ответ\n",
        "на ввод на экране должно появиться приветствие с обращением по имени,\n",
        "введенному с клавиатуры ранее.\n"
      ]
    },
    {
      "cell_type": "code",
      "execution_count": null,
      "metadata": {
        "id": "C2W-ZDOF6mzF"
      },
      "outputs": [],
      "source": [
        "username = input(\"Введи свой username:\").strip()\n",
        "print(f\"Привет {username}\")"
      ]
    },
    {
      "cell_type": "markdown",
      "metadata": {
        "id": "UG8mwj2-eALV"
      },
      "source": [
        "## Задача 2. Сувениры и безделушки."
      ]
    },
    {
      "cell_type": "markdown",
      "metadata": {
        "id": "ay2EfeBreALW"
      },
      "source": [
        "**Условие.** Интернет-магазин занимается продажей различных сувениров и безделушек. Каждый сувенир весит 75 г, а безделушка – 112 г. Напишите программу, запрашивающую у пользователя количество тех и других покупок,\n",
        "после чего выведите на экран общий вес посылки.\n"
      ]
    },
    {
      "cell_type": "code",
      "execution_count": null,
      "metadata": {
        "id": "WY-KRVHyeALX"
      },
      "outputs": [],
      "source": [
        "souvenir_count = int(input(\"Введите количество сувениров:\"))\n",
        "little_thing_count = int(input(\"Введите количество безделушек:\"))\n",
        "\n",
        "souvenir_weight = 0.75\n",
        "little_thing_weight = 0.112\n",
        "\n",
        "souvenir_total = souvenir_count * souvenir_weight\n",
        "little_thing_total = little_thing_count * little_thing_weight\n",
        "\n",
        "print(souvenir_total)\n",
        "print(little_thing_total)\n",
        "\n",
        "total_weight = souvenir_total + little_thing_total\n",
        "print(f\"Суммарный вес {total_weight}\")\n"
      ]
    },
    {
      "cell_type": "markdown",
      "metadata": {
        "id": "v2IXqDTVeBfM"
      },
      "source": [
        "## Задача 3. Сложные проценты"
      ]
    },
    {
      "cell_type": "markdown",
      "metadata": {
        "id": "rGE3sh2ueBfN"
      },
      "source": [
        "**Условие.** Представьте, что вы открыли в банке сберегательный счет под 4 % годовых. Проценты банк рассчитывает в конце года и добавляет к сумме счета.\n",
        "Напишите программу, которая запрашивает у пользователя сумму первоначального депозита, после чего рассчитывает и выводит на экран сумму\n",
        "на счету в конце первого, второго и третьего годов. Все суммы должны\n",
        "быть округлены до двух знаков после запятой.\n",
        "\n"
      ]
    },
    {
      "cell_type": "code",
      "execution_count": null,
      "metadata": {
        "id": "0DYIIu98eBfN"
      },
      "outputs": [],
      "source": [
        "\n",
        "money = float(input(\"Введите сумму денег:\").strip())\n",
        "\n",
        "percent = 0.04\n",
        "\n",
        "for i in range(1, 4):\n",
        "    money = money * percent + money\n",
        "    print(f\"{i} год: {money:.2f}\")"
      ]
    },
    {
      "cell_type": "markdown",
      "metadata": {
        "id": "d9y6YzAvuW4l"
      },
      "source": [
        "## Задача 4. Арифметика"
      ]
    },
    {
      "cell_type": "markdown",
      "metadata": {
        "id": "ZeZZ2IrUuW4m"
      },
      "source": [
        "**Условие.** Создайте программу, которая запрашивает у пользователя два целых числа a и b, после чего выводит на экран результаты следующих математических операций:\n",
        "* сумма a и b;\n",
        "* разница между a и b;\n",
        "* произведение a и b;\n",
        "* частное от деления a на b;\n",
        "* остаток от деления a на b;\n",
        "* десятичный логарифм числа a;\n",
        "* результат возведения числа a в степень b."
      ]
    },
    {
      "cell_type": "code",
      "execution_count": null,
      "metadata": {
        "id": "gCbjinmpuW4m"
      },
      "outputs": [],
      "source": [
        "from math import log10\n",
        "a = int(input(\"Введите а:\".strip()))\n",
        "b = int(input(\"Введите b:\".strip()))\n",
        "\n",
        "# * сумма a и b;\n",
        "print(a+b)\n",
        "# * разница между a и b;\n",
        "print(a-b)\n",
        "# * произведение a и b;\n",
        "print(a*b)\n",
        "# * частное от деления a на b;\n",
        "print(a/b)\n",
        "# * остаток от деления a на b;\n",
        "print(a%b)\n",
        "# * десятичный логарифм числа a;\n",
        "print(log10(a))\n",
        "# * результат возведения числа a в степень b.\n",
        "print(a**b)"
      ]
    },
    {
      "cell_type": "markdown",
      "metadata": {
        "id": "EcSSCSnpeBto"
      },
      "source": [
        "## Задача 5. Размен"
      ]
    },
    {
      "cell_type": "markdown",
      "metadata": {
        "id": "VfX5FQQreBtp"
      },
      "source": [
        "**Условие.** Представьте, что вы пишете программное обеспечение для автоматической кассы в  магазине самообслуживания. Одной из функций, заложенных в кассу, должен быть расчет сдачи в случае оплаты покупателем наличными.\n",
        "Напишите программу, которая будет запрашивать у пользователя сумму сдачи в копейках. После этого она должна рассчитать и вывести на экран, сколько и каких монет потребуется для выдачи указанной суммы, при условии что должно быть задействовано минимально возможное количество монет. Допустим, у нас есть в распоряжении монеты достоинством в 1, 5, 10, 50 копеек, а также в 1, 2 и 5 рублей.\n"
      ]
    },
    {
      "cell_type": "code",
      "execution_count": null,
      "metadata": {
        "id": "4ecMH2bjeBtp"
      },
      "outputs": [],
      "source": [
        "input_money = int(input(\"Введите количество копеек для размера\"))\n",
        "\n",
        "exchange = {\n",
        "    \"5rub_coin\":{\n",
        "        \"name\": \"5 рублей\",\n",
        "        \"cost\": 500\n",
        "    },\n",
        "    \"2rub_coin\":{\n",
        "        \"name\": \"2 рубля\",\n",
        "        \"cost\": 200\n",
        "    },\n",
        "    \"1rub_coin\":{\n",
        "        \"name\": \"1 рубля\",\n",
        "        \"cost\": 100\n",
        "    },\n",
        "    \"50pen_coin\":{\n",
        "        \"name\": \"50 копеек\",\n",
        "        \"cost\": 50\n",
        "    },\n",
        "    \"10pen_coin\":{\n",
        "        \"name\": \"10 копеек\",\n",
        "        \"cost\": 10\n",
        "    },\n",
        "    \"5pen_coin\":{\n",
        "        \"name\": \"5 копеек\",\n",
        "        \"cost\": 5\n",
        "    },\n",
        "    \"1pen_coin\":{\n",
        "        \"name\": \"1 копейка\",\n",
        "        \"cost\": 1\n",
        "    }\n",
        "}\n",
        "exchange = dict(sorted(exchange.items(), key=lambda x: x[1][\"cost\"], reverse=True))\n",
        "coins_issuance = []\n",
        "\n",
        "for item in exchange:\n",
        "    if input_money >= exchange[item][\"cost\"]:\n",
        "        coins_issuance.append(exchange[item][\"name\"])\n",
        "        input_money -= exchange[item][\"cost\"]\n",
        "\n",
        "print(','.join(coins_issuance))"
      ]
    },
    {
      "cell_type": "markdown",
      "metadata": {
        "id": "26soP3cfeB8i"
      },
      "source": [
        "## Задача 6. Вчерашний хлеб"
      ]
    },
    {
      "cell_type": "markdown",
      "metadata": {
        "id": "t-cYNmWQeB8i"
      },
      "source": [
        "**Условие.** Пекарня продает хлеб по 49 рублей за буханку. Скидка на вчерашний хлеб составляет 60 %. Напишите программу, которая будет запрашивать у пользователя количество приобретенных вчерашних буханок хлеба. В вывод на экран должны быть включены обычная цена за буханку, цена со скидкой и общая стоимость приобретенного хлеба. Все значения должны быть выведены на отдельных строках с соответствующими описаниями. Используйте для вывода формат с двумя знаками после запятой и 5-ю знакоместами.\n"
      ]
    },
    {
      "cell_type": "code",
      "execution_count": null,
      "metadata": {
        "id": "R2-WoQoveB8j"
      },
      "outputs": [],
      "source": [
        "bread_cost = 49\n",
        "bread_sale_cost = bread_cost * 0.40\n",
        "\n",
        "bread_sale_count = int(input(\"Сколько вчерашнего хлеба вы купили?: \"))\n",
        "\n",
        "print(f\"Цена свежего хлеба:{bread_cost}\")\n",
        "print(f\"Цена вчерашнего хлеба:{bread_sale_cost}\")\n",
        "print(f\"Общая стоимость:{bread_sale_count*bread_sale_cost:.2f}\")\n"
      ]
    }
  ],
  "metadata": {
    "colab": {
      "include_colab_link": true,
      "provenance": []
    },
    "kernelspec": {
      "display_name": "Python 3",
      "name": "python3"
    },
    "language_info": {
      "name": "python"
    }
  },
  "nbformat": 4,
  "nbformat_minor": 0
}
