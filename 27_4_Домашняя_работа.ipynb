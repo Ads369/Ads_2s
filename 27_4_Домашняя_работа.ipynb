{
  "nbformat": 4,
  "nbformat_minor": 0,
  "metadata": {
    "colab": {
      "provenance": [],
      "include_colab_link": true
    },
    "kernelspec": {
      "name": "python3",
      "display_name": "Python 3"
    },
    "language_info": {
      "name": "python"
    }
  },
  "cells": [
    {
      "cell_type": "markdown",
      "metadata": {
        "id": "view-in-github",
        "colab_type": "text"
      },
      "source": [
        "<a href=\"https://colab.research.google.com/github/Ads369/Ads_2s/blob/main/27_4_%D0%94%D0%BE%D0%BC%D0%B0%D1%88%D0%BD%D1%8F%D1%8F_%D1%80%D0%B0%D0%B1%D0%BE%D1%82%D0%B0.ipynb\" target=\"_parent\"><img src=\"https://colab.research.google.com/assets/colab-badge.svg\" alt=\"Open In Colab\"/></a>"
      ]
    },
    {
      "cell_type": "markdown",
      "source": [
        "**Навигация по уроку**\n",
        "1. [Инструменты создания web-интерфейсов](https://colab.research.google.com/drive/1JMj27rzWwL3r6jDqdxHv9Y3LiDgAEAvC)\n",
        "2. [Создаем интерфейс на Streamlit](https://colab.research.google.com/drive/1THSgc9HQwUA2WfrmD8X7JR97huFSIjC3)\n",
        "3. [Создание чат-бота на Gradio](https://colab.research.google.com/drive/1LLKuYCFLO-BpCj2PxtELXDP3qMXia8fK)\n",
        "4. Домашняя работа"
      ],
      "metadata": {
        "id": "_-gxkx66p7na"
      }
    },
    {
      "cell_type": "markdown",
      "source": [
        "В домашней работе вам необходимо создать интерфейс к вашей модели нейронной сети, используя Streamlit (можно и Gradio). Для этого:"
      ],
      "metadata": {
        "id": "1K3lQBqTImOl"
      }
    },
    {
      "cell_type": "markdown",
      "source": [
        "1. Определитесь, какую задачу будет решать ваша нейронная сеть.\n",
        "2. Продумайте интерфейс взаимодействия с пользователем, какими параметрами модели пользователь будет управлять.\n",
        "3. Обучите модель на любом публичном датасете или возьмите из любого предыдущего урока. Вспомните как происходит загрузка и выгрузка моделей в Keras.\n",
        "4. Загрузите обученную модель в Colab с интерфейсом (деплой модели).\n",
        "5. Создайте интерфейс для инференса вашей модели (для запросов к модели).\n",
        "6. Изучите как происходит загрузка файлов для моделей с помощью Streamlit по [ссылке](https://docs.streamlit.io/develop/api-reference/widgets/st.file_uploader).\n",
        "7. Добавьте в интерфейс возможность загрузки пользовательских данных для инференса. Это может быть текстовый файл, картинка, аудиофайл или др.\n",
        "8. Выполнив задание, получите 3 балла.\n",
        "9. Вы также можете получить дополнительные 2 балла, если реализуете в одном интерфейсе обучение модели и её инференс."
      ],
      "metadata": {
        "id": "yISV-SjhKvGi"
      }
    },
    {
      "cell_type": "markdown",
      "source": [
        "**Инференс** - это процесс исполнения обученных моделей машинного обучения для получения предсказаний на данных, поданных на вход модели.\n",
        "Обычно нейронная сеть проходит три жизненных этапа: обучение, деплой и инференс. Инференсом называется непрерывная работа какой-либо нейронной сети на конечном устройстве.\n",
        "\n",
        "**Деплой** - загрузка на сервер."
      ],
      "metadata": {
        "id": "TAgM1XzjSdsM"
      }
    }
  ]
}