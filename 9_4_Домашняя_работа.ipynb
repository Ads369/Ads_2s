{
  "cells": [
    {
      "cell_type": "markdown",
      "metadata": {},
      "source": [
        "<a href=\"https://colab.research.google.com/github/Ads369/Ads_2s/blob/main/9_4_%D0%94%D0%BE%D0%BC%D0%B0%D1%88%D0%BD%D1%8F%D1%8F_%D1%80%D0%B0%D0%B1%D0%BE%D1%82%D0%B0.ipynb\" target=\"_parent\"><img src=\"https://colab.research.google.com/assets/colab-badge.svg\" alt=\"Open In Colab\"/></a>"
      ]
    },
    {
      "cell_type": "markdown",
      "metadata": {
        "id": "apk45uj2fGer"
      },
      "source": [
        "Используя модель обучения многослойного персептрона из практической части урока (9.3), выполните следующее:\n",
        "\n",
        "1. Увеличьте число слоев до 4-х и сравните время обучения модели и точность на тестовой выборке.\n",
        "2. В качестве датасета использовать любой из наборов данных TensorFlow. Обучить модель. Добейтесь результата распознования более 85% на тестовой выборке. [Датасеты на выбор](https://www.tensorflow.org/datasets/overview). Используйте датасет отличный от MNIST, который был в уроке.\n",
        "\n",
        "Для прохождения урока достаточно решить первое задание."
      ]
    },
    {
      "cell_type": "code",
      "execution_count": null,
      "metadata": {
        "id": "2g3W8PUJBRSt",
        "outputId": "d8160b13-82d2-4ffb-a4a7-dc5d0d866557"
      },
      "outputs": [
        {
          "name": "stdout",
          "output_type": "stream",
          "text": [
            "\n",
            "\u001b[1m[\u001b[0m\u001b[34;49mnotice\u001b[0m\u001b[1;39;49m]\u001b[0m\u001b[39;49m A new release of pip is available: \u001b[0m\u001b[31;49m24.0\u001b[0m\u001b[39;49m -> \u001b[0m\u001b[32;49m24.1.1\u001b[0m\n",
            "\u001b[1m[\u001b[0m\u001b[34;49mnotice\u001b[0m\u001b[1;39;49m]\u001b[0m\u001b[39;49m To update, run: \u001b[0m\u001b[32;49mpip install --upgrade pip\u001b[0m\n"
          ]
        }
      ],
      "source": [
        "# v1.2.0\n",
        "# Устанавливаем Seaborn для построения графиков \n",
        "!pip install -q seaborn"
      ]
    },
    {
      "cell_type": "code",
      "execution_count": 2,
      "metadata": {
        "id": "NUsd2Cm0BRSv"
      },
      "outputs": [],
      "source": [
        "import os\n",
        "import tempfile\n",
        "import time\n",
        "\n",
        "import matplotlib\n",
        "import pandas as pd\n",
        "import seaborn as sns\n",
        "import tensorflow as tf\n",
        "import tensorflow_datasets as tfds\n",
        "from matplotlib import pyplot as plt\n",
        "\n",
        "# Установим по умолчанию размер фигуры для Matplotlib по умолчанию.\n",
        "matplotlib.rcParams[\"figure.figsize\"] = [9, 6]"
      ]
    },
    {
      "cell_type": "code",
      "execution_count": 2,
      "metadata": {
        "colab": {
          "referenced_widgets": [
            "8ab15ad10dec474f94fb4e619b8f4a05"
          ]
        },
        "id": "vZYKuJWYBRSv",
        "outputId": "29f5c844-b1f5-439f-f667-23c87a832b81"
      },
      "outputs": [],
      "source": [
        "train_data, val_data, test_data = tfds.load(\n",
        "    \"mnist\",\n",
        "    split=[\"train[10000:]\", \"train[0:10000]\", \"test\"],\n",
        "    batch_size=128,\n",
        "    as_supervised=True,\n",
        ")"
      ]
    },
    {
      "cell_type": "code",
      "execution_count": 3,
      "metadata": {},
      "outputs": [],
      "source": [
        "x_viz, y_viz = tfds.load(\n",
        "    \"mnist\", split=[\"train[:1500]\"], batch_size=-1, as_supervised=True\n",
        ")[0]  # Взять все одним батчем и выбрать его для визуализации"
      ]
    },
    {
      "cell_type": "code",
      "execution_count": null,
      "metadata": {},
      "outputs": [],
      "source": [
        "x_test, y_test = tfds.load(\"mnist\", split=[\"test\"], batch_size=-1, as_supervised=True)[\n",
        "    0\n",
        "]"
      ]
    },
    {
      "cell_type": "code",
      "execution_count": 3,
      "metadata": {
        "id": "ZAeZ4mZZBRSv",
        "outputId": "ac6b8e51-fa96-4167-e33c-1115ee20821e"
      },
      "outputs": [],
      "source": [
        "print(\"Размерность исходных данных:\", x_viz.shape)\n",
        "\n",
        "# сжатия размерности, исключаем данные по оси с индексом 3\n",
        "x_viz = tf.squeeze(x_viz, axis=3)\n",
        "print(\"Размерность данных после сжатия:\", x_viz.shape)"
      ]
    },
    {
      "cell_type": "code",
      "execution_count": null,
      "metadata": {
        "id": "vDARsQqVBRSw",
        "outputId": "22fc34b1-30ef-4cf6-d29e-68a43d56010c"
      },
      "outputs": [
        {
          "data": {
            "image/png": "[encoded data removed]",
            "text/plain": [
              "<Figure size 900x600 with 1 Axes>"
            ]
          },
          "metadata": {},
          "output_type": "display_data"
        }
      ],
      "source": [
        "# Выводим 16 картинок из датасета\n",
        "for i in range(16):\n",
        "    plt.subplot(4, 4, 1 + i)\n",
        "    plt.axis(\"off\")\n",
        "\n",
        "    # отображение массива numpy как картинки;\n",
        "    # cmap - карта цветов, используем серую 'gray'\n",
        "    plt.imshow(x_viz[i], cmap=\"gray\")\n",
        "    plt.title(f\"Метки: {y_viz[i]}\")\n",
        "\n",
        "    # Отступы по ширине и высоте между картинками\n",
        "    plt.subplots_adjust(hspace=0.5, wspace=0.5)\n",
        "\n",
        "sns.countplot(x=y_viz.numpy())\n",
        "plt.xlabel(\"Цифры\")\n",
        "plt.ylabel(\"Штук\")\n",
        "plt.title(\"Распределение цифр в MNIST\");"
      ]
    },
    {
      "cell_type": "code",
      "execution_count": null,
      "metadata": {
        "id": "KnpCNDh2BRSw"
      },
      "outputs": [],
      "source": [
        "# Функция изменения формы и масштабирования данных\n",
        "def preprocess(x, y):\n",
        "    # reshap - изменяет форму данных\n",
        "    x = tf.reshape(x, shape=(-1, 784))\n",
        "    # -1 - значит сохранить форму\n",
        "    # 784 - 28 * 28 (Размер картинки)\n",
        "\n",
        "    # Масштабируем данные\n",
        "    x = x / 255\n",
        "    return x, y\n",
        "\n",
        "\n",
        "train_data = train_data.map(preprocess)\n",
        "val_data = val_data.map(preprocess)\n",
        "# map выполняет функцию preprocess для каждого элемента данных,\n",
        "# к которым применяется"
      ]
    },
    {
      "cell_type": "code",
      "execution_count": null,
      "metadata": {
        "id": "_A6DFdEbBRSw"
      },
      "outputs": [],
      "source": [
        "# Функция инициализации Ксавье\n",
        "def xavier_init(shape):\n",
        "    # Вычисляем значения инициализации xavier для весовой матрицы\n",
        "    in_dim, out_dim = shape\n",
        "\n",
        "    # Задаем диапазон инициализации весов по схеме Ксавье\n",
        "    xavier_lim = tf.sqrt(6.0) / tf.sqrt(tf.cast(in_dim + out_dim, tf.float32))\n",
        "\n",
        "    # Возвращаем тензор с равномерно распределенными случайными величинами в указанном интервале.\n",
        "    weight_vals = tf.random.uniform(\n",
        "        shape=(in_dim, out_dim), minval=-xavier_lim, maxval=xavier_lim\n",
        "    )\n",
        "    return weight_vals"
      ]
    },
    {
      "cell_type": "code",
      "execution_count": null,
      "metadata": {
        "id": "XHeRG0_jBRSx"
      },
      "outputs": [],
      "source": [
        "# Класс полносвязанного слоя\n",
        "class DenseLayer(tf.Module):\n",
        "    def __init__(self, out_dim, weight_init=xavier_init, activation=tf.identity):\n",
        "        # Инициализация размеров и функции активации\n",
        "        self.out_dim = out_dim  # Определяем размерность выходов\n",
        "        self.weight_init = weight_init  # Инициализируем веса\n",
        "        self.activation = activation  # Задаем функцию активации\n",
        "        self.built = False\n",
        "\n",
        "    @tf.function  # Декоратор, который переносит вычисления на уровень графа TensorFlow\n",
        "    def __call__(self, x):\n",
        "        if not self.built:  # Если запущен первый раз проводим инициализацию\n",
        "            # Вывод входного измерения на основе первого вызова\n",
        "            self.in_dim = x.shape[1]\n",
        "\n",
        "            # Инициализация весов\n",
        "            self.w = tf.Variable(\n",
        "                self.weight_init(shape=(self.in_dim, self.out_dim))\n",
        "            )  # Объявление тензорных переменных\n",
        "\n",
        "            # Инициализация смещения\n",
        "            self.b = tf.Variable(\n",
        "                tf.zeros(shape=(self.out_dim,))\n",
        "            )  # Объявление тензорных переменных\n",
        "\n",
        "            # Инициализация пройдена\n",
        "            self.built = True\n",
        "\n",
        "        # Вычисление прямого прохода\n",
        "        y = tf.add(tf.matmul(x, self.w), self.b)  # уравнение персептрона\n",
        "\n",
        "        # Применение функции активации к уравнению персептрона\n",
        "        return self.activation(y)"
      ]
    },
    {
      "cell_type": "code",
      "execution_count": null,
      "metadata": {
        "id": "b95BBJLfBRSx"
      },
      "outputs": [],
      "source": [
        "# Многослойные перцептроны\n",
        "class MLP(tf.Module):\n",
        "    def __init__(self, layers):\n",
        "        self.layers = layers\n",
        "\n",
        "    @tf.function  # Декоратор, который переносит вычисления на уровень графа TensorFlow\n",
        "    def __call__(self, x, preds=False):\n",
        "        # Последовательное выполнение слоев модели\n",
        "        for layer in self.layers:\n",
        "            x = layer(x)\n",
        "        return x"
      ]
    },
    {
      "cell_type": "code",
      "execution_count": null,
      "metadata": {
        "id": "e5Mm7GrjBRSx"
      },
      "outputs": [],
      "source": [
        "# Создание модели нейронной сети\n",
        "mlp_model = MLP(\n",
        "    [\n",
        "        DenseLayer(out_dim=700, activation=tf.nn.relu),\n",
        "        DenseLayer(out_dim=500, activation=tf.nn.relu),\n",
        "        DenseLayer(out_dim=10),\n",
        "    ]\n",
        ")"
      ]
    },
    {
      "cell_type": "code",
      "execution_count": null,
      "metadata": {
        "id": "PsKQdCxjBRSx"
      },
      "outputs": [],
      "source": [
        "def cross_entropy_loss(y_pred, y):\n",
        "    # Вычисление перекрестной энтропии с помощью разреженной операции\n",
        "    sparse_ce = tf.nn.sparse_softmax_cross_entropy_with_logits(labels=y, logits=y_pred)\n",
        "    return tf.reduce_mean(sparse_ce)  # аналог np.mean для тензоров"
      ]
    },
    {
      "cell_type": "code",
      "execution_count": null,
      "metadata": {
        "id": "K5Sm_Y6xBRSx"
      },
      "outputs": [],
      "source": [
        "def accuracy(y_pred, y):\n",
        "    # Вычисляем точность после извлечения предсказаний класса\n",
        "\n",
        "    class_preds = tf.argmax(\n",
        "        tf.nn.softmax(y_pred), axis=1\n",
        "    )  # возвращает индекс максимального элемента\n",
        "\n",
        "    # сравнение тензорных значений\n",
        "    is_equal = tf.equal(y, class_preds)\n",
        "\n",
        "    # аналог np.mean для тензоров\n",
        "    return tf.reduce_mean(tf.cast(is_equal, tf.float32))"
      ]
    },
    {
      "cell_type": "code",
      "execution_count": null,
      "metadata": {
        "id": "90RSgDLmBRSx"
      },
      "outputs": [],
      "source": [
        "# Алгоритмов оптимизации ADAM\n",
        "class Adam:\n",
        "    def __init__(self, learning_rate=1e-3, beta_1=0.9, beta_2=0.999, ep=1e-7):\n",
        "        # Инициализируем параметры оптимизатора и резервируем переменные\n",
        "        self.beta_1 = beta_1  # гиперпараметр\n",
        "        self.beta_2 = beta_2  # гиперпараметр\n",
        "        self.learning_rate = learning_rate  # шаг обучения\n",
        "\n",
        "        # Эпсилон - предотвращает деление на ноль, слабо влияет на обучение\n",
        "        self.ep = ep\n",
        "\n",
        "        self.t = 1.0\n",
        "        self.v_dvar, self.s_dvar = [], []\n",
        "        self.built = False\n",
        "\n",
        "    def apply_gradients(self, grads, vars):\n",
        "        # Инициализируем переменные при первом вызове\n",
        "        if not self.built:\n",
        "            for var in vars:\n",
        "                v = tf.Variable(tf.zeros(shape=var.shape))\n",
        "                s = tf.Variable(tf.zeros(shape=var.shape))\n",
        "                self.v_dvar.append(v)\n",
        "                self.s_dvar.append(s)\n",
        "            self.built = True\n",
        "\n",
        "        # Обновите переменные модели с учетом их градиентов\n",
        "        for i, (d_var, var) in enumerate(zip(grads, vars)):\n",
        "            self.v_dvar[i].assign(\n",
        "                self.beta_1 * self.v_dvar[i] + (1 - self.beta_1) * d_var\n",
        "            )\n",
        "            self.s_dvar[i].assign(\n",
        "                self.beta_2 * self.s_dvar[i] + (1 - self.beta_2) * tf.square(d_var)\n",
        "            )\n",
        "            v_dvar_bc = self.v_dvar[i] / (1 - (self.beta_1**self.t))\n",
        "            s_dvar_bc = self.s_dvar[i] / (1 - (self.beta_2**self.t))\n",
        "            var.assign_sub(\n",
        "                self.learning_rate * (v_dvar_bc / (tf.sqrt(s_dvar_bc) + self.ep))\n",
        "            )\n",
        "        self.t += 1.0\n",
        "        return"
      ]
    },
    {
      "cell_type": "code",
      "execution_count": null,
      "metadata": {
        "id": "B99CO20kBRSy"
      },
      "outputs": [],
      "source": [
        "def train_step(x_batch, y_batch, loss, acc, model, optimizer):\n",
        "    # Обновляем состояние модели с учетом пакета данных\n",
        "\n",
        "    with tf.GradientTape() as tape:\n",
        "        y_pred = model(x_batch)  # Предсказываем значение с текущими весами\n",
        "        batch_loss = loss(y_pred, y_batch)  # Оцениваем ошибку на текущих весах\n",
        "\n",
        "    batch_acc = acc(y_pred, y_batch)  # Оцениваем точность на текущих весах\n",
        "    grads = tape.gradient(batch_loss, model.variables)  # Вычисляем градиенты\n",
        "\n",
        "    # Обновляем переменные с учетом полученных градиентов\n",
        "    optimizer.apply_gradients(grads, model.variables)\n",
        "\n",
        "    # Возвращаем ошибку и точность на основе заданного пакета\n",
        "    return (batch_loss, batch_acc)\n",
        "\n",
        "\n",
        "def val_step(x_batch, y_batch, loss, acc, model):\n",
        "    # Оцениваем модель на основе заданного пакета валидационных данных\n",
        "    # без обучения на текущих весах\n",
        "    y_pred = model(x_batch)\n",
        "    batch_loss = loss(y_pred, y_batch)\n",
        "    batch_acc = acc(y_pred, y_batch)\n",
        "    return batch_loss, batch_acc"
      ]
    },
    {
      "cell_type": "code",
      "execution_count": null,
      "metadata": {
        "id": "dE1XES1zBRSy"
      },
      "outputs": [],
      "source": [
        "# Определяем функцию обучения\n",
        "def train_model(mlp, train_data, val_data, loss, acc, optimizer, epochs):\n",
        "    \"\"\"Определение функции обучения\n",
        "\n",
        "    Args:\n",
        "        mlp: Модель обучения в нашем случае многослойный персепртон\n",
        "        train_data: Train dataset\n",
        "        val_data: Validate dataset\n",
        "        loss: Функция потер\n",
        "        acc: Функцию вычисления точности\n",
        "        optimizer: Класс оптимизации\n",
        "        epochs (int): Количество поколений\n",
        "\n",
        "    Returns:\n",
        "        train_losses (list): Массив потерь на тестовых данных\n",
        "        train_accs (list): Массив точности на тестовых данных\n",
        "        val_losses (list): Массив потерь на валидационных данных\n",
        "        val_accs (list): Массив точности на валидационных данных\n",
        "    \"\"\"\n",
        "    # Инициализация структур данных\n",
        "    train_losses, train_accs = [], []\n",
        "    val_losses, val_accs = [], []\n",
        "\n",
        "    # Отформатируем тренировочный цикл и начнем обучение\n",
        "    for epoch in range(epochs):\n",
        "        batch_losses_train, batch_accs_train = [], []\n",
        "        batch_losses_val, batch_accs_val = [], []\n",
        "\n",
        "        # Выполняем итерацию по обучающим данным\n",
        "        for x_batch, y_batch in train_data:\n",
        "            # Вычисляем градиенты и обновляем параметры модели\n",
        "            batch_loss, batch_acc = train_step(\n",
        "                x_batch, y_batch, loss, acc, mlp, optimizer\n",
        "            )\n",
        "            # Следим за результатами обучения на пакетном уровне\n",
        "            batch_losses_train.append(batch_loss)\n",
        "            batch_accs_train.append(batch_acc)\n",
        "\n",
        "        # Повторяем процедуру проверки данных\n",
        "        for x_batch, y_batch in val_data:\n",
        "            batch_loss, batch_acc = val_step(x_batch, y_batch, loss, acc, mlp)\n",
        "            batch_losses_val.append(batch_loss)\n",
        "            batch_accs_val.append(batch_acc)\n",
        "\n",
        "        # Следим за производительностью модели на уровне эпохи\n",
        "        train_loss, train_acc = (\n",
        "            tf.reduce_mean(batch_losses_train),\n",
        "            tf.reduce_mean(batch_accs_train),\n",
        "        )\n",
        "        val_loss, val_acc = (\n",
        "            tf.reduce_mean(batch_losses_val),\n",
        "            tf.reduce_mean(batch_accs_val),\n",
        "        )\n",
        "        train_losses.append(train_loss)\n",
        "        train_accs.append(train_acc)\n",
        "        val_losses.append(val_loss)\n",
        "        val_accs.append(val_acc)\n",
        "        print(f\"Эпоха: {epoch}\")\n",
        "        print(\n",
        "            f\"Обучающая ошибка: {train_loss:.3f}, Обучающая точность: {train_acc:.3f}\"\n",
        "        )\n",
        "        print(\n",
        "            f\"Валидационная ошибка: {val_loss:.3f}, Валидационная точность: {val_acc:.3f}\"\n",
        "        )\n",
        "    return train_losses, train_accs, val_losses, val_accs"
      ]
    },
    {
      "cell_type": "code",
      "execution_count": null,
      "metadata": {
        "id": "7bC-WgZzBRSy",
        "outputId": "b54cc167-9fb4-4226-d32d-06c7ab37b3ef"
      },
      "outputs": [
        {
          "name": "stdout",
          "output_type": "stream",
          "text": [
            "Эпоха: 0\n",
            "Обучающая ошибка: 0.225, Обучающая точность: 0.935\n",
            "Валидационная ошибка: 0.121, Валидационная точность: 0.965\n",
            "Эпоха: 1\n",
            "Обучающая ошибка: 0.080, Обучающая точность: 0.975\n",
            "Валидационная ошибка: 0.094, Валидационная точность: 0.972\n",
            "Эпоха: 2\n",
            "Обучающая ошибка: 0.048, Обучающая точность: 0.985\n",
            "Валидационная ошибка: 0.090, Валидационная точность: 0.974\n",
            "Эпоха: 3\n",
            "Обучающая ошибка: 0.033, Обучающая точность: 0.990\n",
            "Валидационная ошибка: 0.103, Валидационная точность: 0.973\n",
            "Эпоха: 4\n",
            "Обучающая ошибка: 0.026, Обучающая точность: 0.992\n",
            "Валидационная ошибка: 0.087, Валидационная точность: 0.978\n",
            "Эпоха: 5\n",
            "Обучающая ошибка: 0.021, Обучающая точность: 0.993\n",
            "Валидационная ошибка: 0.110, Валидационная точность: 0.973\n",
            "Эпоха: 6\n",
            "Обучающая ошибка: 0.019, Обучающая точность: 0.993\n",
            "Валидационная ошибка: 0.103, Валидационная точность: 0.976\n",
            "Эпоха: 7\n",
            "Обучающая ошибка: 0.020, Обучающая точность: 0.993\n",
            "Валидационная ошибка: 0.100, Валидационная точность: 0.978\n",
            "Эпоха: 8\n",
            "Обучающая ошибка: 0.014, Обучающая точность: 0.995\n",
            "Валидационная ошибка: 0.100, Валидационная точность: 0.979\n",
            "Эпоха: 9\n",
            "Обучающая ошибка: 0.010, Обучающая точность: 0.997\n",
            "Валидационная ошибка: 0.117, Валидационная точность: 0.978\n"
          ]
        }
      ],
      "source": [
        "start_time = time.time()\n",
        "\n",
        "train_losses, train_accs, val_losses, val_accs = train_model(\n",
        "    mlp_model,\n",
        "    train_data,\n",
        "    val_data,\n",
        "    loss=cross_entropy_loss,\n",
        "    acc=accuracy,\n",
        "    optimizer=Adam(),\n",
        "    epochs=10,\n",
        ")\n",
        "\n",
        "training_time_1 = time.time() - start_time\n",
        "print(\"--- %s seconds ---\" % (training_time_1))"
      ]
    },
    {
      "cell_type": "code",
      "execution_count": null,
      "metadata": {
        "id": "XPKjdi9bBRSy"
      },
      "outputs": [],
      "source": [
        "def plot_metrics(train_losses, val_losses, metric_name):\n",
        "    epochs = range(1, len(train_losses) + 1)\n",
        "\n",
        "    plt.plot(epochs, train_losses, \"b\", label=\"Training\")\n",
        "    plt.plot(epochs, val_losses, \"r\", label=\"Validation\")\n",
        "\n",
        "    plt.title(metric_name)\n",
        "    plt.xlabel(\"Epochs\")\n",
        "    plt.ylabel(\"Loss\")\n",
        "    plt.legend()"
      ]
    },
    {
      "cell_type": "code",
      "execution_count": null,
      "metadata": {
        "id": "57eI_jBzBRSy",
        "outputId": "6cef2d24-8c5f-420f-ec6f-0ef9d214b673"
      },
      "outputs": [
        {
          "data": {
            "image/png": "[encoded data removed]",
            "text/plain": [
              "<Figure size 900x600 with 1 Axes>"
            ]
          },
          "metadata": {},
          "output_type": "display_data"
        }
      ],
      "source": [
        "plot_metrics(train_losses, val_losses, \"Ошибка перекрестной энтропии\")"
      ]
    },
    {
      "cell_type": "code",
      "execution_count": null,
      "metadata": {},
      "outputs": [],
      "source": [
        "plot_metrics(train_accs, val_accs, \"точность\")"
      ]
    },
    {
      "cell_type": "code",
      "execution_count": null,
      "metadata": {
        "id": "j3bJi4xoBRSy"
      },
      "outputs": [],
      "source": [
        "# Сохранение модели\n",
        "class ExportModule(tf.Module):\n",
        "    def __init__(self, model, preprocess, class_pred):\n",
        "        # Инициализация функций предобработки и постобработки\n",
        "        self.model = model\n",
        "        self.preprocess = preprocess\n",
        "        self.class_pred = class_pred\n",
        "\n",
        "    @tf.function(\n",
        "        input_signature=[tf.TensorSpec(shape=[None, None, None, None], dtype=tf.uint8)]\n",
        "    )\n",
        "    def __call__(self, x):\n",
        "        # Запускаем модуль экспорта для получения новых точек данных\n",
        "        x = self.preprocess(x)\n",
        "        y = self.model(x)\n",
        "        y = self.class_pred(y)\n",
        "        return y\n",
        "\n",
        "\n",
        "def preprocess_test(x):\n",
        "    # Модуль экспорта принимает необработанные и немаркированные данные\n",
        "    x = tf.reshape(x, shape=[-1, 784])\n",
        "    x = x / 255\n",
        "    return x\n",
        "\n",
        "\n",
        "def class_pred_test(y):\n",
        "    # Сгенерируем прогнозы классов на основе выходных данных MLP\n",
        "    return tf.argmax(tf.nn.softmax(y), axis=1)"
      ]
    },
    {
      "cell_type": "code",
      "execution_count": null,
      "metadata": {
        "id": "3-OTr5iCBRSy"
      },
      "outputs": [],
      "source": [
        "mlp_model_export = ExportModule(\n",
        "    model=mlp_model, preprocess=preprocess_test, class_pred=class_pred_test\n",
        ")\n",
        "\n",
        "models = tempfile.mkdtemp()\n",
        "save_path = os.path.join(models, \"mlp_model_export\")\n",
        "\n",
        "tf.saved_model.save(mlp_model_export, save_path)\n",
        "mlp_loaded = tf.saved_model.load(save_path)"
      ]
    },
    {
      "cell_type": "code",
      "execution_count": null,
      "metadata": {},
      "outputs": [],
      "source": [
        "def accuracy_score(y_pred, y):\n",
        "    # Общая функция точности\n",
        "    is_equal = tf.equal(y_pred, y)\n",
        "    return tf.reduce_mean(tf.cast(is_equal, tf.float32))"
      ]
    },
    {
      "cell_type": "code",
      "execution_count": null,
      "metadata": {
        "id": "JoqDcQf4BRSz",
        "outputId": "2b1a6918-3586-46e5-cf09-1a87283e2332"
      },
      "outputs": [
        {
          "name": "stdout",
          "output_type": "stream",
          "text": [
            "Точность на тестовой выборке: 0.977\n"
          ]
        }
      ],
      "source": [
        "test_classes = mlp_loaded(x_test)\n",
        "test_acc = accuracy_score(test_classes, y_test)\n",
        "print(f\"Точность на тестовой выборке: {test_acc:.3f}\")"
      ]
    },
    {
      "cell_type": "code",
      "execution_count": null,
      "metadata": {
        "id": "4HOYdHLkBRSz",
        "outputId": "32a38715-0491-4309-a4d6-e90c3f100361"
      },
      "outputs": [
        {
          "name": "stdout",
          "output_type": "stream",
          "text": [
            "Точность с разбивкой по цифрам :\n",
            "---------------------------\n",
            "Цифра 2: 0.965\n",
            "Цифра 0: 0.970\n",
            "Цифра 4: 0.970\n",
            "Цифра 9: 0.972\n",
            "Цифра 5: 0.974\n",
            "Цифра 7: 0.977\n",
            "Цифра 6: 0.983\n",
            "Цифра 8: 0.986\n",
            "Цифра 3: 0.987\n",
            "Цифра 1: 0.988\n"
          ]
        }
      ],
      "source": [
        "def accs_by_number(y_pred, y):\n",
        "    print(\"Точность с разбивкой по цифрам :\")\n",
        "    print(\"---------------------------\")\n",
        "    label_accs = {}\n",
        "    for label in range(10):\n",
        "        label_ind = y == label\n",
        "\n",
        "        # extract predictions for specific true label\n",
        "        pred_label = y_pred[label_ind]\n",
        "        labels = y[label_ind]\n",
        "\n",
        "        # compute class-wise accuracy\n",
        "        label_accs[label] = accuracy_score(pred_label, labels).numpy()\n",
        "    \n",
        "    return label_accs"
      ]
    },
    {
      "cell_type": "code",
      "execution_count": null,
      "metadata": {},
      "outputs": [],
      "source": [
        "label_access = accs_by_number(test_classes, y_test)\n",
        "\n",
        "for key in label_access.keys():\n",
        "    print(f\"Цифра {key}: {label_access[key]:.3f}\")"
      ]
    },
    {
      "cell_type": "code",
      "execution_count": null,
      "metadata": {
        "id": "73biP2XzBRSz",
        "outputId": "b7bd4131-c4b7-498a-9dfb-fa79524f574b"
      },
      "outputs": [
        {
          "data": {
            "image/png": "[encoded data removed]",
            "text/plain": [
              "<Figure size 1000x1000 with 2 Axes>"
            ]
          },
          "metadata": {},
          "output_type": "display_data"
        }
      ],
      "source": [
        "import sklearn.metrics as sk_metrics\n",
        "def show_confusion_matrix(test_labels, test_classes):\n",
        "    # Вычисление матрицы ошибок и ее нормализация\n",
        "    plt.figure(figsize=(10, 10))\n",
        "    confusion = sk_metrics.confusion_matrix(test_labels.numpy(), test_classes.numpy())\n",
        "    confusion_normalized = confusion / confusion.sum(axis=1, keepdims=True)\n",
        "    axis_labels = range(10)\n",
        "    ax = sns.heatmap(\n",
        "        confusion_normalized,\n",
        "        xticklabels=axis_labels,\n",
        "        yticklabels=axis_labels,\n",
        "        cmap=\"Blues\",\n",
        "        annot=True,\n",
        "        fmt=\".4f\",\n",
        "        square=True,\n",
        "    )\n",
        "    plt.title(\"Матрица ошибок\")\n",
        "    plt.ylabel(\"Истинные метки\")\n",
        "    plt.xlabel(\"Предсказанные метки\")\n",
        "\n",
        "\n",
        "show_confusion_matrix(y_test, test_classes)"
      ]
    },
    {
      "cell_type": "markdown",
      "metadata": {},
      "source": [
        "---\n",
        "1.2\n",
        "---"
      ]
    },
    {
      "cell_type": "code",
      "execution_count": null,
      "metadata": {
        "id": "rk_dKVc7BRSz"
      },
      "outputs": [],
      "source": [
        "# Создание модели нейронной сети\n",
        "mlp_model_2 = MLP(\n",
        "    [\n",
        "        DenseLayer(out_dim=750, activation=tf.nn.relu),\n",
        "        DenseLayer(out_dim=500, activation=tf.nn.relu),\n",
        "        DenseLayer(out_dim=250, activation=tf.nn.relu),\n",
        "        DenseLayer(out_dim=10),\n",
        "    ]\n",
        ")"
      ]
    },
    {
      "cell_type": "code",
      "execution_count": null,
      "metadata": {
        "id": "7SaCSZ-wBRSz"
      },
      "outputs": [],
      "source": [
        "start_time = time.time()\n",
        "train_losses_2, train_accs_2, val_losses_2, val_accs_2 = train_model(\n",
        "    mlp_model_2,\n",
        "    train_data,\n",
        "    val_data,\n",
        "    loss=cross_entropy_loss,\n",
        "    acc=accuracy,\n",
        "    optimizer=Adam(),\n",
        "    epochs=10,\n",
        ")\n",
        "\n",
        "training_time_2 = time.time() - start_time\n",
        "print(\"--- %s seconds ---\" % (training_time_2))"
      ]
    },
    {
      "cell_type": "code",
      "execution_count": null,
      "metadata": {},
      "outputs": [],
      "source": [
        "mlp_model_export_2 = ExportModule(\n",
        "    model=mlp_model_2, preprocess=preprocess_test, class_pred=class_pred_test\n",
        ")\n",
        "\n",
        "models = tempfile.mkdtemp()\n",
        "save_path = os.path.join(models, \"mlp_model_export\")\n",
        "\n",
        "tf.saved_model.save(mlp_model_export_2, save_path)\n",
        "mlp_loaded_2 = tf.saved_model.load(save_path)"
      ]
    },
    {
      "cell_type": "code",
      "execution_count": null,
      "metadata": {
        "id": "aAHxmrAABRSz"
      },
      "outputs": [],
      "source": [
        "test_classes_2 = mlp_loaded_2(x_test)\n",
        "test_acc_2 = accuracy_score(test_classes_2, y_test)\n",
        "print(f\"Точность на тестовой выборке: {test_acc_2:.3f}\")"
      ]
    },
    {
      "cell_type": "code",
      "execution_count": null,
      "metadata": {
        "id": "LrY0I1csBRSz"
      },
      "outputs": [],
      "source": [
        "label_access_2 = accs_by_number(test_classes_2, y_test)\n",
        "\n",
        "for key in label_access_2.keys():\n",
        "    print(f\"Цифра {key}: {label_access_2[key]:.3f}\")"
      ]
    },
    {
      "cell_type": "code",
      "execution_count": null,
      "metadata": {
        "id": "D-Mkvi1TBRSz"
      },
      "outputs": [],
      "source": [
        "show_confusion_matrix(y_test, test_classes_2)"
      ]
    },
    {
      "cell_type": "markdown",
      "metadata": {},
      "source": [
        "Результат\n",
        "---"
      ]
    },
    {
      "cell_type": "code",
      "execution_count": null,
      "metadata": {},
      "outputs": [],
      "source": [
        "for key in range(10):\n",
        "    print(f\"Цифра {key} - было:{label_access[key]:.3f}, стало:{label_access_2[key]:.3f}\")"
      ]
    },
    {
      "cell_type": "code",
      "execution_count": null,
      "metadata": {},
      "outputs": [],
      "source": [
        "print(f\"Время обучения модели:\\n было:{training_time_1:.3f} секунд\\n стало:{training_time_2:.3f} секунд\")"
      ]
    },
    {
      "cell_type": "markdown",
      "metadata": {},
      "source": [
        "---\n",
        "\n",
        "# Задание 2\n",
        "\n",
        "---"
      ]
    },
    {
      "cell_type": "code",
      "execution_count": 4,
      "metadata": {
        "colab": {
          "base_uri": "https://localhost:8080/",
          "height": 140,
          "referenced_widgets": [
            "d875ad9a5fb147f6ab3a57f0cb9bddec",
            "8bd4b6c07fb54a76a8b319119cbc0e34",
            "d44efc429f414826bace9295f2517a8a",
            "955e30d1d7c84086aa0eae579d055e37",
            "cf7d0c6a205540898c03a2227216a4ff",
            "3e0e95e0ef2446a7ad5b8493e46c7061",
            "9541246ec1c84b79b3655edde0c744cf",
            "e2d3c9531e154ed2b588f8f9ebba46d7",
            "69cecd42b1634f808e4c2d2830a4314c",
            "bb2a3aea760c40a7b5def7c0d33785ec",
            "ce5b36e934a6431399aa1adc522f4aba"
          ]
        },
        "id": "YHTGHqWNBRSz",
        "outputId": "5c696d00-aa51-49ef-f6f1-914103d99960"
      },
      "outputs": [
        {
          "name": "stderr",
          "output_type": "stream",
          "text": [
            "WARNING:absl:You use TensorFlow DType <dtype: 'string'> in tfds.features This will soon be deprecated in favor of NumPy DTypes. In the meantime it was converted to object.\n",
            "WARNING:absl:You use TensorFlow DType <dtype: 'int32'> in tfds.features This will soon be deprecated in favor of NumPy DTypes. In the meantime it was converted to int32.\n"
          ]
        },
        {
          "name": "stdout",
          "output_type": "stream",
          "text": [
            "Downloading and preparing dataset 4.76 GiB (download: 4.76 GiB, generated: 2.33 GiB, total: 7.10 GiB) to /root/tensorflow_datasets/groove/full-16000hz/2.0.1...\n"
          ]
        },
        {
          "data": {
            "application/vnd.jupyter.widget-view+json": {
              "model_id": "d875ad9a5fb147f6ab3a57f0cb9bddec",
              "version_major": 2,
              "version_minor": 0
            },
            "text/plain": [
              "Dl Completed...:   0%|          | 0/29 [00:00<?, ? file/s]"
            ]
          },
          "metadata": {},
          "output_type": "display_data"
        },
        {
          "name": "stdout",
          "output_type": "stream",
          "text": [
            "Dataset groove downloaded and prepared to /root/tensorflow_datasets/groove/full-16000hz/2.0.1. Subsequent calls will reuse this data.\n"
          ]
        }
      ],
      "source": [
        "import os\n",
        "import tempfile\n",
        "\n",
        "import matplotlib\n",
        "import pandas as pd\n",
        "import seaborn as sns\n",
        "import tensorflow as tf\n",
        "import tensorflow_datasets as tfds\n",
        "from matplotlib import pyplot as plt\n",
        "import tensorflow as tf\n",
        "import matplotlib.pyplot as plt\n",
        "import numpy as np\n",
        "\n",
        "# Загрузка набора данных groove\n",
        "_train_dataset, _val_dataset, _test_dataset = tfds.load(\n",
        "    \"groove/full-16000hz\", split=[\"train\", \"validation\", \"test\"]\n",
        ")"
      ]
    },
    {
      "cell_type": "code",
      "execution_count": 5,
      "metadata": {
        "colab": {
          "base_uri": "https://localhost:8080/",
          "height": 472
        },
        "id": "7ZwBAurvCceX",
        "outputId": "8b4336e4-adbc-4eb8-9e98-27e0af1b750a"
      },
      "outputs": [
        {
          "data": {
            "image/png": "[encoded data removed]",
            "text/plain": [
              "<Figure size 640x480 with 1 Axes>"
            ]
          },
          "metadata": {},
          "output_type": "display_data"
        }
      ],
      "source": [
        "def extract_bpm(dataset):\n",
        "    bpm_values = []\n",
        "    for data in dataset:\n",
        "        bpm = data[\"bpm\"].numpy()\n",
        "        bpm_values.append(bpm)\n",
        "    return bpm_values\n",
        "\n",
        "\n",
        "bpm_train = extract_bpm(_train_dataset)\n",
        "\n",
        "plt.hist(bpm_train, bins=20, edgecolor=\"black\")\n",
        "plt.title(\"BPM Distribution in Training Dataset\")\n",
        "plt.xlabel(\"BPM\")\n",
        "plt.ylabel(\"Frequency\")\n",
        "plt.show()"
      ]
    },
    {
      "cell_type": "code",
      "execution_count": 53,
      "metadata": {
        "colab": {
          "base_uri": "https://localhost:8080/"
        },
        "id": "JNRW8ibarhY1",
        "outputId": "0740475b-a0c9-4a5d-fd2b-4ff78d8d6612"
      },
      "outputs": [
        {
          "name": "stdout",
          "output_type": "stream",
          "text": [
            "Counter({120: 68, 95: 64, 100: 58, 140: 42, 125: 38, 92: 35, 93: 34, 105: 32, 110: 31, 112: 31, 116: 31, 128: 26, 130: 25, 122: 25, 144: 21, 78: 19, 70: 18, 114: 16, 84: 15, 75: 15, 115: 14, 118: 13, 67: 13, 90: 12, 83: 10, 60: 10, 96: 9, 148: 8, 98: 8, 135: 7, 215: 7, 94: 6, 145: 6, 63: 6, 104: 6, 102: 5, 86: 5, 80: 5, 108: 4, 124: 4, 142: 4, 88: 4, 101: 3, 132: 3, 127: 2, 180: 2, 89: 2, 134: 2, 170: 2, 200: 2, 126: 2, 82: 2, 185: 1, 64: 1, 50: 1, 99: 1, 87: 1, 176: 1, 152: 1, 72: 1, 136: 1, 162: 1, 290: 1, 117: 1, 182: 1, 158: 1})\n"
          ]
        }
      ],
      "source": [
        "from collections import Counter\n",
        "\n",
        "cnt_bpm_dict = Counter(bpm_train)\n",
        "print(cnt_bpm_dict)"
      ]
    },
    {
      "cell_type": "code",
      "execution_count": 6,
      "metadata": {
        "id": "J3K7pTb1C4KO"
      },
      "outputs": [],
      "source": [
        "def preprocess(data):\n",
        "    # Преобразование аудио в спектрограмму\n",
        "    audio = data[\"audio\"]\n",
        "    spectrogram = tf.signal.stft(audio, frame_length=256, frame_step=128)\n",
        "    spectrogram = tf.abs(spectrogram)\n",
        "\n",
        "    # Добавление одного измерения\n",
        "    spectrogram = tf.expand_dims(spectrogram, axis=-1)\n",
        "\n",
        "    # Приведение спектрограмм к фиксированному размеру\n",
        "    spectrogram = tf.image.resize(spectrogram, [128, 129])\n",
        "\n",
        "    return spectrogram, data[\"bpm\"]"
      ]
    },
    {
      "cell_type": "code",
      "execution_count": 7,
      "metadata": {
        "id": "nEsRRwQzDNb8"
      },
      "outputs": [],
      "source": [
        "train_dataset = (\n",
        "    _train_dataset.map(preprocess).batch(32).prefetch(tf.data.experimental.AUTOTUNE)\n",
        ")\n",
        "val_dataset = (\n",
        "    _val_dataset.map(preprocess).batch(32).prefetch(tf.data.experimental.AUTOTUNE)\n",
        ")\n",
        "test_dataset = (\n",
        "    _test_dataset.map(preprocess).batch(32).prefetch(tf.data.experimental.AUTOTUNE)\n",
        ")"
      ]
    },
    {
      "cell_type": "code",
      "execution_count": 8,
      "metadata": {
        "id": "rUx8s8SGDvLZ"
      },
      "outputs": [],
      "source": [
        "model = tf.keras.Sequential(\n",
        "    [\n",
        "        tf.keras.layers.Input(shape=(None, 129)),\n",
        "        tf.keras.layers.Conv1D(filters=32, kernel_size=3, activation=\"relu\"),\n",
        "        tf.keras.layers.MaxPooling1D(pool_size=2),\n",
        "        tf.keras.layers.GlobalAveragePooling1D(),\n",
        "        tf.keras.layers.Dense(64, activation=\"relu\"),\n",
        "        tf.keras.layers.Dense(1),\n",
        "    ]\n",
        ")"
      ]
    },
    {
      "cell_type": "code",
      "execution_count": 29,
      "metadata": {
        "id": "Z8MKTWa_E3pA"
      },
      "outputs": [],
      "source": [
        "model.compile(optimizer=\"adam\", loss=\"mse\", metrics=[\"mae\"])"
      ]
    },
    {
      "cell_type": "code",
      "execution_count": 48,
      "metadata": {
        "colab": {
          "base_uri": "https://localhost:8080/"
        },
        "id": "-fiNnzKEE9Bg",
        "outputId": "473266c2-b546-4022-c3b9-0de9938b2ce0"
      },
      "outputs": [
        {
          "name": "stdout",
          "output_type": "stream",
          "text": [
            "Epoch 1/100\n",
            "27/27 [==============================] - 11s 407ms/step - loss: 147.5756 - mae: 9.6041 - val_loss: 981.4283 - val_mae: 26.5483\n",
            "Epoch 2/100\n",
            "27/27 [==============================] - 9s 317ms/step - loss: 133.6661 - mae: 9.1482 - val_loss: 538.6220 - val_mae: 18.5500\n",
            "Epoch 3/100\n",
            "27/27 [==============================] - 8s 248ms/step - loss: 145.4099 - mae: 9.4627 - val_loss: 525.9537 - val_mae: 17.7904\n",
            "Epoch 4/100\n",
            "27/27 [==============================] - 10s 356ms/step - loss: 137.0762 - mae: 9.0688 - val_loss: 490.5637 - val_mae: 16.6462\n",
            "Epoch 5/100\n",
            "27/27 [==============================] - 10s 339ms/step - loss: 143.6280 - mae: 9.5209 - val_loss: 620.5291 - val_mae: 20.4007\n",
            "Epoch 6/100\n",
            "27/27 [==============================] - 8s 258ms/step - loss: 149.5823 - mae: 9.5438 - val_loss: 533.4031 - val_mae: 17.9069\n",
            "Epoch 7/100\n",
            "27/27 [==============================] - 8s 295ms/step - loss: 144.5173 - mae: 9.4197 - val_loss: 704.7560 - val_mae: 22.0690\n",
            "Epoch 8/100\n",
            "27/27 [==============================] - 8s 290ms/step - loss: 145.3771 - mae: 9.5156 - val_loss: 490.2939 - val_mae: 16.7084\n",
            "Epoch 9/100\n",
            "27/27 [==============================] - 8s 257ms/step - loss: 141.4502 - mae: 9.2358 - val_loss: 3231.0891 - val_mae: 41.8650\n",
            "Epoch 10/100\n",
            "27/27 [==============================] - 10s 340ms/step - loss: 140.4407 - mae: 9.3318 - val_loss: 778.5361 - val_mae: 22.9110\n",
            "Epoch 11/100\n",
            "27/27 [==============================] - 8s 282ms/step - loss: 121.7151 - mae: 8.5749 - val_loss: 1390.1152 - val_mae: 32.5275\n",
            "Epoch 12/100\n",
            "27/27 [==============================] - 9s 318ms/step - loss: 133.5516 - mae: 9.0922 - val_loss: 684.0207 - val_mae: 21.0298\n",
            "Epoch 13/100\n",
            "27/27 [==============================] - 8s 254ms/step - loss: 152.6557 - mae: 9.6297 - val_loss: 961.9112 - val_mae: 25.3098\n",
            "Epoch 14/100\n",
            "27/27 [==============================] - 9s 303ms/step - loss: 161.3924 - mae: 9.8815 - val_loss: 1762.0200 - val_mae: 36.8754\n",
            "Epoch 15/100\n",
            "27/27 [==============================] - 8s 282ms/step - loss: 147.7162 - mae: 9.4536 - val_loss: 954.8618 - val_mae: 26.4735\n",
            "Epoch 16/100\n",
            "27/27 [==============================] - 8s 238ms/step - loss: 134.6083 - mae: 9.1601 - val_loss: 19729.5078 - val_mae: 103.5229\n",
            "Epoch 17/100\n",
            "27/27 [==============================] - 9s 305ms/step - loss: 140.5086 - mae: 9.2737 - val_loss: 1526.3286 - val_mae: 33.0274\n",
            "Epoch 18/100\n",
            "27/27 [==============================] - 7s 239ms/step - loss: 126.5446 - mae: 8.7806 - val_loss: 7011.4702 - val_mae: 68.3946\n",
            "Epoch 19/100\n",
            "27/27 [==============================] - 8s 260ms/step - loss: 122.9544 - mae: 8.5922 - val_loss: 798.8118 - val_mae: 20.4082\n",
            "Epoch 20/100\n",
            "27/27 [==============================] - 9s 319ms/step - loss: 131.9361 - mae: 8.8530 - val_loss: 1226.9214 - val_mae: 28.1720\n",
            "Epoch 21/100\n",
            "27/27 [==============================] - 8s 284ms/step - loss: 119.3939 - mae: 8.4954 - val_loss: 987.3119 - val_mae: 25.0293\n",
            "Epoch 22/100\n",
            "27/27 [==============================] - 7s 248ms/step - loss: 112.5510 - mae: 8.3201 - val_loss: 813.9240 - val_mae: 21.4759\n",
            "Epoch 23/100\n",
            "27/27 [==============================] - 8s 257ms/step - loss: 116.8011 - mae: 8.5776 - val_loss: 1379.1643 - val_mae: 31.4389\n",
            "Epoch 24/100\n",
            "27/27 [==============================] - 9s 303ms/step - loss: 125.9931 - mae: 8.7187 - val_loss: 918.2748 - val_mae: 24.1721\n",
            "Epoch 25/100\n",
            "27/27 [==============================] - 8s 257ms/step - loss: 101.7093 - mae: 7.9043 - val_loss: 868.8796 - val_mae: 24.0292\n",
            "Epoch 26/100\n",
            "27/27 [==============================] - 8s 267ms/step - loss: 105.7904 - mae: 7.9778 - val_loss: 1127.2483 - val_mae: 27.4060\n",
            "Epoch 27/100\n",
            "27/27 [==============================] - 8s 291ms/step - loss: 109.8345 - mae: 8.3550 - val_loss: 607.7897 - val_mae: 19.0313\n",
            "Epoch 28/100\n",
            "27/27 [==============================] - 7s 255ms/step - loss: 110.2945 - mae: 8.1358 - val_loss: 869.0613 - val_mae: 24.3167\n",
            "Epoch 29/100\n",
            "27/27 [==============================] - 8s 282ms/step - loss: 104.4248 - mae: 8.0475 - val_loss: 744.4811 - val_mae: 21.4980\n",
            "Epoch 30/100\n",
            "27/27 [==============================] - 9s 314ms/step - loss: 101.7461 - mae: 7.9084 - val_loss: 1048.7700 - val_mae: 28.0443\n",
            "Epoch 31/100\n",
            "27/27 [==============================] - 8s 258ms/step - loss: 126.0041 - mae: 8.7201 - val_loss: 933.0060 - val_mae: 25.5295\n",
            "Epoch 32/100\n",
            "27/27 [==============================] - 8s 238ms/step - loss: 108.4335 - mae: 8.0534 - val_loss: 1313.7682 - val_mae: 31.0994\n",
            "Epoch 33/100\n",
            "27/27 [==============================] - 9s 320ms/step - loss: 116.7623 - mae: 8.3253 - val_loss: 742.3411 - val_mae: 21.9639\n",
            "Epoch 34/100\n",
            "27/27 [==============================] - 7s 248ms/step - loss: 95.3591 - mae: 7.6311 - val_loss: 1006.7672 - val_mae: 26.9563\n",
            "Epoch 35/100\n",
            "27/27 [==============================] - 9s 287ms/step - loss: 86.8663 - mae: 7.2596 - val_loss: 1164.1857 - val_mae: 29.1486\n",
            "Epoch 36/100\n",
            "27/27 [==============================] - 9s 329ms/step - loss: 101.6327 - mae: 7.7533 - val_loss: 553.6091 - val_mae: 18.7827\n",
            "Epoch 37/100\n",
            "27/27 [==============================] - 7s 251ms/step - loss: 98.0353 - mae: 7.8020 - val_loss: 728.7122 - val_mae: 20.5129\n",
            "Epoch 38/100\n",
            "27/27 [==============================] - 9s 295ms/step - loss: 92.7584 - mae: 7.4157 - val_loss: 1294.1836 - val_mae: 30.8621\n",
            "Epoch 39/100\n",
            "27/27 [==============================] - 9s 311ms/step - loss: 96.4923 - mae: 7.7777 - val_loss: 1139.8312 - val_mae: 28.2506\n",
            "Epoch 40/100\n",
            "27/27 [==============================] - 7s 255ms/step - loss: 106.0557 - mae: 7.8986 - val_loss: 2740.0466 - val_mae: 43.7293\n",
            "Epoch 41/100\n",
            "27/27 [==============================] - 9s 292ms/step - loss: 99.7157 - mae: 7.7008 - val_loss: 696.7451 - val_mae: 20.4685\n",
            "Epoch 42/100\n",
            "27/27 [==============================] - 7s 242ms/step - loss: 93.0629 - mae: 7.5068 - val_loss: 1014.3005 - val_mae: 26.0383\n",
            "Epoch 43/100\n",
            "27/27 [==============================] - 8s 249ms/step - loss: 92.3318 - mae: 7.4542 - val_loss: 676.5639 - val_mae: 19.6781\n",
            "Epoch 44/100\n",
            "27/27 [==============================] - 9s 295ms/step - loss: 99.7053 - mae: 7.6962 - val_loss: 659.4290 - val_mae: 19.2139\n",
            "Epoch 45/100\n",
            "27/27 [==============================] - 7s 250ms/step - loss: 102.5520 - mae: 7.8194 - val_loss: 1119.7656 - val_mae: 27.0067\n",
            "Epoch 46/100\n",
            "27/27 [==============================] - 7s 253ms/step - loss: 94.9133 - mae: 7.5658 - val_loss: 902.3395 - val_mae: 22.0633\n",
            "Epoch 47/100\n",
            "27/27 [==============================] - 10s 334ms/step - loss: 99.4151 - mae: 7.7049 - val_loss: 1637.0668 - val_mae: 35.3048\n",
            "Epoch 48/100\n",
            "27/27 [==============================] - 10s 341ms/step - loss: 103.1439 - mae: 7.8340 - val_loss: 1768.1508 - val_mae: 36.8638\n",
            "Epoch 49/100\n",
            "27/27 [==============================] - 7s 250ms/step - loss: 93.6363 - mae: 7.4144 - val_loss: 1794.1371 - val_mae: 37.1110\n",
            "Epoch 50/100\n",
            "27/27 [==============================] - 9s 303ms/step - loss: 101.7166 - mae: 7.7956 - val_loss: 1310.3523 - val_mae: 30.7973\n",
            "Epoch 51/100\n",
            "27/27 [==============================] - 10s 349ms/step - loss: 93.6743 - mae: 7.4041 - val_loss: 1118.7930 - val_mae: 28.0440\n",
            "Epoch 52/100\n",
            "27/27 [==============================] - 8s 267ms/step - loss: 87.3166 - mae: 7.3058 - val_loss: 1064.6747 - val_mae: 27.3904\n",
            "Epoch 53/100\n",
            "27/27 [==============================] - 9s 305ms/step - loss: 80.8962 - mae: 6.9312 - val_loss: 1162.7843 - val_mae: 28.8318\n",
            "Epoch 54/100\n",
            "27/27 [==============================] - 10s 342ms/step - loss: 82.0433 - mae: 7.0429 - val_loss: 1032.9517 - val_mae: 26.8425\n",
            "Epoch 55/100\n",
            "27/27 [==============================] - 7s 248ms/step - loss: 78.0522 - mae: 6.9178 - val_loss: 1459.2078 - val_mae: 33.0164\n",
            "Epoch 56/100\n",
            "27/27 [==============================] - 9s 310ms/step - loss: 91.6708 - mae: 7.3912 - val_loss: 685.1454 - val_mae: 20.1873\n",
            "Epoch 57/100\n",
            "27/27 [==============================] - 8s 258ms/step - loss: 80.8044 - mae: 7.0364 - val_loss: 913.5784 - val_mae: 24.4287\n",
            "Epoch 58/100\n",
            "27/27 [==============================] - 8s 260ms/step - loss: 78.4960 - mae: 6.9246 - val_loss: 1016.1603 - val_mae: 26.6246\n",
            "Epoch 59/100\n",
            "27/27 [==============================] - 9s 303ms/step - loss: 82.7822 - mae: 6.8988 - val_loss: 725.7444 - val_mae: 22.1798\n",
            "Epoch 60/100\n",
            "27/27 [==============================] - 8s 287ms/step - loss: 89.6694 - mae: 7.1449 - val_loss: 1631.8679 - val_mae: 35.6085\n",
            "Epoch 61/100\n",
            "27/27 [==============================] - 7s 253ms/step - loss: 77.4854 - mae: 6.7807 - val_loss: 1498.0852 - val_mae: 33.9179\n",
            "Epoch 62/100\n",
            "27/27 [==============================] - 8s 266ms/step - loss: 77.9722 - mae: 6.7546 - val_loss: 1795.8430 - val_mae: 37.6594\n",
            "Epoch 63/100\n",
            "27/27 [==============================] - 8s 238ms/step - loss: 78.5062 - mae: 7.0226 - val_loss: 1255.6799 - val_mae: 30.5922\n",
            "Epoch 64/100\n",
            "27/27 [==============================] - 8s 290ms/step - loss: 82.4043 - mae: 6.8365 - val_loss: 875.5762 - val_mae: 24.4965\n",
            "Epoch 65/100\n",
            "27/27 [==============================] - 8s 273ms/step - loss: 72.0936 - mae: 6.6692 - val_loss: 1109.0912 - val_mae: 28.0581\n",
            "Epoch 66/100\n",
            "27/27 [==============================] - 9s 298ms/step - loss: 74.5876 - mae: 6.4678 - val_loss: 1356.7507 - val_mae: 31.7896\n",
            "Epoch 67/100\n",
            "27/27 [==============================] - 9s 320ms/step - loss: 74.0971 - mae: 6.5654 - val_loss: 709.1746 - val_mae: 20.4002\n",
            "Epoch 68/100\n",
            "27/27 [==============================] - 8s 265ms/step - loss: 67.7291 - mae: 6.3698 - val_loss: 1833.4476 - val_mae: 38.2627\n",
            "Epoch 69/100\n",
            "27/27 [==============================] - 9s 277ms/step - loss: 72.1952 - mae: 6.5952 - val_loss: 1378.5143 - val_mae: 31.6444\n",
            "Epoch 70/100\n",
            "27/27 [==============================] - 9s 302ms/step - loss: 68.8734 - mae: 6.3788 - val_loss: 1178.6544 - val_mae: 28.9334\n",
            "Epoch 71/100\n",
            "27/27 [==============================] - 9s 312ms/step - loss: 78.4088 - mae: 6.6961 - val_loss: 6335.8599 - val_mae: 62.5807\n",
            "Epoch 72/100\n",
            "27/27 [==============================] - 8s 262ms/step - loss: 79.5222 - mae: 6.6665 - val_loss: 914.7206 - val_mae: 23.7171\n",
            "Epoch 73/100\n",
            "27/27 [==============================] - 8s 257ms/step - loss: 79.0124 - mae: 6.8701 - val_loss: 1402.5521 - val_mae: 32.1452\n",
            "Epoch 74/100\n",
            "27/27 [==============================] - 9s 297ms/step - loss: 69.3532 - mae: 6.3102 - val_loss: 1271.5659 - val_mae: 30.1913\n",
            "Epoch 75/100\n",
            "27/27 [==============================] - 10s 330ms/step - loss: 71.0919 - mae: 6.3520 - val_loss: 1252.2090 - val_mae: 27.5170\n",
            "Epoch 76/100\n",
            "27/27 [==============================] - 7s 244ms/step - loss: 69.8691 - mae: 6.3553 - val_loss: 4497.2358 - val_mae: 51.6421\n",
            "Epoch 77/100\n",
            "27/27 [==============================] - 8s 291ms/step - loss: 72.7288 - mae: 6.5490 - val_loss: 1503.5762 - val_mae: 32.1527\n",
            "Epoch 78/100\n",
            "27/27 [==============================] - 9s 326ms/step - loss: 68.9917 - mae: 6.1691 - val_loss: 1464.3425 - val_mae: 32.7264\n",
            "Epoch 79/100\n",
            "27/27 [==============================] - 7s 241ms/step - loss: 76.2095 - mae: 6.7523 - val_loss: 1945.9456 - val_mae: 39.6016\n",
            "Epoch 80/100\n",
            "27/27 [==============================] - 9s 306ms/step - loss: 71.4422 - mae: 6.2756 - val_loss: 1764.3640 - val_mae: 36.8283\n",
            "Epoch 81/100\n",
            "27/27 [==============================] - 10s 335ms/step - loss: 63.4962 - mae: 6.0134 - val_loss: 1599.6857 - val_mae: 34.8856\n",
            "Epoch 82/100\n",
            "27/27 [==============================] - 7s 238ms/step - loss: 54.2721 - mae: 5.6793 - val_loss: 1582.1544 - val_mae: 34.7205\n",
            "Epoch 83/100\n",
            "27/27 [==============================] - 9s 319ms/step - loss: 60.3535 - mae: 5.7778 - val_loss: 1264.2625 - val_mae: 30.2367\n",
            "Epoch 84/100\n",
            "27/27 [==============================] - 9s 321ms/step - loss: 65.3671 - mae: 6.0994 - val_loss: 1503.7168 - val_mae: 33.3208\n",
            "Epoch 85/100\n",
            "27/27 [==============================] - 7s 259ms/step - loss: 64.5774 - mae: 6.0008 - val_loss: 1440.7194 - val_mae: 33.0371\n",
            "Epoch 86/100\n",
            "27/27 [==============================] - 8s 274ms/step - loss: 63.7638 - mae: 6.1457 - val_loss: 1503.8151 - val_mae: 34.0027\n",
            "Epoch 87/100\n",
            "27/27 [==============================] - 8s 294ms/step - loss: 64.6074 - mae: 6.0444 - val_loss: 1181.0338 - val_mae: 29.6828\n",
            "Epoch 88/100\n",
            "27/27 [==============================] - 8s 260ms/step - loss: 69.7420 - mae: 6.3299 - val_loss: 918.8827 - val_mae: 25.5093\n",
            "Epoch 89/100\n",
            "27/27 [==============================] - 8s 268ms/step - loss: 73.0324 - mae: 6.5437 - val_loss: 1251.3306 - val_mae: 30.3180\n",
            "Epoch 90/100\n",
            "27/27 [==============================] - 9s 314ms/step - loss: 69.5234 - mae: 6.3991 - val_loss: 1794.7792 - val_mae: 37.7357\n",
            "Epoch 91/100\n",
            "27/27 [==============================] - 7s 250ms/step - loss: 59.3033 - mae: 5.8129 - val_loss: 1930.7194 - val_mae: 38.9501\n",
            "Epoch 92/100\n",
            "27/27 [==============================] - 8s 263ms/step - loss: 65.4628 - mae: 6.0855 - val_loss: 1147.2288 - val_mae: 27.8974\n",
            "Epoch 93/100\n",
            "27/27 [==============================] - 9s 329ms/step - loss: 60.0781 - mae: 5.7527 - val_loss: 1276.0607 - val_mae: 29.5355\n",
            "Epoch 94/100\n",
            "27/27 [==============================] - 9s 326ms/step - loss: 63.0255 - mae: 6.0970 - val_loss: 1362.4752 - val_mae: 31.6087\n",
            "Epoch 95/100\n",
            "27/27 [==============================] - 8s 257ms/step - loss: 59.3270 - mae: 5.9075 - val_loss: 1363.9907 - val_mae: 32.0066\n",
            "Epoch 96/100\n",
            "27/27 [==============================] - 9s 322ms/step - loss: 64.6974 - mae: 6.1036 - val_loss: 1520.9773 - val_mae: 33.9752\n",
            "Epoch 97/100\n",
            "27/27 [==============================] - 14s 510ms/step - loss: 56.7631 - mae: 5.6732 - val_loss: 896.0790 - val_mae: 22.7470\n",
            "Epoch 98/100\n",
            "27/27 [==============================] - 13s 385ms/step - loss: 65.9659 - mae: 6.3014 - val_loss: 1145.3160 - val_mae: 26.4991\n",
            "Epoch 99/100\n",
            "27/27 [==============================] - 9s 312ms/step - loss: 62.0471 - mae: 6.0318 - val_loss: 6868.2783 - val_mae: 64.6043\n",
            "Epoch 100/100\n",
            "27/27 [==============================] - 9s 313ms/step - loss: 54.0093 - mae: 5.6701 - val_loss: 1706.9080 - val_mae: 36.2037\n"
          ]
        }
      ],
      "source": [
        "history = model.fit(train_dataset, validation_data=val_dataset, epochs=100)"
      ]
    },
    {
      "cell_type": "code",
      "execution_count": 66,
      "metadata": {
        "colab": {
          "base_uri": "https://localhost:8080/"
        },
        "id": "hLYXaQ12vn57",
        "outputId": "449ae576-315c-452f-c534-797627fe2b66"
      },
      "outputs": [
        {
          "name": "stdout",
          "output_type": "stream",
          "text": [
            "54.00930404663086\n"
          ]
        }
      ],
      "source": [
        "print(history.history[\"loss\"][-1])"
      ]
    },
    {
      "cell_type": "code",
      "execution_count": null,
      "metadata": {
        "colab": {
          "base_uri": "https://localhost:8080/"
        },
        "id": "cAiqoIuKv4rQ",
        "outputId": "ab167702-76ff-4ad9-be22-e07241a5e065"
      },
      "outputs": [
        {
          "name": "stdout",
          "output_type": "stream",
          "text": [
            "Epoch 1/10\n",
            "27/27 [==============================] - 8s 277ms/step - loss: 59.2530 - mae: 5.9034 - val_loss: 1009.6219 - val_mae: 23.7990\n",
            "Epoch 2/10\n",
            "27/27 [==============================] - 7s 254ms/step - loss: 67.8278 - mae: 6.3018 - val_loss: 753.9171 - val_mae: 20.8668\n",
            "Epoch 3/10\n",
            "27/27 [==============================] - 8s 259ms/step - loss: 68.8957 - mae: 6.1205 - val_loss: 904.2274 - val_mae: 22.5364\n",
            "Epoch 4/10\n",
            "27/27 [==============================] - 9s 298ms/step - loss: 63.3458 - mae: 5.8131 - val_loss: 1691.9117 - val_mae: 35.5519\n",
            "Epoch 5/10\n",
            "27/27 [==============================] - 7s 234ms/step - loss: 66.9640 - mae: 6.2578 - val_loss: 2298.9243 - val_mae: 43.2816\n",
            "Epoch 6/10\n",
            "27/27 [==============================] - 9s 312ms/step - loss: 63.1231 - mae: 6.2522 - val_loss: 2450.9094 - val_mae: 45.0039\n",
            "Epoch 7/10\n",
            "27/27 [==============================] - 9s 319ms/step - loss: 70.9188 - mae: 6.4995 - val_loss: 1729.7574 - val_mae: 36.7441\n",
            "Epoch 8/10\n",
            "27/27 [==============================] - 8s 267ms/step - loss: 53.7567 - mae: 5.4506 - val_loss: 1510.2528 - val_mae: 33.3070\n",
            "Epoch 9/10\n",
            "27/27 [==============================] - 9s 292ms/step - loss: 53.9395 - mae: 5.5164 - val_loss: 1310.8267 - val_mae: 30.8550\n",
            "Epoch 10/10\n",
            "27/27 [==============================] - 9s 312ms/step - loss: 53.4240 - mae: 5.5301 - val_loss: 1458.2164 - val_mae: 32.8734\n",
            "Epoch 1/10\n",
            "27/27 [==============================] - 8s 269ms/step - loss: 54.7537 - mae: 5.5647 - val_loss: 1289.8956 - val_mae: 30.5333\n",
            "Epoch 2/10\n",
            "27/27 [==============================] - 8s 269ms/step - loss: 60.2710 - mae: 5.8820 - val_loss: 806.1772 - val_mae: 22.5392\n",
            "Epoch 3/10\n",
            "27/27 [==============================] - 9s 294ms/step - loss: 58.2792 - mae: 5.9147 - val_loss: 1326.4375 - val_mae: 31.2283\n",
            "Epoch 4/10\n",
            "27/27 [==============================] - 9s 302ms/step - loss: 52.8641 - mae: 5.5741 - val_loss: 1683.5022 - val_mae: 36.1499\n",
            "Epoch 5/10\n",
            "27/27 [==============================] - 7s 253ms/step - loss: 55.0093 - mae: 5.5937 - val_loss: 1478.7379 - val_mae: 32.9349\n",
            "Epoch 6/10\n",
            "27/27 [==============================] - 9s 315ms/step - loss: 60.8267 - mae: 5.7855 - val_loss: 1762.3226 - val_mae: 37.0064\n",
            "Epoch 7/10\n",
            "27/27 [==============================] - 9s 300ms/step - loss: 62.8551 - mae: 6.1091 - val_loss: 623.0088 - val_mae: 18.6380\n",
            "Epoch 8/10\n",
            "10/27 [==========>...................] - ETA: 3s - loss: 50.9869 - mae: 5.4246"
          ]
        }
      ],
      "source": [
        "while history.history[\"loss\"][-1] > 1:\n",
        "    history = model.fit(train_dataset, validation_data=val_dataset, epochs=10)"
      ]
    },
    {
      "cell_type": "code",
      "execution_count": 64,
      "metadata": {
        "colab": {
          "base_uri": "https://localhost:8080/",
          "height": 472
        },
        "id": "6TRkhbviFDaP",
        "outputId": "f73dfa19-474b-42ff-957b-55d3cc6c5061"
      },
      "outputs": [
        {
          "data": {
            "image/png": "[encoded data removed]",
            "text/plain": [
              "<Figure size 640x480 with 1 Axes>"
            ]
          },
          "metadata": {},
          "output_type": "display_data"
        }
      ],
      "source": [
        "plt.plot(history.history[\"loss\"], label=\"train_loss\")\n",
        "plt.plot(history.history[\"val_loss\"], label=\"val_loss\")\n",
        "plt.title(\"Ошибка перекрестной энтропии\")\n",
        "plt.xlabel(\"Эпохи\")\n",
        "plt.ylabel(\"Ошибки\")\n",
        "plt.legend()\n",
        "plt.show()"
      ]
    },
    {
      "cell_type": "code",
      "execution_count": 22,
      "metadata": {
        "id": "Dhn0P89hLW9k"
      },
      "outputs": [],
      "source": [
        "def get_bpm_predictions(dataset):\n",
        "    y_true = []\n",
        "    y_pred = []\n",
        "    for spectrogram, bpm in dataset:\n",
        "        preds = model.predict(spectrogram)\n",
        "        y_true.extend(bpm.numpy())\n",
        "        y_pred.extend(np.round(preds))  # Округление предсказанных значений\n",
        "    return y_true, y_pred"
      ]
    },
    {
      "cell_type": "code",
      "execution_count": 40,
      "metadata": {
        "colab": {
          "base_uri": "https://localhost:8080/"
        },
        "id": "w-QKSkqTLeXg",
        "outputId": "a4a98b6e-42fd-4457-d6b2-270abddea08d"
      },
      "outputs": [
        {
          "name": "stdout",
          "output_type": "stream",
          "text": [
            "1/1 [==============================] - 0s 47ms/step\n",
            "1/1 [==============================] - 0s 111ms/step\n",
            "1/1 [==============================] - 0s 69ms/step\n",
            "1/1 [==============================] - 0s 27ms/step\n"
          ]
        }
      ],
      "source": [
        "y_true, y_pred = get_bpm_predictions(test_dataset)"
      ]
    },
    {
      "cell_type": "code",
      "execution_count": 63,
      "metadata": {
        "colab": {
          "base_uri": "https://localhost:8080/"
        },
        "id": "uhH42istQ-iK",
        "outputId": "15072fbf-138a-432b-c949-11a5e6a4c6bd"
      },
      "outputs": [
        {
          "name": "stdout",
          "output_type": "stream",
          "text": [
            "BPM: 60, Accuracy: 0.00, Cnt: 1\n",
            "BPM: 63, Accuracy: 0.00, Cnt: 2\n",
            "BPM: 65, Accuracy: 0.00, Cnt: 4\n",
            "BPM: 67, Accuracy: 0.00, Cnt: 1\n",
            "BPM: 75, Accuracy: 0.00, Cnt: 2\n",
            "BPM: 78, Accuracy: 0.00, Cnt: 3\n",
            "BPM: 80, Accuracy: 0.00, Cnt: 4\n",
            "BPM: 83, Accuracy: 1.00, Cnt: 1\n",
            "BPM: 84, Accuracy: 0.33, Cnt: 6\n",
            "BPM: 86, Accuracy: 0.00, Cnt: 4\n",
            "BPM: 87, Accuracy: 0.75, Cnt: 4\n",
            "BPM: 90, Accuracy: 0.00, Cnt: 1\n",
            "BPM: 92, Accuracy: 0.00, Cnt: 3\n",
            "BPM: 93, Accuracy: 0.00, Cnt: 6\n",
            "BPM: 95, Accuracy: 0.60, Cnt: 5\n",
            "BPM: 96, Accuracy: 0.17, Cnt: 6\n",
            "BPM: 100, Accuracy: 0.43, Cnt: 7\n",
            "BPM: 102, Accuracy: 0.00, Cnt: 4\n",
            "BPM: 105, Accuracy: 0.18, Cnt: 11\n",
            "BPM: 108, Accuracy: 1.00, Cnt: 1\n",
            "BPM: 110, Accuracy: 0.00, Cnt: 1\n",
            "BPM: 112, Accuracy: 0.50, Cnt: 2\n",
            "BPM: 114, Accuracy: 0.00, Cnt: 4\n",
            "BPM: 116, Accuracy: 0.40, Cnt: 5\n",
            "BPM: 118, Accuracy: 0.00, Cnt: 1\n",
            "BPM: 120, Accuracy: 0.14, Cnt: 7\n",
            "BPM: 122, Accuracy: 0.33, Cnt: 3\n",
            "BPM: 125, Accuracy: 0.00, Cnt: 3\n",
            "BPM: 128, Accuracy: 0.00, Cnt: 4\n",
            "BPM: 130, Accuracy: 0.67, Cnt: 3\n",
            "BPM: 135, Accuracy: 0.00, Cnt: 1\n",
            "BPM: 138, Accuracy: 0.00, Cnt: 8\n",
            "BPM: 140, Accuracy: 0.00, Cnt: 2\n",
            "BPM: 141, Accuracy: 0.00, Cnt: 1\n",
            "BPM: 144, Accuracy: 0.00, Cnt: 2\n",
            "BPM: 190, Accuracy: 0.00, Cnt: 1\n"
          ]
        }
      ],
      "source": [
        "def accuracy_per_bpm(y_true, y_pred):\n",
        "    y_pred_rounded = np.round(y_pred)\n",
        "    bpm_values = np.unique(y_true)\n",
        "    accuracy_dict = {}\n",
        "\n",
        "    for bpm in bpm_values:\n",
        "        idx = np.where(y_true == bpm)\n",
        "        true_bpm = np.array(y_true)[idx]\n",
        "        pred_bpm = np.array(y_pred_rounded)[idx]\n",
        "        accuracy = np.mean(abs(true_bpm - pred_bpm) < 5)\n",
        "        # accuracy_dict[bpm] = accuracy\n",
        "        count = len(true_bpm)\n",
        "        accuracy_dict[bpm] = {\"accuracy\": accuracy, \"count\": count}\n",
        "\n",
        "    return accuracy_dict\n",
        "\n",
        "\n",
        "accuracy_dict = accuracy_per_bpm(y_true, y_pred)\n",
        "\n",
        "for bpm, accuracy in accuracy_dict.items():\n",
        "    print(\n",
        "        f'BPM: {bpm}, Accuracy: {accuracy[\"accuracy\"]:.2f}, Cnt: {accuracy[\"count\"]}',\n",
        "    )"
      ]
    }
  ],
  "metadata": {
    "accelerator": "GPU",
    "colab": {
      "gpuType": "T4",
      "provenance": []
    },
    "kernelspec": {
      "display_name": "Python 3",
      "name": "python3"
    },
    "language_info": {
      "codemirror_mode": {
        "name": "ipython",
        "version": 3
      },
      "file_extension": ".py",
      "mimetype": "text/x-python",
      "name": "python",
      "nbconvert_exporter": "python",
      "pygments_lexer": "ipython3",
      "version": "3.12.4"
    },
    "widgets": {
      "application/vnd.jupyter.widget-state+json": {
        "3e0e95e0ef2446a7ad5b8493e46c7061": {
          "model_module": "@jupyter-widgets/base",
          "model_module_version": "1.2.0",
          "model_name": "LayoutModel",
          "state": {
            "_model_module": "@jupyter-widgets/base",
            "_model_module_version": "1.2.0",
            "_model_name": "LayoutModel",
            "_view_count": null,
            "_view_module": "@jupyter-widgets/base",
            "_view_module_version": "1.2.0",
            "_view_name": "LayoutView",
            "align_content": null,
            "align_items": null,
            "align_self": null,
            "border": null,
            "bottom": null,
            "display": null,
            "flex": null,
            "flex_flow": null,
            "grid_area": null,
            "grid_auto_columns": null,
            "grid_auto_flow": null,
            "grid_auto_rows": null,
            "grid_column": null,
            "grid_gap": null,
            "grid_row": null,
            "grid_template_areas": null,
            "grid_template_columns": null,
            "grid_template_rows": null,
            "height": null,
            "justify_content": null,
            "justify_items": null,
            "left": null,
            "margin": null,
            "max_height": null,
            "max_width": null,
            "min_height": null,
            "min_width": null,
            "object_fit": null,
            "object_position": null,
            "order": null,
            "overflow": null,
            "overflow_x": null,
            "overflow_y": null,
            "padding": null,
            "right": null,
            "top": null,
            "visibility": null,
            "width": null
          }
        },
        "69cecd42b1634f808e4c2d2830a4314c": {
          "model_module": "@jupyter-widgets/controls",
          "model_module_version": "1.5.0",
          "model_name": "ProgressStyleModel",
          "state": {
            "_model_module": "@jupyter-widgets/controls",
            "_model_module_version": "1.5.0",
            "_model_name": "ProgressStyleModel",
            "_view_count": null,
            "_view_module": "@jupyter-widgets/base",
            "_view_module_version": "1.2.0",
            "_view_name": "StyleView",
            "bar_color": null,
            "description_width": ""
          }
        },
        "8bd4b6c07fb54a76a8b319119cbc0e34": {
          "model_module": "@jupyter-widgets/controls",
          "model_module_version": "1.5.0",
          "model_name": "HTMLModel",
          "state": {
            "_dom_classes": [],
            "_model_module": "@jupyter-widgets/controls",
            "_model_module_version": "1.5.0",
            "_model_name": "HTMLModel",
            "_view_count": null,
            "_view_module": "@jupyter-widgets/controls",
            "_view_module_version": "1.5.0",
            "_view_name": "HTMLView",
            "description": "",
            "description_tooltip": null,
            "layout": "IPY_MODEL_3e0e95e0ef2446a7ad5b8493e46c7061",
            "placeholder": "​",
            "style": "IPY_MODEL_9541246ec1c84b79b3655edde0c744cf",
            "value": "Dl Completed...: 100%"
          }
        },
        "9541246ec1c84b79b3655edde0c744cf": {
          "model_module": "@jupyter-widgets/controls",
          "model_module_version": "1.5.0",
          "model_name": "DescriptionStyleModel",
          "state": {
            "_model_module": "@jupyter-widgets/controls",
            "_model_module_version": "1.5.0",
            "_model_name": "DescriptionStyleModel",
            "_view_count": null,
            "_view_module": "@jupyter-widgets/base",
            "_view_module_version": "1.2.0",
            "_view_name": "StyleView",
            "description_width": ""
          }
        },
        "955e30d1d7c84086aa0eae579d055e37": {
          "model_module": "@jupyter-widgets/controls",
          "model_module_version": "1.5.0",
          "model_name": "HTMLModel",
          "state": {
            "_dom_classes": [],
            "_model_module": "@jupyter-widgets/controls",
            "_model_module_version": "1.5.0",
            "_model_name": "HTMLModel",
            "_view_count": null,
            "_view_module": "@jupyter-widgets/controls",
            "_view_module_version": "1.5.0",
            "_view_name": "HTMLView",
            "description": "",
            "description_tooltip": null,
            "layout": "IPY_MODEL_bb2a3aea760c40a7b5def7c0d33785ec",
            "placeholder": "​",
            "style": "IPY_MODEL_ce5b36e934a6431399aa1adc522f4aba",
            "value": " 29/29 [00:17&lt;00:00,  1.06s/ file]"
          }
        },
        "bb2a3aea760c40a7b5def7c0d33785ec": {
          "model_module": "@jupyter-widgets/base",
          "model_module_version": "1.2.0",
          "model_name": "LayoutModel",
          "state": {
            "_model_module": "@jupyter-widgets/base",
            "_model_module_version": "1.2.0",
            "_model_name": "LayoutModel",
            "_view_count": null,
            "_view_module": "@jupyter-widgets/base",
            "_view_module_version": "1.2.0",
            "_view_name": "LayoutView",
            "align_content": null,
            "align_items": null,
            "align_self": null,
            "border": null,
            "bottom": null,
            "display": null,
            "flex": null,
            "flex_flow": null,
            "grid_area": null,
            "grid_auto_columns": null,
            "grid_auto_flow": null,
            "grid_auto_rows": null,
            "grid_column": null,
            "grid_gap": null,
            "grid_row": null,
            "grid_template_areas": null,
            "grid_template_columns": null,
            "grid_template_rows": null,
            "height": null,
            "justify_content": null,
            "justify_items": null,
            "left": null,
            "margin": null,
            "max_height": null,
            "max_width": null,
            "min_height": null,
            "min_width": null,
            "object_fit": null,
            "object_position": null,
            "order": null,
            "overflow": null,
            "overflow_x": null,
            "overflow_y": null,
            "padding": null,
            "right": null,
            "top": null,
            "visibility": null,
            "width": null
          }
        },
        "ce5b36e934a6431399aa1adc522f4aba": {
          "model_module": "@jupyter-widgets/controls",
          "model_module_version": "1.5.0",
          "model_name": "DescriptionStyleModel",
          "state": {
            "_model_module": "@jupyter-widgets/controls",
            "_model_module_version": "1.5.0",
            "_model_name": "DescriptionStyleModel",
            "_view_count": null,
            "_view_module": "@jupyter-widgets/base",
            "_view_module_version": "1.2.0",
            "_view_name": "StyleView",
            "description_width": ""
          }
        },
        "cf7d0c6a205540898c03a2227216a4ff": {
          "model_module": "@jupyter-widgets/base",
          "model_module_version": "1.2.0",
          "model_name": "LayoutModel",
          "state": {
            "_model_module": "@jupyter-widgets/base",
            "_model_module_version": "1.2.0",
            "_model_name": "LayoutModel",
            "_view_count": null,
            "_view_module": "@jupyter-widgets/base",
            "_view_module_version": "1.2.0",
            "_view_name": "LayoutView",
            "align_content": null,
            "align_items": null,
            "align_self": null,
            "border": null,
            "bottom": null,
            "display": null,
            "flex": null,
            "flex_flow": null,
            "grid_area": null,
            "grid_auto_columns": null,
            "grid_auto_flow": null,
            "grid_auto_rows": null,
            "grid_column": null,
            "grid_gap": null,
            "grid_row": null,
            "grid_template_areas": null,
            "grid_template_columns": null,
            "grid_template_rows": null,
            "height": null,
            "justify_content": null,
            "justify_items": null,
            "left": null,
            "margin": null,
            "max_height": null,
            "max_width": null,
            "min_height": null,
            "min_width": null,
            "object_fit": null,
            "object_position": null,
            "order": null,
            "overflow": null,
            "overflow_x": null,
            "overflow_y": null,
            "padding": null,
            "right": null,
            "top": null,
            "visibility": null,
            "width": null
          }
        },
        "d44efc429f414826bace9295f2517a8a": {
          "model_module": "@jupyter-widgets/controls",
          "model_module_version": "1.5.0",
          "model_name": "FloatProgressModel",
          "state": {
            "_dom_classes": [],
            "_model_module": "@jupyter-widgets/controls",
            "_model_module_version": "1.5.0",
            "_model_name": "FloatProgressModel",
            "_view_count": null,
            "_view_module": "@jupyter-widgets/controls",
            "_view_module_version": "1.5.0",
            "_view_name": "ProgressView",
            "bar_style": "success",
            "description": "",
            "description_tooltip": null,
            "layout": "IPY_MODEL_e2d3c9531e154ed2b588f8f9ebba46d7",
            "max": 29,
            "min": 0,
            "orientation": "horizontal",
            "style": "IPY_MODEL_69cecd42b1634f808e4c2d2830a4314c",
            "value": 29
          }
        },
        "d875ad9a5fb147f6ab3a57f0cb9bddec": {
          "model_module": "@jupyter-widgets/controls",
          "model_module_version": "1.5.0",
          "model_name": "HBoxModel",
          "state": {
            "_dom_classes": [],
            "_model_module": "@jupyter-widgets/controls",
            "_model_module_version": "1.5.0",
            "_model_name": "HBoxModel",
            "_view_count": null,
            "_view_module": "@jupyter-widgets/controls",
            "_view_module_version": "1.5.0",
            "_view_name": "HBoxView",
            "box_style": "",
            "children": [
              "IPY_MODEL_8bd4b6c07fb54a76a8b319119cbc0e34",
              "IPY_MODEL_d44efc429f414826bace9295f2517a8a",
              "IPY_MODEL_955e30d1d7c84086aa0eae579d055e37"
            ],
            "layout": "IPY_MODEL_cf7d0c6a205540898c03a2227216a4ff"
          }
        },
        "e2d3c9531e154ed2b588f8f9ebba46d7": {
          "model_module": "@jupyter-widgets/base",
          "model_module_version": "1.2.0",
          "model_name": "LayoutModel",
          "state": {
            "_model_module": "@jupyter-widgets/base",
            "_model_module_version": "1.2.0",
            "_model_name": "LayoutModel",
            "_view_count": null,
            "_view_module": "@jupyter-widgets/base",
            "_view_module_version": "1.2.0",
            "_view_name": "LayoutView",
            "align_content": null,
            "align_items": null,
            "align_self": null,
            "border": null,
            "bottom": null,
            "display": null,
            "flex": null,
            "flex_flow": null,
            "grid_area": null,
            "grid_auto_columns": null,
            "grid_auto_flow": null,
            "grid_auto_rows": null,
            "grid_column": null,
            "grid_gap": null,
            "grid_row": null,
            "grid_template_areas": null,
            "grid_template_columns": null,
            "grid_template_rows": null,
            "height": null,
            "justify_content": null,
            "justify_items": null,
            "left": null,
            "margin": null,
            "max_height": null,
            "max_width": null,
            "min_height": null,
            "min_width": null,
            "object_fit": null,
            "object_position": null,
            "order": null,
            "overflow": null,
            "overflow_x": null,
            "overflow_y": null,
            "padding": null,
            "right": null,
            "top": null,
            "visibility": null,
            "width": null
          }
        }
      }
    }
  },
  "nbformat": 4,
  "nbformat_minor": 0
}
