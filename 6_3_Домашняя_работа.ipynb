{
  "nbformat": 4,
  "nbformat_minor": 0,
  "metadata": {
    "colab": {
      "provenance": [],
      "include_colab_link": true
    },
    "kernelspec": {
      "name": "python3",
      "display_name": "Python 3"
    },
    "language_info": {
      "name": "python"
    }
  },
  "cells": [
    {
      "cell_type": "markdown",
      "metadata": {
        "id": "view-in-github",
        "colab_type": "text"
      },
      "source": [
        "<a href=\"https://colab.research.google.com/github/Ads369/Ads_2s/blob/main/6_3_%D0%94%D0%BE%D0%BC%D0%B0%D1%88%D0%BD%D1%8F%D1%8F_%D1%80%D0%B0%D0%B1%D0%BE%D1%82%D0%B0.ipynb\" target=\"_parent\"><img src=\"https://colab.research.google.com/assets/colab-badge.svg\" alt=\"Open In Colab\"/></a>"
      ]
    },
    {
      "cell_type": "markdown",
      "source": [
        "**Навигация по уроку**\n",
        "\n",
        "1. [Введение в Data Science](https://colab.research.google.com/drive/1OzEE1Y-T_p8rqJHxAm7S8iO76Hx6Jox3)\n",
        "2. [Поиск, сбор и первичная обработка данных](https://colab.research.google.com/drive/1sPc9RcTh9oMzyLffhNorD-Hh2kQlMhCC)\n",
        "3. Домашняя работа"
      ],
      "metadata": {
        "id": "8LIWrmOPjBO6"
      }
    },
    {
      "cell_type": "markdown",
      "source": [
        "## Задача 1. Книги без буквы E."
      ],
      "metadata": {
        "id": "ZzjUAyrL6jgO"
      }
    },
    {
      "cell_type": "markdown",
      "source": [
        "**Условие.** В истории литературы известен случай написания романа объемом около\n",
        "50 тыс. слов, в котором ни разу не была употреблена самая популярная\n",
        "в английском алфавите буква E. Название его – «Gadsby».\n",
        "Напишите программу, которая будет считывать список слов из файла и собирать статистику о том, в каком проценте слов используется каждая буква алфавита. Выведите результат для всех 26 букв английского алфавита и отдельно отметьте букву, которая встречалась в словах наиболее редко. В  вашей программе должны игнорироваться знаки препинания и регистр символов.\n"
      ],
      "metadata": {
        "id": "M4OAOB6s6mU7"
      }
    },
    {
      "cell_type": "markdown",
      "source": [
        "**Подсказки.**\n",
        "1. Переведите все слова в верхний регистр:\n",
        "```\n",
        "word = word.upper().rstrip() # upper - переводит строку в верхний регистр\n",
        "```\n",
        "2. Создайте словарь со счетчиком слов, содержащий каждую букву\n",
        "```\n",
        "# Для каждой буквы инициализируем счетчик нулем\n",
        "counts = {}\n",
        "for ch in \"ABCDEFGHIJKLMNOPQRSTUVWXYZ\":\n",
        "       counts[ch] = 0\n",
        "```\n",
        "3. Наиболее редко используемые буквы можно найти следующим образом:\n",
        "```\n",
        "smallest_count = min(counts.values()) # min - возвращает наименьшее число в списке\n",
        "```"
      ],
      "metadata": {
        "id": "1X5QIF1nryYd"
      }
    },
    {
      "cell_type": "code",
      "source": [
        "#Напишите свое решение"
      ],
      "metadata": {
        "id": "C2W-ZDOF6mzF"
      },
      "execution_count": null,
      "outputs": []
    },
    {
      "cell_type": "markdown",
      "source": [
        "## Задание 2. Веб-скрейпинг ИИ новостей"
      ],
      "metadata": {
        "id": "m5K8F02cbJ3c"
      }
    },
    {
      "cell_type": "markdown",
      "source": [
        "**Описание задания.** Используя пример веб-скрейпинга практической части урока, проведите скрейпинг сайта с новостями из сферы ИИ (https://2051.vision/category/ii/), выведите на экран заголовки новостей."
      ],
      "metadata": {
        "id": "LPb3n5UqbRAD"
      }
    },
    {
      "cell_type": "code",
      "source": [
        "#Напишите свое решение"
      ],
      "metadata": {
        "id": "E2UFxRjFi_aW"
      },
      "execution_count": null,
      "outputs": []
    }
  ]
}