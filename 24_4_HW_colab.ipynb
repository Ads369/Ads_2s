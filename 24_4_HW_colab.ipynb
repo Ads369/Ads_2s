{
  "nbformat": 4,
  "nbformat_minor": 0,
  "metadata": {
    "colab": {
      "provenance": [],
      "gpuType": "T4",
      "include_colab_link": true
    },
    "kernelspec": {
      "name": "python3",
      "display_name": "Python 3"
    },
    "language_info": {
      "name": "python"
    },
    "accelerator": "GPU"
  },
  "cells": [
    {
      "cell_type": "markdown",
      "metadata": {
        "id": "view-in-github",
        "colab_type": "text"
      },
      "source": [
        "<a href=\"https://colab.research.google.com/github/Ads369/Ads_2s/blob/main/24_4_HW_colab.ipynb\" target=\"_parent\"><img src=\"https://colab.research.google.com/assets/colab-badge.svg\" alt=\"Open In Colab\"/></a>"
      ]
    },
    {
      "cell_type": "markdown",
      "source": [
        "**Навигация по уроку**\n",
        "\n",
        "1. [Обработка аудиосигналов](https://colab.research.google.com/drive/13r2TM72wK5mFSMsb1rBV4gspNCqkzJDY)\n",
        "2. [Распознавание музыкального жанра](https://colab.research.google.com/drive/1VVV3EUT9uaVHNwZBweAsfOcDYwtPMJ2z)\n",
        "3. Генерация музыкальных произведений с помощью НС\n",
        "4. [Домашняя работа](https://colab.research.google.com/drive/1uZ-sCic9BV5quOohckycIqhYkl8MvvvV)"
      ],
      "metadata": {
        "id": "I_FlWMbTvK3I"
      }
    },
    {
      "cell_type": "markdown",
      "source": [
        "В данной части урока мы продемонстрируем как с помощью базы данных классической музыки и простейшей LSTM-сети создать нейронную сеть способную \"сочинять\" классическую музыку."
      ],
      "metadata": {
        "id": "-iua0RTN0a2u"
      }
    },
    {
      "cell_type": "markdown",
      "source": [
        "Для начала опишем простой алгоритм, который вы можете использовать для обучения своих моделей, изменив лишь датасет с исходными музыкальными файлами.\n",
        "\n",
        "Создание нейросети, способной генерировать музыку, требует знаний в области глубокого обучения и обработки звука, а также доступа к вычислительным ресурсам. Рассмотрим общий шаг за шагом процесс создания такой нейросети:\n",
        "\n",
        "1. **Выбор задачи и данных**: Решите, какой вид музыки вы хотите создавать (например, классическая, джаз, рок) и соберите набор данных, соответствующий вашей задаче. Этот набор данных должен содержать аудиозаписи ваших желаемых стилей музыки.\n",
        "\n",
        "2. **Предобработка данных**: Аудиозаписи требуют предварительной обработки. Это включает в себя извлечение аудиофункций, таких как спектрограммы или мел-частотные кепстральные коэффициенты (MFCC), а также разбиение аудиозаписей на короткие фрагменты, называемые окнами.\n",
        "\n",
        "3. **Архитектура модели**: Выберите архитектуру нейронной сети для генерации музыки. Один из популярных подходов - использовать рекуррентные нейронные сети (RNN) или вариации, такие как LSTM или GRU, которые способны учитывать последовательность данных. Для обработки аудио также можно использовать сверточные нейронные сети (CNN).\n",
        "\n",
        "4. **Обучение модели**: Обучите вашу нейронную сеть на подготовленных данных. Важно иметь множество вычислительных ресурсов, чтобы справиться с вычислительно интенсивной задачей обучения.\n",
        "\n",
        "5. **Функция потерь и метрики**: Определите функцию потерь (loss function) для оценки качества генерируемой музыки и выберите метрики для оценки производительности модели.\n",
        "\n",
        "6. **Генерация музыки**: После обучения модели можно использовать ее для генерации музыки. Это можно сделать, предсказывая следующий звуковой фрагмент на основе предыдущих.\n",
        "\n",
        "7. **Оценка и настройка**: Оцените результаты генерации музыки и, при необходимости, настройте модель и повторите процесс обучения.\n",
        "\n",
        "8. **Использование модели**: После достижения удовлетворительных результатов вы можете использовать вашу модель для генерации музыки в соответствии с вашими потребностями.\n",
        "\n",
        "Обратите внимание, что создание нейросети для генерации музыки - это сложная задача, требующая знаний в области машинного обучения и звуковой обработки, а также доступа к мощным вычислительным ресурсам. Большинство успешных проектов в этой области требуют нескольких месяцев или даже лет разработки и оптимизации модели. Но можно учиться и на готовых примерах!\n"
      ],
      "metadata": {
        "id": "BVgUbbRy8p80"
      }
    },
    {
      "cell_type": "markdown",
      "source": [
        "## Импорт библиотек"
      ],
      "metadata": {
        "id": "qWma_qzMiXtt"
      }
    },
    {
      "cell_type": "markdown",
      "source": [
        "Для работы с midi-файлами мы будем использовать `Open Source` библиотеку `music21`. В рамках урока мы познакомимся только поверхностно с библиотекой. Для более глубоко погружения рекомендуем ознакомиться с [документацией](https://www.music21.org/music21docs/index.html). Для полноценной работы с библиотекой необходимо установить целый ряд зависимостей."
      ],
      "metadata": {
        "id": "DEnQKGxKWeoa"
      }
    },
    {
      "cell_type": "code",
      "source": [
        "!sudo apt install -y fluidsynth\n",
        "!pip install --upgrade pyfluidsynth\n",
        "!pip install --upgrade music21\n"
      ],
      "metadata": {
        "colab": {
          "base_uri": "https://localhost:8080/"
        },
        "id": "BH0FA5lqNVaQ",
        "outputId": "bcd34d92-4c32-4242-cf10-c6f0c059d79a"
      },
      "execution_count": 11,
      "outputs": [
        {
          "output_type": "stream",
          "name": "stdout",
          "text": [
            "Reading package lists... Done\n",
            "Building dependency tree... Done\n",
            "Reading state information... Done\n",
            "fluidsynth is already the newest version (2.2.5-1).\n",
            "0 upgraded, 0 newly installed, 0 to remove and 52 not upgraded.\n",
            "Requirement already satisfied: pyfluidsynth in /usr/local/lib/python3.10/dist-packages (1.3.4)\n",
            "Requirement already satisfied: numpy in /usr/local/lib/python3.10/dist-packages (from pyfluidsynth) (1.26.4)\n",
            "Requirement already satisfied: music21 in /usr/local/lib/python3.10/dist-packages (9.3.0)\n",
            "Requirement already satisfied: chardet in /usr/local/lib/python3.10/dist-packages (from music21) (5.2.0)\n",
            "Requirement already satisfied: joblib in /usr/local/lib/python3.10/dist-packages (from music21) (1.4.2)\n",
            "Requirement already satisfied: jsonpickle in /usr/local/lib/python3.10/dist-packages (from music21) (4.0.1)\n",
            "Requirement already satisfied: matplotlib in /usr/local/lib/python3.10/dist-packages (from music21) (3.8.0)\n",
            "Requirement already satisfied: more-itertools in /usr/local/lib/python3.10/dist-packages (from music21) (10.5.0)\n",
            "Requirement already satisfied: numpy in /usr/local/lib/python3.10/dist-packages (from music21) (1.26.4)\n",
            "Requirement already satisfied: requests in /usr/local/lib/python3.10/dist-packages (from music21) (2.32.3)\n",
            "Requirement already satisfied: webcolors>=1.5 in /usr/local/lib/python3.10/dist-packages (from music21) (24.11.1)\n",
            "Requirement already satisfied: contourpy>=1.0.1 in /usr/local/lib/python3.10/dist-packages (from matplotlib->music21) (1.3.1)\n",
            "Requirement already satisfied: cycler>=0.10 in /usr/local/lib/python3.10/dist-packages (from matplotlib->music21) (0.12.1)\n",
            "Requirement already satisfied: fonttools>=4.22.0 in /usr/local/lib/python3.10/dist-packages (from matplotlib->music21) (4.55.3)\n",
            "Requirement already satisfied: kiwisolver>=1.0.1 in /usr/local/lib/python3.10/dist-packages (from matplotlib->music21) (1.4.7)\n",
            "Requirement already satisfied: packaging>=20.0 in /usr/local/lib/python3.10/dist-packages (from matplotlib->music21) (24.2)\n",
            "Requirement already satisfied: pillow>=6.2.0 in /usr/local/lib/python3.10/dist-packages (from matplotlib->music21) (11.0.0)\n",
            "Requirement already satisfied: pyparsing>=2.3.1 in /usr/local/lib/python3.10/dist-packages (from matplotlib->music21) (3.2.0)\n",
            "Requirement already satisfied: python-dateutil>=2.7 in /usr/local/lib/python3.10/dist-packages (from matplotlib->music21) (2.8.2)\n",
            "Requirement already satisfied: charset-normalizer<4,>=2 in /usr/local/lib/python3.10/dist-packages (from requests->music21) (3.4.0)\n",
            "Requirement already satisfied: idna<4,>=2.5 in /usr/local/lib/python3.10/dist-packages (from requests->music21) (3.10)\n",
            "Requirement already satisfied: urllib3<3,>=1.21.1 in /usr/local/lib/python3.10/dist-packages (from requests->music21) (2.2.3)\n",
            "Requirement already satisfied: certifi>=2017.4.17 in /usr/local/lib/python3.10/dist-packages (from requests->music21) (2024.12.14)\n",
            "Requirement already satisfied: six>=1.5 in /usr/local/lib/python3.10/dist-packages (from python-dateutil>=2.7->matplotlib->music21) (1.17.0)\n"
          ]
        }
      ]
    },
    {
      "cell_type": "code",
      "source": [
        "!add-apt-repository ppa:mscore-ubuntu/mscore-stable -y\n",
        "!apt-get update\n",
        "!apt-get install musescore"
      ],
      "metadata": {
        "colab": {
          "base_uri": "https://localhost:8080/"
        },
        "id": "UO9F_zEJ-jVQ",
        "outputId": "44ec441b-a728-4ba0-9c5e-1cb72d1b4d2b"
      },
      "execution_count": 2,
      "outputs": [
        {
          "output_type": "stream",
          "name": "stdout",
          "text": [
            "Repository: 'deb https://ppa.launchpadcontent.net/mscore-ubuntu/mscore-stable/ubuntu/ jammy main'\n",
            "Description:\n",
            "~~~~~~~~~ MUSESCORE 2 RELEASES FOR UBUNTU 12.04 AND LATER ~~~~~~~~~\n",
            "Note that Canonical doesn’t allow new builds for releases marked obsolete\n",
            "(any nōn-LTS predating the previous LTS (currently 24.04 “noble”), and any LTS\n",
            "older than 7 years, currently anything before 14.04 “trusty”). The packages\n",
            "for those older releases here can no longer be updated but still work, within\n",
            "limitations. Best to upgrade to a supported release of the operating system!\n",
            "\n",
            "INSTALLING: (run these commands from the terminal)\n",
            "  sudo add-apt-repository ppa:mscore-ubuntu/mscore-stable\n",
            "  sudo apt-get update\n",
            "  sudo apt-get install musescore\n",
            "\n",
            "DO *NOT* USE THESE PPAs on Debian, only on Ubuntu!\n",
            "\n",
            "‣‣‣ These packages are NOT suitable for ”KDE neon 18.04 (bionic)”!\n",
            "‣ Use https://build.opensuse.org/project/show/home:mirabile:mscore instead.\n",
            "⚠ KDE neon 18.04 was discontinued so those packages can no longer be updated.\n",
            "\n",
            "See https://launchpad.net/~mscore-ubuntu/+archive/ubuntu/mscore3-stable\n",
            "for the more recent version of MuseScore 3. This is the older version MuseScore 2.\n",
            "\n",
            "                                GETTING HELP:\n",
            " * Have a look at the Online Handbook: https://musescore.org/en/handbook-musescore-2\n",
            " * Ask on the Forums: https://musescore.org/forum\n",
            "   – possibly try unaffiliated forums; if you speak German, for example:\n",
            "     ‣ http://www.notensatzforum.net/f2-MuseScore-Forum.html\n",
            "     ‣ https://www.musiker-board.de/forum/musescore.934/\n",
            "   – Make sure to mention you’re using Mu͒seScore 2.\n",
            " * Try searching the web for \"musescore\" and the problem you are having.\n",
            " * Unfortunately, SOL if you end here. The new holding company is very much not\n",
            "   interested in continuing to provide a̲n̲y̲ kind of support for classic MuseScore.\n",
            "   See the MuseScore 3 link above for a few more resources and information.\n",
            "~~~~~~~~~ MUSESCORE 2 RELEASES FOR UBUNTU 12.04 AND LATER ~~~~~~~~~\n",
            "More info: https://launchpad.net/~mscore-ubuntu/+archive/ubuntu/mscore-stable\n",
            "Adding repository.\n",
            "Adding deb entry to /etc/apt/sources.list.d/mscore-ubuntu-ubuntu-mscore-stable-jammy.list\n",
            "Adding disabled deb-src entry to /etc/apt/sources.list.d/mscore-ubuntu-ubuntu-mscore-stable-jammy.list\n",
            "Adding key to /etc/apt/trusted.gpg.d/mscore-ubuntu-ubuntu-mscore-stable.gpg with fingerprint F446F2715C632854AE37CFC57A9FB82F99C5E97F\n",
            "Get:1 https://cloud.r-project.org/bin/linux/ubuntu jammy-cran40/ InRelease [3,626 B]\n",
            "Get:2 https://developer.download.nvidia.com/compute/cuda/repos/ubuntu2204/x86_64  InRelease [1,581 B]\n",
            "Get:3 http://security.ubuntu.com/ubuntu jammy-security InRelease [129 kB]\n",
            "Get:4 https://r2u.stat.illinois.edu/ubuntu jammy InRelease [6,555 B]\n",
            "Hit:5 http://archive.ubuntu.com/ubuntu jammy InRelease\n",
            "Get:6 http://archive.ubuntu.com/ubuntu jammy-updates InRelease [128 kB]\n",
            "Hit:7 https://ppa.launchpadcontent.net/deadsnakes/ppa/ubuntu jammy InRelease\n",
            "Get:8 https://cloud.r-project.org/bin/linux/ubuntu jammy-cran40/ Packages [61.7 kB]\n",
            "Hit:9 https://ppa.launchpadcontent.net/graphics-drivers/ppa/ubuntu jammy InRelease\n",
            "Get:10 https://developer.download.nvidia.com/compute/cuda/repos/ubuntu2204/x86_64  Packages [1,199 kB]\n",
            "Get:11 https://ppa.launchpadcontent.net/mscore-ubuntu/mscore-stable/ubuntu jammy InRelease [18.3 kB]\n",
            "Get:12 http://archive.ubuntu.com/ubuntu jammy-backports InRelease [127 kB]\n",
            "Hit:13 https://ppa.launchpadcontent.net/ubuntugis/ppa/ubuntu jammy InRelease\n",
            "Get:14 https://r2u.stat.illinois.edu/ubuntu jammy/main amd64 Packages [2,631 kB]\n",
            "Get:15 http://security.ubuntu.com/ubuntu jammy-security/main amd64 Packages [2,552 kB]\n",
            "Get:16 http://archive.ubuntu.com/ubuntu jammy-updates/main amd64 Packages [2,854 kB]\n",
            "Get:17 http://security.ubuntu.com/ubuntu jammy-security/universe amd64 Packages [1,226 kB]\n",
            "Get:18 http://security.ubuntu.com/ubuntu jammy-security/restricted amd64 Packages [3,513 kB]\n",
            "Get:19 http://archive.ubuntu.com/ubuntu jammy-updates/universe amd64 Packages [1,517 kB]\n",
            "Get:20 http://archive.ubuntu.com/ubuntu jammy-updates/restricted amd64 Packages [3,652 kB]\n",
            "Get:21 https://ppa.launchpadcontent.net/mscore-ubuntu/mscore-stable/ubuntu jammy/main amd64 Packages [1,019 B]\n",
            "Fetched 19.6 MB in 5s (3,920 kB/s)\n",
            "Reading package lists... Done\n",
            "W: Skipping acquire of configured file 'main/source/Sources' as repository 'https://r2u.stat.illinois.edu/ubuntu jammy InRelease' does not seem to provide it (sources.list entry misspelt?)\n",
            "Hit:1 https://cloud.r-project.org/bin/linux/ubuntu jammy-cran40/ InRelease\n",
            "Hit:2 https://developer.download.nvidia.com/compute/cuda/repos/ubuntu2204/x86_64  InRelease\n",
            "Hit:3 http://archive.ubuntu.com/ubuntu jammy InRelease\n",
            "Hit:4 http://security.ubuntu.com/ubuntu jammy-security InRelease\n",
            "Hit:5 https://r2u.stat.illinois.edu/ubuntu jammy InRelease\n",
            "Hit:6 http://archive.ubuntu.com/ubuntu jammy-updates InRelease\n",
            "Hit:7 http://archive.ubuntu.com/ubuntu jammy-backports InRelease\n",
            "Hit:8 https://ppa.launchpadcontent.net/deadsnakes/ppa/ubuntu jammy InRelease\n",
            "Hit:9 https://ppa.launchpadcontent.net/graphics-drivers/ppa/ubuntu jammy InRelease\n",
            "Hit:10 https://ppa.launchpadcontent.net/mscore-ubuntu/mscore-stable/ubuntu jammy InRelease\n",
            "Hit:11 https://ppa.launchpadcontent.net/ubuntugis/ppa/ubuntu jammy InRelease\n",
            "Reading package lists... Done\n",
            "W: Skipping acquire of configured file 'main/source/Sources' as repository 'https://r2u.stat.illinois.edu/ubuntu jammy InRelease' does not seem to provide it (sources.list entry misspelt?)\n",
            "Reading package lists... Done\n",
            "Building dependency tree... Done\n",
            "Reading state information... Done\n",
            "The following additional packages will be installed:\n",
            "  desktop-file-utils fonts-freefont-ttf libportaudio2 libportmidi0 libqt5help5 libqt5printsupport5\n",
            "  libqt5qml5 libqt5qmlmodels5 libqt5qmlworkerscript5 libqt5quick5 libqt5sql5 libqt5sql5-sqlite\n",
            "  libqt5xml5 libqt5xmlpatterns5 musescore-common musescore-general-soundfont-small\n",
            "  qml-module-qt-labs-folderlistmodel qml-module-qt-labs-settings qml-module-qtgraphicaleffects\n",
            "  qml-module-qtqml qml-module-qtqml-models2 qml-module-qtquick-controls qml-module-qtquick-dialogs\n",
            "  qml-module-qtquick-layouts qml-module-qtquick-privatewidgets qml-module-qtquick-window2\n",
            "  qml-module-qtquick2\n",
            "Suggested packages:\n",
            "  qt5-qmltooling-plugins pulseaudio-utils\n",
            "The following NEW packages will be installed:\n",
            "  desktop-file-utils fonts-freefont-ttf libportaudio2 libportmidi0 libqt5help5 libqt5printsupport5\n",
            "  libqt5qml5 libqt5qmlmodels5 libqt5qmlworkerscript5 libqt5quick5 libqt5sql5 libqt5sql5-sqlite\n",
            "  libqt5xml5 libqt5xmlpatterns5 musescore musescore-common musescore-general-soundfont-small\n",
            "  qml-module-qt-labs-folderlistmodel qml-module-qt-labs-settings qml-module-qtgraphicaleffects\n",
            "  qml-module-qtqml qml-module-qtqml-models2 qml-module-qtquick-controls qml-module-qtquick-dialogs\n",
            "  qml-module-qtquick-layouts qml-module-qtquick-privatewidgets qml-module-qtquick-window2\n",
            "  qml-module-qtquick2\n",
            "0 upgraded, 28 newly installed, 0 to remove and 52 not upgraded.\n",
            "Need to get 51.2 MB of archives.\n",
            "After this operation, 113 MB of additional disk space will be used.\n",
            "Get:1 http://archive.ubuntu.com/ubuntu jammy/universe amd64 libqt5qml5 amd64 5.15.3+dfsg-1 [1,472 kB]\n",
            "Get:2 http://archive.ubuntu.com/ubuntu jammy/universe amd64 libqt5qmlmodels5 amd64 5.15.3+dfsg-1 [205 kB]\n",
            "Get:3 http://archive.ubuntu.com/ubuntu jammy/universe amd64 libqt5quick5 amd64 5.15.3+dfsg-1 [1,748 kB]\n",
            "Get:4 http://archive.ubuntu.com/ubuntu jammy/universe amd64 qml-module-qtquick-window2 amd64 5.15.3+dfsg-1 [26.3 kB]\n",
            "Get:5 http://archive.ubuntu.com/ubuntu jammy/universe amd64 libqt5qmlworkerscript5 amd64 5.15.3+dfsg-1 [34.4 kB]\n",
            "Get:6 http://archive.ubuntu.com/ubuntu jammy/universe amd64 qml-module-qtquick2 amd64 5.15.3+dfsg-1 [33.7 kB]\n",
            "Get:7 http://archive.ubuntu.com/ubuntu jammy/universe amd64 qml-module-qtgraphicaleffects amd64 5.15.3-1 [74.3 kB]\n",
            "Get:8 http://archive.ubuntu.com/ubuntu jammy/universe amd64 qml-module-qtqml amd64 5.15.3+dfsg-1 [17.2 kB]\n",
            "Get:9 http://archive.ubuntu.com/ubuntu jammy/universe amd64 qml-module-qtqml-models2 amd64 5.15.3+dfsg-1 [18.0 kB]\n",
            "Get:10 http://archive.ubuntu.com/ubuntu jammy/universe amd64 qml-module-qtquick-layouts amd64 5.15.3+dfsg-1 [56.0 kB]\n",
            "Get:11 http://archive.ubuntu.com/ubuntu jammy/universe amd64 qml-module-qtquick-controls amd64 5.15.3-1 [577 kB]\n",
            "Get:12 http://archive.ubuntu.com/ubuntu jammy/main amd64 desktop-file-utils amd64 0.26-1ubuntu3 [55.9 kB]\n",
            "Get:13 http://archive.ubuntu.com/ubuntu jammy/main amd64 fonts-freefont-ttf all 20120503-10build1 [2,388 kB]\n",
            "Get:14 http://archive.ubuntu.com/ubuntu jammy/universe amd64 libportaudio2 amd64 19.6.0-1.1 [65.3 kB]\n",
            "Get:15 http://archive.ubuntu.com/ubuntu jammy/universe amd64 libportmidi0 amd64 1:217-6 [17.8 kB]\n",
            "Get:16 http://archive.ubuntu.com/ubuntu jammy-updates/universe amd64 libqt5sql5 amd64 5.15.3+dfsg-2ubuntu0.2 [123 kB]\n",
            "Get:17 http://archive.ubuntu.com/ubuntu jammy/universe amd64 libqt5help5 amd64 5.15.3-1 [162 kB]\n",
            "Get:18 http://archive.ubuntu.com/ubuntu jammy-updates/universe amd64 libqt5printsupport5 amd64 5.15.3+dfsg-2ubuntu0.2 [214 kB]\n",
            "Get:19 http://archive.ubuntu.com/ubuntu jammy-updates/universe amd64 libqt5sql5-sqlite amd64 5.15.3+dfsg-2ubuntu0.2 [53.0 kB]\n",
            "Get:20 http://archive.ubuntu.com/ubuntu jammy-updates/universe amd64 libqt5xml5 amd64 5.15.3+dfsg-2ubuntu0.2 [124 kB]\n",
            "Get:21 http://archive.ubuntu.com/ubuntu jammy/universe amd64 libqt5xmlpatterns5 amd64 5.15.3-1 [901 kB]\n",
            "Get:22 http://archive.ubuntu.com/ubuntu jammy/universe amd64 qml-module-qt-labs-folderlistmodel amd64 5.15.3+dfsg-1 [36.1 kB]\n",
            "Get:23 http://archive.ubuntu.com/ubuntu jammy/universe amd64 qml-module-qt-labs-settings amd64 5.15.3+dfsg-1 [26.5 kB]\n",
            "Get:24 http://archive.ubuntu.com/ubuntu jammy/universe amd64 qml-module-qtquick-privatewidgets amd64 5.15.3-1 [49.8 kB]\n",
            "Get:25 http://archive.ubuntu.com/ubuntu jammy/universe amd64 qml-module-qtquick-dialogs amd64 5.15.3-1 [132 kB]\n",
            "Get:26 http://archive.ubuntu.com/ubuntu jammy/universe amd64 musescore-general-soundfont-small all 0.2.1-1 [34.1 MB]\n",
            "Get:27 http://archive.ubuntu.com/ubuntu jammy/universe amd64 musescore-common all 2.3.2+dfsg4-15 [3,332 kB]\n",
            "Get:28 http://archive.ubuntu.com/ubuntu jammy/universe amd64 musescore amd64 2.3.2+dfsg4-15 [5,195 kB]\n",
            "Fetched 51.2 MB in 2s (21.8 MB/s)\n",
            "Selecting previously unselected package libqt5qml5:amd64.\n",
            "(Reading database ... 124701 files and directories currently installed.)\n",
            "Preparing to unpack .../00-libqt5qml5_5.15.3+dfsg-1_amd64.deb ...\n",
            "Unpacking libqt5qml5:amd64 (5.15.3+dfsg-1) ...\n",
            "Selecting previously unselected package libqt5qmlmodels5:amd64.\n",
            "Preparing to unpack .../01-libqt5qmlmodels5_5.15.3+dfsg-1_amd64.deb ...\n",
            "Unpacking libqt5qmlmodels5:amd64 (5.15.3+dfsg-1) ...\n",
            "Selecting previously unselected package libqt5quick5:amd64.\n",
            "Preparing to unpack .../02-libqt5quick5_5.15.3+dfsg-1_amd64.deb ...\n",
            "Unpacking libqt5quick5:amd64 (5.15.3+dfsg-1) ...\n",
            "Selecting previously unselected package qml-module-qtquick-window2:amd64.\n",
            "Preparing to unpack .../03-qml-module-qtquick-window2_5.15.3+dfsg-1_amd64.deb ...\n",
            "Unpacking qml-module-qtquick-window2:amd64 (5.15.3+dfsg-1) ...\n",
            "Selecting previously unselected package libqt5qmlworkerscript5:amd64.\n",
            "Preparing to unpack .../04-libqt5qmlworkerscript5_5.15.3+dfsg-1_amd64.deb ...\n",
            "Unpacking libqt5qmlworkerscript5:amd64 (5.15.3+dfsg-1) ...\n",
            "Selecting previously unselected package qml-module-qtquick2:amd64.\n",
            "Preparing to unpack .../05-qml-module-qtquick2_5.15.3+dfsg-1_amd64.deb ...\n",
            "Unpacking qml-module-qtquick2:amd64 (5.15.3+dfsg-1) ...\n",
            "Selecting previously unselected package qml-module-qtgraphicaleffects:amd64.\n",
            "Preparing to unpack .../06-qml-module-qtgraphicaleffects_5.15.3-1_amd64.deb ...\n",
            "Unpacking qml-module-qtgraphicaleffects:amd64 (5.15.3-1) ...\n",
            "Selecting previously unselected package qml-module-qtqml:amd64.\n",
            "Preparing to unpack .../07-qml-module-qtqml_5.15.3+dfsg-1_amd64.deb ...\n",
            "Unpacking qml-module-qtqml:amd64 (5.15.3+dfsg-1) ...\n",
            "Selecting previously unselected package qml-module-qtqml-models2:amd64.\n",
            "Preparing to unpack .../08-qml-module-qtqml-models2_5.15.3+dfsg-1_amd64.deb ...\n",
            "Unpacking qml-module-qtqml-models2:amd64 (5.15.3+dfsg-1) ...\n",
            "Selecting previously unselected package qml-module-qtquick-layouts:amd64.\n",
            "Preparing to unpack .../09-qml-module-qtquick-layouts_5.15.3+dfsg-1_amd64.deb ...\n",
            "Unpacking qml-module-qtquick-layouts:amd64 (5.15.3+dfsg-1) ...\n",
            "Selecting previously unselected package qml-module-qtquick-controls:amd64.\n",
            "Preparing to unpack .../10-qml-module-qtquick-controls_5.15.3-1_amd64.deb ...\n",
            "Unpacking qml-module-qtquick-controls:amd64 (5.15.3-1) ...\n",
            "Selecting previously unselected package desktop-file-utils.\n",
            "Preparing to unpack .../11-desktop-file-utils_0.26-1ubuntu3_amd64.deb ...\n",
            "Unpacking desktop-file-utils (0.26-1ubuntu3) ...\n",
            "Selecting previously unselected package fonts-freefont-ttf.\n",
            "Preparing to unpack .../12-fonts-freefont-ttf_20120503-10build1_all.deb ...\n",
            "Unpacking fonts-freefont-ttf (20120503-10build1) ...\n",
            "Selecting previously unselected package libportaudio2:amd64.\n",
            "Preparing to unpack .../13-libportaudio2_19.6.0-1.1_amd64.deb ...\n",
            "Unpacking libportaudio2:amd64 (19.6.0-1.1) ...\n",
            "Selecting previously unselected package libportmidi0:amd64.\n",
            "Preparing to unpack .../14-libportmidi0_1%3a217-6_amd64.deb ...\n",
            "Unpacking libportmidi0:amd64 (1:217-6) ...\n",
            "Selecting previously unselected package libqt5sql5:amd64.\n",
            "Preparing to unpack .../15-libqt5sql5_5.15.3+dfsg-2ubuntu0.2_amd64.deb ...\n",
            "Unpacking libqt5sql5:amd64 (5.15.3+dfsg-2ubuntu0.2) ...\n",
            "Selecting previously unselected package libqt5help5:amd64.\n",
            "Preparing to unpack .../16-libqt5help5_5.15.3-1_amd64.deb ...\n",
            "Unpacking libqt5help5:amd64 (5.15.3-1) ...\n",
            "Selecting previously unselected package libqt5printsupport5:amd64.\n",
            "Preparing to unpack .../17-libqt5printsupport5_5.15.3+dfsg-2ubuntu0.2_amd64.deb ...\n",
            "Unpacking libqt5printsupport5:amd64 (5.15.3+dfsg-2ubuntu0.2) ...\n",
            "Selecting previously unselected package libqt5sql5-sqlite:amd64.\n",
            "Preparing to unpack .../18-libqt5sql5-sqlite_5.15.3+dfsg-2ubuntu0.2_amd64.deb ...\n",
            "Unpacking libqt5sql5-sqlite:amd64 (5.15.3+dfsg-2ubuntu0.2) ...\n",
            "Selecting previously unselected package libqt5xml5:amd64.\n",
            "Preparing to unpack .../19-libqt5xml5_5.15.3+dfsg-2ubuntu0.2_amd64.deb ...\n",
            "Unpacking libqt5xml5:amd64 (5.15.3+dfsg-2ubuntu0.2) ...\n",
            "Selecting previously unselected package libqt5xmlpatterns5:amd64.\n",
            "Preparing to unpack .../20-libqt5xmlpatterns5_5.15.3-1_amd64.deb ...\n",
            "Unpacking libqt5xmlpatterns5:amd64 (5.15.3-1) ...\n",
            "Selecting previously unselected package qml-module-qt-labs-folderlistmodel:amd64.\n",
            "Preparing to unpack .../21-qml-module-qt-labs-folderlistmodel_5.15.3+dfsg-1_amd64.deb ...\n",
            "Unpacking qml-module-qt-labs-folderlistmodel:amd64 (5.15.3+dfsg-1) ...\n",
            "Selecting previously unselected package qml-module-qt-labs-settings:amd64.\n",
            "Preparing to unpack .../22-qml-module-qt-labs-settings_5.15.3+dfsg-1_amd64.deb ...\n",
            "Unpacking qml-module-qt-labs-settings:amd64 (5.15.3+dfsg-1) ...\n",
            "Selecting previously unselected package qml-module-qtquick-privatewidgets:amd64.\n",
            "Preparing to unpack .../23-qml-module-qtquick-privatewidgets_5.15.3-1_amd64.deb ...\n",
            "Unpacking qml-module-qtquick-privatewidgets:amd64 (5.15.3-1) ...\n",
            "Selecting previously unselected package qml-module-qtquick-dialogs:amd64.\n",
            "Preparing to unpack .../24-qml-module-qtquick-dialogs_5.15.3-1_amd64.deb ...\n",
            "Unpacking qml-module-qtquick-dialogs:amd64 (5.15.3-1) ...\n",
            "Selecting previously unselected package musescore-general-soundfont-small.\n",
            "Preparing to unpack .../25-musescore-general-soundfont-small_0.2.1-1_all.deb ...\n",
            "Unpacking musescore-general-soundfont-small (0.2.1-1) ...\n",
            "Selecting previously unselected package musescore-common.\n",
            "Preparing to unpack .../26-musescore-common_2.3.2+dfsg4-15_all.deb ...\n",
            "Unpacking musescore-common (2.3.2+dfsg4-15) ...\n",
            "Selecting previously unselected package musescore.\n",
            "Preparing to unpack .../27-musescore_2.3.2+dfsg4-15_amd64.deb ...\n",
            "Unpacking musescore (2.3.2+dfsg4-15) ...\n",
            "Setting up libportaudio2:amd64 (19.6.0-1.1) ...\n",
            "Setting up desktop-file-utils (0.26-1ubuntu3) ...\n",
            "Setting up libqt5xmlpatterns5:amd64 (5.15.3-1) ...\n",
            "Setting up fonts-freefont-ttf (20120503-10build1) ...\n",
            "Setting up musescore-general-soundfont-small (0.2.1-1) ...\n",
            "update-alternatives: using /usr/share/sounds/sf3/MuseScore_General_Lite.sf3 to provide /usr/share/sounds/sf3/MuseScore_General.sf3 (MuseScore_General.sf3) in auto mode\n",
            "Setting up libqt5sql5:amd64 (5.15.3+dfsg-2ubuntu0.2) ...\n",
            "Setting up libqt5printsupport5:amd64 (5.15.3+dfsg-2ubuntu0.2) ...\n",
            "Setting up musescore-common (2.3.2+dfsg4-15) ...\n",
            "Setting up libqt5xml5:amd64 (5.15.3+dfsg-2ubuntu0.2) ...\n",
            "Setting up libqt5qml5:amd64 (5.15.3+dfsg-1) ...\n",
            "Setting up libportmidi0:amd64 (1:217-6) ...\n",
            "Setting up libqt5qmlmodels5:amd64 (5.15.3+dfsg-1) ...\n",
            "Setting up libqt5sql5-sqlite:amd64 (5.15.3+dfsg-2ubuntu0.2) ...\n",
            "Setting up qml-module-qtqml:amd64 (5.15.3+dfsg-1) ...\n",
            "Setting up libqt5help5:amd64 (5.15.3-1) ...\n",
            "Setting up qml-module-qt-labs-folderlistmodel:amd64 (5.15.3+dfsg-1) ...\n",
            "Setting up libqt5qmlworkerscript5:amd64 (5.15.3+dfsg-1) ...\n",
            "Setting up qml-module-qt-labs-settings:amd64 (5.15.3+dfsg-1) ...\n",
            "Setting up qml-module-qtqml-models2:amd64 (5.15.3+dfsg-1) ...\n",
            "Setting up libqt5quick5:amd64 (5.15.3+dfsg-1) ...\n",
            "Setting up qml-module-qtquick-window2:amd64 (5.15.3+dfsg-1) ...\n",
            "Setting up qml-module-qtquick-layouts:amd64 (5.15.3+dfsg-1) ...\n",
            "Setting up qml-module-qtquick2:amd64 (5.15.3+dfsg-1) ...\n",
            "Setting up qml-module-qtquick-privatewidgets:amd64 (5.15.3-1) ...\n",
            "Setting up qml-module-qtgraphicaleffects:amd64 (5.15.3-1) ...\n",
            "Setting up qml-module-qtquick-dialogs:amd64 (5.15.3-1) ...\n",
            "Setting up qml-module-qtquick-controls:amd64 (5.15.3-1) ...\n",
            "Setting up musescore (2.3.2+dfsg4-15) ...\n",
            "Processing triggers for hicolor-icon-theme (0.17-2) ...\n",
            "Processing triggers for libc-bin (2.35-0ubuntu3.4) ...\n",
            "/sbin/ldconfig.real: /usr/local/lib/libur_adapter_level_zero.so.0 is not a symbolic link\n",
            "\n",
            "/sbin/ldconfig.real: /usr/local/lib/libtcm_debug.so.1 is not a symbolic link\n",
            "\n",
            "/sbin/ldconfig.real: /usr/local/lib/libur_adapter_opencl.so.0 is not a symbolic link\n",
            "\n",
            "/sbin/ldconfig.real: /usr/local/lib/libtbbbind_2_0.so.3 is not a symbolic link\n",
            "\n",
            "/sbin/ldconfig.real: /usr/local/lib/libhwloc.so.15 is not a symbolic link\n",
            "\n",
            "/sbin/ldconfig.real: /usr/local/lib/libtbbmalloc_proxy.so.2 is not a symbolic link\n",
            "\n",
            "/sbin/ldconfig.real: /usr/local/lib/libtbb.so.12 is not a symbolic link\n",
            "\n",
            "/sbin/ldconfig.real: /usr/local/lib/libumf.so.0 is not a symbolic link\n",
            "\n",
            "/sbin/ldconfig.real: /usr/local/lib/libtcm.so.1 is not a symbolic link\n",
            "\n",
            "/sbin/ldconfig.real: /usr/local/lib/libtbbbind_2_5.so.3 is not a symbolic link\n",
            "\n",
            "/sbin/ldconfig.real: /usr/local/lib/libtbbmalloc.so.2 is not a symbolic link\n",
            "\n",
            "/sbin/ldconfig.real: /usr/local/lib/libur_loader.so.0 is not a symbolic link\n",
            "\n",
            "/sbin/ldconfig.real: /usr/local/lib/libtbbbind.so.3 is not a symbolic link\n",
            "\n",
            "Processing triggers for man-db (2.10.2-1) ...\n",
            "Processing triggers for shared-mime-info (2.1-2) ...\n",
            "Processing triggers for fontconfig (2.13.1-4.2ubuntu5) ...\n"
          ]
        }
      ]
    },
    {
      "cell_type": "code",
      "source": [
        "!apt-get install xvfb"
      ],
      "metadata": {
        "colab": {
          "base_uri": "https://localhost:8080/"
        },
        "id": "BhgH85KK-tPg",
        "outputId": "63dbbffb-526a-4cd3-88e2-c22908c32b32"
      },
      "execution_count": 12,
      "outputs": [
        {
          "output_type": "stream",
          "name": "stdout",
          "text": [
            "Reading package lists... Done\n",
            "Building dependency tree... Done\n",
            "Reading state information... Done\n",
            "xvfb is already the newest version (2:21.1.4-2ubuntu1.7~22.04.12).\n",
            "0 upgraded, 0 newly installed, 0 to remove and 52 not upgraded.\n"
          ]
        }
      ]
    },
    {
      "cell_type": "code",
      "source": [
        "from music21 import *\n",
        "\n",
        "# настраиваем окружение в соответствии с документацией\n",
        "us = environment.UserSettings()\n",
        "us['musescoreDirectPNGPath'] = '/usr/bin/mscore'\n",
        "us['directoryScratch'] = '/tmp'"
      ],
      "metadata": {
        "id": "Sh3tIT95-uvK"
      },
      "execution_count": 14,
      "outputs": []
    },
    {
      "cell_type": "code",
      "source": [
        "# Импортируем библиотеки\n",
        "import tensorflow\n",
        "import os\n",
        "import numpy as np\n",
        "import pandas as pd\n",
        "from collections import Counter\n",
        "import random\n",
        "import IPython\n",
        "from IPython.display import Image, Audio\n",
        "import music21\n",
        "from music21 import *\n",
        "import fluidsynth\n",
        "\n",
        "import matplotlib.pyplot as plt\n",
        "from sklearn.model_selection import train_test_split\n",
        "from keras.models import Sequential\n",
        "from keras.layers import LSTM, Dense, Dropout\n",
        "import keras.backend as K\n",
        "from keras.optimizers import Adamax\n",
        "\n",
        "import seaborn as sns\n",
        "import matplotlib.pyplot as plt\n",
        "import matplotlib.patches as mpatches\n",
        "%matplotlib inline\n",
        "\n",
        "import sys\n",
        "import warnings\n",
        "warnings.filterwarnings(\"ignore\")\n",
        "warnings.simplefilter(\"ignore\")\n",
        "np.random.seed(42)"
      ],
      "metadata": {
        "id": "3xUtqHDGiA4Q"
      },
      "execution_count": 13,
      "outputs": []
    },
    {
      "cell_type": "markdown",
      "source": [
        "## Загрузка данных"
      ],
      "metadata": {
        "id": "8isUznruicQd"
      }
    },
    {
      "cell_type": "markdown",
      "source": [
        "Набор данных содержит 337 классических фортепианных пьес 25 композиторов + 1 рождественскую песню. Общая длительность всех произведений 23,17 часа.\n",
        "\n",
        "Датасет собран из MIDI файлов с сайта [Classical Piano MIDI](http://www.piano-midi.de/).\n",
        "\n"
      ],
      "metadata": {
        "id": "Pa_5BJsBkT-n"
      }
    },
    {
      "cell_type": "code",
      "source": [
        "!wget https://storage.yandexcloud.net/academy.ai/classical-music-midi.zip"
      ],
      "metadata": {
        "colab": {
          "base_uri": "https://localhost:8080/"
        },
        "id": "P57lbIfHiO5B",
        "outputId": "a4701188-9a00-4b25-d29e-466cc00fc096"
      },
      "execution_count": 15,
      "outputs": [
        {
          "output_type": "stream",
          "name": "stdout",
          "text": [
            "--2025-01-07 11:06:48--  https://storage.yandexcloud.net/academy.ai/classical-music-midi.zip\n",
            "Resolving storage.yandexcloud.net (storage.yandexcloud.net)... 213.180.193.243, 2a02:6b8::1d9\n",
            "Connecting to storage.yandexcloud.net (storage.yandexcloud.net)|213.180.193.243|:443... connected.\n",
            "HTTP request sent, awaiting response... 200 OK\n",
            "Length: 2751606 (2.6M) [application/x-zip-compressed]\n",
            "Saving to: ‘classical-music-midi.zip.1’\n",
            "\n",
            "classical-music-mid 100%[===================>]   2.62M  2.66MB/s    in 1.0s    \n",
            "\n",
            "2025-01-07 11:06:50 (2.66 MB/s) - ‘classical-music-midi.zip.1’ saved [2751606/2751606]\n",
            "\n"
          ]
        }
      ]
    },
    {
      "cell_type": "code",
      "source": [
        "# Разархивируем датасета во временную папку 'dataset'\n",
        "!unzip -qo \"classical-music-midi\" -d ./dataset"
      ],
      "metadata": {
        "id": "oq8rnnXnwT_k"
      },
      "execution_count": 6,
      "outputs": []
    },
    {
      "cell_type": "code",
      "source": [
        "!dir ./dataset"
      ],
      "metadata": {
        "colab": {
          "base_uri": "https://localhost:8080/"
        },
        "id": "AOaWkix2wUyy",
        "outputId": "863c97ba-2b0d-49d9-d79d-2955df17e30b"
      },
      "execution_count": 7,
      "outputs": [
        {
          "output_type": "stream",
          "name": "stdout",
          "text": [
            "Albeniz    Borodin\tChristmas  Granados  Mendelssohn  Rachmaninoff\tSinding\n",
            "Bach\t   Brahms\tClementi   Grieg     Moszkowski   Ravel\t\tTchaikovsky\n",
            "Balakirev  Burgmueller\tDebussy    Haydn     Mozart\t  Schubert\n",
            "Beethoven  Chopin\tGodowsky   Liszt     Mussorgsky   Schumann\n"
          ]
        }
      ]
    },
    {
      "cell_type": "code",
      "source": [
        "CLASS_LIST=[\"Bach\", \"Beethoven\", \"Tchaikovsky\"]\n",
        "CLASS_LIST_HW = [\"Chopin\"]\n",
        "CLASS_LIST_CTR = [\"Mozart\"]"
      ],
      "metadata": {
        "id": "zZp89nUywmh1"
      },
      "execution_count": 8,
      "outputs": []
    },
    {
      "cell_type": "code",
      "source": [
        "def get_all_midi(class_list):\n",
        "    all_midis = []\n",
        "    for compositor in class_list:\n",
        "        filepath = f\"./dataset/{compositor}/\"\n",
        "        for i in os.listdir(filepath):\n",
        "            if i.endswith(\".mid\"):\n",
        "                tr = filepath + i\n",
        "\n",
        "                # чтение и парсинг midi-файлов в Stream-объект библиотеки music21\n",
        "                midi = converter.parse(tr)\n",
        "                all_midis.append(midi)\n",
        "    return all_midis\n"
      ],
      "metadata": {
        "id": "K1RO03tuwy3o"
      },
      "execution_count": 9,
      "outputs": []
    },
    {
      "cell_type": "code",
      "source": [
        "all_midis = get_all_midi(CLASS_LIST_HW)\n",
        "print(\"Общее количество midi-файлов:\", len(all_midis))"
      ],
      "metadata": {
        "id": "RwebNMU6yQ8U",
        "outputId": "67929ec9-90b2-4bdc-96d4-8d30ec9f0dce",
        "colab": {
          "base_uri": "https://localhost:8080/"
        }
      },
      "execution_count": 10,
      "outputs": [
        {
          "output_type": "stream",
          "name": "stdout",
          "text": [
            "Общее количество midi-файлов: 48\n"
          ]
        }
      ]
    },
    {
      "cell_type": "code",
      "source": [
        "starters = get_all_midi(CLASS_LIST_CTR)\n",
        "print(\"Общее количество midi-файлов:\", len(starters))"
      ],
      "metadata": {
        "colab": {
          "base_uri": "https://localhost:8080/"
        },
        "id": "Y1pY1dBzchyr",
        "outputId": "81b3a711-463b-4e32-b8b1-272ef40ab264"
      },
      "execution_count": 16,
      "outputs": [
        {
          "output_type": "stream",
          "name": "stdout",
          "text": [
            "Общее количество midi-файлов: 21\n"
          ]
        }
      ]
    },
    {
      "cell_type": "markdown",
      "source": [
        "**Ноты** (Note): Музыкальные ноты являются строительными блоками музыки. Они определяют высоту звука, связанны с определенной звуковой вибрацией.\n",
        "\n",
        "**Аккорд** (Chord): Группа нот, которые хорошо звучат вместе, называется аккордом.\n",
        "\n",
        "Список из `all_midis` состоит из объектов `Stream` библиотеки `music21`, который содержит - как аккорды, так и ноты, мы будем извлекать их в виде нот и получать последовательность нот в музыкальной композиции.\n",
        "\n",
        "Функция для получения нот:"
      ],
      "metadata": {
        "id": "DKHo0t8cauPf"
      }
    },
    {
      "cell_type": "markdown",
      "source": [
        "Теперь в списке `all_midis` содержаться все midi-файлы."
      ],
      "metadata": {
        "id": "0AMQF3UD2cWw"
      }
    },
    {
      "cell_type": "markdown",
      "source": [
        "Объявим функцию для преобразования потока Stream midi-файлов в список нот, а точнее их тональностей (тонов)."
      ],
      "metadata": {
        "id": "VUDBERwm3K9b"
      }
    },
    {
      "cell_type": "code",
      "source": [
        "def getNotes(file):\n",
        "    notes = []\n",
        "    notes_to_parse = None\n",
        "    for j in file:\n",
        "\n",
        "        # получение инструментов из Stream-объекта\n",
        "        songs = instrument.partitionByInstrument(j)\n",
        "\n",
        "        # цикл по всем инструментам\n",
        "        for part in songs.parts:\n",
        "            # используем рекурсивный итератор в соответствии с документацией\n",
        "            notes_to_parse = part.recurse()\n",
        "            # части Stream-объекта, с которым мы работает состоит из разных элементов\n",
        "            # отберем только интересующие нас элементы note.Note (нота) и chord.Chord (целый аккорд, последовательность нот)\n",
        "            for element in notes_to_parse:\n",
        "                if isinstance(element, note.Note):\n",
        "                    # извлекаем ноту как тон (терминология библиотеки)\n",
        "                    notes.append(str(element.pitch))\n",
        "                elif isinstance(element, chord.Chord):\n",
        "                    # аккорд функционирует как объект-нота, но имеет несколько последовательных тонов\n",
        "                    notes.append(\".\".join(str(n) for n in element.normalOrder))\n",
        "\n",
        "    return notes"
      ],
      "metadata": {
        "id": "IBAGRYHYyb_Z"
      },
      "execution_count": 17,
      "outputs": []
    },
    {
      "cell_type": "markdown",
      "source": [
        "Большие массивы данных, объединенные схожей тематикой принято называть корпусами. Мы также поступим и назовем `Corpus` наш список всех нот из всех файлов датасета."
      ],
      "metadata": {
        "id": "T_cWPsZYGg_z"
      }
    },
    {
      "cell_type": "code",
      "source": [
        "Corpus = getNotes(all_midis)\n",
        "print(\"Число midi файлов\", len(all_midis))\n",
        "print(\"Всего нот во всех midi-файлах всего датасета:\", len(Corpus))\n",
        "print(\"Первые 50 нот в корпусе:\", Corpus[:50])\n",
        "\n",
        "Corpus_starters = getNotes(starters)\n",
        "print(\"Число midi файлов\", len(starters))\n",
        "print(\"Всего нот во всех midi-файлах всего датасета:\", len(Corpus_starters))\n",
        "print(\"Первые 50 нот в корпусе:\", Corpus_starters[:50])"
      ],
      "metadata": {
        "colab": {
          "base_uri": "https://localhost:8080/"
        },
        "id": "pD4ZyBzvGWC4",
        "outputId": "be6fd5b0-8cfe-447f-f937-01b63c82ca62"
      },
      "execution_count": 35,
      "outputs": [
        {
          "output_type": "stream",
          "name": "stdout",
          "text": [
            "Число midi файлов 48\n",
            "Всего нот во всех midi-файлах всего датасета: 57894\n",
            "Первые 50 нот в корпусе: ['11.3.4', '3.8', '11.4', '8', 'F4', '11.3.5', '3', 'F#4', '11.3.6', '3.8', 'G4', '3.7.11', '8', 'G#4', '8.11.3', '3', 'A4', '3.9', '8.11.3', 'B-4', '10.3', '8', 'B4', '8.11.3', '3', 'C5', '8.0.3', '8.11.3', 'C#5', '1.3.8', '8', 'D5', '2.3.8', '3', 'E-5', '10.3', '10.3', 'E5', '4.10', '3.7', 'E-5', '10.3', '10.3', 'C#5', '1.3.8', '3.8', 'B4', '8.11.3', '11.3', 'C#5']\n",
            "Число midi файлов 21\n",
            "Всего нот во всех midi-файлах всего датасета: 55802\n",
            "Первые 50 нот в корпусе: ['F4', 'F3', 'A3', 'C4', 'A3', 'A4', 'C4', 'A3', 'C5', 'F3', 'C4', 'E-4', 'C4', 'A4', 'E-4', 'C4', 'B-4', 'F3', 'B-3', 'D4', 'B-3', 'G5', 'D4', 'B-3', 'F5', 'F3', 'E5', 'G3', 'E5', 'B-3', 'G3', 'B-3', 'G3', 'F5', '5.9', 'A4', 'D5', 'G4', 'C5', 'A4', 'F4', 'F3', 'A2', 'D3', 'G4', 'F4', 'G2', '4.5', 'C3', 'E4']\n"
          ]
        }
      ]
    },
    {
      "cell_type": "markdown",
      "source": [
        "Для тех кто знаком с музыкой эти ноты покажутся знакомыми. А для остальных мы выведем их на нотный стан (в виде картинок ноты видели все) и воспроизведем с помощью плеера (лучше послушать если далек от музыки), чтобы \"картинка сложилась\"."
      ],
      "metadata": {
        "id": "ejLkF0W6HaCX"
      }
    },
    {
      "cell_type": "code",
      "source": [
        "# Функция преобразования отрывка из корпуса обратно в поток\n",
        "def chords_n_notes(chunk):\n",
        "    Melody = []\n",
        "    offset = 0 # счетчик\n",
        "    for i in chunk:\n",
        "        # Если это аккорд разделенный точкой\n",
        "        if (\".\" in i or i.isdigit()):\n",
        "            chord_notes = i.split(\".\") # Разделяем аккорд на части\n",
        "            notes = []\n",
        "            for j in chord_notes:\n",
        "                inst_note=int(j)\n",
        "                # Преобразуем ноту в обект Note (нота)\n",
        "                note_chunk = note.Note(inst_note)\n",
        "                notes.append(note_chunk)\n",
        "                # объединяем ноты в аккорды\n",
        "                chord_chunk = chord.Chord(notes)\n",
        "                # задаем позицию аккорда\n",
        "                chord_chunk.offset = offset\n",
        "                Melody.append(chord_chunk)\n",
        "        # если это нота, а не аккорд\n",
        "        else:\n",
        "            # из текстового обозначения ноты делаем объект Note (ноту)\n",
        "            note_chunk = note.Note(i)\n",
        "            # задаем позицию ноты\n",
        "            note_chunk.offset = offset\n",
        "            Melody.append(note_chunk)\n",
        "        # увеличиваем номер позиции\n",
        "        offset += 1\n",
        "    return Melody"
      ],
      "metadata": {
        "id": "80J9xr725LbF"
      },
      "execution_count": 21,
      "outputs": []
    },
    {
      "cell_type": "code",
      "source": [
        "# Преобразуем последовательность из 100 нот обратно в поток Stream\n",
        "Music = chords_n_notes(Corpus[:100])\n",
        "Melody_midi = stream.Stream(Music)"
      ],
      "metadata": {
        "id": "zfuB9gQ7fVRp"
      },
      "execution_count": 23,
      "outputs": []
    },
    {
      "cell_type": "code",
      "source": [
        "# Отобразим нотный стан\n",
        "Melody_midi.show()"
      ],
      "metadata": {
        "colab": {
          "base_uri": "https://localhost:8080/",
          "height": 734
        },
        "id": "5kX7kYzlIUtW",
        "outputId": "5ab75183-def7-447d-c1f4-70a297d39420"
      },
      "execution_count": 24,
      "outputs": [
        {
          "output_type": "display_data",
          "data": {
            "image/png": "[encoded data removed]",
            "text/plain": [
              "<IPython.core.display.Image object>"
            ]
          },
          "metadata": {
            "image/png": {
              "width": 753,
              "height": 717
            }
          }
        }
      ]
    },
    {
      "cell_type": "code",
      "source": [
        "# Выведем в виде звуковой дорожки\n",
        "Melody_midi.show('midi')"
      ],
      "metadata": {
        "colab": {
          "base_uri": "https://localhost:8080/",
          "height": 134
        },
        "id": "fOwlcw6hev7U",
        "outputId": "ea24b974-7561-4c41-d410-65705f70b748"
      },
      "execution_count": 25,
      "outputs": [
        {
          "output_type": "display_data",
          "data": {
            "text/plain": [
              "<IPython.core.display.HTML object>"
            ],
            "text/html": [
              "\n",
              "        <div id=\"midiPlayerDiv2164939\"></div>\n",
              "        <link rel=\"stylesheet\" href=\"https://cuthbertLab.github.io/music21j/css/m21.css\">\n",
              "        \n",
              "        <script\n",
              "        src=\"https://cdnjs.cloudflare.com/ajax/libs/require.js/2.3.6/require.min.js\"\n",
              "        ></script>\n",
              "    \n",
              "        <script>\n",
              "        function midiPlayerDiv2164939_play() {\n",
              "            const rq = require.config({\n",
              "                paths: {\n",
              "                    'music21': 'https://cuthbertLab.github.io/music21j/releases/music21.debug',\n",
              "                }\n",
              "            });\n",
              "            rq(['music21'], function(music21) {\n",
              "                mp = new music21.miditools.MidiPlayer();\n",
              "                mp.addPlayer(\"#midiPlayerDiv2164939\");\n",
              "                mp.base64Load(\"data:audio/midi;base64,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\");\n",
              "            });\n",
              "        }\n",
              "        if (typeof require === 'undefined') {\n",
              "            setTimeout(midiPlayerDiv2164939_play, 2000);\n",
              "        } else {\n",
              "            midiPlayerDiv2164939_play();\n",
              "        }\n",
              "        </script>"
            ]
          },
          "metadata": {}
        }
      ]
    },
    {
      "cell_type": "markdown",
      "source": [
        "### Проанализируем ноты в корпусе"
      ],
      "metadata": {
        "id": "APjqSR3iM5Xr"
      }
    },
    {
      "cell_type": "markdown",
      "source": [
        "**Число уникальных нот в корпусе**"
      ],
      "metadata": {
        "id": "dbGOMHA6NG8-"
      }
    },
    {
      "cell_type": "markdown",
      "source": [
        "`Counter` - это подкласс словаря `Dict` для подсчета хэшируемых элементов. Иногда его называют пакетом или мультимножеством. Элементы хранятся как ключи словаря, а их количество - как значения словаря."
      ],
      "metadata": {
        "id": "r4A7jrj5TRMB"
      }
    },
    {
      "cell_type": "code",
      "source": [
        "from collections import Counter\n",
        "count_num = Counter(Corpus)\n",
        "print(\"Общее число уникальных нот в корпусе:\", len(count_num))"
      ],
      "metadata": {
        "colab": {
          "base_uri": "https://localhost:8080/"
        },
        "id": "ETUExvhTIsz-",
        "outputId": "27d73b78-cfd6-4a06-9793-d4eef457ff67"
      },
      "execution_count": 26,
      "outputs": [
        {
          "output_type": "stream",
          "name": "stdout",
          "text": [
            "Общее число уникальных нот в корпусе: 397\n"
          ]
        }
      ]
    },
    {
      "cell_type": "markdown",
      "source": [
        "**Распределение нот в корпусе**"
      ],
      "metadata": {
        "id": "z3XjxOl-NT_2"
      }
    },
    {
      "cell_type": "markdown",
      "source": [
        "Очевидно, что в мелодии есть несколько очень редких нот. Некоторые настолько редкие, что за все время звучали только один раз. Их использование создало бы массу проблем. Чтобы избавить от них, необходимо изучить частоту появления нот."
      ],
      "metadata": {
        "id": "TgQQf3fMVJLM"
      }
    },
    {
      "cell_type": "code",
      "source": [
        "# Ключ в словаре - имена нот\n",
        "# Значение в словаре - их количество\n",
        "\n",
        "Notes = list(count_num.keys())\n",
        "Recurrence = list(count_num.values())\n",
        "\n",
        "# Средняя частота встречаемости нот в корпусе\n",
        "def Average(rec):\n",
        "    return sum(rec) / len(rec)\n",
        "\n",
        "print('Средняя повторяемость ноты:', Average(Recurrence))\n",
        "print('Наиболее часто встречаемые ноты:', max(Recurrence), 'раз')\n",
        "print('Наиболее редкие ноты:', min(Recurrence), 'раз')"
      ],
      "metadata": {
        "colab": {
          "base_uri": "https://localhost:8080/"
        },
        "id": "3IACXQ-UNUgM",
        "outputId": "9420efb2-710c-4fd9-c441-b7c62dc69ccc"
      },
      "execution_count": 27,
      "outputs": [
        {
          "output_type": "stream",
          "name": "stdout",
          "text": [
            "Средняя повторяемость ноты: 145.8287153652393\n",
            "Наиболее часто встречаемые ноты: 1627 раз\n",
            "Наиболее редкие ноты: 1 раз\n"
          ]
        }
      ]
    },
    {
      "cell_type": "code",
      "source": [
        "plt.figure(figsize=(18, 3), facecolor='#97BACB')\n",
        "bins = np.arange(0,(max(Recurrence)), 50)\n",
        "plt.hist(Recurrence, bins=bins, color='#97BACB')\n",
        "plt.axvline(x=100, color='#DBACC1') # отсечка по встречаемости в 100 раз\n",
        "plt.title('Распределение нот в корпусе')\n",
        "plt.xlabel('Частота встречаемости ноты в корпусе')\n",
        "plt.ylabel('Число нот')\n",
        "plt.show()"
      ],
      "metadata": {
        "colab": {
          "base_uri": "https://localhost:8080/",
          "height": 332
        },
        "id": "Hxd-geaONdSs",
        "outputId": "06e30a0a-25f6-4563-f70e-30c8615be5ff"
      },
      "execution_count": 28,
      "outputs": [
        {
          "output_type": "display_data",
          "data": {
            "text/plain": [
              "<Figure size 1800x300 with 1 Axes>"
            ],
            "image/png": "[encoded data removed]"
          },
          "metadata": {
            "image/png": {
              "width": 1470,
              "height": 315
            }
          }
        }
      ]
    },
    {
      "cell_type": "markdown",
      "source": [
        "Будем избавляться от нот, которые встретились менее 100 раз."
      ],
      "metadata": {
        "id": "Lnwgh9QcWVPj"
      }
    },
    {
      "cell_type": "code",
      "source": [
        "# Получение списка редких нот\n",
        "rare_note = []\n",
        "for index, (key, value) in enumerate(count_num.items()):\n",
        "    if value < 100:\n",
        "        m =  key\n",
        "        rare_note.append(m)\n",
        "\n",
        "print(\"Общее число нот, которые повторяются менее 100 раз:\", len(rare_note))"
      ],
      "metadata": {
        "colab": {
          "base_uri": "https://localhost:8080/"
        },
        "id": "IYMhbYRZY2Ex",
        "outputId": "a42c1b7e-b1bf-4ed5-86a1-f7b1aa7d4798"
      },
      "execution_count": 29,
      "outputs": [
        {
          "output_type": "stream",
          "name": "stdout",
          "text": [
            "Общее число нот, которые повторяются менее 100 раз: 270\n"
          ]
        }
      ]
    },
    {
      "cell_type": "markdown",
      "source": [
        "**Удаление редких нот**"
      ],
      "metadata": {
        "id": "GqeDXwoJY1dw"
      }
    },
    {
      "cell_type": "code",
      "source": [
        "for element in Corpus:\n",
        "    if element in rare_note:\n",
        "        Corpus.remove(element)\n",
        "\n",
        "print(\"Длина корпуса после исключения редких нот:\", len(Corpus))"
      ],
      "metadata": {
        "colab": {
          "base_uri": "https://localhost:8080/"
        },
        "id": "Xpqkfq5uZMfA",
        "outputId": "c0864f6f-95b8-46af-e43e-6b94ff712015"
      },
      "execution_count": 30,
      "outputs": [
        {
          "output_type": "stream",
          "name": "stdout",
          "text": [
            "Длина корпуса после исключения редких нот: 53745\n"
          ]
        }
      ]
    },
    {
      "cell_type": "markdown",
      "source": [
        "## Предобработка данных"
      ],
      "metadata": {
        "id": "-vej4pOgZ3cb"
      }
    },
    {
      "cell_type": "markdown",
      "source": [
        "Ноты - это, по сути, звуковые волны. В музыке у нас есть определенные комбинации частот и длин волн, стандартизированные как указанные ноты. То есть библиотека `music21` помогает нам преобразовывать в последовательность звуковых нот, наши текстовые имена нот или аккорды (ноты записанные вместе через разделитель - \"точку\"). Либо, наоборот, извлеченные звуки midi-файлов в текстовые нотации. Также библиотека позволяет извлекать частоту, длину волны, длительность и т.д. для данных нот.\n"
      ],
      "metadata": {
        "id": "kHV8pkhIaEWE"
      }
    },
    {
      "cell_type": "markdown",
      "source": [
        "### Создание словаря"
      ],
      "metadata": {
        "id": "ap_ayDk3fl--"
      }
    },
    {
      "cell_type": "markdown",
      "source": [
        "Нам необходимо создать словарь для сопоставления нот и их индексов. У нас есть название ноты в виде строки. Для компьютера эти имена являются просто символом. Таким образом, мы создаем словарь, чтобы сопоставить каждую уникальную ноту в нашем корпусе с цифрой. И наоборот, для получения значений во время прогнозирования. Это будет использоваться для кодирования и декодирования информации, поступающей в модель и выходящей из нее. Фактически мы проводим процедуру, которую принято называть мэпингом (mapping) данных."
      ],
      "metadata": {
        "id": "bb5TZwZyfp7L"
      }
    },
    {
      "cell_type": "code",
      "source": [
        "# Сохраняем все уникальные значения корпуса\n",
        "symb = sorted(list(set(Corpus)))\n",
        "print(symb)\n",
        "\n",
        "L_corpus = len(Corpus) # длина корпуса\n",
        "L_symb = len(symb) # число уникальных элементов корпуса\n",
        "\n",
        "# Создание словаря для доступа к словарному запасу из индексов и наоборот\n",
        "mapping = dict((c, i) for i, c in enumerate(symb))\n",
        "reverse_mapping = dict((i, c) for i, c in enumerate(symb))\n",
        "\n",
        "print(\"Общее число символов:\", L_corpus)\n",
        "print(\"Число уникальных символов:\", L_symb)"
      ],
      "metadata": {
        "colab": {
          "base_uri": "https://localhost:8080/"
        },
        "id": "73vPZOv0eXkK",
        "outputId": "dd52f77b-6231-4fc5-ee6d-216e586e824b"
      },
      "execution_count": 36,
      "outputs": [
        {
          "output_type": "stream",
          "name": "stdout",
          "text": [
            "['0', '0.1', '0.1.3', '0.1.3.5', '0.1.3.7', '0.2', '0.2.4', '0.2.5', '0.2.6', '0.2.6.8', '0.2.7', '0.3', '0.3.5', '0.3.6', '0.3.6.8', '0.3.6.9', '0.3.7', '0.4', '0.4.5', '0.4.6', '0.4.7', '0.4.8', '0.5', '0.5.6', '0.6', '1', '1.2', '1.2.3', '1.2.4.5', '1.2.4.8', '1.3', '1.3.4', '1.3.5', '1.3.5.6', '1.3.5.9', '1.3.6', '1.3.7', '1.3.8', '1.4', '1.4.5', '1.4.6', '1.4.7', '1.4.7.10', '1.4.7.9', '1.4.8', '1.5', '1.5.6', '1.5.7', '1.5.8', '1.5.9', '1.6', '1.7', '10', '10.0', '10.0.1', '10.0.1.3', '10.0.2', '10.0.3', '10.0.3.6', '10.0.4', '10.0.5', '10.1', '10.1.2', '10.1.3', '10.1.3.6', '10.1.4', '10.1.4.6', '10.1.5', '10.11', '10.11.0', '10.11.1', '10.11.1.2', '10.11.2', '10.11.4', '10.2', '10.2.3', '10.2.5', '10.3', '10.3.4', '11', '11.0', '11.0.2', '11.0.2.3', '11.0.2.4', '11.0.2.6', '11.0.3', '11.0.4', '11.0.5', '11.1', '11.1.2.4', '11.1.3.5', '11.1.4', '11.1.4.6', '11.1.5', '11.1.6', '11.2', '11.2.4', '11.2.5', '11.2.5.7', '11.2.6', '11.3', '11.3.4', '11.3.5', '11.3.6', '11.4', '2', '2.3', '2.3.4', '2.3.4.8', '2.3.5', '2.3.7', '2.3.8', '2.4', '2.4.5', '2.4.6.8', '2.4.7', '2.4.8', '2.4.9', '2.5', '2.5.7', '2.5.8', '2.5.8.10', '2.5.8.11', '2.5.9', '2.6', '2.6.10', '2.6.7', '2.6.8', '2.6.9', '2.7', '2.7.8', '2.8', '3', '3.4', '3.4.5', '3.4.6', '3.4.6.10', '3.4.6.7', '3.4.8', '3.4.9', '3.5', '3.5.10', '3.5.6', '3.5.6.8', '3.5.7.11', '3.5.8', '3.5.8.11', '3.5.9', '3.5.9.11', '3.6', '3.6.10', '3.6.7', '3.6.7.11', '3.6.8', '3.6.9', '3.6.9.11', '3.7', '3.7.10', '3.7.11', '3.7.8', '3.7.9', '3.8', '3.8.9', '3.9', '4', '4.10', '4.5', '4.5.10', '4.5.7', '4.5.9', '4.6', '4.6.10', '4.6.11', '4.6.8.9', '4.6.9', '4.7', '4.7.10', '4.7.10.0', '4.7.11', '4.7.9', '4.8', '4.8.11', '4.9', '4.9.10', '5', '5.10', '5.10.11', '5.11', '5.6', '5.6.10', '5.6.8', '5.6.8.0', '5.6.8.10', '5.6.8.9', '5.7', '5.7.0', '5.7.10', '5.7.10.1', '5.7.11', '5.7.8', '5.7.9', '5.8', '5.8.0', '5.8.10', '5.8.10.1', '5.8.11', '5.8.11.1', '5.9', '5.9.0', '5.9.11', '6', '6.10', '6.10.0', '6.10.1', '6.11', '6.7', '6.7.0', '6.7.10.1', '6.7.9', '6.7.9.1', '6.8', '6.8.0', '6.8.1', '6.8.10', '6.8.10.0', '6.8.10.1', '6.8.10.11', '6.8.10.2', '6.8.11', '6.8.11.2', '6.9', '6.9.0', '6.9.0.2', '6.9.1', '6.9.11', '6.9.11.1', '7', '7.0', '7.0.1', '7.10', '7.10.0', '7.10.0.1', '7.10.1', '7.10.1.3', '7.10.2', '7.11', '7.11.0', '7.11.1', '7.11.2', '7.8', '7.8.0', '7.8.1', '7.8.10.11', '7.8.10.2', '7.8.11', '7.9', '7.9.0', '7.9.0.3', '7.9.1', '7.9.10', '7.9.11', '7.9.2', '8', '8.0', '8.0.1', '8.0.2', '8.0.3', '8.1', '8.1.2', '8.10', '8.10.0.1', '8.10.1', '8.10.1.3', '8.10.11', '8.10.2', '8.10.2.3', '8.10.3', '8.11', '8.11.0', '8.11.1', '8.11.1.3', '8.11.1.4', '8.11.2', '8.11.2.3', '8.11.2.4', '8.11.3', '8.9', '8.9.0.3', '8.9.1', '8.9.10.1', '8.9.11', '8.9.11.0', '8.9.11.3', '8.9.2', '9', '9.0', '9.0.1', '9.0.2', '9.0.3', '9.0.3.5', '9.0.4', '9.1', '9.1.3', '9.1.4', '9.10', '9.10.0', '9.10.0.1', '9.10.2', '9.11', '9.11.0', '9.11.0.2', '9.11.1', '9.11.1.4', '9.11.2', '9.11.2.4', '9.11.3', '9.11.4', '9.2', '9.2.3', 'A1', 'A2', 'A3', 'A4', 'A5', 'A6', 'B-1', 'B-2', 'B-3', 'B-4', 'B-5', 'B-6', 'B1', 'B2', 'B3', 'B4', 'B5', 'B6', 'C#1', 'C#2', 'C#3', 'C#4', 'C#5', 'C#6', 'C#7', 'C1', 'C2', 'C3', 'C4', 'C5', 'C6', 'C7', 'D1', 'D2', 'D3', 'D4', 'D5', 'D6', 'D7', 'E-1', 'E-2', 'E-3', 'E-4', 'E-5', 'E-6', 'E-7', 'E1', 'E2', 'E3', 'E4', 'E5', 'E6', 'E7', 'F#1', 'F#2', 'F#3', 'F#4', 'F#5', 'F#6', 'F1', 'F2', 'F3', 'F4', 'F5', 'F6', 'F7', 'G#1', 'G#2', 'G#3', 'G#4', 'G#5', 'G#6', 'G1', 'G2', 'G3', 'G4', 'G5', 'G6']\n",
            "Общее число символов: 57894\n",
            "Число уникальных символов: 397\n"
          ]
        }
      ]
    },
    {
      "cell_type": "markdown",
      "source": [
        "### Кодирование и разбиение корпуса"
      ],
      "metadata": {
        "id": "z-QSa6HBhQmg"
      }
    },
    {
      "cell_type": "markdown",
      "source": [
        "Далее нам необходимо выполнить кодирование и разбиение корпуса на более мелкие последовательности одинаковой длины.\n",
        "\n",
        "Мы закодируем корпус и создадим небольшие входные объекты - последовательности нот одинаковой длины и соответствующие им целевые выходные последовательности нот. Каждый объект и цель будут содержать сопоставленный индекс в словаре уникальных символов, которые они обозначают. Задача, которую мы ставим нашей модели - по входной последовательности нот предсказать продолжение мелодии."
      ],
      "metadata": {
        "id": "NK2ppoBihYfs"
      }
    },
    {
      "cell_type": "code",
      "source": [
        "# Разбиение корпуса на равные входные строки и выходные целевые последовательности\n",
        "\n",
        "# длинны последовательностей\n",
        "length = 40\n",
        "\n",
        "# входные последовательности\n",
        "features = []\n",
        "\n",
        "# целевые последовательности\n",
        "targets = []\n",
        "\n",
        "# цикл разбиения корпуса\n",
        "for i in range(0, L_corpus - length, 1):\n",
        "    feature = Corpus[i:i + length]\n",
        "    target = Corpus[i + length]\n",
        "    features.append([mapping[j] for j in feature])\n",
        "    targets.append(mapping[target])\n",
        "\n",
        "\n",
        "L_datapoints = len(targets)\n",
        "print(\"Общее количество последовательностей в корпусе:\", L_datapoints)"
      ],
      "metadata": {
        "colab": {
          "base_uri": "https://localhost:8080/"
        },
        "id": "kMm0nyooeZe-",
        "outputId": "54832bc5-eb07-4db5-9af1-cab38daf8afc"
      },
      "execution_count": 37,
      "outputs": [
        {
          "output_type": "stream",
          "name": "stdout",
          "text": [
            "Общее количество последовательностей в корпусе: 57854\n"
          ]
        }
      ]
    },
    {
      "cell_type": "markdown",
      "source": [
        "### Нормализация данных"
      ],
      "metadata": {
        "id": "l9PbpLup-JsC"
      }
    },
    {
      "cell_type": "markdown",
      "source": [
        "Прежде чем создать выборки для обучения и тестирования модели, нам необходимо изменить размер входных данных (reshape) и нормализовать (normalize) их. Для целевых выходных данных мы проведем процедуру категоризации или как мы ее называли ранее one-hot encode (мы намеренно по-разному называем и пишем однотипные понятия, чтобы вы знали варианты, которые встречаются в книгах или научных публикациях)."
      ],
      "metadata": {
        "id": "jBbnzOn8-un_"
      }
    },
    {
      "cell_type": "code",
      "source": [
        "# изменение размера и нормализация входных данных\n",
        "X = (np.reshape(features, (L_datapoints, length, 1)))/ float(L_symb)\n",
        "\n",
        "# one-hot encode для целевых выходных данных\n",
        "y = tensorflow.keras.utils.to_categorical(targets)"
      ],
      "metadata": {
        "id": "GEfMoEF_eaJS"
      },
      "execution_count": 38,
      "outputs": []
    },
    {
      "cell_type": "code",
      "source": [],
      "metadata": {
        "id": "nWv1HVGfkaqs"
      },
      "execution_count": null,
      "outputs": []
    },
    {
      "cell_type": "code",
      "source": [
        "print(f'Форма входных данных: {X.shape}')\n",
        "print(f'Форма выходных данных: {y.shape}')"
      ],
      "metadata": {
        "colab": {
          "base_uri": "https://localhost:8080/"
        },
        "id": "-RmPNocTBPTR",
        "outputId": "8c95f2d2-c297-4f57-8979-ecde58b84361"
      },
      "execution_count": 39,
      "outputs": [
        {
          "output_type": "stream",
          "name": "stdout",
          "text": [
            "Форма входных данных: (57854, 40, 1)\n",
            "Форма выходных данных: (57854, 397)\n"
          ]
        }
      ]
    },
    {
      "cell_type": "code",
      "source": [
        "class MusicDataPreprocessor:\n",
        "    def __init__(self, rare_note_threshold=5, sequence_length=100):\n",
        "        self.rare_note_threshold = rare_note_threshold\n",
        "        self.sequence_length = sequence_length\n",
        "        self.mapping = None\n",
        "        self.reverse_mapping = None\n",
        "\n",
        "    def remove_rare_notes(self, corpus):\n",
        "        \"\"\"Remove notes that appear less than the threshold times.\"\"\"\n",
        "        count_num = Counter(corpus)\n",
        "        rare_notes = [note for note, count in count_num.items()\n",
        "                     if count < self.rare_note_threshold]\n",
        "\n",
        "        return [note for note in corpus if note not in rare_notes]\n",
        "\n",
        "    def create_mappings(self, symbols):\n",
        "        \"\"\"Create forward and reverse mappings for symbols.\"\"\"\n",
        "        self.mapping = dict((c, i) for i, c in enumerate(symbols))\n",
        "        self.reverse_mapping = dict((i, c) for i, c in enumerate(symbols))\n",
        "\n",
        "    def create_sequences(self, corpus, num_symbols):\n",
        "        \"\"\"Create input sequences and corresponding targets.\"\"\"\n",
        "        features = []\n",
        "        targets = []\n",
        "\n",
        "        for i in range(0, len(corpus) - self.sequence_length):\n",
        "            feature = corpus[i:i + self.sequence_length]\n",
        "            target = corpus[i + self.sequence_length]\n",
        "            features.append([self.mapping[j] for j in feature])\n",
        "            targets.append(self.mapping[target])\n",
        "\n",
        "        X = (np.reshape(features, (-1, self.sequence_length, 1))) / float(num_symbols)\n",
        "        y = tensorflow.keras.utils.to_categorical(targets)\n",
        "\n",
        "        return X, y\n",
        "\n",
        "    def process_data(self, corpus):\n",
        "        \"\"\"Main processing pipeline.\"\"\"\n",
        "        # Remove rare notes\n",
        "        processed_corpus = self.remove_rare_notes(corpus)\n",
        "\n",
        "        # Get unique symbols\n",
        "        symbols = sorted(list(set(processed_corpus)))\n",
        "\n",
        "        # Create mappings\n",
        "        self.create_mappings(symbols)\n",
        "\n",
        "        # Print statistics\n",
        "        print(f\"Total number of symbols: {len(processed_corpus)}\")\n",
        "        print(f\"Number of unique symbols: {len(symbols)}\")\n",
        "\n",
        "        # Create sequences\n",
        "        return self.create_sequences(processed_corpus, len(symbols))"
      ],
      "metadata": {
        "id": "uZ7R0nxHoIfO"
      },
      "execution_count": 43,
      "outputs": []
    },
    {
      "cell_type": "code",
      "source": [
        "preprocessor = MusicDataPreprocessor(rare_note_threshold=5)\n",
        "X, y = preprocessor.process_data(Corpus)"
      ],
      "metadata": {
        "id": "ABpeXdB0oPyj",
        "outputId": "baecaa53-99d2-46ef-b2f9-06ee657eca78",
        "colab": {
          "base_uri": "https://localhost:8080/"
        }
      },
      "execution_count": 50,
      "outputs": [
        {
          "output_type": "stream",
          "name": "stdout",
          "text": [
            "Total number of symbols: 57648\n",
            "Number of unique symbols: 269\n"
          ]
        }
      ]
    },
    {
      "cell_type": "code",
      "source": [
        "X2, y2 = preprocessor.process_data(Corpus_starters)"
      ],
      "metadata": {
        "id": "ojM59HGAo9Sh",
        "outputId": "6ebcb834-bb91-41d9-acf8-9630673ac37e",
        "colab": {
          "base_uri": "https://localhost:8080/"
        }
      },
      "execution_count": 51,
      "outputs": [
        {
          "output_type": "stream",
          "name": "stdout",
          "text": [
            "Total number of symbols: 55719\n",
            "Number of unique symbols: 191\n"
          ]
        }
      ]
    },
    {
      "cell_type": "code",
      "source": [
        "print(f'Форма входных данных: {X.shape}')\n",
        "print(f'Форма выходных данных: {y.shape}')"
      ],
      "metadata": {
        "id": "OKjXQzQpoiRQ",
        "outputId": "50b6942c-83c0-4f0b-a2e7-01aca094f3c5",
        "colab": {
          "base_uri": "https://localhost:8080/"
        }
      },
      "execution_count": 49,
      "outputs": [
        {
          "output_type": "stream",
          "name": "stdout",
          "text": [
            "Форма входных данных: (55619, 100, 1)\n",
            "Форма выходных данных: (55619, 191)\n"
          ]
        }
      ]
    },
    {
      "cell_type": "markdown",
      "source": [
        "### Разделение выборки"
      ],
      "metadata": {
        "id": "PgOdnSSsHFpp"
      }
    },
    {
      "cell_type": "markdown",
      "source": [
        "Нам необходимо разделить наши наборы данных на тренировочные и начальные данные.\n",
        "\n",
        "Возможно у вас уже возник вопрос: \"Что еще за начальные данные?\"\n",
        "\n",
        "Все просто. Выше мы говорили, что учим нашу модель предсказывать продолжение мелодий по их начальным нотам. То есть нам нужны данные, которые запустят механизм генерации мелодии. Для этого мы и делим выборку на тренировочную и начальную. С помощью `random_state` мы задали начальные состояния для разбиения выборки, тем самым обеспечили воспроизводимость результатов. Чтобы после каждого запуска колаба результаты были похожие."
      ],
      "metadata": {
        "id": "xlu4ALboB8q3"
      }
    },
    {
      "cell_type": "code",
      "source": [
        "X_train, X_seed, y_train, y_seed = train_test_split(X, y, test_size=0.2, random_state=42)"
      ],
      "metadata": {
        "id": "LjpfzhAfecW-"
      },
      "execution_count": 40,
      "outputs": []
    },
    {
      "cell_type": "markdown",
      "source": [
        "## Архитектура сети"
      ],
      "metadata": {
        "id": "r808MXVrJ7Wr"
      }
    },
    {
      "cell_type": "code",
      "source": [
        "model = Sequential()\n",
        "\n",
        "model.add(LSTM(256, input_shape=X.shape[1:], return_sequences=True))\n",
        "model.add(Dropout(0.1))\n",
        "model.add(LSTM(128))\n",
        "model.add(Dense(128))\n",
        "model.add(Dropout(0.1))\n",
        "model.add(Dense(y.shape[1], activation='softmax'))\n",
        "\n",
        "model.compile(loss='categorical_crossentropy', optimizer='Adam', metrics=['acc'])"
      ],
      "metadata": {
        "id": "a7MAYZNbKP0q"
      },
      "execution_count": 41,
      "outputs": []
    },
    {
      "cell_type": "code",
      "source": [
        "model.summary()"
      ],
      "metadata": {
        "colab": {
          "base_uri": "https://localhost:8080/",
          "height": 321
        },
        "id": "1DtrlpJSKWMA",
        "outputId": "cb193a50-3587-459a-8000-245be7e2377a"
      },
      "execution_count": 42,
      "outputs": [
        {
          "output_type": "display_data",
          "data": {
            "text/plain": [
              "\u001b[1mModel: \"sequential\"\u001b[0m\n"
            ],
            "text/html": [
              "<pre style=\"white-space:pre;overflow-x:auto;line-height:normal;font-family:Menlo,'DejaVu Sans Mono',consolas,'Courier New',monospace\"><span style=\"font-weight: bold\">Model: \"sequential\"</span>\n",
              "</pre>\n"
            ]
          },
          "metadata": {}
        },
        {
          "output_type": "display_data",
          "data": {
            "text/plain": [
              "┏━━━━━━━━━━━━━━━━━━━━━━━━━━━━━━━━━━━━━━┳━━━━━━━━━━━━━━━━━━━━━━━━━━━━━┳━━━━━━━━━━━━━━━━━┓\n",
              "┃\u001b[1m \u001b[0m\u001b[1mLayer (type)                        \u001b[0m\u001b[1m \u001b[0m┃\u001b[1m \u001b[0m\u001b[1mOutput Shape               \u001b[0m\u001b[1m \u001b[0m┃\u001b[1m \u001b[0m\u001b[1m        Param #\u001b[0m\u001b[1m \u001b[0m┃\n",
              "┡━━━━━━━━━━━━━━━━━━━━━━━━━━━━━━━━━━━━━━╇━━━━━━━━━━━━━━━━━━━━━━━━━━━━━╇━━━━━━━━━━━━━━━━━┩\n",
              "│ lstm (\u001b[38;5;33mLSTM\u001b[0m)                          │ (\u001b[38;5;45mNone\u001b[0m, \u001b[38;5;34m40\u001b[0m, \u001b[38;5;34m256\u001b[0m)             │         \u001b[38;5;34m264,192\u001b[0m │\n",
              "├──────────────────────────────────────┼─────────────────────────────┼─────────────────┤\n",
              "│ dropout (\u001b[38;5;33mDropout\u001b[0m)                    │ (\u001b[38;5;45mNone\u001b[0m, \u001b[38;5;34m40\u001b[0m, \u001b[38;5;34m256\u001b[0m)             │               \u001b[38;5;34m0\u001b[0m │\n",
              "├──────────────────────────────────────┼─────────────────────────────┼─────────────────┤\n",
              "│ lstm_1 (\u001b[38;5;33mLSTM\u001b[0m)                        │ (\u001b[38;5;45mNone\u001b[0m, \u001b[38;5;34m128\u001b[0m)                 │         \u001b[38;5;34m197,120\u001b[0m │\n",
              "├──────────────────────────────────────┼─────────────────────────────┼─────────────────┤\n",
              "│ dense (\u001b[38;5;33mDense\u001b[0m)                        │ (\u001b[38;5;45mNone\u001b[0m, \u001b[38;5;34m128\u001b[0m)                 │          \u001b[38;5;34m16,512\u001b[0m │\n",
              "├──────────────────────────────────────┼─────────────────────────────┼─────────────────┤\n",
              "│ dropout_1 (\u001b[38;5;33mDropout\u001b[0m)                  │ (\u001b[38;5;45mNone\u001b[0m, \u001b[38;5;34m128\u001b[0m)                 │               \u001b[38;5;34m0\u001b[0m │\n",
              "├──────────────────────────────────────┼─────────────────────────────┼─────────────────┤\n",
              "│ dense_1 (\u001b[38;5;33mDense\u001b[0m)                      │ (\u001b[38;5;45mNone\u001b[0m, \u001b[38;5;34m397\u001b[0m)                 │          \u001b[38;5;34m51,213\u001b[0m │\n",
              "└──────────────────────────────────────┴─────────────────────────────┴─────────────────┘\n"
            ],
            "text/html": [
              "<pre style=\"white-space:pre;overflow-x:auto;line-height:normal;font-family:Menlo,'DejaVu Sans Mono',consolas,'Courier New',monospace\">┏━━━━━━━━━━━━━━━━━━━━━━━━━━━━━━━━━━━━━━┳━━━━━━━━━━━━━━━━━━━━━━━━━━━━━┳━━━━━━━━━━━━━━━━━┓\n",
              "┃<span style=\"font-weight: bold\"> Layer (type)                         </span>┃<span style=\"font-weight: bold\"> Output Shape                </span>┃<span style=\"font-weight: bold\">         Param # </span>┃\n",
              "┡━━━━━━━━━━━━━━━━━━━━━━━━━━━━━━━━━━━━━━╇━━━━━━━━━━━━━━━━━━━━━━━━━━━━━╇━━━━━━━━━━━━━━━━━┩\n",
              "│ lstm (<span style=\"color: #0087ff; text-decoration-color: #0087ff\">LSTM</span>)                          │ (<span style=\"color: #00d7ff; text-decoration-color: #00d7ff\">None</span>, <span style=\"color: #00af00; text-decoration-color: #00af00\">40</span>, <span style=\"color: #00af00; text-decoration-color: #00af00\">256</span>)             │         <span style=\"color: #00af00; text-decoration-color: #00af00\">264,192</span> │\n",
              "├──────────────────────────────────────┼─────────────────────────────┼─────────────────┤\n",
              "│ dropout (<span style=\"color: #0087ff; text-decoration-color: #0087ff\">Dropout</span>)                    │ (<span style=\"color: #00d7ff; text-decoration-color: #00d7ff\">None</span>, <span style=\"color: #00af00; text-decoration-color: #00af00\">40</span>, <span style=\"color: #00af00; text-decoration-color: #00af00\">256</span>)             │               <span style=\"color: #00af00; text-decoration-color: #00af00\">0</span> │\n",
              "├──────────────────────────────────────┼─────────────────────────────┼─────────────────┤\n",
              "│ lstm_1 (<span style=\"color: #0087ff; text-decoration-color: #0087ff\">LSTM</span>)                        │ (<span style=\"color: #00d7ff; text-decoration-color: #00d7ff\">None</span>, <span style=\"color: #00af00; text-decoration-color: #00af00\">128</span>)                 │         <span style=\"color: #00af00; text-decoration-color: #00af00\">197,120</span> │\n",
              "├──────────────────────────────────────┼─────────────────────────────┼─────────────────┤\n",
              "│ dense (<span style=\"color: #0087ff; text-decoration-color: #0087ff\">Dense</span>)                        │ (<span style=\"color: #00d7ff; text-decoration-color: #00d7ff\">None</span>, <span style=\"color: #00af00; text-decoration-color: #00af00\">128</span>)                 │          <span style=\"color: #00af00; text-decoration-color: #00af00\">16,512</span> │\n",
              "├──────────────────────────────────────┼─────────────────────────────┼─────────────────┤\n",
              "│ dropout_1 (<span style=\"color: #0087ff; text-decoration-color: #0087ff\">Dropout</span>)                  │ (<span style=\"color: #00d7ff; text-decoration-color: #00d7ff\">None</span>, <span style=\"color: #00af00; text-decoration-color: #00af00\">128</span>)                 │               <span style=\"color: #00af00; text-decoration-color: #00af00\">0</span> │\n",
              "├──────────────────────────────────────┼─────────────────────────────┼─────────────────┤\n",
              "│ dense_1 (<span style=\"color: #0087ff; text-decoration-color: #0087ff\">Dense</span>)                      │ (<span style=\"color: #00d7ff; text-decoration-color: #00d7ff\">None</span>, <span style=\"color: #00af00; text-decoration-color: #00af00\">397</span>)                 │          <span style=\"color: #00af00; text-decoration-color: #00af00\">51,213</span> │\n",
              "└──────────────────────────────────────┴─────────────────────────────┴─────────────────┘\n",
              "</pre>\n"
            ]
          },
          "metadata": {}
        },
        {
          "output_type": "display_data",
          "data": {
            "text/plain": [
              "\u001b[1m Total params: \u001b[0m\u001b[38;5;34m529,037\u001b[0m (2.02 MB)\n"
            ],
            "text/html": [
              "<pre style=\"white-space:pre;overflow-x:auto;line-height:normal;font-family:Menlo,'DejaVu Sans Mono',consolas,'Courier New',monospace\"><span style=\"font-weight: bold\"> Total params: </span><span style=\"color: #00af00; text-decoration-color: #00af00\">529,037</span> (2.02 MB)\n",
              "</pre>\n"
            ]
          },
          "metadata": {}
        },
        {
          "output_type": "display_data",
          "data": {
            "text/plain": [
              "\u001b[1m Trainable params: \u001b[0m\u001b[38;5;34m529,037\u001b[0m (2.02 MB)\n"
            ],
            "text/html": [
              "<pre style=\"white-space:pre;overflow-x:auto;line-height:normal;font-family:Menlo,'DejaVu Sans Mono',consolas,'Courier New',monospace\"><span style=\"font-weight: bold\"> Trainable params: </span><span style=\"color: #00af00; text-decoration-color: #00af00\">529,037</span> (2.02 MB)\n",
              "</pre>\n"
            ]
          },
          "metadata": {}
        },
        {
          "output_type": "display_data",
          "data": {
            "text/plain": [
              "\u001b[1m Non-trainable params: \u001b[0m\u001b[38;5;34m0\u001b[0m (0.00 B)\n"
            ],
            "text/html": [
              "<pre style=\"white-space:pre;overflow-x:auto;line-height:normal;font-family:Menlo,'DejaVu Sans Mono',consolas,'Courier New',monospace\"><span style=\"font-weight: bold\"> Non-trainable params: </span><span style=\"color: #00af00; text-decoration-color: #00af00\">0</span> (0.00 B)\n",
              "</pre>\n"
            ]
          },
          "metadata": {}
        }
      ]
    },
    {
      "cell_type": "code",
      "source": [
        "history = model.fit(X_train, y_train, batch_size=256, epochs=150)"
      ],
      "metadata": {
        "colab": {
          "base_uri": "https://localhost:8080/"
        },
        "id": "osZlVcL2K_d0",
        "outputId": "ea013193-7313-46f1-aa78-b49d2b5ded73"
      },
      "execution_count": 52,
      "outputs": [
        {
          "output_type": "stream",
          "name": "stdout",
          "text": [
            "Epoch 1/150\n",
            "\u001b[1m181/181\u001b[0m \u001b[32m━━━━━━━━━━━━━━━━━━━━\u001b[0m\u001b[37m\u001b[0m \u001b[1m8s\u001b[0m 19ms/step - acc: 0.0212 - loss: 5.1559\n",
            "Epoch 2/150\n",
            "\u001b[1m181/181\u001b[0m \u001b[32m━━━━━━━━━━━━━━━━━━━━\u001b[0m\u001b[37m\u001b[0m \u001b[1m3s\u001b[0m 19ms/step - acc: 0.0249 - loss: 4.9296\n",
            "Epoch 3/150\n",
            "\u001b[1m181/181\u001b[0m \u001b[32m━━━━━━━━━━━━━━━━━━━━\u001b[0m\u001b[37m\u001b[0m \u001b[1m5s\u001b[0m 18ms/step - acc: 0.0286 - loss: 4.7974\n",
            "Epoch 4/150\n",
            "\u001b[1m181/181\u001b[0m \u001b[32m━━━━━━━━━━━━━━━━━━━━\u001b[0m\u001b[37m\u001b[0m \u001b[1m5s\u001b[0m 20ms/step - acc: 0.0330 - loss: 4.6889\n",
            "Epoch 5/150\n",
            "\u001b[1m181/181\u001b[0m \u001b[32m━━━━━━━━━━━━━━━━━━━━\u001b[0m\u001b[37m\u001b[0m \u001b[1m3s\u001b[0m 19ms/step - acc: 0.0360 - loss: 4.6749\n",
            "Epoch 6/150\n",
            "\u001b[1m181/181\u001b[0m \u001b[32m━━━━━━━━━━━━━━━━━━━━\u001b[0m\u001b[37m\u001b[0m \u001b[1m5s\u001b[0m 19ms/step - acc: 0.0353 - loss: 4.6556\n",
            "Epoch 7/150\n",
            "\u001b[1m181/181\u001b[0m \u001b[32m━━━━━━━━━━━━━━━━━━━━\u001b[0m\u001b[37m\u001b[0m \u001b[1m4s\u001b[0m 20ms/step - acc: 0.0361 - loss: 4.6485\n",
            "Epoch 8/150\n",
            "\u001b[1m181/181\u001b[0m \u001b[32m━━━━━━━━━━━━━━━━━━━━\u001b[0m\u001b[37m\u001b[0m \u001b[1m3s\u001b[0m 19ms/step - acc: 0.0367 - loss: 4.6331\n",
            "Epoch 9/150\n",
            "\u001b[1m181/181\u001b[0m \u001b[32m━━━━━━━━━━━━━━━━━━━━\u001b[0m\u001b[37m\u001b[0m \u001b[1m5s\u001b[0m 19ms/step - acc: 0.0354 - loss: 4.6360\n",
            "Epoch 10/150\n",
            "\u001b[1m181/181\u001b[0m \u001b[32m━━━━━━━━━━━━━━━━━━━━\u001b[0m\u001b[37m\u001b[0m \u001b[1m4s\u001b[0m 19ms/step - acc: 0.0391 - loss: 4.6128\n",
            "Epoch 11/150\n",
            "\u001b[1m181/181\u001b[0m \u001b[32m━━━━━━━━━━━━━━━━━━━━\u001b[0m\u001b[37m\u001b[0m \u001b[1m5s\u001b[0m 18ms/step - acc: 0.0380 - loss: 4.6055\n",
            "Epoch 12/150\n",
            "\u001b[1m181/181\u001b[0m \u001b[32m━━━━━━━━━━━━━━━━━━━━\u001b[0m\u001b[37m\u001b[0m \u001b[1m5s\u001b[0m 19ms/step - acc: 0.0364 - loss: 4.6020\n",
            "Epoch 13/150\n",
            "\u001b[1m181/181\u001b[0m \u001b[32m━━━━━━━━━━━━━━━━━━━━\u001b[0m\u001b[37m\u001b[0m \u001b[1m4s\u001b[0m 20ms/step - acc: 0.0386 - loss: 4.5910\n",
            "Epoch 14/150\n",
            "\u001b[1m181/181\u001b[0m \u001b[32m━━━━━━━━━━━━━━━━━━━━\u001b[0m\u001b[37m\u001b[0m \u001b[1m5s\u001b[0m 18ms/step - acc: 0.0374 - loss: 4.5847\n",
            "Epoch 15/150\n",
            "\u001b[1m181/181\u001b[0m \u001b[32m━━━━━━━━━━━━━━━━━━━━\u001b[0m\u001b[37m\u001b[0m \u001b[1m5s\u001b[0m 20ms/step - acc: 0.0400 - loss: 4.5763\n",
            "Epoch 16/150\n",
            "\u001b[1m181/181\u001b[0m \u001b[32m━━━━━━━━━━━━━━━━━━━━\u001b[0m\u001b[37m\u001b[0m \u001b[1m5s\u001b[0m 18ms/step - acc: 0.0391 - loss: 4.5576\n",
            "Epoch 17/150\n",
            "\u001b[1m181/181\u001b[0m \u001b[32m━━━━━━━━━━━━━━━━━━━━\u001b[0m\u001b[37m\u001b[0m \u001b[1m5s\u001b[0m 18ms/step - acc: 0.0409 - loss: 4.5517\n",
            "Epoch 18/150\n",
            "\u001b[1m181/181\u001b[0m \u001b[32m━━━━━━━━━━━━━━━━━━━━\u001b[0m\u001b[37m\u001b[0m \u001b[1m4s\u001b[0m 20ms/step - acc: 0.0433 - loss: 4.5250\n",
            "Epoch 19/150\n",
            "\u001b[1m181/181\u001b[0m \u001b[32m━━━━━━━━━━━━━━━━━━━━\u001b[0m\u001b[37m\u001b[0m \u001b[1m3s\u001b[0m 18ms/step - acc: 0.0467 - loss: 4.4980\n",
            "Epoch 20/150\n",
            "\u001b[1m181/181\u001b[0m \u001b[32m━━━━━━━━━━━━━━━━━━━━\u001b[0m\u001b[37m\u001b[0m \u001b[1m3s\u001b[0m 18ms/step - acc: 0.0471 - loss: 4.4983\n",
            "Epoch 21/150\n",
            "\u001b[1m181/181\u001b[0m \u001b[32m━━━━━━━━━━━━━━━━━━━━\u001b[0m\u001b[37m\u001b[0m \u001b[1m5s\u001b[0m 19ms/step - acc: 0.0524 - loss: 4.4570\n",
            "Epoch 22/150\n",
            "\u001b[1m181/181\u001b[0m \u001b[32m━━━━━━━━━━━━━━━━━━━━\u001b[0m\u001b[37m\u001b[0m \u001b[1m3s\u001b[0m 19ms/step - acc: 0.0548 - loss: 4.4242\n",
            "Epoch 23/150\n",
            "\u001b[1m181/181\u001b[0m \u001b[32m━━━━━━━━━━━━━━━━━━━━\u001b[0m\u001b[37m\u001b[0m \u001b[1m5s\u001b[0m 18ms/step - acc: 0.0586 - loss: 4.3719\n",
            "Epoch 24/150\n",
            "\u001b[1m181/181\u001b[0m \u001b[32m━━━━━━━━━━━━━━━━━━━━\u001b[0m\u001b[37m\u001b[0m \u001b[1m5s\u001b[0m 20ms/step - acc: 0.0654 - loss: 4.3393\n",
            "Epoch 25/150\n",
            "\u001b[1m181/181\u001b[0m \u001b[32m━━━━━━━━━━━━━━━━━━━━\u001b[0m\u001b[37m\u001b[0m \u001b[1m5s\u001b[0m 19ms/step - acc: 0.0699 - loss: 4.2752\n",
            "Epoch 26/150\n",
            "\u001b[1m181/181\u001b[0m \u001b[32m━━━━━━━━━━━━━━━━━━━━\u001b[0m\u001b[37m\u001b[0m \u001b[1m5s\u001b[0m 19ms/step - acc: 0.0771 - loss: 4.2299\n",
            "Epoch 27/150\n",
            "\u001b[1m181/181\u001b[0m \u001b[32m━━━━━━━━━━━━━━━━━━━━\u001b[0m\u001b[37m\u001b[0m \u001b[1m4s\u001b[0m 20ms/step - acc: 0.0852 - loss: 4.1774\n",
            "Epoch 28/150\n",
            "\u001b[1m181/181\u001b[0m \u001b[32m━━━━━━━━━━━━━━━━━━━━\u001b[0m\u001b[37m\u001b[0m \u001b[1m5s\u001b[0m 19ms/step - acc: 0.0943 - loss: 4.1093\n",
            "Epoch 29/150\n",
            "\u001b[1m181/181\u001b[0m \u001b[32m━━━━━━━━━━━━━━━━━━━━\u001b[0m\u001b[37m\u001b[0m \u001b[1m3s\u001b[0m 19ms/step - acc: 0.1036 - loss: 4.0368\n",
            "Epoch 30/150\n",
            "\u001b[1m181/181\u001b[0m \u001b[32m━━━━━━━━━━━━━━━━━━━━\u001b[0m\u001b[37m\u001b[0m \u001b[1m4s\u001b[0m 20ms/step - acc: 0.1145 - loss: 3.9572\n",
            "Epoch 31/150\n",
            "\u001b[1m181/181\u001b[0m \u001b[32m━━━━━━━━━━━━━━━━━━━━\u001b[0m\u001b[37m\u001b[0m \u001b[1m3s\u001b[0m 19ms/step - acc: 0.1239 - loss: 3.8843\n",
            "Epoch 32/150\n",
            "\u001b[1m181/181\u001b[0m \u001b[32m━━━━━━━━━━━━━━━━━━━━\u001b[0m\u001b[37m\u001b[0m \u001b[1m5s\u001b[0m 18ms/step - acc: 0.1336 - loss: 3.8168\n",
            "Epoch 33/150\n",
            "\u001b[1m181/181\u001b[0m \u001b[32m━━━━━━━━━━━━━━━━━━━━\u001b[0m\u001b[37m\u001b[0m \u001b[1m4s\u001b[0m 20ms/step - acc: 0.1450 - loss: 3.7381\n",
            "Epoch 34/150\n",
            "\u001b[1m181/181\u001b[0m \u001b[32m━━━━━━━━━━━━━━━━━━━━\u001b[0m\u001b[37m\u001b[0m \u001b[1m5s\u001b[0m 18ms/step - acc: 0.1568 - loss: 3.6684\n",
            "Epoch 35/150\n",
            "\u001b[1m181/181\u001b[0m \u001b[32m━━━━━━━━━━━━━━━━━━━━\u001b[0m\u001b[37m\u001b[0m \u001b[1m5s\u001b[0m 19ms/step - acc: 0.1719 - loss: 3.5683\n",
            "Epoch 36/150\n",
            "\u001b[1m181/181\u001b[0m \u001b[32m━━━━━━━━━━━━━━━━━━━━\u001b[0m\u001b[37m\u001b[0m \u001b[1m4s\u001b[0m 20ms/step - acc: 0.1809 - loss: 3.5104\n",
            "Epoch 37/150\n",
            "\u001b[1m181/181\u001b[0m \u001b[32m━━━━━━━━━━━━━━━━━━━━\u001b[0m\u001b[37m\u001b[0m \u001b[1m3s\u001b[0m 18ms/step - acc: 0.1927 - loss: 3.4355\n",
            "Epoch 38/150\n",
            "\u001b[1m181/181\u001b[0m \u001b[32m━━━━━━━━━━━━━━━━━━━━\u001b[0m\u001b[37m\u001b[0m \u001b[1m5s\u001b[0m 18ms/step - acc: 0.2023 - loss: 3.3767\n",
            "Epoch 39/150\n",
            "\u001b[1m181/181\u001b[0m \u001b[32m━━━━━━━━━━━━━━━━━━━━\u001b[0m\u001b[37m\u001b[0m \u001b[1m5s\u001b[0m 19ms/step - acc: 0.2124 - loss: 3.2969\n",
            "Epoch 40/150\n",
            "\u001b[1m181/181\u001b[0m \u001b[32m━━━━━━━━━━━━━━━━━━━━\u001b[0m\u001b[37m\u001b[0m \u001b[1m5s\u001b[0m 19ms/step - acc: 0.2249 - loss: 3.2397\n",
            "Epoch 41/150\n",
            "\u001b[1m181/181\u001b[0m \u001b[32m━━━━━━━━━━━━━━━━━━━━\u001b[0m\u001b[37m\u001b[0m \u001b[1m4s\u001b[0m 19ms/step - acc: 0.2349 - loss: 3.1760\n",
            "Epoch 42/150\n",
            "\u001b[1m181/181\u001b[0m \u001b[32m━━━━━━━━━━━━━━━━━━━━\u001b[0m\u001b[37m\u001b[0m \u001b[1m5s\u001b[0m 19ms/step - acc: 0.2441 - loss: 3.1262\n",
            "Epoch 43/150\n",
            "\u001b[1m181/181\u001b[0m \u001b[32m━━━━━━━━━━━━━━━━━━━━\u001b[0m\u001b[37m\u001b[0m \u001b[1m3s\u001b[0m 19ms/step - acc: 0.2592 - loss: 3.0593\n",
            "Epoch 44/150\n",
            "\u001b[1m181/181\u001b[0m \u001b[32m━━━━━━━━━━━━━━━━━━━━\u001b[0m\u001b[37m\u001b[0m \u001b[1m5s\u001b[0m 20ms/step - acc: 0.2710 - loss: 2.9858\n",
            "Epoch 45/150\n",
            "\u001b[1m181/181\u001b[0m \u001b[32m━━━━━━━━━━━━━━━━━━━━\u001b[0m\u001b[37m\u001b[0m \u001b[1m3s\u001b[0m 18ms/step - acc: 0.2759 - loss: 2.9434\n",
            "Epoch 46/150\n",
            "\u001b[1m181/181\u001b[0m \u001b[32m━━━━━━━━━━━━━━━━━━━━\u001b[0m\u001b[37m\u001b[0m \u001b[1m5s\u001b[0m 19ms/step - acc: 0.2886 - loss: 2.8911\n",
            "Epoch 47/150\n",
            "\u001b[1m181/181\u001b[0m \u001b[32m━━━━━━━━━━━━━━━━━━━━\u001b[0m\u001b[37m\u001b[0m \u001b[1m4s\u001b[0m 20ms/step - acc: 0.2991 - loss: 2.8281\n",
            "Epoch 48/150\n",
            "\u001b[1m181/181\u001b[0m \u001b[32m━━━━━━━━━━━━━━━━━━━━\u001b[0m\u001b[37m\u001b[0m \u001b[1m5s\u001b[0m 18ms/step - acc: 0.3052 - loss: 2.7840\n",
            "Epoch 49/150\n",
            "\u001b[1m181/181\u001b[0m \u001b[32m━━━━━━━━━━━━━━━━━━━━\u001b[0m\u001b[37m\u001b[0m \u001b[1m3s\u001b[0m 19ms/step - acc: 0.3173 - loss: 2.7357\n",
            "Epoch 50/150\n",
            "\u001b[1m181/181\u001b[0m \u001b[32m━━━━━━━━━━━━━━━━━━━━\u001b[0m\u001b[37m\u001b[0m \u001b[1m4s\u001b[0m 19ms/step - acc: 0.3306 - loss: 2.6744\n",
            "Epoch 51/150\n",
            "\u001b[1m181/181\u001b[0m \u001b[32m━━━━━━━━━━━━━━━━━━━━\u001b[0m\u001b[37m\u001b[0m \u001b[1m5s\u001b[0m 19ms/step - acc: 0.3405 - loss: 2.6196\n",
            "Epoch 52/150\n",
            "\u001b[1m181/181\u001b[0m \u001b[32m━━━━━━━━━━━━━━━━━━━━\u001b[0m\u001b[37m\u001b[0m \u001b[1m3s\u001b[0m 18ms/step - acc: 0.3468 - loss: 2.5791\n",
            "Epoch 53/150\n",
            "\u001b[1m181/181\u001b[0m \u001b[32m━━━━━━━━━━━━━━━━━━━━\u001b[0m\u001b[37m\u001b[0m \u001b[1m5s\u001b[0m 20ms/step - acc: 0.3526 - loss: 2.5546\n",
            "Epoch 54/150\n",
            "\u001b[1m181/181\u001b[0m \u001b[32m━━━━━━━━━━━━━━━━━━━━\u001b[0m\u001b[37m\u001b[0m \u001b[1m5s\u001b[0m 18ms/step - acc: 0.3703 - loss: 2.4773\n",
            "Epoch 55/150\n",
            "\u001b[1m181/181\u001b[0m \u001b[32m━━━━━━━━━━━━━━━━━━━━\u001b[0m\u001b[37m\u001b[0m \u001b[1m3s\u001b[0m 19ms/step - acc: 0.3739 - loss: 2.4559\n",
            "Epoch 56/150\n",
            "\u001b[1m181/181\u001b[0m \u001b[32m━━━━━━━━━━━━━━━━━━━━\u001b[0m\u001b[37m\u001b[0m \u001b[1m5s\u001b[0m 19ms/step - acc: 0.3813 - loss: 2.4230\n",
            "Epoch 57/150\n",
            "\u001b[1m181/181\u001b[0m \u001b[32m━━━━━━━━━━━━━━━━━━━━\u001b[0m\u001b[37m\u001b[0m \u001b[1m3s\u001b[0m 18ms/step - acc: 0.3914 - loss: 2.3613\n",
            "Epoch 58/150\n",
            "\u001b[1m181/181\u001b[0m \u001b[32m━━━━━━━━━━━━━━━━━━━━\u001b[0m\u001b[37m\u001b[0m \u001b[1m3s\u001b[0m 18ms/step - acc: 0.4019 - loss: 2.3230\n",
            "Epoch 59/150\n",
            "\u001b[1m181/181\u001b[0m \u001b[32m━━━━━━━━━━━━━━━━━━━━\u001b[0m\u001b[37m\u001b[0m \u001b[1m5s\u001b[0m 20ms/step - acc: 0.4035 - loss: 2.2881\n",
            "Epoch 60/150\n",
            "\u001b[1m181/181\u001b[0m \u001b[32m━━━━━━━━━━━━━━━━━━━━\u001b[0m\u001b[37m\u001b[0m \u001b[1m3s\u001b[0m 18ms/step - acc: 0.4161 - loss: 2.2345\n",
            "Epoch 61/150\n",
            "\u001b[1m181/181\u001b[0m \u001b[32m━━━━━━━━━━━━━━━━━━━━\u001b[0m\u001b[37m\u001b[0m \u001b[1m3s\u001b[0m 18ms/step - acc: 0.4330 - loss: 2.1865\n",
            "Epoch 62/150\n",
            "\u001b[1m181/181\u001b[0m \u001b[32m━━━━━━━━━━━━━━━━━━━━\u001b[0m\u001b[37m\u001b[0m \u001b[1m5s\u001b[0m 20ms/step - acc: 0.4373 - loss: 2.1467\n",
            "Epoch 63/150\n",
            "\u001b[1m181/181\u001b[0m \u001b[32m━━━━━━━━━━━━━━━━━━━━\u001b[0m\u001b[37m\u001b[0m \u001b[1m5s\u001b[0m 18ms/step - acc: 0.4390 - loss: 2.1322\n",
            "Epoch 64/150\n",
            "\u001b[1m181/181\u001b[0m \u001b[32m━━━━━━━━━━━━━━━━━━━━\u001b[0m\u001b[37m\u001b[0m \u001b[1m3s\u001b[0m 18ms/step - acc: 0.4464 - loss: 2.1041\n",
            "Epoch 65/150\n",
            "\u001b[1m181/181\u001b[0m \u001b[32m━━━━━━━━━━━━━━━━━━━━\u001b[0m\u001b[37m\u001b[0m \u001b[1m5s\u001b[0m 19ms/step - acc: 0.4554 - loss: 2.0557\n",
            "Epoch 66/150\n",
            "\u001b[1m181/181\u001b[0m \u001b[32m━━━━━━━━━━━━━━━━━━━━\u001b[0m\u001b[37m\u001b[0m \u001b[1m5s\u001b[0m 19ms/step - acc: 0.4624 - loss: 2.0196\n",
            "Epoch 67/150\n",
            "\u001b[1m181/181\u001b[0m \u001b[32m━━━━━━━━━━━━━━━━━━━━\u001b[0m\u001b[37m\u001b[0m \u001b[1m4s\u001b[0m 19ms/step - acc: 0.4685 - loss: 1.9922\n",
            "Epoch 68/150\n",
            "\u001b[1m181/181\u001b[0m \u001b[32m━━━━━━━━━━━━━━━━━━━━\u001b[0m\u001b[37m\u001b[0m \u001b[1m5s\u001b[0m 19ms/step - acc: 0.4815 - loss: 1.9370\n",
            "Epoch 69/150\n",
            "\u001b[1m181/181\u001b[0m \u001b[32m━━━━━━━━━━━━━━━━━━━━\u001b[0m\u001b[37m\u001b[0m \u001b[1m3s\u001b[0m 19ms/step - acc: 0.4862 - loss: 1.9154\n",
            "Epoch 70/150\n",
            "\u001b[1m181/181\u001b[0m \u001b[32m━━━━━━━━━━━━━━━━━━━━\u001b[0m\u001b[37m\u001b[0m \u001b[1m5s\u001b[0m 20ms/step - acc: 0.4962 - loss: 1.8808\n",
            "Epoch 71/150\n",
            "\u001b[1m181/181\u001b[0m \u001b[32m━━━━━━━━━━━━━━━━━━━━\u001b[0m\u001b[37m\u001b[0m \u001b[1m3s\u001b[0m 18ms/step - acc: 0.4985 - loss: 1.8572\n",
            "Epoch 72/150\n",
            "\u001b[1m181/181\u001b[0m \u001b[32m━━━━━━━━━━━━━━━━━━━━\u001b[0m\u001b[37m\u001b[0m \u001b[1m5s\u001b[0m 19ms/step - acc: 0.5091 - loss: 1.8197\n",
            "Epoch 73/150\n",
            "\u001b[1m181/181\u001b[0m \u001b[32m━━━━━━━━━━━━━━━━━━━━\u001b[0m\u001b[37m\u001b[0m \u001b[1m5s\u001b[0m 20ms/step - acc: 0.5180 - loss: 1.7873\n",
            "Epoch 74/150\n",
            "\u001b[1m181/181\u001b[0m \u001b[32m━━━━━━━━━━━━━━━━━━━━\u001b[0m\u001b[37m\u001b[0m \u001b[1m3s\u001b[0m 19ms/step - acc: 0.5216 - loss: 1.7655\n",
            "Epoch 75/150\n",
            "\u001b[1m181/181\u001b[0m \u001b[32m━━━━━━━━━━━━━━━━━━━━\u001b[0m\u001b[37m\u001b[0m \u001b[1m5s\u001b[0m 19ms/step - acc: 0.5259 - loss: 1.7343\n",
            "Epoch 76/150\n",
            "\u001b[1m181/181\u001b[0m \u001b[32m━━━━━━━━━━━━━━━━━━━━\u001b[0m\u001b[37m\u001b[0m \u001b[1m5s\u001b[0m 19ms/step - acc: 0.5426 - loss: 1.6798\n",
            "Epoch 77/150\n",
            "\u001b[1m181/181\u001b[0m \u001b[32m━━━━━━━━━━━━━━━━━━━━\u001b[0m\u001b[37m\u001b[0m \u001b[1m3s\u001b[0m 19ms/step - acc: 0.5424 - loss: 1.6810\n",
            "Epoch 78/150\n",
            "\u001b[1m181/181\u001b[0m \u001b[32m━━━━━━━━━━━━━━━━━━━━\u001b[0m\u001b[37m\u001b[0m \u001b[1m5s\u001b[0m 20ms/step - acc: 0.5487 - loss: 1.6351\n",
            "Epoch 79/150\n",
            "\u001b[1m181/181\u001b[0m \u001b[32m━━━━━━━━━━━━━━━━━━━━\u001b[0m\u001b[37m\u001b[0m \u001b[1m5s\u001b[0m 18ms/step - acc: 0.5589 - loss: 1.6092\n",
            "Epoch 80/150\n",
            "\u001b[1m181/181\u001b[0m \u001b[32m━━━━━━━━━━━━━━━━━━━━\u001b[0m\u001b[37m\u001b[0m \u001b[1m5s\u001b[0m 19ms/step - acc: 0.5618 - loss: 1.5850\n",
            "Epoch 81/150\n",
            "\u001b[1m181/181\u001b[0m \u001b[32m━━━━━━━━━━━━━━━━━━━━\u001b[0m\u001b[37m\u001b[0m \u001b[1m4s\u001b[0m 20ms/step - acc: 0.5703 - loss: 1.5427\n",
            "Epoch 82/150\n",
            "\u001b[1m181/181\u001b[0m \u001b[32m━━━━━━━━━━━━━━━━━━━━\u001b[0m\u001b[37m\u001b[0m \u001b[1m3s\u001b[0m 18ms/step - acc: 0.5698 - loss: 1.5514\n",
            "Epoch 83/150\n",
            "\u001b[1m181/181\u001b[0m \u001b[32m━━━━━━━━━━━━━━━━━━━━\u001b[0m\u001b[37m\u001b[0m \u001b[1m3s\u001b[0m 19ms/step - acc: 0.5759 - loss: 1.5113\n",
            "Epoch 84/150\n",
            "\u001b[1m181/181\u001b[0m \u001b[32m━━━━━━━━━━━━━━━━━━━━\u001b[0m\u001b[37m\u001b[0m \u001b[1m3s\u001b[0m 19ms/step - acc: 0.5815 - loss: 1.4956\n",
            "Epoch 85/150\n",
            "\u001b[1m181/181\u001b[0m \u001b[32m━━━━━━━━━━━━━━━━━━━━\u001b[0m\u001b[37m\u001b[0m \u001b[1m5s\u001b[0m 19ms/step - acc: 0.5930 - loss: 1.4654\n",
            "Epoch 86/150\n",
            "\u001b[1m181/181\u001b[0m \u001b[32m━━━━━━━━━━━━━━━━━━━━\u001b[0m\u001b[37m\u001b[0m \u001b[1m5s\u001b[0m 19ms/step - acc: 0.5967 - loss: 1.4340\n",
            "Epoch 87/150\n",
            "\u001b[1m181/181\u001b[0m \u001b[32m━━━━━━━━━━━━━━━━━━━━\u001b[0m\u001b[37m\u001b[0m \u001b[1m4s\u001b[0m 20ms/step - acc: 0.6024 - loss: 1.4065\n",
            "Epoch 88/150\n",
            "\u001b[1m181/181\u001b[0m \u001b[32m━━━━━━━━━━━━━━━━━━━━\u001b[0m\u001b[37m\u001b[0m \u001b[1m3s\u001b[0m 19ms/step - acc: 0.6019 - loss: 1.4122\n",
            "Epoch 89/150\n",
            "\u001b[1m181/181\u001b[0m \u001b[32m━━━━━━━━━━━━━━━━━━━━\u001b[0m\u001b[37m\u001b[0m \u001b[1m5s\u001b[0m 19ms/step - acc: 0.6108 - loss: 1.3689\n",
            "Epoch 90/150\n",
            "\u001b[1m181/181\u001b[0m \u001b[32m━━━━━━━━━━━━━━━━━━━━\u001b[0m\u001b[37m\u001b[0m \u001b[1m5s\u001b[0m 19ms/step - acc: 0.6127 - loss: 1.3677\n",
            "Epoch 91/150\n",
            "\u001b[1m181/181\u001b[0m \u001b[32m━━━━━━━━━━━━━━━━━━━━\u001b[0m\u001b[37m\u001b[0m \u001b[1m5s\u001b[0m 18ms/step - acc: 0.6188 - loss: 1.3390\n",
            "Epoch 92/150\n",
            "\u001b[1m181/181\u001b[0m \u001b[32m━━━━━━━━━━━━━━━━━━━━\u001b[0m\u001b[37m\u001b[0m \u001b[1m3s\u001b[0m 19ms/step - acc: 0.6291 - loss: 1.3052\n",
            "Epoch 93/150\n",
            "\u001b[1m181/181\u001b[0m \u001b[32m━━━━━━━━━━━━━━━━━━━━\u001b[0m\u001b[37m\u001b[0m \u001b[1m4s\u001b[0m 20ms/step - acc: 0.6275 - loss: 1.2976\n",
            "Epoch 94/150\n",
            "\u001b[1m181/181\u001b[0m \u001b[32m━━━━━━━━━━━━━━━━━━━━\u001b[0m\u001b[37m\u001b[0m \u001b[1m5s\u001b[0m 19ms/step - acc: 0.6342 - loss: 1.2755\n",
            "Epoch 95/150\n",
            "\u001b[1m181/181\u001b[0m \u001b[32m━━━━━━━━━━━━━━━━━━━━\u001b[0m\u001b[37m\u001b[0m \u001b[1m5s\u001b[0m 19ms/step - acc: 0.6377 - loss: 1.2569\n",
            "Epoch 96/150\n",
            "\u001b[1m181/181\u001b[0m \u001b[32m━━━━━━━━━━━━━━━━━━━━\u001b[0m\u001b[37m\u001b[0m \u001b[1m4s\u001b[0m 19ms/step - acc: 0.6474 - loss: 1.2200\n",
            "Epoch 97/150\n",
            "\u001b[1m181/181\u001b[0m \u001b[32m━━━━━━━━━━━━━━━━━━━━\u001b[0m\u001b[37m\u001b[0m \u001b[1m5s\u001b[0m 19ms/step - acc: 0.6519 - loss: 1.2068\n",
            "Epoch 98/150\n",
            "\u001b[1m181/181\u001b[0m \u001b[32m━━━━━━━━━━━━━━━━━━━━\u001b[0m\u001b[37m\u001b[0m \u001b[1m3s\u001b[0m 19ms/step - acc: 0.6505 - loss: 1.2053\n",
            "Epoch 99/150\n",
            "\u001b[1m181/181\u001b[0m \u001b[32m━━━━━━━━━━━━━━━━━━━━\u001b[0m\u001b[37m\u001b[0m \u001b[1m5s\u001b[0m 19ms/step - acc: 0.6586 - loss: 1.1866\n",
            "Epoch 100/150\n",
            "\u001b[1m181/181\u001b[0m \u001b[32m━━━━━━━━━━━━━━━━━━━━\u001b[0m\u001b[37m\u001b[0m \u001b[1m5s\u001b[0m 19ms/step - acc: 0.6564 - loss: 1.1861\n",
            "Epoch 101/150\n",
            "\u001b[1m181/181\u001b[0m \u001b[32m━━━━━━━━━━━━━━━━━━━━\u001b[0m\u001b[37m\u001b[0m \u001b[1m5s\u001b[0m 20ms/step - acc: 0.6626 - loss: 1.1523\n",
            "Epoch 102/150\n",
            "\u001b[1m181/181\u001b[0m \u001b[32m━━━━━━━━━━━━━━━━━━━━\u001b[0m\u001b[37m\u001b[0m \u001b[1m3s\u001b[0m 19ms/step - acc: 0.6677 - loss: 1.1459\n",
            "Epoch 103/150\n",
            "\u001b[1m181/181\u001b[0m \u001b[32m━━━━━━━━━━━━━━━━━━━━\u001b[0m\u001b[37m\u001b[0m \u001b[1m3s\u001b[0m 19ms/step - acc: 0.6677 - loss: 1.1261\n",
            "Epoch 104/150\n",
            "\u001b[1m181/181\u001b[0m \u001b[32m━━━━━━━━━━━━━━━━━━━━\u001b[0m\u001b[37m\u001b[0m \u001b[1m4s\u001b[0m 20ms/step - acc: 0.6714 - loss: 1.1340\n",
            "Epoch 105/150\n",
            "\u001b[1m181/181\u001b[0m \u001b[32m━━━━━━━━━━━━━━━━━━━━\u001b[0m\u001b[37m\u001b[0m \u001b[1m5s\u001b[0m 19ms/step - acc: 0.6781 - loss: 1.0959\n",
            "Epoch 106/150\n",
            "\u001b[1m181/181\u001b[0m \u001b[32m━━━━━━━━━━━━━━━━━━━━\u001b[0m\u001b[37m\u001b[0m \u001b[1m5s\u001b[0m 19ms/step - acc: 0.6881 - loss: 1.0668\n",
            "Epoch 107/150\n",
            "\u001b[1m181/181\u001b[0m \u001b[32m━━━━━━━━━━━━━━━━━━━━\u001b[0m\u001b[37m\u001b[0m \u001b[1m4s\u001b[0m 20ms/step - acc: 0.6880 - loss: 1.0613\n",
            "Epoch 108/150\n",
            "\u001b[1m181/181\u001b[0m \u001b[32m━━━━━━━━━━━━━━━━━━━━\u001b[0m\u001b[37m\u001b[0m \u001b[1m5s\u001b[0m 19ms/step - acc: 0.6878 - loss: 1.0527\n",
            "Epoch 109/150\n",
            "\u001b[1m181/181\u001b[0m \u001b[32m━━━━━━━━━━━━━━━━━━━━\u001b[0m\u001b[37m\u001b[0m \u001b[1m3s\u001b[0m 19ms/step - acc: 0.7019 - loss: 1.0235\n",
            "Epoch 110/150\n",
            "\u001b[1m181/181\u001b[0m \u001b[32m━━━━━━━━━━━━━━━━━━━━\u001b[0m\u001b[37m\u001b[0m \u001b[1m4s\u001b[0m 20ms/step - acc: 0.7020 - loss: 1.0157\n",
            "Epoch 111/150\n",
            "\u001b[1m181/181\u001b[0m \u001b[32m━━━━━━━━━━━━━━━━━━━━\u001b[0m\u001b[37m\u001b[0m \u001b[1m3s\u001b[0m 19ms/step - acc: 0.6961 - loss: 1.0139\n",
            "Epoch 112/150\n",
            "\u001b[1m181/181\u001b[0m \u001b[32m━━━━━━━━━━━━━━━━━━━━\u001b[0m\u001b[37m\u001b[0m \u001b[1m3s\u001b[0m 19ms/step - acc: 0.7102 - loss: 0.9851\n",
            "Epoch 113/150\n",
            "\u001b[1m181/181\u001b[0m \u001b[32m━━━━━━━━━━━━━━━━━━━━\u001b[0m\u001b[37m\u001b[0m \u001b[1m5s\u001b[0m 20ms/step - acc: 0.7084 - loss: 0.9735\n",
            "Epoch 114/150\n",
            "\u001b[1m181/181\u001b[0m \u001b[32m━━━━━━━━━━━━━━━━━━━━\u001b[0m\u001b[37m\u001b[0m \u001b[1m5s\u001b[0m 19ms/step - acc: 0.7138 - loss: 0.9626\n",
            "Epoch 115/150\n",
            "\u001b[1m181/181\u001b[0m \u001b[32m━━━━━━━━━━━━━━━━━━━━\u001b[0m\u001b[37m\u001b[0m \u001b[1m3s\u001b[0m 19ms/step - acc: 0.7093 - loss: 0.9824\n",
            "Epoch 116/150\n",
            "\u001b[1m181/181\u001b[0m \u001b[32m━━━━━━━━━━━━━━━━━━━━\u001b[0m\u001b[37m\u001b[0m \u001b[1m5s\u001b[0m 20ms/step - acc: 0.7197 - loss: 0.9336\n",
            "Epoch 117/150\n",
            "\u001b[1m181/181\u001b[0m \u001b[32m━━━━━━━━━━━━━━━━━━━━\u001b[0m\u001b[37m\u001b[0m \u001b[1m3s\u001b[0m 19ms/step - acc: 0.7121 - loss: 0.9597\n",
            "Epoch 118/150\n",
            "\u001b[1m181/181\u001b[0m \u001b[32m━━━━━━━━━━━━━━━━━━━━\u001b[0m\u001b[37m\u001b[0m \u001b[1m5s\u001b[0m 19ms/step - acc: 0.7308 - loss: 0.9110\n",
            "Epoch 119/150\n",
            "\u001b[1m181/181\u001b[0m \u001b[32m━━━━━━━━━━━━━━━━━━━━\u001b[0m\u001b[37m\u001b[0m \u001b[1m5s\u001b[0m 19ms/step - acc: 0.7266 - loss: 0.9096\n",
            "Epoch 120/150\n",
            "\u001b[1m181/181\u001b[0m \u001b[32m━━━━━━━━━━━━━━━━━━━━\u001b[0m\u001b[37m\u001b[0m \u001b[1m3s\u001b[0m 19ms/step - acc: 0.7283 - loss: 0.9072\n",
            "Epoch 121/150\n",
            "\u001b[1m181/181\u001b[0m \u001b[32m━━━━━━━━━━━━━━━━━━━━\u001b[0m\u001b[37m\u001b[0m \u001b[1m3s\u001b[0m 19ms/step - acc: 0.7337 - loss: 0.8892\n",
            "Epoch 122/150\n",
            "\u001b[1m181/181\u001b[0m \u001b[32m━━━━━━━━━━━━━━━━━━━━\u001b[0m\u001b[37m\u001b[0m \u001b[1m5s\u001b[0m 20ms/step - acc: 0.7319 - loss: 0.8895\n",
            "Epoch 123/150\n",
            "\u001b[1m181/181\u001b[0m \u001b[32m━━━━━━━━━━━━━━━━━━━━\u001b[0m\u001b[37m\u001b[0m \u001b[1m3s\u001b[0m 19ms/step - acc: 0.7374 - loss: 0.8654\n",
            "Epoch 124/150\n",
            "\u001b[1m181/181\u001b[0m \u001b[32m━━━━━━━━━━━━━━━━━━━━\u001b[0m\u001b[37m\u001b[0m \u001b[1m3s\u001b[0m 19ms/step - acc: 0.7410 - loss: 0.8598\n",
            "Epoch 125/150\n",
            "\u001b[1m181/181\u001b[0m \u001b[32m━━━━━━━━━━━━━━━━━━━━\u001b[0m\u001b[37m\u001b[0m \u001b[1m5s\u001b[0m 19ms/step - acc: 0.7393 - loss: 0.8612\n",
            "Epoch 126/150\n",
            "\u001b[1m181/181\u001b[0m \u001b[32m━━━━━━━━━━━━━━━━━━━━\u001b[0m\u001b[37m\u001b[0m \u001b[1m5s\u001b[0m 19ms/step - acc: 0.7464 - loss: 0.8331\n",
            "Epoch 127/150\n",
            "\u001b[1m181/181\u001b[0m \u001b[32m━━━━━━━━━━━━━━━━━━━━\u001b[0m\u001b[37m\u001b[0m \u001b[1m3s\u001b[0m 19ms/step - acc: 0.7443 - loss: 0.8347\n",
            "Epoch 128/150\n",
            "\u001b[1m181/181\u001b[0m \u001b[32m━━━━━━━━━━━━━━━━━━━━\u001b[0m\u001b[37m\u001b[0m \u001b[1m5s\u001b[0m 19ms/step - acc: 0.7478 - loss: 0.8276\n",
            "Epoch 129/150\n",
            "\u001b[1m181/181\u001b[0m \u001b[32m━━━━━━━━━━━━━━━━━━━━\u001b[0m\u001b[37m\u001b[0m \u001b[1m3s\u001b[0m 19ms/step - acc: 0.7584 - loss: 0.7968\n",
            "Epoch 130/150\n",
            "\u001b[1m181/181\u001b[0m \u001b[32m━━━━━━━━━━━━━━━━━━━━\u001b[0m\u001b[37m\u001b[0m \u001b[1m3s\u001b[0m 19ms/step - acc: 0.7587 - loss: 0.7925\n",
            "Epoch 131/150\n",
            "\u001b[1m181/181\u001b[0m \u001b[32m━━━━━━━━━━━━━━━━━━━━\u001b[0m\u001b[37m\u001b[0m \u001b[1m4s\u001b[0m 20ms/step - acc: 0.7566 - loss: 0.8001\n",
            "Epoch 132/150\n",
            "\u001b[1m181/181\u001b[0m \u001b[32m━━━━━━━━━━━━━━━━━━━━\u001b[0m\u001b[37m\u001b[0m \u001b[1m3s\u001b[0m 19ms/step - acc: 0.7618 - loss: 0.7811\n",
            "Epoch 133/150\n",
            "\u001b[1m181/181\u001b[0m \u001b[32m━━━━━━━━━━━━━━━━━━━━\u001b[0m\u001b[37m\u001b[0m \u001b[1m5s\u001b[0m 19ms/step - acc: 0.7571 - loss: 0.8056\n",
            "Epoch 134/150\n",
            "\u001b[1m181/181\u001b[0m \u001b[32m━━━━━━━━━━━━━━━━━━━━\u001b[0m\u001b[37m\u001b[0m \u001b[1m5s\u001b[0m 19ms/step - acc: 0.7576 - loss: 0.7870\n",
            "Epoch 135/150\n",
            "\u001b[1m181/181\u001b[0m \u001b[32m━━━━━━━━━━━━━━━━━━━━\u001b[0m\u001b[37m\u001b[0m \u001b[1m3s\u001b[0m 19ms/step - acc: 0.7612 - loss: 0.7825\n",
            "Epoch 136/150\n",
            "\u001b[1m181/181\u001b[0m \u001b[32m━━━━━━━━━━━━━━━━━━━━\u001b[0m\u001b[37m\u001b[0m \u001b[1m5s\u001b[0m 20ms/step - acc: 0.7680 - loss: 0.7567\n",
            "Epoch 137/150\n",
            "\u001b[1m181/181\u001b[0m \u001b[32m━━━━━━━━━━━━━━━━━━━━\u001b[0m\u001b[37m\u001b[0m \u001b[1m3s\u001b[0m 19ms/step - acc: 0.7714 - loss: 0.7452\n",
            "Epoch 138/150\n",
            "\u001b[1m181/181\u001b[0m \u001b[32m━━━━━━━━━━━━━━━━━━━━\u001b[0m\u001b[37m\u001b[0m \u001b[1m5s\u001b[0m 19ms/step - acc: 0.7691 - loss: 0.7534\n",
            "Epoch 139/150\n",
            "\u001b[1m181/181\u001b[0m \u001b[32m━━━━━━━━━━━━━━━━━━━━\u001b[0m\u001b[37m\u001b[0m \u001b[1m4s\u001b[0m 19ms/step - acc: 0.7762 - loss: 0.7372\n",
            "Epoch 140/150\n",
            "\u001b[1m181/181\u001b[0m \u001b[32m━━━━━━━━━━━━━━━━━━━━\u001b[0m\u001b[37m\u001b[0m \u001b[1m5s\u001b[0m 19ms/step - acc: 0.7722 - loss: 0.7299\n",
            "Epoch 141/150\n",
            "\u001b[1m181/181\u001b[0m \u001b[32m━━━━━━━━━━━━━━━━━━━━\u001b[0m\u001b[37m\u001b[0m \u001b[1m5s\u001b[0m 19ms/step - acc: 0.7816 - loss: 0.7216\n",
            "Epoch 142/150\n",
            "\u001b[1m181/181\u001b[0m \u001b[32m━━━━━━━━━━━━━━━━━━━━\u001b[0m\u001b[37m\u001b[0m \u001b[1m4s\u001b[0m 20ms/step - acc: 0.7803 - loss: 0.7156\n",
            "Epoch 143/150\n",
            "\u001b[1m181/181\u001b[0m \u001b[32m━━━━━━━━━━━━━━━━━━━━\u001b[0m\u001b[37m\u001b[0m \u001b[1m5s\u001b[0m 19ms/step - acc: 0.7875 - loss: 0.6944\n",
            "Epoch 144/150\n",
            "\u001b[1m181/181\u001b[0m \u001b[32m━━━━━━━━━━━━━━━━━━━━\u001b[0m\u001b[37m\u001b[0m \u001b[1m3s\u001b[0m 19ms/step - acc: 0.7827 - loss: 0.7034\n",
            "Epoch 145/150\n",
            "\u001b[1m181/181\u001b[0m \u001b[32m━━━━━━━━━━━━━━━━━━━━\u001b[0m\u001b[37m\u001b[0m \u001b[1m5s\u001b[0m 20ms/step - acc: 0.7839 - loss: 0.6983\n",
            "Epoch 146/150\n",
            "\u001b[1m181/181\u001b[0m \u001b[32m━━━━━━━━━━━━━━━━━━━━\u001b[0m\u001b[37m\u001b[0m \u001b[1m3s\u001b[0m 19ms/step - acc: 0.7838 - loss: 0.6873\n",
            "Epoch 147/150\n",
            "\u001b[1m181/181\u001b[0m \u001b[32m━━━━━━━━━━━━━━━━━━━━\u001b[0m\u001b[37m\u001b[0m \u001b[1m3s\u001b[0m 19ms/step - acc: 0.7914 - loss: 0.6733\n",
            "Epoch 148/150\n",
            "\u001b[1m181/181\u001b[0m \u001b[32m━━━━━━━━━━━━━━━━━━━━\u001b[0m\u001b[37m\u001b[0m \u001b[1m4s\u001b[0m 20ms/step - acc: 0.7963 - loss: 0.6645\n",
            "Epoch 149/150\n",
            "\u001b[1m181/181\u001b[0m \u001b[32m━━━━━━━━━━━━━━━━━━━━\u001b[0m\u001b[37m\u001b[0m \u001b[1m5s\u001b[0m 19ms/step - acc: 0.7899 - loss: 0.6894\n",
            "Epoch 150/150\n",
            "\u001b[1m181/181\u001b[0m \u001b[32m━━━━━━━━━━━━━━━━━━━━\u001b[0m\u001b[37m\u001b[0m \u001b[1m3s\u001b[0m 19ms/step - acc: 0.7875 - loss: 0.6794\n"
          ]
        }
      ]
    },
    {
      "cell_type": "markdown",
      "source": [
        "## Оценка результатов обучения"
      ],
      "metadata": {
        "id": "Qk-ZX1k6XPFv"
      }
    },
    {
      "cell_type": "code",
      "source": [
        "plt.plot(history.epoch, history.history['acc'], 'r', label='Точность на обучающей выборке')\n",
        "plt.title('График точности на обучающей выборке')\n",
        "plt.legend()\n",
        "plt.figure()\n",
        "plt.plot(history.epoch, history.history['loss'], 'b', label='Потери на обучающей выборке')\n",
        "plt.title('График потерь на обучающей выборке')\n",
        "plt.legend()\n",
        "plt.show()"
      ],
      "metadata": {
        "colab": {
          "base_uri": "https://localhost:8080/",
          "height": 207
        },
        "id": "-Bm-ageRN0m7",
        "outputId": "5e590493-b375-4a74-f757-fdcf2340bda5"
      },
      "execution_count": 1,
      "outputs": [
        {
          "output_type": "error",
          "ename": "NameError",
          "evalue": "name 'plt' is not defined",
          "traceback": [
            "\u001b[0;31m---------------------------------------------------------------------------\u001b[0m",
            "\u001b[0;31mNameError\u001b[0m                                 Traceback (most recent call last)",
            "\u001b[0;32m<ipython-input-1-ed9954f04f21>\u001b[0m in \u001b[0;36m<cell line: 1>\u001b[0;34m()\u001b[0m\n\u001b[0;32m----> 1\u001b[0;31m \u001b[0mplt\u001b[0m\u001b[0;34m.\u001b[0m\u001b[0mplot\u001b[0m\u001b[0;34m(\u001b[0m\u001b[0mhistory\u001b[0m\u001b[0;34m.\u001b[0m\u001b[0mepoch\u001b[0m\u001b[0;34m,\u001b[0m \u001b[0mhistory\u001b[0m\u001b[0;34m.\u001b[0m\u001b[0mhistory\u001b[0m\u001b[0;34m[\u001b[0m\u001b[0;34m'acc'\u001b[0m\u001b[0;34m]\u001b[0m\u001b[0;34m,\u001b[0m \u001b[0;34m'r'\u001b[0m\u001b[0;34m,\u001b[0m \u001b[0mlabel\u001b[0m\u001b[0;34m=\u001b[0m\u001b[0;34m'Точность на обучающей выборке'\u001b[0m\u001b[0;34m)\u001b[0m\u001b[0;34m\u001b[0m\u001b[0;34m\u001b[0m\u001b[0m\n\u001b[0m\u001b[1;32m      2\u001b[0m \u001b[0mplt\u001b[0m\u001b[0;34m.\u001b[0m\u001b[0mtitle\u001b[0m\u001b[0;34m(\u001b[0m\u001b[0;34m'График точности на обучающей выборке'\u001b[0m\u001b[0;34m)\u001b[0m\u001b[0;34m\u001b[0m\u001b[0;34m\u001b[0m\u001b[0m\n\u001b[1;32m      3\u001b[0m \u001b[0mplt\u001b[0m\u001b[0;34m.\u001b[0m\u001b[0mlegend\u001b[0m\u001b[0;34m(\u001b[0m\u001b[0;34m)\u001b[0m\u001b[0;34m\u001b[0m\u001b[0;34m\u001b[0m\u001b[0m\n\u001b[1;32m      4\u001b[0m \u001b[0mplt\u001b[0m\u001b[0;34m.\u001b[0m\u001b[0mfigure\u001b[0m\u001b[0;34m(\u001b[0m\u001b[0;34m)\u001b[0m\u001b[0;34m\u001b[0m\u001b[0;34m\u001b[0m\u001b[0m\n\u001b[1;32m      5\u001b[0m \u001b[0mplt\u001b[0m\u001b[0;34m.\u001b[0m\u001b[0mplot\u001b[0m\u001b[0;34m(\u001b[0m\u001b[0mhistory\u001b[0m\u001b[0;34m.\u001b[0m\u001b[0mepoch\u001b[0m\u001b[0;34m,\u001b[0m \u001b[0mhistory\u001b[0m\u001b[0;34m.\u001b[0m\u001b[0mhistory\u001b[0m\u001b[0;34m[\u001b[0m\u001b[0;34m'loss'\u001b[0m\u001b[0;34m]\u001b[0m\u001b[0;34m,\u001b[0m \u001b[0;34m'b'\u001b[0m\u001b[0;34m,\u001b[0m \u001b[0mlabel\u001b[0m\u001b[0;34m=\u001b[0m\u001b[0;34m'Потери на обучающей выборке'\u001b[0m\u001b[0;34m)\u001b[0m\u001b[0;34m\u001b[0m\u001b[0;34m\u001b[0m\u001b[0m\n",
            "\u001b[0;31mNameError\u001b[0m: name 'plt' is not defined"
          ]
        }
      ]
    },
    {
      "cell_type": "markdown",
      "source": [
        "Как видно по графикам точности и графику потерь, что переобучение не происходит, у графика точности есть потенциал к росту, т.к. он еще далек от насыщения. Можно продолжать обучение. Однако, когда речь идет о генерации новых произведений, то нам и не нужна слишком большая точность. Наша задача сгенерировать, а не добиться полного повторения мелодии. Поэтому в зависимости от поставлленной цели и решаемых задач, мы принимаем решение до какой точности мы обучаем нашу модель."
      ],
      "metadata": {
        "id": "HLhjFYy-XY4r"
      }
    },
    {
      "cell_type": "markdown",
      "source": [
        "## Генерация музыкального произведения"
      ],
      "metadata": {
        "id": "lPABiTxLYX-h"
      }
    },
    {
      "cell_type": "markdown",
      "source": [
        "Создадим функцию, которая выбирает из начальной выборки случайную последовательность, \"скармливает\" ее модели, получает предсказанную последовательность и по ней \"восстанавливает\" ноты."
      ],
      "metadata": {
        "id": "vQ410F3_YjZm"
      }
    },
    {
      "cell_type": "code",
      "source": [
        "def music_generator(seq_len):\n",
        "    # случайный выбор начальной последовательности\n",
        "    seed = X_seed[np.random.randint(0, len(X_seed)-1)]\n",
        "    music = []\n",
        "    notes = []\n",
        "    for i in range(seq_len):\n",
        "        # изменяем размер данных для передачи модели\n",
        "        seed = seed.reshape(1, length, 1)\n",
        "\n",
        "        # предсказываем по начальной последовательности\n",
        "        prediction = model.predict(seed, verbose=0)[0]\n",
        "\n",
        "        # предсказанные значения прогоняем через функцию softmax\n",
        "        exp_preds = np.exp(prediction)\n",
        "        prediction = exp_preds / np.sum(exp_preds)\n",
        "\n",
        "        # выбираем индекс наиболее вероятного класса\n",
        "        index = np.argmax(prediction)\n",
        "\n",
        "        # нормализованный индекс в интервале [0, 1]\n",
        "        # значение пойдет в seed, а там все значения в интервале [0, 1]\n",
        "        index_N = index / float(L_symb)\n",
        "\n",
        "        # складываем в список индекс предсказанной ноты\n",
        "        notes.append(index)\n",
        "\n",
        "        # обратное преобразование по словарю, на выходе последовательность нот\n",
        "        music = [reverse_mapping[char] for char in notes]\n",
        "\n",
        "        # seed всегда длины length\n",
        "        # добавляем справа новое значение, а слева удаляем и уходим на новую итерацию цикла\n",
        "        seed = np.insert(seed[0], len(seed[0]), index_N)\n",
        "        seed = seed[1:]\n",
        "\n",
        "    return chords_n_notes(music)\n"
      ],
      "metadata": {
        "id": "kBSXQQ2hN0MW"
      },
      "execution_count": null,
      "outputs": []
    },
    {
      "cell_type": "markdown",
      "source": [
        "Забыли как выглядит функция для softmax? Вспоминаем в псевдокоде:\n",
        "```python\n",
        "softmax(x) = np.exp(x)/sum(np.exp(x))\n",
        "\n",
        "```"
      ],
      "metadata": {
        "id": "KW1ixnUGkQoc"
      }
    },
    {
      "cell_type": "markdown",
      "source": [
        "Сгенерируем из входной последовательности длиной 100 музыку:"
      ],
      "metadata": {
        "id": "xC80zEu-pYOq"
      }
    },
    {
      "cell_type": "code",
      "source": [
        "genMusic = music_generator(100)\n",
        "genMidi = stream.Stream(genMusic)"
      ],
      "metadata": {
        "id": "cx8NNIdRVDX4"
      },
      "execution_count": null,
      "outputs": []
    },
    {
      "cell_type": "code",
      "source": [
        "# Отобразим нотный стан\n",
        "genMidi.show()"
      ],
      "metadata": {
        "colab": {
          "base_uri": "https://localhost:8080/",
          "height": 762
        },
        "id": "RXFf4NmIRnLR",
        "outputId": "d5b20118-1ee0-4d09-cbe9-9c1c33d832ea"
      },
      "execution_count": null,
      "outputs": [
        {
          "output_type": "display_data",
          "data": {
            "image/png": "[encoded data removed]",
            "text/plain": [
              "<IPython.core.display.Image object>"
            ]
          },
          "metadata": {
            "image/png": {
              "width": 753,
              "height": 745
            }
          }
        }
      ]
    },
    {
      "cell_type": "code",
      "source": [
        "# Выведем в виде звуковой дорожки\n",
        "genMidi.show('midi')"
      ],
      "metadata": {
        "colab": {
          "base_uri": "https://localhost:8080/",
          "height": 134
        },
        "id": "VD0PinhDS3r9",
        "outputId": "94934c52-97dc-4984-ae56-484cadb0a175"
      },
      "execution_count": null,
      "outputs": [
        {
          "output_type": "display_data",
          "data": {
            "text/plain": [
              "<IPython.core.display.HTML object>"
            ],
            "text/html": [
              "\n",
              "        <div id=\"midiPlayerDiv1886916\"></div>\n",
              "        <link rel=\"stylesheet\" href=\"https://cuthbertLab.github.io/music21j/css/m21.css\">\n",
              "        \n",
              "        <script\n",
              "        src=\"https://cdnjs.cloudflare.com/ajax/libs/require.js/2.3.6/require.min.js\"\n",
              "        ></script>\n",
              "    \n",
              "        <script>\n",
              "        function midiPlayerDiv1886916_play() {\n",
              "            const rq = require.config({\n",
              "                paths: {\n",
              "                    'music21': 'https://cuthbertLab.github.io/music21j/releases/music21.debug',\n",
              "                }\n",
              "            });\n",
              "            rq(['music21'], function(music21) {\n",
              "                mp = new music21.miditools.MidiPlayer();\n",
              "                mp.addPlayer(\"#midiPlayerDiv1886916\");\n",
              "                mp.base64Load(\"data:audio/midi;base64,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\");\n",
              "            });\n",
              "        }\n",
              "        if (typeof require === 'undefined') {\n",
              "            setTimeout(midiPlayerDiv1886916_play, 2000);\n",
              "        } else {\n",
              "            midiPlayerDiv1886916_play();\n",
              "        }\n",
              "        </script>"
            ]
          },
          "metadata": {}
        }
      ]
    },
    {
      "cell_type": "markdown",
      "source": [
        "Таким образом, мы получили очень простым способом, что-то удаленно напоминающее музыку. Как же можно улучшить результат?\n",
        "\n",
        "Сначала необходимо проанализировать, какую информацию нам дает MIDI-файл. А он нам дает для каждой ноты ее имя (например, `А`), ее октаву (цифра после обозначения ноты, например, `А4`), начало воспроизведение ноты (`start`) и время окончания воспроизведения ноты (`end`). Чтобы получить доступ к атрибутам `start` и `end` можно использовать функцию ниже."
      ],
      "metadata": {
        "id": "H1ZbAvIvwQmc"
      }
    },
    {
      "cell_type": "code",
      "source": [
        "# установим библиотеку для извлечения данных из MIDI\n",
        "!pip install pretty_midi"
      ],
      "metadata": {
        "colab": {
          "base_uri": "https://localhost:8080/"
        },
        "id": "1bCumd0Lw-7I",
        "outputId": "0f15a709-393d-435f-cced-01986ea00e90"
      },
      "execution_count": null,
      "outputs": [
        {
          "output_type": "stream",
          "name": "stdout",
          "text": [
            "Collecting pretty_midi\n",
            "  Downloading pretty_midi-0.2.10.tar.gz (5.6 MB)\n",
            "\u001b[2K     \u001b[90m━━━━━━━━━━━━━━━━━━━━━━━━━━━━━━━━━━━━━━━━\u001b[0m \u001b[32m5.6/5.6 MB\u001b[0m \u001b[31m17.3 MB/s\u001b[0m eta \u001b[36m0:00:00\u001b[0m\n",
            "\u001b[?25h  Preparing metadata (setup.py) ... \u001b[?25l\u001b[?25hdone\n",
            "Requirement already satisfied: numpy>=1.7.0 in /usr/local/lib/python3.10/dist-packages (from pretty_midi) (1.25.2)\n",
            "Collecting mido>=1.1.16 (from pretty_midi)\n",
            "  Downloading mido-1.3.2-py3-none-any.whl (54 kB)\n",
            "\u001b[2K     \u001b[90m━━━━━━━━━━━━━━━━━━━━━━━━━━━━━━━━━━━━━━━━\u001b[0m \u001b[32m54.6/54.6 kB\u001b[0m \u001b[31m7.4 MB/s\u001b[0m eta \u001b[36m0:00:00\u001b[0m\n",
            "\u001b[?25hRequirement already satisfied: six in /usr/local/lib/python3.10/dist-packages (from pretty_midi) (1.16.0)\n",
            "Collecting packaging~=23.1 (from mido>=1.1.16->pretty_midi)\n",
            "  Downloading packaging-23.2-py3-none-any.whl (53 kB)\n",
            "\u001b[2K     \u001b[90m━━━━━━━━━━━━━━━━━━━━━━━━━━━━━━━━━━━━━━━━\u001b[0m \u001b[32m53.0/53.0 kB\u001b[0m \u001b[31m7.2 MB/s\u001b[0m eta \u001b[36m0:00:00\u001b[0m\n",
            "\u001b[?25hBuilding wheels for collected packages: pretty_midi\n",
            "  Building wheel for pretty_midi (setup.py) ... \u001b[?25l\u001b[?25hdone\n",
            "  Created wheel for pretty_midi: filename=pretty_midi-0.2.10-py3-none-any.whl size=5592289 sha256=dbb23ead1f9964545d9ea0ceb84c65ef6802180feca659fa35c0803786169ec5\n",
            "  Stored in directory: /root/.cache/pip/wheels/cd/a5/30/7b8b7f58709f5150f67f98fde4b891ebf0be9ef07a8af49f25\n",
            "Successfully built pretty_midi\n",
            "Installing collected packages: packaging, mido, pretty_midi\n",
            "  Attempting uninstall: packaging\n",
            "    Found existing installation: packaging 24.0\n",
            "    Uninstalling packaging-24.0:\n",
            "      Successfully uninstalled packaging-24.0\n",
            "Successfully installed mido-1.3.2 packaging-23.2 pretty_midi-0.2.10\n"
          ]
        }
      ]
    },
    {
      "cell_type": "code",
      "source": [
        "# импортируем необходимые библиотеки\n",
        "\n",
        "# для работы с матрицами\n",
        "import numpy as np\n",
        "\n",
        "# для работы с датафреймами\n",
        "import pandas as pd\n",
        "\n",
        "# импортируем загруженную библиотеку для работы с MIDI\n",
        "import pretty_midi"
      ],
      "metadata": {
        "id": "jYYjbuJkwkNT"
      },
      "execution_count": null,
      "outputs": []
    },
    {
      "cell_type": "code",
      "source": [
        "# функция преобразования MIDI в DataFrame, содержащий ноты и их расширенные параметры\n",
        "def midi_to_notes(midi_file: str):\n",
        "  # чтение MIDI\n",
        "  pm = pretty_midi.PrettyMIDI(midi_file)\n",
        "  # извлечение первого инструмента\n",
        "  instrument = pm.instruments[0]\n",
        "\n",
        "  # объявляем список для хранения нот\n",
        "  notes = []\n",
        "  # сортируем ноты по времени начала ноты\n",
        "  sorted_notes = sorted(instrument.notes, key=lambda note: note.start)\n",
        "\n",
        "  # переменная для расчета шага, хранит предущее значение start\n",
        "  prev_start = sorted_notes[0].start # начало первой ноты\n",
        "\n",
        "  for note in sorted_notes:\n",
        "    # начало ноты\n",
        "    start = note.start\n",
        "    # конец ноты\n",
        "    end = note.end\n",
        "    notes.append(\n",
        "        dict(\n",
        "            pitch=note.pitch,             # имя ноты\n",
        "            start=note.start,             # начало ноты\n",
        "            end=note.end,                 # конец ноты\n",
        "            step=(start - prev_start),    # шаг\n",
        "            duration=(end - start)        # длительность ноты\n",
        "        )\n",
        "    )\n",
        "\n",
        "    prev_start = start # запоминаем значение предыдущего старта\n",
        "\n",
        "  return pd.DataFrame(notes) # функция возвращает значение DataFrame библиотеки pandas"
      ],
      "metadata": {
        "id": "Gql2pOAFwO4T"
      },
      "execution_count": null,
      "outputs": []
    },
    {
      "cell_type": "code",
      "source": [
        "# Выбор произвольного MIDI файла\n",
        "filepath = f\"./dataset/Bach/bach_846.mid\"\n",
        "\n",
        "# Преобразуем в ноты с расширенными параметрами\n",
        "raw_notes = midi_to_notes(filepath)\n",
        "\n",
        "# Вывод первых 5 строк\n",
        "raw_notes.head()"
      ],
      "metadata": {
        "colab": {
          "base_uri": "https://localhost:8080/",
          "height": 206
        },
        "id": "MwCQXXXoyO5F",
        "outputId": "6e9ebe82-0d09-4b1d-e8c1-ff78bae59e76"
      },
      "execution_count": null,
      "outputs": [
        {
          "output_type": "execute_result",
          "data": {
            "text/plain": [
              "   pitch     start       end      step  duration\n",
              "0     67  0.407095  0.609797  0.000000  0.202703\n",
              "1     72  0.609797  0.812467  0.202703  0.202669\n",
              "2     76  0.812467  0.991275  0.202669  0.178808\n",
              "3     67  1.011176  1.213878  0.198709  0.202703\n",
              "4     72  1.213878  1.416581  0.202703  0.202703"
            ],
            "text/html": [
              "\n",
              "  <div id=\"df-e82ba744-4cef-4da8-9a71-d6f14ebf7c1f\" class=\"colab-df-container\">\n",
              "    <div>\n",
              "<style scoped>\n",
              "    .dataframe tbody tr th:only-of-type {\n",
              "        vertical-align: middle;\n",
              "    }\n",
              "\n",
              "    .dataframe tbody tr th {\n",
              "        vertical-align: top;\n",
              "    }\n",
              "\n",
              "    .dataframe thead th {\n",
              "        text-align: right;\n",
              "    }\n",
              "</style>\n",
              "<table border=\"1\" class=\"dataframe\">\n",
              "  <thead>\n",
              "    <tr style=\"text-align: right;\">\n",
              "      <th></th>\n",
              "      <th>pitch</th>\n",
              "      <th>start</th>\n",
              "      <th>end</th>\n",
              "      <th>step</th>\n",
              "      <th>duration</th>\n",
              "    </tr>\n",
              "  </thead>\n",
              "  <tbody>\n",
              "    <tr>\n",
              "      <th>0</th>\n",
              "      <td>67</td>\n",
              "      <td>0.407095</td>\n",
              "      <td>0.609797</td>\n",
              "      <td>0.000000</td>\n",
              "      <td>0.202703</td>\n",
              "    </tr>\n",
              "    <tr>\n",
              "      <th>1</th>\n",
              "      <td>72</td>\n",
              "      <td>0.609797</td>\n",
              "      <td>0.812467</td>\n",
              "      <td>0.202703</td>\n",
              "      <td>0.202669</td>\n",
              "    </tr>\n",
              "    <tr>\n",
              "      <th>2</th>\n",
              "      <td>76</td>\n",
              "      <td>0.812467</td>\n",
              "      <td>0.991275</td>\n",
              "      <td>0.202669</td>\n",
              "      <td>0.178808</td>\n",
              "    </tr>\n",
              "    <tr>\n",
              "      <th>3</th>\n",
              "      <td>67</td>\n",
              "      <td>1.011176</td>\n",
              "      <td>1.213878</td>\n",
              "      <td>0.198709</td>\n",
              "      <td>0.202703</td>\n",
              "    </tr>\n",
              "    <tr>\n",
              "      <th>4</th>\n",
              "      <td>72</td>\n",
              "      <td>1.213878</td>\n",
              "      <td>1.416581</td>\n",
              "      <td>0.202703</td>\n",
              "      <td>0.202703</td>\n",
              "    </tr>\n",
              "  </tbody>\n",
              "</table>\n",
              "</div>\n",
              "    <div class=\"colab-df-buttons\">\n",
              "\n",
              "  <div class=\"colab-df-container\">\n",
              "    <button class=\"colab-df-convert\" onclick=\"convertToInteractive('df-e82ba744-4cef-4da8-9a71-d6f14ebf7c1f')\"\n",
              "            title=\"Convert this dataframe to an interactive table.\"\n",
              "            style=\"display:none;\">\n",
              "\n",
              "  <svg xmlns=\"http://www.w3.org/2000/svg\" height=\"24px\" viewBox=\"0 -960 960 960\">\n",
              "    <path d=\"M120-120v-720h720v720H120Zm60-500h600v-160H180v160Zm220 220h160v-160H400v160Zm0 220h160v-160H400v160ZM180-400h160v-160H180v160Zm440 0h160v-160H620v160ZM180-180h160v-160H180v160Zm440 0h160v-160H620v160Z\"/>\n",
              "  </svg>\n",
              "    </button>\n",
              "\n",
              "  <style>\n",
              "    .colab-df-container {\n",
              "      display:flex;\n",
              "      gap: 12px;\n",
              "    }\n",
              "\n",
              "    .colab-df-convert {\n",
              "      background-color: #E8F0FE;\n",
              "      border: none;\n",
              "      border-radius: 50%;\n",
              "      cursor: pointer;\n",
              "      display: none;\n",
              "      fill: #1967D2;\n",
              "      height: 32px;\n",
              "      padding: 0 0 0 0;\n",
              "      width: 32px;\n",
              "    }\n",
              "\n",
              "    .colab-df-convert:hover {\n",
              "      background-color: #E2EBFA;\n",
              "      box-shadow: 0px 1px 2px rgba(60, 64, 67, 0.3), 0px 1px 3px 1px rgba(60, 64, 67, 0.15);\n",
              "      fill: #174EA6;\n",
              "    }\n",
              "\n",
              "    .colab-df-buttons div {\n",
              "      margin-bottom: 4px;\n",
              "    }\n",
              "\n",
              "    [theme=dark] .colab-df-convert {\n",
              "      background-color: #3B4455;\n",
              "      fill: #D2E3FC;\n",
              "    }\n",
              "\n",
              "    [theme=dark] .colab-df-convert:hover {\n",
              "      background-color: #434B5C;\n",
              "      box-shadow: 0px 1px 3px 1px rgba(0, 0, 0, 0.15);\n",
              "      filter: drop-shadow(0px 1px 2px rgba(0, 0, 0, 0.3));\n",
              "      fill: #FFFFFF;\n",
              "    }\n",
              "  </style>\n",
              "\n",
              "    <script>\n",
              "      const buttonEl =\n",
              "        document.querySelector('#df-e82ba744-4cef-4da8-9a71-d6f14ebf7c1f button.colab-df-convert');\n",
              "      buttonEl.style.display =\n",
              "        google.colab.kernel.accessAllowed ? 'block' : 'none';\n",
              "\n",
              "      async function convertToInteractive(key) {\n",
              "        const element = document.querySelector('#df-e82ba744-4cef-4da8-9a71-d6f14ebf7c1f');\n",
              "        const dataTable =\n",
              "          await google.colab.kernel.invokeFunction('convertToInteractive',\n",
              "                                                    [key], {});\n",
              "        if (!dataTable) return;\n",
              "\n",
              "        const docLinkHtml = 'Like what you see? Visit the ' +\n",
              "          '<a target=\"_blank\" href=https://colab.research.google.com/notebooks/data_table.ipynb>data table notebook</a>'\n",
              "          + ' to learn more about interactive tables.';\n",
              "        element.innerHTML = '';\n",
              "        dataTable['output_type'] = 'display_data';\n",
              "        await google.colab.output.renderOutput(dataTable, element);\n",
              "        const docLink = document.createElement('div');\n",
              "        docLink.innerHTML = docLinkHtml;\n",
              "        element.appendChild(docLink);\n",
              "      }\n",
              "    </script>\n",
              "  </div>\n",
              "\n",
              "\n",
              "<div id=\"df-4a9de07d-1eda-4e74-b61f-f9f57776136a\">\n",
              "  <button class=\"colab-df-quickchart\" onclick=\"quickchart('df-4a9de07d-1eda-4e74-b61f-f9f57776136a')\"\n",
              "            title=\"Suggest charts\"\n",
              "            style=\"display:none;\">\n",
              "\n",
              "<svg xmlns=\"http://www.w3.org/2000/svg\" height=\"24px\"viewBox=\"0 0 24 24\"\n",
              "     width=\"24px\">\n",
              "    <g>\n",
              "        <path d=\"M19 3H5c-1.1 0-2 .9-2 2v14c0 1.1.9 2 2 2h14c1.1 0 2-.9 2-2V5c0-1.1-.9-2-2-2zM9 17H7v-7h2v7zm4 0h-2V7h2v10zm4 0h-2v-4h2v4z\"/>\n",
              "    </g>\n",
              "</svg>\n",
              "  </button>\n",
              "\n",
              "<style>\n",
              "  .colab-df-quickchart {\n",
              "      --bg-color: #E8F0FE;\n",
              "      --fill-color: #1967D2;\n",
              "      --hover-bg-color: #E2EBFA;\n",
              "      --hover-fill-color: #174EA6;\n",
              "      --disabled-fill-color: #AAA;\n",
              "      --disabled-bg-color: #DDD;\n",
              "  }\n",
              "\n",
              "  [theme=dark] .colab-df-quickchart {\n",
              "      --bg-color: #3B4455;\n",
              "      --fill-color: #D2E3FC;\n",
              "      --hover-bg-color: #434B5C;\n",
              "      --hover-fill-color: #FFFFFF;\n",
              "      --disabled-bg-color: #3B4455;\n",
              "      --disabled-fill-color: #666;\n",
              "  }\n",
              "\n",
              "  .colab-df-quickchart {\n",
              "    background-color: var(--bg-color);\n",
              "    border: none;\n",
              "    border-radius: 50%;\n",
              "    cursor: pointer;\n",
              "    display: none;\n",
              "    fill: var(--fill-color);\n",
              "    height: 32px;\n",
              "    padding: 0;\n",
              "    width: 32px;\n",
              "  }\n",
              "\n",
              "  .colab-df-quickchart:hover {\n",
              "    background-color: var(--hover-bg-color);\n",
              "    box-shadow: 0 1px 2px rgba(60, 64, 67, 0.3), 0 1px 3px 1px rgba(60, 64, 67, 0.15);\n",
              "    fill: var(--button-hover-fill-color);\n",
              "  }\n",
              "\n",
              "  .colab-df-quickchart-complete:disabled,\n",
              "  .colab-df-quickchart-complete:disabled:hover {\n",
              "    background-color: var(--disabled-bg-color);\n",
              "    fill: var(--disabled-fill-color);\n",
              "    box-shadow: none;\n",
              "  }\n",
              "\n",
              "  .colab-df-spinner {\n",
              "    border: 2px solid var(--fill-color);\n",
              "    border-color: transparent;\n",
              "    border-bottom-color: var(--fill-color);\n",
              "    animation:\n",
              "      spin 1s steps(1) infinite;\n",
              "  }\n",
              "\n",
              "  @keyframes spin {\n",
              "    0% {\n",
              "      border-color: transparent;\n",
              "      border-bottom-color: var(--fill-color);\n",
              "      border-left-color: var(--fill-color);\n",
              "    }\n",
              "    20% {\n",
              "      border-color: transparent;\n",
              "      border-left-color: var(--fill-color);\n",
              "      border-top-color: var(--fill-color);\n",
              "    }\n",
              "    30% {\n",
              "      border-color: transparent;\n",
              "      border-left-color: var(--fill-color);\n",
              "      border-top-color: var(--fill-color);\n",
              "      border-right-color: var(--fill-color);\n",
              "    }\n",
              "    40% {\n",
              "      border-color: transparent;\n",
              "      border-right-color: var(--fill-color);\n",
              "      border-top-color: var(--fill-color);\n",
              "    }\n",
              "    60% {\n",
              "      border-color: transparent;\n",
              "      border-right-color: var(--fill-color);\n",
              "    }\n",
              "    80% {\n",
              "      border-color: transparent;\n",
              "      border-right-color: var(--fill-color);\n",
              "      border-bottom-color: var(--fill-color);\n",
              "    }\n",
              "    90% {\n",
              "      border-color: transparent;\n",
              "      border-bottom-color: var(--fill-color);\n",
              "    }\n",
              "  }\n",
              "</style>\n",
              "\n",
              "  <script>\n",
              "    async function quickchart(key) {\n",
              "      const quickchartButtonEl =\n",
              "        document.querySelector('#' + key + ' button');\n",
              "      quickchartButtonEl.disabled = true;  // To prevent multiple clicks.\n",
              "      quickchartButtonEl.classList.add('colab-df-spinner');\n",
              "      try {\n",
              "        const charts = await google.colab.kernel.invokeFunction(\n",
              "            'suggestCharts', [key], {});\n",
              "      } catch (error) {\n",
              "        console.error('Error during call to suggestCharts:', error);\n",
              "      }\n",
              "      quickchartButtonEl.classList.remove('colab-df-spinner');\n",
              "      quickchartButtonEl.classList.add('colab-df-quickchart-complete');\n",
              "    }\n",
              "    (() => {\n",
              "      let quickchartButtonEl =\n",
              "        document.querySelector('#df-4a9de07d-1eda-4e74-b61f-f9f57776136a button');\n",
              "      quickchartButtonEl.style.display =\n",
              "        google.colab.kernel.accessAllowed ? 'block' : 'none';\n",
              "    })();\n",
              "  </script>\n",
              "</div>\n",
              "    </div>\n",
              "  </div>\n"
            ],
            "application/vnd.google.colaboratory.intrinsic+json": {
              "type": "dataframe",
              "variable_name": "raw_notes",
              "summary": "{\n  \"name\": \"raw_notes\",\n  \"rows\": 415,\n  \"fields\": [\n    {\n      \"column\": \"pitch\",\n      \"properties\": {\n        \"dtype\": \"number\",\n        \"std\": 6,\n        \"min\": 50,\n        \"max\": 81,\n        \"num_unique_values\": 22,\n        \"samples\": [\n          67,\n          65,\n          79\n        ],\n        \"semantic_type\": \"\",\n        \"description\": \"\"\n      }\n    },\n    {\n      \"column\": \"start\",\n      \"properties\": {\n        \"dtype\": \"number\",\n        \"std\": 31.898455158576077,\n        \"min\": 0.4070946895833334,\n        \"max\": 109.63942583750001,\n        \"num_unique_values\": 413,\n        \"samples\": [\n          104.695161125,\n          93.19278475,\n          106.440430875\n        ],\n        \"semantic_type\": \"\",\n        \"description\": \"\"\n      }\n    },\n    {\n      \"column\": \"end\",\n      \"properties\": {\n        \"dtype\": \"number\",\n        \"std\": 31.975079158130686,\n        \"min\": 0.6097974395833334,\n        \"max\": 115.35371183750001,\n        \"num_unique_values\": 413,\n        \"samples\": [\n          104.906428625,\n          93.39278474999999,\n          106.651698375\n        ],\n        \"semantic_type\": \"\",\n        \"description\": \"\"\n      }\n    },\n    {\n      \"column\": \"step\",\n      \"properties\": {\n        \"dtype\": \"number\",\n        \"std\": 0.1505007058029171,\n        \"min\": 0.0,\n        \"max\": 0.6746357499999931,\n        \"num_unique_values\": 195,\n        \"samples\": [\n          0.20028645833332348,\n          0.18991459791666632,\n          0.5908262499999921\n        ],\n        \"semantic_type\": \"\",\n        \"description\": \"\"\n      }\n    },\n    {\n      \"column\": \"duration\",\n      \"properties\": {\n        \"dtype\": \"number\",\n        \"std\": 0.4682568264902345,\n        \"min\": 0.1687499999999993,\n        \"max\": 5.714286000000001,\n        \"num_unique_values\": 192,\n        \"samples\": [\n          0.20134224999999972,\n          0.18000000000000682,\n          0.20000000000000284\n        ],\n        \"semantic_type\": \"\",\n        \"description\": \"\"\n      }\n    }\n  ]\n}"
            }
          },
          "metadata": {},
          "execution_count": 27
        }
      ]
    },
    {
      "cell_type": "markdown",
      "source": [
        "И тогда при обучении модели необходимо будет использовать три переменные для представления ноты: `pitch`, `step` и `duration`. Высота звука (pitch) - это качество восприятия звука в виде номера ноты в формате MIDI. Шаг (step) - это время, прошедшее с предыдущей ноты или начала трека. Длительность (duration) - это продолжительность воспроизведения ноты в секундах и разница между временем окончания и началом ноты.\n",
        "\n",
        "Библиотека `music21` довольно мощная и дает нам все необходимые инструменты для получения первоклассной модели по генерации музыки. Однако, чтобы воспользоваться ей на все 100% необходимо иметь, как минимум базовое музыкальное образование. Так как простой последовательности нот недостаточно, чтобы \"творить шедевры\"."
      ],
      "metadata": {
        "id": "KzcGH87MwPhj"
      }
    },
    {
      "cell_type": "markdown",
      "source": [
        "А теперь пора перейти к [домашней работе](https://colab.research.google.com/drive/1uZ-sCic9BV5quOohckycIqhYkl8MvvvV), где попробовать улучшить модель для генерации музыкальных произведений."
      ],
      "metadata": {
        "id": "WJXL6_n6Us3s"
      }
    }
  ]
}