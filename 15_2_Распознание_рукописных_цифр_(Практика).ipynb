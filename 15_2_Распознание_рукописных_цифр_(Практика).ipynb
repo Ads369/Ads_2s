{
  "nbformat": 4,
  "nbformat_minor": 0,
  "metadata": {
    "colab": {
      "provenance": [],
      "include_colab_link": true
    },
    "kernelspec": {
      "name": "python3",
      "display_name": "Python 3"
    },
    "language_info": {
      "name": "python"
    }
  },
  "cells": [
    {
      "cell_type": "markdown",
      "metadata": {
        "id": "view-in-github",
        "colab_type": "text"
      },
      "source": [
        "<a href=\"https://colab.research.google.com/github/Ads369/Ads_2s/blob/main/15_2_%D0%A0%D0%B0%D1%81%D0%BF%D0%BE%D0%B7%D0%BD%D0%B0%D0%BD%D0%B8%D0%B5_%D1%80%D1%83%D0%BA%D0%BE%D0%BF%D0%B8%D1%81%D0%BD%D1%8B%D1%85_%D1%86%D0%B8%D1%84%D1%80_(%D0%9F%D1%80%D0%B0%D0%BA%D1%82%D0%B8%D0%BA%D0%B0).ipynb\" target=\"_parent\"><img src=\"https://colab.research.google.com/assets/colab-badge.svg\" alt=\"Open In Colab\"/></a>"
      ]
    },
    {
      "cell_type": "markdown",
      "source": [
        "**Навигация по уроку**\n",
        "\n",
        "1. [Простые нейронные сети. Знакомство с библиотекой Keras](https://colab.research.google.com/drive/16xfRAdyg-Re1bP2cyYpbpAALa6noUL3U)\n",
        "2. Распознание рукописных цифр (Практика)\n",
        "3. [Домашняя работа](https://colab.research.google.com/drive/1RD-x2WPmMBtutQzeKiigOoHKwp1MZNd9)"
      ],
      "metadata": {
        "id": "O7_YFtRUF5Px"
      }
    },
    {
      "cell_type": "markdown",
      "source": [
        "Перед нами стоит задача: реализовать классификацию черно-белых изображений рукописных цифр (28 × 28 пикселов) по 10 категориям (от 0 до 9). Мы будем\n",
        "использовать набор данных MNIST, популярный в сообществе исследователей глубокого обучения, который существует практически столько же, сколько сама\n",
        "область машинного обучения, и широко используется для обучения. Этот набор\n",
        "содержит 60 000 обучающих изображений и 10 000 контрольных изображений,\n",
        "собранных Национальным институтом стандартов и технологий США (National\n",
        "Institute of Standards and Technology — часть NIST в аббревиатуре MNIST) в 1980-х.\n",
        "\n",
        "Решение задачи MNIST можно рассматривать как своеобразный аналог «Hello\n",
        "World» в глубоком обучении — часто это первое действие, которое выполняется,\n",
        "чтобы убедиться, что алгоритмы действуют в точности как ожидалось. По мере\n",
        "углубления в практику машинного обучения вы увидите, что MNIST часто упоминается в научных статьях, публикациях на Хабре, блогах и т. д."
      ],
      "metadata": {
        "id": "nKKS6a4-UaDJ"
      }
    },
    {
      "cell_type": "markdown",
      "source": [
        "## Загрузка библиотеки MNIST"
      ],
      "metadata": {
        "id": "zZUUjLg-jiEq"
      }
    },
    {
      "cell_type": "markdown",
      "source": [
        "Набор данных MNIST уже входит в состав Keras в форме набора из четырех массивов Numpy:"
      ],
      "metadata": {
        "id": "C-1PUvplUZyQ"
      }
    },
    {
      "cell_type": "code",
      "source": [
        "from keras.datasets import mnist\n",
        "(train_images, train_labels), (test_images, test_labels) = mnist.load_data()"
      ],
      "metadata": {
        "colab": {
          "base_uri": "https://localhost:8080/"
        },
        "id": "skEZr60FdMTu",
        "outputId": "89f50b5a-d58a-44ba-b1b5-b6aeaa4fa934"
      },
      "execution_count": null,
      "outputs": [
        {
          "output_type": "stream",
          "name": "stdout",
          "text": [
            "Downloading data from https://storage.googleapis.com/tensorflow/tf-keras-datasets/mnist.npz\n",
            "11490434/11490434 [==============================] - 0s 0us/step\n"
          ]
        }
      ]
    },
    {
      "cell_type": "markdown",
      "source": [
        "`train_images` и `train_labels` — это тренировочный набор, то есть данные,\n",
        "необходимые для обучения.\n",
        "\n",
        "После обучения модель будет проверяться тестовым (или контрольным) набором, `test_images` и `test_labels`.\n"
      ],
      "metadata": {
        "id": "12u-4B_QeBno"
      }
    },
    {
      "cell_type": "markdown",
      "source": [
        "> **ЗАМЕТКА О КЛАССАХ И МЕТКАХ**\n",
        "\n",
        "    В машинном обучении категория в задаче классификации называется классом.\n",
        "    Элементы исходных данных называются образцами.\n",
        "    Класс, связанный с конкретным образцом, называется меткой."
      ],
      "metadata": {
        "id": "oFEbj5Q5dWHo"
      }
    },
    {
      "cell_type": "markdown",
      "source": [
        "Изображения хранятся в массивах Numpy, а метки — в массиве цифр от 0 до 9. Изображения и метки находятся в прямом соответствии, один к одному.\n",
        "\n",
        "Рассмотрим обучающие данные:"
      ],
      "metadata": {
        "id": "2aOUv-MUdWAa"
      }
    },
    {
      "cell_type": "code",
      "source": [
        "train_images.shape"
      ],
      "metadata": {
        "colab": {
          "base_uri": "https://localhost:8080/"
        },
        "id": "WoEOKyZCeilP",
        "outputId": "7cf5fb3b-8e9f-4ad0-9667-017c70cf985b"
      },
      "execution_count": null,
      "outputs": [
        {
          "output_type": "execute_result",
          "data": {
            "text/plain": [
              "(60000, 28, 28)"
            ]
          },
          "metadata": {},
          "execution_count": 2
        }
      ]
    },
    {
      "cell_type": "code",
      "source": [
        "len(train_labels)"
      ],
      "metadata": {
        "colab": {
          "base_uri": "https://localhost:8080/"
        },
        "id": "c78Mv9PIeoqN",
        "outputId": "3a2b9c28-3cd0-4096-aa31-58f32c3ad0e6"
      },
      "execution_count": null,
      "outputs": [
        {
          "output_type": "execute_result",
          "data": {
            "text/plain": [
              "60000"
            ]
          },
          "metadata": {},
          "execution_count": 3
        }
      ]
    },
    {
      "cell_type": "code",
      "source": [
        "train_labels"
      ],
      "metadata": {
        "colab": {
          "base_uri": "https://localhost:8080/"
        },
        "id": "tVAZW9dfetbX",
        "outputId": "185d5c1c-db61-4b2f-8828-1d40e00be8f5"
      },
      "execution_count": null,
      "outputs": [
        {
          "output_type": "execute_result",
          "data": {
            "text/plain": [
              "array([5, 0, 4, ..., 5, 6, 8], dtype=uint8)"
            ]
          },
          "metadata": {},
          "execution_count": 4
        }
      ]
    },
    {
      "cell_type": "markdown",
      "source": [
        "И тестовые данные:"
      ],
      "metadata": {
        "id": "O1veFipsezkG"
      }
    },
    {
      "cell_type": "code",
      "source": [
        "test_images.shape"
      ],
      "metadata": {
        "colab": {
          "base_uri": "https://localhost:8080/"
        },
        "id": "iW4bvh-je1Oo",
        "outputId": "b42f97d2-7b6f-495c-862a-a5e5834225c1"
      },
      "execution_count": null,
      "outputs": [
        {
          "output_type": "execute_result",
          "data": {
            "text/plain": [
              "(10000, 28, 28)"
            ]
          },
          "metadata": {},
          "execution_count": 5
        }
      ]
    },
    {
      "cell_type": "code",
      "source": [
        "len(test_labels)"
      ],
      "metadata": {
        "colab": {
          "base_uri": "https://localhost:8080/"
        },
        "id": "94sPhS84e7tg",
        "outputId": "05489d94-1ce9-4b46-9204-071e0bce5480"
      },
      "execution_count": null,
      "outputs": [
        {
          "output_type": "execute_result",
          "data": {
            "text/plain": [
              "10000"
            ]
          },
          "metadata": {},
          "execution_count": 6
        }
      ]
    },
    {
      "cell_type": "code",
      "source": [
        "test_labels"
      ],
      "metadata": {
        "colab": {
          "base_uri": "https://localhost:8080/"
        },
        "id": "LO7tzL5Ie9Cn",
        "outputId": "8ae84912-f452-4f55-f3d0-a0a1d87c20f1"
      },
      "execution_count": null,
      "outputs": [
        {
          "output_type": "execute_result",
          "data": {
            "text/plain": [
              "array([7, 2, 1, ..., 4, 5, 6], dtype=uint8)"
            ]
          },
          "metadata": {},
          "execution_count": 7
        }
      ]
    },
    {
      "cell_type": "code",
      "source": [
        "import matplotlib.pyplot as plt\n",
        "%matplotlib inline\n",
        "\n",
        "digit = train_images[7]\n",
        "fig, ax = plt.subplots(1,1)\n",
        "ax.set_title('Образец с индеком 7 из нашего набора данных')\n",
        "ax.imshow(digit, cmap=plt.cm.binary)\n",
        "plt.show()"
      ],
      "metadata": {
        "colab": {
          "base_uri": "https://localhost:8080/",
          "height": 452
        },
        "id": "OMhgSy1Mnrsg",
        "outputId": "39fbd2bc-fc23-4a66-ec89-5e52adb44dcf"
      },
      "execution_count": null,
      "outputs": [
        {
          "output_type": "display_data",
          "data": {
            "text/plain": [
              "<Figure size 640x480 with 1 Axes>"
            ],
            "image/png": "[encoded data removed]"
          },
          "metadata": {}
        }
      ]
    },
    {
      "cell_type": "markdown",
      "source": [
        "## Моделирование нейронной сети"
      ],
      "metadata": {
        "id": "tkL7MyeSjwl_"
      }
    },
    {
      "cell_type": "markdown",
      "source": [
        "Далее мы сконструируем модель нейронной сети и передадим ей обучающие данные `train_images` и `train_labels`. В результате этого модель обучится сопоставлять изображения с метками. Затем мы предложим модели классифицировать изображения в `test_images` и проверим точность классификации по меткам."
      ],
      "metadata": {
        "id": "3BJTcBXle4YP"
      }
    },
    {
      "cell_type": "code",
      "source": [
        "from keras import models\n",
        "from keras import layers\n",
        "model = models.Sequential()\n",
        "model.add(layers.Dense(512, activation='relu', input_shape=(28 * 28,)))\n",
        "model.add(layers.Dense(10, activation='softmax'))"
      ],
      "metadata": {
        "id": "LeczY-udfdNs"
      },
      "execution_count": null,
      "outputs": []
    },
    {
      "cell_type": "markdown",
      "source": [
        "Основным строительным блоком нейронных сетей (НС) является слой, модуль обработки данных, который можно рассматривать как фильтр для данных.Это другой взгляд на НС, отличный тому, что мы обсуждали ранее. Таким подходом любят пользоваться аналитики данных. Они смотрят на нейронную сеть как на слоеный пирог с набором фильтров, через которые проходят данные.\n",
        "\n",
        "Фильтр принимает некоторые данные и выводит их в более полезной форме. В частности, слои извлекают представления из подаваемых в них данных, которые, как мы надеемся, будут иметь больше смысла для решаемой задачи. Фактически методика глубокого обучения заключается в объединении простых слоев, реализующих некоторую форму поэтапной очистки данных. Модель глубокого обучения можно сравнить с ситом, состоящим из последовательности фильтров все более тонкой очистки данных — слоев.\n",
        "\n",
        "В данном случае наша сеть состоит из последовательности двух слоев Dense, которые являются полносвязными нейронными слоями. Второй (и последний) слой — это 10-переменный слой потерь (softmax), возвращающий массив с 10 оценками вероятностей (в сумме дающих 1).\n",
        "\n",
        "Каждая оценка определяет вероятность принадлежности текущего изображения\n",
        "к одному из 10 классов цифр."
      ],
      "metadata": {
        "id": "-TxTQ_TIgHfi"
      }
    },
    {
      "cell_type": "markdown",
      "source": [
        "## Компиляция модели"
      ],
      "metadata": {
        "id": "1kNnY3iwj-jP"
      }
    },
    {
      "cell_type": "markdown",
      "source": [
        "Следующий шаг - это компиляция модели.\n",
        "\n",
        "На этом этапе мы должны задать:\n",
        "\n",
        "* **функцию потерь**, которая определяет, как сеть должна оценивать качество своей работы на обучающих данных и, соответственно, как корректировать ее в правильном направлении;\n",
        "* **оптимизатор** — механизм, с помощью которого сеть будет обновлять себя, опираясь на наблюдаемые данные и функцию потерь;\n",
        "* **метрики для мониторинга на этапах обучения и тестирования** — здесь нас\n",
        "будет интересовать только точность (`accuracy` - доля правильно классифицированных изображений).\n"
      ],
      "metadata": {
        "id": "60fDucrSiaaP"
      }
    },
    {
      "cell_type": "code",
      "source": [
        "model.compile(optimizer='rmsprop',\n",
        " loss='categorical_crossentropy',\n",
        " metrics=['accuracy'])"
      ],
      "metadata": {
        "id": "62xcUtq1jTIz"
      },
      "execution_count": null,
      "outputs": []
    },
    {
      "cell_type": "markdown",
      "source": [
        "`categorical_crossentropy` — это функция потерь, которая используется в качестве сигнала обратной связи для обучения весовых тензоров и которую этап обучения стремится свести к минимуму. Cнижение потерь достигается за счет применения алгоритма стохастического градиентного спуска на небольших пакетах (мини-батчах). Точные правила, управляющие конкретным применением градиентного спуска, определяются оптимизатором `rmsprop`, который передается в первом аргументе."
      ],
      "metadata": {
        "id": "DPsLuULmt31a"
      }
    },
    {
      "cell_type": "markdown",
      "source": [
        "## Подготовка данных"
      ],
      "metadata": {
        "id": "aYoiIVsvkEvI"
      }
    },
    {
      "cell_type": "markdown",
      "source": [
        "Перед обучением модели нам необходимо выполнить предварительную обработку данных, преобразовав их в форму, которую ожидает получить от нас нейронная сеть, и масштабировать их так, чтобы все значения оказались в интервале $[0, 1]$.\n",
        "\n",
        "Исходные данные — обучающие изображения — хранятся в трехмерном массиве $(60000, 28, 28)$ типа $uint8$, значениями в котором являются числа в интервале $[0, 255]$. Мы преобразуем его в массив $(60000, 28 * 28)$ типа $float32$ со значениями в интервале $[0, 1]$."
      ],
      "metadata": {
        "id": "JBbbTL_tjZc6"
      }
    },
    {
      "cell_type": "code",
      "source": [
        "# изменение формы тензора\n",
        "train_images = train_images.reshape((60000, 28 * 28))\n",
        "\n",
        "# Задаем тип данным и нормируем на максимальное значение в тензоре (приводим к диапазону [0, 1])\n",
        "train_images = train_images.astype('float32') / 255\n",
        "\n",
        "# изменение формы тензора\n",
        "test_images = test_images.reshape((10000, 28 * 28))\n",
        "\n",
        "# Задаем тип данным и нормируем на максимальное значение в тензоре (приводим к диапазону [0, 1])\n",
        "test_images = test_images.astype('float32') / 255"
      ],
      "metadata": {
        "id": "xNAgc_70ktqm"
      },
      "execution_count": null,
      "outputs": []
    },
    {
      "cell_type": "markdown",
      "source": [
        "Метка это число. Как нам подать число на 10 нейронов выходного слоя? Для этого нам нужно закодировать метки категорий или как еще говорят \"векторизовать метки\".\n",
        "\n",
        "Векторизовать метки можно одним из двух способов: сохранить их в тензоре\n",
        "целых чисел или использовать прямое кодирование. Прямое кодирование (onehot encoding) широко используется для форматирования категорий и также называется кодированием категорий (categorical encoding).\n",
        "\n",
        "В данном случае прямое кодирование меток заключается в конструировании вектора с нулевыми элементами и со значением 1 в элементе, индекс которого соответствует индексу метки. Например:"
      ],
      "metadata": {
        "id": "11x8rZL8kvfJ"
      }
    },
    {
      "cell_type": "code",
      "source": [
        "import numpy as np\n",
        "def to_one_hot(labels, dimension=10): # dimension - число классов\n",
        "    results = np.zeros((len(labels), dimension))\n",
        "    for i, label in enumerate(labels):\n",
        "        results[i, label] = 1.\n",
        "    return results"
      ],
      "metadata": {
        "id": "_E0PCdedKpkF"
      },
      "execution_count": null,
      "outputs": []
    },
    {
      "cell_type": "markdown",
      "source": [
        "Для кодирования в формате `onehot encoding` в Keras есть готовая функция:"
      ],
      "metadata": {
        "id": "dsEKx2fgLALn"
      }
    },
    {
      "cell_type": "code",
      "source": [
        "from keras.utils import to_categorical\n",
        "train_labels = to_categorical(train_labels, 10) # Кодируем обучающие метки на 10 классов\n",
        "test_labels = to_categorical(test_labels, 10)   # Кодируем тестовые метки на 10 классов"
      ],
      "metadata": {
        "id": "5XXqTbjrkvHl"
      },
      "execution_count": null,
      "outputs": []
    },
    {
      "cell_type": "markdown",
      "source": [
        "## Обучение и оценка модели"
      ],
      "metadata": {
        "id": "Xw97pzh9lb8_"
      }
    },
    {
      "cell_type": "markdown",
      "source": [
        "Теперь можно начинать обучение сети, для чего достаточно вызвать метод `fit()` модели, который адаптирует нашу модель (ее веса) под обучающие данные.\n",
        "Обратите внимание на числа - 469 - это количество батчей (пакетов), а 128 - это количество примеров.. Получается 469 батчей по 128 примеров, подаваемых за раз."
      ],
      "metadata": {
        "id": "9ESO17L3k6yc"
      }
    },
    {
      "cell_type": "code",
      "source": [
        "history = model.fit(train_images, train_labels, validation_data=(test_images, test_labels), epochs=5, batch_size=128)"
      ],
      "metadata": {
        "colab": {
          "base_uri": "https://localhost:8080/"
        },
        "id": "zppzz4bMlZq-",
        "outputId": "1c5ebd66-1dfc-489c-fc56-017814dd940e"
      },
      "execution_count": null,
      "outputs": [
        {
          "output_type": "stream",
          "name": "stdout",
          "text": [
            "Epoch 1/5\n",
            "469/469 [==============================] - 6s 11ms/step - loss: 0.2602 - accuracy: 0.9257 - val_loss: 0.1346 - val_accuracy: 0.9597\n",
            "Epoch 2/5\n",
            "469/469 [==============================] - 5s 11ms/step - loss: 0.1059 - accuracy: 0.9688 - val_loss: 0.0918 - val_accuracy: 0.9714\n",
            "Epoch 3/5\n",
            "469/469 [==============================] - 5s 11ms/step - loss: 0.0699 - accuracy: 0.9792 - val_loss: 0.0726 - val_accuracy: 0.9774\n",
            "Epoch 4/5\n",
            "469/469 [==============================] - 5s 10ms/step - loss: 0.0501 - accuracy: 0.9851 - val_loss: 0.0689 - val_accuracy: 0.9794\n",
            "Epoch 5/5\n",
            "469/469 [==============================] - 6s 12ms/step - loss: 0.0384 - accuracy: 0.9885 - val_loss: 0.0723 - val_accuracy: 0.9767\n"
          ]
        }
      ]
    },
    {
      "cell_type": "markdown",
      "source": [
        "В процессе обучения отображаются 4 величины:\n",
        "* `loss` - потери сети на обучающих данных;\n",
        "* `accuracy` -  точность сети на обучающих данных;\n",
        "* `val_loss` - потери сети на тестовых данных;\n",
        "* `val_accuracy` -  точность сети на тестовых данных.\n",
        "\n",
        "В данном случае мы достигли точности более 0,98 (>98%) на обучающих данных.\n",
        "\n",
        "Теперь проверим, как модель распознает контрольный набор, с помощью метода модели `evaluate()`, передав ему в качестве позиционных аргументов тестовые изображения и метки:"
      ],
      "metadata": {
        "id": "pSwasRaMk6sN"
      }
    },
    {
      "cell_type": "code",
      "source": [
        "test_loss, test_acc = model.evaluate(test_images, test_labels)\n",
        "print('Точность на тестовом образцу:', test_acc)\n",
        "print('Потери на тестовом образце:', test_loss)"
      ],
      "metadata": {
        "colab": {
          "base_uri": "https://localhost:8080/"
        },
        "id": "RKuqzkLNmLrw",
        "outputId": "584f2e19-991f-42b2-ca24-b71581fd24ae"
      },
      "execution_count": null,
      "outputs": [
        {
          "output_type": "stream",
          "name": "stdout",
          "text": [
            "313/313 [==============================] - 1s 3ms/step - loss: 0.0723 - accuracy: 0.9767\n",
            "Точность на тестовом образцу: 0.9767000079154968\n",
            "Потери на тестовом образце: 0.07229446619749069\n"
          ]
        }
      ]
    },
    {
      "cell_type": "markdown",
      "source": [
        "Точность на контрольном наборе составила 98 %, но если посмотреть на десятые доли процента точности обучающей и тестовых выборок, то немного меньше. Эта разница между точностью на тренировочном и контрольном наборах демонстрирует пример переобучения (overfitting), когда модели машинного обучения показывают худшую точность на новом наборе данных по сравнению с тренировочным.\n",
        "\n"
      ],
      "metadata": {
        "id": "aLCcrcJHm9_z"
      }
    },
    {
      "cell_type": "markdown",
      "source": [
        "### Предсказание"
      ],
      "metadata": {
        "id": "0JvKthK8zuVa"
      }
    },
    {
      "cell_type": "markdown",
      "source": [
        "Чтобы ваша модель сделала предсказание, нужно вызвать метод `.predict()` и передать в него данные для распознавания. Выберем произвольную картинку из тестовой выборки и посмотрим на ее форму:\n"
      ],
      "metadata": {
        "id": "rO-Z8mgx0Hut"
      }
    },
    {
      "cell_type": "code",
      "source": [
        "# Выбор нужной картинки из тестовой выборки\n",
        "n = 23\n",
        "x = test_images[n]\n",
        "\n",
        "# Проверка формы данных\n",
        "print(x.shape)\n"
      ],
      "metadata": {
        "colab": {
          "base_uri": "https://localhost:8080/"
        },
        "id": "0j84pCog0Ai-",
        "outputId": "61ff443a-2004-45d7-bfb2-505aa6fced3c"
      },
      "execution_count": null,
      "outputs": [
        {
          "output_type": "stream",
          "name": "stdout",
          "text": [
            "(784,)\n"
          ]
        }
      ]
    },
    {
      "cell_type": "markdown",
      "source": [
        "Если мы в таком виде передадим данные в модель для предсказания, то получим ошибку. Нам необходимо добавить одну ось в начале, чтобы нейронка могла распознать пример."
      ],
      "metadata": {
        "id": "0nqRCCXW2HG6"
      }
    },
    {
      "cell_type": "code",
      "source": [
        "import numpy as np\n",
        "\n",
        "# Массив из одного примера, так как нейронка принимает именно массивы примеров (батчи) для распознавания\n",
        "x = np.expand_dims(x, axis=0)\n",
        "\n",
        "# Проверка формы данных\n",
        "print(x.shape)"
      ],
      "metadata": {
        "colab": {
          "base_uri": "https://localhost:8080/"
        },
        "id": "WuNz23PV5XHT",
        "outputId": "ab6f0106-638e-4a2b-a1a1-9126af0733b6"
      },
      "execution_count": null,
      "outputs": [
        {
          "output_type": "stream",
          "name": "stdout",
          "text": [
            "(1, 784)\n"
          ]
        }
      ]
    },
    {
      "cell_type": "markdown",
      "source": [
        "Теперь форма соответствует той, что ожидает модель:"
      ],
      "metadata": {
        "id": "SacFFpN1AvDK"
      }
    },
    {
      "cell_type": "code",
      "source": [
        "# Предсказываем выбранную картинку\n",
        "prediction = model.predict(x)\n",
        "\n",
        "# Вывод результата - вектор из 10 чисел\n",
        "print(f'Вектор результата на 10 выходных нейронах: {prediction}')\n",
        "\n",
        "# Получение и вывод индекса самого большого элемента (это значение цифры, которую распознала сеть)\n",
        "pred = np.argmax(prediction)\n",
        "print(f'Распознана цифра: {pred}')\n",
        "print(f'Правильное значение: {np.argmax(test_labels[n])}')"
      ],
      "metadata": {
        "colab": {
          "base_uri": "https://localhost:8080/"
        },
        "id": "vLMxC0jw2HpW",
        "outputId": "04fcee26-21d5-426b-a8d7-566bc3371287"
      },
      "execution_count": null,
      "outputs": [
        {
          "output_type": "stream",
          "name": "stdout",
          "text": [
            "1/1 [==============================] - 0s 138ms/step\n",
            "Вектор результата на 10 выходных нейронах: [[1.4143262e-10 5.5334803e-11 2.7699665e-10 2.6629507e-07 5.4474602e-12\n",
            "  9.9999952e-01 8.5542020e-08 9.3701251e-13 3.1389959e-08 7.8608942e-08]]\n",
            "Распознана цифра: 5\n",
            "Правильное значение: 5\n"
          ]
        }
      ]
    },
    {
      "cell_type": "markdown",
      "source": [
        "### Визуализация процесса обучения"
      ],
      "metadata": {
        "id": "8kvYt0Y3xpxL"
      }
    },
    {
      "cell_type": "markdown",
      "source": [
        "Вызов `model.fit()` возвращает объект History. Этот объект имеет поле history — словарь с данными обо всем происходившем в процессе обучения. Заглянем в него:"
      ],
      "metadata": {
        "id": "NrZZqyPGxwJJ"
      }
    },
    {
      "cell_type": "code",
      "source": [
        "history_dict = history.history\n",
        "history_dict.keys()"
      ],
      "metadata": {
        "colab": {
          "base_uri": "https://localhost:8080/"
        },
        "id": "efH8E7C8x6c7",
        "outputId": "bea87796-17f5-4cce-e914-af602b93fd38"
      },
      "execution_count": null,
      "outputs": [
        {
          "output_type": "execute_result",
          "data": {
            "text/plain": [
              "dict_keys(['loss', 'accuracy', 'val_loss', 'val_accuracy'])"
            ]
          },
          "metadata": {},
          "execution_count": 18
        }
      ]
    },
    {
      "cell_type": "markdown",
      "source": [
        "Словарь содержит четыре элемента — по одному на метрику, — за которыми\n",
        "осуществлялся мониторинг в процессе обучения и проверки.\n",
        "\n",
        "Построим график потерь на этапах обучения и проверки:\n"
      ],
      "metadata": {
        "id": "f3GYEYLDyB_g"
      }
    },
    {
      "cell_type": "code",
      "source": [
        "import matplotlib.pyplot as plt\n",
        "%matplotlib inline\n",
        "\n",
        "history_dict = history.history\n",
        "loss_values = history_dict['loss']\n",
        "val_loss_values = history_dict['val_loss']\n",
        "epochs = range(1, len(loss_values) + 1)\n",
        "plt.plot(epochs, loss_values, 'bo', label='Потери на обучающей выборке')\n",
        "plt.plot(epochs, val_loss_values, 'b', label='Потери на тестовой выборке')\n",
        "plt.title('График потерь')\n",
        "plt.xlabel('Эпоха обучения')\n",
        "plt.ylabel('Потери')\n",
        "plt.legend()\n",
        "plt.show()"
      ],
      "metadata": {
        "colab": {
          "base_uri": "https://localhost:8080/",
          "height": 472
        },
        "id": "YovoM-DTyQzB",
        "outputId": "ceb791c6-4006-4cb8-d453-7850d61b730f"
      },
      "execution_count": null,
      "outputs": [
        {
          "output_type": "display_data",
          "data": {
            "text/plain": [
              "<Figure size 640x480 with 1 Axes>"
            ],
            "image/png": "[encoded data removed]"
          },
          "metadata": {}
        }
      ]
    },
    {
      "cell_type": "markdown",
      "source": [
        "Построим график точности на этапах обучения и проверки:"
      ],
      "metadata": {
        "id": "P-jFaOeVYezt"
      }
    },
    {
      "cell_type": "code",
      "source": [
        "import matplotlib.pyplot as plt\n",
        "%matplotlib inline\n",
        "\n",
        "history_dict = history.history\n",
        "acc_values = history_dict['accuracy']\n",
        "val_acc_values = history_dict['val_accuracy']\n",
        "epochs = range(1, len(acc_values) + 1)\n",
        "plt.plot(epochs, acc_values, 'bo', label='Точность на обучающей выборке')\n",
        "plt.plot(epochs, val_acc_values, 'b', label='Точность на тестовой выборке')\n",
        "plt.title('График точности')\n",
        "plt.xlabel('Эпоха обучения')\n",
        "plt.ylabel('Точность')\n",
        "plt.legend()\n",
        "plt.show()"
      ],
      "metadata": {
        "colab": {
          "base_uri": "https://localhost:8080/",
          "height": 472
        },
        "id": "VC_o9HEgYk5d",
        "outputId": "83744de4-892a-4eef-c0ef-08dca4576c9f"
      },
      "execution_count": null,
      "outputs": [
        {
          "output_type": "display_data",
          "data": {
            "text/plain": [
              "<Figure size 640x480 with 1 Axes>"
            ],
            "image/png": "[encoded data removed]"
          },
          "metadata": {}
        }
      ]
    },
    {
      "cell_type": "markdown",
      "source": [
        "На графиках видно, что на этапе обучения потери снижаются с каждой эпохой, а точность растет. Именно такое поведение ожидается от оптимизации градиентным спуском: величина, которую вы пытаетесь минимизировать, должна становиться\n",
        "все меньше с каждой итерацией. Но это не относится к потерям и точности на\n",
        "этапе проверки: после третьей эпохи они практически не меняются. Это пример\n",
        "того, о чем мы говорили выше, что модель, показывающая хорошие результаты на обучающих данных, не обязательно будет показывать такие же хорошие результаты на данных, которые не видела прежде. Выражаясь точнее, в данном случае наблюдается переобучение: после третьей эпохи произошла чрезмерная оптимизация на обучающих данных, и в результате получилось представление, характерное для обучающих данных, не обобщающее данные за пределами обучающего набора.\n",
        "В данном случае для предотвращения переобучения можно прекратить обучение\n",
        "после третьей эпохи. Вообще говоря, есть целый спектр приемов, ослабляющих\n",
        "эффект переобучения, которые мы рассмотрим позже."
      ],
      "metadata": {
        "id": "O9kAxZ_vx6_L"
      }
    },
    {
      "cell_type": "markdown",
      "source": [
        "### Немного теории"
      ],
      "metadata": {
        "id": "uFblUR37pq9m"
      }
    },
    {
      "cell_type": "markdown",
      "source": [
        "#### Мини-батчи"
      ],
      "metadata": {
        "id": "H3E-ZJrZp78i"
      }
    },
    {
      "cell_type": "markdown",
      "source": [
        "В общем случае первая ось (ось с индексом 0) во всех тензорах, с которыми вам придется столкнуться в глубоком обучении, будет осью образцов (иногда ее называют измерением образцов). В примере MNIST образцы — это изображения цифр.\n",
        "\n",
        "Кроме того, модели глубокого обучения не обрабатывают весь набор данных целиком, а разбивают его на небольшие пакеты.\n",
        "\n",
        "В примере выше при обучении модели мы указали размер пакет (мини-батча) `batch_size = 128`.\n",
        "\n",
        "Что означает, что первым пакетом для обучения будет:\n",
        "\n",
        "```python\n",
        "batch = train_images[:128]\n",
        "```\n",
        "\n",
        "А следующий пакет:\n",
        "```python\n",
        "batch = train_images[128:256]\n",
        "```\n",
        "\n",
        "А вот n-й пакет:\n",
        "```python\n",
        "batch = train_images[128 * n:128 * (n + 1)]\n",
        "```\n",
        "\n",
        "При рассмотрении таких пакетных тензоров первую ось (ось с индексом 0) называют осью пакетов, или измерением пакетов. Эта терминология часто будет встречаться вам при работе с Keras и другими библиотеками глубокого обучения.\n",
        "\n",
        "Теперь зная, как делятся тренировочные данные на пакеты, мы можем понять как происходит весь процесс обучения на мини-батчах при вызове fit: сеть начинает перебирать обучающие данные мини-пакетами по 128 образцов и выполняет 5 итераций (каждая итерация по всем обучающим данным называется эпохой). Для каждого мини-пакета сеть вычисляет градиенты весов с учетом потерь в пакете и изменяет значения весов в соответствующем направлении. В течение пяти эпох сеть выполнит 2345 изменений градиента (по 469 на эпоху), после чего потери сети окажутся достаточно низкими, чтобы эта сеть смогла классифицировать рукописные цифры с высокой точностью."
      ],
      "metadata": {
        "id": "z8V4UdW-pw-u"
      }
    },
    {
      "cell_type": "markdown",
      "source": [
        "#### Изменение формы тензора"
      ],
      "metadata": {
        "id": "7Is-Xgu7rUFC"
      }
    },
    {
      "cell_type": "markdown",
      "source": [
        "Эту операцию мы использовали ее, когда готовили исходные данные для передачи в модель:\n",
        "```python\n",
        "train_images = train_images.reshape((60000, 28 * 28))\n",
        "```\n",
        "Изменение формы тензора предполагает такое переупорядочение строк и столбцов,\n",
        "чтобы привести его форму к заданной. Разумеется, тензор с измененной формой\n",
        "имеет такое же количество элементов, что и исходный тензор. Чтобы было понятнее, рассмотрим несколько простых примеров:\n"
      ],
      "metadata": {
        "id": "X0WaI0lLrV-A"
      }
    },
    {
      "cell_type": "code",
      "source": [
        "import numpy as np\n",
        "x = np.array([[0., 1.],\n",
        "[2., 3.],\n",
        "[4., 5.]])\n",
        "\n",
        "print(x.shape)"
      ],
      "metadata": {
        "colab": {
          "base_uri": "https://localhost:8080/"
        },
        "id": "_QftoCv0sfiz",
        "outputId": "88dc9676-bdff-4cc7-f7ee-24cf88a837a5"
      },
      "execution_count": null,
      "outputs": [
        {
          "output_type": "stream",
          "name": "stdout",
          "text": [
            "(3, 2)\n"
          ]
        }
      ]
    },
    {
      "cell_type": "code",
      "source": [
        "x = x.reshape((6, 1))\n",
        "print(x)"
      ],
      "metadata": {
        "colab": {
          "base_uri": "https://localhost:8080/"
        },
        "id": "EKezpUCBsgIN",
        "outputId": "adfce10b-1b53-476d-eaf5-df43d1392d58"
      },
      "execution_count": null,
      "outputs": [
        {
          "output_type": "stream",
          "name": "stdout",
          "text": [
            "[[0.]\n",
            " [1.]\n",
            " [2.]\n",
            " [3.]\n",
            " [4.]\n",
            " [5.]]\n"
          ]
        }
      ]
    },
    {
      "cell_type": "code",
      "source": [
        "x = x.reshape((2, 3))\n",
        "print(x)"
      ],
      "metadata": {
        "colab": {
          "base_uri": "https://localhost:8080/"
        },
        "id": "sL9LQqu_s9AS",
        "outputId": "c8c05b5f-e79f-42ae-fe2b-9440b270356a"
      },
      "execution_count": null,
      "outputs": [
        {
          "output_type": "stream",
          "name": "stdout",
          "text": [
            "[[0. 1. 2.]\n",
            " [3. 4. 5.]]\n"
          ]
        }
      ]
    },
    {
      "cell_type": "markdown",
      "source": [
        "Особый случай изменения формы, который часто встречается в практике, — это\n",
        "транспонирование. Транспонирование — это такое преобразование матрицы, когда\n",
        "строки становятся столбцами, а столбцы — строками, то есть $x[i, :]$ превращается в $x[:, i]$:"
      ],
      "metadata": {
        "id": "fxRLdKGqtNI0"
      }
    },
    {
      "cell_type": "code",
      "source": [
        "x = np.zeros((50, 10))\n",
        "x = np.transpose(x)\n",
        "print(x.shape)"
      ],
      "metadata": {
        "colab": {
          "base_uri": "https://localhost:8080/"
        },
        "id": "cdYZg8CktInl",
        "outputId": "f4984dc1-d87a-464d-9e06-06e622008e02"
      },
      "execution_count": null,
      "outputs": [
        {
          "output_type": "stream",
          "name": "stdout",
          "text": [
            "(10, 50)\n"
          ]
        }
      ]
    },
    {
      "cell_type": "markdown",
      "source": [
        "#### Общая схема улучшения ваших моделей"
      ],
      "metadata": {
        "id": "rWDFef1TqCxw"
      }
    },
    {
      "cell_type": "markdown",
      "source": [
        "После того, как вы провели обучение простой случайной архитектуры модели (базовый случай), ваша цель должна состоять в достижении статистической мощности, то есть разработать небольшую модель, способную выдать более качественный результат по сравнению с базовым случаем.\n",
        "\n",
        "Обратите внимание на то, что не всегда удается достичь статистической мощности.\n",
        "Если модель не в состоянии дать более высокую точность, чем простой случайный\n",
        "выбор после исследования нескольких разумных архитектур,\n",
        "вполне возможно, что во входных данных отсутствует ответ на вопрос, который\n",
        "вы пытаетесь задать.\n",
        "\n",
        "**Не забывайте, что вы ставите две гипотезы:**\n",
        "\n",
        "* гипотеза о том, что выходные данные можно предсказать по входным данным;\n",
        "* гипотеза о том, что доступные данные достаточно информативны для изучения\n",
        "отношений между входными и выходными данными.\n",
        "\n",
        "**Вполне возможно, что эти гипотезы ошибочны, и тогда вам придется выполнить проектирования с самого начала.**\n",
        "\n",
        "Если все идет как надо, **вам нужно сделать три ключевых выбора для создания\n",
        "первой рабочей модели:**\n",
        "\n",
        "* **Функция активации для последнего уровня** — устанавливает эффективные\n",
        "ограничения на результат сети. Например, в случае задач бинарной классификации на последнем уровне используется функция `sigmoid`, в случае многоклассовой классификации - `softmax`, а в случае регрессии\n",
        "вообще не используется функция активации на последнем уровне (а точнее используется линейная функция активации) и т. д.\n",
        "* **Функция потерь — должна соответствовать типу решаемой задачи**. Например,\n",
        "в случае бинарной классификации используется функция потерь `binary_crossentropy`, в случае регрессии используется функция `mse` и т. д.\n",
        "* **Конфигурация оптимизации** — какой оптимизатор использовать? Какой выбрать\n",
        "шаг обучения? В большинстве случаев с успехом можно использовать `rmsprop` с шагом обучения по умолчанию, в качестве альтернативы стоит рассматривать `adam`.\n",
        "\n",
        "Выбирая функцию потерь, имейте в виду, что не всегда можно напрямую оптимизировать показатель успеха решения задачи. Иногда нет простого способа преобразовать показатель успеха в функцию потерь. Также функции потерь, в конце концов, должны быть вычислимыми на мини-батчах (в идеале функция потерь\n",
        "должна быть вычислимой на очень маленьких объемах данных, вплоть до одного экземпляра) и дифференцируемыми (иначе не получится использовать обратное\n",
        "распространение ошибки для обучения сети).\n",
        "\n",
        "Данная таблица поможет вам на начальном этапе выбрать функцию активации для последнего уровня и функцию потерь для некоторых типичных задач:\n",
        "\n",
        "\n",
        "<table>\n",
        "<caption><b>Таблица.</b> Выбор функции активации для последнего уровня и функции потерь</caption>\n",
        "<tr><th>Тип задачи\n",
        "</th><th>Функция активации\n",
        "для последнего\n",
        "уровня</th><th>Функция потерь</th></tr>\n",
        "<tr><td>Бинарная классификация</td><td>sigmoid</td><td>binary_crossentropy</td></tr>\n",
        "<tr><td>Многоклассовая, однозначная классификация</td><td>softmax</td><td>categorical_crossentropy</td></tr>\n",
        "<tr><td>Многоклассовая, многозначная классификация</td><td>sigmoid</td><td>binary_crossentropy</td></tr>\n",
        "<tr><td>Регрессия по произвольным значениям</td><td>Нет (линейная)</td><td>mse</td></tr>\n",
        "<tr><td>Регрессия по значениям между 0 и 1</td><td>sigmoid</td><td>mse или binary_crossentropy</td></tr>\n",
        "</table>\n"
      ],
      "metadata": {
        "id": "kLmXPQeDqK5M"
      }
    },
    {
      "cell_type": "markdown",
      "source": [
        "После получения модели, обладающей статистической мощностью, встает вопрос\n",
        "о достаточной мощности модели.\n",
        "\n",
        "**Достаточно ли слоев и параметров, чтобы правильно смоделировать задачу?**\n",
        "\n",
        "Например, сеть с единственным скрытым (промежуточным) слоем, имеющим два параметра, будет иметь некоторую статистическую мощность для классификации цифр из набора MNIST, но недостаточную, чтобы считать задачу решенной. Не забывайте о распространенной проблеме машинного обучения — противоречии между оптимизацией и общностью. Идеальной считается модель, которая стоит непосредственно на границе между недообучением и переобучением, между недостаточной и избыточной емкостью. Чтобы понять, где пролегает эта граница, ее сначала нужно пересечь.\n",
        "\n",
        "**Чтобы понять, насколько большой должна быть модель, сначала нужно сконструировать модель, обладающую эффектом переобучения.**\n",
        "\n",
        "Сделать это просто:\n",
        "\n",
        "1. Добавьте слои.\n",
        "2. Задайте большое количество параметров в слоях.\n",
        "3. Обучите модель на большом количестве эпох.\n",
        "\n",
        "Постоянно контролируйте, как меняется уровень потерь на этапах обучения и проверки, а также любые другие показатели на этих же этапах, которые вас интересуют.\n",
        "\n",
        "**Ухудшение качества модели на проверочных данных свидетельствует о достижении\n",
        "эффекта переобучения.**\n",
        "\n",
        "Следующий шаг — регуляризация и настройка модели, чтобы как можно ближе\n",
        "подойти к идеальной модели, которая не страдает ни недообучением, ни переобучением.\n",
        "\n",
        "Этот шаг занимает больше всего времени: вам придется многократно изменять\n",
        "свою модель, обучать ее, оценивать качество на проверочных данных, снова изменять ее и повторять этот цикл, пока качество модели не достигнет желаемого уровня. Вот кое-что из того, что вы должны попробовать:\n",
        "\n",
        "* добавить прореживание;\n",
        "* опробовать разные архитектуры: добавлять и удалять слои;\n",
        "* добавить L1- и (или) L2-регуляризацию;\n",
        "* опробовать разные гиперпараметры (например, число нейронов на слой или шаг\n",
        "обучения оптимизатора), чтобы найти оптимальные настройки;\n",
        "* дополнительно можно выполнить цикл конструирования признаков: добавить\n",
        "новые признаки или удалить имеющиеся, которые не кажутся информативными.\n",
        "\n",
        "На данном этапе, вы еще не знакомы с методами регуляризации, с ними вы будете знакомиться на следующих уроках, однако, уже сейчас вы можете провести регуляризацию и настройку модели, меняя архитектуру сети и ее гиперпараметры.\n",
        "\n",
        "Получив удовлетворительную конфигурацию, можно обучить окончательный\n",
        "вариант модели на всех доступных данных (тренировочных и проверочных) и оценить ее качество на контрольном наборе. Если качество модели на контрольных\n",
        "данных окажется значительно хуже, чем на проверочных, это может означать, что\n",
        "ваша процедура проверки была ненадежной или в процессе настройки параметров\n",
        "модели проявился эффект переобучения на проверочных данных. В этом случае\n",
        "можно попробовать переключиться на использование другого, более надежного\n",
        "протокола оценки (такого, как итерационная проверка по K блокам с перемешиванием)."
      ],
      "metadata": {
        "id": "OoYUgTuRQdiW"
      }
    },
    {
      "cell_type": "markdown",
      "source": [
        "**Рекомендация.** Прежде чем перейти к домашней работе. Оптимизируйте датасет из текущей практики, добейтесь его статистической мощности, подтвердите свои предположения на тестовой выборке. Когда вы перейдете к домашней работе, то число классов будет больше, несмотря на сходство задач, а значит точностью модели значительно упадет. Вам придется увеличивать число эпох обучения, а значит вероятность переобучения вырастит.   "
      ],
      "metadata": {
        "id": "WViGi65JVA_M"
      }
    },
    {
      "cell_type": "markdown",
      "source": [
        "Теперь пора перейти к [домашней работе](https://colab.research.google.com/drive/1RD-x2WPmMBtutQzeKiigOoHKwp1MZNd9) и попрактиковаться в распознавании рукописных букв."
      ],
      "metadata": {
        "id": "jT9WrbrlD9np"
      }
    }
  ]
}