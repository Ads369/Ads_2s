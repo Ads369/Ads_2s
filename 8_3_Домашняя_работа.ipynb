{
  "cells": [
    {
      "cell_type": "markdown",
      "metadata": {
        "colab_type": "text",
        "id": "view-in-github"
      },
      "source": [
        "<a href=\"https://colab.research.google.com/github/Ads369/Ads_2s/blob/main/8_3_%D0%94%D0%BE%D0%BC%D0%B0%D1%88%D0%BD%D1%8F%D1%8F_%D1%80%D0%B0%D0%B1%D0%BE%D1%82%D0%B0.ipynb\" target=\"_parent\"><img src=\"https://colab.research.google.com/assets/colab-badge.svg\" alt=\"Open In Colab\"/></a>"
      ]
    },
    {
      "cell_type": "markdown",
      "metadata": {
        "id": "8LIWrmOPjBO6"
      },
      "source": [
        "**Навигация по уроку**\n",
        "\n",
        "1. [Библиотеки визуализации данных в Python](https://colab.research.google.com/drive/1IbLhzlqiJhhPAErmdQ9wuIUdDaSRlNUF)\n",
        "2. [Задача об акциях Tesla](https://colab.research.google.com/drive/1jukOs54u301WtyQS-SbRxWxDstTCjEBq)\n",
        "3. Домашняя работа"
      ]
    },
    {
      "cell_type": "markdown",
      "metadata": {
        "id": "pKkuA3ulRTCq"
      },
      "source": [
        "Используя датасет о стоимости акций Сбербанка с 01.01.2013 года:\n",
        "\n",
        "https://storage.yandexcloud.net/academy.ai/SBER.csv\n",
        "\n",
        "визуализируйте индикатор \"Полосы Боллинджера\", проанализируйте график, и предложите вариант торговли акциями Сбербанка с помощью этого инструмента.\n",
        "\n",
        "**Подсказка.**\n",
        "Индикатор выглядит как полоса из трех линий:\n",
        "\n",
        "* линия посередине — это простая скользящая средняя (SMA) с периодом `ma_size`, обычно около 20 дней;\n",
        "\n",
        "* верхняя и нижняя линии (BB) — построены на основе SMА, но к нему добавлено стреднеквадратичное отклонение:\n",
        "\n",
        "```\n",
        " SMA = data['close'].rolling(ma_size).mean()\n",
        " BB_UP = SMA + data['close'].rolling(ma_size).std() * bol_size\n",
        " BB_DOWN = SMA - data['close'].rolling(ma_size).std() * bol_size\n",
        "   \n",
        "```\n",
        "\n",
        "где bol_size - ширина коридора, подбирается по графику. Выберите такое его значение, чтобы по графику можно было принимать торговые решения."
      ]
    },
    {
      "cell_type": "code",
      "execution_count": null,
      "metadata": {
        "vscode": {
          "languageId": "plaintext"
        }
      },
      "outputs": [],
      "source": [
        "!wget https://storage.yandexcloud.net/academy.ai/SBER.csv\n"
      ]
    },
    {
      "cell_type": "code",
      "execution_count": null,
      "metadata": {},
      "outputs": [],
      "source": [
        "import os\n",
        "import numpy as np\n",
        "import pandas as pd\n",
        "\n",
        "import plotly as py\n",
        "import plotly.io as pio\n",
        "import plotly.graph_objects as go\n",
        "import plotly.express as px\n",
        "from plotly.subplots import make_subplots\n",
        "from plotly.offline import download_plotlyjs, init_notebook_mode, plot, iplo"
      ]
    },
    {
      "cell_type": "code",
      "execution_count": null,
      "metadata": {},
      "outputs": [],
      "source": [
        "df = pd.read_csv(\"SBER.csv\", sep=\";\")\n",
        "df[\"DATE\"] = pd.to_datetime(df[\"DATE\"], format=\"%Y%m%d\")\n",
        "\n",
        "bol_size = 2\n",
        "ma_size = 20\n",
        "\n",
        "df.insert(0, \"SMA\", df[\"CLOSE\"].rolling(ma_size).mean())\n",
        "df.insert(0, \"BB_UP\", df[\"SMA\"] + df[\"CLOSE\"].rolling(ma_size).std() * bol_size)\n",
        "df.insert(0, \"BB_DOWN\", df[\"SMA\"] - df[\"CLOSE\"].rolling(ma_size).std() * bol_size)\n",
        "\n",
        "fig = go.Figure()\n",
        "fig.update_layout(title=\"Акции сбербанка\", xaxis_title=\"Date\", yaxis_title=\"Price\")\n",
        "\n",
        "fig.add_trace(\n",
        "    go.Candlestick(\n",
        "        x=df[\"DATE\"],\n",
        "        open=df[\"OPEN\"],\n",
        "        high=df[\"HIGH\"],\n",
        "        low=df[\"LOW\"],\n",
        "        close=df[\"CLOSE\"],\n",
        "    )\n",
        ")\n",
        "\n",
        "for param in [\"SMA\", \"BB_UP\", \"BB_DOWN\"]:\n",
        "    fig.add_trace(\n",
        "        go.Scatter(\n",
        "            x=df[\"DATE\"],\n",
        "            y=df[param],\n",
        "            showlegend=False,\n",
        "            line_color=\"gray\",\n",
        "            mode=\"lines\",\n",
        "            line={\"dash\": \"dash\"},\n",
        "            marker_line_width=2,\n",
        "            marker_size=10,\n",
        "            opacity=0.8,\n",
        "        )\n",
        "    )\n",
        "\n",
        "fig.show()\n"
      ]
    }
  ],
  "metadata": {
    "colab": {
      "include_colab_link": true,
      "provenance": []
    },
    "kernelspec": {
      "display_name": "Python 3",
      "name": "python3"
    },
    "language_info": {
      "name": "python"
    }
  },
  "nbformat": 4,
  "nbformat_minor": 0
}
