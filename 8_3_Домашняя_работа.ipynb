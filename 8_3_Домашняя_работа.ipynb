{
  "nbformat": 4,
  "nbformat_minor": 0,
  "metadata": {
    "colab": {
      "provenance": [],
      "include_colab_link": true
    },
    "kernelspec": {
      "name": "python3",
      "display_name": "Python 3"
    },
    "language_info": {
      "name": "python"
    }
  },
  "cells": [
    {
      "cell_type": "markdown",
      "metadata": {
        "id": "view-in-github",
        "colab_type": "text"
      },
      "source": [
        "<a href=\"https://colab.research.google.com/github/Ads369/Ads_2s/blob/main/8_3_%D0%94%D0%BE%D0%BC%D0%B0%D1%88%D0%BD%D1%8F%D1%8F_%D1%80%D0%B0%D0%B1%D0%BE%D1%82%D0%B0.ipynb\" target=\"_parent\"><img src=\"https://colab.research.google.com/assets/colab-badge.svg\" alt=\"Open In Colab\"/></a>"
      ]
    },
    {
      "cell_type": "markdown",
      "source": [
        "**Навигация по уроку**\n",
        "\n",
        "1. [Библиотеки визуализации данных в Python](https://colab.research.google.com/drive/1IbLhzlqiJhhPAErmdQ9wuIUdDaSRlNUF)\n",
        "2. [Задача об акциях Tesla](https://colab.research.google.com/drive/1jukOs54u301WtyQS-SbRxWxDstTCjEBq)\n",
        "3. Домашняя работа"
      ],
      "metadata": {
        "id": "8LIWrmOPjBO6"
      }
    },
    {
      "cell_type": "markdown",
      "source": [
        "Используя датасет о стоимости акций Сбербанка с 01.01.2013 года:\n",
        "\n",
        "https://storage.yandexcloud.net/academy.ai/SBER.csv\n",
        "\n",
        "визуализируйте индикатор \"Полосы Боллинджера\", проанализируйте график, и предложите вариант торговли акциями Сбербанка с помощью этого инструмента.\n",
        "\n",
        "**Подсказка.**\n",
        "Индикатор выглядит как полоса из трех линий:\n",
        "\n",
        "* линия посередине — это простая скользящая средняя (SMA) с периодом `ma_size`, обычно около 20 дней;\n",
        "\n",
        "* верхняя и нижняя линии (BB) — построены на основе SMА, но к нему добавлено стреднеквадратичное отклонение:\n",
        "\n",
        "```\n",
        " SMA = data['close'].rolling(ma_size).mean()\n",
        " BB_UP = SMA + data['close'].rolling(ma_size).std() * bol_size\n",
        " BB_DOWN = SMA - data['close'].rolling(ma_size).std() * bol_size\n",
        "   \n",
        "```\n",
        "\n",
        "где bol_size - ширина коридора, подбирается по графику. Выберите такое его значение, чтобы по графику можно было принимать торговые решения."
      ],
      "metadata": {
        "id": "pKkuA3ulRTCq"
      }
    }
  ]
}