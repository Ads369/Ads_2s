{
  "nbformat": 4,
  "nbformat_minor": 0,
  "metadata": {
    "colab": {
      "provenance": [],
      "include_colab_link": true
    },
    "kernelspec": {
      "name": "python3",
      "display_name": "Python 3"
    },
    "language_info": {
      "name": "python"
    }
  },
  "cells": [
    {
      "cell_type": "markdown",
      "metadata": {
        "id": "view-in-github",
        "colab_type": "text"
      },
      "source": [
        "<a href=\"https://colab.research.google.com/github/Ads369/Ads_2s/blob/main/%D0%94%D0%BE%D0%BF_%D0%B7%D0%B0%D0%B4%D0%B0%D1%87%D0%B8_%D0%BF%D0%BE%D1%81%D0%BB%D0%B5_%D1%83%D1%80%D0%BE%D0%BA%D0%B0_6.ipynb\" target=\"_parent\"><img src=\"https://colab.research.google.com/assets/colab-badge.svg\" alt=\"Open In Colab\"/></a>"
      ]
    },
    {
      "cell_type": "markdown",
      "source": [
        "Данный блок задач нацелен на дополнительное изучение работы с различными API. Напомним, что большой список API, которые имеют обертки в виде библиотек Python представлен по ссылке:\n",
        "\n",
        "https://github.com/realpython/list-of-python-api-wrappers\n",
        "\n",
        "Далее рассмотрим пример работы с API Reddit."
      ],
      "metadata": {
        "id": "dOGvHLQUCNhU"
      }
    },
    {
      "cell_type": "markdown",
      "source": [
        "# Необходимые инструменты и библиотеки"
      ],
      "metadata": {
        "id": "O520cxm5CjUX"
      }
    },
    {
      "cell_type": "markdown",
      "source": [
        "Для работы с API Reddit необходима библиотека PRAW (Python Reddit API Wrapper)."
      ],
      "metadata": {
        "id": "SiT-mqSwCpq7"
      }
    },
    {
      "cell_type": "markdown",
      "source": [
        "# Регистрация приложения на Reddit"
      ],
      "metadata": {
        "id": "LdoWGJwVCqv3"
      }
    },
    {
      "cell_type": "markdown",
      "source": [
        "Прежде чем начать работать с данным API, необходимо зарегистрировать ваше приложение на Reddit. Для этого выполните следующие действия:\n",
        "1.\tВойдите в свою учетную запись на reddit.com.\n",
        "2.\tПерейдите на страницу приложений.\n",
        "3.\tНажмите на кнопку «Create App» или «Create Another App».\n",
        "4.\tЗаполните форму, выберите тип приложения (script) и нажмите «Create app».\n",
        "После регистрации приложения у вас появятся данные, необходимые для доступа к API: client_id, client_secret и redirect_uri.\n"
      ],
      "metadata": {
        "id": "lIJdcTkiCt_v"
      }
    },
    {
      "cell_type": "markdown",
      "source": [
        "# Инициализация PRAW и подключение к API"
      ],
      "metadata": {
        "id": "oyUVV36MCzVH"
      }
    },
    {
      "cell_type": "markdown",
      "source": [
        "Далее можно подключиться к API и начать работать с ним. Сначала нужно создать объект Reddit с помощью PRAW:"
      ],
      "metadata": {
        "id": "m96s1JrIC2kP"
      }
    },
    {
      "cell_type": "code",
      "source": [
        "import praw\n",
        "\n",
        "reddit = praw.Reddit(\n",
        "    client_id=\"your_client_id\",\n",
        "    client_secret=\"your_client_secret\",\n",
        "    redirect_uri=\"your_redirect_uri\",\n",
        "    user_agent=\"your_user_agent\")"
      ],
      "metadata": {
        "id": "cWzns0acC6FG"
      },
      "execution_count": null,
      "outputs": []
    },
    {
      "cell_type": "markdown",
      "source": [
        "Здесь нужно заменить client_id, client_secret, redirect_uri и user_agent на значения, полученные вами после регистрации."
      ],
      "metadata": {
        "id": "bFiX4efuC9uv"
      }
    },
    {
      "cell_type": "markdown",
      "source": [
        "# Получение данных с Reddit"
      ],
      "metadata": {
        "id": "dUJcPJc-DFTn"
      }
    },
    {
      "cell_type": "markdown",
      "source": [
        "Объект reddit можно использовать для получения данных с платформы. Например, давайте получим топ 10 постов со страницы «all»:"
      ],
      "metadata": {
        "id": "Pj0vR56LDH4z"
      }
    },
    {
      "cell_type": "code",
      "source": [
        "top_posts = reddit.subreddit(\"all\").top(limit=10)\n",
        "\n",
        "for post in top_posts:\n",
        "    print(post.title)"
      ],
      "metadata": {
        "id": "ZzWPq3xFDOGv"
      },
      "execution_count": null,
      "outputs": []
    },
    {
      "cell_type": "markdown",
      "source": [
        "Этот код выводит заголовки топ 10 постов на странице «all» Reddit."
      ],
      "metadata": {
        "id": "J6nhVbI9DPf_"
      }
    },
    {
      "cell_type": "markdown",
      "source": [
        "# Работа с комментариями"
      ],
      "metadata": {
        "id": "_6WX6TkgDVG-"
      }
    },
    {
      "cell_type": "markdown",
      "source": [
        "Также с помощью объекта reddit можно получать комментарии к постам. Например, с помощью кода ниже можно получить топ 5 комментариев для первого поста из списка:"
      ],
      "metadata": {
        "id": "Ez_sdu4YDYWb"
      }
    },
    {
      "cell_type": "code",
      "source": [
        "post = next(reddit.subreddit(\"all\").top(limit=1))\n",
        "top_comments = post.comments.list()[:5]\n",
        "\n",
        "for comment in top_comments:\n",
        "    print(comment.body)"
      ],
      "metadata": {
        "id": "HGYxgfE_DcGK"
      },
      "execution_count": null,
      "outputs": []
    },
    {
      "cell_type": "markdown",
      "source": [
        "Этот код выводит текст топ 5 комментариев для первого поста на странице «all»."
      ],
      "metadata": {
        "id": "s8nJSjCsDbLS"
      }
    },
    {
      "cell_type": "markdown",
      "source": [
        "По примеру выше выполните следующие задачи (все использованные в задачах API взяты из списка, получаемого по приведенной выше ссылке).\n"
      ],
      "metadata": {
        "id": "Z8EQIUnDDjba"
      }
    },
    {
      "cell_type": "markdown",
      "source": [
        "# Задание 1."
      ],
      "metadata": {
        "id": "fS6yNsI8DpK2"
      }
    },
    {
      "cell_type": "markdown",
      "source": [
        "**Работа с API News API**\n",
        "1. Получить и вывести список последних 10-ти новостей, выпущенных информационным агентством BBC;\n",
        "2. Получить и вывести список информационных агентств, публикующих новости на испанском языке;\n",
        "3. Получить и вывести список 5-ти последних новостей связанных с ИИ."
      ],
      "metadata": {
        "id": "MIQktPzPDrqa"
      }
    },
    {
      "cell_type": "markdown",
      "source": [
        "# Задание 2."
      ],
      "metadata": {
        "id": "GJXBIPpjR6sl"
      }
    },
    {
      "cell_type": "markdown",
      "source": [
        "**Работа с API OpenWeatherMap**\n",
        "1. Получить текущую погоду в вашем городе и вывести общее состояние погоды, скорость ветра, относительную влажность воздуха, температуру и температуру по ощущениям;\n",
        "2. Получить погоду в вашем городе на следующий день и вывести те же значения, что и в предыдущем пункте;\n",
        "3. Получить текущий индекс качества воздуха в Лондоне и вывести его."
      ],
      "metadata": {
        "id": "UBks6P1DR8s9"
      }
    },
    {
      "cell_type": "markdown",
      "source": [
        "# Задание 3."
      ],
      "metadata": {
        "id": "qYdLVAUOThro"
      }
    },
    {
      "cell_type": "markdown",
      "source": [
        "**Работа с API Wikipedia**\n",
        "1. Получить данные о странице про язык программирования Python и вывести заголовок и первые 60 символов из краткого содержания статьи;\n",
        "2. Вывести первые 40 символов из содержимого секции истории языка;\n",
        "3. Вывести заголовок и первые 140 символов из краткого содержания статьи на одном из языков на которых доступна статья."
      ],
      "metadata": {
        "id": "dXP9_DWhTmi5"
      }
    },
    {
      "cell_type": "markdown",
      "source": [
        "# Задание 4."
      ],
      "metadata": {
        "id": "95LjDmDPWU6e"
      }
    },
    {
      "cell_type": "markdown",
      "source": [
        "**Работа с API TheTVDB.com.**\n",
        "1. На странице Discover - Awards получите перечень названий всех премий, которые учитываются в базе;\n",
        "2. На странице Discover - Official Lists получите перечень названий 10-ти последних публикаций;\n",
        "3. На странице Discover - Companies получите перечень из 15-ти названий компаний, связанных с TheTVDB.com."
      ],
      "metadata": {
        "id": "Y3tz6SouWYRQ"
      }
    },
    {
      "cell_type": "markdown",
      "source": [
        "# Задание 5."
      ],
      "metadata": {
        "id": "u3LTqn3TYrzn"
      }
    },
    {
      "cell_type": "markdown",
      "source": [
        "**Работа с API geopy**\n",
        "\n",
        "Используя геокодер для OpenStreetMap Nominatim, задать адрес любого здания в вашем городе. Далее:\n",
        "1. Вывести полную информацию о введённом адресе полученную из API;\n",
        "2. На новой строке вывести ширину и долготу для заданного адреса;\n",
        "3. На новой строке отобразить необработанные данные, полученные из API."
      ],
      "metadata": {
        "id": "DbkhBYpNYt97"
      }
    }
  ]
}