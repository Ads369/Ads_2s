{
  "nbformat": 4,
  "nbformat_minor": 0,
  "metadata": {
    "colab": {
      "provenance": [],
      "include_colab_link": true
    },
    "kernelspec": {
      "name": "python3",
      "display_name": "Python 3"
    },
    "language_info": {
      "name": "python"
    }
  },
  "cells": [
    {
      "cell_type": "markdown",
      "metadata": {
        "id": "view-in-github",
        "colab_type": "text"
      },
      "source": [
        "<a href=\"https://colab.research.google.com/github/Ads369/Ads_2s/blob/main/24_4_%D0%94%D0%BE%D0%BC%D0%B0%D1%88%D0%BD%D1%8F%D1%8F_%D1%80%D0%B0%D0%B1%D0%BE%D1%82%D0%B0.ipynb\" target=\"_parent\"><img src=\"https://colab.research.google.com/assets/colab-badge.svg\" alt=\"Open In Colab\"/></a>"
      ]
    },
    {
      "cell_type": "markdown",
      "source": [
        "**Навигация по уроку**\n",
        "\n",
        "1. [Обработка аудиосигналов](https://colab.research.google.com/drive/13r2TM72wK5mFSMsb1rBV4gspNCqkzJDY)\n",
        "2. [Распознавание музыкального жанра](https://colab.research.google.com/drive/1VVV3EUT9uaVHNwZBweAsfOcDYwtPMJ2z)\n",
        "3. [Генерация музыкальных произведений с помощью НС](https://colab.research.google.com/drive/1mxiZYMIVk_RhgNB_kXsySMkA-O2HkpHF)\n",
        "4. Домашняя работа"
      ],
      "metadata": {
        "id": "nJppypVqcU4r"
      }
    },
    {
      "cell_type": "markdown",
      "source": [
        "**В домашней работе необходимо выполнить следующее задание:**\n",
        "\n",
        "1. Используя предложенный [датасет](https://storage.yandexcloud.net/academy.ai/classical-music-midi.zip) произведений классической музыки, обучи модель \"сочинять\" музыку на произведениях только одного Шопена.\n",
        "2. В качестве начальной последовательности для генерации используйте произведения Моцарта.\n",
        "3. Для получения трех баллов достаточно получить ноты и аудиофайл с вашим сгенерированным произведением.\n",
        "4. Хотите 4 балла? Добавьте в функцию генерации параметр `temperature` - температура модели. Температура модели влияет на генерацию. Более низкие температуры соответствуют более точному предсказанию, а более высокие температуры приводят к более случайной генерации.\n",
        "5. Хотите 5 баллов? Используйте для обучения модели три переменные для представления ноты: pitch, step и duration. Высота звука (pitch) - это качество восприятия звука в виде номера ноты в формате MIDI. Шаг (step) - это время, прошедшее с предыдущей ноты или начала трека. Длительность (duration) - это продолжительность воспроизведения ноты в секундах и разница между временем окончания и началом ноты."
      ],
      "metadata": {
        "id": "xxeBrtM4WHpQ"
      }
    },
    {
      "cell_type": "code",
      "source": [],
      "metadata": {
        "id": "A2-58ZhYIaxT"
      },
      "execution_count": null,
      "outputs": []
    }
  ]
}