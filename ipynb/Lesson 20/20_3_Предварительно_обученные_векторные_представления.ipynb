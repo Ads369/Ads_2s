{
 "cells": [
  {
   "cell_type": "markdown",
   "metadata": {
    "colab_type": "text",
    "id": "view-in-github"
   },
   "source": [
    "<a href=\"https://colab.research.google.com/github/Ads369/Ads_2s/blob/main/20_3_%D0%9F%D1%80%D0%B5%D0%B4%D0%B2%D0%B0%D1%80%D0%B8%D1%82%D0%B5%D0%BB%D1%8C%D0%BD%D0%BE_%D0%BE%D0%B1%D1%83%D1%87%D0%B5%D0%BD%D0%BD%D1%8B%D0%B5_%D0%B2%D0%B5%D0%BA%D1%82%D0%BE%D1%80%D0%BD%D1%8B%D0%B5_%D0%BF%D1%80%D0%B5%D0%B4%D1%81%D1%82%D0%B0%D0%B2%D0%BB%D0%B5%D0%BD%D0%B8%D1%8F.ipynb\" target=\"_parent\"><img src=\"https://colab.research.google.com/assets/colab-badge.svg\" alt=\"Open In Colab\"/></a>"
   ]
  },
  {
   "cell_type": "markdown",
   "metadata": {
    "id": "34eU9bRVr49Y"
   },
   "source": [
    "**Навигация по уроку**\n",
    "\n",
    "1. [Обработка текстов с помощью нейронных сетей](https://colab.research.google.com/drive/1tPZPtZsEi4rv4J_4tcOBMDgyUNQDYKCX)\n",
    "2. [Сравнение архитектур нейронных сетей для обработки текста](https://colab.research.google.com/drive/1KEFUgyBcqGaXGZEU-7MHENn5RH_AIvfH)\n",
    "3. Предварительно обученные векторные представления\n",
    "4. [Домашняя работа](https://colab.research.google.com/drive/1t7rrJV4BSzFF8ZuiUQASkkq8ijzf0IiJ)"
   ]
  },
  {
   "cell_type": "markdown",
   "metadata": {
    "id": "s5O12uvfzpou"
   },
   "source": [
    "При создании слоя `Embedding` (внутренний словарь векторов токенов), его веса инициализируются случайными значениями, как в случае с любым другим слоем. В процессе обучения векторы слов постепенно корректируются посредством обратного\n",
    "распространения ошибки, и пространство превращается в структурированную модель, пригодную к использованию. После полного обучения пространство векторов приобретет законченную структуру, специализированную под решение конкретной задачи.\n",
    "\n",
    "Иногда обучающих данных оказывается слишком мало, чтобы можно было обучить\n",
    "векторное представление слов для конкретной задачи. Как в нашем примере с Русскими писателями.\n",
    "\n",
    "**Что же сделать в таком случае?**\n",
    "\n",
    "Вместо обучения векторного представления совместно с решением задачи можно\n",
    "загрузить предварительно сформированные векторные представления, хорошо\n",
    "организованные и обладающие полезными свойствами, которые охватывают основные аспекты языковой структуры.\n",
    "\n",
    "> Использование предварительно обученных векторных представлений слов в обработке естественного языка обосновывается почти так же, как использование предварительно обученных сверточных нейронных сетей в классификации изображений: **отсутствием достаточного объема данных для выделения по-настоящему мощных признаков**.\n",
    "\n",
    "Когда мы решаем любую задачу глубоко обучения, то предполагаем, что для ее решения мы имеем достаточное количество обобщенных признаков (визуальных или семантических).\n",
    "\n",
    "В данном случае есть смысл повторно использовать признаки, выделенные в ходе решения другой задачи.\n",
    "\n",
    "\n",
    "Такие векторные представления обычно вычисляются с использованием статистики встречаемости слов и применением разнообразных методик, иногда с привлечением нейронных сетей, иногда нет.\n",
    "\n",
    "Идея плотных, малоразмерных пространств векторных представлений слов, обучаемых без учителя, первоначально была исследована Йошуа Бенгио (Yoshua Bengio) с коллегами в начале 2000-х годов, но более основательное ее исследование и практическое применение началось только после выхода одной из самых известных и успешных схем реализации векторного представления слов — алгоритма `word2vec` (https://code.google.com/archive/p/word2vec), разработанного в 2013 году Томасом Миколовым (Tomas Mikolov) из компании Google.\n",
    "\n",
    "Существует множество разнообразных предварительно обученных векторных представлений слов, которые можно загрузить и использовать в слое Embedding.\n",
    "`Word2vec` — одно из них. Другое популярное представление называется «глобальные векторы представления слов» (Global Vectors for Word Representation,\n",
    "`GloVe`, https://nlp.stanford.edu/projects/glove) и разработано исследователями из Стэнфорда в 2014-м."
   ]
  },
  {
   "cell_type": "markdown",
   "metadata": {
    "id": "a6-l0RlQxiXC"
   },
   "source": [
    "**Векторное представление слов** (word embedding) - это название технологии моделирования языка и изучения признаков в NLP (Natural language processing, обработка естественного языка), соотносящей словарь\n",
    "с векторами действительных чисел, с использованием таких продуктов, как\n",
    "Word2vec, GloVe и fastText."
   ]
  },
  {
   "cell_type": "markdown",
   "metadata": {
    "id": "CtFlDnMz3rto"
   },
   "source": [
    "**А что делать с русским языком?**"
   ]
  },
  {
   "cell_type": "markdown",
   "metadata": {
    "id": "hv-8toUqvob4"
   },
   "source": [
    "А с русским языком, все тоже хорошо! Проект [\"Наташа\"](https://natasha.github.io/) покрывает неплохо потребности исследователей и разработчиков в русскоязычном сегменте."
   ]
  },
  {
   "cell_type": "markdown",
   "metadata": {
    "id": "z3NMFIRTwF8B"
   },
   "source": [
    "На хабре переодически возникают статьи по Наташе. И вот цитата одной из них:\n",
    "\n",
    ">Для новостных статей качество на всех задачах сравнимо или превосходит существующие решения. Например с задачей NER Natasha справляется на 1 процентный пункт хуже, чем Deeppavlov BERT NER (F1 PER 0.97, LOC 0.91, ORG 0.85), модель весит в 75 раз меньше (27МБ), работает на CPU в 2 раза быстрее (25 статей/сек), чем BERT NER на GPU.\n",
    "\n",
    "Вот такие комплименты \"отвешивают\" разработчики Наташе. Теперь пришло и наше время проверить Натали на прочность!\n",
    "\n",
    "Не поленитесь и обязательно посмотрите видео про историю проект [Наташа](https://www.youtube.com/watch?v=l-9v2KBxlKc) и для чего он нужен. А самые внимательные узнают про лучший на сегодняшний день источник русскоязычных датасетов, а он спрятан в репозиториях Наташи (`natasha/corus`)."
   ]
  },
  {
   "cell_type": "markdown",
   "metadata": {
    "id": "xJGhsnd8xf8r"
   },
   "source": [
    "## Наташа обучит векторные представления"
   ]
  },
  {
   "cell_type": "markdown",
   "metadata": {
    "id": "wIuwiGBlyA2d"
   },
   "source": [
    "И так в состав Наташи входит библиотека Navec - библиотека предварительно обученных встраиваний слов для русского языка. У библиотеки есть конкурент (и это хорошая новость для нас) RusVectores, однако, он проигрывает  в более чем 10 раз по быстродействию и занимает в 10 раз больше мест."
   ]
  },
  {
   "cell_type": "markdown",
   "metadata": {
    "id": "fsq46e8KzSA1"
   },
   "source": [
    "> Natasha Navec = большая база текстов русского языка (145GB) + GloVe + квантизация"
   ]
  },
  {
   "cell_type": "markdown",
   "metadata": {
    "id": "x37GsB5mz-06"
   },
   "source": [
    "Раз мы упомянули квантизацию, то поясним, что это такое.\n",
    "\n",
    "> Квантизация – это процесс снижения точности весов, смещений и активаций, с целью экономии памяти. Другими словами, процесс квантизации – это процесс преобразования весов и параметров нейронной сети, из часто используемых, 32-битных чисел с плавающей запятой в меньшую размерность, например, в 8-битные целые числа.\n",
    "\n",
    "А также это процесс удаления \"лишних\" связей (прунинг весов). В некоторых статьях пишут, что прунинг (pruning) - это один из приемов квантизации, а в некоторых выделяют в отдельный метод оптимизации моделей."
   ]
  },
  {
   "cell_type": "markdown",
   "metadata": {
    "id": "iBonJAXE2jZ2"
   },
   "source": [
    "Квантизация дает несколько преимуществ:\n",
    "\n",
    "* При обработке 8-битных целочисленных данных графические процессоры NVIDIA используют более быстрые и дешевые 8-битные тензорные ядра для вычисления операций свертки и умножения матриц. Это дает большую пропускную способность вычислений.\n",
    "\n",
    "* Перемещение данных из памяти в вычислительные элементы (потоковы мультипроцессоры в графических процессорах NVIDIA) требует времени и энергии, а также выделяет тепло. Снижение точности данных активации и параметров с 32-битных чисел с плавающей запятой до 8-битных целых чисел приводит к 4-кратному сокращению данных, что экономит электроэнергию и снижает выделяемое тепло. Так что \"квантизация\" - это \"забота об экологии\" и снижение индекса $CO_2$.\n",
    "\n",
    "* Уменьшение объема памяти означает, что модель требует меньше места для хранения, меньше параметров для обновления и т.д."
   ]
  },
  {
   "cell_type": "markdown",
   "metadata": {
    "id": "ZgoTyr4ENWQa"
   },
   "source": [
    "### Загрузка предобученных Embedding"
   ]
  },
  {
   "cell_type": "code",
   "execution_count": null,
   "metadata": {
    "colab": {
     "base_uri": "https://localhost:8080/"
    },
    "id": "KAShKdNW1IOB",
    "outputId": "ce7b6858-599b-4baa-c97f-d173dcaa2883"
   },
   "outputs": [
    {
     "name": "stdout",
     "output_type": "stream",
     "text": [
      "--2024-02-29 13:42:14--  https://storage.yandexcloud.net/natasha-navec/packs/navec_hudlit_v1_12B_500K_300d_100q.tar\n",
      "Resolving storage.yandexcloud.net (storage.yandexcloud.net)... 213.180.193.243, 2a02:6b8::1d9\n",
      "Connecting to storage.yandexcloud.net (storage.yandexcloud.net)|213.180.193.243|:443... connected.\n",
      "HTTP request sent, awaiting response... 200 OK\n",
      "Length: 53012480 (51M) [application/x-tar]\n",
      "Saving to: ‘navec_hudlit_v1_12B_500K_300d_100q.tar’\n",
      "\n",
      "navec_hudlit_v1_12B 100%[===================>]  50.56M  10.8MB/s    in 6.4s    \n",
      "\n",
      "2024-02-29 13:42:22 (7.85 MB/s) - ‘navec_hudlit_v1_12B_500K_300d_100q.tar’ saved [53012480/53012480]\n",
      "\n"
     ]
    }
   ],
   "source": [
    "!wget https://storage.yandexcloud.net/natasha-navec/packs/navec_hudlit_v1_12B_500K_300d_100q.tar"
   ]
  },
  {
   "cell_type": "markdown",
   "metadata": {
    "id": "v56o_QN0OIpo"
   },
   "source": [
    "`hudlit_12B_500K_300d_100q` — это GloVe-эмбединги обученные на 145ГБ художественной литературы. Архив с текстами взят из проекта RUSSE и использует оригинальную реализацию GloVe на C, обернутую в удобный Python-интерфейс.\n",
    "\n",
    "Размер словаря `hudlit_12B_500K_300d_100q` — 500 000 записей, он покрывает 98% слов в художественных текстах. Оптимальная размерность векторов — 300. Таблица 500 000 × 300 из float-чисел занимает 578МБ, размер архива с весами `hudlit_12B_500K_300d_100q` в 12 раз меньше (48МБ). И это благодаря квантизации.\n",
    "\n",
    "В качестве примера квантизации рассмотрим следующую матрицу:\n",
    "\n",
    "```\n",
    "-0.220 -0.071  0.320 -0.279  0.376  0.409  0.340 -0.329  0.400\n",
    " 0.046  0.870 -0.163  0.075  0.198 -0.357 -0.279  0.267  0.239\n",
    " 0.111  0.057  0.746 -0.240 -0.254  0.504  0.202  0.212  0.570\n",
    " 0.529  0.088  0.444 -0.005 -0.003 -0.350 -0.001  0.472  0.635\n",
    "-0.170  0.677  0.212  0.202 -0.030  0.279  0.229 -0.475 -0.031\n",
    "```\n",
    "\n",
    "Нам необходимо заменить 32-битные `float` - числа на 8-битные коды:\n",
    "\n",
    "$[−∞, −0.86)$ — код 0,\n",
    "\n",
    "$[−0.86, -0.79)$ — код 1,\n",
    "\n",
    "$[-0.79, -0.74)$ — код 2,\n",
    "\n",
    "$…$,\n",
    "\n",
    "$[0.86, ∞)$ — 255.\n",
    "\n",
    "Размер таблицы уменьшится в 4 раза ($32 / 8 = 4$):\n",
    "\n",
    "```\n",
    "    63    105    215     49    225    230    219     39    228\n",
    "   143    255     78    152    187     34     49    204    198\n",
    "   163    146    253     58     55    240    188    191    246\n",
    "   243    155    234    127    127     35    128    237    249\n",
    "    76    251    191    188    118    207    195     18    118\n",
    "```    "
   ]
  },
  {
   "cell_type": "code",
   "execution_count": null,
   "metadata": {
    "colab": {
     "base_uri": "https://localhost:8080/"
    },
    "id": "k9q_8I1e_rFv",
    "outputId": "74644fe3-c086-4d1e-b672-fb67330e5633"
   },
   "outputs": [
    {
     "name": "stdout",
     "output_type": "stream",
     "text": [
      "Collecting navec\n",
      "  Downloading navec-0.10.0-py3-none-any.whl (23 kB)\n",
      "Requirement already satisfied: numpy in /usr/local/lib/python3.10/dist-packages (from navec) (1.25.2)\n",
      "Installing collected packages: navec\n",
      "Successfully installed navec-0.10.0\n"
     ]
    }
   ],
   "source": [
    "!pip install navec"
   ]
  },
  {
   "cell_type": "code",
   "execution_count": null,
   "metadata": {
    "id": "L3jrHxnUwH0C"
   },
   "outputs": [],
   "source": [
    "from navec import Navec\n",
    "\n",
    "navec = Navec.load('navec_hudlit_v1_12B_500K_300d_100q.tar')"
   ]
  },
  {
   "cell_type": "markdown",
   "metadata": {
    "id": "1j7ewHxgtPF6"
   },
   "source": [
    "### Подготовка датасета"
   ]
  },
  {
   "cell_type": "markdown",
   "metadata": {
    "id": "9TdRA02pubSB"
   },
   "source": [
    "Повторим шаги из прошлого Блокнота:"
   ]
  },
  {
   "cell_type": "markdown",
   "metadata": {
    "id": "-vYnZFaJunfS"
   },
   "source": [
    "**Шаг 1. Загрузка базы писателей Русской литературы**"
   ]
  },
  {
   "cell_type": "markdown",
   "metadata": {
    "id": "8sTaLuFI-jZO"
   },
   "source": [
    "Воспользуемся новым методом для нас загрузки датасета, описанным в официальной документации Keras. Данный метод позволяет избежать повторной загрузки, если данные были раньше скачаны. Метод возвращает путь к папке с датасетом."
   ]
  },
  {
   "cell_type": "code",
   "execution_count": null,
   "metadata": {
    "colab": {
     "base_uri": "https://localhost:8080/"
    },
    "id": "BDbQZuPMrNK7",
    "outputId": "92f604a9-213f-41ca-8519-738fc2789032"
   },
   "outputs": [
    {
     "name": "stdout",
     "output_type": "stream",
     "text": [
      "Downloading data from https://storage.yandexcloud.net/academy.ai/russian_literature.zip\n",
      "21547079/21547079 [==============================] - 4s 0us/step\n"
     ]
    }
   ],
   "source": [
    "import keras\n",
    "data_path = keras.utils.get_file(\n",
    "    \"russian_literature.zip\",\n",
    "    \"https://storage.yandexcloud.net/academy.ai/russian_literature.zip\"\n",
    ")"
   ]
  },
  {
   "cell_type": "markdown",
   "metadata": {
    "id": "TU5AzTSbtWOA"
   },
   "source": [
    "**Шаг 2. Распаковка датасета**"
   ]
  },
  {
   "cell_type": "code",
   "execution_count": null,
   "metadata": {
    "id": "ifmhCktTu4bk"
   },
   "outputs": [],
   "source": [
    "# Разархивируем датасета во временную папку 'dataset'\n",
    "!unzip -qo \"{data_path}\" -d ./dataset"
   ]
  },
  {
   "cell_type": "markdown",
   "metadata": {
    "id": "ch_tHMbvvD9R"
   },
   "source": [
    "**Шаг 3. Формирование датасета**"
   ]
  },
  {
   "cell_type": "markdown",
   "metadata": {
    "id": "PTX194zWvqin"
   },
   "source": [
    "Отберем для обучения 6 произвольных писателей. Число токенов ограничим в 40 тыс. Предобученный эмбединг позволяет нам обучаться на малых выборках даже порядка нескольких тысяч слов."
   ]
  },
  {
   "cell_type": "code",
   "execution_count": null,
   "metadata": {
    "id": "FtOr6l39xMUO"
   },
   "outputs": [],
   "source": [
    "CLASS_LIST=[\"Dostoevsky\", \"Tolstoy\", \"Turgenev\", \"Chekhov\", \"Lermontov\", \"Pushkin\"]"
   ]
  },
  {
   "cell_type": "code",
   "execution_count": null,
   "metadata": {
    "id": "jhPT6_7UvSMP"
   },
   "outputs": [],
   "source": [
    "# Загрузка необходимых библиотек\n",
    "import glob # Вспомогательный модуль для работы с файловой системой\n",
    "\n",
    "\n",
    "all_texts = {} # Собираем в словарь весь датасет\n",
    "\n",
    "for author in CLASS_LIST:\n",
    "    all_texts[author] = '' # Инициализируем пустой строкой новый ключ словаря\n",
    "    for path in glob.glob('./dataset/prose/{}/*.txt'.format(author)) +  glob.glob('./dataset/poems/{}/*.txt'.format(author)): # Поиск файлов по шаблону\n",
    "        with open(f'{path}', 'r', errors='ignore') as f: # игнорируем ошибки (например символы из другой кодировки)\n",
    "            # Загрузка содержимого файла в строку\n",
    "            text = f.read()\n",
    "\n",
    "        all_texts[author]  += ' ' + text.replace('\\n', ' ') # Заменяем символ перехода на новую строку пробелом"
   ]
  },
  {
   "cell_type": "markdown",
   "metadata": {
    "id": "7UOdeAHAzGC5"
   },
   "source": [
    "**Шаг 4. Токенизация**"
   ]
  },
  {
   "cell_type": "code",
   "execution_count": null,
   "metadata": {
    "id": "6kzsJdQVyX-Z"
   },
   "outputs": [],
   "source": [
    "from keras.preprocessing.text import Tokenizer\n",
    "\n",
    "embedding_dim = 300    # размерность векторов эмбединга (300d в имени эмбединга)\n",
    "max_words = 10000      # Количество слов, рассматриваемых как признаки\n",
    "\n",
    "# Используется встроенный в Keras токенизатор для разбиения текста и построения частотного словаря\n",
    "tokenizer = Tokenizer(num_words=max_words,\n",
    "                      filters='!\"#$%&()*+,-–—./…:;<=>?@[\\\\]^_`{|}~«»\\t\\n\\xa0\\ufeff',\n",
    "                      lower=True, split=' ', char_level=False)\n",
    "\n",
    "\n",
    "# Построение частотного словаря по текстам\n",
    "tokenizer.fit_on_texts(all_texts.values())"
   ]
  },
  {
   "cell_type": "code",
   "execution_count": null,
   "metadata": {
    "id": "halNnOWDz9Df",
    "vscode": {
     "languageId": "plaintext"
    }
   },
   "outputs": [],
   "source": [
    "**Шаг 5. Преобразование текста в последовательность**"
   ]
  },
  {
   "cell_type": "markdown",
   "metadata": {
    "id": "ViH0AZ130GTS"
   },
   "source": [
    "Преобразуем текст в последовательности:"
   ]
  },
  {
   "cell_type": "code",
   "execution_count": null,
   "metadata": {
    "id": "AgtYOu6qyX6-"
   },
   "outputs": [],
   "source": [
    "seq_train = tokenizer.texts_to_sequences(all_texts.values())"
   ]
  },
  {
   "cell_type": "markdown",
   "metadata": {
    "id": "gAQn20Su0SAu"
   },
   "source": [
    "**Шаг 6. Балансировка датасета**"
   ]
  },
  {
   "cell_type": "markdown",
   "metadata": {
    "id": "ReAXglde0pGX"
   },
   "source": [
    "Так как мы тексты по всем писателям обрезаем до одной длины (40 тыс слов), то наш датасет сбалансирован автоматически:"
   ]
  },
  {
   "cell_type": "code",
   "execution_count": null,
   "metadata": {
    "id": "GK5Ytu7yyX3w"
   },
   "outputs": [],
   "source": [
    "seq_train_balance = [seq_train[cls][:40000] for cls in range(len(CLASS_LIST))]"
   ]
  },
  {
   "cell_type": "code",
   "execution_count": null,
   "metadata": {
    "colab": {
     "base_uri": "https://localhost:8080/"
    },
    "id": "lAPccR_JBx1Q",
    "outputId": "39ea9f29-2f22-4409-a26b-441fd3afac59"
   },
   "outputs": [
    {
     "name": "stdout",
     "output_type": "stream",
     "text": [
      "Датасет состоит из 240000 слов\n"
     ]
    }
   ],
   "source": [
    "# используем генератор цикла для получения длины текстов по каждому автору\n",
    "total = sum(len(i) for i in seq_train_balance)\n",
    "print(f'Датасет состоит из {total} слов')"
   ]
  },
  {
   "cell_type": "code",
   "execution_count": null,
   "metadata": {
    "colab": {
     "base_uri": "https://localhost:8080/"
    },
    "id": "R526W9_6Bqe1",
    "outputId": "704df6fa-d969-4afe-c4c2-28f4d9b40db6"
   },
   "outputs": [
    {
     "name": "stdout",
     "output_type": "stream",
     "text": [
      "Общая выборка по писателям (по словам):\n",
      "Dostoevsky - 40000 слов, доля в общей базе: 16.67%\n",
      "Tolstoy - 40000 слов, доля в общей базе: 16.67%\n",
      "Turgenev - 40000 слов, доля в общей базе: 16.67%\n",
      "Chekhov - 40000 слов, доля в общей базе: 16.67%\n",
      "Lermontov - 40000 слов, доля в общей базе: 16.67%\n",
      "Pushkin - 40000 слов, доля в общей базе: 16.67%\n",
      "Среднее значение слов:  40000.0\n",
      "Медианное значение слов:  40000.0\n"
     ]
    }
   ],
   "source": [
    "import numpy as np\n",
    "\n",
    "print('Общая выборка по писателям (по словам):')\n",
    "mean_list = np.array([])\n",
    "for author in CLASS_LIST:\n",
    "    cls = CLASS_LIST.index(author)\n",
    "    print(f'{author} - {len(seq_train_balance[cls])} слов, доля в общей базе: {len(seq_train_balance[cls])/total*100 :.2f}%')\n",
    "    mean_list = np.append(mean_list, len(seq_train_balance[cls]))\n",
    "\n",
    "print('Среднее значение слов: ', np.round(mean_list.mean()))\n",
    "print('Медианное значение слов: ', np.median(mean_list))"
   ]
  },
  {
   "cell_type": "code",
   "execution_count": null,
   "metadata": {
    "colab": {
     "base_uri": "https://localhost:8080/",
     "height": 464
    },
    "id": "jXlqI1HNDGDE",
    "outputId": "4327d456-6b91-474c-d1f4-854de5496a2d"
   },
   "outputs": [
    {
     "data": {
      "image/png": "[encoded data removed]",
      "text/plain": [
       "<Figure size 640x480 with 1 Axes>"
      ]
     },
     "metadata": {},
     "output_type": "display_data"
    }
   ],
   "source": [
    "import matplotlib.pyplot as plt\n",
    "%matplotlib inline\n",
    "fig, ax = plt.subplots()\n",
    "ax.pie([len(i) for i in seq_train_balance], # формируем список значений как длина символов текста каждого автора\n",
    "       labels=CLASS_LIST,                    # список меток\n",
    "       pctdistance=1.2,                      # дистанция размещения % (1 - граница окружности)\n",
    "       labeldistance=1.4,                    # размещение меток (1 - граница окружности)\n",
    "       autopct='%1.2f%%'                     # формат для % (2 знака после запятой)\n",
    "      )\n",
    "plt.show()"
   ]
  },
  {
   "cell_type": "markdown",
   "metadata": {
    "id": "Gg0ce5LLAdje"
   },
   "source": [
    "**Шаг 7. Нарезка примеров из текста методом скользящего окна**"
   ]
  },
  {
   "cell_type": "code",
   "execution_count": null,
   "metadata": {
    "id": "j5IDCSoID53M"
   },
   "outputs": [],
   "source": [
    "WIN_SIZE = 1000   # Ширина окна в токенах\n",
    "WIN_STEP = 100    # Шаг окна в токенах\n",
    "\n",
    "# Функция разбиения последовательности на отрезки скользящим окном\n",
    "# Последовательность разбивается на части до последнего полного окна\n",
    "# Параметры:\n",
    "# sequence - последовательность токенов\n",
    "# win_size - размер окна\n",
    "# step - шаг окна\n",
    "def seq_split(sequence, win_size, step):\n",
    "    # Делим строку на отрезки с помощью генератора цикла\n",
    "    return [sequence[i:i + win_size] for i in range(0, len(sequence) - win_size + 1, step)]\n",
    "\n",
    "def seq_vectorize(\n",
    "    seq_list,   # Последовательность\n",
    "    test_split, # Доля на тестовую сборку\n",
    "    class_list, # Список классов\n",
    "    win_size,   # Ширина скользящего окна\n",
    "    step        # Шаг скользящего окна\n",
    "):\n",
    "\n",
    "    # Списки для результирующих данных\n",
    "    x_train, y_train, x_test, y_test =  [], [], [], []\n",
    "\n",
    "    # Пробежимся по всем классам:\n",
    "    for class_item in class_list:\n",
    "        # Получим индекс класса\n",
    "        cls = class_list.index(class_item)\n",
    "\n",
    "        # Пороговое значение индекса для разбивки на тестовую и обучающую выборки\n",
    "        gate_split = int(len(seq_list[cls]) * (1-test_split))\n",
    "\n",
    "        # Разбиваем последовательность токенов класса на отрезки\n",
    "        vectors_train = seq_split(seq_list[cls][:gate_split], win_size, step) # последовательность до порога попадет в обучающую выборку\n",
    "        vectors_test = seq_split(seq_list[cls][gate_split:], win_size, step)  # последовательность после порога попадет в тестовую выборку\n",
    "\n",
    "        # Добавляем отрезки в выборку\n",
    "        x_train += vectors_train\n",
    "        x_test += vectors_test\n",
    "\n",
    "        # Для всех отрезков класса добавляем метки класса в виде one-hot-encoding\n",
    "        # Каждую метку берем len(vectors) раз, так она одинакова для всех выборок одного класса\n",
    "        y_train += [keras.utils.to_categorical(cls, len(class_list))] * len(vectors_train)\n",
    "        y_test += [keras.utils.to_categorical(cls, len(class_list))] * len(vectors_test)\n",
    "\n",
    "    # Возвращаем результатов как numpy-массивов\n",
    "    return np.array(x_train), np.array(y_train), np.array(x_test), np.array(y_test)"
   ]
  },
  {
   "cell_type": "code",
   "execution_count": null,
   "metadata": {
    "id": "DeULeastEBng"
   },
   "outputs": [],
   "source": [
    "x_train, y_train, x_test, y_test = seq_vectorize(seq_train_balance, 0.1, CLASS_LIST, WIN_SIZE, WIN_STEP)"
   ]
  },
  {
   "cell_type": "code",
   "execution_count": null,
   "metadata": {
    "colab": {
     "base_uri": "https://localhost:8080/"
    },
    "id": "AD-WovkzFBK4",
    "outputId": "2df1700f-ba01-440b-e169-a185f593ad5f"
   },
   "outputs": [
    {
     "name": "stdout",
     "output_type": "stream",
     "text": [
      "Форма входных данных для обучающей выборки: (2106, 1000)\n",
      "Форма выходных данных (меток) для обучающей выборки: (2106, 6)\n"
     ]
    }
   ],
   "source": [
    "print(f'Форма входных данных для обучающей выборки: {x_train.shape}')\n",
    "print(f'Форма выходных данных (меток) для обучающей выборки: {y_train.shape}')"
   ]
  },
  {
   "cell_type": "code",
   "execution_count": null,
   "metadata": {
    "colab": {
     "base_uri": "https://localhost:8080/"
    },
    "id": "YHK3dF-XFDKu",
    "outputId": "b0ed1eec-31ec-4e2f-9c6f-fe0ed23ea921"
   },
   "outputs": [
    {
     "name": "stdout",
     "output_type": "stream",
     "text": [
      "Форма входных данных для тестовой выборки: (186, 1000)\n",
      "Форма выходных данных (меток) для тестовой выборки: (186, 6)\n"
     ]
    }
   ],
   "source": [
    "print(f'Форма входных данных для тестовой выборки: {x_test.shape}')\n",
    "print(f'Форма выходных данных (меток) для тестовой выборки: {y_test.shape}')"
   ]
  },
  {
   "cell_type": "markdown",
   "metadata": {
    "id": "bAppo-vS2qYw"
   },
   "source": [
    "**Шаг 8. Определим вспомогательные функции**"
   ]
  },
  {
   "cell_type": "code",
   "execution_count": null,
   "metadata": {
    "id": "_mXa5HgxFXjC",
    "lines_to_next_cell": 2
   },
   "outputs": [],
   "source": [
    "from sklearn.metrics import confusion_matrix, ConfusionMatrixDisplay # Для работы с матрицей ошибок\n",
    "\n",
    "# Вывод графиков точности и ошибки\n",
    "def show_plot(history):\n",
    "    fig, (ax1, ax2) = plt.subplots(1, 2, figsize=(18, 5))\n",
    "    fig.suptitle('График процесса обучения модели')\n",
    "    ax1.plot(history.history['accuracy'],\n",
    "               label='График точности на обучающей выборке')\n",
    "    ax1.plot(history.history['val_accuracy'],\n",
    "               label='График точности на проверочной выборке')\n",
    "    ax1.xaxis.get_major_locator().set_params(integer=True) # На оси х показываем целые числа\n",
    "    ax1.set_xlabel('Эпоха обучения')\n",
    "    ax1.set_ylabel('График точности')\n",
    "    ax1.legend()\n",
    "\n",
    "    ax2.plot(history.history['loss'],\n",
    "               label='Ошибка на обучающей выборке')\n",
    "    ax2.plot(history.history['val_loss'],\n",
    "               label='Ошибка на проверочной выборке')\n",
    "    ax2.xaxis.get_major_locator().set_params(integer=True) # На оси х показываем целые числа\n",
    "    ax2.set_xlabel('Эпоха обучения')\n",
    "    ax2.set_ylabel('Ошибка')\n",
    "    ax2.legend()\n",
    "    plt.show()\n",
    "\n",
    "# Функция вывода предсказанных значений\n",
    "def show_confusion_matrix(y_true, y_pred, class_labels):\n",
    "    # Матрица ошибок\n",
    "    cm = confusion_matrix(np.argmax(y_true, axis=1),\n",
    "                          np.argmax(y_pred, axis=1),\n",
    "                          normalize='true')\n",
    "    # Округление значений матрицы ошибок\n",
    "    cm = np.around(cm, 3)\n",
    "\n",
    "    # Отрисовка матрицы ошибок\n",
    "    fig, ax = plt.subplots(figsize=(10, 10))\n",
    "    ax.set_title(f'Матрица ошибок', fontsize=18)\n",
    "    disp = ConfusionMatrixDisplay(confusion_matrix=cm, display_labels=class_labels)\n",
    "    disp.plot(ax=ax)\n",
    "    plt.gca().images[-1].colorbar.remove()  # Убираем ненужную цветовую шкалу\n",
    "    plt.xlabel('Предсказанные классы', fontsize=16)\n",
    "    plt.ylabel('Верные классы', fontsize=16)\n",
    "    fig.autofmt_xdate(rotation=45)          # Наклон меток горизонтальной оси\n",
    "    plt.show()\n",
    "\n",
    "\n",
    "    # Средняя точность распознавания определяется как среднее диагональных элементов матрицы ошибок\n",
    "    print('\\nСредняя точность распознавания: {:3.0f}%'.format(100. * cm.diagonal().mean()))"
   ]
  },
  {
   "cell_type": "markdown",
   "metadata": {
    "id": "9RYCNWBhiYW7"
   },
   "source": [
    "### Архитектура сети"
   ]
  },
  {
   "cell_type": "markdown",
   "metadata": {
    "id": "RWv1HckriVQc"
   },
   "source": [
    "Так как мы используем предварительно сформированные векторные представления, то это накладывает ограничения на размерность входного слоя `Embedding` нашей модели (смотрим по имени файла navec_hudlit_v1_12B_500K_**300d**_100q.tar):"
   ]
  },
  {
   "cell_type": "code",
   "execution_count": null,
   "metadata": {
    "id": "NvnD2x7pFg9w",
    "lines_to_next_cell": 2
   },
   "outputs": [],
   "source": [
    "from keras.models import Sequential\n",
    "from keras.layers import Embedding, Flatten, Dense, SpatialDropout1D, BatchNormalization, Dropout\n",
    "\n",
    "model = Sequential()\n",
    "model.add(Embedding(max_words, embedding_dim, input_length=WIN_SIZE))\n",
    "model.add(BatchNormalization())\n",
    "model.add(Dense(40, activation=\"relu\"))\n",
    "model.add(Dropout(0.6))\n",
    "model.add(BatchNormalization())\n",
    "model.add(Flatten())\n",
    "model.add(Dense(len(CLASS_LIST), activation='softmax'))"
   ]
  },
  {
   "cell_type": "markdown",
   "metadata": {
    "id": "ppbETFGRGEHC"
   },
   "source": [
    "### Загрузка весов"
   ]
  },
  {
   "cell_type": "markdown",
   "metadata": {
    "id": "P8M94-fzAvwt"
   },
   "source": [
    "Теперь создадим матрицу векторных представлений, которую можно будет передать на вход слоя `Embedding`. Это должна быть матрица с формой `(максимальное число слов, размерность представления)`, каждый элемент `i` которой содержит вектор с размером, равным размерности представления, соответствующий слову с индексом `i` в индексе (созданном в ходе токенизации)."
   ]
  },
  {
   "cell_type": "code",
   "execution_count": null,
   "metadata": {
    "id": "wDNDBKZvGPa4"
   },
   "outputs": [],
   "source": [
    "import numpy as np\n",
    "\n",
    "word_index = tokenizer.word_index\n",
    "embeddings_index = navec\n",
    "\n",
    "embedding_matrix = np.zeros((max_words, embedding_dim))\n",
    "for word, i in word_index.items():\n",
    "    if i < max_words:\n",
    "        embedding_vector = embeddings_index.get(word)\n",
    "        if embedding_vector is not None:\n",
    "            embedding_matrix[i] = embedding_vector"
   ]
  },
  {
   "cell_type": "markdown",
   "metadata": {
    "id": "MzFm3k20YpdU"
   },
   "source": [
    "Слой Embedding в качестве весов использует - двумерную матрицу с вещественными числами, каждый `i`-й элемент которой — это вектор, связанный с `i`-м словом в индексе. Все довольно просто. Загрузим подготовленную матрицу в слой `Embedding` — первый слой модели."
   ]
  },
  {
   "cell_type": "code",
   "execution_count": null,
   "metadata": {
    "id": "JUqM-txNGJfU"
   },
   "outputs": [],
   "source": [
    "model.layers[0].set_weights([embedding_matrix])\n",
    "model.layers[0].trainable = False"
   ]
  },
  {
   "cell_type": "markdown",
   "metadata": {
    "id": "YMQtsQSaY9jt"
   },
   "source": [
    "Мы также заморозили слой `Embedding` (присвоив атрибуту `trainable` значение\n",
    "`False`). Когда мы знакомились с особенностями применения предварительно обученных сверточных нейронных сетей мы говорили, что если в модели имеются уже обученные части (как наш слой Embedding) и части, инициализированные случайными значениями (как наш классификатор), то обученные части не должны изменяться в ходе обучения, чтобы не потерять свои знания.\n",
    "\n",
    "Большие изменения градиента, вызванные случайными начальными значениями\n",
    "в необученных слоях, могут оказать разрушительное влияние на обученные слои."
   ]
  },
  {
   "cell_type": "markdown",
   "metadata": {
    "id": "Vr1Qqqd62qV3"
   },
   "source": [
    "### Обучение модели"
   ]
  },
  {
   "cell_type": "markdown",
   "metadata": {
    "id": "UZC6qNPk2qSf"
   },
   "source": [
    "Будем использовать небольшой размер пакетов `batch_size`, поскольку используем ограниченное число примеров. Тем более мы еще заберем 10% от обучающей выборки на проверочную выборку."
   ]
  },
  {
   "cell_type": "code",
   "execution_count": null,
   "metadata": {
    "colab": {
     "base_uri": "https://localhost:8080/"
    },
    "id": "fTDGwqvqKTlw",
    "outputId": "8d6b3134-3b23-480b-c8f1-1067456c811c"
   },
   "outputs": [
    {
     "name": "stdout",
     "output_type": "stream",
     "text": [
      "Epoch 1/50\n",
      "30/30 [==============================] - 8s 32ms/step - loss: 2.1867 - accuracy: 0.2992 - val_loss: 2.5335 - val_accuracy: 0.0190\n",
      "Epoch 2/50\n",
      "30/30 [==============================] - 0s 16ms/step - loss: 0.3685 - accuracy: 0.8681 - val_loss: 8.6390 - val_accuracy: 0.0000e+00\n",
      "Epoch 3/50\n",
      "30/30 [==============================] - 0s 17ms/step - loss: 0.1406 - accuracy: 0.9583 - val_loss: 12.5709 - val_accuracy: 0.0000e+00\n",
      "Epoch 4/50\n",
      "30/30 [==============================] - 0s 15ms/step - loss: 0.0720 - accuracy: 0.9794 - val_loss: 14.9048 - val_accuracy: 0.0000e+00\n",
      "Epoch 5/50\n",
      "30/30 [==============================] - 0s 14ms/step - loss: 0.0537 - accuracy: 0.9831 - val_loss: 15.4909 - val_accuracy: 0.0000e+00\n",
      "Epoch 6/50\n",
      "30/30 [==============================] - 0s 14ms/step - loss: 0.0394 - accuracy: 0.9884 - val_loss: 15.3682 - val_accuracy: 0.0000e+00\n",
      "Epoch 7/50\n",
      "30/30 [==============================] - 0s 16ms/step - loss: 0.0267 - accuracy: 0.9921 - val_loss: 13.3540 - val_accuracy: 0.0000e+00\n",
      "Epoch 8/50\n",
      "30/30 [==============================] - 0s 16ms/step - loss: 0.0263 - accuracy: 0.9926 - val_loss: 12.0446 - val_accuracy: 0.0000e+00\n",
      "Epoch 9/50\n",
      "30/30 [==============================] - 0s 14ms/step - loss: 0.0190 - accuracy: 0.9958 - val_loss: 10.6332 - val_accuracy: 0.0000e+00\n",
      "Epoch 10/50\n",
      "30/30 [==============================] - 0s 14ms/step - loss: 0.0188 - accuracy: 0.9953 - val_loss: 8.7610 - val_accuracy: 0.0000e+00\n",
      "Epoch 11/50\n",
      "30/30 [==============================] - 0s 15ms/step - loss: 0.0182 - accuracy: 0.9963 - val_loss: 6.9817 - val_accuracy: 0.0047\n",
      "Epoch 12/50\n",
      "30/30 [==============================] - 0s 14ms/step - loss: 0.0110 - accuracy: 0.9979 - val_loss: 5.2616 - val_accuracy: 0.0427\n",
      "Epoch 13/50\n",
      "30/30 [==============================] - 0s 15ms/step - loss: 0.0122 - accuracy: 0.9968 - val_loss: 3.6726 - val_accuracy: 0.1754\n",
      "Epoch 14/50\n",
      "30/30 [==============================] - 0s 16ms/step - loss: 0.0081 - accuracy: 0.9989 - val_loss: 3.0787 - val_accuracy: 0.2749\n",
      "Epoch 15/50\n",
      "30/30 [==============================] - 0s 14ms/step - loss: 0.0094 - accuracy: 0.9968 - val_loss: 2.4640 - val_accuracy: 0.3602\n",
      "Epoch 16/50\n",
      "30/30 [==============================] - 0s 16ms/step - loss: 0.0079 - accuracy: 0.9984 - val_loss: 2.0287 - val_accuracy: 0.4455\n",
      "Epoch 17/50\n",
      "30/30 [==============================] - 0s 16ms/step - loss: 0.0053 - accuracy: 0.9995 - val_loss: 1.7204 - val_accuracy: 0.5071\n",
      "Epoch 18/50\n",
      "30/30 [==============================] - 0s 14ms/step - loss: 0.0051 - accuracy: 0.9995 - val_loss: 1.4636 - val_accuracy: 0.5687\n",
      "Epoch 19/50\n",
      "30/30 [==============================] - 0s 14ms/step - loss: 0.0044 - accuracy: 0.9989 - val_loss: 1.2777 - val_accuracy: 0.6019\n",
      "Epoch 20/50\n",
      "30/30 [==============================] - 0s 14ms/step - loss: 0.0061 - accuracy: 0.9989 - val_loss: 1.1394 - val_accuracy: 0.6303\n",
      "Epoch 21/50\n",
      "30/30 [==============================] - 0s 16ms/step - loss: 0.0047 - accuracy: 0.9984 - val_loss: 1.1329 - val_accuracy: 0.6730\n",
      "Epoch 22/50\n",
      "30/30 [==============================] - 0s 16ms/step - loss: 0.0052 - accuracy: 0.9989 - val_loss: 0.9795 - val_accuracy: 0.7014\n",
      "Epoch 23/50\n",
      "30/30 [==============================] - 0s 14ms/step - loss: 0.0064 - accuracy: 0.9979 - val_loss: 1.1497 - val_accuracy: 0.6540\n",
      "Epoch 24/50\n",
      "30/30 [==============================] - 0s 14ms/step - loss: 0.0049 - accuracy: 0.9989 - val_loss: 1.2200 - val_accuracy: 0.6493\n",
      "Epoch 25/50\n",
      "30/30 [==============================] - 0s 14ms/step - loss: 0.0036 - accuracy: 0.9995 - val_loss: 1.2155 - val_accuracy: 0.6540\n",
      "Epoch 26/50\n",
      "30/30 [==============================] - 1s 17ms/step - loss: 0.0028 - accuracy: 0.9995 - val_loss: 1.1697 - val_accuracy: 0.6588\n",
      "Epoch 27/50\n",
      "30/30 [==============================] - 1s 18ms/step - loss: 0.0030 - accuracy: 0.9995 - val_loss: 1.1651 - val_accuracy: 0.6825\n",
      "Epoch 28/50\n",
      "30/30 [==============================] - 1s 17ms/step - loss: 0.0071 - accuracy: 0.9979 - val_loss: 1.1773 - val_accuracy: 0.6682\n",
      "Epoch 29/50\n",
      "30/30 [==============================] - 1s 17ms/step - loss: 0.0038 - accuracy: 1.0000 - val_loss: 1.1747 - val_accuracy: 0.6588\n",
      "Epoch 30/50\n",
      "30/30 [==============================] - 0s 15ms/step - loss: 0.0022 - accuracy: 1.0000 - val_loss: 1.0030 - val_accuracy: 0.6919\n",
      "Epoch 31/50\n",
      "30/30 [==============================] - 0s 16ms/step - loss: 0.0020 - accuracy: 0.9995 - val_loss: 0.9310 - val_accuracy: 0.7062\n",
      "Epoch 32/50\n",
      "30/30 [==============================] - 0s 14ms/step - loss: 0.0027 - accuracy: 0.9989 - val_loss: 0.9411 - val_accuracy: 0.7109\n",
      "Epoch 33/50\n",
      "30/30 [==============================] - 0s 16ms/step - loss: 0.0025 - accuracy: 0.9995 - val_loss: 1.1046 - val_accuracy: 0.6872\n",
      "Epoch 34/50\n",
      "30/30 [==============================] - 0s 15ms/step - loss: 0.0019 - accuracy: 1.0000 - val_loss: 1.0827 - val_accuracy: 0.6919\n",
      "Epoch 35/50\n",
      "30/30 [==============================] - 0s 15ms/step - loss: 0.0019 - accuracy: 1.0000 - val_loss: 0.9667 - val_accuracy: 0.7299\n",
      "Epoch 36/50\n",
      "30/30 [==============================] - 0s 16ms/step - loss: 0.0024 - accuracy: 0.9995 - val_loss: 0.8726 - val_accuracy: 0.7062\n",
      "Epoch 37/50\n",
      "30/30 [==============================] - 0s 16ms/step - loss: 0.0019 - accuracy: 1.0000 - val_loss: 0.8303 - val_accuracy: 0.7204\n",
      "Epoch 38/50\n",
      "30/30 [==============================] - 0s 15ms/step - loss: 0.0024 - accuracy: 0.9995 - val_loss: 0.7760 - val_accuracy: 0.7204\n",
      "Epoch 39/50\n",
      "30/30 [==============================] - 0s 14ms/step - loss: 0.0017 - accuracy: 1.0000 - val_loss: 0.7627 - val_accuracy: 0.7346\n",
      "Epoch 40/50\n",
      "30/30 [==============================] - 0s 16ms/step - loss: 0.0019 - accuracy: 0.9995 - val_loss: 0.7092 - val_accuracy: 0.7678\n",
      "Epoch 41/50\n",
      "30/30 [==============================] - 0s 14ms/step - loss: 0.0012 - accuracy: 1.0000 - val_loss: 0.6968 - val_accuracy: 0.7773\n",
      "Epoch 42/50\n",
      "30/30 [==============================] - 0s 14ms/step - loss: 0.0010 - accuracy: 0.9995 - val_loss: 0.6432 - val_accuracy: 0.7867\n",
      "Epoch 43/50\n",
      "30/30 [==============================] - 0s 14ms/step - loss: 0.0026 - accuracy: 0.9995 - val_loss: 0.7032 - val_accuracy: 0.7867\n",
      "Epoch 44/50\n",
      "30/30 [==============================] - 0s 14ms/step - loss: 0.0015 - accuracy: 1.0000 - val_loss: 0.7961 - val_accuracy: 0.7251\n",
      "Epoch 45/50\n",
      "30/30 [==============================] - 0s 16ms/step - loss: 0.0010 - accuracy: 1.0000 - val_loss: 0.7987 - val_accuracy: 0.7251\n",
      "Epoch 46/50\n",
      "30/30 [==============================] - 0s 14ms/step - loss: 0.0015 - accuracy: 0.9995 - val_loss: 0.8223 - val_accuracy: 0.7251\n",
      "Epoch 47/50\n",
      "30/30 [==============================] - 0s 14ms/step - loss: 0.0011 - accuracy: 1.0000 - val_loss: 0.8173 - val_accuracy: 0.7346\n",
      "Epoch 48/50\n",
      "30/30 [==============================] - 0s 14ms/step - loss: 7.4308e-04 - accuracy: 1.0000 - val_loss: 0.7981 - val_accuracy: 0.7488\n",
      "Epoch 49/50\n",
      "30/30 [==============================] - 0s 16ms/step - loss: 8.0311e-04 - accuracy: 1.0000 - val_loss: 0.7913 - val_accuracy: 0.7346\n",
      "Epoch 50/50\n",
      "30/30 [==============================] - 0s 15ms/step - loss: 0.0011 - accuracy: 1.0000 - val_loss: 0.7812 - val_accuracy: 0.7441\n"
     ]
    }
   ],
   "source": [
    "model.compile(optimizer='adam', loss='categorical_crossentropy', metrics=['accuracy'])\n",
    "history = model.fit(x_train, y_train, epochs=50, batch_size=64, validation_split=0.1)\n",
    "model.save_weights('pre_trained_model.h5') # можно сохранять не только модели, но и веса"
   ]
  },
  {
   "cell_type": "code",
   "execution_count": null,
   "metadata": {
    "colab": {
     "base_uri": "https://localhost:8080/",
     "height": 387
    },
    "id": "tXhRPFU_IdIa",
    "outputId": "566d1a00-d6e7-4c90-98b1-d789c67633b1"
   },
   "outputs": [
    {
     "data": {
      "image/png": "[encoded data removed]",
      "text/plain": [
       "<Figure size 1800x500 with 2 Axes>"
      ]
     },
     "metadata": {},
     "output_type": "display_data"
    }
   ],
   "source": [
    "show_plot(history)"
   ]
  },
  {
   "cell_type": "code",
   "execution_count": null,
   "metadata": {
    "colab": {
     "base_uri": "https://localhost:8080/",
     "height": 899
    },
    "id": "hXB8iTN2IdvE",
    "outputId": "135ce81e-d75e-42ca-a304-e597726bbc13"
   },
   "outputs": [
    {
     "name": "stdout",
     "output_type": "stream",
     "text": [
      "6/6 [==============================] - 0s 5ms/step\n"
     ]
    },
    {
     "data": {
      "image/png": "[encoded data removed]",
      "text/plain": [
       "<Figure size 1000x1000 with 1 Axes>"
      ]
     },
     "metadata": {},
     "output_type": "display_data"
    },
    {
     "name": "stdout",
     "output_type": "stream",
     "text": [
      "\n",
      "Средняя точность распознавания:  72%\n"
     ]
    }
   ],
   "source": [
    "y_pred = model.predict(x_test)\n",
    "show_confusion_matrix(y_test, y_pred, CLASS_LIST)"
   ]
  },
  {
   "cell_type": "markdown",
   "metadata": {
    "id": "Q9SXo-LpL5Ou"
   },
   "source": [
    "#### Итоги"
   ]
  },
  {
   "cell_type": "markdown",
   "metadata": {
    "id": "HNCDdUSQL9Qb"
   },
   "source": [
    "Как мы видим, точность на обучающей выборке достигла 100%, на проверочной почти 79% на лучшей эпохе. При этом средняя точность на тестовых образцах составила всего 72% (рассчитанная по диагонали матрицы ошибок). При этом надо учитывать, что обучение мы проводили всего на 40 тыс. словах, что почти в 10 раз меньше примера из предыдущего [Блокнота](https://colab.research.google.com/drive/1KEFUgyBcqGaXGZEU-7MHENn5RH_AIvfH).\n",
    "\n",
    "Поэтому, если у нас ограниченный датасет, то смотрим в сторону предобученных векторных представлений."
   ]
  },
  {
   "cell_type": "markdown",
   "metadata": {
    "id": "bZdzsNwfDar2"
   },
   "source": [
    "А теперь переходим, к [домашней работе](https://colab.research.google.com/drive/1t7rrJV4BSzFF8ZuiUQASkkq8ijzf0IiJ) и немного поэкспериментируем."
   ]
  }
 ],
 "metadata": {
  "accelerator": "GPU",
  "colab": {
   "gpuType": "T4",
   "include_colab_link": true,
   "provenance": []
  },
  "jupytext": {
   "main_language": "python"
  },
  "kernelspec": {
   "display_name": "Python 3",
   "name": "python3"
  },
  "language_info": {
   "name": "python"
  }
 },
 "nbformat": 4,
 "nbformat_minor": 0
}
