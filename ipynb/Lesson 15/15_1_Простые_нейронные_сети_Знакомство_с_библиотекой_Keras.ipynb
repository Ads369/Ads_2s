{
  "nbformat": 4,
  "nbformat_minor": 0,
  "metadata": {
    "colab": {
      "provenance": [],
      "include_colab_link": true
    },
    "kernelspec": {
      "name": "python3",
      "display_name": "Python 3"
    },
    "language_info": {
      "name": "python"
    }
  },
  "cells": [
    {
      "cell_type": "markdown",
      "metadata": {
        "id": "view-in-github",
        "colab_type": "text"
      },
      "source": [
        "<a href=\"https://colab.research.google.com/github/Ads369/Ads_2s/blob/main/15_1_%D0%9F%D1%80%D0%BE%D1%81%D1%82%D1%8B%D0%B5_%D0%BD%D0%B5%D0%B9%D1%80%D0%BE%D0%BD%D0%BD%D1%8B%D0%B5_%D1%81%D0%B5%D1%82%D0%B8_%D0%97%D0%BD%D0%B0%D0%BA%D0%BE%D0%BC%D1%81%D1%82%D0%B2%D0%BE_%D1%81_%D0%B1%D0%B8%D0%B1%D0%BB%D0%B8%D0%BE%D1%82%D0%B5%D0%BA%D0%BE%D0%B9_Keras.ipynb\" target=\"_parent\"><img src=\"https://colab.research.google.com/assets/colab-badge.svg\" alt=\"Open In Colab\"/></a>"
      ]
    },
    {
      "cell_type": "markdown",
      "source": [
        "**Навигация по уроку**\n",
        "\n",
        "1. Простые нейронные сети. Знакомство с библиотекой Keras\n",
        "2. [Распознание рукописных цифр (Практика)](https://colab.research.google.com/drive/1RaGkCutdIazFN5PtQOod5UH2Cc05diYI)\n",
        "3. [Домашняя работа](https://colab.research.google.com/drive/1RD-x2WPmMBtutQzeKiigOoHKwp1MZNd9)"
      ],
      "metadata": {
        "id": "ESOhVJdyG6BR"
      }
    },
    {
      "cell_type": "markdown",
      "source": [
        "Вычисление градиентов и обратного прохода нейронной сети постепенно отходит в  прошлое, благодаря появлению множества мощных библиотек глубокого обучения, скрывающих абстракции более низкого уровня. Ранее вы уже приобрели полезный навык создания нейронных сетей с нуля, а сейчас пришло время познакомиться с  более продвинутым и  функциональным программным обеспечением.\n",
        "\n",
        "**Библиотека Keras** – это популярный элегантный инструмент глубокого обучения, написанный на языке Python. Этот проект с открытым исходным кодом был создан в 2015 году и быстро привлек внимание большого количества пользователей. Код можно найти на странице [keras](https://github.com/keras-team/keras) на GitHub, а исчерпывающую документацию – на сайте [keras.io](https://keras.io/)."
      ],
      "metadata": {
        "id": "jkGcFPTbbolM"
      }
    },
    {
      "cell_type": "markdown",
      "source": [
        "**Keras** — это API высокого уровня платформы TensorFlow. Он предоставляет доступный и высокопроизводительный интерфейс для решения задач машинного обучения (ML) с упором на современное глубокое обучение.\n",
        "\n",
        "Keras охватывает каждый этап рабочего процесса машинного обучения: от обработки данных до настройки гиперпараметров и развертывания.  Keras создавался с упором на возможность быстрого экспериментирования.\n",
        "\n",
        "Keras дает полный доступ к масштабируемости и кроссплатформенным возможностям TensorFlow. Keras можно запускать  на модуле TPU или больших кластерах графических процессоров, а также экспортировать модели Keras для запуска в браузере или на мобильных устройствах.\n"
      ],
      "metadata": {
        "id": "wT8odpcJIKST"
      }
    },
    {
      "cell_type": "markdown",
      "source": [
        "## Принципы проектирования с помощью библиотеки Keras"
      ],
      "metadata": {
        "id": "5mK7FKltNBfZ"
      }
    },
    {
      "cell_type": "markdown",
      "source": [
        "Одно из главных преимуществ библиотеки Keras заключается в том, что этот интуитивно понятный и простой в использовании API-интерфейс позволяет быстро\n",
        "создавать прототипы и проводить эксперименты. Из-за этого библиотека Keras\n",
        "часто используется участниками конкурсов, проводимых, например, на платформе **kaggle.com**. Библиотека Keras имеет модульную структуру и изначально была\n",
        "вдохновлена такими инструментами глубокого обучения, как Torch.\n",
        "\n",
        "Еще одним значительным преимуществом Keras является расширяемость. Добавление новых пользовательских слоев или расширение существующей функциональности\n",
        "не вызывает особых сложностей.\n",
        "\n",
        "Библиотека Keras поставляется со всем необходимым, что позволяет быстро приступить к ее использованию. Например, непосредственно с библиотекой\n",
        "можно загрузить многие популярные наборы данных вроде MNIST, а в репозитории GitHub содержатся дополнительные полезные образцы. Кроме того, по адресу https://github.com/fchollet/keras-resources можно найти целую экосистему расширений Keras и множество независимых проектов.\n",
        "\n",
        "Отличительной особенностью библиотеки Keras является концепция **бэкендов**:\n",
        "она работает с мощными движками, которые можно менять по требованию. Keras\n",
        "можно рассматривать как фронтенд библиотеку, которая предоставляет удобный\n",
        "набор высокоуровневых абстракций и функций для работы с моделями и при\n",
        "этом поддерживается бэкендом, который выполняет всю тяжелую работу в фоновом режиме. Нам известно три официальных бэкенда: TensorFlow, Theano и  Microsoft Cognitive Toolkit. Мы будем работать исключительно с библиотекой TensorFlow\n",
        "от компании Google, которая используется в Keras по умолчанию. Однако если вы\n",
        "предпочитаете другой вариант, смена бэкенда не составит особого труда."
      ],
      "metadata": {
        "id": "PXyYTiZ4NDA2"
      }
    },
    {
      "cell_type": "markdown",
      "source": [
        "### Необходимые зависимости"
      ],
      "metadata": {
        "id": "uN_PehGiqXav"
      }
    },
    {
      "cell_type": "markdown",
      "source": [
        "Если вы работаете с библиотекой Keras в GoogleColab, то все необходимые библиотеки установлены и сконфигурированы под выбранную среду выполнения. Иначе вам придется самостоятельно устанавливать все необходимые библиотеки.\n",
        "\n",
        "Перед началом работы с Keras необходимо установить бэкенд. Вы можете начать\n",
        "с TensorFlow, который легко устанавливается с помощью следующей команды:\n",
        " ```\n",
        " pip install tensorflow\n",
        "\n",
        "```\n",
        "\n",
        "Для установки самого Keras необходимо выполнить:\n",
        "```\n",
        "pip install Keras\n",
        "```"
      ],
      "metadata": {
        "id": "0j9V_krKqhU7"
      }
    },
    {
      "cell_type": "markdown",
      "source": [
        "Обратите внимание, что когда вы устанавливаете в GoogleColab библиотеки, то перед командой `pip` ставите `!`, если установка происходит на локальном компьютере или удаленном сервере, то `!` не ставится перед командой. Если вы все же решите перейти на Yandex DataSphere, то для установки библиотек будете использовать `%pip`. Но при этом, для вызова системных команд операционной системы или запуска системных приложений в DataSphere также, как и в GoogleColab необходимо использовать `!`, т.е.: `!mkdir`, `!unzip` и т.д."
      ],
      "metadata": {
        "id": "OygAX4C_qYRd"
      }
    },
    {
      "cell_type": "markdown",
      "source": [
        "### Простые нейронные сети\n"
      ],
      "metadata": {
        "id": "LodWdokJNPXd"
      }
    },
    {
      "cell_type": "markdown",
      "source": [
        "Давайте повторим основы нейронных сетей, которые мы уже рассматривали ранее, но сделаем это применительно к библиотеке Keras.\n",
        "\n",
        "Cначала рассмотрим входной слой нейронной сети, затем\n",
        "его соединение с выходным слоем и далее добавление между ними\n",
        "скрытых слоев, тем самым сделаем нейронную сеть глубокой.\n",
        "\n",
        "После этого мы остановимся на том, как составлять слои из узлов, выясним, что узлы делают и как слои соединяются друг с другом, формируя полносвязные нейронные сети. И так, приступим."
      ],
      "metadata": {
        "id": "0cAo1GB3qr7I"
      }
    },
    {
      "cell_type": "markdown",
      "source": [
        "#### Входной слой"
      ],
      "metadata": {
        "id": "lJBKQ8TJrj5y"
      }
    },
    {
      "cell_type": "markdown",
      "source": [
        ":Входной слой нейронной сети принимает числа! Все поступающие на вход данные конвертируются в числа. Все вокруг нас является числами. Текст, речь, картинки становятся числами, а вещи, которые уже являются числами, просто остаются числами, либо нормируются.\n",
        "Нейронные сети принимают числа в виде векторов, матриц либо тензоров.\n",
        "\n",
        "Давайте рассмотрим простой пример. Допустим, у  нас есть набор данных\n",
        "о жилье. Каждая строка содержит 14 столбцов данных. В одном столбце указана продажная цена дома. Мы будем называть ее **меткой**.\n",
        "\n",
        "В остальных 13 столбцах содержится информация о доме, такая как площадь и налог на имущество. Это все цифры. Мы будем называть их **признаками**.\n",
        "\n",
        "**Мы хотим научиться предсказывать (или оценивать) метку по признакам**."
      ],
      "metadata": {
        "id": "mBNG6NU-2F4O"
      }
    },
    {
      "cell_type": "markdown",
      "source": [
        "![photo_2024-01-06_15-51-40 (1).jpg](data:image/jpeg;base64,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)\n",
        "\n",
        "**Цена дома - это метка, все остальное - признаки, определяющие эту цену**"
      ],
      "metadata": {
        "id": "SQTuUgL12CWR"
      }
    },
    {
      "cell_type": "markdown",
      "source": [
        "Так вот, до того, как у  нас появились все эти вычислительные мощности и эти потрясающие вычислительные каркасы машинного обучения, аналитики данных делали это вручную либо с помощью формул в электронной таблице Microsoft Excel с определенным объемом данных и большим объемом линейной алгебры. Однако мы будем использовать Keras и TensorFlow.\n",
        "Мы начнем с того, что сначала импортируем модуль Keras из TensorFlow, а  затем инстанцируем библиотечный класс Input, то есть создаем экземпляр этого класса. Для этого класса мы определяем форму или размерности входных данных. В нашем примере входные данные представляют собой одномерный массив (вектор) из 13 элементов, по одному для каждого признака:"
      ],
      "metadata": {
        "id": "iRK83LLc2G2m"
      }
    },
    {
      "cell_type": "code",
      "source": [
        "from tensorflow.keras import Input\n",
        "Input(shape=(13,), name=\"Input\")"
      ],
      "metadata": {
        "colab": {
          "base_uri": "https://localhost:8080/"
        },
        "id": "JomCWe1T4O2X",
        "outputId": "174f4539-b75c-4297-edaa-886528c609ff"
      },
      "execution_count": null,
      "outputs": [
        {
          "output_type": "execute_result",
          "data": {
            "text/plain": [
              "<KerasTensor: shape=(None, 13) dtype=float32 (created by layer 'Input')>"
            ]
          },
          "metadata": {},
          "execution_count": 3
        }
      ]
    },
    {
      "cell_type": "markdown",
      "source": [
        "Обратим внимание на вывод инструкции `Input(shape=(13,), name=\"Input\")`. Она создает слой с именем `Input`. Это имя мы задали с помощью параметра `name` и оно нам будет полезно при отладке моделей. None в shape показывает, что входной объект принимает неограниченное число записей (примеров или строк) по 13 элементов в каждой. То есть во время выполнения он свяжет число одномерных векторов по 13 элементов каждый с фактическим числом передаваемых вами примеров (строк), именуемым размером мини-пакета (мини-батча). Слово dtype показывает тип данных, заданный у этих элементов по умолчанию, то есть в данном случае по умолчанию используется 32-битовый вещественный тип (числа с плавающей точкой одинарной точности)."
      ],
      "metadata": {
        "id": "Cv3gggGP4WBj"
      }
    },
    {
      "cell_type": "markdown",
      "source": [
        "#### Глубокие слои"
      ],
      "metadata": {
        "id": "RaV91iYMBz2D"
      }
    },
    {
      "cell_type": "markdown",
      "source": [
        "Глубокий в данном контексте просто означает, что нейронная сеть имеет один или несколько слоев между входным и выходным слоями. Как вы убедитесь позже, исследователи, углубившись в скрытые слои, смогли получить более высокую точность.\n",
        "\n",
        "При рассмотрении нейронной сети обычно используют терминологию теории графов. Если построить ориентированный граф в слоях глубины, то корневые узлы будут входным слоем, а терминальные узлы – выходным слоем. Слои между ними называются скрытыми, или глубокими, слоями. Таким образом, четырехслойная архитектура глубокой нейросети будет выглядеть следующим образом:\n",
        "* входной слой;\n",
        "* скрытый слой;\n",
        "* скрытый слой;\n",
        "* выходной слой.\n"
      ],
      "metadata": {
        "id": "bTcBXCrbB70B"
      }
    },
    {
      "cell_type": "markdown",
      "source": [
        "![image.png](data:image/png;base64,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)"
      ],
      "metadata": {
        "id": "22NEg4OnCgYQ"
      }
    },
    {
      "cell_type": "markdown",
      "source": [
        "**Рис. 1. Между входным и выходным слоями глубокой нейронной сети есть один или\n",
        "несколько скрытых слоев. Cеть является полносвязной (FCCN). Узлы на\n",
        "всех уровнях связаны друг с другом**."
      ],
      "metadata": {
        "id": "2vmu-sIfCg3K"
      }
    },
    {
      "cell_type": "markdown",
      "source": [
        "Для начала мы предположим, что каждый нейросетевой узел\n",
        "в каждом слое, кроме выходного слоя, является нейросетевым узлом\n",
        "одинакового типа. Мы также допустим, что каждый узел в  каждом\n",
        "слое связан с  каждым другим узлом в  следующем слое. Такая сеть\n",
        "называется полносвязной нейронной сетью (fully connected neural\n",
        "network, аббр. FCNN).\n",
        "\n",
        "Например, если входной слой имеет три узла, а следующий (скрытый) слой имеет четыре узла, то каждый узел в первом слое соединен со всеми четырьмя\n",
        "узлами в следующем слое – в общей сложности 12 соединений (3 × 4)."
      ],
      "metadata": {
        "id": "Naov6QjaDSlm"
      }
    },
    {
      "cell_type": "markdown",
      "source": [
        "Глубокие нейросети, а также сверточные нейросети (о них позже) называются нейронными сетями прямого распространения. Прямое распространение означает, что\n",
        "данные перемещаются по сети последовательно, в одном направлении, от входного слоя к выходному слою. Это аналогично функции в  процедурном программировании.\n",
        "\n",
        "Входные данные передаются в качестве параметров во входной слой, и функция, основываясь на входных данных, выполняет упорядоченный набор действий\n",
        "(в скрытых слоях), а затем выдает результат (выходной слой).\n",
        "\n",
        "С сетями прямого распространения в TF.Keras можно работать с использованием двух разных стилей:\n",
        "* Последовательная модель\n",
        "* Функциональный API\n"
      ],
      "metadata": {
        "id": "zbKT5wtrEXFY"
      }
    },
    {
      "cell_type": "markdown",
      "source": [
        "#### Метод последовательной модели"
      ],
      "metadata": {
        "id": "OiQBNHbBJW6V"
      }
    },
    {
      "cell_type": "markdown",
      "source": [
        "Метод последовательной модели легче читать и использовать новичкам, но зато он менее гибок. По сути, мы создаем пустую нейронную сеть прямого распространения с помощью библиотечного класса `Sequential`, а затем «добавляем» по одному слою за раз вплоть до выходного слоя.\n",
        "\n",
        "Sequential модель подходит для простого стека слоев, где каждый слой имеет ровно один тензор входной и один выходной тензор.\n",
        "\n",
        "Мы можем создать модель Sequential, передав список слоев конструктору Sequential:"
      ],
      "metadata": {
        "id": "kob_I9coLGDu"
      }
    },
    {
      "cell_type": "code",
      "source": [
        "import tensorflow as tf\n",
        "from tensorflow import keras\n",
        "from tensorflow.keras import layers\n",
        "\n",
        "\n",
        "# Определение Sequential модели с 3 слоями\n",
        "model = keras.Sequential(\n",
        "    [\n",
        "        layers.Dense(2, activation=\"relu\", name=\"layer1\"),\n",
        "        layers.Dense(3, activation=\"relu\", name=\"layer2\"),\n",
        "        layers.Dense(4, name=\"layer3\"),\n",
        "    ]\n",
        ")\n",
        "# Вызываем модель на тестовых входных данных\n",
        "x = tf.ones((3, 3))\n",
        "y = model(x)"
      ],
      "metadata": {
        "id": "x6lobQznLhdH"
      },
      "execution_count": null,
      "outputs": []
    },
    {
      "cell_type": "markdown",
      "source": [
        "В примере выше мы использовали слой `Dense` (линейный или полносвязный слой). Полносвязный слой чаще других используется в нейросетях. В качестве обязательного параметра для Dense задается число узлов (нейронов) в слое, а также можно указать функцию активации `activation` и имя слоя `name`."
      ],
      "metadata": {
        "id": "urXcheQBr8Uv"
      }
    },
    {
      "cell_type": "markdown",
      "source": [
        "К слоям модели можно получить доступ через атрибут layers:"
      ],
      "metadata": {
        "id": "z_dHJfwJO8Q_"
      }
    },
    {
      "cell_type": "code",
      "source": [
        "model.layers"
      ],
      "metadata": {
        "colab": {
          "base_uri": "https://localhost:8080/"
        },
        "id": "ls6xMhOBPIGk",
        "outputId": "4bf216e7-9155-4b9e-953c-f281279c6692"
      },
      "execution_count": null,
      "outputs": [
        {
          "output_type": "execute_result",
          "data": {
            "text/plain": [
              "[<keras.src.layers.core.dense.Dense at 0x7823e4cd74f0>,\n",
              " <keras.src.layers.core.dense.Dense at 0x7823e37983d0>,\n",
              " <keras.src.layers.core.dense.Dense at 0x7823e3798c10>]"
            ]
          },
          "metadata": {},
          "execution_count": 5
        }
      ]
    },
    {
      "cell_type": "markdown",
      "source": [
        "Последовательную модель можно также задавать пошагово с помощью метода `add()`:"
      ],
      "metadata": {
        "id": "oD3lXsBxPOFv"
      }
    },
    {
      "cell_type": "code",
      "source": [
        "model2 = keras.Sequential()\n",
        "# Последовательный конструктор принимает name аргументы, так же как и любой слой или модели в Keras.\n",
        "model2.add(layers.Dense(2, activation=\"relu\", name=\"layer1\"))\n",
        "model2.add(layers.Dense(3, activation=\"relu\", name=\"layer2\"))\n",
        "model2.add(layers.Dense(4, name=\"layer3\"))\n",
        "\n",
        "# Вызываем модель на тестовых входных данных\n",
        "y2 = model2(x)"
      ],
      "metadata": {
        "id": "zx1rXBRKPaAO"
      },
      "execution_count": null,
      "outputs": []
    },
    {
      "cell_type": "markdown",
      "source": [
        "Обратите внимание, что есть также соответствующий метод `pop()` для удаления слоев:"
      ],
      "metadata": {
        "id": "jn7x3QMLP-Yp"
      }
    },
    {
      "cell_type": "code",
      "source": [
        "model2.pop()\n",
        "model2.layers"
      ],
      "metadata": {
        "colab": {
          "base_uri": "https://localhost:8080/"
        },
        "id": "EHW-SgE4QIFx",
        "outputId": "c1ef8d67-2519-4bf9-8fd2-fffc612b60da"
      },
      "execution_count": null,
      "outputs": [
        {
          "output_type": "execute_result",
          "data": {
            "text/plain": [
              "[<keras.src.layers.core.dense.Dense at 0x7823e379bbe0>,\n",
              " <keras.src.layers.core.dense.Dense at 0x7823e379a860>]"
            ]
          },
          "metadata": {},
          "execution_count": 11
        }
      ]
    },
    {
      "cell_type": "markdown",
      "source": [
        "Здесь мы обошлись без инструкции Input, собрали модель и даже что-то работает.\n",
        "\n",
        "**Так зачем нам нужна инструкция `Input`?**\n",
        "\n",
        "Как правило, все слои в Keras должны знать форму своих входных данных, чтобы иметь возможность создавать свои веса.\n",
        "\n",
        "Итак, когда мы создадим слой, то изначально он не имеет весов:"
      ],
      "metadata": {
        "id": "hLPf0HYuQT4Q"
      }
    },
    {
      "cell_type": "code",
      "source": [
        "layer = layers.Dense(3)\n",
        "layer.weights"
      ],
      "metadata": {
        "colab": {
          "base_uri": "https://localhost:8080/"
        },
        "id": "n2Sk8-aHX5be",
        "outputId": "c3e8ed50-b275-490b-d78a-7aa1c35b034f"
      },
      "execution_count": null,
      "outputs": [
        {
          "output_type": "execute_result",
          "data": {
            "text/plain": [
              "[]"
            ]
          },
          "metadata": {},
          "execution_count": 12
        }
      ]
    },
    {
      "cell_type": "markdown",
      "source": [
        "Он создает свои веса при первом обращении к входным данным, поскольку форма весов зависит от формы входных данных:"
      ],
      "metadata": {
        "id": "7IKxr3KQXxNv"
      }
    },
    {
      "cell_type": "code",
      "source": [
        "x = tf.ones((1, 4))\n",
        "y = layer(x)\n",
        "layer.weights"
      ],
      "metadata": {
        "colab": {
          "base_uri": "https://localhost:8080/"
        },
        "id": "_8CM8N28Ytpt",
        "outputId": "a9d6b42e-00cd-4f5a-f69c-d0fcec05f709"
      },
      "execution_count": null,
      "outputs": [
        {
          "output_type": "execute_result",
          "data": {
            "text/plain": [
              "[<tf.Variable 'dense/kernel:0' shape=(4, 3) dtype=float32, numpy=\n",
              " array([[-0.02373648, -0.73636436,  0.31328797],\n",
              "        [-0.43246064, -0.77360415, -0.85579485],\n",
              "        [-0.23167068, -0.52453315,  0.5822911 ],\n",
              "        [-0.34122163, -0.32250726, -0.51398826]], dtype=float32)>,\n",
              " <tf.Variable 'dense/bias:0' shape=(3,) dtype=float32, numpy=array([0., 0., 0.], dtype=float32)>]"
            ]
          },
          "metadata": {},
          "execution_count": 13
        }
      ]
    },
    {
      "cell_type": "markdown",
      "source": [
        "Естественно, эти замечания относятся и к моделям Sequential.\n",
        "\n",
        "При создании экземпляра Последовательной модели без формы ввода, она не имеет веса и вызов  `model.weights` приведет к ошибке:\n"
      ],
      "metadata": {
        "id": "P1nbQM2sXxIS"
      }
    },
    {
      "cell_type": "code",
      "source": [
        "model = keras.Sequential(\n",
        "    [\n",
        "        layers.Dense(2, activation=\"relu\"),\n",
        "        layers.Dense(3, activation=\"relu\"),\n",
        "        layers.Dense(4),\n",
        "    ]\n",
        ")\n",
        "print(model.weights)"
      ],
      "metadata": {
        "colab": {
          "base_uri": "https://localhost:8080/",
          "height": 373
        },
        "id": "UfcZUH1laG_s",
        "outputId": "7fe7c282-ba81-41b2-faa9-eb68c77d8fc7"
      },
      "execution_count": null,
      "outputs": [
        {
          "output_type": "error",
          "ename": "ValueError",
          "evalue": "Weights for model 'sequential_6' have not yet been created. Weights are created when the model is first called on inputs or `build()` is called with an `input_shape`.",
          "traceback": [
            "\u001b[0;31m---------------------------------------------------------------------------\u001b[0m",
            "\u001b[0;31mValueError\u001b[0m                                Traceback (most recent call last)",
            "\u001b[0;32m<ipython-input-16-08e779ec750d>\u001b[0m in \u001b[0;36m<cell line: 8>\u001b[0;34m()\u001b[0m\n\u001b[1;32m      6\u001b[0m     ]\n\u001b[1;32m      7\u001b[0m )  \n\u001b[0;32m----> 8\u001b[0;31m \u001b[0mprint\u001b[0m\u001b[0;34m(\u001b[0m\u001b[0mmodel\u001b[0m\u001b[0;34m.\u001b[0m\u001b[0mweights\u001b[0m\u001b[0;34m)\u001b[0m\u001b[0;34m\u001b[0m\u001b[0;34m\u001b[0m\u001b[0m\n\u001b[0m",
            "\u001b[0;32m/usr/local/lib/python3.10/dist-packages/keras/src/engine/training.py\u001b[0m in \u001b[0;36mweights\u001b[0;34m(self)\u001b[0m\n\u001b[1;32m   3452\u001b[0m           \u001b[0mA\u001b[0m \u001b[0mlist\u001b[0m \u001b[0mof\u001b[0m \u001b[0mvariables\u001b[0m\u001b[0;34m.\u001b[0m\u001b[0;34m\u001b[0m\u001b[0;34m\u001b[0m\u001b[0m\n\u001b[1;32m   3453\u001b[0m         \"\"\"\n\u001b[0;32m-> 3454\u001b[0;31m         \u001b[0;32mreturn\u001b[0m \u001b[0mself\u001b[0m\u001b[0;34m.\u001b[0m\u001b[0m_dedup_weights\u001b[0m\u001b[0;34m(\u001b[0m\u001b[0mself\u001b[0m\u001b[0;34m.\u001b[0m\u001b[0m_undeduplicated_weights\u001b[0m\u001b[0;34m)\u001b[0m\u001b[0;34m\u001b[0m\u001b[0;34m\u001b[0m\u001b[0m\n\u001b[0m\u001b[1;32m   3455\u001b[0m \u001b[0;34m\u001b[0m\u001b[0m\n\u001b[1;32m   3456\u001b[0m     \u001b[0;34m@\u001b[0m\u001b[0mproperty\u001b[0m\u001b[0;34m\u001b[0m\u001b[0;34m\u001b[0m\u001b[0m\n",
            "\u001b[0;32m/usr/local/lib/python3.10/dist-packages/keras/src/engine/training.py\u001b[0m in \u001b[0;36m_undeduplicated_weights\u001b[0;34m(self)\u001b[0m\n\u001b[1;32m   3457\u001b[0m     \u001b[0;32mdef\u001b[0m \u001b[0m_undeduplicated_weights\u001b[0m\u001b[0;34m(\u001b[0m\u001b[0mself\u001b[0m\u001b[0;34m)\u001b[0m\u001b[0;34m:\u001b[0m\u001b[0;34m\u001b[0m\u001b[0;34m\u001b[0m\u001b[0m\n\u001b[1;32m   3458\u001b[0m         \u001b[0;34m\"\"\"Returns the undeduplicated list of all layer variables/weights.\"\"\"\u001b[0m\u001b[0;34m\u001b[0m\u001b[0;34m\u001b[0m\u001b[0m\n\u001b[0;32m-> 3459\u001b[0;31m         \u001b[0mself\u001b[0m\u001b[0;34m.\u001b[0m\u001b[0m_assert_weights_created\u001b[0m\u001b[0;34m(\u001b[0m\u001b[0;34m)\u001b[0m\u001b[0;34m\u001b[0m\u001b[0;34m\u001b[0m\u001b[0m\n\u001b[0m\u001b[1;32m   3460\u001b[0m         \u001b[0mweights\u001b[0m \u001b[0;34m=\u001b[0m \u001b[0;34m[\u001b[0m\u001b[0;34m]\u001b[0m\u001b[0;34m\u001b[0m\u001b[0;34m\u001b[0m\u001b[0m\n\u001b[1;32m   3461\u001b[0m         \u001b[0;32mfor\u001b[0m \u001b[0mlayer\u001b[0m \u001b[0;32min\u001b[0m \u001b[0mself\u001b[0m\u001b[0;34m.\u001b[0m\u001b[0m_self_tracked_trackables\u001b[0m\u001b[0;34m:\u001b[0m\u001b[0;34m\u001b[0m\u001b[0;34m\u001b[0m\u001b[0m\n",
            "\u001b[0;32m/usr/local/lib/python3.10/dist-packages/keras/src/engine/sequential.py\u001b[0m in \u001b[0;36m_assert_weights_created\u001b[0;34m(self)\u001b[0m\n\u001b[1;32m    507\u001b[0m         \u001b[0;31m# When the graph has not been initialized, use the Model's\u001b[0m\u001b[0;34m\u001b[0m\u001b[0;34m\u001b[0m\u001b[0m\n\u001b[1;32m    508\u001b[0m         \u001b[0;31m# implementation to to check if the weights has been created.\u001b[0m\u001b[0;34m\u001b[0m\u001b[0;34m\u001b[0m\u001b[0m\n\u001b[0;32m--> 509\u001b[0;31m         \u001b[0msuper\u001b[0m\u001b[0;34m(\u001b[0m\u001b[0mfunctional\u001b[0m\u001b[0;34m.\u001b[0m\u001b[0mFunctional\u001b[0m\u001b[0;34m,\u001b[0m \u001b[0mself\u001b[0m\u001b[0;34m)\u001b[0m\u001b[0;34m.\u001b[0m\u001b[0m_assert_weights_created\u001b[0m\u001b[0;34m(\u001b[0m\u001b[0;34m)\u001b[0m\u001b[0;34m\u001b[0m\u001b[0;34m\u001b[0m\u001b[0m\n\u001b[0m\u001b[1;32m    510\u001b[0m \u001b[0;34m\u001b[0m\u001b[0m\n\u001b[1;32m    511\u001b[0m \u001b[0;34m\u001b[0m\u001b[0m\n",
            "\u001b[0;32m/usr/local/lib/python3.10/dist-packages/keras/src/engine/training.py\u001b[0m in \u001b[0;36m_assert_weights_created\u001b[0;34m(self)\u001b[0m\n\u001b[1;32m   3836\u001b[0m             \u001b[0;31m# Also make sure to exclude Model class itself which has build()\u001b[0m\u001b[0;34m\u001b[0m\u001b[0;34m\u001b[0m\u001b[0m\n\u001b[1;32m   3837\u001b[0m             \u001b[0;31m# defined.\u001b[0m\u001b[0;34m\u001b[0m\u001b[0;34m\u001b[0m\u001b[0m\n\u001b[0;32m-> 3838\u001b[0;31m             raise ValueError(\n\u001b[0m\u001b[1;32m   3839\u001b[0m                 \u001b[0;34mf\"Weights for model '{self.name}' have not yet been \"\u001b[0m\u001b[0;34m\u001b[0m\u001b[0;34m\u001b[0m\u001b[0m\n\u001b[1;32m   3840\u001b[0m                 \u001b[0;34m\"created. \"\u001b[0m\u001b[0;34m\u001b[0m\u001b[0;34m\u001b[0m\u001b[0m\n",
            "\u001b[0;31mValueError\u001b[0m: Weights for model 'sequential_6' have not yet been created. Weights are created when the model is first called on inputs or `build()` is called with an `input_shape`."
          ]
        }
      ]
    },
    {
      "cell_type": "markdown",
      "source": [
        "Веса создаются, когда модель впервые видит некоторые входные данные:"
      ],
      "metadata": {
        "id": "Yw3WWScpXw9J"
      }
    },
    {
      "cell_type": "code",
      "source": [
        "model = keras.Sequential(\n",
        "    [\n",
        "        layers.Dense(2, activation=\"relu\"),\n",
        "        layers.Dense(3, activation=\"relu\"),\n",
        "        layers.Dense(4),\n",
        "    ]\n",
        ")\n",
        "\n",
        "x = tf.ones((1, 4))\n",
        "y = model(x)\n",
        "print(\"Число весов после вызова модели:\", len(model.weights))  # 6"
      ],
      "metadata": {
        "colab": {
          "base_uri": "https://localhost:8080/"
        },
        "id": "OLcK5sniZIHW",
        "outputId": "47d8e4eb-1ea4-4a77-a813-db1fed5ab950"
      },
      "execution_count": null,
      "outputs": [
        {
          "output_type": "stream",
          "name": "stdout",
          "text": [
            "Число весов после вызова модели: 6\n"
          ]
        }
      ]
    },
    {
      "cell_type": "markdown",
      "source": [
        "После того, как модель «построена», можно вызвать ее метод `summary()`, чтобы отобразить ее содержимое:"
      ],
      "metadata": {
        "id": "IpU2eM23aceo"
      }
    },
    {
      "cell_type": "code",
      "source": [
        "model.summary()"
      ],
      "metadata": {
        "colab": {
          "base_uri": "https://localhost:8080/"
        },
        "id": "-Ix-wmi4iCi3",
        "outputId": "1259805f-5ce3-4229-cd13-7f8fa586e966"
      },
      "execution_count": null,
      "outputs": [
        {
          "output_type": "stream",
          "name": "stdout",
          "text": [
            "Model: \"sequential_7\"\n",
            "_________________________________________________________________\n",
            " Layer (type)                Output Shape              Param #   \n",
            "=================================================================\n",
            " dense_10 (Dense)            (1, 2)                    10        \n",
            "                                                                 \n",
            " dense_11 (Dense)            (1, 3)                    9         \n",
            "                                                                 \n",
            " dense_12 (Dense)            (1, 4)                    16        \n",
            "                                                                 \n",
            "=================================================================\n",
            "Total params: 35 (140.00 Byte)\n",
            "Trainable params: 35 (140.00 Byte)\n",
            "Non-trainable params: 0 (0.00 Byte)\n",
            "_________________________________________________________________\n"
          ]
        }
      ]
    },
    {
      "cell_type": "markdown",
      "source": [
        "Однако при поэтапном добавлении слоев в модель Sequential появляется необходимость отображать сводку модели на данный момент, включая текущую выходную форму. В этом случае, вы должны передать Input объект вашей модели, чтобы она с самого начала знала свою входную форму:"
      ],
      "metadata": {
        "id": "jN-rDt6_iFhN"
      }
    },
    {
      "cell_type": "code",
      "source": [
        "model = keras.Sequential()\n",
        "model.add(keras.Input(shape=(4,)))\n",
        "model.add(layers.Dense(2, activation=\"relu\"))\n",
        "\n",
        "model.summary()"
      ],
      "metadata": {
        "colab": {
          "base_uri": "https://localhost:8080/"
        },
        "id": "Z1tHezWAiw9z",
        "outputId": "dcf71dc7-07c2-4b9b-ef6e-735323a7a2c6"
      },
      "execution_count": null,
      "outputs": [
        {
          "output_type": "stream",
          "name": "stdout",
          "text": [
            "Model: \"sequential_8\"\n",
            "_________________________________________________________________\n",
            " Layer (type)                Output Shape              Param #   \n",
            "=================================================================\n",
            " dense_13 (Dense)            (None, 2)                 10        \n",
            "                                                                 \n",
            "=================================================================\n",
            "Total params: 10 (40.00 Byte)\n",
            "Trainable params: 10 (40.00 Byte)\n",
            "Non-trainable params: 0 (0.00 Byte)\n",
            "_________________________________________________________________\n"
          ]
        }
      ]
    },
    {
      "cell_type": "markdown",
      "source": [
        "Обратите внимание, что `Input` объект не отображается как часть `model.layers`, так как это не слой:"
      ],
      "metadata": {
        "id": "t2KLjXcVjDbP"
      }
    },
    {
      "cell_type": "code",
      "source": [
        "model.layers"
      ],
      "metadata": {
        "colab": {
          "base_uri": "https://localhost:8080/"
        },
        "id": "Qn2howMFjKp3",
        "outputId": "0039d663-db66-484a-ac52-ba8cc9462091"
      },
      "execution_count": null,
      "outputs": [
        {
          "output_type": "execute_result",
          "data": {
            "text/plain": [
              "[<keras.src.layers.core.dense.Dense at 0x7823e3798d90>]"
            ]
          },
          "metadata": {},
          "execution_count": 20
        }
      ]
    },
    {
      "cell_type": "markdown",
      "source": [
        "Существует альтернатива - это просто передать `input_shape` аргумент первого слоя:"
      ],
      "metadata": {
        "id": "58qAv1njjSbz"
      }
    },
    {
      "cell_type": "code",
      "source": [
        "model = keras.Sequential()\n",
        "model.add(layers.Dense(2, activation=\"relu\", input_shape=(4,)))\n",
        "\n",
        "model.summary()"
      ],
      "metadata": {
        "colab": {
          "base_uri": "https://localhost:8080/"
        },
        "id": "kL1EpiepjlzE",
        "outputId": "2d6fb3a0-6f45-4716-e938-ef18fcc0d4a4"
      },
      "execution_count": null,
      "outputs": [
        {
          "output_type": "stream",
          "name": "stdout",
          "text": [
            "Model: \"sequential_9\"\n",
            "_________________________________________________________________\n",
            " Layer (type)                Output Shape              Param #   \n",
            "=================================================================\n",
            " dense_14 (Dense)            (None, 2)                 10        \n",
            "                                                                 \n",
            "=================================================================\n",
            "Total params: 10 (40.00 Byte)\n",
            "Trainable params: 10 (40.00 Byte)\n",
            "Non-trainable params: 0 (0.00 Byte)\n",
            "_________________________________________________________________\n"
          ]
        }
      ]
    },
    {
      "cell_type": "markdown",
      "source": [
        "Модели, построенные с такой предопределенной входной формой, всегда имеют вес (даже до того, как будут показаны какие-либо данные) и всегда имеют определенную выходную форму.\n",
        "\n",
        "Как правило, рекомендуется всегда заранее указывать входную форму последовательной модели, если вы знаете, с какими данными работает модель."
      ],
      "metadata": {
        "id": "vnlUZ2ygjt0S"
      }
    },
    {
      "cell_type": "markdown",
      "source": [
        "Входная форма и входной слой поначалу могут сбивать с толку. Это\n",
        "не одно и то же. Выражаясь конкретнее, число узлов во входном слое\n",
        "не обязательно должно соответствовать форме входного вектора. Это\n",
        "связано с тем, что каждый элемент во входном векторе будет передаваться каждому узлу во входном слое:\n"
      ],
      "metadata": {
        "id": "Ihn2c0I-kyPh"
      }
    },
    {
      "cell_type": "markdown",
      "source": [
        "![image.png](data:image/png;base64,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)"
      ],
      "metadata": {
        "id": "cuxWyX2Zk7wT"
      }
    },
    {
      "cell_type": "markdown",
      "source": [
        "Например, если входной слой состоит из 10 узлов и мы используем пример с недвижимостью (см. выше) с 13-элементным входным вектором, то между\n",
        "входным вектором и входным слоем будет 130 соединений (10 × 13).\n",
        "\n",
        "Каждое соединение между элементом во входном векторе и  узлом во входном слое имеет вес, и каждый узел во входном слое имеет смещение. Думайте о каждом соединении между входным вектором и входным слоем, а также о соединениях между слоями как о пересылке сигнала, сообщающего о том, насколько сильно он верит, что входное значение будет способствовать предсказаниям модели.\n",
        "\n",
        "Нам нужно измерить силу данного сигнала, и это как раз и делает вес. Это\n",
        "коэффициент, который умножается на входное значение для входного слоя и предыдущее значение для последующих слоев.\n",
        "\n",
        "Каждое из этих соединений выглядит как вектор на плоскости $xy$. В идеале мы хотим, чтобы каждый такой вектор пересекал ось $y$ в одной и той же центральной точке (например, в начале координат). Но они не пересекают. Для того чтобы сделать векторы относительными друг другу, существует смещение, т. е. сдвиг каждого вектора от центральной точки на оси $y$.\n",
        "\n",
        "Веса и смещения – это то, что нейронная сеть будет «усваивать» во время обучения (тренировки). Веса и смещения также называются параметрами. Указанные значения остаются в модели после ее обучения."
      ],
      "metadata": {
        "id": "u5bSQ3v1k7gY"
      }
    },
    {
      "cell_type": "markdown",
      "source": [
        "#### Метод функционального API"
      ],
      "metadata": {
        "id": "VwN_Df_XJWoO"
      }
    },
    {
      "cell_type": "markdown",
      "source": [
        "Метод функционального API более продвинут, он позволяет создавать модели, которые не являются последовательными в потоке, такие как ветви, отождествляющие связи и многочисленные входы и выходы.\n",
        "\n",
        "Т.е. мы строим слои отдельно, а затем связываем их вместе. Этот последний\n",
        "шаг дает вам свободу соединять слои в творческом ключе. По сути, для нейронной сети прямого распространения мы создаем слои, привязываем их к еще одному слою или слоям, а затем собираем все слои в финальной инстанциации библиотечного класса Model.\n"
      ],
      "metadata": {
        "id": "tTdAeECCoHCd"
      }
    },
    {
      "cell_type": "markdown",
      "source": [
        "Рассмотрим нашу задачу со стоимостью дома с 13 параметрами.\n",
        "\n",
        "Сначала мы должны создать входной вектор с помощью класса Input. Задаем форму входных данных, которая может быть вектором, матрицей либо тензором. В нашем примере - это вектор длиной 13 элементов."
      ],
      "metadata": {
        "id": "5eQdFljnoG_U"
      }
    },
    {
      "cell_type": "code",
      "source": [
        "from tensorflow.keras import Input, Model\n",
        "from tensorflow.keras.layers import Dense\n",
        "\n",
        "inputs = Input(shape=(13,), name=\"Input\")"
      ],
      "metadata": {
        "id": "L7PR4ii5n5_y"
      },
      "execution_count": null,
      "outputs": []
    },
    {
      "cell_type": "markdown",
      "source": [
        "Далее мы создаем входной слой, используя библиотечный класс Dense. Позиционным параметром для объекта Dense является число узлов, которое в  нашем примере равно 10:\n"
      ],
      "metadata": {
        "id": "1uv-eluCoG7d"
      }
    },
    {
      "cell_type": "code",
      "source": [
        "input = Dense(10, activation=\"relu\")(inputs)"
      ],
      "metadata": {
        "id": "Zyb7OPYNwgGh"
      },
      "execution_count": null,
      "outputs": []
    },
    {
      "cell_type": "markdown",
      "source": [
        "Обратите внимание на следующий специфический синтаксис: `Dense(10, activation=\"relu\")(inputs)`. Класс Dense имеет тип `callable`, поэтому объект, возвращаемый при инициализации класса Dense, можно вызывать как функцию. Поэтому мы вызываем его как функцию, и функция принимает в качестве параметра входной вектор (или выходные данные предыдущего слоя) для его присоединения. Следовательно, мы передаем ему `inputs`, чтобы входной вектор был привязан к 10-узловому входному слою.\n",
        "\n",
        "\n"
      ],
      "metadata": {
        "id": "kbBGb1OOw8ex"
      }
    },
    {
      "cell_type": "markdown",
      "source": [
        "Затем мы создаем скрытый слой Dense c 10 узлами и связываем его с входным слоем:"
      ],
      "metadata": {
        "id": "HbITR79Xxylo"
      }
    },
    {
      "cell_type": "code",
      "source": [
        "hidden = Dense(10, activation=\"relu\")(input)"
      ],
      "metadata": {
        "id": "kPF44nSCxxoP"
      },
      "execution_count": null,
      "outputs": []
    },
    {
      "cell_type": "markdown",
      "source": [
        "Затем мы создаем выходной слой Dense c одним узлом и связываем его со скрытым слоем."
      ],
      "metadata": {
        "id": "nzg_eLLXyTP3"
      }
    },
    {
      "cell_type": "code",
      "source": [
        "output = Dense(1)(hidden)"
      ],
      "metadata": {
        "id": "wVdFtH05w8zc"
      },
      "execution_count": null,
      "outputs": []
    },
    {
      "cell_type": "markdown",
      "source": [
        "Наконец, мы собираем все это вместе, используя библиотечный\n",
        "класс Model, передав ему параметры для входного вектора и выходного слоя. Все остальные слои между ними уже соединены, поэтому при инстанцировании объекта Model() их указывать не нужно:\n"
      ],
      "metadata": {
        "id": "MA1c3ilGwgit"
      }
    },
    {
      "cell_type": "code",
      "source": [
        "model = Model(inputs, output)"
      ],
      "metadata": {
        "id": "rz6PNFdq1opG"
      },
      "execution_count": null,
      "outputs": []
    },
    {
      "cell_type": "markdown",
      "source": [
        "Во время тренировки или предсказывания каждый узел в слое будет выдавать значение узлам в следующем слое. Мы не хотим передавать значение как есть, а\n",
        "хотим изменять значение. Этот процесс называется активационной функцией.\n",
        "\n",
        "Активационные функции помогают нейронным сетям учиться быстрее и  лучше. Если активационная функция не указана, то по умолчанию значения с одного слоя передаются в следующий слой как есть, без изменений.\n",
        "\n",
        "В большинстве случаев вы будете использовать три активационные функции: выпрямленный линейный узел (rectified linear unit, аббр. ReLU), сигмоиду и софтмакс.\n",
        "\n",
        "ReLU обычно используется между слоями. Большое число экспериментов и исследований показали, что использование ReLU между слоями, дает наилучший результат при обучении модели в сравнении использования разных активационных функций между слоями (таких как, например, гиперболический тангенс)."
      ],
      "metadata": {
        "id": "RHXJ34eU1snp"
      }
    },
    {
      "cell_type": "markdown",
      "source": [
        "Давайте заглянем внутрь модельного объекта, чтобы убедиться, что мы построили именно то, что намеревались. Это можно сделать с помощью метода summary().  Он будет показывать сводную информацию в последовательном порядке по каждому слою:\n"
      ],
      "metadata": {
        "id": "FYoggcLFHvCr"
      }
    },
    {
      "cell_type": "code",
      "source": [
        "model.summary()"
      ],
      "metadata": {
        "colab": {
          "base_uri": "https://localhost:8080/"
        },
        "id": "L73fscpt4i0Y",
        "outputId": "354b964a-a2a6-47b2-bbf1-8253ad7b6149"
      },
      "execution_count": null,
      "outputs": [
        {
          "output_type": "stream",
          "name": "stdout",
          "text": [
            "Model: \"model\"\n",
            "_________________________________________________________________\n",
            " Layer (type)                Output Shape              Param #   \n",
            "=================================================================\n",
            " Input (InputLayer)          [(None, 13)]              0         \n",
            "                                                                 \n",
            " dense (Dense)               (None, 10)                140       \n",
            "                                                                 \n",
            " dense_1 (Dense)             (None, 10)                110       \n",
            "                                                                 \n",
            " dense_2 (Dense)             (None, 1)                 11        \n",
            "                                                                 \n",
            "=================================================================\n",
            "Total params: 261 (1.02 KB)\n",
            "Trainable params: 261 (1.02 KB)\n",
            "Non-trainable params: 0 (0.00 Byte)\n",
            "_________________________________________________________________\n"
          ]
        }
      ]
    },
    {
      "cell_type": "markdown",
      "source": [
        "Давайте посмотрим на поле параметров в сводке. Входной\n",
        "слой показывает 140 параметров. Как это число рассчитывается?\n",
        "У нас 13 входов и 10 узлов, так что 13×10 равно 130. Откуда берется\n",
        "140? Каждое соединение между входами и каждым узлом имеет вес,\n",
        "что в сумме составляет 130. Но у каждого узла есть дополнительное\n",
        "смещение. А это 10 узлов, стало быть, 130 + 10 = 140. Это еще раз подтверждает, что нейронная сеть будет «усваивать» веса и смещения во время тренировки. Смещение представляет собой усвоенный, или заученный, сдвиг, концептуально эквивалентный $y$-пересечению ($b$) в  наклоне линии, где линия пересекает ось $y$:\n",
        "\n",
        "$у = b + mx$"
      ],
      "metadata": {
        "id": "__ocoSfPExw1"
      }
    },
    {
      "cell_type": "markdown",
      "source": [
        "В следующем (скрытом) слое вы видите 110 параметров. Это 10 выходов из входного слоя, соединенного с каждым из 10 узлов скрытого слоя (10×10), плюс 10 смещений для узлов в скрытых слоях, в общей сложности 110 подлежащих усвоению параметров."
      ],
      "metadata": {
        "id": "Fdn_KcPpI-8V"
      }
    },
    {
      "cell_type": "markdown",
      "source": [
        "#### Компиляция модели"
      ],
      "metadata": {
        "id": "s3e62-j1Jr8p"
      }
    },
    {
      "cell_type": "markdown",
      "source": [
        "Когда мы построили модель, то настроили механизм, связанный с прямым распространением сигнала. Но чтобы обучить нашу сеть, мы должны сообщить нашей сети, как во время обучения выполнять обратное распространение. Это делается с помощью метода `compile()`.\n",
        "\n",
        "Давайте вспомним, что это такое.\n",
        "\n",
        "Всякий раз, когда мы отправляем данные (или пакет данных) по нейронной сети в прямом направлении, она вычисляет в предсказываемых результатах ошибки(потери) или отклонение от фактических значений (метки) и использует эту информацию для поступательной корректировки весов и смещений узлов. Это и есть процесс обучения (тренировки) модели.\n",
        "\n",
        "Вычисление ошибки, называется вычислением потерь. Ее можно вычислять различными способами. Поскольку сконструированный нами пример нейронной сети имеет вид регрессии (а значит, результат, цена дома, является действительной стоимостью), мы хотим использовать ту функцию потери, которая подходит для регрессии лучше всего. В нейронных сетях такого типа для расчета потери традиционно используется метод среднеквадратической ошибки.\n",
        "\n",
        "В Keras метод `compile()` принимает именованный параметр `loss`, используемый для указания метода расчета потери, который мы хотим применить. Мы собираемся передать ему значение `mse` (обозначающее среднеквадратическую ошибку, от англ. mean square error).\n",
        "\n",
        "Следующим шагом в  этом процессе является минимизирование потери с помощью оптимизатора. Эта работа выполняется во время обратного распространения. Оптимизатор основан на градиентном спуске, при этом можно выбирать разные варианты алгоритма градиентного спуска.\n",
        "\n",
        "По сути, всякий раз, когда мы пропускаем данные через нейронную сеть, мы используем рассчитанную потерю, чтобы решить, насколько сильно изменять веса и смещения в слоях. Цель – постепенно приближаться к правильным значениям весов и смещений, чтобы точно предсказывать или оценивать метку для каждого примера. Этот процесс поступательного приближения к точным значениям называется схождением. Задача оптимизатора состоит в том, чтобы рассчитать обновления весов, дабы поступательно приближаться к точным значениям и достичь схождения.\n",
        "По мере того как потеря постепенно уменьшается, мы сходимся.\n",
        "\n",
        "После того как потеря выйдет на плато, у нас будет схождение. Результатом является точность нейронной сети. До использования градиентного спуска отыскание схождения на нетривиальной задаче при помощи методов, использовавшихся ранними исследователями ИИ, могло занимать годы вычислений на суперкомпьютере. После открытия применимости алгоритма градиентного спуска это время было сокращено до дней, часов и даже нескольких минут в условиях обычной вычислительной мощности.\n",
        "\n",
        "В нашей задаче, мы будем использовать метод rmsprop:\n"
      ],
      "metadata": {
        "id": "IEM9x5JLJvog"
      }
    },
    {
      "cell_type": "code",
      "source": [
        "model.compile(loss='mse', optimizer='rmsprop')"
      ],
      "metadata": {
        "id": "pc9gePdhPeC4"
      },
      "execution_count": null,
      "outputs": []
    },
    {
      "cell_type": "markdown",
      "source": [
        "Вообще с помощью нашей нейронной сети можно решать три разных класса задач, изменяя только функцию активации в выходном слое, функцию потерь и оптимизатор. А именно задачу регрессии (задача о цене на дом), бинарной классификации (последний слой с функцией активации - сигмоида) и мультиклассовой классификации (последний слой с функцией активации - софтмакс)."
      ],
      "metadata": {
        "id": "--biSF3GTaju"
      }
    },
    {
      "cell_type": "markdown",
      "source": [
        "### Задача о цене дома"
      ],
      "metadata": {
        "id": "4zyMNu9-UkQC"
      }
    },
    {
      "cell_type": "markdown",
      "source": [
        "А теперь, используя знания, полученные выше, попытаемся предсказать медианную цену на дома в пригороде Бостона в середине 1970-х по таким данным о пригороде того времени, как уровень преступности, ставка местного имущественного налога и т. д. Набор данных, который нам предстоит использовать, содержит относительно немного образцов данных: всего 506, разбитых на 404 обучающих и 102 контрольных образца. И каждый признак во входных данных (например, уровень преступности) имеет свой масштаб. Например, некоторые признаки являются пропорциями и имеют значения между 0 и 1, другие — между 1 и 12 и т. д.\n",
        "\n"
      ],
      "metadata": {
        "id": "P-U4w7HHUt0r"
      }
    },
    {
      "cell_type": "markdown",
      "source": [
        "Данный датасет содержится в самом модуле Keras:"
      ],
      "metadata": {
        "id": "KvU5bSGGWRcX"
      }
    },
    {
      "cell_type": "code",
      "source": [
        "from keras.datasets import boston_housing\n",
        "(train_data, train_targets), (test_data, test_targets) = boston_housing.load_data()\n"
      ],
      "metadata": {
        "colab": {
          "base_uri": "https://localhost:8080/"
        },
        "id": "OMYnzpy1WJoL",
        "outputId": "e29a943d-9a1b-49d2-8f20-3f3cfef72c7d"
      },
      "execution_count": null,
      "outputs": [
        {
          "output_type": "stream",
          "name": "stdout",
          "text": [
            "Downloading data from https://storage.googleapis.com/tensorflow/tf-keras-datasets/boston_housing.npz\n",
            "57026/57026 [==============================] - 0s 0us/step\n"
          ]
        }
      ]
    },
    {
      "cell_type": "markdown",
      "source": [
        "Посмотрим на данные:"
      ],
      "metadata": {
        "id": "A5VD4n0hWPJe"
      }
    },
    {
      "cell_type": "code",
      "source": [
        "train_data.shape"
      ],
      "metadata": {
        "colab": {
          "base_uri": "https://localhost:8080/"
        },
        "id": "cNK2QcpyWeHs",
        "outputId": "d9ff4e72-f086-44d9-ef02-fdb81542a40b"
      },
      "execution_count": null,
      "outputs": [
        {
          "output_type": "execute_result",
          "data": {
            "text/plain": [
              "(404, 13)"
            ]
          },
          "metadata": {},
          "execution_count": 2
        }
      ]
    },
    {
      "cell_type": "code",
      "source": [
        "test_data.shape"
      ],
      "metadata": {
        "colab": {
          "base_uri": "https://localhost:8080/"
        },
        "id": "vFCiZ1z1WgmL",
        "outputId": "82367faf-9841-4ea9-ca85-3937b20d1088"
      },
      "execution_count": null,
      "outputs": [
        {
          "output_type": "execute_result",
          "data": {
            "text/plain": [
              "(102, 13)"
            ]
          },
          "metadata": {},
          "execution_count": 3
        }
      ]
    },
    {
      "cell_type": "markdown",
      "source": [
        "Как видите, у нас имеются 404 обучающих и 102 контрольных образца, каждый\n",
        "с 13 числовыми признаками, такими как уровень преступности, среднее число\n",
        "комнат в доме, удаленность от центральных дорог и т. д.\n",
        "\n",
        "Метки — медианные значения цен на дома, занимаемые собственниками, в тысячах\n",
        "долларов:"
      ],
      "metadata": {
        "id": "at8wEwIOWmdz"
      }
    },
    {
      "cell_type": "code",
      "source": [
        "train_targets"
      ],
      "metadata": {
        "colab": {
          "base_uri": "https://localhost:8080/"
        },
        "id": "UodRs7NsXlqi",
        "outputId": "65b9a0d2-3166-479f-ae8d-0c2047340b87"
      },
      "execution_count": null,
      "outputs": [
        {
          "output_type": "execute_result",
          "data": {
            "text/plain": [
              "array([15.2, 42.3, 50. , 21.1, 17.7, 18.5, 11.3, 15.6, 15.6, 14.4, 12.1,\n",
              "       17.9, 23.1, 19.9, 15.7,  8.8, 50. , 22.5, 24.1, 27.5, 10.9, 30.8,\n",
              "       32.9, 24. , 18.5, 13.3, 22.9, 34.7, 16.6, 17.5, 22.3, 16.1, 14.9,\n",
              "       23.1, 34.9, 25. , 13.9, 13.1, 20.4, 20. , 15.2, 24.7, 22.2, 16.7,\n",
              "       12.7, 15.6, 18.4, 21. , 30.1, 15.1, 18.7,  9.6, 31.5, 24.8, 19.1,\n",
              "       22. , 14.5, 11. , 32. , 29.4, 20.3, 24.4, 14.6, 19.5, 14.1, 14.3,\n",
              "       15.6, 10.5,  6.3, 19.3, 19.3, 13.4, 36.4, 17.8, 13.5, 16.5,  8.3,\n",
              "       14.3, 16. , 13.4, 28.6, 43.5, 20.2, 22. , 23. , 20.7, 12.5, 48.5,\n",
              "       14.6, 13.4, 23.7, 50. , 21.7, 39.8, 38.7, 22.2, 34.9, 22.5, 31.1,\n",
              "       28.7, 46. , 41.7, 21. , 26.6, 15. , 24.4, 13.3, 21.2, 11.7, 21.7,\n",
              "       19.4, 50. , 22.8, 19.7, 24.7, 36.2, 14.2, 18.9, 18.3, 20.6, 24.6,\n",
              "       18.2,  8.7, 44. , 10.4, 13.2, 21.2, 37. , 30.7, 22.9, 20. , 19.3,\n",
              "       31.7, 32. , 23.1, 18.8, 10.9, 50. , 19.6,  5. , 14.4, 19.8, 13.8,\n",
              "       19.6, 23.9, 24.5, 25. , 19.9, 17.2, 24.6, 13.5, 26.6, 21.4, 11.9,\n",
              "       22.6, 19.6,  8.5, 23.7, 23.1, 22.4, 20.5, 23.6, 18.4, 35.2, 23.1,\n",
              "       27.9, 20.6, 23.7, 28. , 13.6, 27.1, 23.6, 20.6, 18.2, 21.7, 17.1,\n",
              "        8.4, 25.3, 13.8, 22.2, 18.4, 20.7, 31.6, 30.5, 20.3,  8.8, 19.2,\n",
              "       19.4, 23.1, 23. , 14.8, 48.8, 22.6, 33.4, 21.1, 13.6, 32.2, 13.1,\n",
              "       23.4, 18.9, 23.9, 11.8, 23.3, 22.8, 19.6, 16.7, 13.4, 22.2, 20.4,\n",
              "       21.8, 26.4, 14.9, 24.1, 23.8, 12.3, 29.1, 21. , 19.5, 23.3, 23.8,\n",
              "       17.8, 11.5, 21.7, 19.9, 25. , 33.4, 28.5, 21.4, 24.3, 27.5, 33.1,\n",
              "       16.2, 23.3, 48.3, 22.9, 22.8, 13.1, 12.7, 22.6, 15. , 15.3, 10.5,\n",
              "       24. , 18.5, 21.7, 19.5, 33.2, 23.2,  5. , 19.1, 12.7, 22.3, 10.2,\n",
              "       13.9, 16.3, 17. , 20.1, 29.9, 17.2, 37.3, 45.4, 17.8, 23.2, 29. ,\n",
              "       22. , 18. , 17.4, 34.6, 20.1, 25. , 15.6, 24.8, 28.2, 21.2, 21.4,\n",
              "       23.8, 31. , 26.2, 17.4, 37.9, 17.5, 20. ,  8.3, 23.9,  8.4, 13.8,\n",
              "        7.2, 11.7, 17.1, 21.6, 50. , 16.1, 20.4, 20.6, 21.4, 20.6, 36.5,\n",
              "        8.5, 24.8, 10.8, 21.9, 17.3, 18.9, 36.2, 14.9, 18.2, 33.3, 21.8,\n",
              "       19.7, 31.6, 24.8, 19.4, 22.8,  7.5, 44.8, 16.8, 18.7, 50. , 50. ,\n",
              "       19.5, 20.1, 50. , 17.2, 20.8, 19.3, 41.3, 20.4, 20.5, 13.8, 16.5,\n",
              "       23.9, 20.6, 31.5, 23.3, 16.8, 14. , 33.8, 36.1, 12.8, 18.3, 18.7,\n",
              "       19.1, 29. , 30.1, 50. , 50. , 22. , 11.9, 37.6, 50. , 22.7, 20.8,\n",
              "       23.5, 27.9, 50. , 19.3, 23.9, 22.6, 15.2, 21.7, 19.2, 43.8, 20.3,\n",
              "       33.2, 19.9, 22.5, 32.7, 22. , 17.1, 19. , 15. , 16.1, 25.1, 23.7,\n",
              "       28.7, 37.2, 22.6, 16.4, 25. , 29.8, 22.1, 17.4, 18.1, 30.3, 17.5,\n",
              "       24.7, 12.6, 26.5, 28.7, 13.3, 10.4, 24.4, 23. , 20. , 17.8,  7. ,\n",
              "       11.8, 24.4, 13.8, 19.4, 25.2, 19.4, 19.4, 29.1])"
            ]
          },
          "metadata": {},
          "execution_count": 4
        }
      ]
    },
    {
      "cell_type": "markdown",
      "source": [
        "Цены в основной массе находятся в диапазоне от 10 000 до 50 000 долларов США.Это цены середины 1970-х годов и в них не были внесены поправки на инфляцию.\n"
      ],
      "metadata": {
        "id": "TTLsjwhhXpbi"
      }
    },
    {
      "cell_type": "markdown",
      "source": [
        "#### Подготовка данных"
      ],
      "metadata": {
        "id": "4oXgT8l9fsqm"
      }
    },
    {
      "cell_type": "markdown",
      "source": [
        "Было бы проблематично передать в нейронную сеть значения, имеющие самые разные диапазоны. Сеть, возможно, сможет автоматически адаптироваться к таким разнородным данным, однако это усложнит обучение.\n",
        "\n",
        "На практике к таким данным принято применять **нормализацию**: для каждого признака во входных данных (столбца в матрице входных данных) из каждого значения вычитается среднее по этому признаку, и разность делится на стандартное отклонение, в результате признак центрируется по нулевому значению и имеет стандартное отклонение, равное единице. Такую нормализацию легко выполнить с помощью Numpy:"
      ],
      "metadata": {
        "id": "H3gwQhJpX6qI"
      }
    },
    {
      "cell_type": "code",
      "source": [
        "mean = train_data.mean(axis=0) # Находим среднее значение по столбцам (по признакам)\n",
        "train_data -= mean # вычитаем среднее значение для каждого признака\n",
        "std = train_data.std(axis=0) # вычисляем стандартное отклонение\n",
        "train_data /= std # для каждого признака полученная разность делится на стандартное отклонение\n",
        "\n",
        "# повторяем процедуру для тестовых данных\n",
        "test_data -= mean\n",
        "test_data /= std\n"
      ],
      "metadata": {
        "id": "qKIYTh0tdVDk"
      },
      "execution_count": null,
      "outputs": []
    },
    {
      "cell_type": "markdown",
      "source": [
        "Обратите внимание на то, что величины, используемые для нормализации тестовых данных, вычисляются с использованием обучающих данных. Никогда не\n",
        "следует использовать в работе какие-либо значения, вычисленные по тестовым\n",
        "данным, даже для таких простых шагов, как нормализация данных."
      ],
      "metadata": {
        "id": "CvWkr7ATdqOp"
      }
    },
    {
      "cell_type": "markdown",
      "source": [
        "#### Построение модели"
      ],
      "metadata": {
        "id": "CuI9aIpmfx0e"
      }
    },
    {
      "cell_type": "markdown",
      "source": [
        "Из-за небольшого количества образцов мы будем использовать очень маленькую сеть с одним скрытым слоем. Однако вместо 10 нейронов во входном и скрытом слое будем использовать 64. В качестве практики, вы можете провести небольшое исследование и выяснить, какое число нейронов в слоях более оптимальное.\n",
        "Вообще говоря, чем меньше обучающих данных, тем скорее наступит переобучение, а использование маленькой сети — один из способов борьбы с ним."
      ],
      "metadata": {
        "id": "SxYuT2i2f1ZH"
      }
    },
    {
      "cell_type": "code",
      "source": [
        "from keras import models\n",
        "from keras import layers\n",
        "def build_model():\n",
        "    model = models.Sequential()\n",
        "    model.add(layers.Dense(64, activation='relu', input_shape=(train_data.shape[1],)))\n",
        "    model.add(layers.Dense(64, activation='relu'))\n",
        "    model.add(layers.Dense(1))\n",
        "    model.compile(optimizer='rmsprop', loss='mse', metrics=['mae'])\n",
        "    return model"
      ],
      "metadata": {
        "id": "uTS0-1TvgJFq"
      },
      "execution_count": null,
      "outputs": []
    },
    {
      "cell_type": "markdown",
      "source": [
        "Сеть заканчивается одномерным слоем, не имеющим функции активации (это линейный слой). Это типичная конфигурация для скалярной регрессии (целью которой является предсказание одного значения на непрерывной числовой прямой).\n",
        "\n",
        "Применение функции активации могло бы ограничить диапазон выходных значений. Например, если в последнем слое применить функцию активации `sigmoid`, сеть\n",
        "обучилась бы предсказывать только значения из диапазона между 0 и 1. В данном\n",
        "случае, с линейным последним слоем, сеть способна предсказывать значения из\n",
        "любого диапазона.\n",
        "\n"
      ],
      "metadata": {
        "id": "Nn4kPcsEg1PP"
      }
    },
    {
      "cell_type": "markdown",
      "source": [
        "Скомпилируем модель и построим график модели:"
      ],
      "metadata": {
        "id": "KDFybHVpuwow"
      }
    },
    {
      "cell_type": "code",
      "source": [
        "model = build_model()"
      ],
      "metadata": {
        "id": "3aZ0F7xUuLaG"
      },
      "execution_count": null,
      "outputs": []
    },
    {
      "cell_type": "code",
      "source": [
        "from keras import utils\n",
        "utils.plot_model(model, to_file='model_plot.png', show_shapes=True, show_layer_names=True, show_layer_activations=True)"
      ],
      "metadata": {
        "colab": {
          "base_uri": "https://localhost:8080/",
          "height": 422
        },
        "id": "Z68Ve1r7tzB6",
        "outputId": "5b57c2b7-3afe-44fe-f9a3-4948023f3822"
      },
      "execution_count": null,
      "outputs": [
        {
          "output_type": "execute_result",
          "data": {
            "image/png": "[encoded data removed]",
            "text/plain": [
              "<IPython.core.display.Image object>"
            ]
          },
          "metadata": {},
          "execution_count": 39
        }
      ]
    },
    {
      "cell_type": "markdown",
      "source": [
        "С помощью функции `plot_model()` модуля `utils` можно строить наглядную схему (граф) нейронной сети, она удобна для понимания более сложных моделей.\n",
        "\n",
        "Эта функция принимает следующие аргументы:\n",
        "\n",
        "* **model** - модель (обязательный параметр), схему которую вы хотите построить;\n",
        "* **to_file** - имя файла или путь к файлу (обязательный параметр), в который сохраняется схема;\n",
        "* **show_shapes** - надо ли показывать форму входных/выходных данных каждого слоя (по умолчанию **False**);\n",
        "* **show_layer_names** - надо ли показывать название каждого слоя (по умолчанию **True**);\n",
        "* **show_layer_activations** - надо ли показывать функцию активации каждого слоя (по умолчанию **False**)."
      ],
      "metadata": {
        "id": "03qx0BptvArs"
      }
    },
    {
      "cell_type": "markdown",
      "source": [
        "Обратите внимание на то, что сеть компилируется с функцией потерь `mse` — среднеквадратичная ошибка, вычисляющей квадрат разности между предсказанными и целевыми значениями (метками). Эта функция широко используется в задачах регрессии.\n",
        "\n",
        "Мы также задали новый параметр `metrics`. Метрики -это список показателей, которые вычисляются и их можно мониторить на этапе обучения. Так метрика `mae` — mean absolute error (средняя абсолютная ошибка). Это абсолютное значение разности между предсказанными и целевыми значениями. Например, значение MAE, равное 0,5, в этой задаче означает, что в среднем прогнозы отклоняются на 500 долларов США.\n"
      ],
      "metadata": {
        "id": "RdkkDbuTui92"
      }
    },
    {
      "cell_type": "markdown",
      "source": [
        "####  Обучение модели"
      ],
      "metadata": {
        "id": "_3plwo05nvXS"
      }
    },
    {
      "cell_type": "markdown",
      "source": [
        "А сейчас нам предстоит погрузиться в самый интересный процесс разработки ИИ: запустить обучение нейронной сети и наблюдать за процессом.\n",
        "\n",
        "Для этого необходимо вызвать метод модели `.fit()` и передать ему (позиционные параметры) данные для обучения - **train_data, train_targets**. Также мы определим и именные параметры:\n",
        "\n",
        "**batch_size** – размер батча, который указывает нейросети на то, сколько данных она будет обрабатывать за один раз.\n",
        "\n",
        "**epochs** – количество циклов обучения, то есть сколько раз нейронная сеть повторит просмотр и обучение на всех ваших данных.\n",
        "\n",
        "**verbose** – если 1 - выводить результат обучения, 0 - обучить без вывода тренировочного процесса.\n",
        "\n",
        "**validation_data** – кортеж с проверочными данными, на которых модель не обучается, однако вычисляет по ним метрики на каждом шаге обучения, что полезно для анализа качества модели.   \n"
      ],
      "metadata": {
        "id": "xvVyHQ9euHUS"
      }
    },
    {
      "cell_type": "code",
      "source": [
        "history = model.fit(train_data, train_targets, validation_data=(test_data, test_targets),\n",
        " epochs=100, batch_size=10, verbose=1)"
      ],
      "metadata": {
        "colab": {
          "base_uri": "https://localhost:8080/"
        },
        "id": "jy5qZUb8nuy0",
        "outputId": "1271324f-c779-42c6-e11e-d39ae7f89ba6"
      },
      "execution_count": null,
      "outputs": [
        {
          "output_type": "stream",
          "name": "stdout",
          "text": [
            "Epoch 1/100\n",
            "41/41 [==============================] - 1s 7ms/step - loss: 459.6474 - mae: 19.3725 - val_loss: 346.1582 - val_mae: 16.5668\n",
            "Epoch 2/100\n",
            "41/41 [==============================] - 0s 3ms/step - loss: 198.0045 - mae: 11.6581 - val_loss: 102.1672 - val_mae: 8.2792\n",
            "Epoch 3/100\n",
            "41/41 [==============================] - 0s 3ms/step - loss: 57.6992 - mae: 5.4997 - val_loss: 48.0299 - val_mae: 5.3777\n",
            "Epoch 4/100\n",
            "41/41 [==============================] - 0s 3ms/step - loss: 33.4516 - mae: 4.0521 - val_loss: 32.9344 - val_mae: 4.4327\n",
            "Epoch 5/100\n",
            "41/41 [==============================] - 0s 3ms/step - loss: 25.3760 - mae: 3.4072 - val_loss: 26.8011 - val_mae: 3.9756\n",
            "Epoch 6/100\n",
            "41/41 [==============================] - 0s 3ms/step - loss: 21.4112 - mae: 3.1273 - val_loss: 24.4241 - val_mae: 3.7183\n",
            "Epoch 7/100\n",
            "41/41 [==============================] - 0s 3ms/step - loss: 19.1116 - mae: 2.9944 - val_loss: 22.5321 - val_mae: 3.4765\n",
            "Epoch 8/100\n",
            "41/41 [==============================] - 0s 3ms/step - loss: 16.9735 - mae: 2.8411 - val_loss: 23.8903 - val_mae: 3.5497\n",
            "Epoch 9/100\n",
            "41/41 [==============================] - 0s 3ms/step - loss: 15.6527 - mae: 2.7651 - val_loss: 24.5864 - val_mae: 3.5442\n",
            "Epoch 10/100\n",
            "41/41 [==============================] - 0s 3ms/step - loss: 14.4154 - mae: 2.6654 - val_loss: 23.2438 - val_mae: 3.3981\n",
            "Epoch 11/100\n",
            "41/41 [==============================] - 0s 3ms/step - loss: 13.6560 - mae: 2.5988 - val_loss: 21.7718 - val_mae: 3.2315\n",
            "Epoch 12/100\n",
            "41/41 [==============================] - 0s 3ms/step - loss: 12.8971 - mae: 2.5017 - val_loss: 22.0353 - val_mae: 3.1706\n",
            "Epoch 13/100\n",
            "41/41 [==============================] - 0s 3ms/step - loss: 12.2775 - mae: 2.4454 - val_loss: 20.4977 - val_mae: 3.0509\n",
            "Epoch 14/100\n",
            "41/41 [==============================] - 0s 3ms/step - loss: 11.7406 - mae: 2.3982 - val_loss: 21.5282 - val_mae: 3.0669\n",
            "Epoch 15/100\n",
            "41/41 [==============================] - 0s 3ms/step - loss: 10.9090 - mae: 2.2852 - val_loss: 26.0055 - val_mae: 3.3676\n",
            "Epoch 16/100\n",
            "41/41 [==============================] - 0s 2ms/step - loss: 10.7946 - mae: 2.3427 - val_loss: 22.7023 - val_mae: 3.1408\n",
            "Epoch 17/100\n",
            "41/41 [==============================] - 0s 3ms/step - loss: 10.6184 - mae: 2.2706 - val_loss: 22.2778 - val_mae: 3.0095\n",
            "Epoch 18/100\n",
            "41/41 [==============================] - 0s 3ms/step - loss: 10.2164 - mae: 2.1929 - val_loss: 22.4089 - val_mae: 3.0117\n",
            "Epoch 19/100\n",
            "41/41 [==============================] - 0s 3ms/step - loss: 9.9687 - mae: 2.1789 - val_loss: 24.8864 - val_mae: 3.1292\n",
            "Epoch 20/100\n",
            "41/41 [==============================] - 0s 3ms/step - loss: 9.7012 - mae: 2.2244 - val_loss: 22.7038 - val_mae: 2.9323\n",
            "Epoch 21/100\n",
            "41/41 [==============================] - 0s 3ms/step - loss: 9.4763 - mae: 2.1194 - val_loss: 23.8679 - val_mae: 3.2784\n",
            "Epoch 22/100\n",
            "41/41 [==============================] - 0s 3ms/step - loss: 9.3525 - mae: 2.1596 - val_loss: 25.2428 - val_mae: 3.1014\n",
            "Epoch 23/100\n",
            "41/41 [==============================] - 0s 3ms/step - loss: 9.1889 - mae: 2.1043 - val_loss: 23.0719 - val_mae: 3.0154\n",
            "Epoch 24/100\n",
            "41/41 [==============================] - 0s 3ms/step - loss: 9.1437 - mae: 2.1078 - val_loss: 23.3945 - val_mae: 3.0710\n",
            "Epoch 25/100\n",
            "41/41 [==============================] - 0s 3ms/step - loss: 8.8227 - mae: 2.0553 - val_loss: 24.1122 - val_mae: 3.0491\n",
            "Epoch 26/100\n",
            "41/41 [==============================] - 0s 3ms/step - loss: 9.0404 - mae: 2.0781 - val_loss: 21.8035 - val_mae: 2.9030\n",
            "Epoch 27/100\n",
            "41/41 [==============================] - 0s 3ms/step - loss: 8.7350 - mae: 2.0635 - val_loss: 21.3603 - val_mae: 2.8301\n",
            "Epoch 28/100\n",
            "41/41 [==============================] - 0s 3ms/step - loss: 8.6708 - mae: 2.0496 - val_loss: 22.4449 - val_mae: 2.8833\n",
            "Epoch 29/100\n",
            "41/41 [==============================] - 0s 3ms/step - loss: 8.4681 - mae: 2.0102 - val_loss: 23.2564 - val_mae: 3.1240\n",
            "Epoch 30/100\n",
            "41/41 [==============================] - 0s 3ms/step - loss: 8.3813 - mae: 2.0255 - val_loss: 22.3627 - val_mae: 2.9130\n",
            "Epoch 31/100\n",
            "41/41 [==============================] - 0s 3ms/step - loss: 8.3484 - mae: 2.0092 - val_loss: 21.3484 - val_mae: 2.7887\n",
            "Epoch 32/100\n",
            "41/41 [==============================] - 0s 3ms/step - loss: 8.1538 - mae: 1.9834 - val_loss: 21.3540 - val_mae: 2.9507\n",
            "Epoch 33/100\n",
            "41/41 [==============================] - 0s 2ms/step - loss: 8.2264 - mae: 1.9970 - val_loss: 21.2498 - val_mae: 2.8560\n",
            "Epoch 34/100\n",
            "41/41 [==============================] - 0s 3ms/step - loss: 7.9671 - mae: 1.9656 - val_loss: 19.8437 - val_mae: 2.8296\n",
            "Epoch 35/100\n",
            "41/41 [==============================] - 0s 3ms/step - loss: 8.0236 - mae: 1.9778 - val_loss: 22.9313 - val_mae: 2.9504\n",
            "Epoch 36/100\n",
            "41/41 [==============================] - 0s 3ms/step - loss: 7.6695 - mae: 1.9593 - val_loss: 24.1462 - val_mae: 3.0047\n",
            "Epoch 37/100\n",
            "41/41 [==============================] - 0s 2ms/step - loss: 7.8209 - mae: 2.0040 - val_loss: 20.6731 - val_mae: 2.9027\n",
            "Epoch 38/100\n",
            "41/41 [==============================] - 0s 3ms/step - loss: 7.6880 - mae: 1.9219 - val_loss: 20.6455 - val_mae: 2.7227\n",
            "Epoch 39/100\n",
            "41/41 [==============================] - 0s 2ms/step - loss: 7.8661 - mae: 1.9708 - val_loss: 21.2940 - val_mae: 2.8342\n",
            "Epoch 40/100\n",
            "41/41 [==============================] - 0s 3ms/step - loss: 7.5843 - mae: 1.9430 - val_loss: 19.4300 - val_mae: 2.7442\n",
            "Epoch 41/100\n",
            "41/41 [==============================] - 0s 3ms/step - loss: 7.7829 - mae: 1.9099 - val_loss: 20.1669 - val_mae: 2.7887\n",
            "Epoch 42/100\n",
            "41/41 [==============================] - 0s 3ms/step - loss: 7.4635 - mae: 1.9158 - val_loss: 20.7906 - val_mae: 2.8497\n",
            "Epoch 43/100\n",
            "41/41 [==============================] - 0s 3ms/step - loss: 7.4483 - mae: 1.9341 - val_loss: 20.1469 - val_mae: 2.8245\n",
            "Epoch 44/100\n",
            "41/41 [==============================] - 0s 3ms/step - loss: 7.5507 - mae: 1.9083 - val_loss: 20.0221 - val_mae: 2.7787\n",
            "Epoch 45/100\n",
            "41/41 [==============================] - 0s 3ms/step - loss: 7.1440 - mae: 1.8716 - val_loss: 19.6424 - val_mae: 2.7249\n",
            "Epoch 46/100\n",
            "41/41 [==============================] - 0s 3ms/step - loss: 7.2677 - mae: 1.9023 - val_loss: 20.1506 - val_mae: 2.7505\n",
            "Epoch 47/100\n",
            "41/41 [==============================] - 0s 3ms/step - loss: 7.1014 - mae: 1.9063 - val_loss: 18.5594 - val_mae: 2.7169\n",
            "Epoch 48/100\n",
            "41/41 [==============================] - 0s 3ms/step - loss: 7.1175 - mae: 1.9011 - val_loss: 18.4853 - val_mae: 2.6554\n",
            "Epoch 49/100\n",
            "41/41 [==============================] - 0s 2ms/step - loss: 6.9559 - mae: 1.8581 - val_loss: 19.4490 - val_mae: 2.6574\n",
            "Epoch 50/100\n",
            "41/41 [==============================] - 0s 3ms/step - loss: 6.9750 - mae: 1.8631 - val_loss: 19.7694 - val_mae: 2.7575\n",
            "Epoch 51/100\n",
            "41/41 [==============================] - 0s 2ms/step - loss: 6.7356 - mae: 1.8555 - val_loss: 18.6658 - val_mae: 2.8003\n",
            "Epoch 52/100\n",
            "41/41 [==============================] - 0s 3ms/step - loss: 6.9382 - mae: 1.8732 - val_loss: 18.3815 - val_mae: 2.6596\n",
            "Epoch 53/100\n",
            "41/41 [==============================] - 0s 3ms/step - loss: 6.8502 - mae: 1.8697 - val_loss: 18.3497 - val_mae: 2.6717\n",
            "Epoch 54/100\n",
            "41/41 [==============================] - 0s 2ms/step - loss: 6.5582 - mae: 1.8221 - val_loss: 22.5279 - val_mae: 2.9447\n",
            "Epoch 55/100\n",
            "41/41 [==============================] - 0s 3ms/step - loss: 6.8022 - mae: 1.8546 - val_loss: 18.2350 - val_mae: 2.5903\n",
            "Epoch 56/100\n",
            "41/41 [==============================] - 0s 3ms/step - loss: 6.5579 - mae: 1.8158 - val_loss: 19.4162 - val_mae: 2.8509\n",
            "Epoch 57/100\n",
            "41/41 [==============================] - 0s 2ms/step - loss: 6.6346 - mae: 1.8228 - val_loss: 17.5858 - val_mae: 2.5676\n",
            "Epoch 58/100\n",
            "41/41 [==============================] - 0s 4ms/step - loss: 6.5210 - mae: 1.7886 - val_loss: 17.2573 - val_mae: 2.5875\n",
            "Epoch 59/100\n",
            "41/41 [==============================] - 0s 3ms/step - loss: 6.5148 - mae: 1.8190 - val_loss: 17.6424 - val_mae: 2.6229\n",
            "Epoch 60/100\n",
            "41/41 [==============================] - 0s 3ms/step - loss: 6.4448 - mae: 1.7897 - val_loss: 19.9132 - val_mae: 2.8648\n",
            "Epoch 61/100\n",
            "41/41 [==============================] - 0s 3ms/step - loss: 6.3717 - mae: 1.8010 - val_loss: 18.0646 - val_mae: 2.6331\n",
            "Epoch 62/100\n",
            "41/41 [==============================] - 0s 3ms/step - loss: 6.2528 - mae: 1.7713 - val_loss: 17.6636 - val_mae: 2.6270\n",
            "Epoch 63/100\n",
            "41/41 [==============================] - 0s 2ms/step - loss: 6.2748 - mae: 1.7999 - val_loss: 18.4673 - val_mae: 2.7128\n",
            "Epoch 64/100\n",
            "41/41 [==============================] - 0s 3ms/step - loss: 6.2520 - mae: 1.7582 - val_loss: 17.1404 - val_mae: 2.5491\n",
            "Epoch 65/100\n",
            "41/41 [==============================] - 0s 3ms/step - loss: 6.1400 - mae: 1.7726 - val_loss: 16.7841 - val_mae: 2.5662\n",
            "Epoch 66/100\n",
            "41/41 [==============================] - 0s 3ms/step - loss: 6.0472 - mae: 1.7016 - val_loss: 17.1079 - val_mae: 2.5382\n",
            "Epoch 67/100\n",
            "41/41 [==============================] - 0s 3ms/step - loss: 6.0741 - mae: 1.7736 - val_loss: 17.6391 - val_mae: 2.5881\n",
            "Epoch 68/100\n",
            "41/41 [==============================] - 0s 2ms/step - loss: 5.9998 - mae: 1.7383 - val_loss: 18.3561 - val_mae: 2.6769\n",
            "Epoch 69/100\n",
            "41/41 [==============================] - 0s 3ms/step - loss: 5.9089 - mae: 1.7308 - val_loss: 19.2496 - val_mae: 2.8531\n",
            "Epoch 70/100\n",
            "41/41 [==============================] - 0s 3ms/step - loss: 5.8845 - mae: 1.7048 - val_loss: 18.6244 - val_mae: 2.7580\n",
            "Epoch 71/100\n",
            "41/41 [==============================] - 0s 3ms/step - loss: 5.7501 - mae: 1.6987 - val_loss: 16.8247 - val_mae: 2.5443\n",
            "Epoch 72/100\n",
            "41/41 [==============================] - 0s 5ms/step - loss: 5.8379 - mae: 1.7150 - val_loss: 16.2620 - val_mae: 2.4822\n",
            "Epoch 73/100\n",
            "41/41 [==============================] - 0s 4ms/step - loss: 5.7357 - mae: 1.6928 - val_loss: 18.0258 - val_mae: 2.6939\n",
            "Epoch 74/100\n",
            "41/41 [==============================] - 0s 4ms/step - loss: 5.6931 - mae: 1.6992 - val_loss: 17.4011 - val_mae: 2.7074\n",
            "Epoch 75/100\n",
            "41/41 [==============================] - 0s 4ms/step - loss: 5.5847 - mae: 1.6937 - val_loss: 15.6107 - val_mae: 2.4944\n",
            "Epoch 76/100\n",
            "41/41 [==============================] - 0s 4ms/step - loss: 5.5477 - mae: 1.6872 - val_loss: 17.1914 - val_mae: 2.6262\n",
            "Epoch 77/100\n",
            "41/41 [==============================] - 0s 5ms/step - loss: 5.5415 - mae: 1.6826 - val_loss: 16.0551 - val_mae: 2.5374\n",
            "Epoch 78/100\n",
            "41/41 [==============================] - 0s 5ms/step - loss: 5.4031 - mae: 1.6642 - val_loss: 16.3824 - val_mae: 2.5106\n",
            "Epoch 79/100\n",
            "41/41 [==============================] - 0s 5ms/step - loss: 5.3747 - mae: 1.6314 - val_loss: 16.8458 - val_mae: 2.6402\n",
            "Epoch 80/100\n",
            "41/41 [==============================] - 0s 4ms/step - loss: 5.4683 - mae: 1.6485 - val_loss: 16.4705 - val_mae: 2.4972\n",
            "Epoch 81/100\n",
            "41/41 [==============================] - 0s 5ms/step - loss: 5.4168 - mae: 1.6417 - val_loss: 16.6656 - val_mae: 2.5453\n",
            "Epoch 82/100\n",
            "41/41 [==============================] - 0s 4ms/step - loss: 5.5033 - mae: 1.6500 - val_loss: 16.5782 - val_mae: 2.5710\n",
            "Epoch 83/100\n",
            "41/41 [==============================] - 0s 4ms/step - loss: 5.2692 - mae: 1.5986 - val_loss: 17.9040 - val_mae: 2.7620\n",
            "Epoch 84/100\n",
            "41/41 [==============================] - 0s 5ms/step - loss: 5.3548 - mae: 1.6493 - val_loss: 16.2090 - val_mae: 2.5483\n",
            "Epoch 85/100\n",
            "41/41 [==============================] - 0s 4ms/step - loss: 5.1232 - mae: 1.6021 - val_loss: 16.1226 - val_mae: 2.5624\n",
            "Epoch 86/100\n",
            "41/41 [==============================] - 0s 4ms/step - loss: 5.4560 - mae: 1.6889 - val_loss: 16.2109 - val_mae: 2.5490\n",
            "Epoch 87/100\n",
            "41/41 [==============================] - 0s 5ms/step - loss: 5.1541 - mae: 1.6084 - val_loss: 16.3281 - val_mae: 2.6130\n",
            "Epoch 88/100\n",
            "41/41 [==============================] - 0s 5ms/step - loss: 5.0456 - mae: 1.6012 - val_loss: 15.8828 - val_mae: 2.5175\n",
            "Epoch 89/100\n",
            "41/41 [==============================] - 0s 4ms/step - loss: 5.1173 - mae: 1.5990 - val_loss: 14.9727 - val_mae: 2.4738\n",
            "Epoch 90/100\n",
            "41/41 [==============================] - 0s 5ms/step - loss: 4.8792 - mae: 1.5634 - val_loss: 17.4451 - val_mae: 2.6742\n",
            "Epoch 91/100\n",
            "41/41 [==============================] - 0s 4ms/step - loss: 4.9652 - mae: 1.5754 - val_loss: 15.5625 - val_mae: 2.5041\n",
            "Epoch 92/100\n",
            "41/41 [==============================] - 0s 4ms/step - loss: 5.0548 - mae: 1.6095 - val_loss: 17.3678 - val_mae: 2.6844\n",
            "Epoch 93/100\n",
            "41/41 [==============================] - 0s 4ms/step - loss: 5.0069 - mae: 1.6028 - val_loss: 14.6830 - val_mae: 2.3987\n",
            "Epoch 94/100\n",
            "41/41 [==============================] - 0s 5ms/step - loss: 4.9378 - mae: 1.5588 - val_loss: 16.1509 - val_mae: 2.5208\n",
            "Epoch 95/100\n",
            "41/41 [==============================] - 0s 3ms/step - loss: 4.9105 - mae: 1.5791 - val_loss: 15.7518 - val_mae: 2.4768\n",
            "Epoch 96/100\n",
            "41/41 [==============================] - 0s 5ms/step - loss: 4.8429 - mae: 1.5578 - val_loss: 15.7577 - val_mae: 2.4586\n",
            "Epoch 97/100\n",
            "41/41 [==============================] - 0s 4ms/step - loss: 4.8187 - mae: 1.5755 - val_loss: 14.9927 - val_mae: 2.4752\n",
            "Epoch 98/100\n",
            "41/41 [==============================] - 0s 4ms/step - loss: 4.6722 - mae: 1.5236 - val_loss: 15.2995 - val_mae: 2.5023\n",
            "Epoch 99/100\n",
            "41/41 [==============================] - 0s 5ms/step - loss: 4.4879 - mae: 1.5070 - val_loss: 16.9409 - val_mae: 2.5588\n",
            "Epoch 100/100\n",
            "41/41 [==============================] - 0s 4ms/step - loss: 4.7785 - mae: 1.5060 - val_loss: 15.5705 - val_mae: 2.5155\n"
          ]
        }
      ]
    },
    {
      "cell_type": "markdown",
      "source": [
        "Процесс обучения модели мы сохранили в переменную history и теперь можем ее визуализировать. При компиляции модели мы выбрали метрику `mae`, а также в методе `fit` задали кортеж `validation_data`, поэтому в переменной history будут сохранены значения вычисленного `mae` (на обучающей выборке) и `val_mae` (`mae` на проверочной выборке) на каждом шаге обучения (эпохе)."
      ],
      "metadata": {
        "id": "DVsI6VVB8FL-"
      }
    },
    {
      "cell_type": "code",
      "source": [
        "# Отрисовка графиков\n",
        "import matplotlib.pyplot as plt\n",
        "%matplotlib inline\n",
        "\n",
        "plt.plot(history.history['mae'], label='Средняя абсолютная ошибка на обучающем наборе')\n",
        "plt.plot(history.history['val_mae'], label='Средняя абсолютная ошибка на проверочном наборе')\n",
        "plt.xlabel('Эпоха обучения')\n",
        "plt.ylabel('Средняя абсолютная ошибка')\n",
        "plt.legend()\n",
        "plt.show()"
      ],
      "metadata": {
        "colab": {
          "base_uri": "https://localhost:8080/",
          "height": 450
        },
        "id": "8bsSwXC6sFCG",
        "outputId": "39303952-bc6d-43ac-c4ce-c8f190bc5739"
      },
      "execution_count": null,
      "outputs": [
        {
          "output_type": "display_data",
          "data": {
            "text/plain": [
              "<Figure size 640x480 with 1 Axes>"
            ],
            "image/png": "[encoded data removed]"
          },
          "metadata": {}
        }
      ]
    },
    {
      "cell_type": "markdown",
      "source": [
        "Как видно из графика, средняя абсолютная ошибка на обеих выборках снижается с каждой эпохой, что наглядно показывает, что сеть обучается. Так как наша модель не обучалась на проверочной выборке и видит ее впервые, то логично ожидать, что ошибка будет выше, чем на обучающем наборе. Что и можно наблюдать на графике."
      ],
      "metadata": {
        "id": "hMI71Bjw-mFO"
      }
    },
    {
      "cell_type": "markdown",
      "source": [
        "#### Сохранение и загрузка обученных моделей"
      ],
      "metadata": {
        "id": "RbtPRxFKwdxX"
      }
    },
    {
      "cell_type": "markdown",
      "source": [
        "Теперь мы можем сохранить веса нашей модели, чтобы потом снова их загрузить в модель и снова использовать:"
      ],
      "metadata": {
        "id": "68RRvJM6xHqj"
      }
    },
    {
      "cell_type": "code",
      "source": [
        "# Сохранение весов модели в файл\n",
        "model.save_weights('boston.h5')\n",
        "\n",
        "# Загрузка весов модели из файла\n",
        "model.load_weights('boston.h5')"
      ],
      "metadata": {
        "id": "QZvJr0k3xHUZ"
      },
      "execution_count": null,
      "outputs": []
    },
    {
      "cell_type": "markdown",
      "source": [
        "Сохранение весов модели произойдёт в хранилище виртуальной машины ноутбука. Найти сохраненный файл можно, нажав на иконку **\"Файлы\"** в левой части рабочего пространства Google Colab.\n",
        "\n",
        "В этом случае при завершении сеанса все файлы будут удалены вместе с виртуальной машиной.\n",
        "\n",
        "Если необходимо воспользоваться файлами в дальнейшем, можно сохранить их на свой Google-диск. Для этого необходимо подключить его:\n"
      ],
      "metadata": {
        "id": "yagzON5ywkkl"
      }
    },
    {
      "cell_type": "code",
      "source": [
        "from google.colab import drive\n",
        "drive.mount('/content/drive/')"
      ],
      "metadata": {
        "colab": {
          "base_uri": "https://localhost:8080/"
        },
        "id": "14lAE_BzyIY4",
        "outputId": "2fa9c840-8853-4b9e-cc51-0df7f0f28c39"
      },
      "execution_count": null,
      "outputs": [
        {
          "output_type": "stream",
          "name": "stdout",
          "text": [
            "Drive already mounted at /content/drive/; to attempt to forcibly remount, call drive.mount(\"/content/drive/\", force_remount=True).\n"
          ]
        }
      ]
    },
    {
      "cell_type": "markdown",
      "source": [
        "\n",
        "Далее необходимо перейти по ссылке и разрешить доступ. После этого данные можно загружать на диск, указывая полный путь для сохранения на диске, например:\n"
      ],
      "metadata": {
        "id": "DxO65_xGxFG0"
      }
    },
    {
      "cell_type": "code",
      "source": [
        "model.save_weights('/content/drive/MyDrive/Colab Notebooks/boston.h5')"
      ],
      "metadata": {
        "id": "t8zw6fians8k"
      },
      "execution_count": null,
      "outputs": []
    },
    {
      "cell_type": "markdown",
      "source": [
        "#### Как оценить модель?\n",
        "\n"
      ],
      "metadata": {
        "id": "b6kNC6KJ0C5x"
      }
    },
    {
      "cell_type": "markdown",
      "source": [
        "Очень важно для разработчика ИИ, а также специалиста по DataScience уметь интерпретировать полученные результаты. По мере накопления опыта, вы глядя на график или результат обучения на последней эпохе (val_mae = 2.5155), сможете с уверенностью сказать, что средняя ошибка предсказания модели около 2500 долларов.\n",
        "\n",
        "Однако, если метрика была отличная от `mae`, то такой трюк не пройдет и абсолютную погрешность модели надо высчитывать.\n",
        "\n",
        "Для оценки модели необходимо вызвать метод модели `fit()` и передать ему тестовые данные (которые не видела модель). Данная модель предскажет значение метки для каждого набора признаков. Далее, используя предсказанные метки и известные нам целевые метки, проведем расчет среднего значения ошибки с помощью функции `mean_absolute_error`:"
      ],
      "metadata": {
        "id": "iglni-PsAfGN"
      }
    },
    {
      "cell_type": "code",
      "source": [
        "# Метрики для расчета ошибок\n",
        "from sklearn.metrics import mean_absolute_error\n",
        "\n",
        "# Проверка работы сети - предсказание на тренировочной выборке\n",
        "pred = model.predict(test_data)\n",
        "\n",
        "# Расчет среднего значения ошибки\n",
        "print(mean_absolute_error(pred, test_targets))   # Расчет с помощью готовой функции\n",
        "\n"
      ],
      "metadata": {
        "colab": {
          "base_uri": "https://localhost:8080/"
        },
        "id": "XLRdVLUM0wWb",
        "outputId": "dec42dba-065c-410b-9043-99ee0d46a004"
      },
      "execution_count": null,
      "outputs": [
        {
          "output_type": "stream",
          "name": "stdout",
          "text": [
            "4/4 [==============================] - 0s 3ms/step\n",
            "2.5154646293789735\n"
          ]
        }
      ]
    },
    {
      "cell_type": "markdown",
      "source": [
        "Среднее значение ошибки 2.515, с учетом, что данные в датасете хранятся в тысячах долларов, свидетельствует о правильности нашего предположения выше, что наша модель предсказывает с ошибкой в 2500 долларов."
      ],
      "metadata": {
        "id": "uPA3g0hhDZBY"
      }
    },
    {
      "cell_type": "markdown",
      "source": [
        "А теперь перейдем к следующей [практической части](https://colab.research.google.com/drive/1RaGkCutdIazFN5PtQOod5UH2Cc05diYI) урока и построим сеть для распознания рукописных цифр."
      ],
      "metadata": {
        "id": "fhdu482gQMC1"
      }
    }
  ]
}