{
  "cells": [
    {
      "cell_type": "markdown",
      "metadata": {
        "colab_type": "text",
        "id": "view-in-github"
      },
      "source": [
        "<a href=\"https://colab.research.google.com/github/Ads369/Ads_2s/blob/main/6_3_%D0%94%D0%BE%D0%BC%D0%B0%D1%88%D0%BD%D1%8F%D1%8F_%D1%80%D0%B0%D0%B1%D0%BE%D1%82%D0%B0.ipynb\" target=\"_parent\"><img src=\"https://colab.research.google.com/assets/colab-badge.svg\" alt=\"Open In Colab\"/></a>"
      ]
    },
    {
      "cell_type": "markdown",
      "metadata": {
        "id": "8LIWrmOPjBO6"
      },
      "source": [
        "**Навигация по уроку**\n",
        "\n",
        "1. [Введение в Data Science](https://colab.research.google.com/drive/1OzEE1Y-T_p8rqJHxAm7S8iO76Hx6Jox3)\n",
        "2. [Поиск, сбор и первичная обработка данных](https://colab.research.google.com/drive/1sPc9RcTh9oMzyLffhNorD-Hh2kQlMhCC)\n",
        "3. Домашняя работа"
      ]
    },
    {
      "cell_type": "markdown",
      "metadata": {
        "id": "ZzjUAyrL6jgO"
      },
      "source": [
        "## Задача 1. Книги без буквы E."
      ]
    },
    {
      "cell_type": "markdown",
      "metadata": {
        "id": "M4OAOB6s6mU7"
      },
      "source": [
        "**Условие.** В истории литературы известен случай написания романа объемом около\n",
        "50 тыс. слов, в котором ни разу не была употреблена самая популярная\n",
        "в английском алфавите буква E. Название его – «Gadsby».\n",
        "Напишите программу, которая будет считывать список слов из файла и собирать статистику о том, в каком проценте слов используется каждая буква алфавита. Выведите результат для всех 26 букв английского алфавита и отдельно отметьте букву, которая встречалась в словах наиболее редко. В  вашей программе должны игнорироваться знаки препинания и регистр символов.\n"
      ]
    },
    {
      "cell_type": "markdown",
      "metadata": {
        "id": "1X5QIF1nryYd"
      },
      "source": [
        "**Подсказки.**\n",
        "1. Переведите все слова в верхний регистр:\n",
        "```\n",
        "word = word.upper().rstrip() # upper - переводит строку в верхний регистр\n",
        "```\n",
        "2. Создайте словарь со счетчиком слов, содержащий каждую букву\n",
        "```\n",
        "# Для каждой буквы инициализируем счетчик нулем\n",
        "counts = {}\n",
        "for ch in \"ABCDEFGHIJKLMNOPQRSTUVWXYZ\":\n",
        "       counts[ch] = 0\n",
        "```\n",
        "3. Наиболее редко используемые буквы можно найти следующим образом:\n",
        "```\n",
        "smallest_count = min(counts.values()) # min - возвращает наименьшее число в списке\n",
        "```"
      ]
    },
    {
      "cell_type": "code",
      "execution_count": null,
      "metadata": {
        "id": "C2W-ZDOF6mzF"
      },
      "outputs": [],
      "source": [
        "mock_text = \"\"\"\n",
        "    This is a mock text file.\n",
        "    It contains some text.\n",
        "    It is used for testing purposes.\n",
        "    \"\"\"\n",
        "\n",
        "\n",
        "def get_text(filename: str | None):\n",
        "    if filename is None or filename == \"\":\n",
        "        return mock_text\n",
        "\n",
        "    with open(filename, \"r\") as f:\n",
        "        text = f.read()\n",
        "    return text\n",
        "\n",
        "\n",
        "def main():\n",
        "    word_count = 0\n",
        "    char_count = {}\n",
        "    for char in \"ABCDEFGHIJKLMNOPQRSTUVWXYZ\":\n",
        "        char_count[char] = 0\n",
        "\n",
        "    file_name = input(\"Enter the file name: \")\n",
        "    text = get_text(file_name)\n",
        "\n",
        "    for word in text.split():\n",
        "        word_count += 1\n",
        "        word = word.upper()\n",
        "        letters = set(word)\n",
        "        for letter in letters:\n",
        "            try:\n",
        "                char_count[letter] += 1\n",
        "            except KeyError:\n",
        "                pass\n",
        "\n",
        "    for k, v in char_count.items():\n",
        "        char_count[k] = v / word_count * 100\n",
        "    return char_count\n",
        "\n",
        "\n",
        "if __name__ == \"__main__\":\n",
        "    result = main()\n",
        "    print(result)\n"
      ]
    },
    {
      "cell_type": "markdown",
      "metadata": {
        "id": "m5K8F02cbJ3c"
      },
      "source": [
        "## Задание 2. Веб-скрейпинг ИИ новостей"
      ]
    },
    {
      "cell_type": "markdown",
      "metadata": {
        "id": "LPb3n5UqbRAD"
      },
      "source": [
        "**Описание задания.** Используя пример веб-скрейпинга практической части урока, проведите скрейпинг сайта с новостями из сферы ИИ (https://2051.vision/category/ii/), выведите на экран заголовки новостей."
      ]
    },
    {
      "cell_type": "code",
      "execution_count": null,
      "metadata": {},
      "outputs": [],
      "source": [
        "!pip install beautifulsoup4 requests html5lib"
      ]
    },
    {
      "cell_type": "code",
      "execution_count": null,
      "metadata": {
        "id": "E2UFxRjFi_aW"
      },
      "outputs": [],
      "source": [
        "import requests\n",
        "from bs4 import BeautifulSoup\n",
        "\n",
        "def get_html(url):\n",
        "    r = requests.get(url)\n",
        "    return r.text\n",
        "\n",
        "def get_data(html):\n",
        "    soup = BeautifulSoup(html, 'html5lib')\n",
        "    return soup\n",
        "\n",
        "def main():\n",
        "    url = 'https://2051.vision/category/ii/'\n",
        "    html = get_html(url)\n",
        "    soup = get_data(html)\n",
        "    main_div = soup.find('div', id='tdi_78')\n",
        "    for div in main_div.find_all('div', class_='td-module-meta-info'):\n",
        "        title = div.find('h3').text.strip()\n",
        "        author = div.find('span', class_='td-post-author-name').find('a').text.strip()\n",
        "        date = div.find('span', class_='td-post-date').text.strip()\n",
        "        url = div.find('a').get('href').strip()\n",
        "        print(f\"{title}\\n{author}\\n{date}\\n{url}\\n---\")\n",
        "\n",
        "if __name__ == '__main__':\n",
        "    main()"
      ]
    }
  ],
  "metadata": {
    "colab": {
      "include_colab_link": true,
      "provenance": []
    },
    "kernelspec": {
      "display_name": "Python 3",
      "name": "python3"
    },
    "language_info": {
      "name": "python"
    }
  },
  "nbformat": 4,
  "nbformat_minor": 0
}
