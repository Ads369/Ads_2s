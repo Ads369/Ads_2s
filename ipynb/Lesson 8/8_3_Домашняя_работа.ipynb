{
  "cells": [
    {
      "cell_type": "markdown",
      "metadata": {
        "colab_type": "text",
        "id": "view-in-github"
      },
      "source": [
        "<a href=\"https://colab.research.google.com/github/Ads369/Ads_2s/blob/main/8_3_%D0%94%D0%BE%D0%BC%D0%B0%D1%88%D0%BD%D1%8F%D1%8F_%D1%80%D0%B0%D0%B1%D0%BE%D1%82%D0%B0.ipynb\" target=\"_parent\"><img src=\"https://colab.research.google.com/assets/colab-badge.svg\" alt=\"Open In Colab\"/></a>"
      ]
    },
    {
      "cell_type": "markdown",
      "metadata": {
        "id": "8LIWrmOPjBO6"
      },
      "source": [
        "**Навигация по уроку**\n",
        "\n",
        "1. [Библиотеки визуализации данных в Python](https://colab.research.google.com/drive/1IbLhzlqiJhhPAErmdQ9wuIUdDaSRlNUF)\n",
        "2. [Задача об акциях Tesla](https://colab.research.google.com/drive/1jukOs54u301WtyQS-SbRxWxDstTCjEBq)\n",
        "3. Домашняя работа"
      ]
    },
    {
      "cell_type": "markdown",
      "metadata": {
        "id": "pKkuA3ulRTCq"
      },
      "source": [
        "Используя датасет о стоимости акций Сбербанка с 01.01.2013 года:\n",
        "\n",
        "https://storage.yandexcloud.net/academy.ai/SBER.csv\n",
        "\n",
        "визуализируйте индикатор \"Полосы Боллинджера\", проанализируйте график, и предложите вариант торговли акциями Сбербанка с помощью этого инструмента.\n",
        "\n",
        "**Подсказка.**\n",
        "Индикатор выглядит как полоса из трех линий:\n",
        "\n",
        "* линия посередине — это простая скользящая средняя (SMA) с периодом `ma_size`, обычно около 20 дней;\n",
        "\n",
        "* верхняя и нижняя линии (BB) — построены на основе SMА, но к нему добавлено стреднеквадратичное отклонение:\n",
        "\n",
        "```\n",
        " SMA = data['close'].rolling(ma_size).mean()\n",
        " BB_UP = SMA + data['close'].rolling(ma_size).std() * bol_size\n",
        " BB_DOWN = SMA - data['close'].rolling(ma_size).std() * bol_size\n",
        "   \n",
        "```\n",
        "\n",
        "где bol_size - ширина коридора, подбирается по графику. Выберите такое его значение, чтобы по графику можно было принимать торговые решения."
      ]
    },
    {
      "cell_type": "code",
      "execution_count": null,
      "metadata": {},
      "outputs": [],
      "source": [
        "!wget https://storage.yandexcloud.net/academy.ai/SBER.csv\n"
      ]
    },
    {
      "cell_type": "code",
      "execution_count": 5,
      "metadata": {},
      "outputs": [],
      "source": [
        "import os\n",
        "import pandas as pd\n",
        "\n",
        "import plotly.graph_objects as go\n",
        "from plotly.subplots import make_subplots\n",
        "\n",
        "bol_size = 2\n",
        "ma_size = 20"
      ]
    },
    {
      "cell_type": "code",
      "execution_count": 1,
      "metadata": {},
      "outputs": [
        {
          "ename": "NameError",
          "evalue": "name 'pd' is not defined",
          "output_type": "error",
          "traceback": [
            "\u001b[0;31m---------------------------------------------------------------------------\u001b[0m",
            "\u001b[0;31mNameError\u001b[0m                                 Traceback (most recent call last)",
            "Cell \u001b[0;32mIn[1], line 1\u001b[0m\n\u001b[0;32m----> 1\u001b[0m df \u001b[38;5;241m=\u001b[39m \u001b[43mpd\u001b[49m\u001b[38;5;241m.\u001b[39mread_csv(\u001b[38;5;124m\"\u001b[39m\u001b[38;5;124mSBER.csv\u001b[39m\u001b[38;5;124m\"\u001b[39m, sep\u001b[38;5;241m=\u001b[39m\u001b[38;5;124m\"\u001b[39m\u001b[38;5;124m;\u001b[39m\u001b[38;5;124m\"\u001b[39m)\n\u001b[1;32m      2\u001b[0m df[\u001b[38;5;124m\"\u001b[39m\u001b[38;5;124mDATE\u001b[39m\u001b[38;5;124m\"\u001b[39m] \u001b[38;5;241m=\u001b[39m pd\u001b[38;5;241m.\u001b[39mto_datetime(df[\u001b[38;5;124m\"\u001b[39m\u001b[38;5;124mDATE\u001b[39m\u001b[38;5;124m\"\u001b[39m], \u001b[38;5;28mformat\u001b[39m\u001b[38;5;241m=\u001b[39m\u001b[38;5;124m\"\u001b[39m\u001b[38;5;124m%\u001b[39m\u001b[38;5;124mY\u001b[39m\u001b[38;5;124m%\u001b[39m\u001b[38;5;124mm\u001b[39m\u001b[38;5;132;01m%d\u001b[39;00m\u001b[38;5;124m\"\u001b[39m)\n\u001b[1;32m      4\u001b[0m bol_size \u001b[38;5;241m=\u001b[39m \u001b[38;5;241m2\u001b[39m\n",
            "\u001b[0;31mNameError\u001b[0m: name 'pd' is not defined"
          ]
        }
      ],
      "source": [
        "df = pd.read_csv(\"SBER.csv\", sep=\";\")\n",
        "\n",
        "df[\"DATE\"] = pd.to_datetime(df[\"DATE\"], format=\"%Y%m%d\")\n",
        "df[\"SMA\"] = df[\"CLOSE\"].rolling(ma_size).mean()\n",
        "df[\"BB_UP\"] = df[\"SMA\"] + df[\"CLOSE\"].rolling(ma_size).std() * bol_size\n",
        "df[\"BB_DOWN\"] = df[\"SMA\"] - df[\"CLOSE\"].rolling(ma_size).std() * bol_size\n",
        "df[\"BB_WIDTH\"] = df[\"BB_UP\"] - df[\"BB_DOWN\"]\n",
        "\n",
        "\n",
        "fig = go.Figure()\n",
        "fig = make_subplots(rows=2, cols=1, shared_xaxes=True)\n",
        "fig.update_layout(\n",
        "    title=\"Акции сбербанка\",\n",
        "    xaxis_title=\"Date\",\n",
        "    yaxis_title=\"Price\",\n",
        "    xaxis_rangeslider_visible=False,\n",
        ")\n",
        "\n",
        "# Рисуем свечки\n",
        "fig.add_trace(\n",
        "    go.Candlestick(\n",
        "        x=df[\"DATE\"],\n",
        "        open=df[\"OPEN\"],\n",
        "        high=df[\"HIGH\"],\n",
        "        low=df[\"LOW\"],\n",
        "        close=df[\"CLOSE\"],\n",
        "        name=\"Price\",\n",
        "    ),\n",
        "    row=1,\n",
        "    col=1,\n",
        ")\n",
        "\n",
        "# Рисуем Полосы Боллинджера\n",
        "for param in [\"SMA\", \"BB_UP\", \"BB_DOWN\"]:\n",
        "    fig.add_trace(\n",
        "        go.Scatter(\n",
        "            x=df[\"DATE\"],\n",
        "            y=df[param],\n",
        "            showlegend=False,\n",
        "            line_color=\"gray\",\n",
        "            mode=\"lines\",\n",
        "            line={\"dash\": \"dash\"},\n",
        "            marker_line_width=2,\n",
        "            marker_size=10,\n",
        "            opacity=0.8,\n",
        "            name=param,\n",
        "        ),\n",
        "        row=1,\n",
        "        col=1,\n",
        "    )\n",
        "\n",
        "# Рисуем Сжатие и Расширение полос \n",
        "fig.add_trace(\n",
        "    go.Scatter(x=df[\"DATE\"], y=df[\"BB_WIDTH\"], mode=\"lines\", name=\"BB Width\"),\n",
        "    row=2,\n",
        "    col=1,\n",
        ")\n",
        "\n",
        "# Рисуем пересечение цены с верхней или нижней полосой\n",
        "upper_cross = df[df[\"CLOSE\"] > df[\"BB_UP\"]]\n",
        "lower_cross = df[df[\"CLOSE\"] < df[\"BB_DOWN\"]]\n",
        "\n",
        "fig.add_trace(\n",
        "    go.Scatter(\n",
        "        x=upper_cross[\"DATE\"],\n",
        "        y=upper_cross[\"CLOSE\"],\n",
        "        mode=\"markers\",\n",
        "        name=\"Продавай\",\n",
        "    ),\n",
        "    row=1,\n",
        "    col=1,\n",
        ")\n",
        "\n",
        "fig.add_trace(\n",
        "    go.Scatter(\n",
        "        x=lower_cross[\"DATE\"],\n",
        "        y=lower_cross[\"CLOSE\"],\n",
        "        mode=\"markers\",\n",
        "        name=\"Покупай\",\n",
        "    ),\n",
        "    row=1,\n",
        "    col=1,\n",
        ")\n",
        "\n",
        "\n",
        "# FIX RangeSlider\n",
        "fig.update_layout(\n",
        "    legend_orientation=\"h\",\n",
        "    xaxis2_rangeslider_visible=True,\n",
        "    xaxis2_rangeslider_thickness=0.1,\n",
        ")\n",
        "\n",
        "\n",
        "fig.show()\n"
      ]
    },
    {
      "cell_type": "markdown",
      "metadata": {},
      "source": [
        "Сжатие полос - указывает на то что скоро, цены могут поменяться.\n",
        "\n",
        "Расширение полос - указывает на то что тренд скорей всего сохранится.\n",
        "\n",
        "Пересечение с нижней или верхней линией - указывает на то что цены развернутся."
      ]
    }
  ],
  "metadata": {
    "colab": {
      "include_colab_link": true,
      "provenance": []
    },
    "kernelspec": {
      "display_name": "Python 3",
      "name": "python3"
    },
    "language_info": {
      "codemirror_mode": {
        "name": "ipython",
        "version": 3
      },
      "file_extension": ".py",
      "mimetype": "text/x-python",
      "name": "python",
      "nbconvert_exporter": "python",
      "pygments_lexer": "ipython3",
      "version": "3.12.3"
    }
  },
  "nbformat": 4,
  "nbformat_minor": 0
}
