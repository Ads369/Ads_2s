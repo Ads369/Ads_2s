{
 "cells": [
  {
   "cell_type": "markdown",
   "metadata": {
    "colab_type": "text",
    "id": "view-in-github"
   },
   "source": [
    "<a href=\"https://colab.research.google.com/github/Ads369/Ads_2s/blob/main/25_2_%D0%93%D0%B8%D0%BF%D0%B5%D1%80%D0%BF%D0%B0%D1%80%D0%B0%D0%BC%D0%B5%D1%82%D1%80%D1%8B_%D0%B8_%D0%BE%D0%BF%D1%82%D0%B8%D0%BC%D0%B8%D0%B7%D0%B0%D1%86%D0%B8%D1%8F_%D0%BC%D0%BE%D0%B4%D0%B5%D0%BB%D0%B5%D0%B9.ipynb\" target=\"_parent\"><img src=\"https://colab.research.google.com/assets/colab-badge.svg\" alt=\"Open In Colab\"/></a>"
   ]
  },
  {
   "cell_type": "markdown",
   "metadata": {
    "id": "N2mhuVZppaoD"
   },
   "source": [
    "**Навигация по уроку**\n",
    "\n",
    "1. [Первое знакомство с AutoML](https://colab.research.google.com/drive/1bCWyzlp1-tcvt7TE60m4hFnRd5AWscWY)\n",
    "2. Гиперпараметры и оптимизация моделей\n",
    "3. [AutoML в Keras](https://colab.research.google.com/drive/1V7mfY8da0S-FbWxhQbchJM38JSJBmtoZ)\n",
    "4. [Домашняя работа](https://colab.research.google.com/drive/1ti0hKew4nglRSYPSpfxQx19cGfVxU_K4)"
   ]
  },
  {
   "cell_type": "markdown",
   "metadata": {
    "id": "Ykjk9JmRNs_k"
   },
   "source": [
    "Как вы уже, наверное, догодались в этой части урока мы поговорим про гиперпараметры, узнаем, что такое гиперпараметрический поиск, как с помощью него оптимизировать модели и какая роль во всем этом у AutoML."
   ]
  },
  {
   "cell_type": "markdown",
   "metadata": {
    "id": "z4LA0INxO5J2"
   },
   "source": [
    "### Важность гиперпараметров"
   ]
  },
  {
   "cell_type": "markdown",
   "metadata": {
    "id": "yxO5-67iN2IK"
   },
   "source": [
    "При создании моделей машинного обучения существует одна важная составляющая, которая часто остается за кадром, но имеет решающее значение для достижения высокой производительности и точности — это **гиперпараметры**.\n",
    "\n",
    "Как архитекторы строят основу для здания, так и выбор гиперпараметров определяет фундамент для моделей машинного обучения.\n",
    "\n",
    "**Гиперпараметры** — это параметры, которые настраиваются до начала процесса обучения и определяют как саму структуру модели, так и способ её обучения. Их правильный выбор может значительно повлиять на результаты обучения, тогда как неправильно подобранные значения гиперпараметров приведут к недообученным или переобученным моделям, а иногда вообще к неспособности модели обучаться (расхождение градиента).\n",
    "\n",
    "Способность модели к обобщению данных — ключевой аспект, определяющий её ценность в реальных задачах. Гиперпараметры влияют на эту способность, играя роль \"регуляторов\" модели. Правильно подобранные гиперпараметры помогают сбалансировать между \"подгонкой\" модели под обучающие данные (переобучение) и слишком обобщенным представлением, которое может упустить важные закономерности (недообучение)."
   ]
  },
  {
   "cell_type": "markdown",
   "metadata": {
    "id": "w-HEFnOoO-3b"
   },
   "source": [
    "### Отличие гиперпараметров от параметров модели"
   ]
  },
  {
   "cell_type": "markdown",
   "metadata": {
    "id": "12SYXz5QPLY-"
   },
   "source": [
    "**Гиперпараметры** и **параметры** — это два ключевых аспекта, которые формируют модель машинного обучения. Они играют разные роли в процессе обучения и влияют на поведение и производительность модели.\n",
    "\n",
    "**Гиперпараметры** — это настройки модели, которые определяют её общую структуру и способ обучения. Эти параметры устанавливаются до начала процесса обучения и не изменяются в процессе обучения модели. Гиперпараметры оказывают влияние на то, как модель будет обучаться, какие признаки будут учитываться, и какие ограничения будут наложены на процесс обучения. Примерами гиперпараметров могут быть количество слоев и нейронов в нейронной сети, скорость обучения, шаг градиентного спуска, коэффициент регуляризации и т.д.\n",
    "\n",
    "**Параметры модели** - являются внутренними весами или коэффициентами, которые модель обучает в процессе обучения на основе обучающих данных. Эти параметры изменяются в процессе обучения с целью минимизации функции потерь и достижения наилучшего соответствия между прогнозами модели и реальными значениями целевой переменной. В случае нейронных сетей, параметры включают веса между нейронами в разных слоях.\n",
    "\n",
    "Различие между гиперпараметрами и параметрами модели заключается в том, что гиперпараметры задаются вручную до начала обучения и определяют характеристики всего процесса обучения, в то время как параметры модели вычисляются в процессе обучения на основе данных и оптимизируются для достижения наилучшей производительности.\n",
    "\n",
    "Понимание разницы между гиперпараметрами и параметрами модели является ключевым для правильного настройки моделей машинного обучения и достижения оптимальных результатов."
   ]
  },
  {
   "cell_type": "markdown",
   "metadata": {
    "id": "bYclfM0est2E"
   },
   "source": [
    "Каждый алгоритм машинного обучения имеет свои особенности и требует настройки определенных параметров, чтобы обеспечить оптимальное обучение и предсказания.\n",
    "\n",
    "Приведем **пример гиперпараметров для нейронных сетей:**\n",
    "\n",
    "1. **Количество слоев и нейронов в каждом слое**. Определяет архитектуру нейронной сети и её способность обобщать данные.\n",
    "\n",
    "2. **Скорость обучения (learning rate)**. Управляет размером шага градиентного спуска при обновлении весов нейронов.\n",
    "\n",
    "3. **Функции активации**. Определяют, как нейроны будут \"возбуждаться\" при передаче сигнала."
   ]
  },
  {
   "cell_type": "markdown",
   "metadata": {
    "id": "1He91nNbQSXy"
   },
   "source": [
    "## Гиперпараметрический поиск\n"
   ]
  },
  {
   "cell_type": "markdown",
   "metadata": {
    "id": "e1jYaYBxwvz6"
   },
   "source": [
    "### Методы гиперпараметрического поиска"
   ]
  },
  {
   "cell_type": "markdown",
   "metadata": {
    "id": "hZTCGW8stgXS"
   },
   "source": [
    "Выбор подходящих гиперпараметров — это чрезвычайно важный этап в создании моделей машинного обучения. Неправильный выбор гиперпараметров может привести к неудовлетворительным результатам, долгим сессиям обучения и переобучению.\n",
    "\n",
    "Среди наиболее распространенных **стратегий и методов для эффективного гиперпараметрического поиска и оптимизации** обычно выделяют:\n",
    "\n",
    "1. **Решетчатый поиск** (Grid Search).\n",
    "Этот метод предполагает задание наборов значений для каждого гиперпараметра, которые затем \"перебираются\" систематически для нахождения наилучшей комбинации. Для каждой комбинации гиперпараметров производится обучение модели и оценка её производительности на валидационных данных. Преимущество решетчатого подхода в том, что он гарантирует полный перебор всех заданных комбинаций гиперпараметров, что может помочь найти наилучшие значения. Однако это может быть очень ресурсозатратным, особенно при большом числе гиперпараметров и значений.\n",
    "2. **Случайный поиск** (Random Search).\n",
    "Вместо того чтобы перебирать все комбинации, случайный поиск выбирает случайные наборы значений для каждого гиперпараметра. Этот метод может быть более эффективным по времени, так как он обычно требует меньше итераций, чтобы найти хорошие значения. Также случайный поиск может быть эффективнее в поиске оптимальных гиперпараметров, когда ресурсы ограничены. Однако есть вероятность упустить некоторые комбинации, которые могли бы быть лучшими.\n",
    "3. **Байесовская оптимизация** или оптимизация с использованием байесовских методов (Bayesian Optimization). Это метод, который сочетает вероятностные модели с методами оптимизации для эффективного поиска оптимальных гиперпараметров. Он основан на идее моделирования функции оценки производительности модели и использования этой модели для выбора следующей точки для оценки. Байесовская оптимизация часто требует меньше итераций, чем решетчатый или случайный поиск, чтобы достичь лучших результатов.\n",
    "4. **Применение алгоритмов глубокого обучения**.\n",
    "Глубокие нейронные сети могут быть использованы для оптимизации гиперпараметров. Например, можно использовать рекуррентные нейронные сети или сверточные нейронные сети для предсказания производительности модели с разными гиперпараметрами. Этот метод требует большого объема вычислительных ресурсов, но он может быть эффективным для сложных моделей.\n",
    "\n"
   ]
  },
  {
   "cell_type": "markdown",
   "metadata": {
    "id": "BSyLk0XDwLvy"
   },
   "source": [
    "Выбор метода зависит от доступных ресурсов, сложности модели и поставленной задачи. Опыт и эксперименты помогут найти наилучший способ настройки гиперпараметров для конкретной задачи."
   ]
  },
  {
   "cell_type": "markdown",
   "metadata": {
    "id": "KJaRVO6Zw7F8"
   },
   "source": [
    "### Рекомендации по гиперпараметрическому поиску"
   ]
  },
  {
   "cell_type": "markdown",
   "metadata": {
    "id": "Ah8K25scxbYo"
   },
   "source": [
    "**Определение диапазонов гиперпараметров на основе предварительного анализа**"
   ]
  },
  {
   "cell_type": "markdown",
   "metadata": {
    "id": "6F6jy7pQxCwO"
   },
   "source": [
    "Прежде чем начать гиперпараметрический поиск, важно провести предварительный анализ данных и задачи. Изучите характеристики ваших данных, исследуйте различные аспекты задачи, такие как количество признаков, баланс классов и тип задачи (например, классификация или регрессия). Это поможет вам определить диапазоны значений для гиперпараметров, которые имеют смысл для вашей задачи.\n",
    "\n",
    "Например, мы хотим подобрать гиперпараметры для конкретного слоя нашей полносвязной модели нейронной сети, тогда мы можем задать следующие параметры для поиска (число нейронов, функция активации и функция оптимизации):\n",
    "\n",
    "```python\n",
    "\n",
    "# Определение сетки параметров для поиска\n",
    "param_grid = {\n",
    "    'neurons': [32, 64, 128],\n",
    "    'activation': ['relu', 'sigmoid'],\n",
    "    'optimizer': ['adam', 'rmsprop']\n",
    "}\n",
    "```"
   ]
  },
  {
   "cell_type": "markdown",
   "metadata": {
    "id": "QKL5YaobxDFs"
   },
   "source": [
    "**Выбор критерия оценки для сравнения моделей с разными гиперпараметрами**"
   ]
  },
  {
   "cell_type": "markdown",
   "metadata": {
    "id": "P117tUqcxDbe"
   },
   "source": [
    "Оценка производительности моделей с разными гиперпараметрами является сложной задачей. Выбор подходящего критерия оценки зависит от задачи и данных. Для задач классификации, например, можно использовать различные метрики, а нетолько точность (accuracy). В задачах классификации успешно применяются следующие метрики: полнота (recall), прецизионная точность (precision) и F1-мера.\n",
    "\n",
    "Выбор критерия оценки также зависит от бизнес-целей задачи. Если вы сталкиваетесь с задачей детекции редких событий, то может быть важно сосредоточиться на максимизации полноты, чтобы убедиться, что вы не упускаете важные случаи."
   ]
  },
  {
   "cell_type": "markdown",
   "metadata": {
    "id": "LaCXBdY-0pNZ"
   },
   "source": [
    "**Используйте кросс-валидацию**"
   ]
  },
  {
   "cell_type": "markdown",
   "metadata": {
    "id": "1bFdf8HI0pLk"
   },
   "source": [
    "Кросс-валидация — важный инструмент для оценки производительности моделей с разными гиперпараметрами. Она позволяет оценить, насколько хорошо модель \"работает\" на новых данных. Если вы решаете задачу с помощью классического машинного обучения (ML), то кросс-валидация для вас будет основным инструментом оценки и позволит избежать переобучения.\n"
   ]
  },
  {
   "cell_type": "markdown",
   "metadata": {
    "id": "AOfCAzwf0pHD"
   },
   "source": [
    "**Оценка стабильности производительности модели**"
   ]
  },
  {
   "cell_type": "markdown",
   "metadata": {
    "id": "GFiHxr112ZPo"
   },
   "source": [
    "Важно обращать внимание на стабильность производительности модели. Если производительность модели сильно изменяется при изменении небольших гиперпараметров, это может указывать на недостаточную стабильность."
   ]
  },
  {
   "cell_type": "markdown",
   "metadata": {
    "id": "b_sp2mlm3K3N"
   },
   "source": [
    "**Когда могут понадобиться эти рекомендации?**\n",
    "\n",
    "Для поиска гиперпараметров существует большое количество разнообразных библиотек и фреймворков, где можно в \"полуавтоматическом режиме\" производить настройки гиперпараметров. Например, вы решите воспользоваться методами библиотеки `Scikit-learn`:\n",
    "\n",
    "\n",
    "1. Метод `GridSearchCV` позволяет провести решетчатый поиск по заданным наборам гиперпараметров. Этот метод применяет кросс-валидацию для каждой комбинации гиперпараметров и выбирает наилучшие.\n",
    "2. Метод `RandomizedSearchCV` позволяет провести случайный поиск по заданным наборам гиперпараметров. Этот метод применяет кросс-валидацию для каждой комбинации гиперпараметров и выбирает наилучшие.\n",
    "\n",
    "Нам же более интересны автоматические методы и пора приступить к их изучению! Но знать об альтернативных методах необходимо и важно, возможно именно вам попадется задача, которая окажется AutoML не по зубам!\n"
   ]
  },
  {
   "cell_type": "markdown",
   "metadata": {
    "id": "Gi_P_UJgQSRF"
   },
   "source": [
    "### Применение методов AutoML для автоматической оптимизации гиперпараметров"
   ]
  },
  {
   "cell_type": "markdown",
   "metadata": {
    "id": "ra-bt-T8R3tj"
   },
   "source": [
    "В поиске оптимальных гиперпараметров для моделей машинного обучения часто требуется значительное количество времени и ресурсов. Чтобы облегчить этот процесс и ускорить достижение лучших результатов, были разработаны методы автоматической оптимизации гиперпараметров."
   ]
  },
  {
   "cell_type": "markdown",
   "metadata": {
    "id": "zaG3oWcAQSNp"
   },
   "source": [
    "AutoML — это подход, который стремится автоматизировать различные этапы создания моделей машинного обучения, включая выбор алгоритмов, настройку гиперпараметров и даже предобработку данных. Это особенно полезно, когда у нас ограничены временные и вычислительные ресурсы, а также когда необходимо получить наилучший результат с минимальной затратой усилий.\n",
    "\n",
    "Одной из наиболее важных задач в рамках AutoML является автоматическая оптимизация гиперпараметров. Это позволяет облегчить процесс подбора оптимальных значений, освободив пользователя от необходимости вручную изменять их и проводить множество экспериментов."
   ]
  },
  {
   "cell_type": "markdown",
   "metadata": {
    "id": "B2G4_9-ZQSJg"
   },
   "source": [
    "### Auto-sklearn: автоматический выбор алгоритма и оптимизация гиперпараметров"
   ]
  },
  {
   "cell_type": "markdown",
   "metadata": {
    "id": "k2g5u4vkQSEX"
   },
   "source": [
    "`Auto-sklearn` — это библиотека, разработанная на основе `scikit-learn`, которая предоставляет автоматическую оптимизацию гиперпараметров и выбор алгоритмов. Она использует байесовскую оптимизацию для настройки гиперпараметров и автоматически выбирает лучший алгоритм для данной задачи. Основной класс задач, с которыми работает библиотека - это задачи классификации и регрессии.\n",
    "\n",
    "Прежде чем работать с библиотекой, ее необходимо установить. Если вы устанавливаете `auto-sklearn` на свой компьютер, то скорее всего вам достаточно будет воспользоваться одной командой:\n",
    "\n",
    "```\n",
    "pip install auto-sklearn\n",
    "```\n",
    "\n",
    "Однако, в Google Colab, это похоже на настоящий \"КВЕСТ\". Чтобы было понятней, мы ниже все команды установки отметили цифрами, чтобы не запутаться:\n",
    "\n",
    "1. Удалите все уязвимые пакеты. Это те пакеты, чьи зависимости \"мешают\" нам для установки `auto-sklearn`.\n",
    "2. Установите определенные версии пакетов (версии ниже, чем в колабе были ранее, так называемый downgrade) из удаленных. После установки пакетов колаб предложит перезапустить сессию. Необходимо согласиться и только после запускать следующую ячейку.\n",
    "3. Установите более старую версию scikit-learn без учета ее зависимостей (запуск с параметром `--no-build-isolation`).\n",
    "4. Финальная установка auto-sklearn.\n",
    "\n",
    "Гугл часто обновляет свои сервера, изменяются версии библиотек и их зависимости. Поэтому пробуйте сразу выполнять пункт 4, а вдруг сразу запустится. А если нет, то тогда проходите процедуру пошагам."
   ]
  },
  {
   "cell_type": "code",
   "execution_count": null,
   "metadata": {
    "colab": {
     "base_uri": "https://localhost:8080/",
     "height": 931
    },
    "id": "P0_AR1Nb9jTR",
    "outputId": "ce30601a-e5cc-465a-93d4-dcb3562f8400"
   },
   "outputs": [
    {
     "name": "stdout",
     "output_type": "stream",
     "text": [
      "Found existing installation: Cython 3.0.10\n",
      "Uninstalling Cython-3.0.10:\n",
      "  Successfully uninstalled Cython-3.0.10\n",
      "Found existing installation: scipy 1.11.4\n",
      "Uninstalling scipy-1.11.4:\n",
      "  Successfully uninstalled scipy-1.11.4\n",
      "Found existing installation: pyparsing 3.1.2\n",
      "Uninstalling pyparsing-3.1.2:\n",
      "  Successfully uninstalled pyparsing-3.1.2\n",
      "Found existing installation: scikit-learn 1.2.2\n",
      "Uninstalling scikit-learn-1.2.2:\n",
      "  Successfully uninstalled scikit-learn-1.2.2\n",
      "Found existing installation: imbalanced-learn 0.10.1\n",
      "Uninstalling imbalanced-learn-0.10.1:\n",
      "  Successfully uninstalled imbalanced-learn-0.10.1\n",
      "Found existing installation: mlxtend 0.22.0\n",
      "Uninstalling mlxtend-0.22.0:\n",
      "  Successfully uninstalled mlxtend-0.22.0\n",
      "Found existing installation: yellowbrick 1.5\n",
      "Uninstalling yellowbrick-1.5:\n",
      "  Successfully uninstalled yellowbrick-1.5\n",
      "Collecting Cython==0.29.36\n",
      "  Downloading Cython-0.29.36-cp310-cp310-manylinux_2_17_x86_64.manylinux2014_x86_64.manylinux_2_24_x86_64.whl (1.9 MB)\n",
      "\u001b[2K     \u001b[90m━━━━━━━━━━━━━━━━━━━━━━━━━━━━━━━━━━━━━━━━\u001b[0m \u001b[32m1.9/1.9 MB\u001b[0m \u001b[31m5.9 MB/s\u001b[0m eta \u001b[36m0:00:00\u001b[0m\n",
      "\u001b[?25hCollecting scipy==1.9\n",
      "  Downloading scipy-1.9.0-cp310-cp310-manylinux_2_17_x86_64.manylinux2014_x86_64.whl (43.9 MB)\n",
      "\u001b[2K     \u001b[90m━━━━━━━━━━━━━━━━━━━━━━━━━━━━━━━━━━━━━━━━\u001b[0m \u001b[32m43.9/43.9 MB\u001b[0m \u001b[31m14.1 MB/s\u001b[0m eta \u001b[36m0:00:00\u001b[0m\n",
      "\u001b[?25hCollecting pyparsing==2.4\n",
      "  Downloading pyparsing-2.4.0-py2.py3-none-any.whl (62 kB)\n",
      "\u001b[2K     \u001b[90m━━━━━━━━━━━━━━━━━━━━━━━━━━━━━━━━━━━━━━━━\u001b[0m \u001b[32m62.3/62.3 kB\u001b[0m \u001b[31m7.7 MB/s\u001b[0m eta \u001b[36m0:00:00\u001b[0m\n",
      "\u001b[?25hCollecting numpy<1.25.0,>=1.18.5 (from scipy==1.9)\n",
      "  Downloading numpy-1.24.4-cp310-cp310-manylinux_2_17_x86_64.manylinux2014_x86_64.whl (17.3 MB)\n",
      "\u001b[2K     \u001b[90m━━━━━━━━━━━━━━━━━━━━━━━━━━━━━━━━━━━━━━━━\u001b[0m \u001b[32m17.3/17.3 MB\u001b[0m \u001b[31m55.6 MB/s\u001b[0m eta \u001b[36m0:00:00\u001b[0m\n",
      "\u001b[?25hInstalling collected packages: pyparsing, numpy, Cython, scipy\n",
      "  Attempting uninstall: numpy\n",
      "    Found existing installation: numpy 1.25.2\n",
      "    Uninstalling numpy-1.25.2:\n",
      "      Successfully uninstalled numpy-1.25.2\n",
      "\u001b[31mERROR: pip's dependency resolver does not currently take into account all the packages that are installed. This behaviour is the source of the following dependency conflicts.\n",
      "fastai 2.7.14 requires scikit-learn, which is not installed.\n",
      "librosa 0.10.1 requires scikit-learn>=0.20.0, which is not installed.\n",
      "qudida 0.0.4 requires scikit-learn>=0.19.1, which is not installed.\n",
      "sklearn-pandas 2.2.0 requires scikit-learn>=0.23.0, which is not installed.\n",
      "httplib2 0.22.0 requires pyparsing!=3.0.0,!=3.0.1,!=3.0.2,!=3.0.3,<4,>=2.4.2; python_version > \"3.0\", but you have pyparsing 2.4.0 which is incompatible.\n",
      "pandas-stubs 2.0.3.230814 requires numpy>=1.25.0; python_version >= \"3.9\", but you have numpy 1.24.4 which is incompatible.\u001b[0m\u001b[31m\n",
      "\u001b[0mSuccessfully installed Cython-0.29.36 numpy-1.24.4 pyparsing-2.4.0 scipy-1.9.0\n"
     ]
    },
    {
     "data": {
      "application/vnd.colab-display-data+json": {
       "id": "426a6e5f806843ac8680a2bd599ba994",
       "pip_warning": {
        "packages": [
         "numpy",
         "pyparsing"
        ]
       }
      }
     },
     "metadata": {},
     "output_type": "display_data"
    }
   ],
   "source": [
    "# 1. удалите все уязвимые пакеты\n",
    "!pip uninstall -y Cython scipy pyparsing scikit_learn imbalanced-learn mlxtend yellowbrick\n",
    "\n",
    "# 2. устанавливаем фиксированные версии пакетов\n",
    "!pip install Cython==0.29.36 scipy==1.9 pyparsing==2.4"
   ]
  },
  {
   "cell_type": "code",
   "execution_count": null,
   "metadata": {
    "colab": {
     "base_uri": "https://localhost:8080/"
    },
    "id": "3hqOWpeMG_Aj",
    "outputId": "4142a419-e50d-47d0-a610-e4e095d71c63"
   },
   "outputs": [
    {
     "name": "stdout",
     "output_type": "stream",
     "text": [
      "Collecting scikit-learn==0.24.2\n",
      "  Using cached scikit-learn-0.24.2.tar.gz (7.5 MB)\n",
      "  Preparing metadata (pyproject.toml) ... \u001b[?25l\u001b[?25hdone\n",
      "Requirement already satisfied: numpy>=1.13.3 in /usr/local/lib/python3.10/dist-packages (from scikit-learn==0.24.2) (1.24.4)\n",
      "Requirement already satisfied: scipy>=0.19.1 in /usr/local/lib/python3.10/dist-packages (from scikit-learn==0.24.2) (1.9.0)\n",
      "Requirement already satisfied: joblib>=0.11 in /usr/local/lib/python3.10/dist-packages (from scikit-learn==0.24.2) (1.4.0)\n",
      "Requirement already satisfied: threadpoolctl>=2.0.0 in /usr/local/lib/python3.10/dist-packages (from scikit-learn==0.24.2) (3.4.0)\n",
      "Building wheels for collected packages: scikit-learn\n",
      "  Building wheel for scikit-learn (pyproject.toml) ... \u001b[?25l\u001b[?25hdone\n",
      "  Created wheel for scikit-learn: filename=scikit_learn-0.24.2-cp310-cp310-linux_x86_64.whl size=22237869 sha256=98f31bad140455a65bf31a287e6d4c64cab116406145daf103531494959aa57e\n",
      "  Stored in directory: /root/.cache/pip/wheels/13/a4/68/4e78865652fa14db4a162b491e5138565f97646f9e1f2ab8cc\n",
      "Successfully built scikit-learn\n",
      "Installing collected packages: scikit-learn\n",
      "\u001b[31mERROR: pip's dependency resolver does not currently take into account all the packages that are installed. This behaviour is the source of the following dependency conflicts.\n",
      "bigframes 1.2.0 requires scikit-learn>=1.2.2, but you have scikit-learn 0.24.2 which is incompatible.\u001b[0m\u001b[31m\n",
      "\u001b[0mSuccessfully installed scikit-learn-0.24.2\n"
     ]
    }
   ],
   "source": [
    "# 3. установите более старую версию scikit-learn без учета ее зависимостей\n",
    "!pip install scikit-learn==0.24.2 --no-build-isolation"
   ]
  },
  {
   "cell_type": "code",
   "execution_count": null,
   "metadata": {
    "colab": {
     "base_uri": "https://localhost:8080/"
    },
    "id": "0tGCcWlKGikg",
    "outputId": "8b6b149c-ddaa-4ad7-d63e-a0c38204fac7"
   },
   "outputs": [
    {
     "name": "stdout",
     "output_type": "stream",
     "text": [
      "Collecting auto-sklearn\n",
      "  Using cached auto-sklearn-0.15.0.tar.gz (6.5 MB)\n",
      "  Installing build dependencies ... \u001b[?25l\u001b[?25hdone\n",
      "  Getting requirements to build wheel ... \u001b[?25l\u001b[?25hdone\n",
      "  Preparing metadata (pyproject.toml) ... \u001b[?25l\u001b[?25hdone\n",
      "Requirement already satisfied: setuptools in /usr/local/lib/python3.10/dist-packages (from auto-sklearn) (67.7.2)\n",
      "Requirement already satisfied: typing-extensions in /usr/local/lib/python3.10/dist-packages (from auto-sklearn) (4.11.0)\n",
      "Requirement already satisfied: distro in /usr/lib/python3/dist-packages (from auto-sklearn) (1.7.0)\n",
      "Requirement already satisfied: numpy>=1.9.0 in /usr/local/lib/python3.10/dist-packages (from auto-sklearn) (1.24.4)\n",
      "Requirement already satisfied: scipy>=1.7.0 in /usr/local/lib/python3.10/dist-packages (from auto-sklearn) (1.9.0)\n",
      "Requirement already satisfied: joblib in /usr/local/lib/python3.10/dist-packages (from auto-sklearn) (1.4.0)\n",
      "Requirement already satisfied: scikit-learn<0.25.0,>=0.24.0 in /usr/local/lib/python3.10/dist-packages (from auto-sklearn) (0.24.2)\n",
      "Requirement already satisfied: dask>=2021.12 in /usr/local/lib/python3.10/dist-packages (from auto-sklearn) (2023.8.1)\n",
      "Requirement already satisfied: distributed>=2012.12 in /usr/local/lib/python3.10/dist-packages (from auto-sklearn) (2023.8.1)\n",
      "Requirement already satisfied: pyyaml in /usr/local/lib/python3.10/dist-packages (from auto-sklearn) (6.0.1)\n",
      "Requirement already satisfied: pandas>=1.0 in /usr/local/lib/python3.10/dist-packages (from auto-sklearn) (2.0.3)\n",
      "Collecting liac-arff (from auto-sklearn)\n",
      "  Downloading liac-arff-2.5.0.tar.gz (13 kB)\n",
      "  Preparing metadata (setup.py) ... \u001b[?25l\u001b[?25hdone\n",
      "Requirement already satisfied: threadpoolctl in /usr/local/lib/python3.10/dist-packages (from auto-sklearn) (3.4.0)\n",
      "Collecting ConfigSpace<0.5,>=0.4.21 (from auto-sklearn)\n",
      "  Downloading ConfigSpace-0.4.21-cp310-cp310-manylinux_2_17_x86_64.manylinux2014_x86_64.whl (4.8 MB)\n",
      "\u001b[2K     \u001b[90m━━━━━━━━━━━━━━━━━━━━━━━━━━━━━━━━━━━━━━━━\u001b[0m \u001b[32m4.8/4.8 MB\u001b[0m \u001b[31m10.9 MB/s\u001b[0m eta \u001b[36m0:00:00\u001b[0m\n",
      "\u001b[?25hCollecting pynisher<0.7,>=0.6.3 (from auto-sklearn)\n",
      "  Downloading pynisher-0.6.4.tar.gz (11 kB)\n",
      "  Preparing metadata (setup.py) ... \u001b[?25l\u001b[?25hdone\n",
      "Collecting pyrfr<0.9,>=0.8.1 (from auto-sklearn)\n",
      "  Downloading pyrfr-0.8.3-cp310-cp310-manylinux_2_17_x86_64.manylinux2014_x86_64.whl (4.5 MB)\n",
      "\u001b[2K     \u001b[90m━━━━━━━━━━━━━━━━━━━━━━━━━━━━━━━━━━━━━━━━\u001b[0m \u001b[32m4.5/4.5 MB\u001b[0m \u001b[31m16.0 MB/s\u001b[0m eta \u001b[36m0:00:00\u001b[0m\n",
      "\u001b[?25hCollecting smac<1.3,>=1.2 (from auto-sklearn)\n",
      "  Downloading smac-1.2.tar.gz (260 kB)\n",
      "\u001b[2K     \u001b[90m━━━━━━━━━━━━━━━━━━━━━━━━━━━━━━━━━━━━━━━━\u001b[0m \u001b[32m260.9/260.9 kB\u001b[0m \u001b[31m19.0 MB/s\u001b[0m eta \u001b[36m0:00:00\u001b[0m\n",
      "\u001b[?25h  Preparing metadata (setup.py) ... \u001b[?25l\u001b[?25hdone\n",
      "Requirement already satisfied: cython in /usr/local/lib/python3.10/dist-packages (from ConfigSpace<0.5,>=0.4.21->auto-sklearn) (0.29.36)\n",
      "Requirement already satisfied: pyparsing in /usr/local/lib/python3.10/dist-packages (from ConfigSpace<0.5,>=0.4.21->auto-sklearn) (2.4.0)\n",
      "Requirement already satisfied: click>=8.0 in /usr/local/lib/python3.10/dist-packages (from dask>=2021.12->auto-sklearn) (8.1.7)\n",
      "Requirement already satisfied: cloudpickle>=1.5.0 in /usr/local/lib/python3.10/dist-packages (from dask>=2021.12->auto-sklearn) (2.2.1)\n",
      "Requirement already satisfied: fsspec>=2021.09.0 in /usr/local/lib/python3.10/dist-packages (from dask>=2021.12->auto-sklearn) (2023.6.0)\n",
      "Requirement already satisfied: packaging>=20.0 in /usr/local/lib/python3.10/dist-packages (from dask>=2021.12->auto-sklearn) (24.0)\n",
      "Requirement already satisfied: partd>=1.2.0 in /usr/local/lib/python3.10/dist-packages (from dask>=2021.12->auto-sklearn) (1.4.1)\n",
      "Requirement already satisfied: toolz>=0.10.0 in /usr/local/lib/python3.10/dist-packages (from dask>=2021.12->auto-sklearn) (0.12.1)\n",
      "Requirement already satisfied: importlib-metadata>=4.13.0 in /usr/local/lib/python3.10/dist-packages (from dask>=2021.12->auto-sklearn) (7.1.0)\n",
      "Requirement already satisfied: jinja2>=2.10.3 in /usr/local/lib/python3.10/dist-packages (from distributed>=2012.12->auto-sklearn) (3.1.3)\n",
      "Requirement already satisfied: locket>=1.0.0 in /usr/local/lib/python3.10/dist-packages (from distributed>=2012.12->auto-sklearn) (1.0.0)\n",
      "Requirement already satisfied: msgpack>=1.0.0 in /usr/local/lib/python3.10/dist-packages (from distributed>=2012.12->auto-sklearn) (1.0.8)\n",
      "Requirement already satisfied: psutil>=5.7.2 in /usr/local/lib/python3.10/dist-packages (from distributed>=2012.12->auto-sklearn) (5.9.5)\n",
      "Requirement already satisfied: sortedcontainers>=2.0.5 in /usr/local/lib/python3.10/dist-packages (from distributed>=2012.12->auto-sklearn) (2.4.0)\n",
      "Requirement already satisfied: tblib>=1.6.0 in /usr/local/lib/python3.10/dist-packages (from distributed>=2012.12->auto-sklearn) (3.0.0)\n",
      "Requirement already satisfied: tornado>=6.0.4 in /usr/local/lib/python3.10/dist-packages (from distributed>=2012.12->auto-sklearn) (6.3.3)\n",
      "Requirement already satisfied: urllib3>=1.24.3 in /usr/local/lib/python3.10/dist-packages (from distributed>=2012.12->auto-sklearn) (2.0.7)\n",
      "Requirement already satisfied: zict>=2.2.0 in /usr/local/lib/python3.10/dist-packages (from distributed>=2012.12->auto-sklearn) (3.0.0)\n",
      "Requirement already satisfied: python-dateutil>=2.8.2 in /usr/local/lib/python3.10/dist-packages (from pandas>=1.0->auto-sklearn) (2.8.2)\n",
      "Requirement already satisfied: pytz>=2020.1 in /usr/local/lib/python3.10/dist-packages (from pandas>=1.0->auto-sklearn) (2023.4)\n",
      "Requirement already satisfied: tzdata>=2022.1 in /usr/local/lib/python3.10/dist-packages (from pandas>=1.0->auto-sklearn) (2024.1)\n",
      "Collecting emcee>=3.0.0 (from smac<1.3,>=1.2->auto-sklearn)\n",
      "  Downloading emcee-3.1.6-py2.py3-none-any.whl (47 kB)\n",
      "\u001b[2K     \u001b[90m━━━━━━━━━━━━━━━━━━━━━━━━━━━━━━━━━━━━━━━━\u001b[0m \u001b[32m47.4/47.4 kB\u001b[0m \u001b[31m5.8 MB/s\u001b[0m eta \u001b[36m0:00:00\u001b[0m\n",
      "\u001b[?25hRequirement already satisfied: zipp>=0.5 in /usr/local/lib/python3.10/dist-packages (from importlib-metadata>=4.13.0->dask>=2021.12->auto-sklearn) (3.18.1)\n",
      "Requirement already satisfied: MarkupSafe>=2.0 in /usr/local/lib/python3.10/dist-packages (from jinja2>=2.10.3->distributed>=2012.12->auto-sklearn) (2.1.5)\n",
      "Requirement already satisfied: six>=1.5 in /usr/local/lib/python3.10/dist-packages (from python-dateutil>=2.8.2->pandas>=1.0->auto-sklearn) (1.16.0)\n",
      "Building wheels for collected packages: auto-sklearn, pynisher, smac, liac-arff\n",
      "  Building wheel for auto-sklearn (pyproject.toml) ... \u001b[?25l\u001b[?25hdone\n",
      "  Created wheel for auto-sklearn: filename=auto_sklearn-0.15.0-py3-none-any.whl size=6641936 sha256=f6732e3f2f644a2468fd7469d030a779b7c159c6e4d41533f3346cebadbf0e50\n",
      "  Stored in directory: /root/.cache/pip/wheels/4d/0a/f9/8c1a06bcc36bc16b467b044b5bb03a90f92a5c5e6cd443414b\n",
      "  Building wheel for pynisher (setup.py) ... \u001b[?25l\u001b[?25hdone\n",
      "  Created wheel for pynisher: filename=pynisher-0.6.4-py3-none-any.whl size=7026 sha256=7d43dfbd5018430aaf2f926fdf4c094e9e139b8818ba7b7985de8ee173069f47\n",
      "  Stored in directory: /root/.cache/pip/wheels/90/7b/53/b21d6b41910f43c7f1557262e579598f83e75e44c659c1bcce\n",
      "  Building wheel for smac (setup.py) ... \u001b[?25l\u001b[?25hdone\n",
      "  Created wheel for smac: filename=smac-1.2-py3-none-any.whl size=215907 sha256=f3cbb29329741f6503421deeb82d194e69c9a3681838c8a47216d462c61eeb56\n",
      "  Stored in directory: /root/.cache/pip/wheels/66/2e/d9/2db14bdfcdc36bf12e202b44201df03f194367fcfd85ce2778\n",
      "  Building wheel for liac-arff (setup.py) ... \u001b[?25l\u001b[?25hdone\n",
      "  Created wheel for liac-arff: filename=liac_arff-2.5.0-py3-none-any.whl size=11716 sha256=a22b0a33aa7a52b8b3162252f9435e9ef9b302adaffbe4eeedf6a37ae6a2a83f\n",
      "  Stored in directory: /root/.cache/pip/wheels/5d/2a/9c/3895d9617f8f49a0883ba686326d598e78a1c2f54fe3cae86d\n",
      "Successfully built auto-sklearn pynisher smac liac-arff\n",
      "Installing collected packages: pyrfr, pynisher, liac-arff, emcee, ConfigSpace, smac, auto-sklearn\n",
      "Successfully installed ConfigSpace-0.4.21 auto-sklearn-0.15.0 emcee-3.1.6 liac-arff-2.5.0 pynisher-0.6.4 pyrfr-0.8.3 smac-1.2\n"
     ]
    }
   ],
   "source": [
    "# 4. финальная установка auto-sklearn\n",
    "!pip install auto-sklearn"
   ]
  },
  {
   "cell_type": "markdown",
   "metadata": {
    "id": "rlRQKtVltNvC"
   },
   "source": [
    "Выполним простой пример ниже. Как вы видите, код очень простой и лаконичный. Мы взяли предустановленный датасет `digits` из библиотеки `sklearn`."
   ]
  },
  {
   "cell_type": "code",
   "execution_count": null,
   "metadata": {
    "colab": {
     "base_uri": "https://localhost:8080/"
    },
    "id": "kzWKa9NO9etB",
    "outputId": "03373faa-07d3-46e1-ac5b-ba650c2f51f3"
   },
   "outputs": [
    {
     "name": "stdout",
     "output_type": "stream",
     "text": [
      "Accuracy: 0.9911111111111112\n"
     ]
    }
   ],
   "source": [
    "import autosklearn.classification\n",
    "import sklearn.model_selection\n",
    "import sklearn.datasets\n",
    "\n",
    "# Загрузка данных, предустановленный датасет digits\n",
    "X, y = sklearn.datasets.load_digits(return_X_y=True) # return_X_y - нас интересуют как данные, так и метки классов\n",
    "\n",
    "# Разделение на обучающую и тестовую выборки\n",
    "X_train, X_test, y_train, y_test = sklearn.model_selection.train_test_split(X, y, random_state=1)\n",
    "\n",
    "# Создание объекта Auto-sklearn и выполнение оптимизации\n",
    "automl = autosklearn.classification.AutoSklearnClassifier(time_left_for_this_task=3600)  # time_left_for_this_task - ограничение времени поиска решения в секундах\n",
    "automl.fit(X_train, y_train) # обучение\n",
    "\n",
    "# Получение предсказаний на тестовой выборке\n",
    "y_pred = automl.predict(X_test)\n",
    "\n",
    "# Оценка производительности\n",
    "accuracy = sklearn.metrics.accuracy_score(y_test, y_pred)\n",
    "print(\"Accuracy:\", accuracy)"
   ]
  },
  {
   "cell_type": "markdown",
   "metadata": {
    "id": "Xdg76uX-gEC9"
   },
   "source": [
    "Мы видим, что точность модели соствила 99%. Это очень круто!"
   ]
  },
  {
   "cell_type": "markdown",
   "metadata": {
    "id": "ZT7biq9eer4y"
   },
   "source": [
    "Получим модели, найденные с помощью auto-sklearn:"
   ]
  },
  {
   "cell_type": "code",
   "execution_count": null,
   "metadata": {
    "colab": {
     "base_uri": "https://localhost:8080/",
     "height": 896
    },
    "id": "ObtxhbCxbQej",
    "outputId": "1a50bc98-f60a-4b19-d79d-cccd19189232"
   },
   "outputs": [
    {
     "data": {
      "application/vnd.google.colaboratory.intrinsic+json": {
       "summary": "{\n  \"name\": \"automl\",\n  \"rows\": 26,\n  \"fields\": [\n    {\n      \"column\": \"model_id\",\n      \"properties\": {\n        \"dtype\": \"number\",\n        \"std\": 65,\n        \"min\": 139,\n        \"max\": 342,\n        \"num_unique_values\": 26,\n        \"samples\": [\n          186,\n          255,\n          139\n        ],\n        \"semantic_type\": \"\",\n        \"description\": \"\"\n      }\n    },\n    {\n      \"column\": \"rank\",\n      \"properties\": {\n        \"dtype\": \"number\",\n        \"std\": 7,\n        \"min\": 1,\n        \"max\": 26,\n        \"num_unique_values\": 26,\n        \"samples\": [\n          17,\n          9,\n          1\n        ],\n        \"semantic_type\": \"\",\n        \"description\": \"\"\n      }\n    },\n    {\n      \"column\": \"ensemble_weight\",\n      \"properties\": {\n        \"dtype\": \"number\",\n        \"std\": 0.02033564509767176,\n        \"min\": 0.02,\n        \"max\": 0.08,\n        \"num_unique_values\": 4,\n        \"samples\": [\n          0.06,\n          0.08,\n          0.04\n        ],\n        \"semantic_type\": \"\",\n        \"description\": \"\"\n      }\n    },\n    {\n      \"column\": \"type\",\n      \"properties\": {\n        \"dtype\": \"category\",\n        \"num_unique_values\": 2,\n        \"samples\": [\n          \"libsvm_svc\",\n          \"lda\"\n        ],\n        \"semantic_type\": \"\",\n        \"description\": \"\"\n      }\n    },\n    {\n      \"column\": \"cost\",\n      \"properties\": {\n        \"dtype\": \"number\",\n        \"std\": 0.0,\n        \"min\": 0.008988764044943864,\n        \"max\": 0.008988764044943864,\n        \"num_unique_values\": 1,\n        \"samples\": [\n          0.008988764044943864\n        ],\n        \"semantic_type\": \"\",\n        \"description\": \"\"\n      }\n    },\n    {\n      \"column\": \"duration\",\n      \"properties\": {\n        \"dtype\": \"number\",\n        \"std\": 1.9141372683665814,\n        \"min\": 0.853428840637207,\n        \"max\": 5.294342041015625,\n        \"num_unique_values\": 26,\n        \"samples\": [\n          4.8980512619018555\n        ],\n        \"semantic_type\": \"\",\n        \"description\": \"\"\n      }\n    }\n  ]\n}",
       "type": "dataframe"
      },
      "text/html": [
       "\n",
       "  <div id=\"df-f86de7ae-a4f8-4260-832e-46d509a0a1ad\" class=\"colab-df-container\">\n",
       "    <div>\n",
       "<style scoped>\n",
       "    .dataframe tbody tr th:only-of-type {\n",
       "        vertical-align: middle;\n",
       "    }\n",
       "\n",
       "    .dataframe tbody tr th {\n",
       "        vertical-align: top;\n",
       "    }\n",
       "\n",
       "    .dataframe thead th {\n",
       "        text-align: right;\n",
       "    }\n",
       "</style>\n",
       "<table border=\"1\" class=\"dataframe\">\n",
       "  <thead>\n",
       "    <tr style=\"text-align: right;\">\n",
       "      <th></th>\n",
       "      <th>rank</th>\n",
       "      <th>ensemble_weight</th>\n",
       "      <th>type</th>\n",
       "      <th>cost</th>\n",
       "      <th>duration</th>\n",
       "    </tr>\n",
       "    <tr>\n",
       "      <th>model_id</th>\n",
       "      <th></th>\n",
       "      <th></th>\n",
       "      <th></th>\n",
       "      <th></th>\n",
       "      <th></th>\n",
       "    </tr>\n",
       "  </thead>\n",
       "  <tbody>\n",
       "    <tr>\n",
       "      <th>139</th>\n",
       "      <td>1</td>\n",
       "      <td>0.04</td>\n",
       "      <td>lda</td>\n",
       "      <td>0.008989</td>\n",
       "      <td>4.635552</td>\n",
       "    </tr>\n",
       "    <tr>\n",
       "      <th>146</th>\n",
       "      <td>24</td>\n",
       "      <td>0.06</td>\n",
       "      <td>lda</td>\n",
       "      <td>0.008989</td>\n",
       "      <td>4.535182</td>\n",
       "    </tr>\n",
       "    <tr>\n",
       "      <th>148</th>\n",
       "      <td>23</td>\n",
       "      <td>0.06</td>\n",
       "      <td>lda</td>\n",
       "      <td>0.008989</td>\n",
       "      <td>4.565134</td>\n",
       "    </tr>\n",
       "    <tr>\n",
       "      <th>157</th>\n",
       "      <td>22</td>\n",
       "      <td>0.02</td>\n",
       "      <td>lda</td>\n",
       "      <td>0.008989</td>\n",
       "      <td>4.909153</td>\n",
       "    </tr>\n",
       "    <tr>\n",
       "      <th>167</th>\n",
       "      <td>21</td>\n",
       "      <td>0.02</td>\n",
       "      <td>lda</td>\n",
       "      <td>0.008989</td>\n",
       "      <td>5.193954</td>\n",
       "    </tr>\n",
       "    <tr>\n",
       "      <th>176</th>\n",
       "      <td>20</td>\n",
       "      <td>0.04</td>\n",
       "      <td>lda</td>\n",
       "      <td>0.008989</td>\n",
       "      <td>4.676269</td>\n",
       "    </tr>\n",
       "    <tr>\n",
       "      <th>177</th>\n",
       "      <td>19</td>\n",
       "      <td>0.08</td>\n",
       "      <td>lda</td>\n",
       "      <td>0.008989</td>\n",
       "      <td>4.619011</td>\n",
       "    </tr>\n",
       "    <tr>\n",
       "      <th>184</th>\n",
       "      <td>18</td>\n",
       "      <td>0.06</td>\n",
       "      <td>lda</td>\n",
       "      <td>0.008989</td>\n",
       "      <td>4.914429</td>\n",
       "    </tr>\n",
       "    <tr>\n",
       "      <th>186</th>\n",
       "      <td>17</td>\n",
       "      <td>0.04</td>\n",
       "      <td>lda</td>\n",
       "      <td>0.008989</td>\n",
       "      <td>4.898051</td>\n",
       "    </tr>\n",
       "    <tr>\n",
       "      <th>190</th>\n",
       "      <td>16</td>\n",
       "      <td>0.02</td>\n",
       "      <td>lda</td>\n",
       "      <td>0.008989</td>\n",
       "      <td>4.626883</td>\n",
       "    </tr>\n",
       "    <tr>\n",
       "      <th>198</th>\n",
       "      <td>15</td>\n",
       "      <td>0.02</td>\n",
       "      <td>lda</td>\n",
       "      <td>0.008989</td>\n",
       "      <td>4.796184</td>\n",
       "    </tr>\n",
       "    <tr>\n",
       "      <th>223</th>\n",
       "      <td>14</td>\n",
       "      <td>0.02</td>\n",
       "      <td>lda</td>\n",
       "      <td>0.008989</td>\n",
       "      <td>5.294342</td>\n",
       "    </tr>\n",
       "    <tr>\n",
       "      <th>224</th>\n",
       "      <td>13</td>\n",
       "      <td>0.08</td>\n",
       "      <td>lda</td>\n",
       "      <td>0.008989</td>\n",
       "      <td>4.983732</td>\n",
       "    </tr>\n",
       "    <tr>\n",
       "      <th>225</th>\n",
       "      <td>12</td>\n",
       "      <td>0.04</td>\n",
       "      <td>lda</td>\n",
       "      <td>0.008989</td>\n",
       "      <td>4.626311</td>\n",
       "    </tr>\n",
       "    <tr>\n",
       "      <th>231</th>\n",
       "      <td>11</td>\n",
       "      <td>0.08</td>\n",
       "      <td>lda</td>\n",
       "      <td>0.008989</td>\n",
       "      <td>4.338210</td>\n",
       "    </tr>\n",
       "    <tr>\n",
       "      <th>253</th>\n",
       "      <td>10</td>\n",
       "      <td>0.04</td>\n",
       "      <td>lda</td>\n",
       "      <td>0.008989</td>\n",
       "      <td>4.602326</td>\n",
       "    </tr>\n",
       "    <tr>\n",
       "      <th>255</th>\n",
       "      <td>9</td>\n",
       "      <td>0.02</td>\n",
       "      <td>libsvm_svc</td>\n",
       "      <td>0.008989</td>\n",
       "      <td>0.895370</td>\n",
       "    </tr>\n",
       "    <tr>\n",
       "      <th>266</th>\n",
       "      <td>8</td>\n",
       "      <td>0.04</td>\n",
       "      <td>libsvm_svc</td>\n",
       "      <td>0.008989</td>\n",
       "      <td>0.853429</td>\n",
       "    </tr>\n",
       "    <tr>\n",
       "      <th>283</th>\n",
       "      <td>7</td>\n",
       "      <td>0.04</td>\n",
       "      <td>libsvm_svc</td>\n",
       "      <td>0.008989</td>\n",
       "      <td>0.978212</td>\n",
       "    </tr>\n",
       "    <tr>\n",
       "      <th>284</th>\n",
       "      <td>6</td>\n",
       "      <td>0.04</td>\n",
       "      <td>libsvm_svc</td>\n",
       "      <td>0.008989</td>\n",
       "      <td>0.970943</td>\n",
       "    </tr>\n",
       "    <tr>\n",
       "      <th>287</th>\n",
       "      <td>5</td>\n",
       "      <td>0.02</td>\n",
       "      <td>libsvm_svc</td>\n",
       "      <td>0.008989</td>\n",
       "      <td>0.855131</td>\n",
       "    </tr>\n",
       "    <tr>\n",
       "      <th>300</th>\n",
       "      <td>4</td>\n",
       "      <td>0.04</td>\n",
       "      <td>libsvm_svc</td>\n",
       "      <td>0.008989</td>\n",
       "      <td>0.966611</td>\n",
       "    </tr>\n",
       "    <tr>\n",
       "      <th>333</th>\n",
       "      <td>3</td>\n",
       "      <td>0.02</td>\n",
       "      <td>libsvm_svc</td>\n",
       "      <td>0.008989</td>\n",
       "      <td>0.930310</td>\n",
       "    </tr>\n",
       "    <tr>\n",
       "      <th>335</th>\n",
       "      <td>2</td>\n",
       "      <td>0.02</td>\n",
       "      <td>libsvm_svc</td>\n",
       "      <td>0.008989</td>\n",
       "      <td>0.987196</td>\n",
       "    </tr>\n",
       "    <tr>\n",
       "      <th>337</th>\n",
       "      <td>25</td>\n",
       "      <td>0.02</td>\n",
       "      <td>libsvm_svc</td>\n",
       "      <td>0.008989</td>\n",
       "      <td>0.951679</td>\n",
       "    </tr>\n",
       "    <tr>\n",
       "      <th>342</th>\n",
       "      <td>26</td>\n",
       "      <td>0.02</td>\n",
       "      <td>libsvm_svc</td>\n",
       "      <td>0.008989</td>\n",
       "      <td>0.872506</td>\n",
       "    </tr>\n",
       "  </tbody>\n",
       "</table>\n",
       "</div>\n",
       "    <div class=\"colab-df-buttons\">\n",
       "\n",
       "  <div class=\"colab-df-container\">\n",
       "    <button class=\"colab-df-convert\" onclick=\"convertToInteractive('df-f86de7ae-a4f8-4260-832e-46d509a0a1ad')\"\n",
       "            title=\"Convert this dataframe to an interactive table.\"\n",
       "            style=\"display:none;\">\n",
       "\n",
       "  <svg xmlns=\"http://www.w3.org/2000/svg\" height=\"24px\" viewBox=\"0 -960 960 960\">\n",
       "    <path d=\"M120-120v-720h720v720H120Zm60-500h600v-160H180v160Zm220 220h160v-160H400v160Zm0 220h160v-160H400v160ZM180-400h160v-160H180v160Zm440 0h160v-160H620v160ZM180-180h160v-160H180v160Zm440 0h160v-160H620v160Z\"/>\n",
       "  </svg>\n",
       "    </button>\n",
       "\n",
       "  <style>\n",
       "    .colab-df-container {\n",
       "      display:flex;\n",
       "      gap: 12px;\n",
       "    }\n",
       "\n",
       "    .colab-df-convert {\n",
       "      background-color: #E8F0FE;\n",
       "      border: none;\n",
       "      border-radius: 50%;\n",
       "      cursor: pointer;\n",
       "      display: none;\n",
       "      fill: #1967D2;\n",
       "      height: 32px;\n",
       "      padding: 0 0 0 0;\n",
       "      width: 32px;\n",
       "    }\n",
       "\n",
       "    .colab-df-convert:hover {\n",
       "      background-color: #E2EBFA;\n",
       "      box-shadow: 0px 1px 2px rgba(60, 64, 67, 0.3), 0px 1px 3px 1px rgba(60, 64, 67, 0.15);\n",
       "      fill: #174EA6;\n",
       "    }\n",
       "\n",
       "    .colab-df-buttons div {\n",
       "      margin-bottom: 4px;\n",
       "    }\n",
       "\n",
       "    [theme=dark] .colab-df-convert {\n",
       "      background-color: #3B4455;\n",
       "      fill: #D2E3FC;\n",
       "    }\n",
       "\n",
       "    [theme=dark] .colab-df-convert:hover {\n",
       "      background-color: #434B5C;\n",
       "      box-shadow: 0px 1px 3px 1px rgba(0, 0, 0, 0.15);\n",
       "      filter: drop-shadow(0px 1px 2px rgba(0, 0, 0, 0.3));\n",
       "      fill: #FFFFFF;\n",
       "    }\n",
       "  </style>\n",
       "\n",
       "    <script>\n",
       "      const buttonEl =\n",
       "        document.querySelector('#df-f86de7ae-a4f8-4260-832e-46d509a0a1ad button.colab-df-convert');\n",
       "      buttonEl.style.display =\n",
       "        google.colab.kernel.accessAllowed ? 'block' : 'none';\n",
       "\n",
       "      async function convertToInteractive(key) {\n",
       "        const element = document.querySelector('#df-f86de7ae-a4f8-4260-832e-46d509a0a1ad');\n",
       "        const dataTable =\n",
       "          await google.colab.kernel.invokeFunction('convertToInteractive',\n",
       "                                                    [key], {});\n",
       "        if (!dataTable) return;\n",
       "\n",
       "        const docLinkHtml = 'Like what you see? Visit the ' +\n",
       "          '<a target=\"_blank\" href=https://colab.research.google.com/notebooks/data_table.ipynb>data table notebook</a>'\n",
       "          + ' to learn more about interactive tables.';\n",
       "        element.innerHTML = '';\n",
       "        dataTable['output_type'] = 'display_data';\n",
       "        await google.colab.output.renderOutput(dataTable, element);\n",
       "        const docLink = document.createElement('div');\n",
       "        docLink.innerHTML = docLinkHtml;\n",
       "        element.appendChild(docLink);\n",
       "      }\n",
       "    </script>\n",
       "  </div>\n",
       "\n",
       "\n",
       "<div id=\"df-00c1cb1a-7e02-447e-9219-49766ff39e1e\">\n",
       "  <button class=\"colab-df-quickchart\" onclick=\"quickchart('df-00c1cb1a-7e02-447e-9219-49766ff39e1e')\"\n",
       "            title=\"Suggest charts\"\n",
       "            style=\"display:none;\">\n",
       "\n",
       "<svg xmlns=\"http://www.w3.org/2000/svg\" height=\"24px\"viewBox=\"0 0 24 24\"\n",
       "     width=\"24px\">\n",
       "    <g>\n",
       "        <path d=\"M19 3H5c-1.1 0-2 .9-2 2v14c0 1.1.9 2 2 2h14c1.1 0 2-.9 2-2V5c0-1.1-.9-2-2-2zM9 17H7v-7h2v7zm4 0h-2V7h2v10zm4 0h-2v-4h2v4z\"/>\n",
       "    </g>\n",
       "</svg>\n",
       "  </button>\n",
       "\n",
       "<style>\n",
       "  .colab-df-quickchart {\n",
       "      --bg-color: #E8F0FE;\n",
       "      --fill-color: #1967D2;\n",
       "      --hover-bg-color: #E2EBFA;\n",
       "      --hover-fill-color: #174EA6;\n",
       "      --disabled-fill-color: #AAA;\n",
       "      --disabled-bg-color: #DDD;\n",
       "  }\n",
       "\n",
       "  [theme=dark] .colab-df-quickchart {\n",
       "      --bg-color: #3B4455;\n",
       "      --fill-color: #D2E3FC;\n",
       "      --hover-bg-color: #434B5C;\n",
       "      --hover-fill-color: #FFFFFF;\n",
       "      --disabled-bg-color: #3B4455;\n",
       "      --disabled-fill-color: #666;\n",
       "  }\n",
       "\n",
       "  .colab-df-quickchart {\n",
       "    background-color: var(--bg-color);\n",
       "    border: none;\n",
       "    border-radius: 50%;\n",
       "    cursor: pointer;\n",
       "    display: none;\n",
       "    fill: var(--fill-color);\n",
       "    height: 32px;\n",
       "    padding: 0;\n",
       "    width: 32px;\n",
       "  }\n",
       "\n",
       "  .colab-df-quickchart:hover {\n",
       "    background-color: var(--hover-bg-color);\n",
       "    box-shadow: 0 1px 2px rgba(60, 64, 67, 0.3), 0 1px 3px 1px rgba(60, 64, 67, 0.15);\n",
       "    fill: var(--button-hover-fill-color);\n",
       "  }\n",
       "\n",
       "  .colab-df-quickchart-complete:disabled,\n",
       "  .colab-df-quickchart-complete:disabled:hover {\n",
       "    background-color: var(--disabled-bg-color);\n",
       "    fill: var(--disabled-fill-color);\n",
       "    box-shadow: none;\n",
       "  }\n",
       "\n",
       "  .colab-df-spinner {\n",
       "    border: 2px solid var(--fill-color);\n",
       "    border-color: transparent;\n",
       "    border-bottom-color: var(--fill-color);\n",
       "    animation:\n",
       "      spin 1s steps(1) infinite;\n",
       "  }\n",
       "\n",
       "  @keyframes spin {\n",
       "    0% {\n",
       "      border-color: transparent;\n",
       "      border-bottom-color: var(--fill-color);\n",
       "      border-left-color: var(--fill-color);\n",
       "    }\n",
       "    20% {\n",
       "      border-color: transparent;\n",
       "      border-left-color: var(--fill-color);\n",
       "      border-top-color: var(--fill-color);\n",
       "    }\n",
       "    30% {\n",
       "      border-color: transparent;\n",
       "      border-left-color: var(--fill-color);\n",
       "      border-top-color: var(--fill-color);\n",
       "      border-right-color: var(--fill-color);\n",
       "    }\n",
       "    40% {\n",
       "      border-color: transparent;\n",
       "      border-right-color: var(--fill-color);\n",
       "      border-top-color: var(--fill-color);\n",
       "    }\n",
       "    60% {\n",
       "      border-color: transparent;\n",
       "      border-right-color: var(--fill-color);\n",
       "    }\n",
       "    80% {\n",
       "      border-color: transparent;\n",
       "      border-right-color: var(--fill-color);\n",
       "      border-bottom-color: var(--fill-color);\n",
       "    }\n",
       "    90% {\n",
       "      border-color: transparent;\n",
       "      border-bottom-color: var(--fill-color);\n",
       "    }\n",
       "  }\n",
       "</style>\n",
       "\n",
       "  <script>\n",
       "    async function quickchart(key) {\n",
       "      const quickchartButtonEl =\n",
       "        document.querySelector('#' + key + ' button');\n",
       "      quickchartButtonEl.disabled = true;  // To prevent multiple clicks.\n",
       "      quickchartButtonEl.classList.add('colab-df-spinner');\n",
       "      try {\n",
       "        const charts = await google.colab.kernel.invokeFunction(\n",
       "            'suggestCharts', [key], {});\n",
       "      } catch (error) {\n",
       "        console.error('Error during call to suggestCharts:', error);\n",
       "      }\n",
       "      quickchartButtonEl.classList.remove('colab-df-spinner');\n",
       "      quickchartButtonEl.classList.add('colab-df-quickchart-complete');\n",
       "    }\n",
       "    (() => {\n",
       "      let quickchartButtonEl =\n",
       "        document.querySelector('#df-00c1cb1a-7e02-447e-9219-49766ff39e1e button');\n",
       "      quickchartButtonEl.style.display =\n",
       "        google.colab.kernel.accessAllowed ? 'block' : 'none';\n",
       "    })();\n",
       "  </script>\n",
       "</div>\n",
       "    </div>\n",
       "  </div>\n"
      ],
      "text/plain": [
       "          rank  ensemble_weight        type      cost  duration\n",
       "model_id                                                       \n",
       "139          1             0.04         lda  0.008989  4.635552\n",
       "146         24             0.06         lda  0.008989  4.535182\n",
       "148         23             0.06         lda  0.008989  4.565134\n",
       "157         22             0.02         lda  0.008989  4.909153\n",
       "167         21             0.02         lda  0.008989  5.193954\n",
       "176         20             0.04         lda  0.008989  4.676269\n",
       "177         19             0.08         lda  0.008989  4.619011\n",
       "184         18             0.06         lda  0.008989  4.914429\n",
       "186         17             0.04         lda  0.008989  4.898051\n",
       "190         16             0.02         lda  0.008989  4.626883\n",
       "198         15             0.02         lda  0.008989  4.796184\n",
       "223         14             0.02         lda  0.008989  5.294342\n",
       "224         13             0.08         lda  0.008989  4.983732\n",
       "225         12             0.04         lda  0.008989  4.626311\n",
       "231         11             0.08         lda  0.008989  4.338210\n",
       "253         10             0.04         lda  0.008989  4.602326\n",
       "255          9             0.02  libsvm_svc  0.008989  0.895370\n",
       "266          8             0.04  libsvm_svc  0.008989  0.853429\n",
       "283          7             0.04  libsvm_svc  0.008989  0.978212\n",
       "284          6             0.04  libsvm_svc  0.008989  0.970943\n",
       "287          5             0.02  libsvm_svc  0.008989  0.855131\n",
       "300          4             0.04  libsvm_svc  0.008989  0.966611\n",
       "333          3             0.02  libsvm_svc  0.008989  0.930310\n",
       "335          2             0.02  libsvm_svc  0.008989  0.987196\n",
       "337         25             0.02  libsvm_svc  0.008989  0.951679\n",
       "342         26             0.02  libsvm_svc  0.008989  0.872506"
      ]
     },
     "execution_count": 13,
     "metadata": {},
     "output_type": "execute_result"
    }
   ],
   "source": [
    "automl.leaderboard()"
   ]
  },
  {
   "cell_type": "markdown",
   "metadata": {
    "id": "a8HZamvdmagF"
   },
   "source": [
    "На выходи мы получили \"таблицу лидеров\" для всех оцененных моделей. Содержит обзор всех моделей, прошедших обучение в процессе поиска, а также\n",
    "различные статистические данные об их обучении.\n",
    "\n",
    "Доступны следующие статистические данные:\n",
    "\n",
    "* **model_id** - идентификатор модели в библиотеке.\n",
    "\n",
    "* **rank** - ранг модели, основанный на ее \"cost\".\n",
    "\n",
    "* **ensemble_weight** - вес, присвоенный модели в ансамбле моделей.\n",
    "\n",
    "* **type** - тип используемого классификатора/регрессора.\n",
    "\n",
    "* **cost** - потери модели на валидационной выборке.\n",
    "\n",
    "* **duration** - период времени, на котором модель оптимизировалась."
   ]
  },
  {
   "cell_type": "markdown",
   "metadata": {
    "id": "HNs8HAYAe76m"
   },
   "source": [
    "Более детально изучить модели созданные с помощью auto-sklearn можно в формате JSON:"
   ]
  },
  {
   "cell_type": "code",
   "execution_count": null,
   "metadata": {
    "colab": {
     "base_uri": "https://localhost:8080/"
    },
    "id": "CM4TwcG9dAub",
    "outputId": "8a3d9156-df3c-4425-aa52-5f4e60b4ad29"
   },
   "outputs": [
    {
     "name": "stdout",
     "output_type": "stream",
     "text": [
      "{   139: {   'balancing': Balancing(random_state=1),\n",
      "             'classifier': <autosklearn.pipeline.components.classification.ClassifierChoice object at 0x7bb7ed489360>,\n",
      "             'cost': 0.008988764044943864,\n",
      "             'data_preprocessor': <autosklearn.pipeline.components.data_preprocessing.DataPreprocessorChoice object at 0x7bb7ed489f00>,\n",
      "             'ensemble_weight': 0.04,\n",
      "             'feature_preprocessor': <autosklearn.pipeline.components.feature_preprocessing.FeaturePreprocessorChoice object at 0x7bb7ed488b80>,\n",
      "             'model_id': 139,\n",
      "             'rank': 1,\n",
      "             'sklearn_classifier': LinearDiscriminantAnalysis(shrinkage='auto', solver='lsqr',\n",
      "                           tol=0.08913295521534927)},\n",
      "    146: {   'balancing': Balancing(random_state=1),\n",
      "             'classifier': <autosklearn.pipeline.components.classification.ClassifierChoice object at 0x7bb7ed4282e0>,\n",
      "             'cost': 0.008988764044943864,\n",
      "             'data_preprocessor': <autosklearn.pipeline.components.data_preprocessing.DataPreprocessorChoice object at 0x7bb7ed48aa10>,\n",
      "             'ensemble_weight': 0.06,\n",
      "             'feature_preprocessor': <autosklearn.pipeline.components.feature_preprocessing.FeaturePreprocessorChoice object at 0x7bb7ed42ae30>,\n",
      "             'model_id': 146,\n",
      "             'rank': 2,\n",
      "             'sklearn_classifier': LinearDiscriminantAnalysis(shrinkage='auto', solver='lsqr',\n",
      "                           tol=0.009066418993334146)},\n",
      "    148: {   'balancing': Balancing(random_state=1),\n",
      "             'classifier': <autosklearn.pipeline.components.classification.ClassifierChoice object at 0x7bb7ecd20220>,\n",
      "             'cost': 0.008988764044943864,\n",
      "             'data_preprocessor': <autosklearn.pipeline.components.data_preprocessing.DataPreprocessorChoice object at 0x7bb7ed48b100>,\n",
      "             'ensemble_weight': 0.06,\n",
      "             'feature_preprocessor': <autosklearn.pipeline.components.feature_preprocessing.FeaturePreprocessorChoice object at 0x7bb7ecd21ab0>,\n",
      "             'model_id': 148,\n",
      "             'rank': 3,\n",
      "             'sklearn_classifier': LinearDiscriminantAnalysis(shrinkage='auto', solver='lsqr',\n",
      "                           tol=0.00010874352270474547)},\n",
      "    157: {   'balancing': Balancing(random_state=1, strategy='weighting'),\n",
      "             'classifier': <autosklearn.pipeline.components.classification.ClassifierChoice object at 0x7bb7ecd22d70>,\n",
      "             'cost': 0.008988764044943864,\n",
      "             'data_preprocessor': <autosklearn.pipeline.components.data_preprocessing.DataPreprocessorChoice object at 0x7bb7ed48ba60>,\n",
      "             'ensemble_weight': 0.02,\n",
      "             'feature_preprocessor': <autosklearn.pipeline.components.feature_preprocessing.FeaturePreprocessorChoice object at 0x7bb7ecd21d80>,\n",
      "             'model_id': 157,\n",
      "             'rank': 4,\n",
      "             'sklearn_classifier': LinearDiscriminantAnalysis(shrinkage='auto', solver='lsqr',\n",
      "                           tol=0.00047493943026124754)},\n",
      "    167: {   'balancing': Balancing(random_state=1),\n",
      "             'classifier': <autosklearn.pipeline.components.classification.ClassifierChoice object at 0x7bb7ecd23af0>,\n",
      "             'cost': 0.008988764044943864,\n",
      "             'data_preprocessor': <autosklearn.pipeline.components.data_preprocessing.DataPreprocessorChoice object at 0x7bb7ed42b7c0>,\n",
      "             'ensemble_weight': 0.02,\n",
      "             'feature_preprocessor': <autosklearn.pipeline.components.feature_preprocessing.FeaturePreprocessorChoice object at 0x7bb7ecd21fc0>,\n",
      "             'model_id': 167,\n",
      "             'rank': 5,\n",
      "             'sklearn_classifier': LinearDiscriminantAnalysis(shrinkage='auto', solver='lsqr',\n",
      "                           tol=0.0007469224382004509)},\n",
      "    176: {   'balancing': Balancing(random_state=1, strategy='weighting'),\n",
      "             'classifier': <autosklearn.pipeline.components.classification.ClassifierChoice object at 0x7bb7ecd21030>,\n",
      "             'cost': 0.008988764044943864,\n",
      "             'data_preprocessor': <autosklearn.pipeline.components.data_preprocessing.DataPreprocessorChoice object at 0x7bb7ecd21750>,\n",
      "             'ensemble_weight': 0.04,\n",
      "             'feature_preprocessor': <autosklearn.pipeline.components.feature_preprocessing.FeaturePreprocessorChoice object at 0x7bb7ecd23340>,\n",
      "             'model_id': 176,\n",
      "             'rank': 6,\n",
      "             'sklearn_classifier': LinearDiscriminantAnalysis(shrinkage='auto', solver='lsqr',\n",
      "                           tol=0.007981433743758627)},\n",
      "    177: {   'balancing': Balancing(random_state=1),\n",
      "             'classifier': <autosklearn.pipeline.components.classification.ClassifierChoice object at 0x7bb7ed3195d0>,\n",
      "             'cost': 0.008988764044943864,\n",
      "             'data_preprocessor': <autosklearn.pipeline.components.data_preprocessing.DataPreprocessorChoice object at 0x7bb7ecd21cc0>,\n",
      "             'ensemble_weight': 0.08,\n",
      "             'feature_preprocessor': <autosklearn.pipeline.components.feature_preprocessing.FeaturePreprocessorChoice object at 0x7bb7ed31b7f0>,\n",
      "             'model_id': 177,\n",
      "             'rank': 7,\n",
      "             'sklearn_classifier': LinearDiscriminantAnalysis(shrinkage='auto', solver='lsqr',\n",
      "                           tol=5.349785203552233e-05)},\n",
      "    184: {   'balancing': Balancing(random_state=1, strategy='weighting'),\n",
      "             'classifier': <autosklearn.pipeline.components.classification.ClassifierChoice object at 0x7bb7ed31a9e0>,\n",
      "             'cost': 0.008988764044943864,\n",
      "             'data_preprocessor': <autosklearn.pipeline.components.data_preprocessing.DataPreprocessorChoice object at 0x7bb7ecd202e0>,\n",
      "             'ensemble_weight': 0.06,\n",
      "             'feature_preprocessor': <autosklearn.pipeline.components.feature_preprocessing.FeaturePreprocessorChoice object at 0x7bb7ed318d60>,\n",
      "             'model_id': 184,\n",
      "             'rank': 8,\n",
      "             'sklearn_classifier': LinearDiscriminantAnalysis(shrinkage='auto', solver='lsqr',\n",
      "                           tol=3.160255279991284e-05)},\n",
      "    186: {   'balancing': Balancing(random_state=1),\n",
      "             'classifier': <autosklearn.pipeline.components.classification.ClassifierChoice object at 0x7bb7ed31a7a0>,\n",
      "             'cost': 0.008988764044943864,\n",
      "             'data_preprocessor': <autosklearn.pipeline.components.data_preprocessing.DataPreprocessorChoice object at 0x7bb7ecd23610>,\n",
      "             'ensemble_weight': 0.04,\n",
      "             'feature_preprocessor': <autosklearn.pipeline.components.feature_preprocessing.FeaturePreprocessorChoice object at 0x7bb7ed31a3b0>,\n",
      "             'model_id': 186,\n",
      "             'rank': 9,\n",
      "             'sklearn_classifier': LinearDiscriminantAnalysis(shrinkage='auto', solver='lsqr',\n",
      "                           tol=0.021655616956603937)},\n",
      "    190: {   'balancing': Balancing(random_state=1),\n",
      "             'classifier': <autosklearn.pipeline.components.classification.ClassifierChoice object at 0x7bb7ed418a30>,\n",
      "             'cost': 0.008988764044943864,\n",
      "             'data_preprocessor': <autosklearn.pipeline.components.data_preprocessing.DataPreprocessorChoice object at 0x7bb7ed31aaa0>,\n",
      "             'ensemble_weight': 0.02,\n",
      "             'feature_preprocessor': <autosklearn.pipeline.components.feature_preprocessing.FeaturePreprocessorChoice object at 0x7bb7ed41ada0>,\n",
      "             'model_id': 190,\n",
      "             'rank': 10,\n",
      "             'sklearn_classifier': LinearDiscriminantAnalysis(shrinkage='auto', solver='lsqr',\n",
      "                           tol=2.041740917370761e-05)},\n",
      "    198: {   'balancing': Balancing(random_state=1),\n",
      "             'classifier': <autosklearn.pipeline.components.classification.ClassifierChoice object at 0x7bb7ed4185b0>,\n",
      "             'cost': 0.008988764044943864,\n",
      "             'data_preprocessor': <autosklearn.pipeline.components.data_preprocessing.DataPreprocessorChoice object at 0x7bb7ed3193c0>,\n",
      "             'ensemble_weight': 0.02,\n",
      "             'feature_preprocessor': <autosklearn.pipeline.components.feature_preprocessing.FeaturePreprocessorChoice object at 0x7bb7ed41a740>,\n",
      "             'model_id': 198,\n",
      "             'rank': 11,\n",
      "             'sklearn_classifier': LinearDiscriminantAnalysis(shrinkage='auto', solver='lsqr',\n",
      "                           tol=1.5339025486754878e-05)},\n",
      "    223: {   'balancing': Balancing(random_state=1),\n",
      "             'classifier': <autosklearn.pipeline.components.classification.ClassifierChoice object at 0x7bb7ed419f00>,\n",
      "             'cost': 0.008988764044943864,\n",
      "             'data_preprocessor': <autosklearn.pipeline.components.data_preprocessing.DataPreprocessorChoice object at 0x7bb7ed3187f0>,\n",
      "             'ensemble_weight': 0.02,\n",
      "             'feature_preprocessor': <autosklearn.pipeline.components.feature_preprocessing.FeaturePreprocessorChoice object at 0x7bb7ed418970>,\n",
      "             'model_id': 223,\n",
      "             'rank': 12,\n",
      "             'sklearn_classifier': LinearDiscriminantAnalysis(shrinkage='auto', solver='lsqr',\n",
      "                           tol=0.006038131173400131)},\n",
      "    224: {   'balancing': Balancing(random_state=1),\n",
      "             'classifier': <autosklearn.pipeline.components.classification.ClassifierChoice object at 0x7bb7ed41a710>,\n",
      "             'cost': 0.008988764044943864,\n",
      "             'data_preprocessor': <autosklearn.pipeline.components.data_preprocessing.DataPreprocessorChoice object at 0x7bb7ed3196f0>,\n",
      "             'ensemble_weight': 0.08,\n",
      "             'feature_preprocessor': <autosklearn.pipeline.components.feature_preprocessing.FeaturePreprocessorChoice object at 0x7bb7ed419ab0>,\n",
      "             'model_id': 224,\n",
      "             'rank': 13,\n",
      "             'sklearn_classifier': LinearDiscriminantAnalysis(shrinkage='auto', solver='lsqr',\n",
      "                           tol=0.008261913662076804)},\n",
      "    225: {   'balancing': Balancing(random_state=1),\n",
      "             'classifier': <autosklearn.pipeline.components.classification.ClassifierChoice object at 0x7bb7ed490e20>,\n",
      "             'cost': 0.008988764044943864,\n",
      "             'data_preprocessor': <autosklearn.pipeline.components.data_preprocessing.DataPreprocessorChoice object at 0x7bb7ed41ab30>,\n",
      "             'ensemble_weight': 0.04,\n",
      "             'feature_preprocessor': <autosklearn.pipeline.components.feature_preprocessing.FeaturePreprocessorChoice object at 0x7bb7ed490340>,\n",
      "             'model_id': 225,\n",
      "             'rank': 14,\n",
      "             'sklearn_classifier': LinearDiscriminantAnalysis(shrinkage='auto', solver='lsqr',\n",
      "                           tol=0.05155313373161908)},\n",
      "    231: {   'balancing': Balancing(random_state=1),\n",
      "             'classifier': <autosklearn.pipeline.components.classification.ClassifierChoice object at 0x7bb7ed4933a0>,\n",
      "             'cost': 0.008988764044943864,\n",
      "             'data_preprocessor': <autosklearn.pipeline.components.data_preprocessing.DataPreprocessorChoice object at 0x7bb7ed418850>,\n",
      "             'ensemble_weight': 0.08,\n",
      "             'feature_preprocessor': <autosklearn.pipeline.components.feature_preprocessing.FeaturePreprocessorChoice object at 0x7bb7ed490130>,\n",
      "             'model_id': 231,\n",
      "             'rank': 15,\n",
      "             'sklearn_classifier': LinearDiscriminantAnalysis(shrinkage=0.08828708187026821, solver='lsqr',\n",
      "                           tol=0.00011082906202036484)},\n",
      "    253: {   'balancing': Balancing(random_state=1),\n",
      "             'classifier': <autosklearn.pipeline.components.classification.ClassifierChoice object at 0x7bb7ed490730>,\n",
      "             'cost': 0.008988764044943864,\n",
      "             'data_preprocessor': <autosklearn.pipeline.components.data_preprocessing.DataPreprocessorChoice object at 0x7bb7ed4187c0>,\n",
      "             'ensemble_weight': 0.04,\n",
      "             'feature_preprocessor': <autosklearn.pipeline.components.feature_preprocessing.FeaturePreprocessorChoice object at 0x7bb7ed493910>,\n",
      "             'model_id': 253,\n",
      "             'rank': 16,\n",
      "             'sklearn_classifier': LinearDiscriminantAnalysis(shrinkage='auto', solver='lsqr',\n",
      "                           tol=0.06818159315670987)},\n",
      "    255: {   'balancing': Balancing(random_state=1),\n",
      "             'classifier': <autosklearn.pipeline.components.classification.ClassifierChoice object at 0x7bb7ed571060>,\n",
      "             'cost': 0.008988764044943864,\n",
      "             'data_preprocessor': <autosklearn.pipeline.components.data_preprocessing.DataPreprocessorChoice object at 0x7bb7ed490bb0>,\n",
      "             'ensemble_weight': 0.02,\n",
      "             'feature_preprocessor': <autosklearn.pipeline.components.feature_preprocessing.FeaturePreprocessorChoice object at 0x7bb7ed571ff0>,\n",
      "             'model_id': 255,\n",
      "             'rank': 17,\n",
      "             'sklearn_classifier': SVC(C=228.39662433279506, cache_size=1923.5989583333333,\n",
      "    gamma=1.629185911440825, max_iter=-1.0, random_state=1, shrinking=False,\n",
      "    tol=0.000900323075944377)},\n",
      "    266: {   'balancing': Balancing(random_state=1),\n",
      "             'classifier': <autosklearn.pipeline.components.classification.ClassifierChoice object at 0x7bb7ed3799c0>,\n",
      "             'cost': 0.008988764044943864,\n",
      "             'data_preprocessor': <autosklearn.pipeline.components.data_preprocessing.DataPreprocessorChoice object at 0x7bb7ed490610>,\n",
      "             'ensemble_weight': 0.04,\n",
      "             'feature_preprocessor': <autosklearn.pipeline.components.feature_preprocessing.FeaturePreprocessorChoice object at 0x7bb7ed3789d0>,\n",
      "             'model_id': 266,\n",
      "             'rank': 18,\n",
      "             'sklearn_classifier': SVC(C=241.04546386690566, cache_size=1926.15625, gamma=1.2742527697671397,\n",
      "    max_iter=-1.0, random_state=1, shrinking=False, tol=0.0008211208346923318)},\n",
      "    283: {   'balancing': Balancing(random_state=1, strategy='weighting'),\n",
      "             'classifier': <autosklearn.pipeline.components.classification.ClassifierChoice object at 0x7bb7ed3795a0>,\n",
      "             'cost': 0.008988764044943864,\n",
      "             'data_preprocessor': <autosklearn.pipeline.components.data_preprocessing.DataPreprocessorChoice object at 0x7bb7ed491f60>,\n",
      "             'ensemble_weight': 0.04,\n",
      "             'feature_preprocessor': <autosklearn.pipeline.components.feature_preprocessing.FeaturePreprocessorChoice object at 0x7bb7ed378640>,\n",
      "             'model_id': 283,\n",
      "             'rank': 19,\n",
      "             'sklearn_classifier': SVC(C=9.813682040865109, cache_size=1923.9166666666667, class_weight='balanced',\n",
      "    coef0=0.108783033933608, degree=5, gamma=1.635688819235686, kernel='poly',\n",
      "    max_iter=-1.0, random_state=1, shrinking=False, tol=0.04091009379340501)},\n",
      "    284: {   'balancing': Balancing(random_state=1, strategy='weighting'),\n",
      "             'classifier': <autosklearn.pipeline.components.classification.ClassifierChoice object at 0x7bb7ed407040>,\n",
      "             'cost': 0.008988764044943864,\n",
      "             'data_preprocessor': <autosklearn.pipeline.components.data_preprocessing.DataPreprocessorChoice object at 0x7bb7ed492560>,\n",
      "             'ensemble_weight': 0.04,\n",
      "             'feature_preprocessor': <autosklearn.pipeline.components.feature_preprocessing.FeaturePreprocessorChoice object at 0x7bb7ed4073a0>,\n",
      "             'model_id': 284,\n",
      "             'rank': 20,\n",
      "             'sklearn_classifier': SVC(C=131.2915066217694, cache_size=1923.3489583333333, class_weight='balanced',\n",
      "    degree=5, gamma=0.5112073358614212, kernel='poly', max_iter=-1.0,\n",
      "    random_state=1, shrinking=False, tol=0.05652185377313866)},\n",
      "    287: {   'balancing': Balancing(random_state=1),\n",
      "             'classifier': <autosklearn.pipeline.components.classification.ClassifierChoice object at 0x7bb7ed4076a0>,\n",
      "             'cost': 0.008988764044943864,\n",
      "             'data_preprocessor': <autosklearn.pipeline.components.data_preprocessing.DataPreprocessorChoice object at 0x7bb7ed378970>,\n",
      "             'ensemble_weight': 0.02,\n",
      "             'feature_preprocessor': <autosklearn.pipeline.components.feature_preprocessing.FeaturePreprocessorChoice object at 0x7bb7ed4067d0>,\n",
      "             'model_id': 287,\n",
      "             'rank': 21,\n",
      "             'sklearn_classifier': SVC(C=10.23386267906767, cache_size=1923.8854166666667,\n",
      "    coef0=-0.05477182600824837, degree=4, gamma=0.8892619762754352,\n",
      "    kernel='poly', max_iter=-1.0, random_state=1, shrinking=False,\n",
      "    tol=0.035959786658085614)},\n",
      "    300: {   'balancing': Balancing(random_state=1),\n",
      "             'classifier': <autosklearn.pipeline.components.classification.ClassifierChoice object at 0x7bb7ed404970>,\n",
      "             'cost': 0.008988764044943864,\n",
      "             'data_preprocessor': <autosklearn.pipeline.components.data_preprocessing.DataPreprocessorChoice object at 0x7bb7ed3787f0>,\n",
      "             'ensemble_weight': 0.04,\n",
      "             'feature_preprocessor': <autosklearn.pipeline.components.feature_preprocessing.FeaturePreprocessorChoice object at 0x7bb7ed404a00>,\n",
      "             'model_id': 300,\n",
      "             'rank': 22,\n",
      "             'sklearn_classifier': SVC(C=19.14555208437988, cache_size=1919.9348958333333, degree=5,\n",
      "    gamma=1.192546219011553, kernel='poly', max_iter=-1.0, random_state=1,\n",
      "    shrinking=False, tol=0.06087961238659746)},\n",
      "    333: {   'balancing': Balancing(random_state=1),\n",
      "             'classifier': <autosklearn.pipeline.components.classification.ClassifierChoice object at 0x7bb7ed407280>,\n",
      "             'cost': 0.008988764044943864,\n",
      "             'data_preprocessor': <autosklearn.pipeline.components.data_preprocessing.DataPreprocessorChoice object at 0x7bb7ed406bc0>,\n",
      "             'ensemble_weight': 0.02,\n",
      "             'feature_preprocessor': <autosklearn.pipeline.components.feature_preprocessing.FeaturePreprocessorChoice object at 0x7bb7ed4057b0>,\n",
      "             'model_id': 333,\n",
      "             'rank': 23,\n",
      "             'sklearn_classifier': SVC(C=9.613701517931283, cache_size=1923.34375, coef0=-0.18662935781666679,\n",
      "    degree=5, gamma=1.4003266689300822, kernel='poly', max_iter=-1.0,\n",
      "    random_state=1, shrinking=False, tol=0.06291774893637989)},\n",
      "    335: {   'balancing': Balancing(random_state=1),\n",
      "             'classifier': <autosklearn.pipeline.components.classification.ClassifierChoice object at 0x7bb7ed289810>,\n",
      "             'cost': 0.008988764044943864,\n",
      "             'data_preprocessor': <autosklearn.pipeline.components.data_preprocessing.DataPreprocessorChoice object at 0x7bb7ed404af0>,\n",
      "             'ensemble_weight': 0.02,\n",
      "             'feature_preprocessor': <autosklearn.pipeline.components.feature_preprocessing.FeaturePreprocessorChoice object at 0x7bb7ed28a5c0>,\n",
      "             'model_id': 335,\n",
      "             'rank': 24,\n",
      "             'sklearn_classifier': SVC(C=21.815691732669784, cache_size=1919.2213541666667,\n",
      "    coef0=0.14472415679030126, degree=5, gamma=4.883922320105831, kernel='poly',\n",
      "    max_iter=-1.0, random_state=1, shrinking=False, tol=0.04522727286395989)},\n",
      "    337: {   'balancing': Balancing(random_state=1),\n",
      "             'classifier': <autosklearn.pipeline.components.classification.ClassifierChoice object at 0x7bb7ed288ac0>,\n",
      "             'cost': 0.008988764044943864,\n",
      "             'data_preprocessor': <autosklearn.pipeline.components.data_preprocessing.DataPreprocessorChoice object at 0x7bb7ed404130>,\n",
      "             'ensemble_weight': 0.02,\n",
      "             'feature_preprocessor': <autosklearn.pipeline.components.feature_preprocessing.FeaturePreprocessorChoice object at 0x7bb7ed288f40>,\n",
      "             'model_id': 337,\n",
      "             'rank': 25,\n",
      "             'sklearn_classifier': SVC(C=20.772276612097933, cache_size=1922.6536458333333,\n",
      "    gamma=2.4062686064711967, max_iter=-1.0, random_state=1, shrinking=False,\n",
      "    tol=0.0414284038503127)},\n",
      "    342: {   'balancing': Balancing(random_state=1),\n",
      "             'classifier': <autosklearn.pipeline.components.classification.ClassifierChoice object at 0x7bb7ed28a140>,\n",
      "             'cost': 0.008988764044943864,\n",
      "             'data_preprocessor': <autosklearn.pipeline.components.data_preprocessing.DataPreprocessorChoice object at 0x7bb7ed37a4a0>,\n",
      "             'ensemble_weight': 0.02,\n",
      "             'feature_preprocessor': <autosklearn.pipeline.components.feature_preprocessing.FeaturePreprocessorChoice object at 0x7bb7ed28b910>,\n",
      "             'model_id': 342,\n",
      "             'rank': 26,\n",
      "             'sklearn_classifier': SVC(C=8.556120114730211, cache_size=1923.2942708333333, degree=5,\n",
      "    gamma=7.224300631403936, kernel='poly', max_iter=-1.0, random_state=1,\n",
      "    tol=0.007221757769733688)}}\n"
     ]
    }
   ],
   "source": [
    "from pprint import pprint # удобная библиотека для печати с отступами (indent - число пробелов)\n",
    "pprint(automl.show_models(), indent=4)"
   ]
  },
  {
   "cell_type": "markdown",
   "metadata": {
    "id": "SytPhBGFQSAE"
   },
   "source": [
    "Мы знаем, что точность классификации модели составила 99%. Но мы сохранили интригу о датасете. Давайте выведем его на экран:\n",
    "\n"
   ]
  },
  {
   "cell_type": "code",
   "execution_count": null,
   "metadata": {
    "colab": {
     "base_uri": "https://localhost:8080/",
     "height": 112
    },
    "id": "8yTbWl50g88Z",
    "outputId": "454f9cbd-67fb-442e-d046-7bcc1e2f7c6e"
   },
   "outputs": [
    {
     "data": {
      "image/png": "[encoded data removed]",
      "text/plain": [
       "<Figure size 1500x300 with 10 Axes>"
      ]
     },
     "metadata": {},
     "output_type": "display_data"
    }
   ],
   "source": [
    "import matplotlib.pyplot as plt\n",
    "%matplotlib inline\n",
    "\n",
    "# загрузим датасет c параметром return_X_y=False\n",
    "digits = sklearn.datasets.load_digits(return_X_y=False)\n",
    "\n",
    "_, axes = plt.subplots(nrows=1, ncols=10, figsize=(15, 3)) # настройки графика\n",
    "\n",
    "# zip из 3-х списков делает новый список, состоящий из кортежей по 3 элемента\n",
    "# zip(axes, digits.images, digits.target) -> [(axes[0], digits.images[0], digits.target[0]), ...]\n",
    "for ax, image, label in zip(axes, digits.images, digits.target):\n",
    "    # отключаем оси\n",
    "    ax.set_axis_off()\n",
    "    # выводим изображения в градиенте серого\n",
    "    ax.imshow(image, cmap=plt.cm.gray_r)\n",
    "    # устанавливаем заголовки для графиков\n",
    "    ax.set_title(\"цифра: %i\" % label)"
   ]
  },
  {
   "cell_type": "markdown",
   "metadata": {
    "id": "yIdJuQJWiTG1"
   },
   "source": [
    "Набор данных digits состоит из изображений цифр размером 8x8 пикселей. Атрибут images набора данных хранит массивы значений в оттенках серого размером 8x8 пикселей для каждого изображения. Мы использовали эти массивы для визуализации первых 10 изображений. Атрибут target набора данных хранит цифру, которую представляет каждое изображение, и это включено в название графиков.\n",
    "\n",
    "Таким образом, мы видим, что на датасете, отдаленно напоминающим, знакомый нам MNIST (рукописные цифры), можно получить точность в 99% на валидационной (проверочной) выборке с помощью классического машинного обучения (ML), благодаря AutoML."
   ]
  },
  {
   "cell_type": "markdown",
   "metadata": {
    "id": "E9mEcSE0yL6t"
   },
   "source": [
    "В [следующей части урока](https://colab.research.google.com/drive/1V7mfY8da0S-FbWxhQbchJM38JSJBmtoZ) мы рассмотрим библиотеки AutoML для глубокого обучения (DL), разработанные специально для фреймворка Keras."
   ]
  }
 ],
 "metadata": {
  "accelerator": "GPU",
  "colab": {
   "gpuType": "T4",
   "include_colab_link": true,
   "provenance": []
  },
  "kernelspec": {
   "display_name": "Python 3",
   "name": "python3"
  },
  "language_info": {
   "name": "python"
  }
 },
 "nbformat": 4,
 "nbformat_minor": 0
}
