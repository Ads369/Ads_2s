{
 "cells": [
  {
   "cell_type": "markdown",
   "metadata": {
    "colab_type": "text",
    "id": "view-in-github"
   },
   "source": [
    "<a href=\"https://colab.research.google.com/github/Ads369/Ads_2s/blob/main/17_4_%D0%94%D0%BE%D0%BC%D0%B0%D1%88%D0%BD%D1%8F%D1%8F_%D1%80%D0%B0%D0%B1%D0%BE%D1%82%D0%B0.ipynb\" target=\"_parent\"><img src=\"https://colab.research.google.com/assets/colab-badge.svg\" alt=\"Open In Colab\"/></a>"
   ]
  },
  {
   "cell_type": "markdown",
   "metadata": {
    "id": "SSPwDlw-MmJo"
   },
   "source": [
    "**Навигация по уроку**\n",
    "\n",
    "1. [Проблема переобучения нейронных сетей](https://colab.research.google.com/drive/10jxb_tGNTenMkxuC7ksTjjUtq966mZMM#scrollTo=SOSDEbSwa-Hj)\n",
    "2. [Методы оптимизации и регуляризации НС](https://colab.research.google.com/drive/1VWkA2xBTwWreo3DTdiMkio-RfQIvlXBl)\n",
    "3. [Универсальный алгоритм машинного обучения](https://colab.research.google.com/drive/1hK-5MC4eApd1-tRMppY9X9RLUYeMqG4q)\n",
    "4. Домашняя работа"
   ]
  },
  {
   "cell_type": "markdown",
   "metadata": {
    "id": "xNAPqodeKiw4"
   },
   "source": [
    "Используя знания данного урока, и набор данных IMDB вам необходимо:\n",
    "1. Спроектировать модель классификации отзывов к фильмам с точностью на валидационной выборке более 90%.\n",
    "2. Показать, что модель способна классифицировать отзывы с вероятностью более 88% на контрольной выборке.\n",
    "\n",
    "За успешное выполнение задания вы получите 3 балла. Если сможете преодолеть точность 95% на валидационной выборке и/или 93% на контрольной, то получите 4 балла.\n",
    "\n",
    "Также вы можете получить дополнительно 1 балл, если выполните все предложенные задания в задаче о Титанике (17.1), проанализируете \"увеличенную модель\" (17.2)."
   ]
  },
  {
   "cell_type": "code",
   "execution_count": null,
   "metadata": {
    "title": "pip"
   },
   "outputs": [],
   "source": [
    "!pip uninstall scikit-learn -y\n",
    "!pip install scikit-learn==1.2.2\n",
    "!pip install scikeras\n",
    "!pip install tensorflow"
   ]
  },
  {
   "cell_type": "code",
   "execution_count": null,
   "id": "7a472671",
   "metadata": {
    "title": "Import"
   },
   "outputs": [],
   "source": [
    "import matplotlib.pyplot as plt\n",
    "import numpy as np\n",
    "from scikeras.wrappers import KerasClassifier\n",
    "from sklearn.metrics import accuracy_score\n",
    "from sklearn.model_selection import StratifiedKFold\n",
    "from tensorflow.keras import layers, models, regularizers\n",
    "from tensorflow.keras.datasets import imdb"
   ]
  },
  {
   "cell_type": "code",
   "execution_count": null,
   "id": "4425cbd4",
   "metadata": {
    "lines_to_next_cell": 1,
    "title": "Main block"
   },
   "outputs": [],
   "source": [
    "# Load and preprocess data\n",
    "def load_and_preprocess_data():\n",
    "    (train_data, train_labels), (test_data, test_labels) = imdb.load_data(\n",
    "        num_words=DICT_SPACE\n",
    "    )\n",
    "\n",
    "    def vectorize_sequences(sequences, dimension=DICT_SPACE):\n",
    "        results = np.zeros((len(sequences), dimension))\n",
    "        for i, sequence in enumerate(sequences):\n",
    "            results[i, sequence] = 1.0\n",
    "        return results\n",
    "\n",
    "    x_train = vectorize_sequences(train_data)\n",
    "    x_test = vectorize_sequences(test_data)\n",
    "    y_train = np.asarray(train_labels).astype(\"float32\")\n",
    "    y_test = np.asarray(test_labels).astype(\"float32\")\n",
    "\n",
    "    return x_train, y_train, x_test, y_test\n",
    "\n",
    "\n",
    "# Create model\n",
    "def create_model():\n",
    "    model = models.Sequential(\n",
    "        [\n",
    "            layers.Input(shape=(DICT_SPACE,)),\n",
    "            layers.Dense(\n",
    "                LAYER_SIZE, activation=\"relu\", kernel_regularizer=regularizers.l2(0.001)\n",
    "            ),\n",
    "            layers.Dropout(DROPOUT_RATE),\n",
    "            layers.Dense(\n",
    "                LAYER_SIZE, activation=\"relu\", kernel_regularizer=regularizers.l2(0.001)\n",
    "            ),\n",
    "            layers.Dropout(DROPOUT_RATE),\n",
    "            layers.Dense(LAYER_SIZE, activation=\"relu\"),\n",
    "            layers.Dropout(DROPOUT_RATE),\n",
    "            layers.Dense(1, activation=\"sigmoid\"),\n",
    "        ]\n",
    "    )\n",
    "    model.compile(optimizer=\"adam\", loss=\"binary_crossentropy\", metrics=[\"accuracy\"])\n",
    "    return model\n",
    "\n",
    "\n",
    "# Train model\n",
    "def train_model(model, x, y, x_val, y_val):\n",
    "    history = model.fit(\n",
    "        x,\n",
    "        y,\n",
    "        epochs=EPOCHS,\n",
    "        batch_size=BATCH_SIZE,\n",
    "        validation_data=(x_val, y_val),\n",
    "        verbose=0,\n",
    "    )\n",
    "    return history\n",
    "\n",
    "\n",
    "# Evaluate model\n",
    "def evaluate_model(model, x_test, y_test):\n",
    "    raw_predictions = model.predict(x_test)\n",
    "    predictions = (raw_predictions > 0.5).astype(int)\n",
    "    score = accuracy_score(y_test, predictions)\n",
    "    return predictions, score\n",
    "\n",
    "\n",
    "# Plot training history\n",
    "def plot_history(history):\n",
    "    plt.figure(figsize=(12, 4))\n",
    "    plt.subplot(1, 2, 1)\n",
    "    plt.plot(history.history[\"loss\"], label=\"Training Loss\")\n",
    "    plt.plot(history.history[\"val_loss\"], label=\"Validation Loss\")\n",
    "    plt.title(\"Model Loss\")\n",
    "    plt.xlabel(\"Epoch\")\n",
    "    plt.ylabel(\"Loss\")\n",
    "    plt.ylim(0, 1)\n",
    "    plt.legend()\n",
    "\n",
    "    plt.subplot(1, 2, 2)\n",
    "    plt.plot(history.history[\"accuracy\"], label=\"Training Accuracy\")\n",
    "    plt.plot(history.history[\"val_accuracy\"], label=\"Validation Accuracy\")\n",
    "    plt.title(\"Model Accuracy\")\n",
    "    plt.xlabel(\"Epoch\")\n",
    "    plt.ylabel(\"Accuracy\")\n",
    "    plt.ylim(0, 1)\n",
    "    plt.legend()\n",
    "\n",
    "    plt.tight_layout()\n",
    "    plt.show()\n",
    "\n",
    "\n",
    "# Main execution\n",
    "def main():\n",
    "    x_train, y_train, x_test, y_test = load_and_preprocess_data()\n",
    "\n",
    "    kf = StratifiedKFold(n_splits=NUM_FOLDS, shuffle=True, random_state=42)\n",
    "\n",
    "    oos_y = []\n",
    "    oos_pred = []\n",
    "    fold_scores = []\n",
    "    for fold, (train_index, val_index) in enumerate(kf.split(x_train, y_train), 1):\n",
    "        print(f\"Training fold {fold}\")\n",
    "\n",
    "        _x_train, _x_val = x_train[train_index], x_train[val_index]\n",
    "        _y_train, _y_val = y_train[train_index], y_train[val_index]\n",
    "\n",
    "        model = create_model()\n",
    "        history = train_model(model, _x_train, _y_train, _x_val, _y_val)\n",
    "\n",
    "        if fold == 1:\n",
    "            print(model.summary())\n",
    "            plot_history(history)\n",
    "\n",
    "        val_pred, val_score = evaluate_model(model, _x_val, _y_val)\n",
    "        fold_scores.append(val_score)\n",
    "        print(f\"Fold {fold} validation accuracy: {val_score:.4f}\")\n",
    "\n",
    "        # Заполняем списки (реальными и предсказанными) данными, по которым не училась модель\n",
    "        oos_y.append(_y_val)\n",
    "        oos_pred.append(val_pred)\n",
    "    print(f\"\\n---\\nMean accuracy: {np.mean(fold_scores):.4f}\")\n",
    "\n",
    "    _, test_score = evaluate_model(model, x_test, y_test)\n",
    "    print(f\"\\nTest accuracy: {test_score:.4f}\")\n",
    "\n",
    "    # Вычисляем ошибку предсказания на всей накопленной в фолдах контрольной выборке.\n",
    "    oos_y = np.concatenate(oos_y)\n",
    "    oos_pred = np.concatenate(oos_pred)\n",
    "    score = accuracy_score(oos_y, oos_pred)\n",
    "    print(f\"Итоговый score (accuracy): {score}\")\n",
    "\n",
    "    # Check goal achievements\n",
    "    val_accuracy = np.mean(fold_scores)\n",
    "    if val_accuracy > 0.90:\n",
    "        print(\"Task 1\")\n",
    "    if test_score > 0.88:\n",
    "        print(\"Task 2\")\n",
    "    if val_accuracy > 0.95 or test_score > 0.93:\n",
    "        print(\"Bonus task\")"
   ]
  },
  {
   "cell_type": "code",
   "execution_count": null,
   "id": "721214f5",
   "metadata": {
    "title": "Constants"
   },
   "outputs": [],
   "source": [
    "# Constants\n",
    "### THIS GOOD CASE BUT NOT ENOUGH\n",
    "# EPOCHS = 10\n",
    "# BATCH_SIZE = 128\n",
    "# DICT_SPACE = 10000\n",
    "# NUM_FOLDS = 5\n",
    "# LAYER_SIZE = 16\n",
    "# DROPOUT_RATE = 0.5\n",
    "\n",
    "# EXPEREMENTAL ZONE\n",
    "EPOCHS = 20\n",
    "BATCH_SIZE = 512\n",
    "DICT_SPACE = 30000\n",
    "NUM_FOLDS = 7\n",
    "LAYER_SIZE = 4\n",
    "DROPOUT_RATE = 0.6"
   ]
  },
  {
   "cell_type": "code",
   "execution_count": null,
   "id": "af4f1d07",
   "metadata": {
    "title": "Run"
   },
   "outputs": [],
   "source": [
    "main()"
   ]
  }
 ],
 "metadata": {
  "colab": {
   "include_colab_link": true,
   "provenance": []
  },
  "kernelspec": {
   "display_name": "Python 3",
   "name": "python3"
  },
  "language_info": {
   "name": "python"
  }
 },
 "nbformat": 4,
 "nbformat_minor": 0
}
