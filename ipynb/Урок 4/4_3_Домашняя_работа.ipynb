{
  "cells": [
    {
      "cell_type": "markdown",
      "metadata": {
        "colab_type": "text",
        "id": "view-in-github"
      },
      "source": [
        "<a href=\"https://colab.research.google.com/github/Ads369/Ads_2s/blob/main/4_3_%D0%94%D0%BE%D0%BC%D0%B0%D1%88%D0%BD%D1%8F%D1%8F_%D1%80%D0%B0%D0%B1%D0%BE%D1%82%D0%B0.ipynb\" target=\"_parent\"><img src=\"https://colab.research.google.com/assets/colab-badge.svg\" alt=\"Open In Colab\"/></a>"
      ]
    },
    {
      "cell_type": "markdown",
      "metadata": {
        "id": "8LIWrmOPjBO6"
      },
      "source": [
        "**Навигация по уроку**\n",
        "\n",
        "1. [ Функции. Классы и объекты. Програмные модули](https://colab.research.google.com/drive/1LtSAdLzWIP-xTADXIktKF9yxsh0ioEqN#scrollTo=O0dFTIuYGKI4)\n",
        "2. [Практика кода](https://colab.research.google.com/drive/1GblqLwJKMaNBV4cIyrbQqt7Rsf-7Bbx7)\n",
        "3. Домашняя работа"
      ]
    },
    {
      "cell_type": "markdown",
      "metadata": {
        "id": "XpMXr5-w9Csf"
      },
      "source": [
        "Для прохождения урока необходимо решить минимум 2 задачи. Желаем удачи!"
      ]
    },
    {
      "cell_type": "markdown",
      "metadata": {
        "id": "Bh5tu_5BH-rG"
      },
      "source": [
        "## Задача 1. Случайный номерной знак"
      ]
    },
    {
      "cell_type": "markdown",
      "metadata": {
        "id": "pLn92q_iLp_k"
      },
      "source": [
        "**Условие.** Представьте, что в вашем регионе устаревшим является формат номерных автомобильных знаков из трех букв, следом за которыми идут три цифры. Когда все номера такого шаблона закончились, было решено обновить формат, поставив в начало четыре цифры, а за ними три буквы.\n",
        "Напишите функцию, которая будет генерировать случайный номерной знак. При этом номера в старом и новом форматах должны создаваться примерно с одинаковой вероятностью. В основной программе нужно сгенерировать и вывести на экран случайный номерной знак."
      ]
    },
    {
      "cell_type": "code",
      "execution_count": null,
      "metadata": {
        "id": "El4o9_QWeq78"
      },
      "outputs": [],
      "source": [
        "from random import randint\n",
        "\n",
        "# OLD: AAA111\n",
        "# NEW: 1111AAA\n",
        "\n",
        "def get_random_letter(length = 3):\n",
        "    result = \"\"\n",
        "    for i in range(length):\n",
        "        result += chr(randint(ord('A'), ord('Z')))\n",
        "    return result\n",
        "\n",
        "def get_random_number(length = 3):\n",
        "    result = \"\"\n",
        "    for i in range(length):\n",
        "        result += str(randint(0, 9))\n",
        "    return result\n",
        "\n",
        "def get_random_car_number():\n",
        "    result = \"\"\n",
        "    new_or_old = randint(1,2)\n",
        "\n",
        "    if new_or_old == 1:\n",
        "        result = get_random_letter(3) + get_random_number(3)\n",
        "    else:\n",
        "        result = get_random_number(4) + get_random_letter(3)\n",
        "\n",
        "    return result\n",
        "\n",
        "def main():\n",
        "    print (\"Random car number:\", get_random_car_number())\n",
        "\n",
        "if __name__ == \"__main__\":\n",
        "    main()\n"
      ]
    },
    {
      "cell_type": "markdown",
      "metadata": {
        "id": "I4wpSF3IMHdX"
      },
      "source": [
        "## Задача 2. Шестнадцатеричные и десятичные числа"
      ]
    },
    {
      "cell_type": "markdown",
      "metadata": {
        "id": "mYg_KnVwMStB"
      },
      "source": [
        "**Условие.** Напишите две функции с  именами hex2int и  int2hex для конвертации\n",
        "значений из шестнадцатеричной системы счисления (0, 1, 2, 3, 4, 5, 6, 7, 8, 9, A, B, C, D, E и F) в десятичную (по основанию 10) и обратно. Функция hex2int должна принимать на вход строку с единственным символом в  шестнадцатеричной системе и  преобразовывать его в  число от нуля до 15 в десятичной системе, тогда как функция int2hex будет выполнять обратное действие – принимать десятичное число из диапазона от 0 до 15 и возвращать шестнадцатеричный эквивалент. Обе функции должны принимать единственный параметр со входным значением и возвращать преобразованное число. Удостоверьтесь, что функция hex2int корректно обрабатывает буквы в верхнем и нижнем регистрах. Если введенное пользователем значение выходит за допустимые границы, вы должны вывести сообщение об ошибке."
      ]
    },
    {
      "cell_type": "code",
      "execution_count": null,
      "metadata": {
        "id": "j4R38AofMTBX"
      },
      "outputs": [],
      "source": [
        "def hex2int(hex_str):\n",
        "    hex_int = int(hex_str, 16)\n",
        "    return hex_int\n",
        "\n",
        "def int2hex(int_num):\n",
        "    hex_str = str(hex(int_num))[2:].upper\n",
        "    return hex_str\n",
        "\n",
        "if __name__ == '__main__':\n",
        "    input_value = input(\"1) HEX to INT\\n2) INT TO HEX\\nChoose a mode: \")\n",
        "\n",
        "    if input_value == \"1\":\n",
        "        hex_str = input(\"Enter a hex number: \")\n",
        "        result = int_num = hex2int(hex_str)\n",
        "    elif input_value == '2':\n",
        "        int_num = int(input(\"Enter a number: \"))\n",
        "        result = hex_str = int2hex(int_num)\n",
        "    else:\n",
        "        print(\"Invalid mode\")\n",
        "\n",
        "    if int_num > 15:\n",
        "        print(\"Invalid diapason\")\n",
        "    else:\n",
        "        print(result)"
      ]
    },
    {
      "cell_type": "markdown",
      "metadata": {
        "id": "RIOKyPjlMZA_"
      },
      "source": [
        "## Задача 3. Беспилотный автомобиль"
      ]
    },
    {
      "cell_type": "markdown",
      "metadata": {
        "id": "OlVQTKYrMZBA"
      },
      "source": [
        "**Условие.** Это творческая задача. Представьте, что вы проектируете беспилотный автомобиль. Вам необходимо продумать, какими свойствами он обладает и какие действия совершает. Создайте класс беспилотный автомобиль и сохраните его в виде программного модуля. Импортируете класс и инициализируйте новый объект.  "
      ]
    },
    {
      "cell_type": "code",
      "execution_count": null,
      "metadata": {
        "id": "U2JxR4KOMZBA"
      },
      "outputs": [],
      "source": [
        "class Driverless_car:\n",
        "    def __init__(\n",
        "        self,\n",
        "        id,\n",
        "        name,\n",
        "        model,\n",
        "        year,\n",
        "        color,\n",
        "        longitude=0,\n",
        "        latitude=0,\n",
        "        azimuth=0,\n",
        "        passengers = [],\n",
        "        status=\"stopped\",\n",
        "        mode=\"auto\",\n",
        "        speed=0,\n",
        "    ):\n",
        "        self.id = id\n",
        "        self.name = name\n",
        "        self.model = model\n",
        "        self.year = year\n",
        "        self.color = color\n",
        "\n",
        "        self.longitude = longitude\n",
        "        self.latitude = latitude\n",
        "        self.azimuth = azimuth\n",
        "        self.passengers = passengers\n",
        "\n",
        "        self.status = status\n",
        "        self.mode = mode\n",
        "        self.speed = speed\n",
        "        self.speed_limit = 0\n",
        "        self.route = []\n",
        "        self.route_status = []\n",
        "        self.light = False\n",
        "\n",
        "    def get_info(self):\n",
        "        pass\n",
        "\n",
        "    def change_mode(self, mode):\n",
        "        pass\n",
        "\n",
        "    def get_navigate(self, longitude, latitude):\n",
        "        pass\n",
        "\n",
        "    def get_navigate_to_point(self, point):\n",
        "        pass\n",
        "\n",
        "    def add_route(self, route):\n",
        "        pass\n",
        "\n",
        "    def remove_route(self, route):\n",
        "        pass\n",
        "    \n",
        "    def get_route_status(self):\n",
        "        pass\n",
        "\n",
        "    def drive(self):\n",
        "        pass\n",
        "\n",
        "    def stop(self):\n",
        "        pass\n",
        "\n",
        "    def get_scan(self):\n",
        "        pass\n",
        "\n",
        "    def get_road_status(self):\n",
        "        pass\n",
        "\n",
        "    def lock_doors(self):\n",
        "        pass\n",
        "\n",
        "    def unlock_doors(self):\n",
        "        pass\n",
        "\n",
        "    def open_door(self, door):\n",
        "        pass\n",
        "\n",
        "    def set_limit_speed(self, speed):\n",
        "        pass\n",
        "\n",
        "    def turn(self, direction):\n",
        "        pass\n",
        "\n",
        "    def honk(self):\n",
        "        pass\n",
        "\n",
        "    def turn_on_light(self):\n",
        "        pass\n",
        "\n",
        "    def turn_off_light(self):\n",
        "        pass"
      ]
    }
  ],
  "metadata": {
    "colab": {
      "include_colab_link": true,
      "provenance": []
    },
    "kernelspec": {
      "display_name": "Python 3",
      "name": "python3"
    },
    "language_info": {
      "name": "python"
    }
  },
  "nbformat": 4,
  "nbformat_minor": 0
}
