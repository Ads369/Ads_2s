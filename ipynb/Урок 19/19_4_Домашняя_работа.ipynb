{
  "cells": [
    {
      "cell_type": "markdown",
      "metadata": {
        "colab_type": "text",
        "id": "view-in-github"
      },
      "source": [
        "<a href=\"https://colab.research.google.com/github/Ads369/Ads_2s/blob/main/19_4_%D0%94%D0%BE%D0%BC%D0%B0%D1%88%D0%BD%D1%8F%D1%8F_%D1%80%D0%B0%D0%B1%D0%BE%D1%82%D0%B0.ipynb\" target=\"_parent\"><img src=\"https://colab.research.google.com/assets/colab-badge.svg\" alt=\"Open In Colab\"/></a>"
      ]
    },
    {
      "cell_type": "markdown",
      "metadata": {
        "id": "ShqSbWWbnUTJ"
      },
      "source": [
        "**Навигация по уроку**\n",
        "\n",
        "1. [Keras v3. Современные подходы к CV (компьютерное зрение)](https://colab.research.google.com/drive/16ks3VjO38c7N4kXUsrdzUbunJOxRu3Fq)\n",
        "2. [Перенос обучения в Keras 3.0](https://colab.research.google.com/drive/1x2qd4MvG3ODgNrE2uqxRAZB70dGgdGft)\n",
        "3. [Знакомство с KerasCV](https://colab.research.google.com/drive/1ZWfrEDQaQqDmVUF0yk7N4yoMHRkXf9K-)\n",
        "4. Домашняя работа"
      ]
    },
    {
      "cell_type": "markdown",
      "metadata": {
        "id": "rHGBHHWahdyM"
      },
      "source": [
        "В домашней работе вам необходимо, используя пример из урока 19.2 и Keras 3, произвести тонкую настройку модели второй версии [EfficientNetV2](https://keras.io/api/applications/efficientnet_v2/) на примере набора данных [Stanford Dogs](https://storage.yandexcloud.net/academy.ai/stanford_dogs.zip)."
      ]
    },
    {
      "cell_type": "markdown",
      "metadata": {
        "id": "cnUk6PQ7ikQJ"
      },
      "source": [
        "Баллы за задание начисляются следующим образом:\n",
        "* 3 балла - дается за успешно выполненное задание с точностью на проверочной выборке не менее 75%, в задании должна быть проведена аугментация данных.\n",
        "* Для получения 4-х баллов необходимо добиться, чтобы точности на проверочной и тестовой выборках были выше 75%.\n",
        "* Для получения 5-ти баллов необходимо случайным образом отобрать 10 пород собак, выполнить аугментацию и добиться точности как на обучающей, так и проверочной выборках более 85%.  "
      ]
    },
    {
      "cell_type": "code",
      "execution_count": null,
      "metadata": {},
      "outputs": [],
      "source": [
        "!pip install --upgrade keras==3.0\n"
      ]
    },
    {
      "cell_type": "code",
      "execution_count": null,
      "metadata": {},
      "outputs": [],
      "source": [
        "!wget https://storage.yandexcloud.net/academy.ai/stanford_dogs.zip"
      ]
    },
    {
      "cell_type": "code",
      "execution_count": null,
      "metadata": {},
      "outputs": [],
      "source": [
        "# Разархивируем датасета во временную папку 'temp'\n",
        "!unzip -qo \"stanford_dogs\" -d ./dataset\n",
        "\n",
        "# Папка с папками картинок, рассортированных по категориям\n",
        "IMAGE_PATH = './dataset/'"
      ]
    },
    {
      "cell_type": "code",
      "execution_count": null,
      "metadata": {
        "id": "CWESaQ6yKviE"
      },
      "outputs": [],
      "source": [
        "import keras\n",
        "print(keras.__version__)"
      ]
    },
    {
      "cell_type": "code",
      "execution_count": null,
      "metadata": {},
      "outputs": [],
      "source": [
        "import matplotlib.pyplot as plt\n",
        "%matplotlib inline\n",
        "\n",
        "from tensorflow import data as tf_data\n",
        "import os\n",
        "import keras\n",
        "from keras import layers\n",
        "from keras.applications import EfficientNetV2\n",
        "\n",
        "IMAGE_SIZE = (224, 224) # Размер определен выбором модели\n",
        "BATCH_SIZE = 128"
      ]
    },
    {
      "cell_type": "code",
      "execution_count": null,
      "metadata": {},
      "outputs": [],
      "source": [
        "num_skipped = 0 # счетчик поврежденных файлов\n",
        "for folder_name in os.listdir(IMAGE_PATH): # перебираем папки\n",
        "    folder_path = os.path.join(IMAGE_PATH, folder_name) # склеиваем путь\n",
        "    for fname in os.listdir(folder_path): # получаем список файлов в папке\n",
        "        fpath = os.path.join(folder_path, fname) # получаем путь до файла\n",
        "        try:\n",
        "            fobj = open(fpath, \"rb\") # пытаемся открыть файл для бинарного чтения (rb)\n",
        "            is_jfif = b\"JFIF\" in fobj.peek(10) # получаем первые 10 байт из файла и ищем в них бинарный вариант строки JFIF\n",
        "        finally:\n",
        "            fobj.close() # Закрываем файл\n",
        "\n",
        "        if not is_jfif: # Если не нашли JFIF строку\n",
        "            # Увеличиваем счетчик\n",
        "            num_skipped += 1\n",
        "            # Удаляем поврежденное изображение\n",
        "            os.remove(fpath)\n",
        "\n",
        "print(f\"Удалено изображений: {num_skipped}\")"
      ]
    },
    {
      "cell_type": "code",
      "execution_count": null,
      "metadata": {},
      "outputs": [],
      "source": [
        "train_ds, val_ds = keras.utils.image_dataset_from_directory(\n",
        "    IMAGE_PATH, # путь к папке с данными\n",
        "    validation_split=0.2, # отщепляем 20% на проверочную выборку\n",
        "    subset=\"both\", # указываем, что необходимо вернуть кортеж из обучающей и проверочной выборок (\"training\", \"validation\" или \"both\")\n",
        "    seed=42,  # воспроизводимость результата генерации (результаты с одинаковым числом - одинаковы),\n",
        "    shuffle=True, # перемешиваем датасет\n",
        "    image_size=IMAGE_SIZE, # размер генерируемых изображений\n",
        "    batch_size=BATCH_SIZE, # размер мини-батча\n",
        ")"
      ]
    },
    {
      "cell_type": "code",
      "execution_count": null,
      "metadata": {},
      "outputs": [],
      "source": [
        "# Определяем список имен классов\n",
        "CLASS_LIST = sorted(os.listdir(IMAGE_PATH))\n",
        "\n",
        "# Определяем количества классов\n",
        "CLASS_COUNT = len(CLASS_LIST)\n",
        "\n",
        "# Вывод результата\n",
        "print(f'Количество классов: {CLASS_COUNT}')\n",
        "print(f'Метки классов: {CLASS_LIST}')"
      ]
    },
    {
      "cell_type": "code",
      "execution_count": null,
      "metadata": {},
      "outputs": [],
      "source": [
        "plt.figure(figsize=(10, 10))\n",
        "for images, labels in train_ds.take(1): # берем первый батч обучающей выборки\n",
        "    for i in range(16): # отрисуем первые 16 картинок батча\n",
        "        ax = plt.subplot(4, 4, i + 1)\n",
        "        plt.imshow(keras.utils.img_to_array(images[i]).astype(\"uint8\"))\n",
        "        plt.title(CLASS_LIST[labels[i]]) # покажем метки\n",
        "        plt.axis(\"off\") # отключаем отображение осей"
      ]
    },
    {
      "cell_type": "code",
      "execution_count": null,
      "metadata": {},
      "outputs": [],
      "source": [
        "img_augmentation_layers = [\n",
        "    layers.RandomRotation(factor=0.15), # Вращаем изображение в пределах 15%\n",
        "    layers.RandomTranslation(height_factor=0.1, width_factor=0.1), # Сдвиг на 10% по вертикали и горизонтали\n",
        "    layers.RandomFlip(), # Отражение по вертикали и горизонтали\n",
        "    layers.RandomContrast(factor=0.1), # Изменяем контрастность на 10%\n",
        "]\n",
        "\n",
        "\n",
        "def img_augmentation(images):\n",
        "    # Слои - это функции, которые мы последовательно применяем к входным данным\n",
        "    for layer in img_augmentation_layers:\n",
        "        images = layer(images)\n",
        "    return images"
      ]
    },
    {
      "cell_type": "code",
      "execution_count": null,
      "metadata": {},
      "outputs": [],
      "source": [
        "plt.figure(figsize=(10, 10))\n",
        "for images, label in train_ds.take(1):\n",
        "    for i in range(16):\n",
        "        augmented_images = img_augmentation(images[0])\n",
        "        ax = plt.subplot(4, 4, i + 1)\n",
        "        plt.imshow(keras.utils.img_to_array(augmented_images).astype(\"uint8\")) # Преобразуем картинку в тензор, теперь уже без NumPy\n",
        "        plt.title(\"{}\".format(CLASS_LIST[label[0]])) # Вывод метки\n",
        "        plt.axis(\"off\")"
      ]
    },
    {
      "cell_type": "code",
      "execution_count": null,
      "metadata": {},
      "outputs": [],
      "source": [
        "# Применяем `img_augmentation` к обучающей выборке\n",
        "train_ds = train_ds.map(\n",
        "    lambda img, label: (img_augmentation(img), keras.ops.one_hot(label, CLASS_COUNT)), # One-hot кодирование\n",
        "    num_parallel_calls=tf_data.AUTOTUNE, # число потоков для обработки в map (автонастройка зависит от возможностей процессора)\n",
        ")\n",
        "\n",
        "val_ds = val_ds.map(\n",
        "    lambda img, label: (img, keras.ops.one_hot(label, CLASS_COUNT)), # One-hot кодирование\n",
        "    num_parallel_calls=tf_data.AUTOTUNE, # число потоков для обработки в map (автонастройка зависит от возможностей процессора)\n",
        ")\n",
        "\n",
        "# Предварительная выборка примеров в память GPU или оперативную память\n",
        "# Помогает максимально эффективно использовать графический процессор\n",
        "train_ds = train_ds.prefetch(tf_data.AUTOTUNE)\n",
        "val_ds = val_ds.prefetch(tf_data.AUTOTUNE)"
      ]
    },
    {
      "cell_type": "code",
      "execution_count": null,
      "metadata": {},
      "outputs": [],
      "source": [
        "def show_plot(history):\n",
        "    acc = history.history['acc']\n",
        "    epochs = range(1, len(acc) + 1)\n",
        "    val_acc = history.history['val_acc']\n",
        "    loss = history.history['loss']\n",
        "    val_loss = history.history['val_loss']\n",
        "    epochs = range(1, len(acc) + 1)\n",
        "    plt.plot(epochs, acc, 'r', label='Точность на обучающей выборке')\n",
        "    plt.plot(epochs, val_acc, 'b', label='Точность на проверочной выборке')\n",
        "    plt.title('График точности на обучающей и проверочной выборках')\n",
        "    plt.legend()\n",
        "    plt.figure()\n",
        "    plt.plot(epochs, loss, 'r', label='Потери на обучающей выборке')\n",
        "    plt.plot(epochs, val_loss, 'b', label='Потери на проверочной выборке')\n",
        "    plt.title('График потерь на обучающей и проверочной выборках')\n",
        "    plt.legend()\n",
        "    plt.show()"
      ]
    },
    {
      "cell_type": "code",
      "execution_count": null,
      "metadata": {},
      "outputs": [],
      "source": [
        "def build_model(num_classes):\n",
        "    inputs = layers.Input(shape=(IMAGE_SIZE[0], IMAGE_SIZE[1], 3))\n",
        "    model = EfficientNetV2(include_top=False, input_tensor=inputs, weights=\"imagenet\")\n",
        "\n",
        "    # Заморозка предобученных весов\n",
        "    model.trainable = False\n",
        "\n",
        "    # Замена верхних слоев\n",
        "    x = layers.GlobalAveragePooling2D(name=\"avg_pool\")(model.output)\n",
        "    x = layers.BatchNormalization()(x)\n",
        "\n",
        "    top_dropout_rate = 0.2\n",
        "    x = layers.Dropout(top_dropout_rate, name=\"top_dropout\")(x)\n",
        "    outputs = layers.Dense(num_classes, activation=\"softmax\", name=\"pred\")(x)\n",
        "\n",
        "    # Компилируем\n",
        "    model = keras.Model(inputs, outputs, name=\"EfficientNet\")\n",
        "    optimizer = keras.optimizers.Adam(learning_rate=1e-2)\n",
        "    model.compile(\n",
        "        optimizer=optimizer, loss=\"categorical_crossentropy\", metrics=[\"acc\"]\n",
        "    )\n",
        "    return model"
      ]
    },
    {
      "cell_type": "code",
      "execution_count": null,
      "metadata": {},
      "outputs": [],
      "source": [
        "epochs = 20\n",
        "\n",
        "callbacks = [\n",
        "    keras.callbacks.ModelCheckpoint(filepath = 'best_model_pretrain.keras',\n",
        "                             monitor = 'val_acc',\n",
        "                             save_best_only = True,\n",
        "                             mode = 'max',\n",
        "                             verbose = 0)\n",
        "]\n",
        "\n",
        "model = build_model(num_classes=CLASS_COUNT)\n",
        "\n",
        "\n",
        "history = model.fit(train_ds, epochs=epochs, validation_data=val_ds, callbacks=callbacks)"
      ]
    },
    {
      "cell_type": "code",
      "execution_count": null,
      "metadata": {},
      "outputs": [],
      "source": [
        "from google.colab import files\n",
        "files.download('best_model_pretrain.keras')"
      ]
    },
    {
      "cell_type": "markdown",
      "metadata": {},
      "source": [
        "### Разморозка весов"
      ]
    },
    {
      "cell_type": "code",
      "execution_count": null,
      "metadata": {},
      "outputs": [],
      "source": [
        "def unfreeze_model(model):\n",
        "    # Мы размораживаем 20 верхних слоев за исключением BatchNormalization\n",
        "    for layer in model.layers[-20:]:\n",
        "        if not isinstance(layer, layers.BatchNormalization):\n",
        "            layer.trainable = True\n",
        "    # В оптимизаторе устанавливаем маленький шаг обучения\n",
        "    optimizer = keras.optimizers.Adam(learning_rate=1e-5)\n",
        "    model.compile(\n",
        "        optimizer=optimizer, loss=\"categorical_crossentropy\", metrics=[\"acc\"]\n",
        "    )\n",
        "\n",
        "\n",
        "unfreeze_model(model)\n",
        "\n",
        "epochs = 4\n",
        "history = model.fit(train_ds, epochs=epochs, validation_data=val_ds)\n",
        "show_plot(history)"
      ]
    },
    {
      "cell_type": "markdown",
      "metadata": {
        "id": "oPrXIAZbK0Y7"
      },
      "source": [
        "**Примечание**. В 2021 году появилась вторая версия модели EfficientNetV2 (https://arxiv.org/pdf/2104.00298.pdf), которая была добавлена в Keras."
      ]
    }
  ],
  "metadata": {
    "colab": {
      "include_colab_link": true,
      "provenance": []
    },
    "kernelspec": {
      "display_name": "Python 3",
      "name": "python3"
    },
    "language_info": {
      "name": "python"
    }
  },
  "nbformat": 4,
  "nbformat_minor": 0
}
