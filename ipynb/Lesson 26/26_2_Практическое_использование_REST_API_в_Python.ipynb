{
 "cells": [
  {
   "cell_type": "markdown",
   "metadata": {
    "colab_type": "text",
    "id": "view-in-github"
   },
   "source": [
    "<a href=\"https://colab.research.google.com/github/Ads369/Ads_2s/blob/main/ipynb/Lesson%2026/26_2_%D0%9F%D1%80%D0%B0%D0%BA%D1%82%D0%B8%D1%87%D0%B5%D1%81%D0%BA%D0%BE%D0%B5_%D0%B8%D1%81%D0%BF%D0%BE%D0%BB%D1%8C%D0%B7%D0%BE%D0%B2%D0%B0%D0%BD%D0%B8%D0%B5_REST_API_%D0%B2_Python.ipynb\" target=\"_parent\"><img src=\"https://colab.research.google.com/assets/colab-badge.svg\" alt=\"Open In Colab\"/></a>"
   ]
  },
  {
   "cell_type": "markdown",
   "metadata": {
    "id": "n_TP2nih3N41"
   },
   "source": [
    "**Навигация по уроку**\n",
    "\n",
    "1. [Веб-архитектура сервиса](https://colab.research.google.com/drive/10wtDodlf4SaVcYk6VoXDWk650IDcNPaa)\n",
    "2. Практическое использование REST API в Python\n",
    "3. [Введение в FastAPI](https://colab.research.google.com/drive/1_AzAVys4xub3yyw763NDwfeJ3WecGgkb)\n",
    "5. [Домашняя работа](https://colab.research.google.com/drive/1SlJW51-OaUUDPuk-j9GYNHHwFkHBztU_)"
   ]
  },
  {
   "cell_type": "markdown",
   "metadata": {
    "id": "k5h0imbILFsl"
   },
   "source": [
    "## Реализация REST API в Python\n",
    "\n",
    "Наиболее популярными библиотеками для работы с **HTTP** в **Python** являются **urllib**, **urllib2**, **httplib** и **requests**. Для доступа к низкоуровневым функциям протокола используют **socket**.\n",
    "\n",
    "Самой удобной библиотекой принято считать **requests**, потому ее все чаще включают в свой инструментарий не только программисты, но и специалисты в области DataScience.\n",
    "\n",
    "\n",
    "\n"
   ]
  },
  {
   "cell_type": "markdown",
   "metadata": {
    "id": "GB5ocFhjNHwI"
   },
   "source": [
    "### Библиотека **REQUESTS**"
   ]
  },
  {
   "cell_type": "markdown",
   "metadata": {
    "id": "G1InQ0EWMg6I"
   },
   "source": [
    "Рассмотрим реализацию основных методов **REST API** с использованием модуля **requests**."
   ]
  },
  {
   "cell_type": "markdown",
   "metadata": {
    "id": "VBXi6VQfNYw6"
   },
   "source": [
    "Попробуем получить веб-страницу с помощью **GET**-запроса."
   ]
  },
  {
   "cell_type": "markdown",
   "metadata": {
    "id": "S4Jti7_qJhyA"
   },
   "source": [
    "**GET** является одним из самых популярных **HTTP**-методов. Метод **GET** указывает на то, что происходит попытка извлечь данные из определенного ресурса. Для того, чтобы выполнить запрос **GET**, используется метод `requests.get()`.\n",
    "\n",
    "Для проверки работы команды мы будет использовать [Root REST API](https://docs.github.com/ru/rest?apiVersion=2022-11-28#root-endpoint) на GitHub. Для указанного ниже URL вызывается метод `get()`:"
   ]
  },
  {
   "cell_type": "code",
   "execution_count": null,
   "metadata": {
    "id": "3uZ9gTBkJi24"
   },
   "outputs": [],
   "source": [
    "import requests\n",
    "response = requests.get('https://api.github.com')"
   ]
  },
  {
   "cell_type": "markdown",
   "metadata": {
    "id": "PrHZeXjtJhus"
   },
   "source": [
    "В переменную `response` мы поместили значение объекта **Response** и теперь можем рассмотреть более детально данные, которые были получены в результате запроса **GET**.\n",
    "\n"
   ]
  },
  {
   "cell_type": "markdown",
   "metadata": {
    "id": "TCy1bjNOQ7La"
   },
   "source": [
    "**HTTP коды состояний**"
   ]
  },
  {
   "cell_type": "markdown",
   "metadata": {
    "id": "yFr520vJW5yn"
   },
   "source": [
    "Мы уже познакомились с кодами состояний в первой части урока и знаем, что если запрос был успешно выполнен, то получим код состояния `200`. Проверим данное утверждение. Для этого необходимо обратиться к атрибуту `status_code`, полученного объекта:"
   ]
  },
  {
   "cell_type": "code",
   "execution_count": null,
   "metadata": {
    "colab": {
     "base_uri": "https://localhost:8080/"
    },
    "id": "an5bC7wwSz7Z",
    "outputId": "1fba47cf-2de8-46ba-cd5f-bcb9b8a4a270"
   },
   "outputs": [
    {
     "data": {
      "text/plain": [
       "200"
      ]
     },
     "execution_count": 9,
     "metadata": {},
     "output_type": "execute_result"
    }
   ],
   "source": [
    "response.status_code"
   ]
  },
  {
   "cell_type": "markdown",
   "metadata": {
    "id": "EmwNNt7CSwYw"
   },
   "source": [
    "\n",
    "```\n",
    "\n",
    "`status_code` вернул значение `200`. Это значит, что запрос был выполнен успешно!\n",
    "\n",
    "Код состояния часто используется, чтобы задать разную логику программы в зависимости от результата запроса:"
   ]
  },
  {
   "cell_type": "code",
   "execution_count": null,
   "metadata": {
    "colab": {
     "base_uri": "https://localhost:8080/"
    },
    "id": "hAhB49mmTlVO",
    "outputId": "d472c275-17dd-44ad-87eb-101aa21a437e"
   },
   "outputs": [
    {
     "name": "stdout",
     "output_type": "stream",
     "text": [
      "Данные получены!\n"
     ]
    }
   ],
   "source": [
    "if response.status_code == 200:\n",
    "    print('Данные получены!')\n",
    "elif response.status_code == 404:\n",
    "    print('Упс! Попробуйте снова!')"
   ]
  },
  {
   "cell_type": "markdown",
   "metadata": {
    "id": "NtTQYT6VToCN"
   },
   "source": [
    "Библиотека `requests` предоставляет возможность использовать и более простую конструкцию. Если использовать полученный объект `Response` в условных конструкциях, то при получении кода состояния в промежутке от  `200` до `400`, будет выведено значение `True`. В противном случае отобразится значение `False`.\n",
    "\n",
    "Последний пример можно упростить при помощи использования оператора `if`:"
   ]
  },
  {
   "cell_type": "code",
   "execution_count": null,
   "metadata": {
    "colab": {
     "base_uri": "https://localhost:8080/"
    },
    "id": "sF3SAp37TydR",
    "outputId": "83ddeecf-89b2-414f-9073-426da5fb3564"
   },
   "outputs": [
    {
     "name": "stdout",
     "output_type": "stream",
     "text": [
      "Данные получены!\n"
     ]
    }
   ],
   "source": [
    "if response:\n",
    "    print('Данные получены!')\n",
    "else:\n",
    "    print('Упс! Попробуйте снова!')"
   ]
  },
  {
   "cell_type": "markdown",
   "metadata": {
    "id": "kZ0r5myWY2Af"
   },
   "source": [
    "Стоит иметь в виду, что данный способ не проверяет, имеет ли статусный код точное значение `200`. Причина заключается в том, что другие коды в промежутке от `200` до `400`, например, `204 NO CONTENT` и `304 NOT MODIFIED`, также считаются успешными в случае, если они могут предоставить действительный ответ.\n",
    "\n",
    "К примеру, код состояния `204` говорит о том, что ответ успешно получен, однако в полученном объекте нет содержимого. Можно сказать, что для оптимально эффективного использования способа необходимо убедиться, что начальный запрос был успешно выполнен. Требуется изучить код состояния и в случае необходимости произвести необходимые поправки, которые будут зависеть от значения полученного кода.\n",
    "\n",
    "Если вы не хотите использовать оператора `if` для проверки кода состояния, то можете генерировать исключения при неудачных запросах с помощью метода `raise_for_status()`:"
   ]
  },
  {
   "cell_type": "code",
   "execution_count": null,
   "metadata": {
    "colab": {
     "base_uri": "https://localhost:8080/"
    },
    "id": "qyiTKeToZVxf",
    "outputId": "dc4aa52c-5b13-4fac-8d33-fdc2980e370f"
   },
   "outputs": [
    {
     "name": "stdout",
     "output_type": "stream",
     "text": [
      "Запрос по адресу: https://api.github.com\n",
      "Это успех!\n",
      "Запрос по адресу: https://api.github.com/invalid\n",
      "HTTP ошибка: 404 Client Error: Not Found for url: https://api.github.com/invalid\n"
     ]
    }
   ],
   "source": [
    "import requests\n",
    "# импорт ошибки метода HTTP\n",
    "from requests.exceptions import HTTPError\n",
    "\n",
    "# В цикле обращаемся к двум URI: реальному и вымышленному\n",
    "for url in ['https://api.github.com', 'https://api.github.com/invalid']:\n",
    "    print(f'Запрос по адресу: {url}')\n",
    "    # Блок обработки исключений (ошибок)\n",
    "    try:\n",
    "        # выполняем GET запрос\n",
    "        response = requests.get(url)\n",
    "\n",
    "        # если ответ успешен, исключения задействованы не будут\n",
    "        response.raise_for_status()\n",
    "    except HTTPError as http_err:\n",
    "        # Если ошибка связана с HTTP запросом, то выполнится этот блок HTTPError\n",
    "        print(f'HTTP ошибка: {http_err}')\n",
    "    except Exception as err:\n",
    "        # Если ошибка не связана с HTTP запросом, то выполнится этот блок Exception\n",
    "        print(f'Другая ошибка (не HTTP): {err}')\n",
    "    else:\n",
    "        # При успешном выполнении после блока try выполнится данный блок else\n",
    "        print('Это успех!')"
   ]
  },
  {
   "cell_type": "markdown",
   "metadata": {
    "id": "XIJe5CPw-BEu"
   },
   "source": [
    "Таким образом при вызова метода `raise_for_status()` проверяется код состояния, и для некоторых кодов вызывается исключение `HTTPError`. Если код состояния относится к успешным, то программа продолжает выполнение."
   ]
  },
  {
   "cell_type": "markdown",
   "metadata": {
    "id": "gfraQldx_Pg4"
   },
   "source": [
    "**Содержимое страницы**"
   ]
  },
  {
   "cell_type": "markdown",
   "metadata": {
    "id": "57qRlrfl_Wyg"
   },
   "source": [
    "Делая GET запрос, мы ожидаем получить ценную для нас информацию. Эта информация, как правило, находится в теле сообщения и называется **пейлоад (payload)**. Используя атрибуты и методы объекта **Response**, можно извлечь информацию из пайлоад в различных форматах."
   ]
  },
  {
   "cell_type": "markdown",
   "metadata": {
    "id": "1nVFEY7x_aJI"
   },
   "source": [
    "Для того, чтобы получить содержимое запроса в байтах, необходимо обратиться к атрибуту `content`:"
   ]
  },
  {
   "cell_type": "code",
   "execution_count": null,
   "metadata": {
    "colab": {
     "base_uri": "https://localhost:8080/"
    },
    "id": "i3TDcunW_c_D",
    "outputId": "89c0c9af-c276-4244-9841-a3dbb9c04f58"
   },
   "outputs": [
    {
     "data": {
      "text/plain": [
       "b'{\"message\":\"Not Found\",\"documentation_url\":\"https://docs.github.com/rest\"}'"
      ]
     },
     "execution_count": 5,
     "metadata": {},
     "output_type": "execute_result"
    }
   ],
   "source": [
    "response.content"
   ]
  },
  {
   "cell_type": "markdown",
   "metadata": {
    "id": "nCunxMyr_nGB"
   },
   "source": [
    "Использование `content` обеспечивает доступ к чистым байтам ответного пейлоада, то есть к любым данным в теле запроса. Однако, зачастую требуется получить информацию в виде строки в кодировке `UTF-8`, что можно сделать, обратившись к атрибуту `text`:"
   ]
  },
  {
   "cell_type": "code",
   "execution_count": null,
   "metadata": {
    "colab": {
     "base_uri": "https://localhost:8080/",
     "height": 36
    },
    "id": "TrsEoTPE_g_b",
    "outputId": "b03d2dd5-862c-4625-e2e9-7170a90f10cf"
   },
   "outputs": [
    {
     "data": {
      "application/vnd.google.colaboratory.intrinsic+json": {
       "type": "string"
      },
      "text/plain": [
       "'{\"message\":\"Not Found\",\"documentation_url\":\"https://docs.github.com/rest\"}'"
      ]
     },
     "execution_count": 6,
     "metadata": {},
     "output_type": "execute_result"
    }
   ],
   "source": [
    "response.text"
   ]
  },
  {
   "cell_type": "markdown",
   "metadata": {
    "id": "ryDTIhKA_o-C"
   },
   "source": [
    "Декодирование байтов в строку требует наличия определенной кодировки. По умолчанию **requests** попытается узнать текущую кодировку, ориентируясь по заголовкам HTTP. Указать необходимую кодировку можно при помощи добавления `encoding` перед `text`:"
   ]
  },
  {
   "cell_type": "code",
   "execution_count": null,
   "metadata": {
    "id": "SEXKDeM4_tKQ"
   },
   "outputs": [],
   "source": [
    "response.encoding = 'utf-8' # Сообщаем, что нам нужна кодировка utf-8\n",
    "response.text"
   ]
  },
  {
   "cell_type": "markdown",
   "metadata": {
    "id": "5eWIrdZH_yOQ"
   },
   "source": [
    "Если присмотреться к ответу, то можно заметить, что его содержимое является сериализированным (преобразованным в текст) JSON контентом. Воспользовавшись библиотекой `json`, можно взять полученные из `text` строки `str` и провести с ними обратную сериализацию (преобразовать в JSON) при помощи использования `json.loads()`:"
   ]
  },
  {
   "cell_type": "code",
   "execution_count": null,
   "metadata": {
    "colab": {
     "base_uri": "https://localhost:8080/"
    },
    "id": "7D7CgqF6Fj3F",
    "outputId": "1ec789f3-0e14-4827-90f6-1129642cef33"
   },
   "outputs": [
    {
     "data": {
      "text/plain": [
       "{'message': 'Not Found', 'documentation_url': 'https://docs.github.com/rest'}"
      ]
     },
     "execution_count": 7,
     "metadata": {},
     "output_type": "execute_result"
    }
   ],
   "source": [
    "import json\n",
    "json.loads(response.text)"
   ]
  },
  {
   "cell_type": "markdown",
   "metadata": {
    "id": "JJ5N4--uFedx"
   },
   "source": [
    "Есть и более простой способ с использованием  метода `json()`:"
   ]
  },
  {
   "cell_type": "code",
   "execution_count": null,
   "metadata": {
    "colab": {
     "base_uri": "https://localhost:8080/"
    },
    "id": "2R4JQXRUFe1W",
    "outputId": "b433b3f8-37e2-4090-a41c-2df702764879"
   },
   "outputs": [
    {
     "data": {
      "text/plain": [
       "{'message': 'Not Found', 'documentation_url': 'https://docs.github.com/rest'}"
      ]
     },
     "execution_count": 8,
     "metadata": {},
     "output_type": "execute_result"
    }
   ],
   "source": [
    "response.json()"
   ]
  },
  {
   "cell_type": "markdown",
   "metadata": {
    "id": "FKKJLBDY_oq_"
   },
   "source": [
    "Тип полученного значения методом `json()`, является словарем. А значит, доступ к его содержимому можно получить по ключу."
   ]
  },
  {
   "cell_type": "markdown",
   "metadata": {
    "id": "9MW6I_RO_73t"
   },
   "source": [
    "**HTTP-заголовки**"
   ]
  },
  {
   "cell_type": "markdown",
   "metadata": {
    "id": "yqwVx_JvCoQ5"
   },
   "source": [
    "**HTTP-заголовки** ответов на запрос могут содержать полезную информацию. Это может быть тип содержимого ответного пейлоада, либо ограничение по времени для кеширования ответа и многое другое.\n",
    "\n",
    "Для просмотра HTTP заголовков необходимо обратиться к атрибуту `headers`:\n",
    "\n"
   ]
  },
  {
   "cell_type": "code",
   "execution_count": null,
   "metadata": {
    "colab": {
     "base_uri": "https://localhost:8080/"
    },
    "id": "7PXpOImmKt4N",
    "outputId": "9d754fb8-9c27-4bc5-ecd1-7adaf57a141a"
   },
   "outputs": [
    {
     "data": {
      "text/plain": [
       "{'Server': 'GitHub.com', 'Date': 'Mon, 29 Apr 2024 17:45:11 GMT', 'Content-Type': 'application/json; charset=utf-8', 'X-GitHub-Media-Type': 'github.v3; format=json', 'x-github-api-version-selected': '2022-11-28', 'Access-Control-Expose-Headers': 'ETag, Link, Location, Retry-After, X-GitHub-OTP, X-RateLimit-Limit, X-RateLimit-Remaining, X-RateLimit-Used, X-RateLimit-Resource, X-RateLimit-Reset, X-OAuth-Scopes, X-Accepted-OAuth-Scopes, X-Poll-Interval, X-GitHub-Media-Type, X-GitHub-SSO, X-GitHub-Request-Id, Deprecation, Sunset', 'Access-Control-Allow-Origin': '*', 'Strict-Transport-Security': 'max-age=31536000; includeSubdomains; preload', 'X-Frame-Options': 'deny', 'X-Content-Type-Options': 'nosniff', 'X-XSS-Protection': '0', 'Referrer-Policy': 'origin-when-cross-origin, strict-origin-when-cross-origin', 'Content-Security-Policy': \"default-src 'none'\", 'Vary': 'Accept-Encoding, Accept, X-Requested-With', 'Content-Encoding': 'gzip', 'X-RateLimit-Limit': '60', 'X-RateLimit-Remaining': '52', 'X-RateLimit-Reset': '1714416185', 'X-RateLimit-Resource': 'core', 'X-RateLimit-Used': '8', 'Content-Length': '91', 'X-GitHub-Request-Id': 'EAC4:38C393:1F824724:1FAAFE83:662FDCB7'}"
      ]
     },
     "execution_count": 9,
     "metadata": {},
     "output_type": "execute_result"
    }
   ],
   "source": [
    "response.headers"
   ]
  },
  {
   "cell_type": "markdown",
   "metadata": {
    "id": "ILNnftZ1Covn"
   },
   "source": [
    "Ответ в формате \"словаря\" (почти), в таком виде сложно читается. Для упрощения восприятия можно сериализовать данные с помощью `json.dumps()` с параметром `indent` (число отступов в пробелах при форматировании):"
   ]
  },
  {
   "cell_type": "code",
   "execution_count": null,
   "metadata": {
    "colab": {
     "base_uri": "https://localhost:8080/"
    },
    "id": "OwJ9Lai9LN4k",
    "outputId": "d4cdc439-7942-449f-de40-c22e9113c8a7"
   },
   "outputs": [
    {
     "name": "stdout",
     "output_type": "stream",
     "text": [
      "{\n",
      "    \"Server\": \"GitHub.com\",\n",
      "    \"Date\": \"Mon, 29 Apr 2024 17:45:11 GMT\",\n",
      "    \"Content-Type\": \"application/json; charset=utf-8\",\n",
      "    \"X-GitHub-Media-Type\": \"github.v3; format=json\",\n",
      "    \"x-github-api-version-selected\": \"2022-11-28\",\n",
      "    \"Access-Control-Expose-Headers\": \"ETag, Link, Location, Retry-After, X-GitHub-OTP, X-RateLimit-Limit, X-RateLimit-Remaining, X-RateLimit-Used, X-RateLimit-Resource, X-RateLimit-Reset, X-OAuth-Scopes, X-Accepted-OAuth-Scopes, X-Poll-Interval, X-GitHub-Media-Type, X-GitHub-SSO, X-GitHub-Request-Id, Deprecation, Sunset\",\n",
      "    \"Access-Control-Allow-Origin\": \"*\",\n",
      "    \"Strict-Transport-Security\": \"max-age=31536000; includeSubdomains; preload\",\n",
      "    \"X-Frame-Options\": \"deny\",\n",
      "    \"X-Content-Type-Options\": \"nosniff\",\n",
      "    \"X-XSS-Protection\": \"0\",\n",
      "    \"Referrer-Policy\": \"origin-when-cross-origin, strict-origin-when-cross-origin\",\n",
      "    \"Content-Security-Policy\": \"default-src 'none'\",\n",
      "    \"Vary\": \"Accept-Encoding, Accept, X-Requested-With\",\n",
      "    \"Content-Encoding\": \"gzip\",\n",
      "    \"X-RateLimit-Limit\": \"60\",\n",
      "    \"X-RateLimit-Remaining\": \"52\",\n",
      "    \"X-RateLimit-Reset\": \"1714416185\",\n",
      "    \"X-RateLimit-Resource\": \"core\",\n",
      "    \"X-RateLimit-Used\": \"8\",\n",
      "    \"Content-Length\": \"91\",\n",
      "    \"X-GitHub-Request-Id\": \"EAC4:38C393:1F824724:1FAAFE83:662FDCB7\"\n",
      "}\n"
     ]
    }
   ],
   "source": [
    "print(json.dumps(dict(response.headers), indent=4))"
   ]
  },
  {
   "cell_type": "markdown",
   "metadata": {
    "id": "HJagrN1vMtz1"
   },
   "source": [
    "Прежде чем значение `response.headers` сериализовать, мы его привели к типу данных `dict`, так как он имеет тип отличный от привычного нам словаря:"
   ]
  },
  {
   "cell_type": "code",
   "execution_count": null,
   "metadata": {
    "colab": {
     "base_uri": "https://localhost:8080/",
     "height": 186
    },
    "id": "iCop9L7dMoZ9",
    "outputId": "6a14ba05-85d0-4507-ef12-da74053a8171"
   },
   "outputs": [
    {
     "data": {
      "text/html": [
       "<div style=\"max-width:800px; border: 1px solid var(--colab-border-color);\"><style>\n",
       "      pre.function-repr-contents {\n",
       "        overflow-x: auto;\n",
       "        padding: 8px 12px;\n",
       "        max-height: 500px;\n",
       "      }\n",
       "\n",
       "      pre.function-repr-contents.function-repr-contents-collapsed {\n",
       "        cursor: pointer;\n",
       "        max-height: 100px;\n",
       "      }\n",
       "    </style>\n",
       "    <pre style=\"white-space: initial; background:\n",
       "         var(--colab-secondary-surface-color); padding: 8px 12px;\n",
       "         border-bottom: 1px solid var(--colab-border-color);\"><b>requests.structures.CaseInsensitiveDict</b><br/>def __init__(data=None, **kwargs)</pre><pre class=\"function-repr-contents function-repr-contents-collapsed\" style=\"\"><a class=\"filepath\" style=\"display:none\" href=\"#\">/usr/local/lib/python3.10/dist-packages/requests/structures.py</a>A case-insensitive ``dict``-like object.\n",
       "\n",
       "Implements all methods and operations of\n",
       "``MutableMapping`` as well as dict&#x27;s ``copy``. Also\n",
       "provides ``lower_items``.\n",
       "\n",
       "All keys are expected to be strings. The structure remembers the\n",
       "case of the last key to be set, and ``iter(instance)``,\n",
       "``keys()``, ``items()``, ``iterkeys()``, and ``iteritems()``\n",
       "will contain case-sensitive keys. However, querying and contains\n",
       "testing is case insensitive::\n",
       "\n",
       "    cid = CaseInsensitiveDict()\n",
       "    cid[&#x27;Accept&#x27;] = &#x27;application/json&#x27;\n",
       "    cid[&#x27;aCCEPT&#x27;] == &#x27;application/json&#x27;  # True\n",
       "    list(cid) == [&#x27;Accept&#x27;]  # True\n",
       "\n",
       "For example, ``headers[&#x27;content-encoding&#x27;]`` will return the\n",
       "value of a ``&#x27;Content-Encoding&#x27;`` response header, regardless\n",
       "of how the header name was originally stored.\n",
       "\n",
       "If the constructor, ``.update``, or equality comparison\n",
       "operations are given keys that have equal ``.lower()``s, the\n",
       "behavior is undefined.</pre>\n",
       "      <script>\n",
       "      if (google.colab.kernel.accessAllowed && google.colab.files && google.colab.files.view) {\n",
       "        for (const element of document.querySelectorAll('.filepath')) {\n",
       "          element.style.display = 'block'\n",
       "          element.onclick = (event) => {\n",
       "            event.preventDefault();\n",
       "            event.stopPropagation();\n",
       "            google.colab.files.view(element.textContent, 13);\n",
       "          };\n",
       "        }\n",
       "      }\n",
       "      for (const element of document.querySelectorAll('.function-repr-contents')) {\n",
       "        element.onclick = (event) => {\n",
       "          event.preventDefault();\n",
       "          event.stopPropagation();\n",
       "          element.classList.toggle('function-repr-contents-collapsed');\n",
       "        };\n",
       "      }\n",
       "      </script>\n",
       "      </div>"
      ],
      "text/plain": [
       "requests.structures.CaseInsensitiveDict"
      ]
     },
     "execution_count": 18,
     "metadata": {},
     "output_type": "execute_result"
    }
   ],
   "source": [
    "type(response.headers)"
   ]
  },
  {
   "cell_type": "markdown",
   "metadata": {
    "id": "Q44_bJ3PNbEi"
   },
   "source": [
    "Он похож на словарь, и многие методы к нему применимы, как со словарем, но когда доходит дело до сериализации (то есть преобразование к JSON подобному тексту), должен быть на входе именно словарь (а не словарь подобный объект).  "
   ]
  },
  {
   "cell_type": "markdown",
   "metadata": {
    "id": "t5kWIUxATxK9"
   },
   "source": [
    "Так как `headers` возвращает объект подобный словарю, то мы можем получить доступ к значению заголовка HTTP по ключу. Например, для просмотра типа содержимого ответного пейлоада, требуется использовать `Content-Type`."
   ]
  },
  {
   "cell_type": "code",
   "execution_count": null,
   "metadata": {
    "colab": {
     "base_uri": "https://localhost:8080/",
     "height": 36
    },
    "id": "MUFkqB8wUQ59",
    "outputId": "a1cdc4ab-7013-4e85-fbce-7f069292e42a"
   },
   "outputs": [
    {
     "data": {
      "application/vnd.google.colaboratory.intrinsic+json": {
       "type": "string"
      },
      "text/plain": [
       "'application/json; charset=utf-8'"
      ]
     },
     "execution_count": 19,
     "metadata": {},
     "output_type": "execute_result"
    }
   ],
   "source": [
    "response.headers['Content-Type']"
   ]
  },
  {
   "cell_type": "markdown",
   "metadata": {
    "id": "cdbBiEdHUP94"
   },
   "source": [
    "Специфика HTTP предполагает, что заголовки не чувствительны к регистру. Это значит, что при получении доступа к заголовкам можно не беспокоится о том, использованы строчные или прописные буквы."
   ]
  },
  {
   "cell_type": "code",
   "execution_count": null,
   "metadata": {
    "colab": {
     "base_uri": "https://localhost:8080/",
     "height": 36
    },
    "id": "JZUcebkrTwuP",
    "outputId": "1aaf6738-65c4-4708-b643-ba68ae78af20"
   },
   "outputs": [
    {
     "data": {
      "application/vnd.google.colaboratory.intrinsic+json": {
       "type": "string"
      },
      "text/plain": [
       "'application/json; charset=utf-8'"
      ]
     },
     "execution_count": 20,
     "metadata": {},
     "output_type": "execute_result"
    }
   ],
   "source": [
    "response.headers['content-type']"
   ]
  },
  {
   "cell_type": "markdown",
   "metadata": {
    "id": "aJmLXE-nUfpo"
   },
   "source": [
    "При использовании ключей `content-type` и `Content-Type` результат будет получен один и тот же. Таким свойством обычный словарь не обладает!"
   ]
  },
  {
   "cell_type": "markdown",
   "metadata": {
    "id": "-ZdQP9M_VVVp"
   },
   "source": [
    "**Параметры запроса**"
   ]
  },
  {
   "cell_type": "markdown",
   "metadata": {
    "id": "8tAhMtDPWIhN"
   },
   "source": [
    "Наиболее простым способом выполнить запрос **GET** с параметрами является передача значений через параметры строки запроса в URI. При использовании метода `get()`, данные передаются в `params`:"
   ]
  },
  {
   "cell_type": "code",
   "execution_count": null,
   "metadata": {
    "colab": {
     "base_uri": "https://localhost:8080/"
    },
    "id": "_flhwiEBWqSK",
    "lines_to_next_cell": 2,
    "outputId": "a8aa4207-ffd4-4887-f802-2502dd57a803"
   },
   "outputs": [
    {
     "name": "stdout",
     "output_type": "stream",
     "text": [
      "Имя репозитария: secrules-language-evaluation\n",
      "Описание репозитария: Set of Python scripts to perform SecRules language evaluation on a given http request.\n"
     ]
    }
   ],
   "source": [
    "import requests\n",
    "\n",
    "# Поиск репозитариев c упоминание ключевого слова requests и языка Python на GitHub\n",
    "response = requests.get(\n",
    "    'https://api.github.com/search/repositories', # URI\n",
    "    params={'q': 'requests+language:python'},     # Параметры для запроса\n",
    ")\n",
    "\n",
    "# Данные в формате JSON\n",
    "json_response = response.json()\n",
    "\n",
    "# Первый найденный репозитарий\n",
    "repository = json_response['items'][0]\n",
    "\n",
    "\n",
    "print(f'Имя репозитария: {repository[\"name\"]}')\n",
    "print(f'Описание репозитария: {repository[\"description\"]}')"
   ]
  },
  {
   "cell_type": "markdown",
   "metadata": {
    "id": "OFg6D-f7bhxa"
   },
   "source": [
    "Параметры можно передавать в форме словаря:\n",
    "```python\n",
    "params={'q': 'requests+language:python'}\n",
    "```\n",
    "\n",
    "в форме списка кортежей:\n",
    "```python\n",
    "params=[('q', 'requests+language:python')]\n",
    "```\n",
    "\n",
    "или передать значение в байтах:\n",
    "```python\n",
    "params=b'q=requests+language:python'\n",
    "```"
   ]
  },
  {
   "cell_type": "markdown",
   "metadata": {
    "id": "LC0fua0aWI-F"
   },
   "source": [
    "**Настройка HTTP-заголовка запроса (headers)**"
   ]
  },
  {
   "cell_type": "markdown",
   "metadata": {
    "id": "z2oxwNJdWMnZ"
   },
   "source": [
    "Для изменения HTTP-заголовка требуется передать словарь данного HTTP-заголовка в `get()` при помощи использования параметра `headers`.\n",
    "\n",
    "Например, можно взять предыдущий пример, и указать ГитХабу (GitHub), что необходимо подсветить в ответе все места с найденным текстом как в запросе (`requests+language:python`).\n",
    "\n",
    "Для этого в заголовке `Accept` передается тип `text-match`, понятный ГитХабу.\n"
   ]
  },
  {
   "cell_type": "code",
   "execution_count": null,
   "metadata": {
    "colab": {
     "base_uri": "https://localhost:8080/"
    },
    "id": "9N-63Rn-dNCv",
    "outputId": "1997be65-424c-411a-b1e6-0a04ba547c7b"
   },
   "outputs": [
    {
     "data": {
      "text/plain": [
       "[{'object_url': 'https://api.github.com/repositories/33210074',\n",
       "  'object_type': 'Repository',\n",
       "  'property': 'description',\n",
       "  'fragment': 'Set of Python scripts to perform SecRules language evaluation on a given http request.',\n",
       "  'matches': [{'text': 'Python', 'indices': [7, 13]},\n",
       "   {'text': 'language', 'indices': [42, 50]},\n",
       "   {'text': 'request', 'indices': [78, 85]}]}]"
      ]
     },
     "execution_count": 24,
     "metadata": {},
     "output_type": "execute_result"
    }
   ],
   "source": [
    "import requests\n",
    "\n",
    "response = requests.get(\n",
    "    'https://api.github.com/search/repositories',\n",
    "    params={'q': 'requests+language:python'},\n",
    "    headers={'Accept': 'application/vnd.github.v3.text-match+json'},\n",
    ")\n",
    "\n",
    "# просмотр нового массива `text-matches` с предоставленными данными\n",
    "# о поиске в пределах результатов\n",
    "json_response = response.json()\n",
    "repository = json_response['items'][0]\n",
    "repository[\"text_matches\"]"
   ]
  },
  {
   "cell_type": "markdown",
   "metadata": {
    "id": "x-rvVqg1WMkA"
   },
   "source": [
    "Заголовок `Accept` сообщает серверу о типах контента, который можно использовать в рассматриваемом приложении. Здесь подразумевается, что все совпадения будут подсвечены, для чего в заголовке используется значение `application/vnd.github.v3.text-match+json`. Это уникальный заголовок `Accept` для GitHub. В данном случае содержимое представлено в специальном JSON формате."
   ]
  },
  {
   "cell_type": "markdown",
   "metadata": {
    "id": "riFAHLVUWMg0"
   },
   "source": [
    "**HTTP-методы в requests**"
   ]
  },
  {
   "cell_type": "markdown",
   "metadata": {
    "id": "6edhr9EdWMdS"
   },
   "source": [
    "Помимо **GET**, в библиотеке реализованы и другие HTTP-методы, такие как **POST**, **PUT**, **DELETE**, **HEAD**, **PATCH** и **OPTIONS**. Для каждого из этих методов существует своя структура запросов, которая очень похожа на метод `get()`."
   ]
  },
  {
   "cell_type": "code",
   "execution_count": null,
   "metadata": {
    "colab": {
     "base_uri": "https://localhost:8080/"
    },
    "id": "t9EZnmDDj45Q",
    "outputId": "3ae7300a-2d49-4169-c809-c49f0d45e75a"
   },
   "outputs": [
    {
     "data": {
      "text/plain": [
       "<Response [200]>"
      ]
     },
     "execution_count": 25,
     "metadata": {},
     "output_type": "execute_result"
    }
   ],
   "source": [
    "requests.post('https://httpbin.org/post', data={'key':'value'})\n",
    "requests.put('https://httpbin.org/put', data={'key':'value'})\n",
    "requests.delete('https://httpbin.org/delete')\n",
    "requests.head('https://httpbin.org/get')\n",
    "requests.patch('https://httpbin.org/patch', data={'key':'value'})\n",
    "requests.options('https://httpbin.org/get')"
   ]
  },
  {
   "cell_type": "markdown",
   "metadata": {
    "id": "onAVc9Gtp3kF"
   },
   "source": [
    "Несмотря на отличия в HTTP-методах, схема работы с ответами будет аналогична, как мы работали с GET-запросом."
   ]
  },
  {
   "cell_type": "markdown",
   "metadata": {
    "id": "2hIJ49xTWMZ5"
   },
   "source": [
    "Каждая функция создает запрос к **httpbin.org** сервису, используя при этом ответный **HTTP-метод**. Это удобный сервис для тестирования REST API.\n",
    "Это чрезвычайно полезный сервис, созданный человеком, который внедрил использование `requests` – Кеннетом Рейтцом. Данный сервис предназначен для тестовых запросов. Здесь можно составить пробный запрос и получить ответ с требуемой информацией."
   ]
  },
  {
   "cell_type": "code",
   "execution_count": null,
   "metadata": {
    "colab": {
     "base_uri": "https://localhost:8080/"
    },
    "id": "uCeojKOylQUV",
    "outputId": "18fb44e5-3885-499c-830b-47d4171821c5"
   },
   "outputs": [
    {
     "name": "stdout",
     "output_type": "stream",
     "text": [
      "Content-Type: application/json\n"
     ]
    },
    {
     "data": {
      "text/plain": [
       "{'args': {},\n",
       " 'data': '',\n",
       " 'files': {},\n",
       " 'form': {},\n",
       " 'headers': {'Accept': '*/*',\n",
       "  'Accept-Encoding': 'gzip, deflate',\n",
       "  'Content-Length': '0',\n",
       "  'Host': 'httpbin.org',\n",
       "  'User-Agent': 'python-requests/2.31.0',\n",
       "  'X-Amzn-Trace-Id': 'Root=1-6630069d-35f5cba332ee5eab68de8244'},\n",
       " 'json': None,\n",
       " 'origin': '35.227.136.8',\n",
       " 'url': 'https://httpbin.org/delete'}"
      ]
     },
     "execution_count": 33,
     "metadata": {},
     "output_type": "execute_result"
    }
   ],
   "source": [
    "response = requests.head('https://httpbin.org/get')\n",
    "print(f'Content-Type: {response.headers[\"Content-Type\"]}')\n",
    "\n",
    "\n",
    "response = requests.delete('https://httpbin.org/delete')\n",
    "response.json()"
   ]
  },
  {
   "cell_type": "markdown",
   "metadata": {
    "id": "-RQS0z2tWMTb"
   },
   "source": [
    "При использовании каждого из данных методов в объекте **Response** могут быть возвращены заголовки, тело запроса, коды состояния и многие другие аспекты.\n",
    "\n",
    "Методы **HEAD**, **PATCH** и **OPTIONS** не используются в **REST API**, поэтому мы не будем на них останавливаться.\n",
    "\n",
    "\n",
    "\n"
   ]
  },
  {
   "cell_type": "markdown",
   "metadata": {
    "id": "q8fAcxX8WMQI"
   },
   "source": [
    "**Передача параметров через тело запроса**"
   ]
  },
  {
   "cell_type": "markdown",
   "metadata": {
    "id": "y7o0jUe3WMMg"
   },
   "source": [
    "В соответствии со спецификацией HTTP запросы **POST**, **PUT** и **PATCH** передают информацию через тело запроса, а не через параметры строки запроса. Используя библиотеку `requests`, можно передать данные в параметр `data`.\n",
    "\n",
    "В свою очередь `data` использует словарь, список кортежей, байтов или объект файла. Это особенно важно, так как может возникнуть необходимость адаптации отправляемых с запросом данных в соответствии с определенными параметрами сервера.\n",
    "\n",
    "К примеру, если тип содержимого запроса `application/x-www-form-urlencoded`, следует отправлять данные формы в виде словаря.\n",
    "\n"
   ]
  },
  {
   "cell_type": "code",
   "execution_count": null,
   "metadata": {
    "colab": {
     "base_uri": "https://localhost:8080/"
    },
    "id": "cL6om38ZoCvb",
    "outputId": "1a089d16-87c5-43cc-d25a-34dc87f72fbe"
   },
   "outputs": [
    {
     "data": {
      "text/plain": [
       "{'args': {},\n",
       " 'data': '',\n",
       " 'files': {},\n",
       " 'form': {'key': 'value'},\n",
       " 'headers': {'Accept': '*/*',\n",
       "  'Accept-Encoding': 'gzip, deflate',\n",
       "  'Content-Length': '9',\n",
       "  'Content-Type': 'application/x-www-form-urlencoded',\n",
       "  'Host': 'httpbin.org',\n",
       "  'User-Agent': 'python-requests/2.31.0',\n",
       "  'X-Amzn-Trace-Id': 'Root=1-663008ce-1c24eb3e244d91b6251e1d8c'},\n",
       " 'json': None,\n",
       " 'origin': '35.227.136.8',\n",
       " 'url': 'https://httpbin.org/post'}"
      ]
     },
     "execution_count": 34,
     "metadata": {},
     "output_type": "execute_result"
    }
   ],
   "source": [
    "request = requests.post('https://httpbin.org/post', data={'key':'value'})\n",
    "request.json()"
   ]
  },
  {
   "cell_type": "markdown",
   "metadata": {
    "id": "-iifKUPOpEEx"
   },
   "source": [
    "Ту же самую информацию также можно отправить в виде списка кортежей:"
   ]
  },
  {
   "cell_type": "code",
   "execution_count": null,
   "metadata": {
    "colab": {
     "base_uri": "https://localhost:8080/"
    },
    "id": "d4mtUrRZorcg",
    "outputId": "6382a33d-3e4c-4903-e16c-5557acaccfb1"
   },
   "outputs": [
    {
     "data": {
      "text/plain": [
       "{'args': {},\n",
       " 'data': '',\n",
       " 'files': {},\n",
       " 'form': {'key': 'value'},\n",
       " 'headers': {'Accept': '*/*',\n",
       "  'Accept-Encoding': 'gzip, deflate',\n",
       "  'Content-Length': '9',\n",
       "  'Content-Type': 'application/x-www-form-urlencoded',\n",
       "  'Host': 'httpbin.org',\n",
       "  'User-Agent': 'python-requests/2.31.0',\n",
       "  'X-Amzn-Trace-Id': 'Root=1-6630097c-19af246a1c6896140ee473e7'},\n",
       " 'json': None,\n",
       " 'origin': '35.227.136.8',\n",
       " 'url': 'https://httpbin.org/post'}"
      ]
     },
     "execution_count": 36,
     "metadata": {},
     "output_type": "execute_result"
    }
   ],
   "source": [
    "request = requests.post('https://httpbin.org/post', data=[('key', 'value')])\n",
    "request.json()"
   ]
  },
  {
   "cell_type": "markdown",
   "metadata": {
    "id": "FBbwk-j7WMIB"
   },
   "source": [
    "В том случае, если требуется отравить данные **JSON**, можно использовать параметр `json`. При передачи данных **JSON** через `json`, `requests` произведет сериализацию данных и добавит правильный `Content-Type` заголовок."
   ]
  },
  {
   "cell_type": "code",
   "execution_count": null,
   "metadata": {
    "colab": {
     "base_uri": "https://localhost:8080/"
    },
    "id": "akaZHLn3qhLd",
    "outputId": "a892b578-510d-470c-f6b8-ba1f9e3fccad"
   },
   "outputs": [
    {
     "name": "stdout",
     "output_type": "stream",
     "text": [
      "Отправленные данные: {\"key\": \"value\"}\n",
      "Заголовок: application/json\n"
     ]
    }
   ],
   "source": [
    "response = requests.post('https://httpbin.org/post', json={'key':'value'})\n",
    "json_response = response.json()\n",
    "print(f'Отправленные данные: {json_response[\"data\"]}')\n",
    "print(f'Заголовок: {json_response[\"headers\"][\"Content-Type\"]}')"
   ]
  },
  {
   "cell_type": "markdown",
   "metadata": {
    "id": "LOqCyr1uqWsd"
   },
   "source": [
    "Мы видим, что сервер получил данные и HTTP заголовки, отправленные вместе с запросом. `requests` также предоставляет информацию в форме `PreparedRequest` (подготовленных к отправке данных)."
   ]
  },
  {
   "cell_type": "markdown",
   "metadata": {
    "id": "ltpbskX5spSV"
   },
   "source": [
    "**PreparedRequest (подготовленных данных)**"
   ]
  },
  {
   "cell_type": "markdown",
   "metadata": {
    "id": "71HtravvqXIX"
   },
   "source": [
    "При составлении запроса стоит иметь в виду, что перед его фактической отправкой на целевой сервер библиотека `requests` выполняет определенную подготовку. Подготовка запроса включает в себя такие вещи, как проверка заголовков и сериализация содержимого JSON.\n",
    "\n",
    "Если обратиться к атрибуту `request`, то можно просмотреть объект **PreparedRequest** (подготовленных данных):"
   ]
  },
  {
   "cell_type": "code",
   "execution_count": null,
   "metadata": {
    "colab": {
     "base_uri": "https://localhost:8080/"
    },
    "id": "j80xa-dZsUey",
    "outputId": "1502ce96-f4b4-46ce-c4ac-07fdd40124a7"
   },
   "outputs": [
    {
     "name": "stdout",
     "output_type": "stream",
     "text": [
      "Подготовленные к отправке данные: \n",
      "Content-Type:  application/json\n",
      "URI:  https://httpbin.org/post\n",
      "Тело запроса:  b'{\"key\": \"value\"}'\n"
     ]
    }
   ],
   "source": [
    "response = requests.post('https://httpbin.org/post', json={'key':'value'})\n",
    "\n",
    "print('Подготовленные к отправке данные: ')\n",
    "print('Content-Type: ', response.request.headers['Content-Type'])\n",
    "print('URI: ', response.request.url)\n",
    "print('Тело запроса: ', response.request.body)"
   ]
  },
  {
   "cell_type": "markdown",
   "metadata": {
    "id": "h9BbhqieqXjs"
   },
   "source": [
    "Проверка **PreparedRequest** открывает доступ ко всей информации о выполняемом запросе. Это может быть пейлоад, URI, заголовки, аутентификация и многое другое.\n",
    "\n",
    "У всех описанных ранее типов запросов была одна общая черта – они представляли собой неаутентифицированные запросы к публичным API. Однако, подобающее большинство служб, с которыми может столкнуться пользователь, запрашивают аутентификацию."
   ]
  },
  {
   "cell_type": "markdown",
   "metadata": {
    "id": "Z2S19dvRuY3H"
   },
   "source": [
    "#### Аутентификация HTTP AUTH"
   ]
  },
  {
   "cell_type": "markdown",
   "metadata": {
    "id": "x6F58f41ugOL"
   },
   "source": [
    "Аутентификация помогает сервису понять, кто вы. Как правило, вы предоставляете свои учетные данные на сервер, передавая данные через заголовок `Authorization` или пользовательский заголовок, определенной службы.\n",
    "\n",
    "Одним из примеров API, который требует аутентификации, является [Authenticated User API](https://docs.github.com/ru/rest/users?apiVersion=2022-11-28#get-the-authenticated-user) на GitHub. Это раздел веб-сервиса, который предоставляет информацию о профиле аутентифицированного пользователя. Чтобы отправить запрос API-интерфейсу аутентифицированного пользователя, вы можете передать свое имя пользователя и пароль на GitHub через кортеж в  методе `get()`."
   ]
  },
  {
   "cell_type": "code",
   "execution_count": null,
   "metadata": {
    "colab": {
     "base_uri": "https://localhost:8080/"
    },
    "id": "AmBfFOd1viKE",
    "outputId": "be8caf3c-79bb-46ad-afe0-7fed5e130754"
   },
   "outputs": [
    {
     "name": "stdout",
     "output_type": "stream",
     "text": [
      "··········\n"
     ]
    },
    {
     "data": {
      "text/plain": [
       "<Response [401]>"
      ]
     },
     "execution_count": 41,
     "metadata": {},
     "output_type": "execute_result"
    }
   ],
   "source": [
    "from getpass import getpass # ввод пароля в колабе\n",
    "requests.get('https://api.github.com/user', auth=('username', getpass()))"
   ]
  },
  {
   "cell_type": "markdown",
   "metadata": {
    "id": "5dwSuitEuufA"
   },
   "source": [
    "Запрос будет выполнен успешно, если учетные данные, которые вы передали в кортеже `auth`, соответствуют реальному пользователю ГитХаба. Если выполнить запрос без учетных данных или с неверными данными, то получим код состояния **401 Unauthorized**."
   ]
  },
  {
   "cell_type": "markdown",
   "metadata": {
    "id": "emlpwKQmwf2m"
   },
   "source": [
    "Теперь, когда вы знаете о REST API практически все, пора [приступить](https://colab.research.google.com/drive/1_AzAVys4xub3yyw763NDwfeJ3WecGgkb) к самой главной части урока - создание своего собственного веб-сервиса на базе фреймворка FastAPI."
   ]
  }
 ],
 "metadata": {
  "colab": {
   "include_colab_link": true,
   "provenance": []
  },
  "jupytext": {
   "main_language": "python"
  },
  "kernelspec": {
   "display_name": "Python 3",
   "name": "python3"
  },
  "language_info": {
   "name": "python"
  }
 },
 "nbformat": 4,
 "nbformat_minor": 0
}
