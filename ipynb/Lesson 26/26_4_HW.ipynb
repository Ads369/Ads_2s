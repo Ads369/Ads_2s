{
  "cells": [
    {
      "cell_type": "markdown",
      "metadata": {
        "id": "view-in-github",
        "colab_type": "text"
      },
      "source": [
        "<a href=\"https://colab.research.google.com/github/Ads369/Ads_2s/blob/main/ipynb/Lesson%2026/26_4_HW.ipynb\" target=\"_parent\"><img src=\"https://colab.research.google.com/assets/colab-badge.svg\" alt=\"Open In Colab\"/></a>"
      ]
    },
    {
      "cell_type": "markdown",
      "metadata": {
        "id": "KF4Hi0OeNSYn"
      },
      "source": [
        "**Навигация по уроку**\n",
        "\n",
        "1. [Веб-архитектура сервиса](https://colab.research.google.com/drive/10wtDodlf4SaVcYk6VoXDWk650IDcNPaa)\n",
        "2. [Практическое использование REST API в Python](https://colab.research.google.com/drive/1bhlFqhZp0TtOuzqKJvI9C-K0FwRWMi2H)\n",
        "3. [Введение в FastAPI](https://colab.research.google.com/drive/1_AzAVys4xub3yyw763NDwfeJ3WecGgkb)\n",
        "4. Домашняя работа"
      ]
    },
    {
      "cell_type": "markdown",
      "metadata": {
        "id": "Ogb5_BJzQjOZ",
        "lines_to_next_cell": 2
      },
      "source": [
        "В домашней работе вам необходимо с помощью **FastAPI** реализовать **REST API**:\n",
        "\n",
        "1. На 3 балла. Ваш REST API - это список покупок и содержит поля: название товара, группа товара (например, электроника или продовольствие), цена, единица измерения, количество. Также необходимо реализовать метод, который возвращает список - расходы по каждой группе товаров и сумму всех покупок.\n",
        "\n",
        "  Также необходимо с помощью библиотеки `requests` продемонстрировать запросами к REST API, как работает ваш веб-сервис. Это задание можно сравнить с \"покрытием тестами\" вашего API. Нечто похожее делают тестировщики в ИТ-компаниях. Вам необходимо покрыть запросами все методы, которые вы реализуете на веб-сервере.\n",
        "\n",
        "2. На 4 балла. Вам необходимо сделать красивую документацию для вашего REST API с подробным описанием. Для этого вам придется обратиться к документации:\n",
        "  * https://fastapi.tiangolo.com/ru/tutorial/metadata/\n",
        "  * https://fastapi.tiangolo.com/ru/tutorial/path-operation-configuration/#response-description\n",
        "3. На 5 баллов. Творческое задание. REST API можно использовать для взаимодействия с вашей моделью нейронной сети. Вы уже знаете, что можно обучить модель, а лучший результат выгрузить для дальнейшего использования. Для получения 5 баллов необходимо обучить свою модель, загрузить ее в Colab. Задача может быть любой: регрессии, классификации, входными данными могут быть картинки или текстовые данные. С помощью REST API обеспечьте взаимодействие с моделью. Это полностью творческое задание!\n",
        "\n"
      ]
    },
    {
      "cell_type": "code",
      "execution_count": 2,
      "metadata": {
        "id": "01932634",
        "outputId": "18effe05-06d3-4265-c1f2-485a2db81d5c",
        "colab": {
          "base_uri": "https://localhost:8080/"
        }
      },
      "outputs": [
        {
          "output_type": "stream",
          "name": "stdout",
          "text": [
            "\u001b[?25l   \u001b[90m━━━━━━━━━━━━━━━━━━━━━━━━━━━━━━━━━━━━━━━━\u001b[0m \u001b[32m0.0/94.8 kB\u001b[0m \u001b[31m?\u001b[0m eta \u001b[36m-:--:--\u001b[0m\r\u001b[2K   \u001b[90m━━━━━━━━━━━━━━━━━━━━━━━━━━━━━━━━━━━━━━━━\u001b[0m \u001b[32m94.8/94.8 kB\u001b[0m \u001b[31m4.2 MB/s\u001b[0m eta \u001b[36m0:00:00\u001b[0m\n",
            "\u001b[?25h\u001b[?25l   \u001b[90m━━━━━━━━━━━━━━━━━━━━━━━━━━━━━━━━━━━━━━━━\u001b[0m \u001b[32m0.0/62.3 kB\u001b[0m \u001b[31m?\u001b[0m eta \u001b[36m-:--:--\u001b[0m\r\u001b[2K   \u001b[90m━━━━━━━━━━━━━━━━━━━━━━━━━━━━━━━━━━━━━━━━\u001b[0m \u001b[32m62.3/62.3 kB\u001b[0m \u001b[31m4.4 MB/s\u001b[0m eta \u001b[36m0:00:00\u001b[0m\n",
            "\u001b[?25h\u001b[?25l   \u001b[90m━━━━━━━━━━━━━━━━━━━━━━━━━━━━━━━━━━━━━━━━\u001b[0m \u001b[32m0.0/73.2 kB\u001b[0m \u001b[31m?\u001b[0m eta \u001b[36m-:--:--\u001b[0m\r\u001b[2K   \u001b[90m━━━━━━━━━━━━━━━━━━━━━━━━━━━━━━━━━━━━━━━━\u001b[0m \u001b[32m73.2/73.2 kB\u001b[0m \u001b[31m5.5 MB/s\u001b[0m eta \u001b[36m0:00:00\u001b[0m\n",
            "\u001b[?25h"
          ]
        }
      ],
      "source": [
        "!pip install keras-tuner -q\n",
        "!pip install fastapi uvicorn -q\n",
        "!pip install python-multipart -q\n",
        "\n",
        "\n",
        "from enum import Enum\n",
        "from typing import Dict, List\n",
        "\n",
        "\n",
        "import cv2\n",
        "import numpy as np\n",
        "import requests\n",
        "from fastapi import FastAPI, HTTPException\n",
        "from fastapi.openapi.utils import get_openapi\n",
        "from pydantic import BaseModel\n",
        "import uvicorn\n",
        "\n",
        "import tensorflow as tf\n",
        "from tensorflow import keras\n",
        "from tensorflow.keras import layers\n",
        "import keras_tuner as kt\n",
        "\n"
      ]
    },
    {
      "cell_type": "code",
      "execution_count": null,
      "metadata": {
        "id": "88c37572"
      },
      "outputs": [],
      "source": [
        "(x_train, y_train), (x_test, y_test) = keras.datasets.mnist.load_data()\n",
        "\n",
        "x_train = x_train.astype(\"float32\") / 255.0\n",
        "x_test = x_test.astype(\"float32\") / 255.0\n",
        "x_train = x_train.reshape(-1, 28, 28, 1)\n",
        "x_test = x_test.reshape(-1, 28, 28, 1)\n",
        "\n",
        "def build_model(hp):\n",
        "    model = keras.Sequential()\n",
        "    model.add(layers.Conv2D(\n",
        "        filters=hp.Int('filters', min_value=32, max_value=128, step=16),\n",
        "        kernel_size=hp.Choice('kernel_size', values=[3, 5]),\n",
        "        activation='relu',\n",
        "        input_shape=(28, 28, 1)\n",
        "    ))\n",
        "    model.add(layers.MaxPooling2D(pool_size=(2, 2)))\n",
        "    model.add(layers.Flatten())\n",
        "    model.add(layers.Dense(\n",
        "        units=hp.Int('units', min_value=32, max_value=128, step=16),\n",
        "        activation='relu'\n",
        "    ))\n",
        "    model.add(layers.Dropout(rate=hp.Float('dropout', min_value=0.2, max_value=0.5, step=0.1)))\n",
        "    model.add(layers.Dense(10, activation='softmax'))\n",
        "\n",
        "    model.compile(\n",
        "        optimizer=keras.optimizers.Adam(\n",
        "            hp.Choice('learning_rate', values=[1e-2, 1e-3, 1e-4])\n",
        "        ),\n",
        "        loss='sparse_categorical_crossentropy',\n",
        "        metrics=['accuracy']\n",
        "    )\n",
        "    return model\n",
        "\n",
        "tuner = kt.Hyperband(\n",
        "    build_model,\n",
        "    objective='val_accuracy',\n",
        "    max_epochs=10,\n",
        "    factor=3,\n",
        "    directory='mnist_automl',\n",
        "    project_name='mnist'\n",
        ")\n",
        "\n",
        "stop_early = tf.keras.callbacks.EarlyStopping(monitor='val_loss', patience=3)\n",
        "tuner.search(x_train, y_train, epochs=10, validation_split=0.2, callbacks=[stop_early])\n",
        "best_hps = tuner.get_best_hyperparameters(num_trials=1)[0]\n",
        "\n",
        "print(f\"\"\"\n",
        "The optimal number of filters is {best_hps.get('filters')},\n",
        "the best kernel size is {best_hps.get('kernel_size')},\n",
        "the best number of units in the Dense layer is {best_hps.get('units')},\n",
        "the optimal dropout rate is {best_hps.get('dropout')},\n",
        "and the best learning rate is {best_hps.get('learning_rate')}.\n",
        "\"\"\")\n",
        "\n",
        "model = tuner.hypermodel.build(best_hps)\n",
        "history = model.fit(x_train, y_train, epochs=10, validation_split=0.2)\n",
        "\n",
        "model.save('mnist_model')\n",
        "print(\"Model saved to file.\")\n",
        "\n"
      ]
    },
    {
      "cell_type": "code",
      "execution_count": 16,
      "metadata": {
        "id": "562dc6d1",
        "outputId": "2661ff24-a795-4b0d-d28d-f97750cdc193",
        "colab": {
          "base_uri": "https://localhost:8080/"
        }
      },
      "outputs": [
        {
          "output_type": "stream",
          "name": "stdout",
          "text": [
            "Overwriting main.py\n"
          ]
        }
      ],
      "source": [
        "%%writefile main.py\n",
        "from enum import Enum\n",
        "from typing import Dict, List\n",
        "\n",
        "\n",
        "import cv2\n",
        "import numpy as np\n",
        "import requests\n",
        "from fastapi import FastAPI, HTTPException\n",
        "from fastapi.openapi.utils import get_openapi\n",
        "from pydantic import BaseModel\n",
        "import uvicorn\n",
        "\n",
        "import tensorflow as tf\n",
        "from tensorflow import keras\n",
        "from tensorflow.keras import layers\n",
        "import keras_tuner as kt\n",
        "\n",
        "# FastAPI\n",
        "app = FastAPI(\n",
        "    title=\"Shopping List API\",\n",
        "    description=\"A REST API to manage and analyze a shopping list.\",\n",
        "    version=\"1.0.0\",\n",
        ")\n",
        "\n",
        "\n",
        "MODEL_PATH = None\n",
        "\n",
        "\n",
        "class ProductGroup(str, Enum):\n",
        "    ELECTRONICS = \"Electronics\"\n",
        "    GROCERIES = \"Groceries\"\n",
        "    CLOTHING = \"Clothing\"\n",
        "    BOOKS = \"Books\"\n",
        "    HOUSEHOLD = \"Household\"\n",
        "    COSMETICS = \"Cosmetics\"\n",
        "    TOYS = \"Toys\"\n",
        "    SPORTS = \"Sports\"\n",
        "\n",
        "\n",
        "class Item(BaseModel):\n",
        "    name: str\n",
        "    group: ProductGroup\n",
        "    price: float\n",
        "    unit: str\n",
        "    quantity: int\n",
        "\n",
        "\n",
        "shopping_list: List[Item] = []\n",
        "\n",
        "\n",
        "@app.get(\n",
        "    \"/product-groups\", response_model=List[str], summary=\"Get available product groups\"\n",
        ")\n",
        "async def get_product_groups():\n",
        "    \"\"\"Return a list of available product groups.\"\"\"\n",
        "    return [group.value for group in ProductGroup]\n",
        "\n",
        "\n",
        "@app.post(\"/items\", response_model=Item, summary=\"Add a new item\")\n",
        "async def add_item(item: Item):\n",
        "    \"\"\"\n",
        "    Add a new item to the shopping list.\n",
        "\n",
        "    The shopping list items contain:\n",
        "    - **name**: Name of the product\n",
        "    - **group**: Product category/group (_use GET /product-groups for it_)\n",
        "    - **price**: Price per unit\n",
        "    - **unit**: Unit of measurement\n",
        "    - **quantity**: Number of items\n",
        "    \"\"\"\n",
        "    shopping_list.append(item)\n",
        "    return item\n",
        "\n",
        "\n",
        "@app.get(\"/items\", response_model=List[Item], summary=\"Get all items\")\n",
        "async def get_items():\n",
        "    \"\"\"Retrieve all items in the shopping list.\"\"\"\n",
        "    return shopping_list\n",
        "\n",
        "\n",
        "@app.get(\n",
        "    \"/costs\", response_model=Dict[str, float], summary=\"Get costs by product group\"\n",
        ")\n",
        "async def get_costs():\n",
        "    \"\"\"Calculate and return total costs for each product group and overall total.\"\"\"\n",
        "    costs: Dict[str, float] = {}\n",
        "    total_sum = 0.0\n",
        "    for item in shopping_list:\n",
        "        group_total = item.price * item.quantity\n",
        "        costs[item.group] = costs.get(item.group, 0) + group_total\n",
        "        total_sum += group_total\n",
        "    costs[\"Total\"] = total_sum\n",
        "    return costs\n",
        "\n",
        "\n",
        "@app.post(\"/predict\", summary=\"Make MNIST prediction\")\n",
        "async def predict_digit(image: bytes):\n",
        "    \"\"\"\n",
        "    Make a prediction on a digit image using MNIST model.\n",
        "    Returns predicted digit class and confidence score.\n",
        "    \"\"\"\n",
        "\n",
        "    if MODEL_PATH is None:\n",
        "        raise HTTPException(\n",
        "            status_code=500,\n",
        "            detail=\"MNIST model not loaded. Please ensure model is available.\",\n",
        "        )\n",
        "\n",
        "    try:\n",
        "        # Convert bytes to numpy array\n",
        "        nparr = np.frombuffer(image, np.uint8)\n",
        "        img = cv2.imdecode(nparr, cv2.IMREAD_GRAYSCALE)\n",
        "\n",
        "        # Preprocess image\n",
        "        img = cv2.resize(img, (28, 28))\n",
        "        img = img.astype(\"float32\") / 255.0\n",
        "        img = np.expand_dims(img, axis=(0, -1))\n",
        "\n",
        "        # Make prediction\n",
        "        prediction = MODEL_PATH.predict(img)\n",
        "        predicted_class = np.argmax(prediction[0])\n",
        "        confidence = float(prediction[0][predicted_class])\n",
        "\n",
        "        return {\"predicted_digit\": int(predicted_class), \"confidence\": confidence}\n",
        "\n",
        "    except Exception as e:\n",
        "        raise HTTPException(status_code=500, detail=f\"Error processing image: {str(e)}\")\n",
        "\n",
        "\n",
        "# Custom OpenAPI documentation\n",
        "@app.get(\"/docs\", summary=\"API Documentation\", include_in_schema=False)\n",
        "def custom_docs():\n",
        "    def custom_openapi():\n",
        "        if app.openapi_schema:\n",
        "            return app.openapi_schema\n",
        "        openapi_schema = get_openapi(\n",
        "            title=\"Shopping List API\",\n",
        "            version=\"1.0.0\",\n",
        "            description=\"A detailed API documentation for managing a shopping list and analyzing costs.\",\n",
        "            routes=app.routes,\n",
        "        )\n",
        "        app.openapi_schema = openapi_schema\n",
        "        return app.openapi_schema\n",
        "\n",
        "    return custom_openapi()\n",
        "\n",
        "\n",
        "# if __name__ == \"__main__\":\n",
        "#     uvicorn.run(app, host=\"127.0.0.1\", port=8000)"
      ]
    },
    {
      "cell_type": "code",
      "source": [
        "!nohup uvicorn main:app --reload &"
      ],
      "metadata": {
        "id": "Cy5PMO6q2cRk",
        "outputId": "fa87f009-1255-4806-d2f0-5d48dcd9863d",
        "colab": {
          "base_uri": "https://localhost:8080/"
        }
      },
      "execution_count": 17,
      "outputs": [
        {
          "output_type": "stream",
          "name": "stdout",
          "text": [
            "nohup: appending output to 'nohup.out'\n"
          ]
        }
      ]
    },
    {
      "cell_type": "code",
      "source": [
        "!ssh -o \"StrictHostKeyChecking no\" -R 80:localhost:8000 serveo.net"
      ],
      "metadata": {
        "id": "mvJa6F7u4tBq",
        "outputId": "1cda90eb-8863-4885-d99c-88cb1920ad5a",
        "colab": {
          "base_uri": "https://localhost:8080/"
        }
      },
      "execution_count": 14,
      "outputs": [
        {
          "output_type": "stream",
          "name": "stdout",
          "text": [
            "Warning: Permanently added 'serveo.net' (RSA) to the list of known hosts.\n",
            "\u001b[32mForwarding HTTP traffic from https://72267fda36c4e90a9608992727bbde5c.serveo.net\n",
            "\u001b[0mHTTP request from 31.163.119.32 to https://72267fda36c4e90a9608992727bbde5c.serveo.net/items\n",
            "connect_to localhost port 8000: failed.\n",
            "HTTP request from 31.163.119.32 to https://72267fda36c4e90a9608992727bbde5c.serveo.net/items\n",
            "connect_to localhost port 8000: failed.\n",
            "HTTP request from 31.163.119.32 to http://72267fda36c4e90a9608992727bbde5c.serveo.net/items\n",
            "connect_to localhost port 8000: failed.\n",
            "HTTP request from 31.163.119.32 to http://72267fda36c4e90a9608992727bbde5c.serveo.net/items\n",
            "connect_to localhost port 8000: failed.\n"
          ]
        }
      ]
    },
    {
      "cell_type": "code",
      "execution_count": 19,
      "metadata": {
        "id": "f6ab1f09",
        "outputId": "3cebbeab-148c-4ed8-8da6-c6ed4db51a82",
        "colab": {
          "base_uri": "https://localhost:8080/"
        }
      },
      "outputs": [
        {
          "output_type": "stream",
          "name": "stdout",
          "text": [
            "Add items: {'name': 'Laptop', 'group': 'Electronics', 'price': 1000.0, 'unit': 'piece', 'quantity': 1} {'name': 'Apples', 'group': 'Groceries', 'price': 2.0, 'unit': 'kg', 'quantity': 3}\n",
            "All items: [{'name': 'Laptop', 'group': 'Electronics', 'price': 1000.0, 'unit': 'piece', 'quantity': 1}, {'name': 'Apples', 'group': 'Groceries', 'price': 2.0, 'unit': 'kg', 'quantity': 3}]\n",
            "Costs: {'Electronics': 1000.0, 'Groceries': 6.0, 'Total': 1006.0}\n"
          ]
        }
      ],
      "source": [
        "# Example test coverage using the requests library\n",
        "def test_api():\n",
        "    base_url = \"http://127.0.0.1:8000\"\n",
        "    # base_url = \"https://72267fda36c4e90a9608992727bbde5c.serveo.net\"\n",
        "\n",
        "    # Add items\n",
        "    item_1 = {\n",
        "        \"name\": \"Laptop\",\n",
        "        \"group\": \"Electronics\",\n",
        "        \"price\": 1000,\n",
        "        \"unit\": \"piece\",\n",
        "        \"quantity\": 1,\n",
        "    }\n",
        "    item_2 = {\n",
        "        \"name\": \"Apples\",\n",
        "        \"group\": \"Groceries\",\n",
        "        \"price\": 2,\n",
        "        \"unit\": \"kg\",\n",
        "        \"quantity\": 3,\n",
        "    }\n",
        "\n",
        "    r1 = requests.post(f\"{base_url}/items\", json=item_1)\n",
        "    r2 = requests.post(f\"{base_url}/items\", json=item_2)\n",
        "    print(\"Add items:\", r1.json(), r2.json())\n",
        "\n",
        "    # Get all items\n",
        "    r3 = requests.get(f\"{base_url}/items\")\n",
        "    print(\"All items:\", r3.json())\n",
        "\n",
        "    # Get costs\n",
        "    r4 = requests.get(f\"{base_url}/costs\")\n",
        "    print(\"Costs:\", r4.json())\n",
        "\n",
        "test_api()"
      ]
    },
    {
      "cell_type": "code",
      "source": [],
      "metadata": {
        "id": "9BgK81Ls3JVQ"
      },
      "execution_count": null,
      "outputs": []
    }
  ],
  "metadata": {
    "colab": {
      "provenance": [],
      "include_colab_link": true
    },
    "jupytext": {
      "main_language": "python"
    },
    "kernelspec": {
      "display_name": "Python 3",
      "name": "python3"
    },
    "language_info": {
      "name": "python"
    }
  },
  "nbformat": 4,
  "nbformat_minor": 0
}