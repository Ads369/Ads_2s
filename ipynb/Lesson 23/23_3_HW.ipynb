{
 "cells": [
  {
   "cell_type": "markdown",
   "metadata": {
    "colab_type": "text",
    "id": "view-in-github"
   },
   "source": [
    "<a href=\"https://colab.research.google.com/github/Ads369/Ads_2s/blob/main/23_3_%D0%94%D0%BE%D0%BC%D0%B0%D1%88%D0%BD%D1%8F%D1%8F_%D1%80%D0%B0%D0%B1%D0%BE%D1%82%D0%B0.ipynb\" target=\"_parent\"><img src=\"https://colab.research.google.com/assets/colab-badge.svg\" alt=\"Open In Colab\"/></a>"
   ]
  },
  {
   "cell_type": "markdown",
   "metadata": {
    "id": "fEX_t6f7_cdz"
   },
   "source": [
    "**Навигация по уроку**\n",
    "\n",
    "1. [Анализ временных рядов с помощью НС](https://colab.research.google.com/drive/1q9nM-aWF6wZ2XuBxjQEAgjKxrL45axit)\n",
    "2. [Сравнение архитектур нейронных сетей для обработки временных рядов](https://colab.research.google.com/drive/1-D-qXFYJ9b5sLLz_CFkUYmR-I2tM7KO2)\n",
    "3. Домашняя работа"
   ]
  },
  {
   "cell_type": "markdown",
   "metadata": {
    "id": "eMEgCDqiqDvi",
    "lines_to_next_cell": 2
   },
   "source": [
    "**В домашней работе вам необходимо:**\n",
    "1. Выбрать любую понравившуюся модель из [практической](https://colab.research.google.com/drive/1-D-qXFYJ9b5sLLz_CFkUYmR-I2tM7KO2) части урока.\n",
    "2. Используя известный [датасет](https://storage.yandexcloud.net/academy.ai/AAPL.csv) котировок Apple, обучить модель. Вывести графики из урока: график процесса обучения, сопоставления базового и прогнозного рядов, а также график автокорреляции.\n",
    "3. Для получения трех проходных баллов за урок необходимо скорректировать код урока для данных с batch_size не равному 1.\n",
    "4. Хотите 4 балла? Возьмите полносвязанную модель или с одномерной сверткой. Добейтесь подбором параметров и выбором архитектуры идеального графика автокорреляции без холмиков, равномерно спадающих графиков эталонной и прогнозной автокорреляции, максимально близко друг к другу.\n",
    "5. Для получения дополнительного балла вам необходимо избавиться от тренда с помощью дифференцирования в датасете.\n",
    "6. Еще один балл можно получить сверху, если догадаетесь как на графике сопоставления базового и прогнозного рядов отобразить реальную дату, а не относительную."
   ]
  },
  {
   "cell_type": "code",
   "execution_count": null,
   "id": "5cf274e3",
   "metadata": {
    "id": "ZApSR5aPgxnf"
   },
   "outputs": [],
   "source": [
    "import warnings\n",
    "\n",
    "import matplotlib.pyplot as plt\n",
    "import numpy as np\n",
    "import pandas as pd\n",
    "from keras.layers import (\n",
    "    LSTM,\n",
    "    Dense,\n",
    ")\n",
    "from keras.models import Sequential\n",
    "from pylab import rcParams\n",
    "from sklearn.preprocessing import MinMaxScaler\n",
    "from tensorflow.keras.preprocessing.sequence import TimeseriesGenerator\n",
    "\n",
    "plt.style.use(\"ggplot\")\n",
    "rcParams[\"figure.figsize\"] = (14, 7)\n",
    "warnings.filterwarnings(\"ignore\")"
   ]
  },
  {
   "cell_type": "code",
   "execution_count": null,
   "id": "454806cd",
   "metadata": {
    "lines_to_next_cell": 2,
    "title": "cell"
   },
   "outputs": [],
   "source": [
    "%matplotlib inline\n",
    "!wget https://storage.yandexcloud.net/academy.ai/AAPL.csv"
   ]
  },
  {
   "cell_type": "code",
   "execution_count": null,
   "id": "35aad571",
   "metadata": {
    "title": "cell"
   },
   "outputs": [],
   "source": [
    "price = pd.read_csv(\n",
    "    \"./AAPL.csv\",\n",
    "    index_col=\"Date\",\n",
    "    usecols=[\"Adj Close\", \"Volume\", \"Date\"],\n",
    "    parse_dates=[\"Date\"],\n",
    ")\n",
    "\n",
    "# Fix trand\n",
    "price[\"diff\"] = price[\"Adj Close\"].diff()\n",
    "price = price.dropna()\n",
    "\n",
    "price.head()"
   ]
  },
  {
   "cell_type": "code",
   "execution_count": null,
   "id": "4e08e974",
   "metadata": {},
   "outputs": [],
   "source": [
    "# Задание полотна для графиков - два подграфика один под другим с общей осью x\n",
    "fig, (ax1, ax2) = plt.subplots(2, 1, figsize=(22, 13), sharex=True)\n",
    "\n",
    "\n",
    "ax1.plot(price.index, price[\"Adj Close\"], label=\"Цена закрытия\")\n",
    "\n",
    "ax1.set_ylabel(\"Цена, руб\")\n",
    "ax1.legend()\n",
    "\n",
    "# Канал volume (объем)\n",
    "ax2.bar(x=price.index, height=price[\"Volume\"], label=\"Объем\")\n",
    "ax2.set_ylabel(\"Сделки\")\n",
    "ax2.legend()\n",
    "\n",
    "plt.xlabel(\"Время\")\n",
    "# Указание расположить подграфики плотнее друг к другу\n",
    "plt.tight_layout()\n",
    "# Фиксация графика\n",
    "plt.show()"
   ]
  },
  {
   "cell_type": "code",
   "execution_count": null,
   "id": "382e01e2",
   "metadata": {},
   "outputs": [],
   "source": [
    "price.drop(columns=[\"Volume\"], inplace=True)\n",
    "price.drop(columns=[\"Adj Close\"], inplace=True)\n",
    "price.head()"
   ]
  },
  {
   "cell_type": "code",
   "execution_count": null,
   "id": "b6d3d872",
   "metadata": {
    "lines_to_next_cell": 2
   },
   "outputs": [],
   "source": [
    "# Split the data\n",
    "test_size = round(len(price) * 0.8)\n",
    "train_data = price[:test_size]\n",
    "test_data = price[test_size:]\n",
    "\n",
    "validate_size = len(test_data) // 2\n",
    "validate_data = test_data[:validate_size]\n",
    "test_data = test_data[validate_size:]\n",
    "\n",
    "print(f\"Тренировочные данные: {train_data.shape}\")\n",
    "print(f\"Тестовые данные: {test_data.shape}\")\n",
    "print(f\"Валидационные данные: {validate_data.shape}\")"
   ]
  },
  {
   "cell_type": "code",
   "execution_count": null,
   "id": "25e64257",
   "metadata": {
    "lines_to_next_cell": 2
   },
   "outputs": [],
   "source": [
    "scaler = MinMaxScaler()\n",
    "scaler.fit(train_data)\n",
    "scaled_train_data = scaler.transform(train_data)\n",
    "scaled_test_data = scaler.transform(test_data)\n",
    "scaled_validate_data = scaler.transform(validate_data)\n",
    "\n",
    "print(f\"Тренировочные данные: {scaled_train_data.shape}\")\n",
    "print(f\"Тестовые данные: {scaled_test_data.shape}\")\n",
    "print(f\"Валидационные данные: {scaled_validate_data.shape}\")"
   ]
  },
  {
   "cell_type": "code",
   "execution_count": null,
   "id": "2649249d",
   "metadata": {},
   "outputs": [],
   "source": [
    "n_input = 14  # Размерность входных данных\n",
    "n_features = 1  # Размерность выходных данных\n",
    "# BATCH_SIZE = 1  # Размер пакета\n",
    "BATCH_SIZE = 4\n",
    "\n",
    "generator = TimeseriesGenerator(\n",
    "    scaled_train_data, scaled_train_data, length=n_input, batch_size=BATCH_SIZE\n",
    ")\n",
    "print(f\"Форма обучающего пакета: {generator[0][0].shape}, y: {generator[0][1].shape}\")\n",
    "\n",
    "validator = TimeseriesGenerator(\n",
    "    scaled_validate_data, scaled_validate_data, length=n_input, batch_size=BATCH_SIZE\n",
    ")\n",
    "print(\n",
    "    f\"Форма валидационного пакета: {validator[0][0].shape}, y: {validator[0][1].shape}\"\n",
    ")\n",
    "\n",
    "tester = TimeseriesGenerator(\n",
    "    scaled_test_data,\n",
    "    scaled_test_data,\n",
    "    length=n_input,\n",
    "    batch_size=scaled_test_data.shape[0],\n",
    "    # batch_size=BATCH_SIZE,\n",
    ")\n",
    "x_test, y_test = tester[0]\n",
    "print(f\"Форма тестовой выборки: {x_test.shape}, y: {y_test.shape}\")"
   ]
  },
  {
   "cell_type": "code",
   "execution_count": null,
   "id": "cfacdd65",
   "metadata": {},
   "outputs": [],
   "source": [
    "# ## Вспомогательные функции\n",
    "\n",
    "\n",
    "# Объявление функции графика обучения\n",
    "def history_plot(history, title):\n",
    "    # Рисование графиков обучения\n",
    "    fig = plt.figure(figsize=(14, 7))\n",
    "    plt.plot(history.history[\"loss\"], label=\"Ошибка на обучающем наборе\")\n",
    "    plt.plot(history.history[\"val_loss\"], label=\"Ошибка на проверочном наборе\")\n",
    "    plt.title(f\"{title}. График обучения\")\n",
    "\n",
    "    # Показываем только целые метки шкалы оси x\n",
    "    fig.gca().xaxis.get_major_locator().set_params(integer=True)\n",
    "    plt.xlabel(\"Эпоха обучения\")\n",
    "    plt.ylabel(\"Средняя ошибка\")\n",
    "    plt.legend()\n",
    "    plt.show()\n",
    "\n",
    "\n",
    "# Функция расчета корреляции для двух рядов\n",
    "def correlate(a, b):\n",
    "    return np.corrcoef(a, b)[0, 1]\n",
    "\n",
    "\n",
    "# Функция визуализации результата предсказания сети и верных ответов\n",
    "def show_predict(y_pred, y_true, dates, title=\"\"):\n",
    "    plot_dates = dates[-1 * len(y_pred) + 1 :]\n",
    "\n",
    "    # Plot with dates on x-axis\n",
    "    plt.plot(plot_dates, y_pred[1:], label=\"Прогноз\")\n",
    "    plt.plot(plot_dates, y_true[:-1], label=\"Базовый\")\n",
    "    plt.title(title)\n",
    "    plt.xlabel(\"Дата (относительно начала выборки)\")\n",
    "    plt.ylabel(\"Значение\")\n",
    "    plt.legend()\n",
    "    plt.show()\n",
    "\n",
    "\n",
    "# Функция расчета результата предсказания\n",
    "def get_pred(\n",
    "    model,  # модель\n",
    "    x_test,\n",
    "    y_test,  # тестовая выборка\n",
    "    y_scaler,  # масштабирующий объект для y\n",
    "):\n",
    "    n_samples = x_test.shape[0]\n",
    "    if n_samples % BATCH_SIZE != 0:\n",
    "        pad_size = BATCH_SIZE - (n_samples % BATCH_SIZE)\n",
    "        x_test_padded = np.pad(x_test, ((0, pad_size), (0, 0), (0, 0)), mode=\"edge\")\n",
    "        y_pred = model.predict(x_test_padded, batch_size=BATCH_SIZE, verbose=0)\n",
    "    else:\n",
    "        y_pred = model.predict(x_test, batch_size=BATCH_SIZE, verbose=0)\n",
    "\n",
    "    y_pred_unscaled = y_scaler.inverse_transform(y_pred)\n",
    "    y_test_unscaled = y_scaler.inverse_transform(y_test)\n",
    "    return y_pred_unscaled, y_test_unscaled\n",
    "\n",
    "\n",
    "# Функция рисования корреляций прогнозного ряда и исходного со смещением\n",
    "# break_step - ограничитель на число временных лагов\n",
    "def show_corr(y_pred, y_true, title=\"\", break_step=30):\n",
    "    # выбираем наименьшее из длины y_len и break_step в качестве числа лагов для графика\n",
    "    y_len = y_true.shape[0]\n",
    "    steps = range(1, np.min([y_len + 1, break_step + 1]))\n",
    "\n",
    "    # Вычисление коэффициентов корреляции базового ряда и предсказания с разным смещением\n",
    "    cross_corr = [correlate(y_true[:-step, 0], y_pred[step:, 0]) for step in steps]\n",
    "\n",
    "    # Вычисление коэффициентов автокорреляции базового ряда с разным смещением\n",
    "    auto_corr = [correlate(y_true[:-step, 0], y_true[step:, 0]) for step in steps]\n",
    "\n",
    "    plt.plot(steps, cross_corr, label=\"Прогноз\")\n",
    "    plt.plot(steps, auto_corr, label=\"Эталон\")\n",
    "\n",
    "    plt.title(title)\n",
    "\n",
    "    # Назначение меток шкалы оси x\n",
    "    plt.xticks(steps)\n",
    "    plt.xlabel(\"Шаги смещения\")\n",
    "    plt.ylabel(\"Коэффициент корреляции\")\n",
    "    plt.legend()\n",
    "    plt.show()"
   ]
  },
  {
   "cell_type": "code",
   "execution_count": null,
   "id": "c775700d",
   "metadata": {
    "lines_to_next_cell": 2
   },
   "outputs": [],
   "source": [
    "# ### 2. Рекуррентная модель LSTM(50)\n",
    "\n",
    "lstm_model = Sequential()\n",
    "# lstm_model.add(LSTM(50, activation=\"relu\", input_shape=generator[0][0].shape[1:]))\n",
    "lstm_model.add(\n",
    "    LSTM(\n",
    "        50,\n",
    "        activation=\"relu\",\n",
    "        input_shape=(n_input, n_features),  # Explicitly specify input shape\n",
    "    )\n",
    ")  # Add batch_input_shape\n",
    "lstm_model.add(Dense(10, activation=\"relu\"))\n",
    "lstm_model.add(Dense(n_features))\n",
    "\n",
    "lstm_model.compile(optimizer=\"adam\", loss=\"mse\")\n",
    "lstm_model.summary()"
   ]
  },
  {
   "cell_type": "code",
   "execution_count": null,
   "id": "8a1bdd8e",
   "metadata": {},
   "outputs": [],
   "source": [
    "steps_per_epoch = len(scaled_train_data) // BATCH_SIZE\n",
    "validation_steps = len(scaled_validate_data) // BATCH_SIZE\n",
    "\n",
    "lstm_model.fit(\n",
    "    generator,\n",
    "    validation_data=validator,\n",
    "    epochs=20,\n",
    "    steps_per_epoch=steps_per_epoch,\n",
    "    validation_steps=validation_steps,\n",
    ")"
   ]
  },
  {
   "cell_type": "code",
   "execution_count": null,
   "id": "4c29a5e1",
   "metadata": {},
   "outputs": [],
   "source": [
    "# #### Графики\n",
    "history_plot(lstm_model.history, \"LSTM(50)\")"
   ]
  },
  {
   "cell_type": "code",
   "execution_count": null,
   "id": "7dcf31b5",
   "metadata": {
    "colab": {
     "base_uri": "https://localhost:8080/",
     "height": 647
    },
    "id": "RDyAWDDm0dFz",
    "outputId": "89c0eac9-4013-4eae-8099-a1900636c88a"
   },
   "outputs": [],
   "source": [
    "test_dates = test_data.index\n",
    "# Получение денормализованного предсказания и данных базового ряда\n",
    "y_pred, y_true = get_pred(lstm_model, x_test, y_test, scaler)\n",
    "\n",
    "# Отрисовка графика сопоставления базового и прогнозного рядов\n",
    "show_predict(\n",
    "    y_pred,\n",
    "    y_true,\n",
    "    test_dates,\n",
    "    title=\"LSTM(50) модель. Сопоставление базового и прогнозного рядов\",\n",
    ")"
   ]
  },
  {
   "cell_type": "code",
   "execution_count": null,
   "id": "352f5d69",
   "metadata": {},
   "outputs": [],
   "source": [
    "# Отрисовка графика корреляционных коэффициентов до заданного максимума шагов смещения\n",
    "show_corr(\n",
    "    y_pred,\n",
    "    y_true,\n",
    "    title=\"LSTM(50) модель. Корреляционные коэффициенты по шагам смещения\",\n",
    ")"
   ]
  },
  {
   "cell_type": "code",
   "execution_count": null,
   "id": "b88e03e5",
   "metadata": {},
   "outputs": [],
   "source": [
    "# импортируем функцию seasonal_decompose из statsmodels\n",
    "# задаем размер графика\n",
    "from pylab import rcParams\n",
    "from statsmodels.tsa.seasonal import seasonal_decompose\n",
    "\n",
    "rcParams[\"figure.figsize\"] = 11, 9\n",
    "\n",
    "# qwe = np.diff(price['Adj Close'])\n",
    "# qwe = np.diff(price['diff'])\n",
    "\n",
    "# применяем функцию к данным о котировках\n",
    "decompose = seasonal_decompose(price.resample(rule=\"1M\").mean())\n",
    "decompose.plot()\n",
    "\n",
    "plt.show()"
   ]
  },
  {
   "cell_type": "code",
   "execution_count": null,
   "id": "c806629f",
   "metadata": {},
   "outputs": [],
   "source": [
    "def get_corr_coef(\n",
    "    data,  # данные\n",
    "    lag,  # временной лаг\n",
    "):\n",
    "    array_data = np.asarray(data)  # Преобразуем в массив NumPy\n",
    "\n",
    "    # вычисление матрицы коэффициентов и отбор коэффициента из нужного места матрицы\n",
    "    return np.corrcoef(array_data[lag:], array_data[:-lag])[0, 1]"
   ]
  },
  {
   "cell_type": "code",
   "execution_count": null,
   "id": "8ec58e3a",
   "metadata": {},
   "outputs": [],
   "source": [
    "np.round(get_corr_coef(price[\"diff\"], 5), 2)\n",
    "# импортируем автокорреляционную функцию (ACF)\n",
    "from statsmodels.graphics.tsaplots import plot_acf\n",
    "\n",
    "# применим функцию к нашему набору данных\n",
    "# параметр lags - сколько мы хотим отобразить лагов\n",
    "plot_acf(price[\"diff\"], lags=100)\n",
    "\n",
    "# добавим отступы сверху и снизу на графике\n",
    "plt.axis(\"tight\")\n",
    "plt.title(\"Влияние тренда на автокорреляцию котировок акций\")\n",
    "plt.xlabel(\"Временной лаг\", fontsize=16)\n",
    "plt.ylabel(\"Коэффициент корреляции\", fontsize=16)\n",
    "plt.show()"
   ]
  }
 ],
 "metadata": {
  "colab": {
   "include_colab_link": true,
   "provenance": []
  },
  "jupytext": {
   "main_language": "python"
  },
  "kernelspec": {
   "display_name": "Python 3",
   "name": "python3"
  },
  "language_info": {
   "name": "python"
  }
 },
 "nbformat": 4,
 "nbformat_minor": 0
}
