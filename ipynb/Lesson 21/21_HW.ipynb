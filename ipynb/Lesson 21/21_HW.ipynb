{
 "cells": [
  {
   "cell_type": "markdown",
   "metadata": {
    "colab_type": "text",
    "id": "view-in-github"
   },
   "source": [
    "<a href=\"https://colab.research.google.com/github/Ads369/Ads_2s/blob/main/21_4_%D0%94%D0%BE%D0%BC%D0%B0%D1%88%D0%BD%D1%8F%D1%8F_%D1%80%D0%B0%D0%B1%D0%BE%D1%82%D0%B0.ipynb\" target=\"_parent\"><img src=\"https://colab.research.google.com/assets/colab-badge.svg\" alt=\"Open In Colab\"/></a>"
   ]
  },
  {
   "cell_type": "markdown",
   "metadata": {
    "id": "UDMQlLZbr8ra"
   },
   "source": [
    "**Навигация по уроку**\n",
    "\n",
    "1. [Рекуррентные нейронные сети](https://colab.research.google.com/drive/1Mm5yFeJXZT9YcwlQMGx_T5JcEVgV8ZWy)\n",
    "2. [Одномерные сверточные нейронные сети](https://colab.research.google.com/drive/1SCmcJdfsaxpJiQz_SOMH6gixV-43zPIB)\n",
    "3. [Сравнение архитектур рекуррентных и одномерных сверточных сетей](https://colab.research.google.com/drive/15-SEqMwU3ALZmiEtlJFZllc38VTGHkGu)\n",
    "4. Домашняя работа"
   ]
  },
  {
   "cell_type": "markdown",
   "metadata": {
    "id": "sR5KZ9SVhfOY"
   },
   "source": [
    "Когда вы еще учились в школе, то вас часто мучали написанием сочинений. Может быть даже кто-нибудь из вас увлекался написанием стихотворений, романов или прозы. А значит, в вас живет дух великого русского писателя. А вот интересно какого? В данной домашней работе мы это и выясним!\n",
    "\n",
    "Чтобы узнать на какого писателя вы похожи необходимо выполнить следующее задание:\n",
    "\n",
    "1. Скачать датасет с [писателями Русской литературы](https://storage.yandexcloud.net/academy.ai/russian_literature.zip). Каждый текст необходимо разбить на обучающую, проверочную и тестовую выборки, для этого модифицируйте функцию `seq_vectorize`, чтобы она возвращала все 3 выборки.\n",
    "2. Используя материалы из ноутбука практического занятия [сравнение архитектур рекуррентных и одномерных сверточных сетей](https://colab.research.google.com/drive/15-SEqMwU3ALZmiEtlJFZllc38VTGHkGu), выберите лучший вариант нейронки и адаптируйте ее структуру.\n",
    "3. Подгрузите веса Наташи как в уроке [20.3](https://colab.research.google.com/drive/1g_dX1XpRY--X6EjFflCC0717p9_9Y1SP) для слоя эмбендинга.\n",
    "4. Заморозьте слой эмбединга.\n",
    "5. Обучите модель на любом числе писателей (не менее 4-х) с балансировкой. Используйте обучающую выборку для обучения, а проверочную - в качестве валидационных данных (`validation_data`).\n",
    "6. Постройте матрицу ошибок на тестовых образцах! В примерах мы строили на проверочных. Добейтесь средней точности более 70% на тестовых образцах. Получите 3 балла.\n",
    "7. Если сможете добиться точности более 90% получите +1 балл.\n",
    "8. Подготовьте свой текст и предложите нейронке предсказать на кого из русских писателей похож ваш текст. Вам необходимо построить круговую диаграмму с вероятностями предсказания моделью автора сочинения (по тестовой выборке). Если текст будет вашего авторства, то вы получите +1 балл. Если у вас плохо с фантазией, то возьмите небольшой фрагмент вашего любимого произведения любого автора, не представленного в датасете."
   ]
  },
  {
   "cell_type": "code",
   "execution_count": null,
   "id": "c9d1be68",
   "metadata": {
    "lines_to_next_cell": 2,
    "title": "cell"
   },
   "outputs": [],
   "source": [
    "!wget https://storage.yandexcloud.net/natasha-navec/packs/navec_hudlit_v1_12B_500K_300d_100q.tar\n",
    "!pip install navec, wget\n",
    "%matplotlib inline"
   ]
  },
  {
   "cell_type": "code",
   "execution_count": null,
   "id": "60a47400",
   "metadata": {
    "title": "cell"
   },
   "outputs": [],
   "source": [
    "import glob  # Вспомогательный модуль для работы с файловой системой\n",
    "import os  # Модуль для работы с файловой системой\n",
    "\n",
    "import matplotlib.pyplot as plt\n",
    "import numpy as np\n",
    "from keras.layers import (\n",
    "    GRU,\n",
    "    LSTM,\n",
    "    BatchNormalization,\n",
    "    Bidirectional,\n",
    "    Conv1D,\n",
    "    Dense,\n",
    "    Dropout,\n",
    "    Embedding,\n",
    "    Flatten,\n",
    "    MaxPooling1D,\n",
    "    SimpleRNN,\n",
    "    SpatialDropout1D,\n",
    ")\n",
    "from keras.models import Sequential\n",
    "from keras.utils import get_file, to_categorical\n",
    "from navec import Navec\n",
    "from sklearn.metrics import (  # Для работы с матрицей ошибок\n",
    "    ConfusionMatrixDisplay,\n",
    "    confusion_matrix,\n",
    ")\n",
    "from tensorflow.keras.preprocessing.text import Tokenizer"
   ]
  },
  {
   "cell_type": "code",
   "execution_count": null,
   "id": "d034932a",
   "metadata": {
    "lines_to_next_cell": 0,
    "title": "cell"
   },
   "outputs": [],
   "source": [
    "data_path = get_file(\n",
    "    \"russian_literature.zip\",\n",
    "    \"https://storage.yandexcloud.net/academy.ai/russian_literature.zip\",\n",
    ")"
   ]
  },
  {
   "cell_type": "code",
   "execution_count": null,
   "id": "5013f069",
   "metadata": {
    "title": "cell"
   },
   "outputs": [],
   "source": [
    "import zipfile\n",
    "\n",
    "zip_ref = zipfile.ZipFile(data_path, \"r\")\n",
    "for file in zip_ref.namelist():\n",
    "    try:\n",
    "        zip_ref.extract(file, \"./dataset\")\n",
    "    except OSError as e:\n",
    "        if \"[Errno 36] File name too long:\" in str(e):\n",
    "            new_filename = file[:50] + \".\" + file.split(\".\")[-1]\n",
    "            with zip_ref.open(file) as source:\n",
    "                with open(f\"./dataset/{new_filename}\", \"wb\") as target:\n",
    "                    target.write(source.read())\n",
    "import wget\n",
    "\n",
    "url = \"https://storage.yandexcloud.net/natasha-navec/packs/navec_hudlit_v1_12B_500K_300d_100q.tar\"\n",
    "filename_navec = wget.download(url)\n",
    "navec = Navec.load(filename_navec)"
   ]
  },
  {
   "cell_type": "code",
   "execution_count": null,
   "id": "cc29d46c",
   "metadata": {
    "lines_to_next_cell": 0,
    "title": "cell"
   },
   "outputs": [],
   "source": [
    "FILE_DIR_POEMS = \"./dataset/poems\"\n",
    "file_list_poems = os.listdir(FILE_DIR_POEMS)\n",
    "FILE_DIR_PROSE = \"./dataset/prose\"\n",
    "file_list_prose = os.listdir(FILE_DIR_PROSE)\n",
    "CLASS_LIST = list(set(file_list_poems + file_list_prose))\n",
    "print(\"Общий список писателей:\")\n",
    "print(CLASS_LIST)"
   ]
  },
  {
   "cell_type": "code",
   "execution_count": null,
   "id": "d0436f09",
   "metadata": {
    "title": "cell"
   },
   "outputs": [],
   "source": [
    "# Собираем в словарь весь датасет\n",
    "all_texts = {}\n",
    "\n",
    "for author in CLASS_LIST:\n",
    "    all_texts[author] = \"\"\n",
    "    for path in glob.glob(\"./dataset/prose/{}/*.txt\".format(author)) + glob.glob(\n",
    "        \"./dataset/poems/{}/*.txt\".format(author)\n",
    "    ):\n",
    "        with open(f\"{path}\", \"r\", errors=\"ignore\") as f:\n",
    "            text = f.read()\n",
    "        all_texts[author] += \" \" + text.replace(\"\\n\", \" \")"
   ]
  },
  {
   "cell_type": "code",
   "execution_count": null,
   "id": "644dbcd4",
   "metadata": {
    "title": "cell"
   },
   "outputs": [],
   "source": [
    "# Токенизация\n",
    "embedding_dim = 300  # размерность векторов эмбединга (300d в имени эмбединга)\n",
    "max_words = 15000  # Количество слов, рассматриваемых как признаки\n",
    "\n",
    "# Используется встроенный в Keras токенизатор для разбиения текста и построения частотного словаря\n",
    "tokenizer = Tokenizer(\n",
    "    num_words=max_words,\n",
    "    filters='!\"#$%&()*+,-–—./…:;<=>?@[\\\\]^_`{|}~«»\\t\\n\\xa0\\ufeff',\n",
    "    lower=True,\n",
    "    split=\" \",\n",
    "    char_level=False,\n",
    ")\n",
    "\n",
    "# Построение частотного словаря по текстам\n",
    "tokenizer.fit_on_texts(all_texts.values())"
   ]
  },
  {
   "cell_type": "code",
   "execution_count": null,
   "id": "ce18fbfe",
   "metadata": {
    "title": "cell"
   },
   "outputs": [],
   "source": [
    "# Преобразуем текст в последовательности\n",
    "seq_train = tokenizer.texts_to_sequences(all_texts.values())"
   ]
  },
  {
   "cell_type": "code",
   "execution_count": null,
   "id": "d321e24e",
   "metadata": {
    "lines_to_next_cell": 2,
    "title": "cell"
   },
   "outputs": [],
   "source": [
    "# используем генератор цикла для получения длины текстов по каждому автору\n",
    "total = sum(len(i) for i in seq_train)\n",
    "print(f\"Датасет состоит из {total} слов\")\n",
    "\n",
    "print(\"Общая выборка по писателям (по словам):\")\n",
    "mean_list = np.array([])\n",
    "for author in CLASS_LIST:\n",
    "    cls = CLASS_LIST.index(author)\n",
    "    print(\n",
    "        f\"{author} - {len(seq_train[cls])} слов, доля в общей базе: {len(seq_train[cls])/total*100 :.2f}%\"\n",
    "    )\n",
    "    mean_list = np.append(mean_list, len(seq_train[cls]))\n",
    "\n",
    "print(\"Среднее значение слов: \", np.round(mean_list.mean()))\n",
    "print(\"Медианное значение слов: \", np.median(mean_list))\n",
    "\n",
    "\n",
    "median = int(np.median(mean_list))  # Зафиксировали медианное значение\n",
    "CLASS_LIST_BALANCE = []  # Сбалансированный набор меток\n",
    "seq_train_balance = []\n",
    "for author in CLASS_LIST:\n",
    "    cls = CLASS_LIST.index(author)\n",
    "    if len(seq_train[cls]) > median * 0.6:\n",
    "        seq_train_balance.append(seq_train[cls][:median])\n",
    "        CLASS_LIST_BALANCE.append(author)"
   ]
  },
  {
   "cell_type": "code",
   "execution_count": null,
   "id": "9d96eab6",
   "metadata": {
    "title": "cell"
   },
   "outputs": [],
   "source": [
    "total = sum(len(i) for i in seq_train_balance)\n",
    "\n",
    "print(\"Сбалансированная выборка по писателям (по словам):\")\n",
    "mean_list_balance = np.array([])\n",
    "for author in CLASS_LIST_BALANCE:\n",
    "    cls = CLASS_LIST_BALANCE.index(author)\n",
    "    print(\n",
    "        f\"{author} - {len(seq_train_balance[cls])} слов, \"\n",
    "        f\"доля в общей базе: {len(seq_train_balance[cls])/total*100 :.2f}%\"\n",
    "    )\n",
    "    mean_list_balance = np.append(mean_list_balance, len(seq_train_balance[cls]))\n",
    "\n",
    "print(\"Среднее значение слов: \", np.round(mean_list_balance.mean()))\n",
    "print(\"Медианное значение слов: \", np.median(mean_list_balance))"
   ]
  },
  {
   "cell_type": "code",
   "execution_count": null,
   "id": "a1fdcded",
   "metadata": {
    "title": "cell"
   },
   "outputs": [],
   "source": [
    "fig, ax = plt.subplots()\n",
    "ax.pie(\n",
    "    [\n",
    "        len(i) for i in seq_train_balance\n",
    "    ],  # формируем список значений как длина символов текста каждого автора\n",
    "    labels=CLASS_LIST_BALANCE,  # список меток\n",
    "    pctdistance=1.2,  # дистанция размещения % (1 - граница окружности)\n",
    "    labeldistance=1.4,  # размещение меток (1 - граница окружности)\n",
    "    autopct=\"%1.2f%%\",  # формат для % (2 знака после запятой)\n",
    ")\n",
    "plt.show()"
   ]
  },
  {
   "cell_type": "code",
   "execution_count": null,
   "id": "50950d2a",
   "metadata": {
    "title": "cell"
   },
   "outputs": [],
   "source": [
    "# Нарезка примеров из текста методом скользящего окна\n",
    "WIN_SIZE = 1000  # Ширина окна в токенах\n",
    "WIN_STEP = 100  # Шаг окна в токенах\n",
    "\n",
    "\n",
    "# Функция разбиения последовательности на отрезки скользящим окном\n",
    "# Последовательность разбивается на части до последнего полного окна\n",
    "# Параметры:\n",
    "# sequence - последовательность токенов\n",
    "# win_size - размер окна\n",
    "# step - шаг окна\n",
    "def seq_split(sequence, win_size, step):\n",
    "    # Делим строку на отрезки с помощью генератора цикла\n",
    "    return [\n",
    "        sequence[i : i + win_size] for i in range(0, len(sequence) - win_size + 1, step)\n",
    "    ]\n",
    "\n",
    "\n",
    "def seq_vectorize(\n",
    "    seq_list,  # Последовательность\n",
    "    test_split,  # Доля на тестовую выборку\n",
    "    class_list,  # Список классов\n",
    "    win_size,  # Ширина скользящего окна\n",
    "    step,  # Шаг скользящего окна\n",
    "):\n",
    "    # Списки для результирующих данных\n",
    "    x_train, y_train = [], []\n",
    "    x_val, y_val = [], []\n",
    "    x_test, y_test = [], []\n",
    "\n",
    "    # Пробежимся по всем классам:\n",
    "    for cls, class_item in enumerate(class_list):\n",
    "        # Пороговое значение индекса для разбивки на тестовую и обучающую выборки\n",
    "        gate_split = int(len(seq_list[cls]) * (1 - test_split))\n",
    "\n",
    "        # Разбиваем последовательность токенов класса на отрезки\n",
    "        vectors_train = seq_split(seq_list[cls][:gate_split], win_size, step)\n",
    "        vectors_test_val = seq_split(seq_list[cls][gate_split:], win_size, step)\n",
    "\n",
    "        # Разделение теста на val и test\n",
    "        val_split = len(vectors_test_val) // 2\n",
    "        vectors_val = vectors_test_val[:val_split]\n",
    "        vectors_test = vectors_test_val[val_split:]\n",
    "\n",
    "        # Добавляем отрезки в выборку\n",
    "        x_train.extend(vectors_train)\n",
    "        x_val.extend(vectors_val)\n",
    "        x_test.extend(vectors_test)\n",
    "\n",
    "        # Create one-hot encoded labels\n",
    "        class_label = to_categorical(cls, len(class_list))\n",
    "\n",
    "        # Для всех отрезков класса добавляем метки класса в виде one-hot-encoding\n",
    "        # Каждую метку берем len(vectors) раз, так она одинакова для всех выборок одного класса\n",
    "        y_train.extend([class_label] * len(vectors_train))\n",
    "        y_val.extend([class_label] * len(vectors_val))\n",
    "        y_test.extend([class_label] * len(vectors_test))\n",
    "\n",
    "    # Возвращаем результатов как numpy-массивов\n",
    "    return (\n",
    "        np.array(x_train),\n",
    "        np.array(y_train),\n",
    "        np.array(x_val),\n",
    "        np.array(y_val),\n",
    "        np.array(x_test),\n",
    "        np.array(y_test),\n",
    "    )"
   ]
  },
  {
   "cell_type": "code",
   "execution_count": null,
   "id": "b3d01f7a",
   "metadata": {
    "title": "cell"
   },
   "outputs": [],
   "source": [
    "x_train, y_train, x_val, y_val, x_test, y_test = seq_vectorize(\n",
    "    seq_train_balance, 0.1, CLASS_LIST_BALANCE, WIN_SIZE, WIN_STEP\n",
    ")\n",
    "print(f\"Форма входных данных для обучающей выборки: {x_train.shape}\")\n",
    "print(f\"Форма выходных данных (меток) для обучающей выборки: {y_train.shape}\")\n",
    "print(f\"Форма входных данных для валидационной выборки: {x_val.shape}\")\n",
    "print(f\"Форма выходных данных (меток) для валидационной выборки: {y_val.shape}\")\n",
    "print(f\"Форма входных данных для тестовой выборки: {x_test.shape}\")\n",
    "print(f\"Форма выходных данных (меток) для тестовой выборки: {y_test.shape}\")"
   ]
  },
  {
   "cell_type": "code",
   "execution_count": null,
   "id": "91acdb21",
   "metadata": {
    "title": "cell"
   },
   "outputs": [],
   "source": [
    "# Шаг 8. Определим вспомагательные функции\n",
    "# Вывод графиков точности и ошибки\n",
    "def show_plot(history, title=\"\"):\n",
    "    fig, (ax1, ax2) = plt.subplots(1, 2, figsize=(15, 5))\n",
    "    fig.suptitle(\"График процесса обучения модели: \" + title)\n",
    "    ax1.plot(history.history[\"accuracy\"], label=\"График точности на обучающей выборке\")\n",
    "    ax1.plot(\n",
    "        history.history[\"val_accuracy\"], label=\"График точности на проверочной выборке\"\n",
    "    )\n",
    "    ax1.xaxis.get_major_locator().set_params(\n",
    "        integer=True\n",
    "    )  # На оси х показываем целые числа\n",
    "    ax1.set_xlabel(\"Эпоха обучения\")\n",
    "    ax1.set_ylabel(\"График точности\")\n",
    "    ax1.legend()\n",
    "\n",
    "    ax2.plot(history.history[\"loss\"], label=\"Ошибка на обучающей выборке\")\n",
    "    ax2.plot(history.history[\"val_loss\"], label=\"Ошибка на проверочной выборке\")\n",
    "    ax2.xaxis.get_major_locator().set_params(\n",
    "        integer=True\n",
    "    )  # На оси х показываем целые числа\n",
    "    ax2.set_xlabel(\"Эпоха обучения\")\n",
    "    ax2.set_ylabel(\"Ошибка\")\n",
    "    ax2.legend()\n",
    "    plt.show()\n",
    "\n",
    "\n",
    "# Функция вывода предсказанных значений\n",
    "def show_confusion_matrix(y_true, y_pred, class_labels):\n",
    "    # Матрица ошибок\n",
    "    cm = confusion_matrix(\n",
    "        np.argmax(y_true, axis=1), np.argmax(y_pred, axis=1), normalize=\"true\"\n",
    "    )\n",
    "    # Округление значений матрицы ошибок\n",
    "    cm = np.around(cm, 3)\n",
    "\n",
    "    # Отрисовка матрицы ошибок\n",
    "    fig, ax = plt.subplots(figsize=(10, 10))\n",
    "    ax.set_title(f\"Матрица ошибок\", fontsize=18)\n",
    "    disp = ConfusionMatrixDisplay(confusion_matrix=cm, display_labels=class_labels)\n",
    "    disp.plot(ax=ax)\n",
    "    plt.gca().images[-1].colorbar.remove()  # Убираем ненужную цветовую шкалу\n",
    "    plt.xlabel(\"Предсказанные классы\", fontsize=16)\n",
    "    plt.ylabel(\"Верные классы\", fontsize=16)\n",
    "    fig.autofmt_xdate(rotation=45)  # Наклон меток горизонтальной оси\n",
    "    plt.show()\n",
    "\n",
    "    # Средняя точность распознавания определяется как среднее диагональных элементов матрицы ошибок\n",
    "    print(\n",
    "        \"\\nСредняя точность распознавания: {:3.0f}%\".format(\n",
    "            100.0 * cm.diagonal().mean()\n",
    "        )\n",
    "    )"
   ]
  },
  {
   "cell_type": "code",
   "execution_count": null,
   "id": "c7cc259d",
   "metadata": {
    "title": "cell"
   },
   "outputs": [],
   "source": [
    "def loadEmbedding():\n",
    "    word_index = tokenizer.word_index\n",
    "    embeddings_index = navec\n",
    "\n",
    "    embedding_matrix = np.zeros((max_words, embedding_dim))\n",
    "    for word, i in word_index.items():\n",
    "        if i < max_words:\n",
    "            embedding_vector = embeddings_index.get(word)\n",
    "            if embedding_vector is not None:\n",
    "                embedding_matrix[i] = embedding_vector\n",
    "\n",
    "    return embedding_matrix"
   ]
  },
  {
   "cell_type": "code",
   "execution_count": null,
   "id": "6c532a07",
   "metadata": {
    "title": "Markdown"
   },
   "outputs": [],
   "source": [
    "# # Рубрика Эксперименты!!!"
   ]
  },
  {
   "cell_type": "markdown",
   "id": "87a3884c",
   "metadata": {
    "id": "Ik4cj2FtPXVw"
   },
   "source": [
    "#### **Embedding(Natasha) + SimpleRNN(10) + Dropout(0.3)**"
   ]
  },
  {
   "cell_type": "code",
   "execution_count": null,
   "id": "b33e474a",
   "metadata": {
    "id": "1FLZplc4QZ-b"
   },
   "outputs": [],
   "source": [
    "# Создание последовательной модели нейросети\n",
    "model_SimpleRNN_1 = Sequential()\n",
    "\n",
    "model_SimpleRNN_1.add(\n",
    "    Embedding(max_words, embedding_dim, input_length=WIN_SIZE, weights=loadEmbedding())\n",
    ")\n",
    "\n",
    "# Слой регуляризации, \"выключает\" 1D карты объектов из эмбеддинг-векторов\n",
    "model_SimpleRNN_1.add(SpatialDropout1D(0.3))\n",
    "# Слой нормализации данных\n",
    "model_SimpleRNN_1.add(BatchNormalization())\n",
    "# Рекуррентный слой\n",
    "model_SimpleRNN_1.add(SimpleRNN(10))\n",
    "# Слой регуляризации Dropout для отдельных нейронов\n",
    "model_SimpleRNN_1.add(Dropout(0.3))\n",
    "# Выходной слой классификатора\n",
    "model_SimpleRNN_1.add(Dense(len(CLASS_LIST_BALANCE), activation=\"softmax\"))"
   ]
  },
  {
   "cell_type": "code",
   "execution_count": null,
   "id": "c8b7099c",
   "metadata": {
    "id": "LvPSibrmSWYk"
   },
   "outputs": [],
   "source": [
    "model_SimpleRNN_1 = loadEmbedding(model_SimpleRNN_1)"
   ]
  },
  {
   "cell_type": "code",
   "execution_count": null,
   "id": "2dab0c48",
   "metadata": {
    "colab": {
     "base_uri": "https://localhost:8080/"
    },
    "id": "fTDGwqvqKTlw",
    "lines_to_next_cell": 2,
    "outputId": "6f23372b-4d60-4e0a-d743-32500d204e91"
   },
   "outputs": [],
   "source": [
    "model_SimpleRNN_1.compile(\n",
    "    optimizer=\"adam\", loss=\"categorical_crossentropy\", metrics=[\"accuracy\"]\n",
    ")\n",
    "history = model_SimpleRNN_1.fit(\n",
    "    x_train, y_train, epochs=50, batch_size=128, validation_data=(x_val, y_val)\n",
    ")"
   ]
  },
  {
   "cell_type": "code",
   "execution_count": null,
   "id": "fcca6b71",
   "metadata": {
    "colab": {
     "base_uri": "https://localhost:8080/",
     "height": 400
    },
    "id": "tXhRPFU_IdIa",
    "outputId": "26e329a7-8593-4ca7-8be8-07a9afa13568"
   },
   "outputs": [],
   "source": [
    "show_plot(history, \"Embedding(Natasha) + SimpleRNN(10) + Dropout(0.3)\")"
   ]
  },
  {
   "cell_type": "code",
   "execution_count": null,
   "id": "728e25cb",
   "metadata": {
    "colab": {
     "base_uri": "https://localhost:8080/",
     "height": 899
    },
    "id": "hXB8iTN2IdvE",
    "outputId": "3c1be2de-c3d2-4c97-d4ac-11deeb24ab96"
   },
   "outputs": [],
   "source": [
    "y_pred = model_SimpleRNN_1.predict(x_test)\n",
    "show_confusion_matrix(y_test, y_pred, CLASS_LIST_BALANCE)"
   ]
  },
  {
   "cell_type": "markdown",
   "id": "2ce44d2e",
   "metadata": {
    "id": "sTZGUmSiT6FO"
   },
   "source": [
    "#### **Embedding(Natasha) + SimpleRNN(5) + Dropout(0.2)**"
   ]
  },
  {
   "cell_type": "code",
   "execution_count": null,
   "id": "7d5d5da7",
   "metadata": {
    "id": "3AW4rqsuUVNR"
   },
   "outputs": [],
   "source": [
    "# Создание последовательной модели нейросети\n",
    "model_SimpleRNN_2 = Sequential()\n",
    "\n",
    "model_SimpleRNN_2.add(\n",
    "    Embedding(max_words, embedding_dim, input_length=WIN_SIZE, weights=loadEmbedding())\n",
    ")\n",
    "\n",
    "# Слой регуляризации, \"выключает\" 1D карты объектов из эмбеддинг-векторов\n",
    "model_SimpleRNN_2.add(SpatialDropout1D(0.2))\n",
    "# Слой нормализации данных\n",
    "model_SimpleRNN_2.add(BatchNormalization())\n",
    "# Рекуррентный слой\n",
    "model_SimpleRNN_2.add(SimpleRNN(5))\n",
    "# Слой регуляризации Dropout для отдельных нейронов\n",
    "model_SimpleRNN_2.add(Dropout(0.2))\n",
    "# Выходной слой классификатора\n",
    "model_SimpleRNN_2.add(Dense(len(CLASS_LIST_BALANCE), activation=\"softmax\"))"
   ]
  },
  {
   "cell_type": "code",
   "execution_count": null,
   "id": "b9570f82",
   "metadata": {
    "id": "53vi2wnDUgHg"
   },
   "outputs": [],
   "source": [
    "model_SimpleRNN_2 = loadEmbedding(model_SimpleRNN_2)"
   ]
  },
  {
   "cell_type": "code",
   "execution_count": null,
   "id": "c4bdf104",
   "metadata": {
    "colab": {
     "base_uri": "https://localhost:8080/"
    },
    "id": "EVRFTgSRUyCX",
    "outputId": "faef14a9-6b7a-4282-81fa-fce91edc37df"
   },
   "outputs": [],
   "source": [
    "model_SimpleRNN_2.compile(\n",
    "    optimizer=\"adam\", loss=\"categorical_crossentropy\", metrics=[\"accuracy\"]\n",
    ")\n",
    "history2 = model_SimpleRNN_2.fit(\n",
    "    x_train, y_train, epochs=50, batch_size=128, validation_data=(x_val, y_val)\n",
    ")"
   ]
  },
  {
   "cell_type": "code",
   "execution_count": null,
   "id": "57b4d166",
   "metadata": {
    "colab": {
     "base_uri": "https://localhost:8080/",
     "height": 293
    },
    "id": "cmjow47GUyh5",
    "outputId": "b7dd3244-e229-4053-d267-4ef1d0e0bf79"
   },
   "outputs": [],
   "source": [
    "show_plot(history2, \"Embedding(Natasha) + SimpleRNN(40) + Dropout(0.3)\")"
   ]
  },
  {
   "cell_type": "code",
   "execution_count": null,
   "id": "26b2591e",
   "metadata": {
    "colab": {
     "base_uri": "https://localhost:8080/",
     "height": 899
    },
    "id": "HK3MjrZPVRiA",
    "outputId": "08da5de5-17a0-43e2-c947-09bd8f77fbf7"
   },
   "outputs": [],
   "source": [
    "y_pred2 = model_SimpleRNN_2.predict(x_test)\n",
    "show_confusion_matrix(y_test, y_pred2, CLASS_LIST_BALANCE)"
   ]
  },
  {
   "cell_type": "markdown",
   "id": "c9f2d206",
   "metadata": {
    "id": "GxMHGdDWUu3D"
   },
   "source": [
    "#### **Embedding(Natasha) + GRU(10) + Dropout(0.2)**"
   ]
  },
  {
   "cell_type": "markdown",
   "id": "3afb458f",
   "metadata": {
    "id": "BYbV58cXITpO"
   },
   "source": [
    "Слой GRU в Keras с параметрами регуляризации не считается на cuda ядрах GPU процессора. При запуске на GPU увидите предупреждение. Поэтому расчеты будут производиться долго и придется запастись терпением."
   ]
  },
  {
   "cell_type": "code",
   "execution_count": null,
   "id": "752a7d8b",
   "metadata": {
    "id": "gtCl2tu2YiHu",
    "lines_to_next_cell": 2
   },
   "outputs": [],
   "source": [
    "model_GRU_3 = Sequential()\n",
    "model_GRU_3.add(\n",
    "    Embedding(max_words, embedding_dim, input_length=WIN_SIZE, weights=loadEmbedding())\n",
    ")\n",
    "model_GRU_3.add(SpatialDropout1D(0.2))\n",
    "model_GRU_3.add(BatchNormalization())\n",
    "# Рекуррентный слой GRU\n",
    "model_GRU_3.add(GRU(10, dropout=0.2, recurrent_dropout=0.2, activation=\"relu\"))\n",
    "model_GRU_3.add(Dense(len(CLASS_LIST_BALANCE), activation=\"softmax\"))"
   ]
  },
  {
   "cell_type": "code",
   "execution_count": null,
   "id": "8f1d1fce",
   "metadata": {
    "colab": {
     "base_uri": "https://localhost:8080/"
    },
    "id": "YNPBsTd2Zf-J",
    "outputId": "6f22283e-259f-46c3-c83c-c9a6fe27d182"
   },
   "outputs": [],
   "source": [
    "model_GRU_3.compile(\n",
    "    optimizer=\"adam\", loss=\"categorical_crossentropy\", metrics=[\"accuracy\"]\n",
    ")\n",
    "history3 = model_GRU_3.fit(\n",
    "    x_train, y_train, epochs=20, batch_size=128, validation_data=(x_val, y_val)\n",
    ")"
   ]
  },
  {
   "cell_type": "code",
   "execution_count": null,
   "id": "2008b1b4",
   "metadata": {
    "colab": {
     "base_uri": "https://localhost:8080/",
     "height": 395
    },
    "id": "QdSrJMcfZg6-",
    "outputId": "4341062e-20ca-4f3d-c860-d997245f7c4e"
   },
   "outputs": [],
   "source": [
    "show_plot(history3, \"Embedding(Natasha) + GRU(10) + Dropout(0.2)\")"
   ]
  },
  {
   "cell_type": "code",
   "execution_count": null,
   "id": "fec97e97",
   "metadata": {
    "colab": {
     "base_uri": "https://localhost:8080/",
     "height": 899
    },
    "id": "PuF07KGRZkDA",
    "outputId": "38a086a9-e98b-48ea-b35e-03941dd89c4b"
   },
   "outputs": [],
   "source": [
    "y_pred3 = model_GRU_3.predict(x_test)\n",
    "show_confusion_matrix(y_test, y_pred3, CLASS_LIST_BALANCE)"
   ]
  },
  {
   "cell_type": "markdown",
   "id": "8d28fff5",
   "metadata": {
    "id": "VWYmu4eTbUIC"
   },
   "source": [
    "#### **Embedding(Natasha) + GRU(40) + Dropout(0.2)**"
   ]
  },
  {
   "cell_type": "code",
   "execution_count": null,
   "id": "d03ed3c1",
   "metadata": {
    "id": "UpglWSxebYMj",
    "lines_to_next_cell": 2
   },
   "outputs": [],
   "source": [
    "model_GRU_4 = Sequential()\n",
    "model_GRU_4.add(\n",
    "    Embedding(max_words, embedding_dim, input_length=WIN_SIZE, weights=loadEmbedding())\n",
    ")\n",
    "model_GRU_4.add(SpatialDropout1D(0.2))\n",
    "model_GRU_4.add(BatchNormalization())\n",
    "# Рекуррентный слой GRU\n",
    "model_GRU_4.add(GRU(40, dropout=0.2, recurrent_dropout=0.2, activation=\"relu\"))\n",
    "model_GRU_4.add(Dense(len(CLASS_LIST_BALANCE), activation=\"softmax\"))"
   ]
  },
  {
   "cell_type": "code",
   "execution_count": null,
   "id": "fd41570c",
   "metadata": {
    "colab": {
     "background_save": true,
     "base_uri": "https://localhost:8080/",
     "height": 408
    },
    "id": "tinAn7GFbffT",
    "outputId": "d18aaafe-0dad-4ff8-d734-f9fbf9e341bf"
   },
   "outputs": [],
   "source": [
    "model_GRU_4.compile(\n",
    "    optimizer=\"adam\", loss=\"categorical_crossentropy\", metrics=[\"accuracy\"]\n",
    ")\n",
    "history4 = model_GRU_4.fit(\n",
    "    x_train, y_train, epochs=20, batch_size=128, validation_data=(x_val, y_val)\n",
    ")"
   ]
  },
  {
   "cell_type": "code",
   "execution_count": null,
   "id": "15455df6",
   "metadata": {
    "colab": {
     "background_save": true
    },
    "id": "kB6wWn4qbjSz",
    "outputId": "60d6b00a-a797-4410-ac30-7743f03bbe5a"
   },
   "outputs": [],
   "source": [
    "show_plot(history4, \"Embedding(Natasha) + GRU(40) + Dropout(0.2)\")"
   ]
  },
  {
   "cell_type": "code",
   "execution_count": null,
   "id": "8fc5df04",
   "metadata": {
    "colab": {
     "background_save": true
    },
    "id": "sYKYzRxrbmsq",
    "outputId": "2ddaff8b-2464-456c-fba8-3a3978045d3a"
   },
   "outputs": [],
   "source": [
    "y_pred4 = model_GRU_4.predict(x_test)\n",
    "show_confusion_matrix(y_test, y_pred4, CLASS_LIST_BALANCE)"
   ]
  },
  {
   "cell_type": "markdown",
   "id": "624d54b6",
   "metadata": {
    "id": "YLH2PPQ0uG6m"
   },
   "source": [
    "#### **Embedding(Natasha) + LSTM(20) + Dropout(0.2)**"
   ]
  },
  {
   "cell_type": "code",
   "execution_count": null,
   "id": "2a19d6fd",
   "metadata": {
    "id": "PgrVnsL1uDNV",
    "lines_to_next_cell": 2
   },
   "outputs": [],
   "source": [
    "model_LSTM_5 = Sequential()\n",
    "model_LSTM_5.add(\n",
    "    Embedding(max_words, embedding_dim, input_length=WIN_SIZE, weights=loadEmbedding())\n",
    ")\n",
    "model_LSTM_5.add(SpatialDropout1D(0.2))\n",
    "model_LSTM_5.add(BatchNormalization())\n",
    "\n",
    "# Рекуррентный слой LSTM\n",
    "model_LSTM_5.add(LSTM(20))\n",
    "model_LSTM_5.add(Dense(len(CLASS_LIST_BALANCE), activation=\"softmax\"))"
   ]
  },
  {
   "cell_type": "code",
   "execution_count": null,
   "id": "b8e6e6ec",
   "metadata": {
    "colab": {
     "base_uri": "https://localhost:8080/"
    },
    "id": "PFu1Y1yGunR6",
    "outputId": "0e9f5ca6-99d8-4738-b94b-0ed35a755ac8"
   },
   "outputs": [],
   "source": [
    "model_LSTM_5.compile(\n",
    "    optimizer=\"adam\", loss=\"categorical_crossentropy\", metrics=[\"accuracy\"]\n",
    ")\n",
    "history5 = model_LSTM_5.fit(\n",
    "    x_train, y_train, epochs=50, batch_size=128, validation_data=(x_val, y_val)\n",
    ")"
   ]
  },
  {
   "cell_type": "code",
   "execution_count": null,
   "id": "f2db5cdb",
   "metadata": {
    "colab": {
     "base_uri": "https://localhost:8080/",
     "height": 402
    },
    "id": "g-mzGAwYuq3N",
    "outputId": "74048bdc-8ee0-4329-d396-3c4aaa60ba25"
   },
   "outputs": [],
   "source": [
    "show_plot(history5, \"Embedding(Natasha) + LSTM(20) + Dropout(0.2)\")"
   ]
  },
  {
   "cell_type": "code",
   "execution_count": null,
   "id": "31dcbe14",
   "metadata": {
    "colab": {
     "base_uri": "https://localhost:8080/",
     "height": 899
    },
    "id": "DH1oxQg2uqyj",
    "outputId": "050694a3-f76e-42a9-c93e-98372992e7da"
   },
   "outputs": [],
   "source": [
    "y_pred5 = model_LSTM_5.predict(x_test)\n",
    "show_confusion_matrix(y_test, y_pred5, CLASS_LIST_BALANCE)"
   ]
  },
  {
   "cell_type": "markdown",
   "id": "8929a74a",
   "metadata": {
    "id": "rFamFFTAvPuT"
   },
   "source": [
    "#### **Embedding(Natasha) + LSTM(100) + Dropout(0.3)**"
   ]
  },
  {
   "cell_type": "code",
   "execution_count": null,
   "id": "ca5dd0a0",
   "metadata": {
    "id": "weCdQaoBvPuU",
    "lines_to_next_cell": 2
   },
   "outputs": [],
   "source": [
    "model_LSTM_6 = Sequential()\n",
    "model_LSTM_6.add(\n",
    "    Embedding(max_words, embedding_dim, input_length=WIN_SIZE, weights=loadEmbedding())\n",
    ")\n",
    "model_LSTM_6.add(SpatialDropout1D(0.3))\n",
    "model_LSTM_6.add(BatchNormalization())\n",
    "\n",
    "# Рекуррентный слой LSTM\n",
    "model_LSTM_6.add(LSTM(100))\n",
    "model_LSTM_6.add(Dense(len(CLASS_LIST_BALANCE), activation=\"softmax\"))"
   ]
  },
  {
   "cell_type": "code",
   "execution_count": null,
   "id": "d3a77f58",
   "metadata": {
    "colab": {
     "base_uri": "https://localhost:8080/"
    },
    "id": "lQ9pgMbwvPuU",
    "outputId": "da070a06-3fb0-4ad7-b528-681c75b5185f"
   },
   "outputs": [],
   "source": [
    "model_LSTM_6.compile(\n",
    "    optimizer=\"adam\", loss=\"categorical_crossentropy\", metrics=[\"accuracy\"]\n",
    ")\n",
    "history6 = model_LSTM_6.fit(\n",
    "    x_train, y_train, epochs=50, batch_size=128, validation_data=(x_val, y_val)\n",
    ")"
   ]
  },
  {
   "cell_type": "code",
   "execution_count": null,
   "id": "7a329b74",
   "metadata": {
    "colab": {
     "base_uri": "https://localhost:8080/",
     "height": 497
    },
    "id": "Ii4jOw3wvPuU",
    "outputId": "11688f01-2a73-4237-faa1-fa9ac16336d3"
   },
   "outputs": [],
   "source": [
    "show_plot(history6, \"Embedding(Natasha) + LSTM(100) + Dropout(0.3)\")"
   ]
  },
  {
   "cell_type": "code",
   "execution_count": null,
   "id": "ef076ab9",
   "metadata": {
    "colab": {
     "base_uri": "https://localhost:8080/",
     "height": 899
    },
    "id": "9lg2eY0LvPuU",
    "outputId": "c5cc78d1-c49b-4341-95ca-cf97048c7769"
   },
   "outputs": [],
   "source": [
    "y_pred6 = model_LSTM_6.predict(x_test)\n",
    "show_confusion_matrix(y_test, y_pred6, CLASS_LIST_BALANCE)"
   ]
  },
  {
   "cell_type": "markdown",
   "id": "e2a87882",
   "metadata": {
    "id": "c5RfIC5loJ_E"
   },
   "source": [
    "#### **Embedding(Natasha) + BLSTM(8)x2 + GRU(16)x2 + Dropout(0.3) + Dense(100)**"
   ]
  },
  {
   "cell_type": "markdown",
   "id": "51109237",
   "metadata": {
    "id": "7dwIyZ-nzYoY"
   },
   "source": [
    "`Bidirectional(LSTM(8, return_sequences=True))` – этот слой\n",
    "активизирует двунаправленную сеть **LSTM**;\n",
    "\n",
    "`GRU(16, return_sequences=True, reset_after=True)` – параметр `reset_after=True` означает сброс данных."
   ]
  },
  {
   "cell_type": "code",
   "execution_count": null,
   "id": "8011188b",
   "metadata": {
    "id": "H6jCCMhPkseq",
    "lines_to_next_cell": 2
   },
   "outputs": [],
   "source": [
    "model_MIX = Sequential()\n",
    "model_MIX.add(\n",
    "    Embedding(max_words, embedding_dim, input_length=WIN_SIZE, weights=loadEmbedding())\n",
    ")\n",
    "model_MIX.add(SpatialDropout1D(0.3))\n",
    "model_MIX.add(BatchNormalization())\n",
    "\n",
    "# Два двунаправленных рекуррентных слоя LSTM\n",
    "model_MIX.add(Bidirectional(LSTM(8, return_sequences=True)))\n",
    "model_MIX.add(Bidirectional(LSTM(8, return_sequences=True)))\n",
    "model_MIX.add(Dropout(0.3))\n",
    "model_MIX.add(BatchNormalization())\n",
    "\n",
    "# Два рекуррентных слоя GRU\n",
    "model_MIX.add(GRU(16, return_sequences=True, reset_after=True))\n",
    "model_MIX.add(GRU(16, reset_after=True))\n",
    "model_MIX.add(Dropout(0.3))\n",
    "model_MIX.add(BatchNormalization())\n",
    "\n",
    "# Дополнительный полносвязный слой\n",
    "model_MIX.add(Dense(100, activation=\"relu\"))\n",
    "model_MIX.add(Dropout(0.3))\n",
    "model_MIX.add(BatchNormalization())\n",
    "model_MIX.add(Dense(len(CLASS_LIST_BALANCE), activation=\"softmax\"))"
   ]
  },
  {
   "cell_type": "code",
   "execution_count": null,
   "id": "ced1ec40",
   "metadata": {
    "colab": {
     "base_uri": "https://localhost:8080/"
    },
    "id": "m5kGicpop4BX",
    "outputId": "6167c480-124c-42a7-908a-4ef8cc419f5d"
   },
   "outputs": [],
   "source": [
    "model_MIX.compile(\n",
    "    optimizer=\"adam\", loss=\"categorical_crossentropy\", metrics=[\"accuracy\"]\n",
    ")\n",
    "history_mix = model_MIX.fit(\n",
    "    x_train, y_train, epochs=50, batch_size=128, validation_data=(x_val, y_val)\n",
    ")"
   ]
  },
  {
   "cell_type": "code",
   "execution_count": null,
   "id": "d6091094",
   "metadata": {
    "colab": {
     "base_uri": "https://localhost:8080/",
     "height": 402
    },
    "id": "HlsaGYsVp6aw",
    "outputId": "a01026fa-9ee3-41ed-9490-ac8ad97da4ab"
   },
   "outputs": [],
   "source": [
    "show_plot(\n",
    "    history_mix,\n",
    "    \"Embedding(Natasha) + BLSTM(8)x2 + GRU(16)x2 + Dropout(0.3) + Dense(100)\",\n",
    ")"
   ]
  },
  {
   "cell_type": "code",
   "execution_count": null,
   "id": "083546d3",
   "metadata": {
    "colab": {
     "base_uri": "https://localhost:8080/",
     "height": 899
    },
    "id": "8X9z3bSWp81A",
    "outputId": "851f3d68-90dd-4622-d64f-e51af396006e"
   },
   "outputs": [],
   "source": [
    "y_pred_mix = model_MIX.predict(x_test)\n",
    "show_confusion_matrix(y_test, y_pred_mix, CLASS_LIST_BALANCE)"
   ]
  },
  {
   "cell_type": "markdown",
   "id": "cb7acfb2",
   "metadata": {
    "id": "jXKOhmD35VZb"
   },
   "source": [
    "#### **Embedding(Natasha) + Conv1D(20)x2 + Dropout(0.2)**"
   ]
  },
  {
   "cell_type": "code",
   "execution_count": null,
   "id": "a1526350",
   "metadata": {
    "id": "MfXu7yDh5Vy6",
    "lines_to_next_cell": 2
   },
   "outputs": [],
   "source": [
    "model_Conv1D = Sequential()\n",
    "model_Conv1D.add(\n",
    "    Embedding(max_words, embedding_dim, input_length=WIN_SIZE, weights=loadEmbedding())\n",
    ")\n",
    "model_Conv1D.add(SpatialDropout1D(0.2))\n",
    "model_Conv1D.add(BatchNormalization())\n",
    "# Два слоя одномерной свертки Conv1D\n",
    "model_Conv1D.add(Conv1D(20, 5, activation=\"relu\", padding=\"same\"))\n",
    "model_Conv1D.add(Conv1D(20, 5, activation=\"relu\"))\n",
    "# Слой подвыборки/пулинга с функцией максимума\n",
    "model_Conv1D.add(MaxPooling1D(2))\n",
    "model_Conv1D.add(Dropout(0.2))\n",
    "# Слой пакетной нормализации\n",
    "model_Conv1D.add(BatchNormalization())\n",
    "# Слой выравнивания в вектор\n",
    "model_Conv1D.add(Flatten())\n",
    "model_Conv1D.add(Dense(len(CLASS_LIST_BALANCE), activation=\"softmax\"))"
   ]
  },
  {
   "cell_type": "code",
   "execution_count": null,
   "id": "92f1f042",
   "metadata": {
    "colab": {
     "base_uri": "https://localhost:8080/"
    },
    "id": "235x0NVq7MfZ",
    "outputId": "ad34b251-8e6b-461d-c1b9-cadaa46c7738"
   },
   "outputs": [],
   "source": [
    "model_Conv1D.compile(\n",
    "    optimizer=\"adam\", loss=\"categorical_crossentropy\", metrics=[\"accuracy\"]\n",
    ")\n",
    "history_1D = model_Conv1D.fit(\n",
    "    x_train, y_train, epochs=50, batch_size=128, validation_data=(x_val, y_val)\n",
    ")"
   ]
  },
  {
   "cell_type": "code",
   "execution_count": null,
   "id": "63a81416",
   "metadata": {
    "colab": {
     "base_uri": "https://localhost:8080/",
     "height": 287
    },
    "id": "8Ma02eMM7RUa",
    "outputId": "e9cb6543-82d0-4004-e4c4-8deeee769770"
   },
   "outputs": [],
   "source": [
    "show_plot(history_1D, \"Embedding(Natasha) + Conv1D(20)x2 + Dropout(0.2)\")"
   ]
  },
  {
   "cell_type": "code",
   "execution_count": null,
   "id": "f7c995b9",
   "metadata": {
    "colab": {
     "base_uri": "https://localhost:8080/",
     "height": 877
    },
    "id": "q81n6rBd7gQr",
    "outputId": "3e95728c-edad-4f75-f4cb-0969d07a057a"
   },
   "outputs": [],
   "source": [
    "y_pred_1d = model_Conv1D.predict(x_test)\n",
    "show_confusion_matrix(y_test, y_pred_1d, CLASS_LIST_BALANCE)"
   ]
  },
  {
   "cell_type": "markdown",
   "id": "0cbecd9b",
   "metadata": {
    "id": "7riJKlyc5mO3"
   },
   "source": [
    "#### **Embedding(Natasha) + Conv1D(20)x3 + LSTM(4)x2 + Dropout(0.2) + Dense(100)**"
   ]
  },
  {
   "cell_type": "code",
   "execution_count": null,
   "id": "338d55c2",
   "metadata": {
    "id": "YzYoqAol5mun",
    "lines_to_next_cell": 2
   },
   "outputs": [],
   "source": [
    "model_Conv_LSTM = Sequential()\n",
    "model_Conv_LSTM.add(\n",
    "    Embedding(max_words, embedding_dim, input_length=WIN_SIZE, weights=loadEmbedding())\n",
    ")\n",
    "model_Conv_LSTM.add(SpatialDropout1D(0.2))\n",
    "# Рекуррентный слой LSTM\n",
    "model_Conv_LSTM.add(LSTM(4, return_sequences=1))\n",
    "# Полносвязный слой\n",
    "model_Conv_LSTM.add(Dense(100, activation=\"relu\"))\n",
    "# Сверточный слой\n",
    "model_Conv_LSTM.add(Conv1D(20, 5, activation=\"relu\"))\n",
    "# Рекуррентный слой LSTM\n",
    "model_Conv_LSTM.add(LSTM(4, return_sequences=1))\n",
    "# Слой регуляризации Dropout\n",
    "model_Conv_LSTM.add(Dropout(0.2))\n",
    "# Слой пакетной нормализации\n",
    "model_Conv_LSTM.add(BatchNormalization())\n",
    "# Два сверточных слоя\n",
    "model_Conv_LSTM.add(Conv1D(20, 5, activation=\"relu\"))\n",
    "model_Conv_LSTM.add(Conv1D(20, 5, activation=\"relu\"))\n",
    "# Слой подвыборки/пулинга с функцией максимума\n",
    "model_Conv_LSTM.add(MaxPooling1D(2))\n",
    "model_Conv_LSTM.add(Dropout(0.2))\n",
    "model_Conv_LSTM.add(BatchNormalization())\n",
    "# Слой выравнивания в вектор\n",
    "model_Conv_LSTM.add(Flatten())\n",
    "model_Conv_LSTM.add(Dense(len(CLASS_LIST_BALANCE), activation=\"softmax\"))"
   ]
  },
  {
   "cell_type": "code",
   "execution_count": null,
   "id": "1ce22d22",
   "metadata": {
    "colab": {
     "base_uri": "https://localhost:8080/"
    },
    "id": "1ZKryvBN79W9",
    "outputId": "138d01f2-df18-4e1a-c175-b2b42a62fc05"
   },
   "outputs": [],
   "source": [
    "model_Conv_LSTM.compile(\n",
    "    optimizer=\"adam\", loss=\"categorical_crossentropy\", metrics=[\"accuracy\"]\n",
    ")\n",
    "history_1D_LSTM = model_Conv_LSTM.fit(\n",
    "    x_train, y_train, epochs=50, batch_size=128, validation_data=(x_val, y_val)\n",
    ")"
   ]
  },
  {
   "cell_type": "code",
   "execution_count": null,
   "id": "72729ab5",
   "metadata": {
    "colab": {
     "base_uri": "https://localhost:8080/",
     "height": 287
    },
    "id": "eysNPJan79W9",
    "outputId": "88f864d4-dc37-45ca-b51e-2ab15ca5e4d8"
   },
   "outputs": [],
   "source": [
    "show_plot(\n",
    "    history_1D_LSTM,\n",
    "    \"Embedding(Natasha) + Conv1D(20)x3 + LSTM(4)x2 + Dropout(0.2) + Dense(100)\",\n",
    ")"
   ]
  },
  {
   "cell_type": "code",
   "execution_count": null,
   "id": "d991d24c",
   "metadata": {
    "colab": {
     "base_uri": "https://localhost:8080/",
     "height": 877
    },
    "id": "sHT3Sm9b79W-",
    "lines_to_next_cell": 2,
    "outputId": "84f4f6f2-15ae-4000-9778-1000aea3df00"
   },
   "outputs": [],
   "source": [
    "y_pred_lstm = model_Conv_LSTM.predict(x_test)\n",
    "show_confusion_matrix(y_test, y_pred_lstm, CLASS_LIST_BALANCE)"
   ]
  },
  {
   "cell_type": "markdown",
   "id": "b5f213a2",
   "metadata": {},
   "source": [
    "1. Embedding(Natasha) + SimpleRNN(10) + Dropout(0.3) - **19%**\n",
    "2. Embedding(Natasha) + SimpleRNN(5) + Dropout(0.2)  - **20%**\n",
    "3. Embedding(Natasha) + GRU(10) + Dropout(0.2) - **75%**\n",
    "4. Embedding(Natasha) + GRU(40) + Dropout(0.2) - **86%**\n",
    "5. Embedding(Natasha) + LSTM(20) + Dropout(0.2) - **83%**\n",
    "6. Embedding(Natasha) + LSTM(100) + Dropout(0.3) - **83%**\n",
    "7. Embedding(Natasha) + BLSTM(8)x2 + GRU(16)x2 + Dropout(0.3) + Dense(100) - **89%**\n",
    "8. Embedding(Natasha) + Conv1D(20)x2 + Dropout(0.2) - **76%**\n",
    "9. Embedding(Natasha) + Conv1D(20)x3 + LSTM(4)x2 + Dropout(0.2) + Dense(100) - **77%**"
   ]
  }
 ],
 "metadata": {
  "colab": {
   "include_colab_link": true,
   "provenance": []
  },
  "jupytext": {
   "main_language": "python"
  },
  "kernelspec": {
   "display_name": "Python 3",
   "name": "python3"
  },
  "language_info": {
   "name": "python"
  }
 },
 "nbformat": 4,
 "nbformat_minor": 0
}
